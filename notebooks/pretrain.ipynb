{
 "cells": [
  {
   "cell_type": "code",
   "execution_count": 1,
   "id": "08b9c7b6-b4c1-4561-8985-c133b7c54e5a",
   "metadata": {},
   "outputs": [
    {
     "name": "stderr",
     "output_type": "stream",
     "text": [
      "/home/awills/anaconda3/envs/pyscfad/lib/python3.10/site-packages/pyscf/dft/libxc.py:772: UserWarning: Since PySCF-2.3, B3LYP (and B3P86) are changed to the VWN-RPA variant, the same to the B3LYP functional in Gaussian and ORCA (issue 1480). To restore the VWN5 definition, you can put the setting \"B3LYP_WITH_VWN5 = True\" in pyscf_conf.py\n",
      "  warnings.warn('Since PySCF-2.3, B3LYP (and B3P86) are changed to the VWN-RPA variant, '\n"
     ]
    }
   ],
   "source": [
    "# import pyscfad\n",
    "# from pyscfad import gto,dft,scf\n",
    "import pyscf\n",
    "from pyscf import gto,dft,scf"
   ]
  },
  {
   "cell_type": "code",
   "execution_count": 2,
   "id": "ff3495a9-9540-4120-92c8-01c0005c99d1",
   "metadata": {},
   "outputs": [
    {
     "name": "stderr",
     "output_type": "stream",
     "text": [
      "2024-04-16 13:39:35.230790: E external/xla/xla/stream_executor/cuda/cuda_driver.cc:280] failed call to cuInit: CUDA_ERROR_NO_DEVICE: no CUDA-capable device is detected\n"
     ]
    }
   ],
   "source": [
    "import numpy as np\n",
    "import jax.numpy as jnp\n",
    "import scipy\n",
    "from ase import Atoms\n",
    "from ase.io import read\n",
    "import xcquinox as xce\n",
    "from functools import partial\n",
    "from ase.units import Bohr\n",
    "import os, optax, jax\n"
   ]
  },
  {
   "cell_type": "code",
   "execution_count": 3,
   "id": "bc862ab5-4c49-465a-acbb-dca9a2ff288a",
   "metadata": {},
   "outputs": [],
   "source": [
    "def get_mol(atoms, basis='6-311++G**'):\n",
    "    pos = atoms.positions\n",
    "    spec = atoms.get_chemical_symbols()\n",
    "    mol_input = [[s, p] for s, p in zip(spec, pos)]\n",
    "    try:\n",
    "        mol = gto.Mole(atom=mol_input, basis=atoms.info.get('basis',basis),spin=atoms.info.get('spin',0))\n",
    "    except Exception:\n",
    "        mol = gto.Mole(atom=mol_input, basis=atoms.info.get('basis','STO-3G'),spin=atoms.info.get('spin',0))\n",
    "    return mol \n",
    "\n",
    "def get_rhos(rho, spin):\n",
    "    rho0 = rho[0,0]\n",
    "    drho = rho[0,1:4] + rho[1:4,0]\n",
    "    tau = 0.5*(rho[1,1] + rho[2,2] + rho[3,3])\n",
    "\n",
    "    if spin != 0:\n",
    "        rho0_a = rho0[0]\n",
    "        rho0_b = rho0[1]\n",
    "        gamma_a, gamma_b = jnp.einsum('ij,ij->j',drho[:,0],drho[:,0]), jnp.einsum('ij,ij->j',drho[:,1],drho[:,1])              \n",
    "        gamma_ab = jnp.einsum('ij,ij->j',drho[:,0],drho[:,1])\n",
    "        tau_a, tau_b = tau\n",
    "    else:\n",
    "        rho0_a = rho0_b = rho0*0.5\n",
    "        gamma_a=gamma_b=gamma_ab= jnp.einsum('ij,ij->j',drho[:],drho[:])*0.25\n",
    "        tau_a = tau_b = tau*0.5\n",
    "    return rho0_a, rho0_b, gamma_a, gamma_b, gamma_ab, tau_a, tau_b\n",
    "    \n",
    "def get_data_synth(xc_func, n=100):\n",
    "    def get_rho(s, a):\n",
    "        c0 = 2*(3*np.pi**2)**(1/3)\n",
    "        c1 = 3/10*(3*np.pi**2)**(2/3)\n",
    "        gamma = c0*s\n",
    "        tau = c1*a+c0**2*s**2/8\n",
    "        rho = np.zeros([len(a),6])\n",
    "        rho[:, 1] = gamma\n",
    "        rho[:,-1] = tau\n",
    "        rho[:, 0] = 1\n",
    "        return rho\n",
    "    \n",
    "    s_grid = jnp.concatenate([[0],jnp.exp(jnp.linspace(-10,4,n))])\n",
    "    rho = []\n",
    "    for s in s_grid:\n",
    "        if 'MGGA' in xc_func:\n",
    "            a_grid = jnp.concatenate([jnp.exp(jnp.linspace(jnp.log((s/100)+1e-8),8,n))])\n",
    "        else:\n",
    "            a_grid = jnp.array([0])\n",
    "        rho.append(get_rho(s, a_grid))\n",
    "        \n",
    "    rho = jnp.concatenate(rho)\n",
    "    \n",
    "    fxc =  dft.numint.libxc.eval_xc(xc_func,rho.T, spin=0)[0]/dft.numint.libxc.eval_xc('LDA_X',rho.T, spin=0)[0] -1\n",
    " \n",
    "    rho = jnp.asarray(rho)\n",
    "    \n",
    "    tdrho = xc.get_descriptors(rho[:,0]/2,rho[:,0]/2,(rho[:,1]/2)**2,(rho[:,1]/2)**2,(rho[:,1]/2)**2,rho[:,5]/2,rho[:,5]/2, spin_scaling=True)\n",
    "    \n",
    "\n",
    "\n",
    "    tFxc = torch.from_numpy(fxc)\n",
    "    return tdrho[0], tFxc\n",
    "\n",
    "def get_data(mol, xc_func ,full=False, enhance_spin=False, localnet=None):\n",
    "    print('mol: ', mol.atom)\n",
    "    mf = dft.RKS(mol)\n",
    "    print(mf)   \n",
    "    mf.xc = 'PBE'\n",
    "    mf.grids.level = 1\n",
    "    mf.kernel()\n",
    "    ao = mf._numint.eval_ao(mol, mf.grids.coords, deriv=2)\n",
    "    dm = mf.make_rdm1()\n",
    "    if len(dm.shape) == 2:\n",
    "        dm = np.array([0.5*dm, 0.5*dm])\n",
    "    print('ao.shape', ao.shape)\n",
    "    if not full:\n",
    "        mf.grids.coords = coords\n",
    "        mf.grids.weights = weights\n",
    "    if localnet.spin_scaling:\n",
    "        print('spin scaling, indicates exchange network')\n",
    "        rho_alpha = mf._numint.eval_rho(mol, ao, dm[0], xctype='metaGGA',hermi=True)\n",
    "        rho_beta = mf._numint.eval_rho(mol, ao, dm[1], xctype='metaGGA',hermi=True)\n",
    "        fxc_a =  mf._numint.eval_xc(xc_func,(rho_alpha,rho_alpha*0), spin=1)[0]/mf._numint.eval_xc('LDA_X',(rho_alpha,rho_alpha*0), spin=1)[0] -1\n",
    "        fxc_b =  mf._numint.eval_xc(xc_func,(rho_beta*0,rho_beta), spin=1)[0]/mf._numint.eval_xc('LDA_X',(rho_beta*0,rho_beta), spin=1)[0] -1\n",
    "        print('fxc with xc_func = {} = {}'.format(fxc_a, xc_func))\n",
    "\n",
    "        if mol.spin != 0 and sum(mol.nelec)>1:\n",
    "            rho = jnp.concatenate([rho_alpha, rho_beta])\n",
    "            fxc = jnp.concatenate([fxc_a, fxc_b])\n",
    "        else:\n",
    "            rho = rho_alpha\n",
    "            fxc = fxc_a\n",
    "    else:    \n",
    "        print('no spin scaling, indicates correlation network')\n",
    "        rho_alpha = mf._numint.eval_rho(mol, ao, dm[0], xctype='metaGGA',hermi=True)\n",
    "        rho_beta = mf._numint.eval_rho(mol, ao, dm[1], xctype='metaGGA',hermi=True)\n",
    "        exc = mf._numint.eval_xc(xc_func,(rho_alpha,rho_beta), spin=1)[0]\n",
    "        print('exc with xc_func = {} = {}'.format(exc, xc_func))\n",
    "        fxc = exc/mf._numint.eval_xc('LDA_C_PW',(rho_alpha, rho_beta), spin=1)[0] -1\n",
    "        rho = jnp.stack([rho_alpha,rho_beta], axis=-1)\n",
    "    \n",
    "    dm = jnp.array(mf.make_rdm1())\n",
    "    print('get_data, dm shape = {}'.format(dm.shape))\n",
    "    ao_eval = jnp.array(mf._numint.eval_ao(mol, mf.grids.coords, deriv=1))\n",
    "    rho = jnp.einsum('xij,yik,...jk->xy...i', ao_eval, ao_eval, dm)\n",
    "    print('rho shape', rho.shape)\n",
    "    if dm.ndim == 3:\n",
    "        rho_filt = (jnp.sum(rho[0,0],axis=0) > 1e-6)\n",
    "    else:\n",
    "        rho_filt = (rho[0,0] > 1e-6)\n",
    "    print('rho_filt shape:', rho_filt.shape)\n",
    "\n",
    "    \n",
    "    mf.converged=True\n",
    "    tdrho = xc.get_descriptors(*get_rhos(rho, spin=mol.spin), spin_scaling=localnet.spin_scaling, mf=mf, dm=dm)\n",
    "    print('tdrho shape from get_descriptors', tdrho.shape)\n",
    "        \n",
    "    if localnet.spin_scaling:\n",
    "        if mol.spin != 0 and sum(mol.nelec) > 1:\n",
    "            #tdrho not returned in a spin-polarized form regardless,\n",
    "            #but the enhancement factors sampled as polarized, so double\n",
    "            tdrho = jnp.concatenate([tdrho,tdrho])\n",
    "            rho_filt = jnp.concatenate([rho_filt]*2)\n",
    "        elif sum(mol.nelec) == 1:\n",
    "            pass\n",
    "    \n",
    "    tdrho = tdrho[rho_filt]\n",
    "    # tdrho = tdrho\n",
    "    print('tdrho[rho_filt], rho_filt shapes:', tdrho.shape, rho_filt.shape)\n",
    "    print('fxc shape', fxc.shape)\n",
    "    tFxc = jnp.array(fxc)[rho_filt]\n",
    "    # tFxc = jnp.array(fxc)\n",
    "    print('returned tdrho, tFxc shape: ', tdrho.shape, tFxc.shape)\n",
    "    return tdrho, tFxc"
   ]
  },
  {
   "cell_type": "code",
   "execution_count": 4,
   "id": "eb5b74f8-9bdb-47b4-b639-a2bb0f6bbd88",
   "metadata": {},
   "outputs": [
    {
     "name": "stdout",
     "output_type": "stream",
     "text": [
      "WARNING: External module \"mldftdat\" required for non-local descriptor use.\n"
     ]
    }
   ],
   "source": [
    "PRETRAIN_LEVEL = 'NONLOCAL'\n",
    "\n",
    "TRAIN_NET = 'x'\n",
    "\n",
    "REFERENCE_XC = 'PBE0'\n",
    "\n",
    "N_HIDDEN = 16\n",
    "DEPTH = 3\n",
    "if PRETRAIN_LEVEL == 'GGA':\n",
    "    if TRAIN_NET == 'x':\n",
    "        localx = xce.net.eX(n_input=1, n_hidden=N_HIDDEN, use=[1], depth=DEPTH, lob=1.804)\n",
    "    elif TRAIN_NET == 'c':\n",
    "        localc = xce.net.eC(n_input=3, n_hidden=N_HIDDEN, use=[2], depth=DEPTH, ueg_limit=True)\n",
    "elif PRETRAIN_LEVEL == 'MGGA':\n",
    "    if TRAIN_NET == 'x':\n",
    "        localx = xce.net.eX(n_input=2, n_hidden=N_HIDDEN, use=[1, 2], depth=DEPTH, ueg_limit=True, lob=1.174)\n",
    "    elif TRAIN_NET == 'c':\n",
    "        localc = xce.net.eC(n_input=4, n_hidden=N_HIDDEN, depth=DEPTH, use=[2,3], ueg_limit=True)\n",
    "elif PRETRAIN_LEVEL == 'NONLOCAL':\n",
    "    if TRAIN_NET == 'x':\n",
    "        localx = xce.net.eX(n_input=15, n_hidden=N_HIDDEN, depth=DEPTH, ueg_limit=True, lob=1.174)\n",
    "    elif TRAIN_NET == 'c':\n",
    "        #n_input = 4 from base, 12 from NL\n",
    "        localc = xce.net.eC(n_input=16, n_hidden=N_HIDDEN, depth=DEPTH, ueg_limit=True)\n",
    "\n",
    "if TRAIN_NET == 'x':\n",
    "    thislocal = localx\n",
    "else:\n",
    "    thislocal = localc\n",
    "ueg = xce.xc.LDA_X()\n",
    "xc = xce.xc.eXC(grid_models=[thislocal], heg_mult=True, level= {'GGA':2, 'MGGA':3, 'NONLOCAL':4}[PRETRAIN_LEVEL])"
   ]
  },
  {
   "cell_type": "code",
   "execution_count": 5,
   "id": "fc935919-401c-449d-aca9-e423cf20792d",
   "metadata": {},
   "outputs": [
    {
     "name": "stdout",
     "output_type": "stream",
     "text": [
      "<pyscf.gto.mole.Mole object at 0x7fed050732b0> [['P', array([0., 0., 0.])]] 1\n",
      "<pyscf.gto.mole.Mole object at 0x7fed05073790> [['N', array([0., 0., 0.])]] 1\n",
      "<pyscf.gto.mole.Mole object at 0x7fed050718a0> [['H', array([0., 0., 0.])]] 1\n",
      "<pyscf.gto.mole.Mole object at 0x7fed05070280> [['Li', array([0., 0., 0.])]] 1\n",
      "<pyscf.gto.mole.Mole object at 0x7fed05071b40> [['O', array([0., 0., 0.])]] 1\n",
      "<pyscf.gto.mole.Mole object at 0x7fed05073430> [['Cl', array([0., 0., 0.])]] 1\n",
      "<pyscf.gto.mole.Mole object at 0x7fed050715a0> [['Al', array([0., 0., 0.])]] 1\n",
      "<pyscf.gto.mole.Mole object at 0x7fed05073100> [['S', array([0., 0., 0.])]] 1\n",
      "<pyscf.gto.mole.Mole object at 0x7fed050726e0> [['H', array([0.      , 0.      , 0.371395])], ['H', array([ 0.      ,  0.      , -0.371395])]] 2\n",
      "<pyscf.gto.mole.Mole object at 0x7fed05073640> [['N', array([0.      , 0.      , 0.549396])], ['N', array([ 0.      ,  0.      , -0.549396])]] 2\n",
      "<pyscf.gto.mole.Mole object at 0x7fed050738b0> [['Li', array([ 0.      ,  0.      , -1.172697])], ['F', array([0.      , 0.      , 0.390899])]] 2\n",
      "<pyscf.gto.mole.Mole object at 0x7fed050735b0> [['C', array([ 0.      ,  0.      , -0.499686])], ['N', array([0.      , 0.      , 0.652056])], ['H', array([ 0.        ,  0.        , -1.56627401])]] 3\n",
      "<pyscf.gto.mole.Mole object at 0x7fed05073670> [['C', array([0., 0., 0.])], ['O', array([0.      , 0.      , 1.162879])], ['O', array([ 0.      ,  0.      , -1.162879])]] 3\n",
      "<pyscf.gto.mole.Mole object at 0x7fed05071630> [['Cl', array([0.      , 0.      , 1.008241])], ['Cl', array([ 0.      ,  0.      , -1.008241])]] 2\n",
      "<pyscf.gto.mole.Mole object at 0x7fed05070160> [['F', array([0.      , 0.      , 0.693963])], ['F', array([ 0.      ,  0.      , -0.693963])]] 2\n",
      "<pyscf.gto.mole.Mole object at 0x7fed05073970> [['O', array([0.      , 0.      , 0.603195])], ['O', array([ 0.      ,  0.      , -0.603195])]] 2\n",
      "<pyscf.gto.mole.Mole object at 0x7fed050708e0> [['C', array([0.      , 0.      , 0.599454])], ['C', array([ 0.      ,  0.      , -0.599454])], ['H', array([ 0.        ,  0.        , -1.66162301])], ['H', array([0.        , 0.        , 1.66162301])]] 4\n",
      "<pyscf.gto.mole.Mole object at 0x7fed050713f0> [['O', array([0.      , 0.      , 0.484676])], ['C', array([ 0.      ,  0.      , -0.646235])]] 2\n",
      "<pyscf.gto.mole.Mole object at 0x7fed050736a0> [['Cl', array([0.      , 0.      , 0.071315])], ['H', array([ 0.      ,  0.      , -1.212358])]] 2\n",
      "<pyscf.gto.mole.Mole object at 0x7fed050701f0> [['Li', array([0.      , 0.      , 0.403632])], ['H', array([ 0.      ,  0.      , -1.210897])]] 2\n",
      "<pyscf.gto.mole.Mole object at 0x7fed05073310> [['Na', array([0.        , 0.        , 1.50747901])], ['Na', array([ 0.        ,  0.        , -1.50747901])]] 2\n",
      "<pyscf.gto.mole.Mole object at 0x7fed05073d30> [['Al', array([0., 0., 0.])], ['Cl', array([0.        , 2.08019101, 0.        ])], ['Cl', array([ 1.80149801, -1.040095  ,  0.        ])], ['Cl', array([-1.80149801, -1.040095  ,  0.        ])]] 4\n",
      "<pyscf.gto.mole.Mole object at 0x7fed05072f80> [['P', array([0.      , 0.      , 0.128906])], ['H', array([ 0.      ,  1.19333 , -0.644531])], ['H', array([ 1.033455, -0.596665, -0.644531])], ['H', array([-1.033455, -0.596665, -0.644531])]] 4\n",
      "<pyscf.gto.mole.Mole object at 0x7fed05071f60> [['Si', array([0.      , 0.      , 1.135214])], ['Si', array([ 0.      ,  0.      , -1.135214])]] 2\n",
      "<pyscf.gto.mole.Mole object at 0x7fed05072920> [['C', array([0., 0., 0.])], ['H', array([0.630382, 0.630382, 0.630382])], ['H', array([-0.630382, -0.630382,  0.630382])], ['H', array([ 0.630382, -0.630382, -0.630382])], ['H', array([-0.630382,  0.630382, -0.630382])]] 5\n",
      "<pyscf.gto.mole.Mole object at 0x7fed05072da0> [['C', array([0.      , 0.      , 0.179918])], ['H', array([ 0.      ,  0.855475, -0.539754])], ['H', array([ 0.      , -0.855475, -0.539754])]] 3\n",
      "<pyscf.gto.mole.Mole object at 0x7fed05072ef0> [['Si', array([0., 0., 0.])], ['H', array([0.855876, 0.855876, 0.855876])], ['H', array([-0.855876, -0.855876,  0.855876])], ['H', array([-0.855876,  0.855876, -0.855876])], ['H', array([ 0.855876, -0.855876, -0.855876])]] 5\n"
     ]
    }
   ],
   "source": [
    "spins = {\n",
    "    'Al': 1,\n",
    "    'B' : 1,\n",
    "    'Li': 1,\n",
    "    'Na': 1,\n",
    "    'Si': 2 ,\n",
    "    'Be':0,\n",
    "    'C': 2,\n",
    "    'Cl': 1,\n",
    "    'F': 1,\n",
    "    'H': 1,\n",
    "    'N': 3,\n",
    "    'O': 2,\n",
    "    'P': 3,\n",
    "    'S': 2\n",
    "}\n",
    "\n",
    "selection = [2, 113, 25, 18, 11, 17, 114, 121, 101, 0, 20, 26, 29, 67, 28, 110, 125, 10, 115, 89, 105, 50]\n",
    "try:\n",
    "    atoms = [read('/home/awills/Documents/Research/ogdpyscf/dpyscf/data/haunschild_g2/g2_97.traj',':')[s] for s in selection]\n",
    "except:\n",
    "    atoms = [read('/home/awills/Documents/Research/ogdpyscf/data/haunschild_g2/g2_97.traj',':')[s] for s in selection]\n",
    "ksr_atoms = atoms\n",
    "if PRETRAIN_LEVEL=='MGGA':\n",
    "    ksr_atoms = ksr_atoms[2:]\n",
    "ksr_atoms = [Atoms('P',info={'spin':3}), Atoms('N', info={'spin':3}), Atoms('H', info={'spin':1}),Atoms('Li', info={'spin':1}), Atoms('O',info={'spin':2}),Atoms('Cl',info={'spin':1}),Atoms('Al',info={'spin':1}), Atoms('S',info={'spin':2})] + ksr_atoms\n",
    "# ksr_atoms = [Atoms('H',info={'spin':1})]\n",
    "mols = [get_mol(atoms) for atoms in ksr_atoms]\n",
    "mols = [i for i in mols if len(i.atom) < 8]\n",
    "for i in mols:\n",
    "    print(i, i.atom, len(i.atom))"
   ]
  },
  {
   "cell_type": "code",
   "execution_count": 6,
   "id": "c09eb552-027d-4bcd-a3b0-7e7bb70c5a20",
   "metadata": {
    "scrolled": true
   },
   "outputs": [
    {
     "name": "stdout",
     "output_type": "stream",
     "text": [
      "mol:  [['P', array([0., 0., 0.])]]\n",
      "ROKS object of <class 'pyscf.dft.roks.ROKS'>\n"
     ]
    },
    {
     "name": "stderr",
     "output_type": "stream",
     "text": [
      "Warning: <pyscf.gto.mole.Mole object at 0x7fed050732b0> must be initialized before calling SCF.\n",
      "Initialize <pyscf.gto.mole.Mole object at 0x7fed050732b0> in ROKS object of <class 'pyscf.dft.roks.ROKS'>\n"
     ]
    },
    {
     "name": "stdout",
     "output_type": "stream",
     "text": [
      "converged SCF energy = -341.103975305829\n",
      "ao.shape (10, 6320, 30)\n",
      "spin scaling, indicates exchange network\n",
      "fxc with xc_func = [ 0.35227731  0.35296584  0.33914136 ... -0.24267484 -0.24267484\n",
      " -0.24267484] = PBE0\n",
      "get_data, dm shape = (2, 30, 30)\n",
      "rho shape (4, 4, 2, 6320)\n",
      "rho_filt shape: (6320,)\n",
      "Shape mo_coeff present, will pad vele_mat\n",
      "Initial vele_mat shape:  (30, 30, 6320)\n",
      "shape_mo_coeff shape:  (30, 30)\n",
      "Will try to pad to:  [(0, 0), (0, 0), (0, 0)]\n",
      "get_vele_mat, returned shape: (30, 30, 6320)\n",
      "get_vele_mat, points shape: (6320, 3)\n",
      "Evaluating MGGA Data; shapes: \n",
      "grid.coords = (6320, 3)\n",
      "generated ao_data = (20, 6320, 30)\n",
      "rdm1 input shape: (2, 30, 30)\n",
      "ao_data shape will be padded to match rdm1\n",
      "paddeds ao_data = (20, 6320, 30)\n",
      "nl_4, descr5 shape: (2, 12, 6320)\n",
      "descr shape:  (6320, 6)\n",
      "descr5 shape:  (6320, 12)\n",
      "tdrho shape from get_descriptors (6320, 18)\n",
      "tdrho[rho_filt], rho_filt shapes: (10940, 18) (12640,)\n",
      "fxc shape (12640,)\n",
      "returned tdrho, tFxc shape:  (10940, 18) (10940,)\n",
      "mol:  [['N', array([0., 0., 0.])]]\n",
      "ROKS object of <class 'pyscf.dft.roks.ROKS'>\n"
     ]
    },
    {
     "name": "stderr",
     "output_type": "stream",
     "text": [
      "Warning: <pyscf.gto.mole.Mole object at 0x7fed05073790> must be initialized before calling SCF.\n",
      "Initialize <pyscf.gto.mole.Mole object at 0x7fed05073790> in ROKS object of <class 'pyscf.dft.roks.ROKS'>\n"
     ]
    },
    {
     "name": "stdout",
     "output_type": "stream",
     "text": [
      "converged SCF energy = -54.5278183883327\n",
      "ao.shape (10, 5184, 22)\n",
      "spin scaling, indicates exchange network\n",
      "fxc with xc_func = [ 0.35208183  0.35288518  0.35299592 ... -0.2364243  -0.2364243\n",
      " -0.2364243 ] = PBE0\n",
      "get_data, dm shape = (2, 22, 22)\n",
      "rho shape (4, 4, 2, 5184)\n",
      "rho_filt shape: (5184,)\n"
     ]
    },
    {
     "name": "stderr",
     "output_type": "stream",
     "text": [
      "/tmp/ipykernel_302580/2588315001.py:82: RuntimeWarning: invalid value encountered in divide\n",
      "  fxc_b =  mf._numint.eval_xc(xc_func,(rho_beta*0,rho_beta), spin=1)[0]/mf._numint.eval_xc('LDA_X',(rho_beta*0,rho_beta), spin=1)[0] -1\n"
     ]
    },
    {
     "name": "stdout",
     "output_type": "stream",
     "text": [
      "Shape mo_coeff present, will pad vele_mat\n",
      "Initial vele_mat shape:  (22, 22, 5184)\n",
      "shape_mo_coeff shape:  (22, 22)\n",
      "Will try to pad to:  [(0, 0), (0, 0), (0, 0)]\n",
      "get_vele_mat, returned shape: (22, 22, 5184)\n",
      "get_vele_mat, points shape: (5184, 3)\n",
      "Evaluating MGGA Data; shapes: \n",
      "grid.coords = (5184, 3)\n",
      "generated ao_data = (20, 5184, 22)\n",
      "rdm1 input shape: (2, 22, 22)\n",
      "ao_data shape will be padded to match rdm1\n",
      "paddeds ao_data = (20, 5184, 22)\n",
      "nl_4, descr5 shape: (2, 12, 5184)\n",
      "descr shape:  (5184, 6)\n",
      "descr5 shape:  (5184, 12)\n",
      "tdrho shape from get_descriptors (5184, 18)\n",
      "tdrho[rho_filt], rho_filt shapes: (8668, 18) (10368,)\n",
      "fxc shape (10368,)\n",
      "returned tdrho, tFxc shape:  (8668, 18) (8668,)\n",
      "mol:  [['H', array([0., 0., 0.])]]\n",
      "ROKS object of <class 'pyscf.dft.roks.ROKS'>\n"
     ]
    },
    {
     "name": "stderr",
     "output_type": "stream",
     "text": [
      "Warning: <pyscf.gto.mole.Mole object at 0x7fed050718a0> must be initialized before calling SCF.\n",
      "Initialize <pyscf.gto.mole.Mole object at 0x7fed050718a0> in ROKS object of <class 'pyscf.dft.roks.ROKS'>\n"
     ]
    },
    {
     "name": "stdout",
     "output_type": "stream",
     "text": [
      "converged SCF energy = -0.49981298402386\n",
      "ao.shape (10, 2488, 7)\n",
      "spin scaling, indicates exchange network\n",
      "fxc with xc_func = [ 0.35187063  0.35279876  0.35299579 ... -0.19767117 -0.19767117\n",
      " -0.19767117] = PBE0\n",
      "get_data, dm shape = (2, 7, 7)\n",
      "rho shape (4, 4, 2, 2488)\n",
      "rho_filt shape: (2488,)\n",
      "Shape mo_coeff present, will pad vele_mat\n",
      "Initial vele_mat shape:  (7, 7, 2488)\n",
      "shape_mo_coeff shape:  (7, 7)\n",
      "Will try to pad to:  [(0, 0), (0, 0), (0, 0)]\n",
      "get_vele_mat, returned shape: (7, 7, 2488)\n",
      "get_vele_mat, points shape: (2488, 3)\n",
      "Evaluating MGGA Data; shapes: \n",
      "grid.coords = (2488, 3)\n",
      "generated ao_data = (20, 2488, 7)\n",
      "rdm1 input shape: (2, 7, 7)\n",
      "ao_data shape will be padded to match rdm1\n",
      "paddeds ao_data = (20, 2488, 7)\n",
      "nl_4, descr5 shape: (2, 12, 2488)\n",
      "descr shape:  (2488, 6)\n",
      "descr5 shape:  (2488, 12)\n",
      "tdrho shape from get_descriptors (2488, 18)\n",
      "tdrho[rho_filt], rho_filt shapes: (2144, 18) (2488,)\n",
      "fxc shape (2488,)\n",
      "returned tdrho, tFxc shape:  (2144, 18) (2144,)\n",
      "mol:  [['Li', array([0., 0., 0.])]]\n"
     ]
    },
    {
     "name": "stderr",
     "output_type": "stream",
     "text": [
      "Warning: <pyscf.gto.mole.Mole object at 0x7fed05070280> must be initialized before calling SCF.\n",
      "Initialize <pyscf.gto.mole.Mole object at 0x7fed05070280> in ROKS object of <class 'pyscf.dft.roks.ROKS'>\n"
     ]
    },
    {
     "name": "stdout",
     "output_type": "stream",
     "text": [
      "ROKS object of <class 'pyscf.dft.roks.ROKS'>\n",
      "converged SCF energy = -7.46006139980431\n",
      "ao.shape (10, 4640, 22)\n",
      "spin scaling, indicates exchange network\n",
      "fxc with xc_func = [0.34328499 0.3516925  0.3516925  ... 0.3516925  0.2854847  0.32157416] = PBE0\n",
      "get_data, dm shape = (2, 22, 22)\n",
      "rho shape (4, 4, 2, 4640)\n",
      "rho_filt shape: (4640,)\n",
      "Shape mo_coeff present, will pad vele_mat\n",
      "Initial vele_mat shape:  (22, 22, 4640)\n",
      "shape_mo_coeff shape:  (22, 22)\n",
      "Will try to pad to:  [(0, 0), (0, 0), (0, 0)]\n",
      "get_vele_mat, returned shape: (22, 22, 4640)\n",
      "get_vele_mat, points shape: (4640, 3)\n",
      "Evaluating MGGA Data; shapes: \n",
      "grid.coords = (4640, 3)\n",
      "generated ao_data = (20, 4640, 22)\n",
      "rdm1 input shape: (2, 22, 22)\n",
      "ao_data shape will be padded to match rdm1\n",
      "paddeds ao_data = (20, 4640, 22)\n",
      "nl_4, descr5 shape: (2, 12, 4640)\n",
      "descr shape:  (4640, 6)\n",
      "descr5 shape:  (4640, 12)\n",
      "tdrho shape from get_descriptors (4640, 18)\n",
      "tdrho[rho_filt], rho_filt shapes: (8600, 18) (9280,)\n",
      "fxc shape (9280,)\n",
      "returned tdrho, tFxc shape:  (8600, 18) (8600,)\n",
      "mol:  [['O', array([0., 0., 0.])]]\n"
     ]
    },
    {
     "name": "stderr",
     "output_type": "stream",
     "text": [
      "Warning: <pyscf.gto.mole.Mole object at 0x7fed05071b40> must be initialized before calling SCF.\n",
      "Initialize <pyscf.gto.mole.Mole object at 0x7fed05071b40> in ROKS object of <class 'pyscf.dft.roks.ROKS'>\n"
     ]
    },
    {
     "name": "stdout",
     "output_type": "stream",
     "text": [
      "ROKS object of <class 'pyscf.dft.roks.ROKS'>\n"
     ]
    },
    {
     "name": "stderr",
     "output_type": "stream",
     "text": [
      "\n",
      "KeyboardInterrupt\n",
      "\n"
     ]
    }
   ],
   "source": [
    "# data = [get_data(mol, xc_func=ref, full=i<14) for i,mol in enumerate(mols)]\n",
    "ref = 'PBE0'\n",
    "data = [get_data(mol, xc_func=ref,full=True, localnet=thislocal) for i,mol in enumerate(mols)]\n",
    "# \n",
    "# data = [get_data_synth(ref, 100)]\n",
    "tdrho = jnp.concatenate([d[0] for d in data])\n",
    "tFxc = jnp.concatenate([d[1] for d in data])"
   ]
  },
  {
   "cell_type": "code",
   "execution_count": null,
   "id": "f7f45ce9-18ef-4535-868c-cf66adc06778",
   "metadata": {},
   "outputs": [],
   "source": [
    "nan_filt = ~jnp.any((tdrho != tdrho),axis=-1)\n",
    "\n",
    "tFxc = tFxc[nan_filt]\n",
    "tdrho = tdrho[nan_filt,:]"
   ]
  },
  {
   "cell_type": "code",
   "execution_count": null,
   "id": "27650b8e-1d55-4408-a389-bad72f2ca469",
   "metadata": {},
   "outputs": [],
   "source": [
    "tdrho[::].shape, tdrho[::], tFxc.shape, tFxc"
   ]
  },
  {
   "cell_type": "code",
   "execution_count": null,
   "id": "5dc7dc1c-eac2-4843-85a3-c80cde8b3ded",
   "metadata": {},
   "outputs": [],
   "source": [
    "np.sum([(0,0),(0,0),(0,0)])"
   ]
  },
  {
   "cell_type": "code",
   "execution_count": null,
   "id": "558c5fc1-a90c-4aff-af01-ca7bf3d06cd6",
   "metadata": {},
   "outputs": [],
   "source": [
    "cpus = jax.devices(backend='cpu')"
   ]
  },
  {
   "cell_type": "code",
   "execution_count": null,
   "id": "4b1ccd3b-745d-4e4b-96bd-8e8983c967b4",
   "metadata": {
    "scrolled": true
   },
   "outputs": [],
   "source": [
    "PRINT_EVERY=200\n",
    "scheduler = optax.exponential_decay(init_value = 1e-2, transition_begin=50, transition_steps=1000, decay_rate=0.9)\n",
    "# optimizer = optax.adam(learning_rate = 1e-2)\n",
    "optimizer = optax.adam(learning_rate = scheduler)\n",
    "\n",
    "class PT_E_Loss():\n",
    "\n",
    "    def __call__(self, model, inp, ref):\n",
    "\n",
    "        pred = jax.vmap(model.net)(inp)[:, 0]\n",
    "\n",
    "        err = pred-ref\n",
    "\n",
    "        return jnp.mean(jnp.square(err))\n",
    "\n",
    "trainer = xce.train.xcTrainer(model=thislocal, optim=optimizer, steps=100000, loss = PT_E_Loss(), do_jit=True)\n",
    "if TRAIN_NET == 'x':\n",
    "    inp = [tdrho[:, trainer.model.use]]\n",
    "else:\n",
    "    inp = [tdrho]\n",
    "with jax.default_device(cpus[0]):\n",
    "    newm = trainer(1, trainer.model, inp, [tFxc])\n",
    "        \n",
    "\n",
    "# for epoch in range(100000):\n",
    "#     total_loss = 0\n",
    "#     results = thislocal(tdrho[::])\n",
    "#     loss = eloss(results, tFxc[::])\n",
    "#     total_loss += loss.item()\n",
    "#     loss.backward()\n",
    "\n",
    "#     optimizer.step()\n",
    "#     optimizer.zero_grad()\n",
    "#     if epoch%PRINT_EVERY==0:\n",
    "#         print('total loss {:.12f}'.format(total_loss))\n",
    "        \n"
   ]
  },
  {
   "cell_type": "code",
   "execution_count": null,
   "id": "9a675396-1351-4aa7-a5a4-432373674a87",
   "metadata": {},
   "outputs": [],
   "source": [
    "jax.vmap(thislocal.net)(tdrho[:, [1,2]])[:, 0].shape"
   ]
  },
  {
   "cell_type": "code",
   "execution_count": null,
   "id": "d1cc2779-5f7c-4bde-b2ea-dcc050cae720",
   "metadata": {},
   "outputs": [],
   "source": [
    "jax.vmap(trainer.model.net)(tdrho[:, [1,2]])"
   ]
  },
  {
   "cell_type": "code",
   "execution_count": null,
   "id": "1803786d-0d21-4e9f-8be3-fed9839ae1df",
   "metadata": {},
   "outputs": [],
   "source": []
  }
 ],
 "metadata": {
  "kernelspec": {
   "display_name": "Python 3 (ipykernel)",
   "language": "python",
   "name": "python3"
  },
  "language_info": {
   "codemirror_mode": {
    "name": "ipython",
    "version": 3
   },
   "file_extension": ".py",
   "mimetype": "text/x-python",
   "name": "python",
   "nbconvert_exporter": "python",
   "pygments_lexer": "ipython3",
   "version": "3.10.14"
  }
 },
 "nbformat": 4,
 "nbformat_minor": 5
}
