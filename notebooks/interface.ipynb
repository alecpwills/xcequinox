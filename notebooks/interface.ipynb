{
 "cells": [
  {
   "cell_type": "code",
   "execution_count": 1,
   "id": "0cf8befb-0e39-4736-aa0a-779ba9ff50b0",
   "metadata": {},
   "outputs": [
    {
     "name": "stderr",
     "output_type": "stream",
     "text": [
      "/home/awills/anaconda3/envs/pyscfad/lib/python3.10/site-packages/pyscf/dft/libxc.py:772: UserWarning: Since PySCF-2.3, B3LYP (and B3P86) are changed to the VWN-RPA variant, the same to the B3LYP functional in Gaussian and ORCA (issue 1480). To restore the VWN5 definition, you can put the setting \"B3LYP_WITH_VWN5 = True\" in pyscf_conf.py\n",
      "  warnings.warn('Since PySCF-2.3, B3LYP (and B3P86) are changed to the VWN-RPA variant, '\n",
      "An NVIDIA GPU may be present on this machine, but a CUDA-enabled jaxlib is not installed. Falling back to cpu.\n"
     ]
    }
   ],
   "source": [
    "import pyscfad\n",
    "from pyscfad import gto,dft,scf\n",
    "import matplotlib.pyplot as plt\n",
    "import equinox as eqx\n",
    "import pyscf\n",
    "# from pyscf import gto,dft,scf\n",
    "import numpy as np\n",
    "import jax.numpy as jnp\n",
    "import scipy\n",
    "from ase import Atoms\n",
    "from ase.io import read\n",
    "import xcquinox as xce\n",
    "from functools import partial\n",
    "from ase.units import Bohr\n",
    "import os, optax, jax\n",
    "os.environ[\"XLA_PYTHON_CLIENT_PREALLOCATE\"]=\"false\"\n",
    "os.environ[\"XLA_PYTHON_CLIENT_ALLOCATOR\"]=\"platform\""
   ]
  },
  {
   "cell_type": "code",
   "execution_count": 2,
   "id": "026b45c2-2652-41fb-b0f6-d50de53f9aee",
   "metadata": {},
   "outputs": [],
   "source": [
    "#develop function for reading in networks with assume directory structure\n",
    "p = '/home/awills/Documents/Research/xcquinox_pt/pbe0/c_3_16_mgga'\n",
    "ninput = 4\n",
    "use = []\n",
    "\n",
    "def loadnet_from_strucdir(path, ninput, use=[]):\n",
    "    sp = path.split('/')\n",
    "    if '.eqx' in sp[-1]:\n",
    "        f = sp[-1]\n",
    "        sdir = sp[-2]\n",
    "        fullpath = True\n",
    "    else:\n",
    "        sdir = sp[-1]\n",
    "        f = sorted([i for i in os.listdir(path) if '.eqx' in i], key = lambda x: int(x.split('.')[-1]))[-1]\n",
    "        fullpath = False\n",
    "    \n",
    "    loadnet = path if fullpath else os.path.join(path, f)\n",
    "    levels = {'gga': 2, 'mgga': 3, 'nl': 4}\n",
    "    net_type, ndepth, nhidden, level = sdir.split('_')\n",
    "    if level == 'gga':\n",
    "        if net_type == 'x':\n",
    "            use = use if use else [1]\n",
    "            thisnet = xce.net.eX(n_input=ninput, n_hidden=int(nhidden), use=use, depth=int(ndepth), lob=1.804)\n",
    "        elif net_type == 'c':\n",
    "            use = use if use else [2]\n",
    "            thisnet = xce.net.eC(n_input=ninput, n_hidden=int(nhidden), use=use, depth=int(ndepth), ueg_limit=True)\n",
    "    elif level == 'mgga':\n",
    "        if net_type == 'x':\n",
    "            use = use if use else [1, 2]\n",
    "            thisnet = xce.net.eX(n_input=ninput, n_hidden=int(nhidden), use=use, depth=int(ndepth), ueg_limit=True, lob=1.174)\n",
    "        elif net_type == 'c':\n",
    "            use = use if use else []\n",
    "            thisnet = xce.net.eC(n_input=ninput, n_hidden=int(nhidden), use=use, depth=int(ndepth), ueg_limit=True)\n",
    "    elif level == 'nl':\n",
    "        if net_type == 'x':\n",
    "            use = use if use else []\n",
    "            thisnet = xce.net.eX(n_input=ninput, n_hidden=int(nhidden), use=use, depth=int(ndepth), ueg_limit=True, lob=1.174)\n",
    "        elif net_type == 'c':\n",
    "            use = use if use else []\n",
    "            thisnet = xce.net.eC(n_input=ninput, n_hidden=int(nhidden), use=use, depth=int(ndepth), ueg_limit=True)\n",
    "    \n",
    "    thisnet = eqx.tree_deserialise_leaves(loadnet, thisnet)\n",
    "    return thisnet, levels[level]\n",
    "\n",
    "net, netlevel = loadnet_from_strucdir(p, 4)"
   ]
  },
  {
   "cell_type": "code",
   "execution_count": 3,
   "id": "b6bbb2ad-8a1c-4a4f-8eed-9d304240534a",
   "metadata": {},
   "outputs": [
    {
     "data": {
      "text/plain": [
       "3"
      ]
     },
     "execution_count": 3,
     "metadata": {},
     "output_type": "execute_result"
    }
   ],
   "source": [
    "netlevel"
   ]
  },
  {
   "cell_type": "code",
   "execution_count": 20,
   "id": "06f8541f-8158-4dbf-b92a-d3da4312598c",
   "metadata": {},
   "outputs": [],
   "source": [
    "PRETRAIN_LEVEL = 'MGGA'\n",
    "\n",
    "REFERENCE_XC = 'PBE0'\n",
    "\n",
    "N_HIDDEN = 16\n",
    "DEPTH = 3\n",
    "if PRETRAIN_LEVEL == 'GGA':\n",
    "    localx = xce.net.eX(n_input=1, n_hidden=N_HIDDEN, use=[1], depth=DEPTH, lob=1.804)\n",
    "    localc = xce.net.eC(n_input=3, n_hidden=N_HIDDEN, use=[2], depth=DEPTH, ueg_limit=True)\n",
    "elif PRETRAIN_LEVEL == 'MGGA':\n",
    "    localx = xce.net.eX(n_input=2, n_hidden=N_HIDDEN, use=[1, 2], depth=DEPTH, ueg_limit=True, lob=1.174)\n",
    "    localc = xce.net.eC(n_input=4, n_hidden=N_HIDDEN, depth=DEPTH, use=[], ueg_limit=True)\n",
    "elif PRETRAIN_LEVEL == 'NONLOCAL':\n",
    "    localx = xce.net.eX(n_input=18, n_hidden=N_HIDDEN, depth=DEPTH, ueg_limit=True, lob=1.174)\n",
    "    localc = xce.net.eC(n_input=16, n_hidden=N_HIDDEN, depth=DEPTH, ueg_limit=True)\n",
    "\n",
    "ptmgxp = '/home/awills/Documents/Research/xcquinox_pt/pbe0/x_3_16_mgga'\n",
    "ptmgcp = '/home/awills/Documents/Research/xcquinox_pt/pbe0/c_3_16_mgga'\n",
    "\n",
    "if PRETRAIN_LEVEL == 'MGGA':\n",
    "    try:\n",
    "        xcs = sorted([i for i in os.listdir(ptmgxp) if 'xc.eqx' in i], key=lambda x: int(x.split('.')[-1]))[-1]\n",
    "        localx = eqx.tree_deserialise_leaves(os.path.join(ptmgxp, xcs), localx)\n",
    "    except Exception as e:\n",
    "        print(e)\n",
    "        print('couldnt read in pt network to overwrite exchange')\n",
    "    try:\n",
    "        xcs = sorted([i for i in os.listdir(ptmgcp) if 'xc.eqx' in i], key=lambda x: int(x.split('.')[-1]))[-1]\n",
    "        localc = eqx.tree_deserialise_leaves(os.path.join(ptmgcp, xcs), localc)\n",
    "    except Exception as e:\n",
    "        print(e)\n",
    "        print('couldnt read in pt network to overwrite correlation')\n",
    "\n",
    "\n",
    "xc = xce.xc.eXC(grid_models=[localx, localc], heg_mult=True, level= {'GGA':2, 'MGGA':3, 'NONLOCAL':4}[PRETRAIN_LEVEL],\n",
    "               verbose=False)\n",
    "\n"
   ]
  },
  {
   "cell_type": "code",
   "execution_count": 5,
   "id": "f92ce9e5-d98a-422b-888a-c6cecf06cee4",
   "metadata": {
    "scrolled": true
   },
   "outputs": [
    {
     "name": "stdout",
     "output_type": "stream",
     "text": [
      "System: uname_result(system='Linux', node='raider', release='6.5.0-28-generic', version='#29~22.04.1-Ubuntu SMP PREEMPT_DYNAMIC Thu Apr  4 14:39:20 UTC 2', machine='x86_64')  Threads 20\n",
      "Python 3.10.0 (default, Mar  3 2022, 09:58:08) [GCC 7.5.0]\n",
      "numpy 1.26.4  scipy 1.11.4\n",
      "Date: Mon Apr 29 15:14:19 2024\n",
      "PySCF version 2.3.0\n",
      "PySCF path  /home/awills/anaconda3/envs/pyscfad/lib/python3.10/site-packages/pyscf\n",
      "\n",
      "[CONFIG] ARGPARSE = False\n",
      "[CONFIG] DEBUG = False\n",
      "[CONFIG] MAX_MEMORY = 4000\n",
      "[CONFIG] TMPDIR = .\n",
      "[CONFIG] UNIT = angstrom\n",
      "[CONFIG] VERBOSE = 3\n",
      "[CONFIG] conf_file = /home/awills/.pyscf_conf.py\n",
      "[CONFIG] pyscf_numpy_backend = jax\n",
      "[CONFIG] pyscf_scipy_backend = jax\n",
      "[CONFIG] pyscf_scipy_linalg_backend = pyscfad\n",
      "[CONFIG] pyscfad = True\n",
      "[CONFIG] pyscfad_ccsd_implicit_diff = True\n",
      "[CONFIG] pyscfad_scf_implicit_diff = True\n",
      "[INPUT] verbose = 9\n",
      "[INPUT] max_memory = 4000 \n",
      "[INPUT] num. atoms = 1\n",
      "[INPUT] num. electrons = 1\n",
      "[INPUT] charge = 0\n",
      "[INPUT] spin (= nelec alpha-beta = 2S) = 1\n",
      "[INPUT] symmetry False subgroup None\n",
      "[INPUT] Mole.unit = angstrom\n",
      "[INPUT] Symbol           X                Y                Z      unit          X                Y                Z       unit  Magmom\n",
      "[INPUT]  1 H      0.000000000000   0.000000000000   0.000000000000 AA    0.000000000000   0.000000000000   0.000000000000 Bohr   0.0\n",
      "[INPUT] ---------------- BASIS SET ---------------- \n",
      "[INPUT] l, kappa, [nprim/nctr], expnt,             c_1 c_2 ...\n",
      "[INPUT] H\n",
      "[INPUT] 0    0    [3    /1   ]  34.061341         0.0060251978\n",
      "                                5.1235746         0.045021094\n",
      "                                1.1646626         0.20189726\n",
      "[INPUT] 0    0    [1    /1   ]  0.32723041           1\n",
      "[INPUT] 0    0    [1    /1   ]  0.10307241           1\n",
      "[INPUT] 1    0    [1    /1   ]  0.8                  1\n",
      "[INPUT] 1    0    [1    /1   ]  0.095774129632       1\n",
      "\n",
      "nuclear repulsion = 0\n",
      "number of shells = 5\n",
      "number of NR pGTOs = 11\n",
      "number of NR cGTOs = 9\n",
      "basis = def2tzvpd\n",
      "ecp = {}\n",
      "bas 0, expnt(s) = [34.061341   5.1235746  1.1646626]\n",
      "bas 1, expnt(s) = [0.32723041]\n",
      "bas 2, expnt(s) = [0.10307241]\n",
      "bas 3, expnt(s) = [0.8]\n",
      "bas 4, expnt(s) = [0.09577413]\n",
      "CPU time:         5.02\n",
      "arg.atm = [[ 1 20  1 23  0  0]]\n",
      "arg.bas = [[ 0  0  3  1  0 24 27  0]\n",
      " [ 0  0  1  1  0 30 31  0]\n",
      " [ 0  0  1  1  0 32 33  0]\n",
      " [ 0  1  1  1  0 34 35  0]\n",
      " [ 0  1  1  1  0 36 37  0]]\n",
      "arg.env = [ 0.          0.          0.          0.          0.          0.\n",
      "  0.          0.          0.          0.          0.          0.\n",
      "  0.          0.          0.          0.          0.          0.\n",
      "  0.          0.          0.          0.          0.          0.\n",
      " 34.061341    5.1235746   1.1646626   0.90618446  1.63547849  2.41451283\n",
      "  0.32723041  1.09308835  0.10307241  0.45959135  0.8         2.20722637\n",
      "  0.09577413  0.15543351]\n",
      "ecpbas  = []\n",
      "Set gradient conv threshold to 3.16228e-05\n",
      "Initial guess from minao.\n",
      "cond(S) = 20.664786798723085\n",
      "atom H rad-grids = 30, ang-grids = [ 50  50  50  50  50  50  50  50  86  86  86  86  86 110 110 110 110 110\n",
      " 110 110 110  86  86  86  86  86  86  86  86  86]\n",
      "tot_boxes 729, boxes in each direction [7 7 7]\n",
      "Padding 4 grids\n",
      "tot grids = 2488\n"
     ]
    },
    {
     "name": "stderr",
     "output_type": "stream",
     "text": [
      "/home/awills/anaconda3/envs/pyscfad/lib/python3.10/site-packages/pyscf/gto/mole.py:1215: UserWarning: Function mol.dumps drops attribute coords because it is not JSON-serializable\n",
      "  warnings.warn(msg)\n",
      "/home/awills/anaconda3/envs/pyscfad/lib/python3.10/site-packages/pyscf/gto/mole.py:1215: UserWarning: Function mol.dumps drops attribute exp because it is not JSON-serializable\n",
      "  warnings.warn(msg)\n",
      "/home/awills/anaconda3/envs/pyscfad/lib/python3.10/site-packages/pyscf/gto/mole.py:1215: UserWarning: Function mol.dumps drops attribute ctr_coeff because it is not JSON-serializable\n",
      "  warnings.warn(msg)\n"
     ]
    },
    {
     "name": "stdout",
     "output_type": "stream",
     "text": [
      "Drop grids 140\n",
      "    CPU time for setting up grids      1.27 sec, wall time      0.28 sec\n",
      "MGGA ni.block_loop; input ao.shape=(10, 2348, 9), weight.shape=(2348,), coords.shape=(2348, 3)\n",
      "nelec by numeric integration = 0.9997672826941552\n",
      "    CPU time for vxc      0.96 sec, wall time      0.35 sec\n",
      "E1 = -0.4935841095402088  Ecoul = 0.3420619878675808  Exc = -0.2869383427870689\n",
      "init E= -0.438460464459697\n",
      "    CPU time for initialize scf      4.15 sec, wall time      0.82 sec\n",
      "\n",
      "WARN: HOMO 2.30209063038258 == LUMO -0.206086726476509\n",
      "\n",
      "  mo_energy =\n",
      "[-0.20608673  0.17815618  0.17815618  0.17815618  0.32090151  1.59187323\n",
      "  1.59187323  1.59187323  2.30209063]\n",
      "MGGA ni.block_loop; input ao.shape=(10, 2348, 9), weight.shape=(2348,), coords.shape=(2348, 3)\n",
      "nelec by numeric integration = 0.0\n",
      "    CPU time for vxc      0.15 sec, wall time      0.02 sec\n",
      "E1 = 0.0  Ecoul = 0.0  Exc = 0.0\n",
      "cycle= 1 E= 0  delta_E= 0.438  |g|=    0  |ddm|= 0.451\n",
      "    CPU time for cycle = 1      0.59 sec, wall time      0.23 sec\n",
      "diis-norm(errvec)=0\n",
      "diis-c [0. 1.]\n",
      "\n",
      "WARN: HOMO 1.89814339872673 == LUMO -0.499809832231889\n",
      "\n",
      "  mo_energy =\n",
      "[-0.49980983 -0.09269776 -0.09269776 -0.09269776  0.02708109  1.20270742\n",
      "  1.20270742  1.20270742  1.8981434 ]\n",
      "MGGA ni.block_loop; input ao.shape=(10, 2348, 9), weight.shape=(2348,), coords.shape=(2348, 3)\n",
      "nelec by numeric integration = 0.0\n",
      "    CPU time for vxc      0.47 sec, wall time      0.03 sec\n",
      "E1 = 0.0  Ecoul = 0.0  Exc = 0.0\n",
      "cycle= 2 E= 0  delta_E=    0  |g|=    0  |ddm|=    0\n",
      "    CPU time for cycle = 2      0.60 sec, wall time      0.08 sec\n",
      "MGGA ni.block_loop; input ao.shape=(10, 2348, 9), weight.shape=(2348,), coords.shape=(2348, 3)\n",
      "nelec by numeric integration = 0.0\n",
      "    CPU time for vxc      0.65 sec, wall time      0.03 sec\n",
      "\n",
      "WARN: HOMO 1.89814339872673 == LUMO -0.499809832231889\n",
      "\n",
      "  mo_energy =\n",
      "[-0.49980983 -0.09269776 -0.09269776 -0.09269776  0.02708109  1.20270742\n",
      "  1.20270742  1.20270742  1.8981434 ]\n",
      "MGGA ni.block_loop; input ao.shape=(10, 2348, 9), weight.shape=(2348,), coords.shape=(2348, 3)\n",
      "nelec by numeric integration = 0.0\n",
      "    CPU time for vxc      0.72 sec, wall time      0.04 sec\n",
      "E1 = 0.0  Ecoul = 0.0  Exc = 0.0\n",
      "Extra cycle  E= 0  delta_E=    0  |g|=    0  |ddm|=    0\n",
      "    CPU time for scf_cycle      6.84 sec, wall time      1.21 sec\n"
     ]
    },
    {
     "name": "stderr",
     "output_type": "stream",
     "text": [
      "/home/awills/anaconda3/envs/pyscfad/lib/python3.10/site-packages/pyscfad/_src/util.py:108: UserWarning: Not taking derivatives wrt the leaves in the node <class 'pyscfad.dft.rks.VXC'> as none of those was specified.\n",
      "  warnings.warn(f'Not taking derivatives wrt the leaves in '\n"
     ]
    },
    {
     "name": "stdout",
     "output_type": "stream",
     "text": [
      "MGGA ni.block_loop; input ao.shape=(10, 2348, 9), weight.shape=(2348,), coords.shape=(2348, 3)\n",
      "nelec by numeric integration = 0.0\n",
      "    CPU time for vxc      0.59 sec, wall time      0.03 sec\n"
     ]
    }
   ],
   "source": [
    "try:\n",
    "    trainms = read('/home/awills/Documents/Research2/torch_dpy/subset09_nf/subat_ref_corrected.traj', ':')\n",
    "except:\n",
    "    trainms = read('/home/awills/Documents/Research/torch_dpy/subset09_nf/subat_ref_corrected.traj', ':')\n",
    "mfs = []\n",
    "mols = []\n",
    "energies = []\n",
    "dms = []\n",
    "ao_evals = []\n",
    "gws = []\n",
    "eris = []\n",
    "mo_occs = []\n",
    "hcs = []\n",
    "vs = []\n",
    "ts = []\n",
    "ss = []\n",
    "hologaps = []\n",
    "ogds = []\n",
    "for idx, at in enumerate(trainms[16:17]):\n",
    "    name, mol = xce.utils.ase_atoms_to_mol(at, basis='def2tzvpd')\n",
    "    mol.verbose=9\n",
    "    mol.build()\n",
    "    mols.append(mol)\n",
    "    mf = dft.RKS(mol, xc='SCAN')\n",
    "    # mf = scf.UHF(mol)\n",
    "    mf.grids.level = 1\n",
    "    e_tot = mf.kernel()\n",
    "    mf.conv_tol = 1e-6\n",
    "    mfs.append(mf)\n",
    "    dm = mf.make_rdm1()\n",
    "    ao_eval = jnp.array(mf._numint.eval_ao(mol, mf.grids.coords, deriv=2))\n",
    "    energies.append(mf.get_veff().exc)\n",
    "    dms.append(dm)\n",
    "    ogds.append(dm.shape)\n",
    "    ao_evals.append(ao_eval)\n",
    "    gws.append(mf.grids.weights)\n",
    "    ts.append(mol.intor('int1e_kin'))\n",
    "    vs.append(mol.intor('int1e_nuc'))\n",
    "    mo_occs.append(mf.mo_occ)\n",
    "    hcs.append(mf.get_hcore())\n",
    "    eris.append(mol.intor('int2e'))\n",
    "    ss.append(jnp.linalg.inv(jnp.linalg.cholesky(mol.intor('int1e_ovlp'))))\n",
    "    # hologaps.append(mf.mo_energy[mf.mo_occ == 0][0] - mf.mo_energy[mf.mo_occ > 1][-1])"
   ]
  },
  {
   "cell_type": "code",
   "execution_count": 6,
   "id": "8b817689-6eb6-4b98-a48c-cf71be92a173",
   "metadata": {},
   "outputs": [
    {
     "data": {
      "text/plain": [
       "Array(0., dtype=float64)"
      ]
     },
     "execution_count": 6,
     "metadata": {},
     "output_type": "execute_result"
    }
   ],
   "source": [
    "mf.e_tot"
   ]
  },
  {
   "cell_type": "code",
   "execution_count": 7,
   "id": "1a2b41e8-2fad-4e31-b20f-0e0574551b3a",
   "metadata": {},
   "outputs": [
    {
     "data": {
      "text/plain": [
       "Array([-0.49980983, -0.09269776, -0.09269776, -0.09269776,  0.02708109,\n",
       "        1.20270742,  1.20270742,  1.20270742,  1.8981434 ], dtype=float64)"
      ]
     },
     "execution_count": 7,
     "metadata": {},
     "output_type": "execute_result"
    }
   ],
   "source": [
    "mf.mo_energy"
   ]
  },
  {
   "cell_type": "code",
   "execution_count": 8,
   "id": "86599d2c-ecb3-4f4d-a4f5-1f47e1ece100",
   "metadata": {},
   "outputs": [
    {
     "name": "stdout",
     "output_type": "stream",
     "text": [
      "eX.__call__, rho shape: (2, 2348, 3)\n",
      "eC.__call__, rho shape: (2348, 4)\n"
     ]
    },
    {
     "data": {
      "text/plain": [
       "Array(-6.31249418e-10, dtype=float64)"
      ]
     },
     "execution_count": 8,
     "metadata": {},
     "output_type": "execute_result"
    }
   ],
   "source": [
    "xc(dms[0], ao_evals[0], gws[0], mf=mf, coor=mf.grids.coords)"
   ]
  },
  {
   "cell_type": "code",
   "execution_count": 9,
   "id": "d15eeca8-3cca-4138-8314-ca9596da9e4f",
   "metadata": {},
   "outputs": [
    {
     "data": {
      "text/plain": [
       "array([[ 2.36845987e-01,  0.00000000e+00,  0.00000000e+00,\n",
       "         0.00000000e+00, -1.46732585e-01,  0.00000000e+00,\n",
       "         0.00000000e+00,  0.00000000e+00, -1.53277087e+00],\n",
       "       [ 5.03041123e-01,  0.00000000e+00,  0.00000000e+00,\n",
       "         0.00000000e+00, -1.25506714e+00,  0.00000000e+00,\n",
       "         0.00000000e+00,  0.00000000e+00,  1.92279794e+00],\n",
       "       [ 3.85457285e-01,  0.00000000e+00,  0.00000000e+00,\n",
       "         0.00000000e+00,  1.52861770e+00,  0.00000000e+00,\n",
       "         0.00000000e+00,  0.00000000e+00, -8.56054006e-01],\n",
       "       [ 0.00000000e+00,  4.60556404e-03,  3.63165997e-03,\n",
       "        -4.92592889e-02,  0.00000000e+00, -1.03254246e+00,\n",
       "         2.19857266e-19, -1.74604662e-01, -0.00000000e+00],\n",
       "       [ 0.00000000e+00, -3.86803720e-02, -3.05009240e-02,\n",
       "        -5.86516618e-03,  0.00000000e+00,  1.74604662e-01,\n",
       "         0.00000000e+00, -1.03254246e+00,  0.00000000e+00],\n",
       "       [ 0.00000000e+00, -3.07163689e-02,  3.89535929e-02,\n",
       "         0.00000000e+00,  0.00000000e+00,  0.00000000e+00,\n",
       "         1.04720137e+00,  0.00000000e+00,  0.00000000e+00],\n",
       "       [ 0.00000000e+00,  9.13536992e-02,  7.20358179e-02,\n",
       "        -9.77082985e-01,  0.00000000e+00,  3.56689848e-01,\n",
       "         4.36098040e-18,  6.03168518e-02,  0.00000000e+00],\n",
       "       [ 0.00000000e+00, -7.67244802e-01, -6.05001300e-01,\n",
       "        -1.16338547e-01,  0.00000000e+00, -6.03168518e-02,\n",
       "         0.00000000e+00,  3.56689848e-01, -0.00000000e+00],\n",
       "       [ 0.00000000e+00, -6.09274760e-01,  7.72664277e-01,\n",
       "         0.00000000e+00,  0.00000000e+00,  0.00000000e+00,\n",
       "        -3.61753743e-01,  0.00000000e+00, -0.00000000e+00]])"
      ]
     },
     "execution_count": 9,
     "metadata": {},
     "output_type": "execute_result"
    }
   ],
   "source": [
    "mf.mo_coeff"
   ]
  },
  {
   "cell_type": "code",
   "execution_count": 10,
   "id": "b48d1385-ea72-45a9-b72a-4754775cd079",
   "metadata": {},
   "outputs": [
    {
     "name": "stdout",
     "output_type": "stream",
     "text": [
      "Initial guess from minao.\n",
      "MGGA ni.block_loop; input ao.shape=(10, 2348, 9), weight.shape=(2348,), coords.shape=(2348, 3)\n",
      "nelec by numeric integration = 0.9997672826941552\n",
      "    CPU time for vxc      0.19 sec, wall time      0.01 sec\n",
      "E1 = -0.4935841095402088  Ecoul = 0.3420619878675808  Exc = -0.2869383427870689\n"
     ]
    },
    {
     "data": {
      "text/plain": [
       "(Array(-0.43846046, dtype=float64), Array(0.05512365, dtype=float64))"
      ]
     },
     "execution_count": 10,
     "metadata": {},
     "output_type": "execute_result"
    }
   ],
   "source": [
    "mf.energy_elec(mf.get_init_guess())"
   ]
  },
  {
   "cell_type": "code",
   "execution_count": 11,
   "id": "9017cfa8-8cec-42d3-86dd-c57f4a78854e",
   "metadata": {},
   "outputs": [
    {
     "data": {
      "text/plain": [
       "0.0"
      ]
     },
     "execution_count": 11,
     "metadata": {},
     "output_type": "execute_result"
    }
   ],
   "source": [
    "mf.energy_nuc()"
   ]
  },
  {
   "cell_type": "code",
   "execution_count": 12,
   "id": "21843ba3-3cee-44df-ae13-0631a575cbd6",
   "metadata": {},
   "outputs": [
    {
     "data": {
      "text/plain": [
       "(Array(0., dtype=float64), 1e-06)"
      ]
     },
     "execution_count": 12,
     "metadata": {},
     "output_type": "execute_result"
    }
   ],
   "source": [
    "e_tot, mf.conv_tol"
   ]
  },
  {
   "cell_type": "code",
   "execution_count": 13,
   "id": "6d863c17-1448-4346-9e5a-efc51fcfd719",
   "metadata": {},
   "outputs": [],
   "source": [
    "def generate_network_eval_xc(mf, dm, network):\n",
    "    '''\n",
    "    Generates a function to overwrite eval_xc with on the mf object, for use in training with pyscfad's SCF cycle\n",
    "\n",
    "    :param mf: Pyscfad calculation kernel object\n",
    "    :type mf: Pyscfad calculation kernel object\n",
    "    :param dm: Initial density matrix to use in the cycle\n",
    "    :type dm: jax.Array\n",
    "    :param network: The network to use in evaluating the SCF cycle\n",
    "    :type network: xcquinox.xc.eXC\n",
    "    :return: A function `eval_xc` that uses an xcquinox network as the pyscfad kernel calculation driver.\n",
    "    :rtype: function\n",
    "\n",
    "    The returned function:\n",
    "\n",
    "    eval_xc(xc_code, rho, ao, gw, coords, spin=0, relativity=0, deriv=1, omega=None, verbose=None)\n",
    "    The function to use as driver for a pyscf(ad) calculation, using an xcquinox network.\n",
    "\n",
    "    This overwrites mf.eval_xc with a custom function, evaluating:\n",
    "\n",
    "    Exc_exc, vs = jax.value_and_grad(EXC_exc_vs, has_aux=True)(jnp.concatenate([jnp.expand_dims(rho0_a,-1),\n",
    "                                            jnp.expand_dims(rho0_b,-1),\n",
    "                                            jnp.expand_dims(gamma_a,-1),\n",
    "                                            jnp.expand_dims(gamma_ab,-1),\n",
    "                                            jnp.expand_dims(gamma_b,-1),\n",
    "                                            jnp.expand_dims(jnp.zeros_like(rho0_a),-1), #Dummy for laplacian\n",
    "                                            jnp.expand_dims(jnp.zeros_like(rho0_a),-1), #Dummy for laplacian\n",
    "                                            jnp.expand_dims(tau_a,-1),\n",
    "                                            jnp.expand_dims(tau_b,-1),\n",
    "                                            jnp.expand_dims(non_loc_a,-1),\n",
    "                                            jnp.expand_dims(non_loc_b,-1)],axis=-1))\n",
    "\n",
    "\n",
    "        :param xc_code: The XC functional code string in libxc format, but it is ignored as the network is the calculation driver\n",
    "        :type xc_code: str\n",
    "        :param rho: The [..., *, N] arrays (... for spin polarized), N is the number of grid points.\n",
    "                    rho (*,N) ordered as (rho, grad_x, grad_y, grad_z, laplacian, tau)\n",
    "                    rho (2,*,N) is [(rho_up, grad_x_up, grad_y_up, grad_z_up, laplacian_up, tau_up),\n",
    "                                    (rho_down, grad_x_down, grad_y_down, grad_z_down, laplacian_down, tau_down)]\n",
    "                    PySCFAD doesn't do spin-polarized grid calculations yet, so this will be unpolarized.\n",
    "        :type rho: jax.Array\n",
    "        :param ao: The atomic orbitals on the grid to use in the network calculation. Explcitly specified as the block loops break down the grid if memory is too low\n",
    "        :type ao: jax.Array\n",
    "        :param ao: The grid weights to use in the network calculation. Explcitly specified as the block loops break down the grid if memory is too low\n",
    "        :type ao: jax.Array\n",
    "        :param ao: The grid coordinates to use in the network calculation. Explcitly specified as the block loops break down the grid if memory is too low\n",
    "        :type ao: jax.Array\n",
    "        :param spin: The spin of the calculation, integer valued, polarized if non-zero, defaults to zero\n",
    "        :type spin: int\n",
    "        :param relativity: Integer, unused right now, defaults to zero\n",
    "        :type relativity: int\n",
    "        :param deriv: Unused here, defaults to 1\n",
    "        :type deriv: int\n",
    "        :param omega: Hybrid mixing term, unused here, defaults to None\n",
    "        :type omega: float\n",
    "        :param verbose: Unused here, defaults to None\n",
    "        :type verbose: int\n",
    "        :return: ex, vxc, fxc, kxc\n",
    "                 where: ex -> exc, XC energy density on the grid\n",
    "                        vxc -> (vrho, vsigma, vlapl, vtau), gradients of the exc w.r.t. the quantities given.\n",
    "                        Only vrho and vtau are used, vsigma=vlapl=fxc=kxc=None.\n",
    "                        vrho = vs[:, 0]+vs[:, 1]\n",
    "                        vtau = vs[:, 7]+vs[:, 8]\n",
    "        \n",
    "        :rtype: tuple\n",
    "    '''\n",
    "    def eval_xc(xc_code, rho, ao, gw, coords, spin=0, relativity=0, deriv=1, omega=None, verbose=None):\n",
    "        '''\n",
    "        The function to use as driver for a pyscf(ad) calculation, using an xcquinox network.\n",
    "\n",
    "        This overwrites mf.eval_xc with a custom function, evaluating:\n",
    "\n",
    "        Exc_exc, vs = jax.value_and_grad(EXC_exc_vs, has_aux=True)(jnp.concatenate([jnp.expand_dims(rho0_a,-1),\n",
    "                                                jnp.expand_dims(rho0_b,-1),\n",
    "                                                jnp.expand_dims(gamma_a,-1),\n",
    "                                                jnp.expand_dims(gamma_ab,-1),\n",
    "                                                jnp.expand_dims(gamma_b,-1),\n",
    "                                                jnp.expand_dims(jnp.zeros_like(rho0_a),-1), #Dummy for laplacian\n",
    "                                                jnp.expand_dims(jnp.zeros_like(rho0_a),-1), #Dummy for laplacian\n",
    "                                                jnp.expand_dims(tau_a,-1),\n",
    "                                                jnp.expand_dims(tau_b,-1),\n",
    "                                                jnp.expand_dims(non_loc_a,-1),\n",
    "                                                jnp.expand_dims(non_loc_b,-1)],axis=-1))\n",
    "\n",
    "        :param xc_code: The XC functional code string in libxc format, but it is ignored as the network is the calculation driver\n",
    "        :type xc_code: str\n",
    "        :param rho: The [..., *, N] arrays (... for spin polarized), N is the number of grid points.\n",
    "                    rho (*,N) ordered as (rho, grad_x, grad_y, grad_z, laplacian, tau)\n",
    "                    rho (2,*,N) is [(rho_up, grad_x_up, grad_y_up, grad_z_up, laplacian_up, tau_up),\n",
    "                                    (rho_down, grad_x_down, grad_y_down, grad_z_down, laplacian_down, tau_down)]\n",
    "                    PySCFAD doesn't do spin-polarized grid calculations yet, so this will be unpolarized.\n",
    "        :type rho: jax.Array\n",
    "        :param ao: The atomic orbitals on the grid to use in the network calculation. Explcitly specified as the block loops break down the grid if memory is too low\n",
    "        :type ao: jax.Array\n",
    "        :param ao: The grid weights to use in the network calculation. Explcitly specified as the block loops break down the grid if memory is too low\n",
    "        :type ao: jax.Array\n",
    "        :param ao: The grid coordinates to use in the network calculation. Explcitly specified as the block loops break down the grid if memory is too low\n",
    "        :type ao: jax.Array\n",
    "        :param spin: The spin of the calculation, integer valued, polarized if non-zero, defaults to zero\n",
    "        :type spin: int\n",
    "        :param relativity: Integer, unused right now, defaults to zero\n",
    "        :type relativity: int\n",
    "        :param deriv: Unused here, defaults to 1\n",
    "        :type deriv: int\n",
    "        :param omega: Hybrid mixing term, unused here, defaults to None\n",
    "        :type omega: float\n",
    "        :param verbose: Unused here, defaults to None\n",
    "        :type verbose: int\n",
    "        :return: ex, vxc, fxc, kxc\n",
    "                 where: ex -> exc, XC energy density on the grid\n",
    "                        vxc -> (vrho, vsigma, vlapl, vtau), gradients of the exc w.r.t. the quantities given.\n",
    "                        Only vrho and vtau are used, vsigma=vlapl=fxc=kxc=None.\n",
    "                        vrho = vs[:, 0]+vs[:, 1]\n",
    "                        vtau = vs[:, 7]+vs[:, 8]\n",
    "        \n",
    "        :rtype: tuple\n",
    "        '''\n",
    "        # print('custom eval_xc; input rho shape: ', rho.shape)\n",
    "        if len(rho.shape) == 2:\n",
    "            #not spin-polarized\n",
    "            rho0 = rho[0] #density\n",
    "            drho = rho[1:4] #grad_x, grad_y, grad_z\n",
    "            #laplacian next\n",
    "            # tau = 0.5*(rho[1] + rho[2] + rho[3])\n",
    "            tau = rho[-1] # tau\n",
    "            \n",
    "            non_loc = jnp.zeros_like(tau)\n",
    "            #decompose into spin channels\n",
    "            rho0_a = rho0_b = rho0*0.5\n",
    "            gamma_a=gamma_b=gamma_ab= jnp.einsum('ij,ij->j',drho[:],drho[:])*0.25\n",
    "            tau_a = tau_b = tau*0.5\n",
    "            non_loc_a=non_loc_b = non_loc*0.5\n",
    "            if network.verbose:\n",
    "                print(f'decomposed shapes:\\nrho0={rho0.shape}\\ndrho={drho.shape}\\ntau={tau.shape}\\nnon_loc={non_loc.shape}')\n",
    "                print(f'decomposed shapes:\\ngamma_a={gamma_a.shape}\\ngamma_b={gamma_b.shape}\\ngamma_ab={gamma_ab.shape}')\n",
    "        else:\n",
    "            #spin-polarized density\n",
    "            rho0_a = rho[0, 0]\n",
    "            rho0_b = rho[1, 0]\n",
    "\n",
    "            drho_a = rho[0, 1:4]\n",
    "            drho_b = rho[1, 1:4]\n",
    "            # jnp.einsumed density gradient\n",
    "            gamma_a, gamma_b = jnp.einsum('ij,ij->j',drho_a,drho_a), jnp.einsum('ij,ij->j',drho_b,drho_b)\n",
    "            gamma_ab = jnp.einsum('ij,ij->j',drho_a,drho_b)\n",
    "            # Kinetic energy density\n",
    "            tau_a = rho[0, -1]\n",
    "            tau_b = rho[1, -1]\n",
    "\n",
    "            non_loc_a, non_loc_b = jnp.zeros_like(tau_a), jnp.zeros_like(tau_b)\n",
    "            if network.verbose:\n",
    "                print(f'decomposed shapes:\\nrho0(a,b)={rho0_a.shape},{rho0_b.shape}\\ndrho(a,b)={drho_a.shape},{drho_b.shape}\\ntau(a,b)={tau_a.shape},{tau_b.shape}\\nnon_loc(a,b)={non_loc_a.shape},{non_loc_b.shape}')\n",
    "                print(f'decomposed shapes:\\ngamma_a={gamma_a.shape}\\ngamma_b={gamma_b.shape}\\ngamma_ab={gamma_ab.shape}')\n",
    "\n",
    "\n",
    "        # xc-energy per unit particle\n",
    "        # print(f'EVALUATING GRID MODELS; OPTIONAL PARAMETERS:')\n",
    "        # try:\n",
    "        #     print(f'gw.shape={gw.shape}, coor.shape={coor.shape}')\n",
    "        # except:\n",
    "        #     print('no externally supplied gw or coor')\n",
    "        # print('eval_xc eval_grid_models call')\n",
    "        \n",
    "        def EXC_exc_vs(x):\n",
    "            exc = network.eval_grid_models(x, mf=mf, dm=dm, ao=ao, gw=gw, coor=coords)\n",
    "            Exc = jnp.sum(((rho0_a + rho0_b)*exc[:,0])*gw)\n",
    "            return Exc, exc\n",
    "        if network.verbose:\n",
    "            print(f'eval_xc -> Exc_exc and potentials on grid via autodiff')\n",
    "        v_and_g_inp = jnp.concatenate([jnp.expand_dims(rho0_a,-1),\n",
    "                                                jnp.expand_dims(rho0_b,-1),\n",
    "                                                jnp.expand_dims(gamma_a,-1),\n",
    "                                                jnp.expand_dims(gamma_ab,-1),\n",
    "                                                jnp.expand_dims(gamma_b,-1),\n",
    "                                                jnp.expand_dims(jnp.zeros_like(rho0_a),-1), #Dummy for laplacian\n",
    "                                                jnp.expand_dims(jnp.zeros_like(rho0_a),-1), #Dummy for laplacian\n",
    "                                                jnp.expand_dims(tau_a,-1),\n",
    "                                                jnp.expand_dims(tau_b,-1),\n",
    "                                                jnp.expand_dims(non_loc_a,-1),\n",
    "                                                jnp.expand_dims(non_loc_b,-1)],axis=-1)\n",
    "        print(f'v_and_g_inp.shape={v_and_g_inp.shape}')\n",
    "        Exc_exc, vs = jax.value_and_grad(EXC_exc_vs, has_aux=True)(v_and_g_inp)\n",
    "        print(f'Exc_exc and vs returned: Exc = {Exc_exc[0]}, exc.shape={Exc_exc[1].shape}, vs.shape={vs.shape}')\n",
    "        Exc, exc = Exc_exc\n",
    "        print(f'eval_xc Exc = {Exc}')\n",
    "        if jnp.sum(jnp.isnan(exc[:, 0])):\n",
    "            print('NaNs detected in exc. Number of NaNs: {}'.format(jnp.sum(jnp.isnan(exc[:, 0]))))\n",
    "            raise\n",
    "        else:\n",
    "            exc = exc[:, 0]\n",
    "            \n",
    "        # print('ao shape: ', ao.shape)\n",
    "        # print('exc from network evaluation on grid models shape: ', exc.shape)\n",
    "        # print('vs from network evaluation on grid models shape: ', vs.shape)\n",
    "        # print('Exc from network evaluation on grid models shape: ', Exc)\n",
    "\n",
    "        vgf = lambda x: network(x, ao, gw, mf=mf, coor=coords)\n",
    "        mf.network = network\n",
    "        mf.network_eval = vgf\n",
    "\n",
    "        #vrho; d Exc/d rho, separate spin channels\n",
    "        vrho = vs[:, 0]+vs[:, 1]\n",
    "        #vtau; d Exc/d tau, separate spin channels\n",
    "        vtau = vs[:, 7]+vs[:, 8]\n",
    "        \n",
    "        vgamma = jnp.zeros_like(vrho)\n",
    "        \n",
    "        vlapl = None\n",
    "        \n",
    "        fxc = None #second order functional derivative\n",
    "        kxc = None #third order functional derivative\n",
    "        if network.verbose:\n",
    "            print(f'shapes: vrho={vrho.shape}, vgamma={vgamma.shape}')\n",
    "        return exc, (vrho, vgamma, vlapl, vtau), fxc, kxc\n",
    "    return eval_xc"
   ]
  },
  {
   "cell_type": "code",
   "execution_count": 21,
   "id": "1179a5bf-9047-42a3-acbe-1ffd7b35da6c",
   "metadata": {},
   "outputs": [],
   "source": [
    "evxc = generate_network_eval_xc(mf=mf, dm=dms[0], network=xc)"
   ]
  },
  {
   "cell_type": "code",
   "execution_count": 22,
   "id": "89b2b1e0-01a4-40ba-808e-e8774e1445e5",
   "metadata": {
    "scrolled": true
   },
   "outputs": [
    {
     "name": "stdout",
     "output_type": "stream",
     "text": [
      "Set gradient conv threshold to 3.16228e-05\n",
      "cond(S) = 20.664786798723085\n",
      "E1 = -0.4935841095402088  Ecoul = 0.17103099393379043\n",
      "init E= -0.322553115606418\n",
      "    CPU time for initialize scf      1.69 sec, wall time      0.10 sec\n",
      "multiplicity <S^2> = 0.75  2S+1 = 2\n",
      "eX.__call__, rho shape: (2, 2348, 3)\n",
      "eC.__call__, rho shape: (2348, 4)\n"
     ]
    },
    {
     "name": "stderr",
     "output_type": "stream",
     "text": [
      "/home/awills/anaconda3/envs/pyscfad/lib/python3.10/site-packages/pyscf/gto/mole.py:1215: UserWarning: Function mol.dumps drops attribute coords because it is not JSON-serializable\n",
      "  warnings.warn(msg)\n",
      "/home/awills/anaconda3/envs/pyscfad/lib/python3.10/site-packages/pyscf/gto/mole.py:1215: UserWarning: Function mol.dumps drops attribute exp because it is not JSON-serializable\n",
      "  warnings.warn(msg)\n",
      "/home/awills/anaconda3/envs/pyscfad/lib/python3.10/site-packages/pyscf/gto/mole.py:1215: UserWarning: Function mol.dumps drops attribute ctr_coeff because it is not JSON-serializable\n",
      "  warnings.warn(msg)\n"
     ]
    },
    {
     "name": "stdout",
     "output_type": "stream",
     "text": [
      "E1 = -0.4906045058048447  Ecoul = -0.17446676106545267\n",
      "cycle= 1 E= -0.665071266870297  delta_E= -0.343  |g|= 0.224  |ddm|= 0.406\n",
      "    CPU time for cycle = 1      1.13 sec, wall time      0.42 sec\n",
      "diis-norm(errvec)=0.371714\n",
      "diis-c [-0.13817138  1.        ]\n",
      "multiplicity <S^2> = 0.75  2S+1 = 2\n",
      "eX.__call__, rho shape: (2, 2348, 3)\n",
      "eC.__call__, rho shape: (2348, 4)\n",
      "E1 = -0.4788082861737167  Ecoul = -0.23477353588516173\n",
      "cycle= 2 E= -0.713581822058878  delta_E= -0.0485  |g|= 0.0462  |ddm|= 0.504\n",
      "    CPU time for cycle = 2      0.81 sec, wall time      0.35 sec\n",
      "diis-norm(errvec)=0.0742432\n",
      "diis-c [-4.03832483e-04 -2.38478936e-01  1.23847894e+00]\n",
      "multiplicity <S^2> = 0.75  2S+1 = 2\n",
      "eX.__call__, rho shape: (2, 2348, 3)\n",
      "eC.__call__, rho shape: (2348, 4)\n",
      "E1 = -0.46122832733095626  Ecoul = -0.24670898605932282\n",
      "cycle= 3 E= -0.707937313390279  delta_E= 0.00564  |g|= 0.015  |ddm|= 0.104\n",
      "    CPU time for cycle = 3      0.68 sec, wall time      0.28 sec\n",
      "diis-norm(errvec)=0.0153146\n",
      "diis-c [-1.15124561e-06  2.13835565e-01 -8.12946885e-01  1.59911132e+00]\n",
      "multiplicity <S^2> = 0.75  2S+1 = 2\n",
      "eX.__call__, rho shape: (2, 2348, 3)\n",
      "eC.__call__, rho shape: (2348, 4)\n",
      "E1 = -0.4743681376167334  Ecoul = -0.23663475579222146\n",
      "cycle= 4 E= -0.711002893408955  delta_E= -0.00307  |g|= 0.0531  |ddm|= 0.187\n",
      "    CPU time for cycle = 4      0.73 sec, wall time      0.28 sec\n",
      "diis-norm(errvec)=0.0520663\n",
      "diis-c [-1.03572951e-07  7.59045496e-02 -2.80994659e-01  1.06540809e+00\n",
      "  1.39682021e-01]\n",
      "multiplicity <S^2> = 0.75  2S+1 = 2\n",
      "eX.__call__, rho shape: (2, 2348, 3)\n",
      "eC.__call__, rho shape: (2348, 4)\n",
      "E1 = -0.4687176874861237  Ecoul = -0.24186601175242897\n",
      "cycle= 5 E= -0.710583699238553  delta_E= 0.000419  |g|= 0.0199  |ddm|= 0.0893\n",
      "    CPU time for cycle = 5      0.67 sec, wall time      0.28 sec\n",
      "diis-norm(errvec)=0.0195466\n",
      "diis-c [-1.27768571e-08 -1.29166288e-01  4.78139099e-01 -1.65623656e+00\n",
      " -1.69360255e+00  4.00086630e+00]\n",
      "multiplicity <S^2> = 0.75  2S+1 = 2\n",
      "eX.__call__, rho shape: (2, 2348, 3)\n",
      "eC.__call__, rho shape: (2348, 4)\n",
      "E1 = -0.4580404302565564  Ecoul = -0.2483005822436553\n",
      "cycle= 6 E= -0.706341012500212  delta_E= 0.00424  |g|= 0.0301  |ddm|= 0.141\n",
      "    CPU time for cycle = 6      0.74 sec, wall time      0.28 sec\n",
      "diis-norm(errvec)=0.029352\n",
      "diis-c [-3.17306988e-09 -2.00472768e-02  7.52148922e-02 -1.02341613e-01\n",
      " -4.01054657e-01  1.31188673e+00  1.36341922e-01]\n",
      "multiplicity <S^2> = 0.75  2S+1 = 2\n",
      "eX.__call__, rho shape: (2, 2348, 3)\n",
      "eC.__call__, rho shape: (2348, 4)\n",
      "E1 = -0.46381543012962334  Ecoul = -0.24521847072944944\n",
      "cycle= 7 E= -0.709033900859073  delta_E= -0.00269  |g|= 0.00438  |ddm|= 0.0737\n",
      "    CPU time for cycle = 7      0.85 sec, wall time      0.30 sec\n",
      "diis-norm(errvec)=0.00421723\n",
      "diis-c [-5.80615948e-12  5.98926334e-03 -6.47634345e-02 -2.66703326e+00\n",
      "  9.77737487e-01 -4.12477132e+00 -7.69889491e-01  7.64273075e+00]\n",
      "multiplicity <S^2> = 0.75  2S+1 = 2\n",
      "eX.__call__, rho shape: (2, 2348, 3)\n",
      "eC.__call__, rho shape: (2348, 4)\n",
      "E1 = -0.46241157345236383  Ecoul = -0.24604193046927966\n",
      "cycle= 8 E= -0.708453503921644  delta_E= 0.00058  |g|= 0.0107  |ddm|= 0.0178\n",
      "    CPU time for cycle = 8      0.74 sec, wall time      0.28 sec\n",
      "diis-norm(errvec)=0.0108977\n",
      "diis-c [-9.39450340e-15  2.79954046e-04 -3.27260055e-04  6.76143161e-02\n",
      " -1.99438192e-02  2.17631582e-01 -7.10345869e-02  6.61174345e-01\n",
      "  1.44605469e-01]\n",
      "multiplicity <S^2> = 0.75  2S+1 = 2\n",
      "eX.__call__, rho shape: (2, 2348, 3)\n",
      "eC.__call__, rho shape: (2348, 4)\n",
      "E1 = -0.46472260627241013  Ecoul = -0.24465691734918815\n",
      "cycle= 9 E= -0.709379523621598  delta_E= -0.000926  |g|= 9.6e-05  |ddm|= 0.0299\n",
      "    CPU time for cycle = 9      0.63 sec, wall time      0.29 sec\n",
      "diis-norm(errvec)=0.000182742\n",
      "diis-c [-1.94270495e-14  9.70199582e-02  2.70697829e-03  1.91071946e-01\n",
      " -6.12685843e-02  3.86381943e-01 -3.64569268e-02  2.86571041e-01\n",
      "  1.33973644e-01]\n",
      "multiplicity <S^2> = 0.75  2S+1 = 2\n",
      "eX.__call__, rho shape: (2, 2348, 3)\n",
      "eC.__call__, rho shape: (2348, 4)\n",
      "E1 = -0.4648322125682777  Ecoul = -0.24458748468146307\n",
      "cycle= 10 E= -0.709419697249741  delta_E= -4.02e-05  |g|= 0.000488  |ddm|= 0.00145\n",
      "    CPU time for cycle = 10      0.63 sec, wall time      0.29 sec\n",
      "diis-norm(errvec)=0.000477804\n",
      "Linear dependence found in DIIS error vectors.\n",
      "diis-c [-2.30926389e-14 -5.46445935e-01  3.82427179e-01  2.21845873e-02\n",
      " -2.11555149e-02  2.26064280e-01 -7.91273275e-02  8.27102714e-01\n",
      "  1.88950017e-01]\n",
      "multiplicity <S^2> = 0.75  2S+1 = 2\n",
      "eX.__call__, rho shape: (2, 2348, 3)\n",
      "eC.__call__, rho shape: (2348, 4)\n",
      "E1 = -0.46468271231359287  Ecoul = -0.24468211343630392\n",
      "cycle= 11 E= -0.709364825749897  delta_E= 5.49e-05  |g|= 0.000239  |ddm|= 0.00199\n",
      "    CPU time for cycle = 11      0.77 sec, wall time      0.30 sec\n",
      "diis-norm(errvec)=0.000295618\n",
      "Linear dependence found in DIIS error vectors.\n",
      "diis-c [-6.38378239e-15 -4.06463126e-01  1.50233284e+00 -4.07600334e-01\n",
      "  8.48344741e-03 -1.53772983e-02 -3.79664244e-02  2.66804585e-01\n",
      "  8.97863055e-02]\n",
      "multiplicity <S^2> = 0.75  2S+1 = 2\n",
      "eX.__call__, rho shape: (2, 2348, 3)\n",
      "eC.__call__, rho shape: (2348, 4)\n",
      "E1 = -0.4646790376443238  Ecoul = -0.24468443688938407\n",
      "cycle= 12 E= -0.709363474533708  delta_E= 1.35e-06  |g|= 0.00024  |ddm|= 7.62e-05\n",
      "    CPU time for cycle = 12      0.73 sec, wall time      0.31 sec\n",
      "diis-norm(errvec)=0.000259963\n",
      "Linear dependence found in DIIS error vectors.\n",
      "diis-c [-5.55111512e-17 -4.90713451e-01  4.87154736e-01 -3.72032957e-01\n",
      "  1.34843359e+00  2.87038669e-03 -2.65573369e-03  2.10846010e-02\n",
      "  5.85882418e-03]\n",
      "multiplicity <S^2> = 0.75  2S+1 = 2\n",
      "eX.__call__, rho shape: (2, 2348, 3)\n",
      "eC.__call__, rho shape: (2348, 4)\n",
      "E1 = -0.46472599918236895  Ecoul = -0.244654792076706\n",
      "cycle= 13 E= -0.709380791259075  delta_E= -1.73e-05  |g|= 1.32e-05  |ddm|= 0.000624\n",
      "    CPU time for cycle = 13      0.86 sec, wall time      0.37 sec\n",
      "diis-norm(errvec)=1.47002e-05\n",
      "Linear dependence found in DIIS error vectors.\n",
      "diis-c [-3.05311332e-16 -6.45988665e-02 -7.00038824e-03 -1.21756089e-01\n",
      "  4.22602533e-01  7.85922672e-01  1.11958536e-03 -8.85793688e-03\n",
      " -7.43150929e-03]\n",
      "multiplicity <S^2> = 0.75  2S+1 = 2\n",
      "eX.__call__, rho shape: (2, 2348, 3)\n",
      "eC.__call__, rho shape: (2348, 4)\n",
      "E1 = -0.4647294444365722  Ecoul = -0.24465261442693137\n",
      "cycle= 14 E= -0.709382058863504  delta_E= -1.27e-06  |g|= 3.63e-06  |ddm|= 4.58e-05\n",
      "    CPU time for cycle = 14      0.73 sec, wall time      0.28 sec\n",
      "diis-norm(errvec)=3.55586e-06\n",
      "Linear dependence found in DIIS error vectors.\n",
      "diis-c [-1.11022302e-16 -1.44552145e-02  4.63179072e-02 -1.04294546e-01\n",
      "  1.76857682e-01  4.27150002e-01  4.67914184e-01  7.56852663e-04\n",
      " -2.46867594e-04]\n",
      "multiplicity <S^2> = 0.75  2S+1 = 2\n",
      "eX.__call__, rho shape: (2, 2348, 3)\n",
      "eC.__call__, rho shape: (2348, 4)\n",
      "E1 = -0.46472866697568793  Ecoul = -0.24465310591112047\n",
      "cycle= 15 E= -0.709381772886808  delta_E= 2.86e-07  |g|= 1.09e-07  |ddm|= 1.03e-05\n",
      "    CPU time for cycle = 15      0.77 sec, wall time      0.29 sec\n",
      "diis-norm(errvec)=2.08691e-07\n",
      "Linear dependence found in DIIS error vectors.\n",
      "diis-c [ 5.55111512e-17 -3.31101781e-02  2.93745800e-02 -3.31326660e-02\n",
      "  8.94596631e-02  2.97577122e-01  3.37002357e-01  3.12920594e-01\n",
      " -9.14717622e-05]\n",
      "multiplicity <S^2> = 0.75  2S+1 = 2\n",
      "eX.__call__, rho shape: (2, 2348, 3)\n",
      "eC.__call__, rho shape: (2348, 4)\n",
      "E1 = -0.46472866741434055  Ecoul = -0.2446531056361308\n",
      "cycle= 16 E= -0.709381773050471  delta_E= -1.64e-10  |g|= 3.94e-08  |ddm|= 1.02e-07\n",
      "    CPU time for cycle = 16      0.80 sec, wall time      0.29 sec\n",
      "eX.__call__, rho shape: (2, 2348, 3)\n",
      "eC.__call__, rho shape: (2348, 4)\n",
      "multiplicity <S^2> = 0.75  2S+1 = 2\n",
      "eX.__call__, rho shape: (2, 2348, 3)\n",
      "eC.__call__, rho shape: (2348, 4)\n",
      "E1 = -0.46472867450141025  Ecoul = -0.24465310114278915\n",
      "Extra cycle  E= -0.709381775644199  delta_E= -2.59e-09  |g|= 3.24e-08  |ddm|= 1.33e-07\n",
      "    CPU time for scf_cycle     14.94 sec, wall time      5.52 sec\n"
     ]
    },
    {
     "data": {
      "text/plain": [
       "Array(-0.70938178, dtype=float64)"
      ]
     },
     "execution_count": 22,
     "metadata": {},
     "output_type": "execute_result"
    }
   ],
   "source": [
    "mft = scf.UHF(mol)\n",
    "vgf = lambda x: xc(x, ao_evals[0], gws[0], mf=mf, coor=mf.grids.coords)\n",
    "mft.network = xc\n",
    "mft.network_eval1 = vgf\n",
    "mft.kernel()"
   ]
  },
  {
   "cell_type": "code",
   "execution_count": 16,
   "id": "909296aa-ba0a-4474-8168-1d2fb23d0273",
   "metadata": {
    "scrolled": true
   },
   "outputs": [
    {
     "name": "stdout",
     "output_type": "stream",
     "text": [
      "Set gradient conv threshold to 3.16228e-05\n",
      "cond(S) = 20.664786798723085\n",
      "E1 = -0.4935841095402088  Ecoul = 0.17103099393379043\n",
      "init E= -0.322553115606418\n",
      "    CPU time for initialize scf      1.27 sec, wall time      0.08 sec\n",
      "multiplicity <S^2> = 0.75  2S+1 = 2\n",
      "E1 = -0.4906045058048447  Ecoul = 1.2379730304809626e-17\n",
      "cycle= 1 E= -0.490604505804845  delta_E= -0.168  |g|= 0.0722  |ddm|= 0.406\n",
      "    CPU time for cycle = 1      0.57 sec, wall time      0.03 sec\n",
      "diis-norm(errvec)=0.118558\n",
      "diis-c [-0.01405603  1.        ]\n",
      "multiplicity <S^2> = 0.75  2S+1 = 2\n",
      "E1 = -0.49843474085714373  Ecoul = 2.4805842064132175e-17\n",
      "cycle= 2 E= -0.498434740857144  delta_E= -0.00783  |g|= 0.028  |ddm|= 0.146\n",
      "    CPU time for cycle = 2      0.40 sec, wall time      0.03 sec\n",
      "diis-norm(errvec)=0.0458698\n",
      "diis-c [-2.52783350e-07 -6.30994556e-01  1.63099456e+00]\n",
      "multiplicity <S^2> = 0.75  2S+1 = 2\n",
      "E1 = -0.49980980605573033  Ecoul = 1.1369955874814656e-17\n",
      "cycle= 3 E= -0.49980980605573  delta_E= -0.00138  |g|= 0.000172  |ddm|= 0.0894\n",
      "    CPU time for cycle = 3      0.41 sec, wall time      0.03 sec\n",
      "diis-norm(errvec)=0.000272658\n",
      "diis-c [-2.40999532e-09 -6.48062655e-02  1.62342549e-01  9.02463716e-01]\n",
      "multiplicity <S^2> = 0.75  2S+1 = 2\n",
      "E1 = -0.4998098318012631  Ecoul = -1.0806671240909036e-17\n",
      "cycle= 4 E= -0.499809831801263  delta_E= -2.57e-08  |g|= 2.86e-05  |ddm|= 0.000309\n",
      "    CPU time for cycle = 4      0.53 sec, wall time      0.03 sec\n",
      "diis-norm(errvec)=2.421e-05\n",
      "diis-c [-4.02340650e-19 -3.99244589e-04  2.79406863e-03 -3.74620345e-01\n",
      "  1.37222552e+00]\n",
      "multiplicity <S^2> = 0.75  2S+1 = 2\n",
      "E1 = -0.49980983223188874  Ecoul = -3.0728611819830493e-18\n",
      "cycle= 5 E= -0.499809832231889  delta_E= -4.31e-10  |g|= 7.12e-09  |ddm|= 5.23e-05\n",
      "    CPU time for cycle = 5      0.40 sec, wall time      0.03 sec\n",
      "multiplicity <S^2> = 0.75  2S+1 = 2\n"
     ]
    },
    {
     "name": "stderr",
     "output_type": "stream",
     "text": [
      "/home/awills/anaconda3/envs/pyscfad/lib/python3.10/site-packages/pyscf/gto/mole.py:1215: UserWarning: Function mol.dumps drops attribute coords because it is not JSON-serializable\n",
      "  warnings.warn(msg)\n",
      "/home/awills/anaconda3/envs/pyscfad/lib/python3.10/site-packages/pyscf/gto/mole.py:1215: UserWarning: Function mol.dumps drops attribute exp because it is not JSON-serializable\n",
      "  warnings.warn(msg)\n",
      "/home/awills/anaconda3/envs/pyscfad/lib/python3.10/site-packages/pyscf/gto/mole.py:1215: UserWarning: Function mol.dumps drops attribute ctr_coeff because it is not JSON-serializable\n",
      "  warnings.warn(msg)\n"
     ]
    },
    {
     "name": "stdout",
     "output_type": "stream",
     "text": [
      "E1 = -0.49980983223188896  Ecoul = 1.1612123446046894e-17\n",
      "Extra cycle  E= -0.499809832231889  delta_E= -2.22e-16  |g|= 1.39e-09  |ddm|= 6.21e-09\n",
      "    CPU time for scf_cycle      4.09 sec, wall time      0.27 sec\n"
     ]
    },
    {
     "data": {
      "text/plain": [
       "Array(-0.49980983, dtype=float64)"
      ]
     },
     "execution_count": 16,
     "metadata": {},
     "output_type": "execute_result"
    }
   ],
   "source": [
    "mft2 = scf.UHF(mol)\n",
    "mft2.kernel()"
   ]
  },
  {
   "cell_type": "code",
   "execution_count": 17,
   "id": "52ce0add-8419-4920-a19e-b2db6cbaf33f",
   "metadata": {},
   "outputs": [
    {
     "ename": "RuntimeError",
     "evalue": "No active exception to reraise",
     "output_type": "error",
     "traceback": [
      "\u001b[0;31m---------------------------------------------------------------------------\u001b[0m",
      "\u001b[0;31mRuntimeError\u001b[0m                              Traceback (most recent call last)",
      "Cell \u001b[0;32mIn[17], line 1\u001b[0m\n\u001b[0;32m----> 1\u001b[0m \u001b[38;5;28;01mraise\u001b[39;00m\n",
      "\u001b[0;31mRuntimeError\u001b[0m: No active exception to reraise"
     ]
    }
   ],
   "source": [
    "raise"
   ]
  },
  {
   "cell_type": "code",
   "execution_count": null,
   "id": "699a5670-6c9a-45e5-b093-6b6beb6b9d16",
   "metadata": {},
   "outputs": [],
   "source": [
    "mft.get_veff??"
   ]
  },
  {
   "cell_type": "code",
   "execution_count": null,
   "id": "36f00bf6-6e16-4c76-9dac-91b4e6f68960",
   "metadata": {},
   "outputs": [],
   "source": [
    "from pyscf import dft as dft_pyscf"
   ]
  },
  {
   "cell_type": "code",
   "execution_count": null,
   "id": "f56a75f0-0f2c-4ede-a9b5-cf95fb028561",
   "metadata": {
    "scrolled": true
   },
   "outputs": [],
   "source": [
    "mf3 = dft_pyscf.UKS(mol, xc='SCAN')\n",
    "dminp = mf3.get_init_guess()\n",
    "evxc2 = generate_network_eval_xc(mf=mf3, dm=dminp, network=xc)\n",
    "mf3.grids.level =3\n",
    "mf3.define_xc_(evxc, 'MGGA')\n",
    "mf3.kernel()"
   ]
  },
  {
   "cell_type": "code",
   "execution_count": null,
   "id": "e135c25b-d693-435c-b63b-57863182c5d6",
   "metadata": {},
   "outputs": [],
   "source": [
    "vgf = lambda x: xc(x, ao_evals[0], gws[0], mf=mf, coor=mf.grids.coords)\n",
    "mft.network = xc\n",
    "mft.network_eval1 = vgf\n"
   ]
  },
  {
   "cell_type": "code",
   "execution_count": null,
   "id": "678f31df-9fc7-4fca-a2ca-a448a3d34dca",
   "metadata": {},
   "outputs": [],
   "source": [
    "class E_PySCFAD_loss(eqx.Module):\n",
    "    def __init__(self):\n",
    "        '''\n",
    "        The standard energy loss module, RMSE loss of predicted vs. reference energies.\n",
    "        '''\n",
    "        super().__init__()\n",
    "\n",
    "    def __call__(self, model, mf, inp_dm, ao, gw, ref_en):\n",
    "        '''\n",
    "        Computes the energy loss for a given model and associated input density matrix, atomic orbitals on the grid, and grid weights\n",
    "\n",
    "        Loss is the RMSE energy, so predicted energy can potentially be a jax.Array of SCF guesses.\n",
    "\n",
    "        :param model: The XC object whose forward pass predicts the XC energy based on the inputs here.\n",
    "        :type model: xcquinox.xc.eXC\n",
    "        :param inp_dm: The density matrix to pass into the network for density creation on the grid.\n",
    "        :type inp_dm: jax.Array\n",
    "        :param ref_en: The reference energy to take the loss with respect to.\n",
    "        :type ref_en: jax.Array\n",
    "        :param ao_eval: Atomic orbitals evaluated on the grid\n",
    "        :type ao_eval: jax.Array\n",
    "        :param grid_weights: pyscfad's grid weights for the reference calculation\n",
    "        :type grid_weights: jax.Array\n",
    "        :return: The RMSE error.\n",
    "        :rtype: jax.Array\n",
    "        '''\n",
    "        print('generating eval_xc function to overwrite')\n",
    "        # vgf = lambda x: model(x, ao, gw, mf=mf)\n",
    "        # mf.network = model\n",
    "        # mf.network_eval = vgf\n",
    "        mf.max_memory=16000\n",
    "        # evxc = generate_network_eval_xc(mf=mf, dm=inp_dm, ao=ao, gw=gw, network=model)\n",
    "        evxc = generate_network_eval_xc(mf=mf, dm=inp_dm, network=model)\n",
    "        mf.define_xc_(evxc, xctype='MGGA')\n",
    "        print('predicting energy...')\n",
    "        e_pred = mf.kernel()\n",
    "        print('energy predicted')\n",
    "        eL = jnp.sqrt( jnp.mean((e_pred-ref_en)**2))\n",
    "        return eL\n"
   ]
  },
  {
   "cell_type": "code",
   "execution_count": null,
   "id": "fead1362-4477-4908-93da-3cc48cc12c1e",
   "metadata": {},
   "outputs": [],
   "source": [
    "cpus = jax.devices(backend='cpu')"
   ]
  },
  {
   "cell_type": "code",
   "execution_count": null,
   "id": "88a17c2f-cf19-42ed-81fc-411de2f8e056",
   "metadata": {
    "scrolled": true
   },
   "outputs": [],
   "source": [
    "scheduler = optax.exponential_decay(init_value = 1e-2, transition_begin=50, transition_steps=500, decay_rate=0.9)\n",
    "optimizer = optax.adam(learning_rate = 1e-2)\n",
    "# optimizer = optax.adam(learning_rate = scheduler)\n",
    "\n",
    "trainer = xce.train.xcTrainer(model=xc, optim=optimizer, steps=500, loss = E_PySCFAD_loss(), do_jit=False, logfile='log')\n",
    "# with jax.default_device(cpus[0]):\n",
    "#     newm = trainer(1, trainer.model, mfs, dms, ao_evals, gws, [-109.52596483])\n",
    "newm = trainer(1, trainer.model, mfs, dms, ao_evals, gws, [-109.52596483])\n"
   ]
  },
  {
   "cell_type": "markdown",
   "id": "67f6b2f1-341d-48d3-ad7b-e984e28a996b",
   "metadata": {},
   "source": [
    "Modifications in mldftdat, pyscfad, pyscf, xcquinox. \n",
    "\n",
    "xcquinox modifications took place in package repo, so no need to find differences\n",
    "\n",
    "mldftdat and pyscfad changes occured in package directory, need to find differences for mldftdat to put into xcquinox-cider and a patch for pyscfad"
   ]
  },
  {
   "cell_type": "markdown",
   "id": "72f855e6-7c4e-41a1-838c-b1b8b817208f",
   "metadata": {},
   "source": [
    "In dft.rks; np.isnan check at line 57, import jax"
   ]
  },
  {
   "cell_type": "markdown",
   "id": "f3800ff9-7f48-429c-9be9-70ec5752c908",
   "metadata": {},
   "source": [
    "In dft.numint, anywhere the loop generates subset ao/grids to loop over eval_xc with, tagged with #XCQUINOX MODIFICATION"
   ]
  },
  {
   "cell_type": "code",
   "execution_count": null,
   "id": "e3c87347-c9a3-4c94-9796-b329cad8939c",
   "metadata": {},
   "outputs": [],
   "source": [
    "jax.clear_backends()"
   ]
  },
  {
   "cell_type": "code",
   "execution_count": null,
   "id": "933a95c7-157e-4590-96fc-2f60b01349f8",
   "metadata": {},
   "outputs": [],
   "source": [
    "jax.clear_caches()"
   ]
  },
  {
   "cell_type": "code",
   "execution_count": null,
   "id": "e9097c65-8b14-4ef8-b1f8-47f26bb108bd",
   "metadata": {},
   "outputs": [],
   "source": [
    "eqx.clear_caches()"
   ]
  },
  {
   "cell_type": "code",
   "execution_count": null,
   "id": "0eae877f-d13e-4cd4-9997-44f5ea133526",
   "metadata": {},
   "outputs": [],
   "source": [
    "pyscfad.jax.clear_backends()"
   ]
  },
  {
   "cell_type": "code",
   "execution_count": null,
   "id": "766884aa-b5c6-4f9a-b2ba-985c36fff4c9",
   "metadata": {},
   "outputs": [],
   "source": [
    "pyscfad.jax.clear_caches()"
   ]
  },
  {
   "cell_type": "code",
   "execution_count": null,
   "id": "38b81d67-a815-4a71-a240-f49b5b1c4e8f",
   "metadata": {},
   "outputs": [],
   "source": [
    "pyscfad.jax.c"
   ]
  }
 ],
 "metadata": {
  "kernelspec": {
   "display_name": "Python 3 (ipykernel)",
   "language": "python",
   "name": "python3"
  },
  "language_info": {
   "codemirror_mode": {
    "name": "ipython",
    "version": 3
   },
   "file_extension": ".py",
   "mimetype": "text/x-python",
   "name": "python",
   "nbconvert_exporter": "python",
   "pygments_lexer": "ipython3",
   "version": "3.10.0"
  }
 },
 "nbformat": 4,
 "nbformat_minor": 5
}
