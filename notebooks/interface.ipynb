{
 "cells": [
  {
   "cell_type": "code",
   "execution_count": 1,
   "id": "0cf8befb-0e39-4736-aa0a-779ba9ff50b0",
   "metadata": {},
   "outputs": [
    {
     "name": "stderr",
     "output_type": "stream",
     "text": [
      "/home/awills/anaconda3/envs/pyscfad/lib/python3.10/site-packages/pyscf/dft/libxc.py:772: UserWarning: Since PySCF-2.3, B3LYP (and B3P86) are changed to the VWN-RPA variant, the same to the B3LYP functional in Gaussian and ORCA (issue 1480). To restore the VWN5 definition, you can put the setting \"B3LYP_WITH_VWN5 = True\" in pyscf_conf.py\n",
      "  warnings.warn('Since PySCF-2.3, B3LYP (and B3P86) are changed to the VWN-RPA variant, '\n",
      "2024-04-18 13:17:15.103905: E external/xla/xla/stream_executor/cuda/cuda_driver.cc:280] failed call to cuInit: CUDA_ERROR_NO_DEVICE: no CUDA-capable device is detected\n"
     ]
    }
   ],
   "source": [
    "import pyscfad\n",
    "from pyscfad import gto,dft,scf\n",
    "import matplotlib.pyplot as plt\n",
    "import equinox as eqx\n",
    "import pyscf\n",
    "# from pyscf import gto,dft,scf\n",
    "import numpy as np\n",
    "import jax.numpy as jnp\n",
    "import scipy\n",
    "from ase import Atoms\n",
    "from ase.io import read\n",
    "import xcquinox as xce\n",
    "from functools import partial\n",
    "from ase.units import Bohr\n",
    "import os, optax, jax\n"
   ]
  },
  {
   "cell_type": "code",
   "execution_count": 2,
   "id": "06f8541f-8158-4dbf-b92a-d3da4312598c",
   "metadata": {},
   "outputs": [],
   "source": [
    "PRETRAIN_LEVEL = 'MGGA'\n",
    "\n",
    "TRAIN_NET = 'x'\n",
    "\n",
    "REFERENCE_XC = 'PBE0'\n",
    "\n",
    "N_HIDDEN = 16\n",
    "DEPTH = 3\n",
    "if PRETRAIN_LEVEL == 'GGA':\n",
    "    localx = xce.net.eX(n_input=1, n_hidden=N_HIDDEN, use=[1], depth=DEPTH, lob=1.804)\n",
    "    localc = xce.net.eC(n_input=3, n_hidden=N_HIDDEN, use=[2], depth=DEPTH, ueg_limit=True)\n",
    "elif PRETRAIN_LEVEL == 'MGGA':\n",
    "    localx = xce.net.eX(n_input=2, n_hidden=N_HIDDEN, use=[1, 2], depth=DEPTH, ueg_limit=True, lob=1.174)\n",
    "    localc = xce.net.eC(n_input=4, n_hidden=N_HIDDEN, depth=DEPTH, use=[2,3], ueg_limit=True)\n",
    "elif PRETRAIN_LEVEL == 'NONLOCAL':\n",
    "    localx = xce.net.eX(n_input=18, n_hidden=N_HIDDEN, depth=DEPTH, ueg_limit=True, lob=1.174)\n",
    "    localc = xce.net.eC(n_input=16, n_hidden=N_HIDDEN, depth=DEPTH, ueg_limit=True)\n",
    "\n",
    "xc = xce.xc.eXC(grid_models=[localx, localc], heg_mult=True, level= {'GGA':2, 'MGGA':3, 'NONLOCAL':4}[PRETRAIN_LEVEL])"
   ]
  },
  {
   "cell_type": "code",
   "execution_count": 3,
   "id": "f92ce9e5-d98a-422b-888a-c6cecf06cee4",
   "metadata": {
    "scrolled": true
   },
   "outputs": [
    {
     "name": "stderr",
     "output_type": "stream",
     "text": [
      "/home/awills/anaconda3/envs/pyscfad/lib/python3.10/site-packages/pyscf/gto/mole.py:1215: UserWarning: Function mol.dumps drops attribute coords because it is not JSON-serializable\n",
      "  warnings.warn(msg)\n",
      "/home/awills/anaconda3/envs/pyscfad/lib/python3.10/site-packages/pyscf/gto/mole.py:1215: UserWarning: Function mol.dumps drops attribute exp because it is not JSON-serializable\n",
      "  warnings.warn(msg)\n",
      "/home/awills/anaconda3/envs/pyscfad/lib/python3.10/site-packages/pyscf/gto/mole.py:1215: UserWarning: Function mol.dumps drops attribute ctr_coeff because it is not JSON-serializable\n",
      "  warnings.warn(msg)\n",
      "/home/awills/anaconda3/envs/pyscfad/lib/python3.10/site-packages/pyscfad/_src/util.py:108: UserWarning: Not taking derivatives wrt the leaves in the node <class 'pyscfad.dft.rks.VXC'> as none of those was specified.\n",
      "  warnings.warn(f'Not taking derivatives wrt the leaves in '\n"
     ]
    }
   ],
   "source": [
    "trainms = read('/home/awills/Documents/Research2/torch_dpy/subset09_nf/subat_ref_corrected.traj', ':')\n",
    "mfs = []\n",
    "mols = []\n",
    "energies = []\n",
    "dms = []\n",
    "ao_evals = []\n",
    "gws = []\n",
    "eris = []\n",
    "mo_occs = []\n",
    "hcs = []\n",
    "vs = []\n",
    "ts = []\n",
    "ss = []\n",
    "hologaps = []\n",
    "ogds = []\n",
    "for idx, at in enumerate(trainms[1:2]):\n",
    "    name, mol = xce.utils.ase_atoms_to_mol(at, basis='def2tzvpd')\n",
    "    mol.build()\n",
    "    mols.append(mol)\n",
    "    mf = dft.RKS(mol, xc='SCAN')\n",
    "    e_tot = mf.kernel()\n",
    "    mfs.append(mf)\n",
    "    dm = mf.make_rdm1()\n",
    "    ao_eval = jnp.array(mf._numint.eval_ao(mol, mf.grids.coords, deriv=2))\n",
    "    energies.append(mf.get_veff().exc)\n",
    "    dms.append(dm)\n",
    "    ogds.append(dm.shape)\n",
    "    ao_evals.append(ao_eval)\n",
    "    gws.append(mf.grids.weights)\n",
    "    ts.append(mol.intor('int1e_kin'))\n",
    "    vs.append(mol.intor('int1e_nuc'))\n",
    "    mo_occs.append(mf.mo_occ)\n",
    "    hcs.append(mf.get_hcore())\n",
    "    eris.append(mol.intor('int2e'))\n",
    "    ss.append(jnp.linalg.inv(jnp.linalg.cholesky(mol.intor('int1e_ovlp'))))\n",
    "    hologaps.append(mf.mo_energy[mf.mo_occ == 0][0] - mf.mo_energy[mf.mo_occ > 1][-1])"
   ]
  },
  {
   "cell_type": "code",
   "execution_count": 4,
   "id": "21843ba3-3cee-44df-ae13-0631a575cbd6",
   "metadata": {},
   "outputs": [
    {
     "data": {
      "text/plain": [
       "Array(-109.52596483, dtype=float64)"
      ]
     },
     "execution_count": 4,
     "metadata": {},
     "output_type": "execute_result"
    }
   ],
   "source": [
    "e_tot"
   ]
  },
  {
   "cell_type": "code",
   "execution_count": 15,
   "id": "bf22c20c-1aa2-4c21-bd27-3eb4d6b46000",
   "metadata": {},
   "outputs": [],
   "source": [
    "def generate_network_eval_xc(mf, dm, ao, gw, network):\n",
    "    def eval_xc(xc_code, rho, spin=0, relativity=0, deriv=1, omega=None, verbose=None):\n",
    "        print('custom eval_xc; input rho shape: ', rho.shape)\n",
    "        if len(rho.shape) == 2:\n",
    "            rho0 = rho[0]\n",
    "            drho = rho[1:4]\n",
    "            tau = 0.5*(rho[1] + rho[2] + rho[3])\n",
    "            \n",
    "            non_loc = jnp.zeros_like(tau)\n",
    "        # print(f'decomposed shapes:\\nrho0={rho0.shape}\\ndrho={drho.shape}\\ntau={tau.shape}\\nnon_loc={non_loc.shape}')\n",
    "        if dm.ndim == 3: # If unrestricted (open-shell) calculation\n",
    "\n",
    "            # Density\n",
    "            rho0_a = rho0[0]\n",
    "            rho0_b = rho0[1]\n",
    "\n",
    "            # jnp.einsumed density gradient\n",
    "            gamma_a, gamma_b = jnp.einsum('ij,ij->j',drho[:,0],drho[:,0]), jnp.einsum('ij,ij->j',drho[:,1],drho[:,1])\n",
    "            gamma_ab = jnp.einsum('ij,ij->j',drho[:,0],drho[:,1])\n",
    "\n",
    "            # Kinetic energy density\n",
    "            tau_a, tau_b = tau\n",
    "\n",
    "            # E.-static\n",
    "            non_loc_a, non_loc_b = non_loc\n",
    "        else:\n",
    "            rho0_a = rho0_b = rho0*0.5\n",
    "            gamma_a=gamma_b=gamma_ab= jnp.einsum('ij,ij->j',drho[:],drho[:])*0.25\n",
    "            tau_a = tau_b = tau*0.5\n",
    "            non_loc_a=non_loc_b = non_loc*0.5\n",
    "\n",
    "        # xc-energy per unit particle\n",
    "        exc = network.eval_grid_models(jnp.concatenate([jnp.expand_dims(rho0_a,-1),\n",
    "                                                jnp.expand_dims(rho0_b,-1),\n",
    "                                                jnp.expand_dims(gamma_a,-1),\n",
    "                                                jnp.expand_dims(gamma_ab,-1),\n",
    "                                                jnp.expand_dims(gamma_b,-1),\n",
    "                                                jnp.expand_dims(jnp.zeros_like(rho0_a),-1), #Dummy for laplacian\n",
    "                                                jnp.expand_dims(jnp.zeros_like(rho0_a),-1), #Dummy for laplacian\n",
    "                                                jnp.expand_dims(tau_a,-1),\n",
    "                                                jnp.expand_dims(tau_b,-1),\n",
    "                                                jnp.expand_dims(non_loc_a,-1),\n",
    "                                                jnp.expand_dims(non_loc_b,-1)],axis=-1),\n",
    "                                   mf = mf, dm = dm)\n",
    "        exc = exc[:, 0]\n",
    "        # print('exc from network evaluation on grid models shape: ', exc.shape)\n",
    "        vgf = lambda x: network(x, ao, gw, mf=mf)\n",
    "        mf.network = xc\n",
    "        mf.network_eval = vgf\n",
    "        vxc = jax.grad(vgf)(dm)\n",
    "        # vrho = vxc\n",
    "        vrho = exc*rho0\n",
    "        vgamma = jnp.zeros_like(vrho)\n",
    "        vlapl = None\n",
    "        vtau = jnp.nan_to_num(exc*tau)\n",
    "        fxc = None #second order functional derivative\n",
    "        kxc = None #third order functional derivative\n",
    "        # print(f'shapes: vxc={vxc.shape}, vrho={vrho.shape}, vgamma={vgamma.shape}')\n",
    "        return exc, (vrho, vgamma, vlapl, vtau), fxc, kxc\n",
    "    return eval_xc"
   ]
  },
  {
   "cell_type": "code",
   "execution_count": 16,
   "id": "b8723fdb-c238-4f9a-8a96-6e58f6ee7de5",
   "metadata": {},
   "outputs": [
    {
     "data": {
      "text/plain": [
       "0"
      ]
     },
     "execution_count": 16,
     "metadata": {},
     "output_type": "execute_result"
    }
   ],
   "source": [
    "mf.mol.spin"
   ]
  },
  {
   "cell_type": "code",
   "execution_count": 17,
   "id": "d7af3581-3c65-4929-ab3e-d53e2f8a9c98",
   "metadata": {},
   "outputs": [],
   "source": [
    "evxc = generate_network_eval_xc(mf=mf, dm=dm, ao=ao_eval, gw=mf.grids.weights, network=xc)"
   ]
  },
  {
   "cell_type": "code",
   "execution_count": 18,
   "id": "6efa2b93-f16b-4a3d-863b-4523d892098c",
   "metadata": {},
   "outputs": [
    {
     "data": {
      "text/plain": [
       "RKS-KohnShamDFT object of <class 'pyscfad.dft.rks.RKS'>"
      ]
     },
     "execution_count": 18,
     "metadata": {},
     "output_type": "execute_result"
    }
   ],
   "source": [
    "\n",
    "mf.define_xc_(evxc, xctype='MGGA')"
   ]
  },
  {
   "cell_type": "code",
   "execution_count": 19,
   "id": "b2217377-a12d-480b-9537-986f4dfbb95f",
   "metadata": {
    "scrolled": true
   },
   "outputs": [
    {
     "name": "stderr",
     "output_type": "stream",
     "text": [
      "<class 'pyscfad.dft.rks.RKS'> does not have attributes  network network_eval\n",
      "/home/awills/anaconda3/envs/pyscfad/lib/python3.10/site-packages/pyscf/gto/mole.py:1215: UserWarning: Function mol.dumps drops attribute coords because it is not JSON-serializable\n",
      "  warnings.warn(msg)\n",
      "/home/awills/anaconda3/envs/pyscfad/lib/python3.10/site-packages/pyscf/gto/mole.py:1215: UserWarning: Function mol.dumps drops attribute exp because it is not JSON-serializable\n",
      "  warnings.warn(msg)\n",
      "/home/awills/anaconda3/envs/pyscfad/lib/python3.10/site-packages/pyscf/gto/mole.py:1215: UserWarning: Function mol.dumps drops attribute ctr_coeff because it is not JSON-serializable\n",
      "  warnings.warn(msg)\n"
     ]
    },
    {
     "name": "stdout",
     "output_type": "stream",
     "text": [
      "custom eval_xc; input rho shape:  (6, 25728)\n",
      "eX.__call__, rho shape: (2, 25728, 3)\n",
      "eC.__call__, rho shape: (25728, 4)\n",
      "eX.__call__, rho shape: (2, 25728, 3)\n",
      "eC.__call__, rho shape: (25728, 4)\n",
      "exc is nan, trying alternate calculation with network eval\n",
      "eX.__call__, rho shape: (2, 25728, 3)\n",
      "eC.__call__, rho shape: (25728, 4)\n",
      "custom eval_xc; input rho shape:  (6, 25728)\n",
      "eX.__call__, rho shape: (2, 25728, 3)\n",
      "eC.__call__, rho shape: (25728, 4)\n",
      "eX.__call__, rho shape: (2, 25728, 3)\n",
      "eC.__call__, rho shape: (25728, 4)\n",
      "exc is nan, trying alternate calculation with network eval\n",
      "eX.__call__, rho shape: (2, 25728, 3)\n",
      "eC.__call__, rho shape: (25728, 4)\n"
     ]
    },
    {
     "name": "stderr",
     "output_type": "stream",
     "text": [
      "/home/awills/anaconda3/envs/pyscfad/lib/python3.10/site-packages/pyscfad/_src/util.py:108: UserWarning: Not taking derivatives wrt the leaves in the node <class 'pyscfad.dft.rks.VXC'> as none of those was specified.\n",
      "  warnings.warn(f'Not taking derivatives wrt the leaves in '\n"
     ]
    },
    {
     "name": "stdout",
     "output_type": "stream",
     "text": [
      "custom eval_xc; input rho shape:  (6, 25728)\n",
      "eX.__call__, rho shape: (2, 25728, 3)\n",
      "eC.__call__, rho shape: (25728, 4)\n",
      "eX.__call__, rho shape: (2, 25728, 3)\n",
      "eC.__call__, rho shape: (25728, 4)\n",
      "exc is nan, trying alternate calculation with network eval\n",
      "eX.__call__, rho shape: (2, 25728, 3)\n",
      "eC.__call__, rho shape: (25728, 4)\n"
     ]
    },
    {
     "name": "stderr",
     "output_type": "stream",
     "text": [
      "/home/awills/anaconda3/envs/pyscfad/lib/python3.10/site-packages/pyscfad/_src/util.py:108: UserWarning: Not taking derivatives wrt the leaves in the node <class 'pyscfad.dft.rks.VXC'> as none of those was specified.\n",
      "  warnings.warn(f'Not taking derivatives wrt the leaves in '\n"
     ]
    },
    {
     "name": "stdout",
     "output_type": "stream",
     "text": [
      "custom eval_xc; input rho shape:  (6, 25728)\n",
      "eX.__call__, rho shape: (2, 25728, 3)\n",
      "eC.__call__, rho shape: (25728, 4)\n",
      "eX.__call__, rho shape: (2, 25728, 3)\n",
      "eC.__call__, rho shape: (25728, 4)\n",
      "exc is nan, trying alternate calculation with network eval\n",
      "eX.__call__, rho shape: (2, 25728, 3)\n",
      "eC.__call__, rho shape: (25728, 4)\n"
     ]
    },
    {
     "name": "stderr",
     "output_type": "stream",
     "text": [
      "/home/awills/anaconda3/envs/pyscfad/lib/python3.10/site-packages/pyscfad/_src/util.py:108: UserWarning: Not taking derivatives wrt the leaves in the node <class 'pyscfad.dft.rks.VXC'> as none of those was specified.\n",
      "  warnings.warn(f'Not taking derivatives wrt the leaves in '\n"
     ]
    },
    {
     "name": "stdout",
     "output_type": "stream",
     "text": [
      "custom eval_xc; input rho shape:  (6, 25728)\n",
      "eX.__call__, rho shape: (2, 25728, 3)\n",
      "eC.__call__, rho shape: (25728, 4)\n",
      "eX.__call__, rho shape: (2, 25728, 3)\n",
      "eC.__call__, rho shape: (25728, 4)\n",
      "exc is nan, trying alternate calculation with network eval\n",
      "eX.__call__, rho shape: (2, 25728, 3)\n",
      "eC.__call__, rho shape: (25728, 4)\n"
     ]
    },
    {
     "name": "stderr",
     "output_type": "stream",
     "text": [
      "/home/awills/anaconda3/envs/pyscfad/lib/python3.10/site-packages/pyscfad/_src/util.py:108: UserWarning: Not taking derivatives wrt the leaves in the node <class 'pyscfad.dft.rks.VXC'> as none of those was specified.\n",
      "  warnings.warn(f'Not taking derivatives wrt the leaves in '\n"
     ]
    },
    {
     "name": "stdout",
     "output_type": "stream",
     "text": [
      "custom eval_xc; input rho shape:  (6, 25728)\n",
      "eX.__call__, rho shape: (2, 25728, 3)\n",
      "eC.__call__, rho shape: (25728, 4)\n",
      "eX.__call__, rho shape: (2, 25728, 3)\n",
      "eC.__call__, rho shape: (25728, 4)\n",
      "exc is nan, trying alternate calculation with network eval\n",
      "eX.__call__, rho shape: (2, 25728, 3)\n",
      "eC.__call__, rho shape: (25728, 4)\n"
     ]
    },
    {
     "name": "stderr",
     "output_type": "stream",
     "text": [
      "/home/awills/anaconda3/envs/pyscfad/lib/python3.10/site-packages/pyscfad/_src/util.py:108: UserWarning: Not taking derivatives wrt the leaves in the node <class 'pyscfad.dft.rks.VXC'> as none of those was specified.\n",
      "  warnings.warn(f'Not taking derivatives wrt the leaves in '\n"
     ]
    },
    {
     "name": "stdout",
     "output_type": "stream",
     "text": [
      "custom eval_xc; input rho shape:  (6, 25728)\n",
      "eX.__call__, rho shape: (2, 25728, 3)\n",
      "eC.__call__, rho shape: (25728, 4)\n",
      "eX.__call__, rho shape: (2, 25728, 3)\n",
      "eC.__call__, rho shape: (25728, 4)\n",
      "exc is nan, trying alternate calculation with network eval\n",
      "eX.__call__, rho shape: (2, 25728, 3)\n",
      "eC.__call__, rho shape: (25728, 4)\n"
     ]
    },
    {
     "name": "stderr",
     "output_type": "stream",
     "text": [
      "/home/awills/anaconda3/envs/pyscfad/lib/python3.10/site-packages/pyscfad/_src/util.py:108: UserWarning: Not taking derivatives wrt the leaves in the node <class 'pyscfad.dft.rks.VXC'> as none of those was specified.\n",
      "  warnings.warn(f'Not taking derivatives wrt the leaves in '\n"
     ]
    },
    {
     "name": "stdout",
     "output_type": "stream",
     "text": [
      "custom eval_xc; input rho shape:  (6, 25728)\n",
      "eX.__call__, rho shape: (2, 25728, 3)\n",
      "eC.__call__, rho shape: (25728, 4)\n",
      "eX.__call__, rho shape: (2, 25728, 3)\n",
      "eC.__call__, rho shape: (25728, 4)\n",
      "exc is nan, trying alternate calculation with network eval\n",
      "eX.__call__, rho shape: (2, 25728, 3)\n",
      "eC.__call__, rho shape: (25728, 4)\n"
     ]
    },
    {
     "name": "stderr",
     "output_type": "stream",
     "text": [
      "/home/awills/anaconda3/envs/pyscfad/lib/python3.10/site-packages/pyscfad/_src/util.py:108: UserWarning: Not taking derivatives wrt the leaves in the node <class 'pyscfad.dft.rks.VXC'> as none of those was specified.\n",
      "  warnings.warn(f'Not taking derivatives wrt the leaves in '\n"
     ]
    },
    {
     "name": "stdout",
     "output_type": "stream",
     "text": [
      "custom eval_xc; input rho shape:  (6, 25728)\n",
      "eX.__call__, rho shape: (2, 25728, 3)\n",
      "eC.__call__, rho shape: (25728, 4)\n",
      "eX.__call__, rho shape: (2, 25728, 3)\n",
      "eC.__call__, rho shape: (25728, 4)\n",
      "exc is nan, trying alternate calculation with network eval\n",
      "eX.__call__, rho shape: (2, 25728, 3)\n",
      "eC.__call__, rho shape: (25728, 4)\n",
      "custom eval_xc; input rho shape:  (6, 25728)\n",
      "eX.__call__, rho shape: (2, 25728, 3)\n",
      "eC.__call__, rho shape: (25728, 4)\n",
      "eX.__call__, rho shape: (2, 25728, 3)\n",
      "eC.__call__, rho shape: (25728, 4)\n",
      "exc is nan, trying alternate calculation with network eval\n",
      "eX.__call__, rho shape: (2, 25728, 3)\n",
      "eC.__call__, rho shape: (25728, 4)\n"
     ]
    },
    {
     "name": "stderr",
     "output_type": "stream",
     "text": [
      "/home/awills/anaconda3/envs/pyscfad/lib/python3.10/site-packages/pyscfad/_src/util.py:108: UserWarning: Not taking derivatives wrt the leaves in the node <class 'pyscfad.dft.rks.VXC'> as none of those was specified.\n",
      "  warnings.warn(f'Not taking derivatives wrt the leaves in '\n"
     ]
    },
    {
     "data": {
      "text/plain": [
       "Array(-108.63733875, dtype=float64)"
      ]
     },
     "execution_count": 19,
     "metadata": {},
     "output_type": "execute_result"
    }
   ],
   "source": [
    "mf.kernel()"
   ]
  }
 ],
 "metadata": {
  "kernelspec": {
   "display_name": "Python 3 (ipykernel)",
   "language": "python",
   "name": "python3"
  },
  "language_info": {
   "codemirror_mode": {
    "name": "ipython",
    "version": 3
   },
   "file_extension": ".py",
   "mimetype": "text/x-python",
   "name": "python",
   "nbconvert_exporter": "python",
   "pygments_lexer": "ipython3",
   "version": "3.10.14"
  }
 },
 "nbformat": 4,
 "nbformat_minor": 5
}
