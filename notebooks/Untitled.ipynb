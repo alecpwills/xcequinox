{
 "cells": [
  {
   "cell_type": "code",
   "execution_count": 1,
   "id": "03c4b741-1fd1-4e2b-9884-cb47dd683ada",
   "metadata": {},
   "outputs": [],
   "source": [
    "import numpy as np\n",
    "import os"
   ]
  },
  {
   "cell_type": "code",
   "execution_count": 2,
   "id": "ae2805c4-aa67-42d4-abb1-74438830e73b",
   "metadata": {},
   "outputs": [],
   "source": [
    "nwaters = [96, 192, 300]\n",
    "nions = [2,4,8]"
   ]
  },
  {
   "cell_type": "code",
   "execution_count": 3,
   "id": "0e8d6761-8274-4f05-964e-8454ab9b12df",
   "metadata": {},
   "outputs": [
    {
     "name": "stdout",
     "output_type": "stream",
     "text": [
      "0.0333268980554285\n"
     ]
    }
   ],
   "source": [
    "water_vol = 997 #kg/m^3\n",
    "meter_to_ang = 1e10 #ang/meter\n",
    "\n",
    "water_vol_ang = water_vol * (1/meter_to_ang)**3\n",
    "\n",
    "molar_w_wat = 18.01528 #g/mol\n",
    "molar_w_wat = molar_w_wat/1000 #kg/mol\n",
    "\n",
    "NA = 6.022e23 #particles/mol\n",
    "\n",
    "water_dens_ang = water_vol_ang / molar_w_wat\n",
    "water_dens_ang = water_dens_ang * NA\n",
    "print(water_dens_ang)"
   ]
  },
  {
   "cell_type": "code",
   "execution_count": 6,
   "id": "04e2971e-0b5e-4197-a9e1-0f0317996d95",
   "metadata": {},
   "outputs": [],
   "source": [
    "scale_dens = (96+2)/(14.373**3)"
   ]
  },
  {
   "cell_type": "code",
   "execution_count": 12,
   "id": "cdabb47c-5b14-49fa-b111-b6a318a6199f",
   "metadata": {},
   "outputs": [],
   "source": [
    "vols_needed = {ni:[] for ni in nions}\n",
    "lens_needed = {ni:[] for ni in nions}\n",
    "for ni in nions:\n",
    "    vols_needed[ni] = [(ni+nw)/scale_dens for nw in nwaters]\n",
    "    lens_needed[ni] = [(nw, ((ni+nw)/scale_dens)**(1/3)) for nw in nwaters]"
   ]
  },
  {
   "cell_type": "code",
   "execution_count": 13,
   "id": "2dbd9356-d936-40c7-91aa-7554e62bea79",
   "metadata": {},
   "outputs": [
    {
     "data": {
      "text/plain": [
       "{2: [(96, 14.372999999999998),\n",
       "  (192, 18.047039836766523),\n",
       "  (300, 20.915795229415725)],\n",
       " 4: [(96, 14.470117810852667),\n",
       "  (192, 18.10884525013901),\n",
       "  (300, 20.961865411807718)],\n",
       " 8: [(96, 14.660535934451216),\n",
       "  (192, 18.231206024351998),\n",
       "  (300, 21.05340310315902)]}"
      ]
     },
     "execution_count": 13,
     "metadata": {},
     "output_type": "execute_result"
    }
   ],
   "source": [
    "lens_needed"
   ]
  },
  {
   "cell_type": "markdown",
   "id": "859f49e2-3935-4089-9050-9cd6a5ddc56f",
   "metadata": {},
   "source": [
    "Finding out which networks to save in the end for the pre-trained models"
   ]
  },
  {
   "cell_type": "code",
   "execution_count": 3,
   "id": "60a03f30-808e-4703-a82e-c1711f6df942",
   "metadata": {},
   "outputs": [],
   "source": [
    "topd = '/home/awills/Documents/Research/xcquinox/models/pretrained/'\n",
    "xcs = ['pbe0','scan']\n",
    "ddct = {xc:[i for i in os.listdir(os.path.join(topd, xc)) if os.path.isdir(os.path.join(topd,xc))] for xc in xcs}"
   ]
  },
  {
   "cell_type": "code",
   "execution_count": 4,
   "id": "0fbad535-d309-4a75-8618-8e2fe745933d",
   "metadata": {},
   "outputs": [
    {
     "data": {
      "text/plain": [
       "{'pbe0': ['x_3_32_mgga',\n",
       "  'c_3_16_ss_nl',\n",
       "  'x_3_16_ss_mgga',\n",
       "  'c_3_16_ss_mgga',\n",
       "  'c_3_16_mgga',\n",
       "  'x_3_32_nl',\n",
       "  'x_4_16_ss_nl',\n",
       "  'c_3_16_nl'],\n",
       " 'scan': ['x_3_16_mgga',\n",
       "  'x_3_16_nl',\n",
       "  'x_3_32_ss_nl',\n",
       "  'c_3_16_ss_nl',\n",
       "  'x_4_16_ss_mgga',\n",
       "  'c_3_16_ss_mgga',\n",
       "  'c_3_16_mgga',\n",
       "  'c_3_16_nl']}"
      ]
     },
     "execution_count": 4,
     "metadata": {},
     "output_type": "execute_result"
    }
   ],
   "source": [
    "ddct"
   ]
  },
  {
   "cell_type": "code",
   "execution_count": 8,
   "id": "9d610aac-d12d-4df3-b0f7-15c0897c37e3",
   "metadata": {},
   "outputs": [
    {
     "name": "stdout",
     "output_type": "stream",
     "text": [
      "pbe0 x_3_32_mgga xc.eqx.1440\n",
      "pbe0 c_3_16_ss_nl xc.eqx.25\n",
      "pbe0 x_3_16_ss_mgga xc.eqx.2464\n",
      "pbe0 c_3_16_ss_mgga xc.eqx.25\n",
      "pbe0 c_3_16_mgga xc.eqx.2499\n",
      "pbe0 x_3_32_nl xc.eqx.9999\n",
      "pbe0 x_4_16_ss_nl xc.eqx.4331\n",
      "pbe0 c_3_16_nl xc.eqx.157\n",
      "scan x_3_16_mgga xc.eqx.2459\n",
      "scan x_3_16_nl xc.eqx.9239\n",
      "scan x_3_32_ss_nl xc.eqx.4635\n",
      "scan c_3_16_ss_nl xc.eqx.21\n",
      "scan x_4_16_ss_mgga xc.eqx.9334\n",
      "scan c_3_16_ss_mgga xc.eqx.28\n",
      "scan c_3_16_mgga xc.eqx.25\n",
      "scan c_3_16_nl xc.eqx.55\n"
     ]
    }
   ],
   "source": [
    "for k, v in ddct.items():\n",
    "    for subd in v:\n",
    "        direc = os.path.join(topd, k, subd)\n",
    "        xcchkpts = sorted([i for i in os.listdir(direc) if 'xc.eqx' in i], key=lambda x: int(x.split('.')[-1]))\n",
    "        print(k, subd, xcchkpts[-1])\n",
    "        fp = os.path.join(direc, xcchkpts[-1])\n",
    "        cpf = os.path.join(direc, 'xc')\n",
    "        os.system(f'cp {fp} {cpf}')"
   ]
  },
  {
   "cell_type": "code",
   "execution_count": null,
   "id": "b52b3a6d-0be5-49e1-99a7-360f69432647",
   "metadata": {},
   "outputs": [],
   "source": []
  }
 ],
 "metadata": {
  "kernelspec": {
   "display_name": "Python 3 (ipykernel)",
   "language": "python",
   "name": "python3"
  },
  "language_info": {
   "codemirror_mode": {
    "name": "ipython",
    "version": 3
   },
   "file_extension": ".py",
   "mimetype": "text/x-python",
   "name": "python",
   "nbconvert_exporter": "python",
   "pygments_lexer": "ipython3",
   "version": "3.10.14"
  }
 },
 "nbformat": 4,
 "nbformat_minor": 5
}
