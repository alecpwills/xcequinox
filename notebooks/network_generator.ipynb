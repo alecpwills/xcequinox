{
 "cells": [
  {
   "cell_type": "code",
   "execution_count": 2,
   "id": "d78fc366-4315-434a-b700-9797afcbb266",
   "metadata": {},
   "outputs": [],
   "source": [
    "import os\n",
    "import equinox as eqx\n",
    "import xcquinox as xce"
   ]
  },
  {
   "cell_type": "code",
   "execution_count": 4,
   "id": "ae677cef-c190-4bc5-8c90-6c59053474f7",
   "metadata": {},
   "outputs": [],
   "source": [
    "def make_net(xorc, level, depth, nhidden, ninput = None, use = None, spin_scaling = None, lob = None, ueg_limit = None,\n",
    "                random_seed = None, savepath = None, configfile = 'network.config'):\n",
    "    defaults_dct = {'GGA': {'X': {'ninput' : 1, 'depth': 3, 'nhidden': 16, 'use': [1], 'spin_scaling': True, 'lob': 1.804, 'ueg_limit':True},\n",
    "                            'C': {'ninput': 3, 'depth': 3, 'nhidden': 16, 'use': [2], 'spin_scaling': False, 'lob': 2.0, 'ueg_limit':True}\n",
    "                           },\n",
    "                    'MGGA': {'X': {'ninput' : 2, 'depth': 3, 'nhidden': 16, 'use': [1, 2], 'spin_scaling': True, 'lob': 1.174, 'ueg_limit':True},\n",
    "                            'C': {'ninput': 4, 'depth': 3, 'nhidden': 16, 'use': [2, 3], 'spin_scaling': False, 'lob': 2.0, 'ueg_limit':True}\n",
    "                           },\n",
    "                    'NL': {'X': {'ninput' : 18, 'depth': 3, 'nhidden': 16, 'use': None, 'spin_scaling': True, 'lob': 0, 'ueg_limit':True},\n",
    "                            'C': {'ninput': 16, 'depth': 3, 'nhidden': 16, 'use': None, 'spin_scaling': False, 'lob': 0, 'ueg_limit':True}\n",
    "                           }\n",
    "                   }\n",
    "    assert level.upper() in ['GGA', 'MGGA', 'NONLOCAL', 'NL']\n",
    "    ninput = ninput if ninput is not None else defaults_dct[level.upper()][xorc.upper()]['ninput']\n",
    "    depth = depth if depth is not None else defaults_dct[level.upper()][xorc.upper()]['depth']\n",
    "    nhidden = nhidden if nhidden is not None else defaults_dct[level.upper()][xorc.upper()]['nhidden']\n",
    "    use = use if use is not None else defaults_dct[level.upper()][xorc.upper()]['use']\n",
    "    spin_scaling = spin_scaling if spin_scaling is not None else defaults_dct[level.upper()][xorc.upper()]['spin_scaling']\n",
    "    ueg_limit = ueg_limit if ueg_limit is not None else defaults_dct[level.upper()][xorc.upper()]['ueg_limit']\n",
    "    lob = lob if lob is not None else defaults_dct[level.upper()][xorc.upper()]['lob']\n",
    "    random_seed = random_seed if random_seed is not None else 92017\n",
    "    config = {'ninput':ninput,\n",
    "              'depth':depth,\n",
    "              'nhidden':nhidden,\n",
    "              'use':use,\n",
    "              'spin_scaling':spin_scaling,\n",
    "              'ueg_limit': ueg_limit,\n",
    "              'lob':lob,\n",
    "             'random_seed': random_seed}\n",
    "    if xorc.upper() == 'X':    \n",
    "        net = xce.net.eX(n_input=ninput, use=use, depth=depth, n_hidden=nhidden, spin_scaling=spin_scaling, lob=lob, seed=random_seed)\n",
    "    elif xorc.upper() == 'C':\n",
    "        net = xce.net.eC(n_input=ninput, use=use, depth=depth, n_hidden=nhidden, spin_scaling=spin_scaling, lob=lob, seed=random_seed)\n",
    "    \n",
    "    if savepath:\n",
    "        try:\n",
    "            os.makedirs(savepath)\n",
    "        except Exception as e:\n",
    "            print(e)\n",
    "            print(f'Exception raised in creating {savepath}.')\n",
    "        with open(os.path.join(savepath, configfile), 'w') as f:\n",
    "            for k, v in config.items():\n",
    "                f.write(f'{k}\\t{v}\\n')\n",
    "        eqx.tree_serialise_leaves(os.path.join(savepath, 'xc.eqx', net))\n",
    "\n",
    "    return net, config\n",
    "\n",
    "def make_xcfunc(x_net_path, c_net_path):\n",
    "    pass"
   ]
  },
  {
   "cell_type": "code",
   "execution_count": null,
   "id": "5e6525fd-f7e4-4889-8364-93e81ef9a171",
   "metadata": {},
   "outputs": [],
   "source": [
    "rseeds = [92017, 17920]\n",
    "dirs = ['gga', 'mgga', 'nl']\n",
    "constrs = ['c', 'nc']\n",
    "randir = '/home/awills/Documents/Research/xcquinox/scripts/script_data/ctests/ran'\n",
    "DEPTH = 3\n",
    "NHIDDEN = 16\n",
    "for didx, direc in enumerate(dirs):\n",
    "    for sidx, seed in enumerate(rseeds):\n",
    "        for cidx, con in enumerate(constrs):\n",
    "            xsubdir = f'{x_{DEPTH}_{NHIDDEN}_{con}{sidx}_{direc}'\n",
    "            csubdir = f'{x_{DEPTH}_{NHIDDEN}_{con}{sidx}_{direc}'\n",
    "            xfp = os.path.join(randir, xsubdir)\n",
    "            cfp = os.path.join(randir, csubdir)\n",
    "            if con == 'c':\n",
    "                #leave inputs as none so the defaults are imposed, which use constraints   \n",
    "                x, xc = make_net('x', level=direc, depth=DEPTH, nhidden=NHIDDEN, random_seed = seed, savepath = xfp)\n",
    "                c, cc = make_net('c', level=direc, depth=DEPTH, nhidden=NHIDDEN, random_seed = seed, savepath = cfp)\n",
    "            if con == 'nc':\n",
    "                #manually set ueg_limit/spin_scaling/lobs/use/ninputs\n",
    "                ueg = False\n",
    "                lob = 0\n",
    "                ss = False\n",
    "                use = []\n",
    "                "
   ]
  },
  {
   "cell_type": "code",
   "execution_count": null,
   "id": "40a435a8-52a0-4022-8d3b-899975d40256",
   "metadata": {},
   "outputs": [],
   "source": []
  }
 ],
 "metadata": {
  "kernelspec": {
   "display_name": "Python 3 (ipykernel)",
   "language": "python",
   "name": "python3"
  },
  "language_info": {
   "codemirror_mode": {
    "name": "ipython",
    "version": 3
   },
   "file_extension": ".py",
   "mimetype": "text/x-python",
   "name": "python",
   "nbconvert_exporter": "python",
   "pygments_lexer": "ipython3",
   "version": "3.10.0"
  }
 },
 "nbformat": 4,
 "nbformat_minor": 5
}
