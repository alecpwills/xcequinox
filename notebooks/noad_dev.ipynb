{
 "cells": [
  {
   "cell_type": "code",
   "execution_count": 1,
   "id": "146c3044-6873-446f-bdb0-e2086b11b138",
   "metadata": {},
   "outputs": [
    {
     "name": "stderr",
     "output_type": "stream",
     "text": [
      "/home/awills/anaconda3/envs/pyscfad/lib/python3.10/site-packages/pyscf/dft/libxc.py:772: UserWarning: Since PySCF-2.3, B3LYP (and B3P86) are changed to the VWN-RPA variant, the same to the B3LYP functional in Gaussian and ORCA (issue 1480). To restore the VWN5 definition, you can put the setting \"B3LYP_WITH_VWN5 = True\" in pyscf_conf.py\n",
      "  warnings.warn('Since PySCF-2.3, B3LYP (and B3P86) are changed to the VWN-RPA variant, '\n",
      "CUDA backend failed to initialize: Found CUDA version 12010, but JAX was built against version 12030, which is newer. The copy of CUDA that is installed must be at least as new as the version against which JAX was built. (Set TF_CPP_MIN_LOG_LEVEL=0 and rerun for more info.)\n"
     ]
    }
   ],
   "source": [
    "from ase import Atoms\n",
    "from ase.io import read\n",
    "import xcquinox as xce\n",
    "import torch, jax, optax\n",
    "import numpy as np\n",
    "import equinox as eqx\n",
    "import jax.numpy as jnp\n",
    "import pyscfad as psa\n",
    "import os, sys\n",
    "from pyscf import dft, scf, gto, df\n",
    "from pyscf.pbc import scf as scfp\n",
    "from pyscf.pbc import gto as gtop\n",
    "from pyscf.pbc import dft as dftp\n",
    "os.environ['XLA_PYTHON_CLIENT_PREALLOCATE']='false'\n",
    "os.environ['XLA_PYTHON_CLIENT_ALLOCATOR'] = 'platform'\n",
    "\n",
    "from mp_api.client import MPRester\n",
    "from mldftdat.density import get_exchange_descriptors2\n",
    "from mldftdat.analyzers import RKSAnalyzer\n",
    "\n",
    "from ase.build import bulk"
   ]
  },
  {
   "cell_type": "code",
   "execution_count": 2,
   "id": "6a053391-b4f9-4e7e-8eb5-dc273d756b42",
   "metadata": {},
   "outputs": [
    {
     "data": {
      "application/vnd.jupyter.widget-view+json": {
       "model_id": "9b928378ad574f5bb0d630a35394ed99",
       "version_major": 2,
       "version_minor": 0
      },
      "text/plain": [
       "Retrieving ElectronicStructureDoc documents:   0%|          | 0/1 [00:00<?, ?it/s]"
      ]
     },
     "metadata": {},
     "output_type": "display_data"
    },
    {
     "data": {
      "application/vnd.jupyter.widget-view+json": {
       "model_id": "47e2c5df4a80452fbccb24be0c6a15e9",
       "version_major": 2,
       "version_minor": 0
      },
      "text/plain": [
       "Retrieving ElectronicStructureDoc documents:   0%|          | 0/1 [00:00<?, ?it/s]"
      ]
     },
     "metadata": {},
     "output_type": "display_data"
    }
   ],
   "source": [
    "mpr = MPRester(api_key = '')\n",
    "si = mpr.get_bandstructure_by_material_id('mp-149')\n",
    "c = mpr.get_bandstructure_by_material_id('mp-66')"
   ]
  },
  {
   "cell_type": "code",
   "execution_count": 3,
   "id": "f2767764-db94-4e3d-9252-16c722d80320",
   "metadata": {},
   "outputs": [
    {
     "data": {
      "text/plain": [
       "{'direct': False,\n",
       " 'energy': 0.6105,\n",
       " 'transition': '\\\\Gamma-(0.413,0.000,0.413)'}"
      ]
     },
     "execution_count": 3,
     "metadata": {},
     "output_type": "execute_result"
    }
   ],
   "source": [
    "si.get_band_gap()"
   ]
  },
  {
   "cell_type": "code",
   "execution_count": 4,
   "id": "304f3768-053f-4b42-b7a7-b435b44f35b2",
   "metadata": {},
   "outputs": [
    {
     "data": {
      "text/plain": [
       "array([[-0.      ,  2.734463,  2.734463],\n",
       "       [ 2.734463, -0.      ,  2.734463],\n",
       "       [ 2.734463,  2.734463, -0.      ]])"
      ]
     },
     "execution_count": 4,
     "metadata": {},
     "output_type": "execute_result"
    }
   ],
   "source": [
    "sisd = si.structure.as_dict()\n",
    "si_lat = sisd['lattice']['matrix']\n",
    "si_lat = -np.array([si_lat[-1], si_lat[1], si_lat[0]])\n",
    "si_lat"
   ]
  },
  {
   "cell_type": "code",
   "execution_count": 5,
   "id": "1f3051d1-6190-4582-9d0f-4c24f071db0b",
   "metadata": {},
   "outputs": [
    {
     "data": {
      "application/vnd.jupyter.widget-view+json": {
       "model_id": "86669aabd33c48ba82e56b1734735a31",
       "version_major": 2,
       "version_minor": 0
      },
      "text/plain": [
       "Retrieving ElectronicStructureDoc documents:   0%|          | 0/1 [00:00<?, ?it/s]"
      ]
     },
     "metadata": {},
     "output_type": "display_data"
    }
   ],
   "source": [
    "mp = mpr.get_bandstructure_by_material_id('mp-984')\n",
    "mps = mp.structure.as_dict()"
   ]
  },
  {
   "cell_type": "code",
   "execution_count": 6,
   "id": "1e5cf993-536b-4aa4-a143-c71ca9f678d0",
   "metadata": {},
   "outputs": [
    {
     "data": {
      "text/plain": [
       "{'@module': 'pymatgen.core.structure',\n",
       " '@class': 'Structure',\n",
       " 'charge': 0,\n",
       " 'lattice': {'matrix': [[-1.256785, -2.176028, 0.0],\n",
       "   [-1.256785, 2.176028, 0.0],\n",
       "   [0.0, 0.0, -6.804991]],\n",
       "  'pbc': (True, True, True),\n",
       "  'a': 2.512888058193003,\n",
       "  'b': 2.512888058193003,\n",
       "  'c': 6.804991,\n",
       "  'alpha': 90.0,\n",
       "  'beta': 90.0,\n",
       "  'gamma': 119.98204498301234,\n",
       "  'volume': 37.2205699268395},\n",
       " 'properties': {},\n",
       " 'sites': [{'species': [{'element': 'B', 'occu': 1}],\n",
       "   'abc': [0.666495, 0.333505, 0.75],\n",
       "   'xyz': [-1.256785, -0.72459556372, -5.10374325],\n",
       "   'properties': {},\n",
       "   'label': 'B'},\n",
       "  {'species': [{'element': 'B', 'occu': 1}],\n",
       "   'abc': [0.333505, 0.666495, 0.25],\n",
       "   'xyz': [-1.256785, 0.72459556372, -1.70124775],\n",
       "   'properties': {},\n",
       "   'label': 'B'},\n",
       "  {'species': [{'element': 'N', 'occu': 1}],\n",
       "   'abc': [0.666502, 0.333498, 0.25],\n",
       "   'xyz': [-1.256785, -0.724626028112, -1.70124775],\n",
       "   'properties': {},\n",
       "   'label': 'N'},\n",
       "  {'species': [{'element': 'N', 'occu': 1}],\n",
       "   'abc': [0.333498, 0.666502, 0.75],\n",
       "   'xyz': [-1.256785, 0.724626028112, -5.10374325],\n",
       "   'properties': {},\n",
       "   'label': 'N'}]}"
      ]
     },
     "execution_count": 6,
     "metadata": {},
     "output_type": "execute_result"
    }
   ],
   "source": [
    "mps"
   ]
  },
  {
   "cell_type": "code",
   "execution_count": 7,
   "id": "75c3b042-971d-4d44-93de-7a8dba1e6c34",
   "metadata": {},
   "outputs": [],
   "source": [
    "rets = mps\n",
    "at_coor_xyz = [ (i['species'][0]['element'], i['xyz']) for i in rets['sites']]\n",
    "at_coor_abc = [ (i['species'][0]['element'], [rets['lattice']['a']*j for j in i['abc']]) for i in rets['sites']]\n",
    "lat = np.array(rets['lattice']['matrix'])\n",
    "if np.linalg.det(lat) < 1:\n",
    "    print('left handed array, switching')\n",
    "    lat = -np.array([lat[-1], lat[1], lat[0]])"
   ]
  },
  {
   "cell_type": "code",
   "execution_count": 8,
   "id": "a110556a-20b4-47db-bd26-705dfbee0a98",
   "metadata": {},
   "outputs": [
    {
     "data": {
      "text/plain": [
       "37.2205699268395"
      ]
     },
     "execution_count": 8,
     "metadata": {},
     "output_type": "execute_result"
    }
   ],
   "source": [
    "np.linalg.det(lat)"
   ]
  },
  {
   "cell_type": "code",
   "execution_count": 9,
   "id": "4068fbda-82b0-4975-ae27-dfe83b215c5a",
   "metadata": {},
   "outputs": [
    {
     "data": {
      "text/plain": [
       "array([[-1.256785, -2.176028,  0.      ],\n",
       "       [-1.256785,  2.176028,  0.      ],\n",
       "       [ 0.      ,  0.      , -6.804991]])"
      ]
     },
     "execution_count": 9,
     "metadata": {},
     "output_type": "execute_result"
    }
   ],
   "source": [
    "lat"
   ]
  },
  {
   "cell_type": "code",
   "execution_count": 10,
   "id": "628f4d83-0d3b-4ac0-861c-4da8005aadc2",
   "metadata": {},
   "outputs": [
    {
     "data": {
      "text/plain": [
       "[('B', [1.6748273263453455, 0.8380607318476575, 1.8846660436447524]),\n",
       " ('B', [0.8380607318476575, 1.6748273263453455, 0.6282220145482508]),\n",
       " ('N', [1.674844916561753, 0.8380431416312502, 0.6282220145482508]),\n",
       " ('N', [0.8380431416312502, 1.674844916561753, 1.8846660436447524])]"
      ]
     },
     "execution_count": 10,
     "metadata": {},
     "output_type": "execute_result"
    }
   ],
   "source": [
    "at_coor_abc"
   ]
  },
  {
   "cell_type": "code",
   "execution_count": 11,
   "id": "09a74bcc-f679-433a-9529-1c42d6e5bc9b",
   "metadata": {},
   "outputs": [
    {
     "data": {
      "text/plain": [
       "{'direct': False,\n",
       " 'energy': 4.273999999999999,\n",
       " 'transition': '(0.304,0.304,0.000)-M'}"
      ]
     },
     "execution_count": 11,
     "metadata": {},
     "output_type": "execute_result"
    }
   ],
   "source": [
    "mp.get_band_gap()"
   ]
  },
  {
   "cell_type": "code",
   "execution_count": 12,
   "id": "7345b47a-baf2-41b2-b07a-a7642f54752a",
   "metadata": {},
   "outputs": [],
   "source": [
    "# cell = gtop.Cell()\n",
    "# cell.atom = at_coor_abc\n",
    "# cell.a = lat\n",
    "# cell.basis = 'gth-szv'\n",
    "# cell.pseudo = 'gth-pade'\n",
    "# cell.exp_to_discard = 0.1\n",
    "# cell.build()\n",
    "# kpts = cell.make_kpts([2,2,2])\n",
    "# mf = scfp.RHF(cell)\n",
    "# e = mf.kernel()"
   ]
  },
  {
   "cell_type": "code",
   "execution_count": 13,
   "id": "d339ce21-0790-4b21-a901-3fa71649830c",
   "metadata": {},
   "outputs": [],
   "source": [
    "# mf.mo_energy - mf.mo_energy[mf.mo_occ == 0][0], mf.mo_energy - mf.mo_energy[mf.mol.nelectron//2-1], mf.mo_energy, mf.mo_occ"
   ]
  },
  {
   "cell_type": "code",
   "execution_count": 14,
   "id": "9ce1e511-2efd-4e14-999c-7ee22dc0b05a",
   "metadata": {},
   "outputs": [],
   "source": [
    "cisd = c.structure.as_dict()"
   ]
  },
  {
   "cell_type": "code",
   "execution_count": 15,
   "id": "52a12cf5-ede5-4198-b10f-7db99054cdab",
   "metadata": {},
   "outputs": [
    {
     "data": {
      "text/plain": [
       "({'@module': 'pymatgen.core.structure',\n",
       "  '@class': 'Structure',\n",
       "  'charge': 0,\n",
       "  'lattice': {'matrix': [[-2.734463, -2.734463, 0.0],\n",
       "    [-2.734463, 0.0, -2.734463],\n",
       "    [0.0, -2.734463, -2.734463]],\n",
       "   'pbc': (True, True, True),\n",
       "   'a': 3.8671146604074202,\n",
       "   'b': 3.8671146604074202,\n",
       "   'c': 3.8671146604074202,\n",
       "   'alpha': 59.99999999999999,\n",
       "   'beta': 59.99999999999999,\n",
       "   'gamma': 59.99999999999999,\n",
       "   'volume': 40.89273419687557},\n",
       "  'properties': {},\n",
       "  'sites': [{'species': [{'element': 'Si', 'occu': 1}],\n",
       "    'abc': [0.75, 0.75, 0.75],\n",
       "    'xyz': [-4.1016945, -4.1016945, -4.1016945],\n",
       "    'properties': {},\n",
       "    'label': 'Si'},\n",
       "   {'species': [{'element': 'Si', 'occu': 1}],\n",
       "    'abc': [0.0, 0.0, 0.0],\n",
       "    'xyz': [0.0, 0.0, 0.0],\n",
       "    'properties': {},\n",
       "    'label': 'Si'}]},\n",
       " {'@module': 'pymatgen.core.structure',\n",
       "  '@class': 'Structure',\n",
       "  'charge': 0,\n",
       "  'lattice': {'matrix': [[-1.786855, -1.786855, 0.0],\n",
       "    [-1.786855, 0.0, -1.786855],\n",
       "    [0.0, -1.786855, -1.786855]],\n",
       "   'pbc': (True, True, True),\n",
       "   'a': 2.526994574994177,\n",
       "   'b': 2.526994574994177,\n",
       "   'c': 2.526994574994177,\n",
       "   'alpha': 60.00000000000001,\n",
       "   'beta': 60.00000000000001,\n",
       "   'gamma': 60.00000000000001,\n",
       "   'volume': 11.410322800393955},\n",
       "  'properties': {},\n",
       "  'sites': [{'species': [{'element': 'C', 'occu': 1}],\n",
       "    'abc': [0.75, 0.75, 0.75],\n",
       "    'xyz': [-2.6802825, -2.6802825, -2.6802825],\n",
       "    'properties': {},\n",
       "    'label': 'C'},\n",
       "   {'species': [{'element': 'C', 'occu': 1}],\n",
       "    'abc': [0.0, 0.0, 0.0],\n",
       "    'xyz': [0.0, 0.0, 0.0],\n",
       "    'properties': {},\n",
       "    'label': 'C'}]})"
      ]
     },
     "execution_count": 15,
     "metadata": {},
     "output_type": "execute_result"
    }
   ],
   "source": [
    "sisd, cisd"
   ]
  },
  {
   "cell_type": "code",
   "execution_count": 16,
   "id": "59b374f4-8726-4416-a0de-7b7085173a52",
   "metadata": {},
   "outputs": [],
   "source": [
    "a1 = bulk('Si', a=3.867114, b=3.867114, c=3.867114, alpha=60)"
   ]
  },
  {
   "cell_type": "code",
   "execution_count": 17,
   "id": "60255e2b-b21b-4888-92be-85194d485f3b",
   "metadata": {},
   "outputs": [
    {
     "data": {
      "text/plain": [
       "Cell([[0.0, 1.933557, 1.933557], [1.933557, 0.0, 1.933557], [1.933557, 1.933557, 0.0]])"
      ]
     },
     "execution_count": 17,
     "metadata": {},
     "output_type": "execute_result"
    }
   ],
   "source": [
    "a1.cell"
   ]
  },
  {
   "cell_type": "code",
   "execution_count": 18,
   "id": "9f8b6799-1b7f-4bfb-a23f-669a45a43166",
   "metadata": {},
   "outputs": [
    {
     "name": "stderr",
     "output_type": "stream",
     "text": [
      "<class 'pyscf.pbc.dft.rks.RKS'> does not have attributes  nlc nlcgrids\n",
      "/home/awills/anaconda3/envs/pyscfad/lib/python3.10/site-packages/pyscf/pbc/gto/cell.py:243: UserWarning: Function cell.dumps drops attribute a because it is not JSON-serializable\n",
      "  warnings.warn(msg)\n"
     ]
    },
    {
     "name": "stdout",
     "output_type": "stream",
     "text": [
      "converged SCF energy = -7.21836790602506\n"
     ]
    }
   ],
   "source": [
    "mfs = []\n",
    "mols = []\n",
    "energies = []\n",
    "dms = []\n",
    "ao_evals = []\n",
    "gws = []\n",
    "eris = []\n",
    "mo_occs = []\n",
    "hcs = []\n",
    "vs = []\n",
    "ts = []\n",
    "ss = []\n",
    "hologaps = []\n",
    "ogds = []\n",
    "\n",
    "cell = gtop.Cell()\n",
    "a = 5.43\n",
    "cell.atom = [['Si', [0,0,0]],\n",
    "              ['Si', [a/4,a/4,a/4]]]\n",
    "cell.a = jnp.asarray([[0, a/2, a/2],\n",
    "                     [a/2, 0, a/2],\n",
    "                     [a/2, a/2, 0]])\n",
    "cell.basis = 'gth-szv'\n",
    "cell.pseudo = 'gth-pade'\n",
    "cell.exp_to_discard = 0.1\n",
    "cell.build()\n",
    "kpts = cell.make_kpts([2,2,2])\n",
    "mf = dftp.RKS(cell, xc='pbe0')\n",
    "mf2 = dftp.KRKS(cell, xc='pbe0', kpts=kpts)\n",
    "e = mf.kernel()\n",
    "# e2 = mf2.kernel()"
   ]
  },
  {
   "cell_type": "code",
   "execution_count": 19,
   "id": "fab19321-aedd-4aa4-8308-2e811a672aa2",
   "metadata": {},
   "outputs": [
    {
     "data": {
      "text/plain": [
       "RKS-KohnShamDFT object of <class 'pyscf.pbc.dft.rks.RKS'>"
      ]
     },
     "execution_count": 19,
     "metadata": {},
     "output_type": "execute_result"
    }
   ],
   "source": [
    "mf"
   ]
  },
  {
   "cell_type": "code",
   "execution_count": 20,
   "id": "385b6d1b-ffce-4305-ada2-bf8484c20ca6",
   "metadata": {},
   "outputs": [],
   "source": [
    "mfs = []\n",
    "mols = []\n",
    "energies = []\n",
    "dms = []\n",
    "ao_evals = []\n",
    "gws = []\n",
    "eris = []\n",
    "mo_occs = []\n",
    "hcs = []\n",
    "vs = []\n",
    "ts = []\n",
    "ss = []\n",
    "hologaps = []\n",
    "ogds = []\n",
    "\n",
    "mfs.append(mf)\n",
    "dm = mf.make_rdm1()\n",
    "dmj = jnp.array(dm)\n",
    "dmj.flags = dm.flags\n",
    "ao_eval = jnp.array(mf._numint.eval_ao(mf.mol, mf.grids.coords, deriv=2))\n",
    "energies.append(jnp.array(mf.get_veff().exc))\n",
    "dms.append(dmj)\n",
    "ogds.append(dm.shape)\n",
    "ao_evals.append(jnp.array(ao_eval))\n",
    "gws.append(jnp.array(mf.grids.weights))\n",
    "ts.append(jnp.array(mf.mol.intor('int1e_kin')))\n",
    "vs.append(jnp.array(mf.mol.intor('int1e_nuc')))\n",
    "mo_occs.append(jnp.array(mf.mo_occ))\n",
    "hcs.append(jnp.array(mf.get_hcore()))\n",
    "eris.append(jnp.array(mf.mol.intor('int2e')))\n",
    "ss.append(jnp.linalg.inv(jnp.linalg.cholesky(mf.mol.intor('int1e_ovlp'))))\n",
    "hologaps.append(jnp.array(mf.mo_energy[mf.mo_occ == 0][0] - mf.mo_energy[mf.mo_occ > 1][-1]))"
   ]
  },
  {
   "cell_type": "code",
   "execution_count": 21,
   "id": "9ee614a8-f3cf-43c4-8a65-923146f639d9",
   "metadata": {},
   "outputs": [],
   "source": [
    "class Band_gap_1shot_loss(eqx.Module):\n",
    "    def __init__(self):\n",
    "        super().__init__()\n",
    "\n",
    "    def __call__(self, model, ao_eval, gw, dm, eri, mo_occ, hc, s, ogd, refgap, mf, alpha0=0.7):\n",
    "        vgf = lambda x: model(x, ao_eval, gw, mf)\n",
    "        dmp, moep, mocp = xce.utils.get_dm_moe(dm, eri, vgf, mo_occ, hc, s, ogd, alpha0)\n",
    "        \n",
    "        efermi = moep[mf.mol.nelectron//2-1]\n",
    "        moep -= efermi\n",
    "        # print(moep)\n",
    "        moep_gap = jnp.min(moep)\n",
    "        # print(moep_gap)\n",
    "        loss = jnp.sqrt( (moep_gap - refgap)**2)\n",
    "        # print(loss)\n",
    "        return jnp.sqrt( (moep_gap - refgap)**2)\n"
   ]
  },
  {
   "cell_type": "code",
   "execution_count": 43,
   "id": "d99c82dc-8778-4077-bf32-ff6884cac7a6",
   "metadata": {},
   "outputs": [
    {
     "data": {
      "text/plain": [
       "\u001b[0;31mInit signature:\u001b[0m\n",
       "\u001b[0mxce\u001b[0m\u001b[0;34m.\u001b[0m\u001b[0mnet\u001b[0m\u001b[0;34m.\u001b[0m\u001b[0meX\u001b[0m\u001b[0;34m(\u001b[0m\u001b[0;34m\u001b[0m\n",
       "\u001b[0;34m\u001b[0m    \u001b[0mn_input\u001b[0m\u001b[0;34m,\u001b[0m\u001b[0;34m\u001b[0m\n",
       "\u001b[0;34m\u001b[0m    \u001b[0mn_hidden\u001b[0m\u001b[0;34m=\u001b[0m\u001b[0;36m16\u001b[0m\u001b[0;34m,\u001b[0m\u001b[0;34m\u001b[0m\n",
       "\u001b[0;34m\u001b[0m    \u001b[0mdepth\u001b[0m\u001b[0;34m=\u001b[0m\u001b[0;36m3\u001b[0m\u001b[0;34m,\u001b[0m\u001b[0;34m\u001b[0m\n",
       "\u001b[0;34m\u001b[0m    \u001b[0muse\u001b[0m\u001b[0;34m=\u001b[0m\u001b[0;34m[\u001b[0m\u001b[0;34m]\u001b[0m\u001b[0;34m,\u001b[0m\u001b[0;34m\u001b[0m\n",
       "\u001b[0;34m\u001b[0m    \u001b[0mueg_limit\u001b[0m\u001b[0;34m=\u001b[0m\u001b[0;32mFalse\u001b[0m\u001b[0;34m,\u001b[0m\u001b[0;34m\u001b[0m\n",
       "\u001b[0;34m\u001b[0m    \u001b[0mlob\u001b[0m\u001b[0;34m=\u001b[0m\u001b[0;36m1.804\u001b[0m\u001b[0;34m,\u001b[0m\u001b[0;34m\u001b[0m\n",
       "\u001b[0;34m\u001b[0m    \u001b[0mseed\u001b[0m\u001b[0;34m=\u001b[0m\u001b[0;36m92017\u001b[0m\u001b[0;34m,\u001b[0m\u001b[0;34m\u001b[0m\n",
       "\u001b[0;34m\u001b[0m\u001b[0;34m)\u001b[0m\u001b[0;34m\u001b[0m\u001b[0;34m\u001b[0m\u001b[0m\n",
       "\u001b[0;31mDocstring:\u001b[0m      eX(n_input, n_hidden=16, depth=3, use=[], ueg_limit=False, lob=1.804, seed=92017)\n",
       "\u001b[0;31mInit docstring:\u001b[0m\n",
       "__init__ Local exchange model based on MLP.\n",
       "\n",
       "Receives density descriptors in this order : [rho, s, alpha, nl], where the input may be truncated depending on XC-level of approximation.\n",
       "\n",
       "The MLP generated is hard-coded to have one output value -- the predicted exchange energy given a specific input from the grid.\n",
       "\n",
       ":param n_input: Input dimensions (LDA: 1, GGA: 2, meta-GGA: 3, ...)\n",
       ":type n_input: int\n",
       ":param n_hidden: Number of hidden nodes (three hidden layers used by default), defaults to 16\n",
       ":type n_hidden: int, optional\n",
       ":param depth: Depth of the MLP, defaults to 3\n",
       ":type depth: int, optional\n",
       ":param use: Only these indices are used as input to the model (can be used to omit density as input to enforce uniform density scaling). These indices are also used to enforce UEG where the assumed order is [s, alpha, ...], defaults to []\n",
       ":type use: list, optional\n",
       ":param ueg_limit: Flag to determine whether or not to enforce uniform homoegeneous electron gas limit, defaults to False\n",
       ":type ueg_limit: bool, optional\n",
       ":param lob: Enforce this value as local Lieb-Oxford bound (don't enforce if set to 0), defaults to 1.804\n",
       ":type lob: float, optional\n",
       ":param seed: Random seed used to generate initial weights and biases for the MLP, defaults to 92017\n",
       ":type seed: int, optional\n",
       "\u001b[0;31mFile:\u001b[0m           ~/anaconda3/envs/pyscfad/lib/python3.10/site-packages/xcquinox/net.py\n",
       "\u001b[0;31mType:\u001b[0m           _ModuleMeta\n",
       "\u001b[0;31mSubclasses:\u001b[0m     eX"
      ]
     },
     "metadata": {},
     "output_type": "display_data"
    }
   ],
   "source": [
    "xce.net.eX?"
   ]
  },
  {
   "cell_type": "code",
   "execution_count": 44,
   "id": "525188e3-545a-4232-952e-5f75f437b858",
   "metadata": {},
   "outputs": [
    {
     "name": "stdout",
     "output_type": "stream",
     "text": [
      "WARNING: External module \"mldftdat\" required for non-local descriptor use.s\n"
     ]
    }
   ],
   "source": [
    "#update docs, only input =2 ??? for MGGA? holdover from sebastian for some reason\n",
    "xnet = xce.net.eX(n_input = 2, n_hidden=32, depth=4, use = [1, 2], ueg_limit=True, lob=1.174)\n",
    "# I guess use default LOB\n",
    "cnet = xce.net.eC(n_input = 4, n_hidden=32, depth=4, use = [2, 3], ueg_limit=True)\n",
    "blankxc = xce.xc.eXC(grid_models = [xnet, cnet], level=3)\n",
    "p = '/home/awills/Documents/Research/xcquinox/models/pretrained/scan'\n",
    "# xc = eqx.tree_deserialise_leaves(os.path.join(p, 'xc.eqx'), blankxc)\n",
    "xc = blankxc\n",
    "nlxnet = xce.net.eX(n_input = 15, use = [], ueg_limit=True, lob=1.174)\n",
    "nlcnet = xce.net.eC(n_input = 13, use = [], ueg_limit=True)\n",
    "\n",
    "nlxc = xce.xc.eXC(grid_models = [nlxnet, nlcnet], level=4)"
   ]
  },
  {
   "cell_type": "code",
   "execution_count": 45,
   "id": "26b14320-3b22-4ad8-aec2-404fd97acfb1",
   "metadata": {},
   "outputs": [
    {
     "name": "stdout",
     "output_type": "stream",
     "text": [
      "spin_scaling = True; input descr to exc shape: (2, 50653, 3)\n",
      "eX.__call__, rho shape: (2, 50653, 3)\n",
      "spin_scaling = False; input descr to exc shape: (50653, 4)\n",
      "eC.__call__, rho shape: (50653, 4)\n"
     ]
    },
    {
     "data": {
      "text/plain": [
       "Array(-2.51022075, dtype=float64)"
      ]
     },
     "execution_count": 45,
     "metadata": {},
     "output_type": "execute_result"
    }
   ],
   "source": [
    "\n",
    "xc(dms[0], ao_evals[0], gws[0])"
   ]
  },
  {
   "cell_type": "code",
   "execution_count": 24,
   "id": "e03609d2-627a-44e4-a557-ed12c4f4d975",
   "metadata": {},
   "outputs": [],
   "source": [
    "class Band_gap_janak_loss(eqx.Module):\n",
    "    def __init__(self):\n",
    "        \"\"\"\n",
    "        Initializer for the loss module, which attempts to find loss bang gaps w.r.t. reference\n",
    "\n",
    "        .. todo: Make more robust for non-local descriptors\n",
    "        \"\"\"\n",
    "        super().__init__()\n",
    "\n",
    "    def __call__(self, model, ao_eval, gw, dm, eri, mo_occ, hc, s, ogd, refgap, mf, alpha0=0.7):\n",
    "        \"\"\"\n",
    "        Forward pass for loss object\n",
    "\n",
    "        NOTE: This differs from HoLu loss in that it selects the deepest minimum w.r.t. the LUMO (Fermi energy)\n",
    "\n",
    "        :param model: The model that will be used in generating the molecular orbital energies ('band' energies)\n",
    "        :type model: xcquinox.xc.eXC\n",
    "        :param ao_eval: The atomic orbitals evaluated on the grid for the given molecule\n",
    "        :type ao_eval: jax.Array\n",
    "        :param gw: The grid weights associated to the current molecule's grids\n",
    "        :type gw: jax.Array\n",
    "        :param dm: Input reference density matrix for use during the one-shot forward pass to generate the new DM\n",
    "        :type dm: jax.Array\n",
    "        :param eri: Electron repulsion integrals associated with this molecule\n",
    "        :type eri: jax.Array\n",
    "        :param mo_occ: The molecule's molecular orbital occupation numbers\n",
    "        :type mo_occ: jax.Array\n",
    "        :param hc: The molecule's core Hamiltonian\n",
    "        :type hc: jax.Array\n",
    "        :param s: The molecule's overlap matrix\n",
    "        :type s: jax.Array\n",
    "        :param ogd: The original dimensions of this molecule's density matrix, used if padded to constrict the eigendecomposition to a relevant shape\n",
    "        :type ogd: jax.Array\n",
    "        :param refgap: The reference gap to optimzie against\n",
    "        :type refgap: jax.Array\n",
    "        :param mf: A pyscf(ad) converged calculation kernel if self.level > 3, used for building the CIDER nonlocal descriptors, defaults to None\n",
    "        :type mf: pyscfad.dft.RKS kernel\n",
    "        :param alpha0: The mixing parameter for the one-shot density matrix generation, defaults to 0.7\n",
    "        :type alpha0: float, optional\n",
    "        :return: Root-squared error between predicted gap (minimum of molecular energies) and the reference\n",
    "        :rtype: jax.Array\n",
    "        \"\"\"\n",
    "        def janak_theorem_deriv(model, ao_eval, gw, dm, eri, hc, s, ogd, alpha0=0.7):\n",
    "            def ret_func(mo_occ):\n",
    "                vgf = lambda x: model(x, ao_eval, gw)\n",
    "                dmp, moep, mocp = xce.utils.get_dm_moe(dm, eri, vgf, mo_occ, hc, s, ogd, alpha0=alpha0)\n",
    "                return model(dmp, ao_eval, gw)\n",
    "        \n",
    "            return ret_func\n",
    "\n",
    "        janak_f = janak_theorem_deriv(model, ao_eval, gw, dm, eri, hc, s, ogd, alpha0)\n",
    "        homo_i = jnp.max(jnp.nonzero(mo_occ, size=dm.shape[0])[0])\n",
    "\n",
    "        e, derivs = eqx.filter_value_and_grad(janak_f)(mo_occ)\n",
    "\n",
    "        pred_diff = derivs[homo_i+1] - derivs[homo_i]\n",
    "        \n",
    "        loss = jnp.sqrt( (pred_diff - refgap)**2)\n",
    "        # print(loss)\n",
    "        return loss\n"
   ]
  },
  {
   "cell_type": "code",
   "execution_count": 25,
   "id": "795c57ee-66d4-4557-aa44-ca0981accff4",
   "metadata": {
    "jupyter": {
     "source_hidden": true
    }
   },
   "outputs": [],
   "source": [
    "def janak_theorem_deriv(model, ao_eval, gw, dm, eri, moocc, hc, s, ogd, alpha0=0.7):\n",
    "    def ret_func(mo_occ):\n",
    "        vgf = lambda x: model(x, ao_eval, gw)\n",
    "        dmp, moep, mocp = xce.utils.get_dm_moe(dm, eri, vgf, mo_occ, hc, s, ogd, alpha0=alpha0)\n",
    "        return model(dmp, ao_eval, gw)\n",
    "\n",
    "    return ret_func\n",
    "    \n",
    "    \n",
    "    "
   ]
  },
  {
   "cell_type": "code",
   "execution_count": 26,
   "id": "c3bad744-e256-4c43-ad2a-519b91ebbc8c",
   "metadata": {
    "jupyter": {
     "source_hidden": true
    }
   },
   "outputs": [
    {
     "name": "stdout",
     "output_type": "stream",
     "text": [
      "spin_scaling = True; input descr to exc shape: (2, 50653, 3)\n",
      "eX.__call__, rho shape: (2, 50653, 3)\n",
      "spin_scaling = False; input descr to exc shape: (50653, 4)\n",
      "eC.__call__, rho shape: (50653, 4)\n",
      "[8] (8,)\n",
      "(8, 8) (8, 8)\n",
      "Spin unpolarized make_rdm1()\n",
      "spin_scaling = True; input descr to exc shape: (2, 50653, 3)\n",
      "eX.__call__, rho shape: (2, 50653, 3)\n",
      "spin_scaling = False; input descr to exc shape: (50653, 4)\n",
      "eC.__call__, rho shape: (50653, 4)\n"
     ]
    },
    {
     "data": {
      "text/plain": [
       "(Array(-3.11735723, dtype=float64),\n",
       " Array([-0.76418695, -0.23435005, -0.51950138, -0.51950137,  0.        ,\n",
       "         0.        ,  0.        ,  0.        ], dtype=float64))"
      ]
     },
     "execution_count": 26,
     "metadata": {},
     "output_type": "execute_result"
    }
   ],
   "source": [
    "checkd = janak_theorem_deriv(xc, ao_evals[0], gws[0], dms[0], eris[0], mo_occs[0], hcs[0], ss[0], ogds[0], alpha0=0.7)\n",
    "eqx.filter_value_and_grad(checkd)(mo_occs[0])"
   ]
  },
  {
   "cell_type": "code",
   "execution_count": 48,
   "id": "19a7f2d2-f1a7-40b5-93c4-03c08fabe50f",
   "metadata": {
    "scrolled": true
   },
   "outputs": [
    {
     "name": "stdout",
     "output_type": "stream",
     "text": [
      "Epoch 0\n",
      "Epoch 0 :: Batch 0/1\n",
      "spin_scaling = True; input descr to exc shape: (2, 50653, 3)\n",
      "eX.__call__, rho shape: (2, 50653, 3)\n",
      "spin_scaling = False; input descr to exc shape: (50653, 4)\n",
      "eC.__call__, rho shape: (50653, 4)\n",
      "[8] (8,)\n",
      "(8, 8) (8, 8)\n",
      "Spin unpolarized make_rdm1()\n",
      "spin_scaling = True; input descr to exc shape: (2, 50653, 3)\n",
      "eX.__call__, rho shape: (2, 50653, 3)\n",
      "spin_scaling = False; input descr to exc shape: (50653, 4)\n",
      "eC.__call__, rho shape: (50653, 4)\n"
     ]
    },
    {
     "name": "stderr",
     "output_type": "stream",
     "text": [
      "\n",
      "KeyboardInterrupt\n",
      "\n"
     ]
    }
   ],
   "source": [
    "xct = xce.train.xcTrainer(model=xc, optim=optax.adamw(1e-2), steps=100, loss = Band_gap_janak_loss(), do_jit=True)\n",
    "newm = xct(1, xct.model, ao_evals, gws, dms, eris, mo_occs, hcs, ss, ogds, [1.17], mfs)"
   ]
  },
  {
   "cell_type": "code",
   "execution_count": null,
   "id": "02b686df-339e-4fb9-87f1-d19445dd2623",
   "metadata": {},
   "outputs": [],
   "source": []
  },
  {
   "cell_type": "code",
   "execution_count": 39,
   "id": "300d85a6-ba1d-4455-843b-addd058f9950",
   "metadata": {},
   "outputs": [
    {
     "name": "stderr",
     "output_type": "stream",
     "text": [
      "WARNING:jax._src.xla_bridge:CUDA backend failed to initialize: Found CUDA version 12010, but JAX was built against version 12030, which is newer. The copy of CUDA that is installed must be at least as new as the version against which JAX was built. (Set TF_CPP_MIN_LOG_LEVEL=0 and rerun for more info.)\n"
     ]
    },
    {
     "name": "stdout",
     "output_type": "stream",
     "text": [
      "spin_scaling = True; input descr to exc shape: (50653, 15)\n",
      "eX.__call__, rho shape: (50653, 15)\n",
      "spin_scaling = False; input descr to exc shape: (50653, 13)\n",
      "eC.__call__, rho shape: (50653, 13)\n",
      "spin_scaling = True; input descr to exc shape: (2, 50653, 3)\n",
      "eX.__call__, rho shape: (2, 50653, 3)\n",
      "spin_scaling = False; input descr to exc shape: (50653, 4)\n",
      "eC.__call__, rho shape: (50653, 4)\n"
     ]
    }
   ],
   "source": [
    "e1 = nlxc(dms[0], ao_evals[0], gws[0], mfs[0])\n",
    "e2 = newm(dms[0], ao_evals[0], gws[0], mfs[0])"
   ]
  },
  {
   "cell_type": "code",
   "execution_count": 40,
   "id": "004a6b9c-a40d-4f0d-9aef-b0777f3605cc",
   "metadata": {},
   "outputs": [
    {
     "data": {
      "text/plain": [
       "(Array(-2.57218399, dtype=float64), Array(-2.90765126, dtype=float64))"
      ]
     },
     "execution_count": 40,
     "metadata": {},
     "output_type": "execute_result"
    }
   ],
   "source": [
    "e1, e2"
   ]
  },
  {
   "cell_type": "code",
   "execution_count": 41,
   "id": "185de39c-36fb-45fc-978a-07d512447734",
   "metadata": {},
   "outputs": [
    {
     "name": "stdout",
     "output_type": "stream",
     "text": [
      "spin_scaling = True; input descr to exc shape: (2, 50653, 3)\n",
      "eX.__call__, rho shape: (2, 50653, 3)\n",
      "spin_scaling = False; input descr to exc shape: (50653, 4)\n",
      "eC.__call__, rho shape: (50653, 4)\n",
      "[8] (8,)\n",
      "(8, 8) (8, 8)\n",
      "Spin unpolarized make_rdm1()\n",
      "spin_scaling = True; input descr to exc shape: (2, 50653, 3)\n",
      "eX.__call__, rho shape: (2, 50653, 3)\n",
      "spin_scaling = False; input descr to exc shape: (50653, 4)\n",
      "eC.__call__, rho shape: (50653, 4)\n",
      "[8] (8,)\n",
      "(8, 8) (8, 8)\n",
      "Spin unpolarized make_rdm1()\n"
     ]
    }
   ],
   "source": [
    "vgf1 = lambda x: xc(x, ao_evals[0], gws[0], mfs[0])\n",
    "vgf2 = lambda x: newm(x, ao_evals[0], gws[0], mfs[0])\n",
    "dm1, moe1, moc1 = xce.utils.get_dm_moe(dms[0], eris[0], vgf1, mo_occs[0], hcs[0], ss[0], ogds[0])\n",
    "dm2, moe2, moc2 = xce.utils.get_dm_moe(dms[0], eris[0], vgf2, mo_occs[0], hcs[0], ss[0], ogds[0])"
   ]
  },
  {
   "cell_type": "code",
   "execution_count": 42,
   "id": "35f21fe1-62b4-47e4-85dc-f8e05e4e1e04",
   "metadata": {},
   "outputs": [
    {
     "name": "stdout",
     "output_type": "stream",
     "text": [
      "[-6.57726192e-01 -7.60975504e-02 -3.70073737e-07  0.00000000e+00\n",
      "  1.02667394e-01  1.02667614e-01  3.18068487e-01  5.38626343e-01]\n",
      "[-6.86420513e-01 -2.79444128e-02 -3.70097756e-07  0.00000000e+00\n",
      "  1.49307013e-01  1.49307234e-01  3.48533950e-01  5.46699981e-01]\n"
     ]
    }
   ],
   "source": [
    "print(moe1 - moe1[mf.mol.nelectron//2-1])\n",
    "print(moe2 - moe2[mf.mol.nelectron//2-1])"
   ]
  },
  {
   "cell_type": "code",
   "execution_count": null,
   "id": "1b1657c3-a5ca-49eb-858f-e16406ef6f68",
   "metadata": {},
   "outputs": [],
   "source": []
  },
  {
   "cell_type": "code",
   "execution_count": 32,
   "id": "b64e0ab1-0990-44d5-a2ba-e3934e6f6974",
   "metadata": {},
   "outputs": [
    {
     "data": {
      "text/plain": [
       "array([-0.24878937,  0.22904513,  0.22904513,  0.22904513,  0.43234039,\n",
       "        0.43234039,  0.43234039,  0.45784889])"
      ]
     },
     "execution_count": 32,
     "metadata": {},
     "output_type": "execute_result"
    }
   ],
   "source": [
    "mf.mo_energy"
   ]
  },
  {
   "cell_type": "code",
   "execution_count": 33,
   "id": "f2895974-966a-48ad-a316-aa7d8a00c067",
   "metadata": {},
   "outputs": [
    {
     "ename": "NameError",
     "evalue": "name 'b1' is not defined",
     "output_type": "error",
     "traceback": [
      "\u001b[0;31m---------------------------------------------------------------------------\u001b[0m",
      "\u001b[0;31mNameError\u001b[0m                                 Traceback (most recent call last)",
      "Cell \u001b[0;32mIn[33], line 2\u001b[0m\n\u001b[1;32m      1\u001b[0m \u001b[38;5;66;03m# vbmax = -99\u001b[39;00m\n\u001b[0;32m----> 2\u001b[0m \u001b[38;5;28;01mfor\u001b[39;00m en \u001b[38;5;129;01min\u001b[39;00m \u001b[43mb1\u001b[49m[\u001b[38;5;241m0\u001b[39m]:\n\u001b[1;32m      3\u001b[0m     vb_k \u001b[38;5;241m=\u001b[39m en[cell\u001b[38;5;241m.\u001b[39mnelectron\u001b[38;5;241m/\u001b[39m\u001b[38;5;241m/\u001b[39m\u001b[38;5;241m2\u001b[39m\u001b[38;5;241m-\u001b[39m\u001b[38;5;241m1\u001b[39m]\n\u001b[1;32m      4\u001b[0m     \u001b[38;5;28mprint\u001b[39m(\u001b[38;5;124m'\u001b[39m\u001b[38;5;124mThis vb_k\u001b[39m\u001b[38;5;124m'\u001b[39m, vb_k)\n",
      "\u001b[0;31mNameError\u001b[0m: name 'b1' is not defined"
     ]
    }
   ],
   "source": [
    "# vbmax = -99\n",
    "for en in b1[0]:\n",
    "    vb_k = en[cell.nelectron//2-1]\n",
    "    print('This vb_k', vb_k)\n",
    "    if vb_k > vbmax:\n",
    "        vbmax = vb_k\n",
    "e_kn = [en - vbmax for en in b1[0]]"
   ]
  },
  {
   "cell_type": "code",
   "execution_count": null,
   "id": "60a2bcc2-db28-48ef-84d9-cfc0350a003f",
   "metadata": {},
   "outputs": [],
   "source": [
    "e_kn"
   ]
  },
  {
   "cell_type": "code",
   "execution_count": null,
   "id": "9adec472-b1bc-4216-bbf4-de7bac8e738a",
   "metadata": {},
   "outputs": [],
   "source": [
    "mf2 = scfp.RHF(cell)\n",
    "e2 = mf2.kernel()"
   ]
  },
  {
   "cell_type": "code",
   "execution_count": null,
   "id": "75291bcf-b6a5-4a3f-8da6-f00f6f51d040",
   "metadata": {},
   "outputs": [],
   "source": []
  },
  {
   "cell_type": "code",
   "execution_count": null,
   "id": "f49f1729-208c-4e4a-ab20-0431456d85ad",
   "metadata": {},
   "outputs": [],
   "source": [
    "cell.nelectron//2-1"
   ]
  },
  {
   "cell_type": "code",
   "execution_count": null,
   "id": "0bdd8d73-5137-4baa-a176-80264f36fa20",
   "metadata": {},
   "outputs": [],
   "source": [
    "t1 = mf2.mo_energy \n",
    "t2 = mf2.mo_energy - mf2.mo_energy[cell.nelectron//2-1]"
   ]
  },
  {
   "cell_type": "code",
   "execution_count": null,
   "id": "e4101712-1117-4e90-94f5-bae263871d16",
   "metadata": {},
   "outputs": [],
   "source": [
    "t2[jnp.where(abs(t2[jnp.where( (t2 < 0) )[0]]) > 1e-4)[0]]"
   ]
  },
  {
   "cell_type": "code",
   "execution_count": null,
   "id": "f899b451-3656-4c75-a45e-0a20df32cbdf",
   "metadata": {},
   "outputs": [],
   "source": [
    "dm2 = mf2.make_rdm1()"
   ]
  },
  {
   "cell_type": "code",
   "execution_count": null,
   "id": "caa69796-1850-4df4-b3de-d1bfef5d5c43",
   "metadata": {},
   "outputs": [],
   "source": [
    "dmk = mf.make_rdm1()"
   ]
  },
  {
   "cell_type": "code",
   "execution_count": null,
   "id": "eac9677c-fe3b-425f-8eb9-2155743e80a2",
   "metadata": {},
   "outputs": [],
   "source": [
    "mpr = MPRester(api_key = '')\n",
    "mpid = 'mp-149'\n",
    "# ret = mpr.get_bandstructure_by_material_id(mpid)\n",
    "# rets = ret.structure.as_dict()\n",
    "ret = mpr.get_structure_by_material_id(mpid, conventional_unit_cell=False)\n",
    "rets = ret.as_dict()\n",
    "at_coor_xyz = [ (i['species'][0]['element'], [-j for j in i['xyz']]) for i in rets['sites']]\n",
    "at_coor_abc = [ (i['species'][0]['element'], [rets['lattice']['a']*j for j in i['abc']]) for i in rets['sites']]\n",
    "cella = -np.asarray(rets['lattice']['matrix'])"
   ]
  },
  {
   "cell_type": "code",
   "execution_count": null,
   "id": "a103cd73-3c48-4bf5-b8e7-36b0b3d6bd3c",
   "metadata": {},
   "outputs": [],
   "source": [
    "at_coor_xyz, cella"
   ]
  },
  {
   "cell_type": "code",
   "execution_count": null,
   "id": "9e8baf39-03fb-4817-a6a5-951620b7c4e5",
   "metadata": {},
   "outputs": [],
   "source": [
    "cell = gtop.Cell()\n",
    "cell.atom = at_coor_xyz\n",
    "cell.a = cella.T\n",
    "cell.basis = 'gth-szv'\n",
    "cell.pseudo = 'gth-pade'\n",
    "cell.exp_to_discard = 0.1\n",
    "cell.build()\n",
    "kpts = cell.make_kpts([2,2,2])\n",
    "mf = scfp.KRHF(cell, kpts=kpts)\n",
    "e = mf.kernel()"
   ]
  },
  {
   "cell_type": "code",
   "execution_count": null,
   "id": "78d30c1e-faf2-4dc6-bd4a-752a85c279a8",
   "metadata": {},
   "outputs": [],
   "source": [
    "cella"
   ]
  },
  {
   "cell_type": "code",
   "execution_count": null,
   "id": "0b246125-bf10-4a2f-9efa-359adf7bf76b",
   "metadata": {},
   "outputs": [],
   "source": []
  }
 ],
 "metadata": {
  "kernelspec": {
   "display_name": "Python 3 (ipykernel)",
   "language": "python",
   "name": "python3"
  },
  "language_info": {
   "codemirror_mode": {
    "name": "ipython",
    "version": 3
   },
   "file_extension": ".py",
   "mimetype": "text/x-python",
   "name": "python",
   "nbconvert_exporter": "python",
   "pygments_lexer": "ipython3",
   "version": "3.10.0"
  }
 },
 "nbformat": 4,
 "nbformat_minor": 5
}
