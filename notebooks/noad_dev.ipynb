{
 "cells": [
  {
   "cell_type": "code",
   "execution_count": 32,
   "id": "146c3044-6873-446f-bdb0-e2086b11b138",
   "metadata": {},
   "outputs": [],
   "source": [
    "from ase import Atoms\n",
    "from ase.io import read\n",
    "import xcquinox as xce\n",
    "import torch, jax, optax\n",
    "import numpy as np\n",
    "import equinox as eqx\n",
    "import jax.numpy as jnp\n",
    "import pyscfad as psa\n",
    "import os, sys\n",
    "from pyscf import dft, scf, gto, df\n",
    "from pyscf.pbc import scf as scfp\n",
    "from pyscf.pbc import gto as gtop\n",
    "from pyscf.pbc import dft as dftp\n",
    "os.environ['XLA_PYTHON_CLIENT_PREALLOCATE']='false'\n",
    "os.environ['XLA_PYTHON_CLIENT_ALLOCATOR'] = 'platform'\n",
    "\n",
    "from mp_api.client import MPRester\n",
    "\n",
    "from ase.build import bulk"
   ]
  },
  {
   "cell_type": "code",
   "execution_count": 35,
   "id": "59b374f4-8726-4416-a0de-7b7085173a52",
   "metadata": {},
   "outputs": [],
   "source": [
    "a1 = bulk('Si', a=3.867114, b=3.867114, c=3.867114, alpha=60)"
   ]
  },
  {
   "cell_type": "code",
   "execution_count": 36,
   "id": "60255e2b-b21b-4888-92be-85194d485f3b",
   "metadata": {},
   "outputs": [
    {
     "data": {
      "text/plain": [
       "Cell([[0.0, 1.933557, 1.933557], [1.933557, 0.0, 1.933557], [1.933557, 1.933557, 0.0]])"
      ]
     },
     "execution_count": 36,
     "metadata": {},
     "output_type": "execute_result"
    }
   ],
   "source": [
    "a1.cell"
   ]
  },
  {
   "cell_type": "code",
   "execution_count": 49,
   "id": "eac9677c-fe3b-425f-8eb9-2155743e80a2",
   "metadata": {},
   "outputs": [
    {
     "data": {
      "application/vnd.jupyter.widget-view+json": {
       "model_id": "be3091ef75f44b50a107d92412837e03",
       "version_major": 2,
       "version_minor": 0
      },
      "text/plain": [
       "Retrieving MaterialsDoc documents:   0%|          | 0/1 [00:00<?, ?it/s]"
      ]
     },
     "metadata": {},
     "output_type": "display_data"
    }
   ],
   "source": [
    "mpr = MPRester(api_key = None)\n",
    "mpid = 'mp-149'\n",
    "# ret = mpr.get_bandstructure_by_material_id(mpid)\n",
    "# rets = ret.structure.as_dict()\n",
    "ret = mpr.get_structure_by_material_id(mpid, conventional_unit_cell=False)\n",
    "rets = ret.as_dict()\n",
    "at_coor_xyz = [ (i['species'][0]['element'], [-j for j in i['xyz']]) for i in rets['sites']]\n",
    "at_coor_abc = [ (i['species'][0]['element'], [rets['lattice']['a']*j for j in i['abc']]) for i in rets['sites']]\n",
    "cella = -np.asarray(rets['lattice']['matrix'])"
   ]
  },
  {
   "cell_type": "code",
   "execution_count": 45,
   "id": "a103cd73-3c48-4bf5-b8e7-36b0b3d6bd3c",
   "metadata": {},
   "outputs": [
    {
     "data": {
      "text/plain": [
       "([('Si', [4.1016945, 4.1016945, 4.1016945]), ('Si', [-0.0, -0.0, -0.0])],\n",
       " array([[ 2.734463,  2.734463, -0.      ],\n",
       "        [ 2.734463, -0.      ,  2.734463],\n",
       "        [-0.      ,  2.734463,  2.734463]]))"
      ]
     },
     "execution_count": 45,
     "metadata": {},
     "output_type": "execute_result"
    }
   ],
   "source": [
    "at_coor_xyz, cella"
   ]
  },
  {
   "cell_type": "code",
   "execution_count": 46,
   "id": "9e8baf39-03fb-4817-a6a5-951620b7c4e5",
   "metadata": {},
   "outputs": [
    {
     "name": "stderr",
     "output_type": "stream",
     "text": [
      "WARNING!\n",
      "  Lattice are not in right-handed coordinate system. This can cause wrong value for some integrals.\n",
      "  It's recommended to resort the lattice vectors to\n",
      "a = [[ 5.16738617  5.16738617 -0.        ]\n",
      " [-0.          5.16738617  5.16738617]\n",
      " [ 5.16738617 -0.          5.16738617]]\n",
      "\n"
     ]
    },
    {
     "ename": "KeyboardInterrupt",
     "evalue": "",
     "output_type": "error",
     "traceback": [
      "\u001b[0;31m---------------------------------------------------------------------------\u001b[0m",
      "\u001b[0;31mKeyboardInterrupt\u001b[0m                         Traceback (most recent call last)",
      "Cell \u001b[0;32mIn[46], line 10\u001b[0m\n\u001b[1;32m      8\u001b[0m kpts \u001b[38;5;241m=\u001b[39m cell\u001b[38;5;241m.\u001b[39mmake_kpts([\u001b[38;5;241m2\u001b[39m,\u001b[38;5;241m2\u001b[39m,\u001b[38;5;241m2\u001b[39m])\n\u001b[1;32m      9\u001b[0m mf \u001b[38;5;241m=\u001b[39m scfp\u001b[38;5;241m.\u001b[39mKRHF(cell, kpts\u001b[38;5;241m=\u001b[39mkpts)\n\u001b[0;32m---> 10\u001b[0m e \u001b[38;5;241m=\u001b[39m \u001b[43mmf\u001b[49m\u001b[38;5;241;43m.\u001b[39;49m\u001b[43mkernel\u001b[49m\u001b[43m(\u001b[49m\u001b[43m)\u001b[49m\n",
      "File \u001b[0;32m<string>:2\u001b[0m, in \u001b[0;36mkernel\u001b[0;34m(self, dm0, **kwargs)\u001b[0m\n",
      "File \u001b[0;32m~/anaconda3/envs/pyscfad/lib/python3.10/site-packages/pyscf/scf/hf.py:1685\u001b[0m, in \u001b[0;36mSCF.scf\u001b[0;34m(self, dm0, **kwargs)\u001b[0m\n\u001b[1;32m   1680\u001b[0m \u001b[38;5;28mself\u001b[39m\u001b[38;5;241m.\u001b[39mbuild(\u001b[38;5;28mself\u001b[39m\u001b[38;5;241m.\u001b[39mmol)\n\u001b[1;32m   1682\u001b[0m \u001b[38;5;28;01mif\u001b[39;00m \u001b[38;5;28mself\u001b[39m\u001b[38;5;241m.\u001b[39mmax_cycle \u001b[38;5;241m>\u001b[39m \u001b[38;5;241m0\u001b[39m \u001b[38;5;129;01mor\u001b[39;00m \u001b[38;5;28mself\u001b[39m\u001b[38;5;241m.\u001b[39mmo_coeff \u001b[38;5;129;01mis\u001b[39;00m \u001b[38;5;28;01mNone\u001b[39;00m:\n\u001b[1;32m   1683\u001b[0m     \u001b[38;5;28mself\u001b[39m\u001b[38;5;241m.\u001b[39mconverged, \u001b[38;5;28mself\u001b[39m\u001b[38;5;241m.\u001b[39me_tot, \\\n\u001b[1;32m   1684\u001b[0m             \u001b[38;5;28mself\u001b[39m\u001b[38;5;241m.\u001b[39mmo_energy, \u001b[38;5;28mself\u001b[39m\u001b[38;5;241m.\u001b[39mmo_coeff, \u001b[38;5;28mself\u001b[39m\u001b[38;5;241m.\u001b[39mmo_occ \u001b[38;5;241m=\u001b[39m \\\n\u001b[0;32m-> 1685\u001b[0m             \u001b[43mkernel\u001b[49m\u001b[43m(\u001b[49m\u001b[38;5;28;43mself\u001b[39;49m\u001b[43m,\u001b[49m\u001b[43m \u001b[49m\u001b[38;5;28;43mself\u001b[39;49m\u001b[38;5;241;43m.\u001b[39;49m\u001b[43mconv_tol\u001b[49m\u001b[43m,\u001b[49m\u001b[43m \u001b[49m\u001b[38;5;28;43mself\u001b[39;49m\u001b[38;5;241;43m.\u001b[39;49m\u001b[43mconv_tol_grad\u001b[49m\u001b[43m,\u001b[49m\n\u001b[1;32m   1686\u001b[0m \u001b[43m                   \u001b[49m\u001b[43mdm0\u001b[49m\u001b[38;5;241;43m=\u001b[39;49m\u001b[43mdm0\u001b[49m\u001b[43m,\u001b[49m\u001b[43m \u001b[49m\u001b[43mcallback\u001b[49m\u001b[38;5;241;43m=\u001b[39;49m\u001b[38;5;28;43mself\u001b[39;49m\u001b[38;5;241;43m.\u001b[39;49m\u001b[43mcallback\u001b[49m\u001b[43m,\u001b[49m\n\u001b[1;32m   1687\u001b[0m \u001b[43m                   \u001b[49m\u001b[43mconv_check\u001b[49m\u001b[38;5;241;43m=\u001b[39;49m\u001b[38;5;28;43mself\u001b[39;49m\u001b[38;5;241;43m.\u001b[39;49m\u001b[43mconv_check\u001b[49m\u001b[43m,\u001b[49m\u001b[43m \u001b[49m\u001b[38;5;241;43m*\u001b[39;49m\u001b[38;5;241;43m*\u001b[39;49m\u001b[43mkwargs\u001b[49m\u001b[43m)\u001b[49m\n\u001b[1;32m   1688\u001b[0m \u001b[38;5;28;01melse\u001b[39;00m:\n\u001b[1;32m   1689\u001b[0m     \u001b[38;5;66;03m# Avoid to update SCF orbitals in the non-SCF initialization\u001b[39;00m\n\u001b[1;32m   1690\u001b[0m     \u001b[38;5;66;03m# (issue #495).  But run regular SCF for initial guess if SCF was\u001b[39;00m\n\u001b[1;32m   1691\u001b[0m     \u001b[38;5;66;03m# not initialized.\u001b[39;00m\n\u001b[1;32m   1692\u001b[0m     \u001b[38;5;28mself\u001b[39m\u001b[38;5;241m.\u001b[39me_tot \u001b[38;5;241m=\u001b[39m kernel(\u001b[38;5;28mself\u001b[39m, \u001b[38;5;28mself\u001b[39m\u001b[38;5;241m.\u001b[39mconv_tol, \u001b[38;5;28mself\u001b[39m\u001b[38;5;241m.\u001b[39mconv_tol_grad,\n\u001b[1;32m   1693\u001b[0m                         dm0\u001b[38;5;241m=\u001b[39mdm0, callback\u001b[38;5;241m=\u001b[39m\u001b[38;5;28mself\u001b[39m\u001b[38;5;241m.\u001b[39mcallback,\n\u001b[1;32m   1694\u001b[0m                         conv_check\u001b[38;5;241m=\u001b[39m\u001b[38;5;28mself\u001b[39m\u001b[38;5;241m.\u001b[39mconv_check, \u001b[38;5;241m*\u001b[39m\u001b[38;5;241m*\u001b[39mkwargs)[\u001b[38;5;241m1\u001b[39m]\n",
      "File \u001b[0;32m~/anaconda3/envs/pyscfad/lib/python3.10/site-packages/pyscf/scf/hf.py:128\u001b[0m, in \u001b[0;36mkernel\u001b[0;34m(mf, conv_tol, conv_tol_grad, dump_chk, dm0, callback, conv_check, **kwargs)\u001b[0m\n\u001b[1;32m    125\u001b[0m     dm \u001b[38;5;241m=\u001b[39m dm0\n\u001b[1;32m    127\u001b[0m h1e \u001b[38;5;241m=\u001b[39m mf\u001b[38;5;241m.\u001b[39mget_hcore(mol)\n\u001b[0;32m--> 128\u001b[0m vhf \u001b[38;5;241m=\u001b[39m \u001b[43mmf\u001b[49m\u001b[38;5;241;43m.\u001b[39;49m\u001b[43mget_veff\u001b[49m\u001b[43m(\u001b[49m\u001b[43mmol\u001b[49m\u001b[43m,\u001b[49m\u001b[43m \u001b[49m\u001b[43mdm\u001b[49m\u001b[43m)\u001b[49m\n\u001b[1;32m    129\u001b[0m e_tot \u001b[38;5;241m=\u001b[39m mf\u001b[38;5;241m.\u001b[39menergy_tot(dm, h1e, vhf)\n\u001b[1;32m    130\u001b[0m logger\u001b[38;5;241m.\u001b[39minfo(mf, \u001b[38;5;124m'\u001b[39m\u001b[38;5;124minit E= \u001b[39m\u001b[38;5;132;01m%.15g\u001b[39;00m\u001b[38;5;124m'\u001b[39m, e_tot)\n",
      "File \u001b[0;32m~/anaconda3/envs/pyscfad/lib/python3.10/site-packages/pyscf/pbc/scf/khf.py:629\u001b[0m, in \u001b[0;36mKSCF.get_veff\u001b[0;34m(self, cell, dm_kpts, dm_last, vhf_last, hermi, kpts, kpts_band)\u001b[0m\n\u001b[1;32m    627\u001b[0m \u001b[38;5;28;01mif\u001b[39;00m dm_kpts \u001b[38;5;129;01mis\u001b[39;00m \u001b[38;5;28;01mNone\u001b[39;00m:\n\u001b[1;32m    628\u001b[0m     dm_kpts \u001b[38;5;241m=\u001b[39m \u001b[38;5;28mself\u001b[39m\u001b[38;5;241m.\u001b[39mmake_rdm1()\n\u001b[0;32m--> 629\u001b[0m vj, vk \u001b[38;5;241m=\u001b[39m \u001b[38;5;28;43mself\u001b[39;49m\u001b[38;5;241;43m.\u001b[39;49m\u001b[43mget_jk\u001b[49m\u001b[43m(\u001b[49m\u001b[43mcell\u001b[49m\u001b[43m,\u001b[49m\u001b[43m \u001b[49m\u001b[43mdm_kpts\u001b[49m\u001b[43m,\u001b[49m\u001b[43m \u001b[49m\u001b[43mhermi\u001b[49m\u001b[43m,\u001b[49m\u001b[43m \u001b[49m\u001b[43mkpts\u001b[49m\u001b[43m,\u001b[49m\u001b[43m \u001b[49m\u001b[43mkpts_band\u001b[49m\u001b[43m)\u001b[49m\n\u001b[1;32m    630\u001b[0m \u001b[38;5;28;01mreturn\u001b[39;00m vj \u001b[38;5;241m-\u001b[39m vk \u001b[38;5;241m*\u001b[39m \u001b[38;5;241m.5\u001b[39m\n",
      "File \u001b[0;32m~/anaconda3/envs/pyscfad/lib/python3.10/site-packages/pyscf/pbc/scf/khf.py:617\u001b[0m, in \u001b[0;36mKSCF.get_jk\u001b[0;34m(self, cell, dm_kpts, hermi, kpts, kpts_band, with_j, with_k, omega, **kwargs)\u001b[0m\n\u001b[1;32m    614\u001b[0m     vj, vk \u001b[38;5;241m=\u001b[39m \u001b[38;5;28mself\u001b[39m\u001b[38;5;241m.\u001b[39mrsjk\u001b[38;5;241m.\u001b[39mget_jk(dm_kpts, hermi, kpts, kpts_band,\n\u001b[1;32m    615\u001b[0m                               with_j, with_k, omega, \u001b[38;5;28mself\u001b[39m\u001b[38;5;241m.\u001b[39mexxdiv)\n\u001b[1;32m    616\u001b[0m \u001b[38;5;28;01melse\u001b[39;00m:\n\u001b[0;32m--> 617\u001b[0m     vj, vk \u001b[38;5;241m=\u001b[39m \u001b[38;5;28;43mself\u001b[39;49m\u001b[38;5;241;43m.\u001b[39;49m\u001b[43mwith_df\u001b[49m\u001b[38;5;241;43m.\u001b[39;49m\u001b[43mget_jk\u001b[49m\u001b[43m(\u001b[49m\u001b[43mdm_kpts\u001b[49m\u001b[43m,\u001b[49m\u001b[43m \u001b[49m\u001b[43mhermi\u001b[49m\u001b[43m,\u001b[49m\u001b[43m \u001b[49m\u001b[43mkpts\u001b[49m\u001b[43m,\u001b[49m\u001b[43m \u001b[49m\u001b[43mkpts_band\u001b[49m\u001b[43m,\u001b[49m\n\u001b[1;32m    618\u001b[0m \u001b[43m                                 \u001b[49m\u001b[43mwith_j\u001b[49m\u001b[43m,\u001b[49m\u001b[43m \u001b[49m\u001b[43mwith_k\u001b[49m\u001b[43m,\u001b[49m\u001b[43m \u001b[49m\u001b[43momega\u001b[49m\u001b[43m,\u001b[49m\u001b[43m \u001b[49m\u001b[38;5;28;43mself\u001b[39;49m\u001b[38;5;241;43m.\u001b[39;49m\u001b[43mexxdiv\u001b[49m\u001b[43m)\u001b[49m\n\u001b[1;32m    619\u001b[0m logger\u001b[38;5;241m.\u001b[39mtimer(\u001b[38;5;28mself\u001b[39m, \u001b[38;5;124m'\u001b[39m\u001b[38;5;124mvj and vk\u001b[39m\u001b[38;5;124m'\u001b[39m, \u001b[38;5;241m*\u001b[39mcpu0)\n\u001b[1;32m    620\u001b[0m \u001b[38;5;28;01mreturn\u001b[39;00m vj, vk\n",
      "File \u001b[0;32m~/anaconda3/envs/pyscfad/lib/python3.10/site-packages/pyscf/pbc/df/fft.py:309\u001b[0m, in \u001b[0;36mFFTDF.get_jk\u001b[0;34m(self, dm, hermi, kpts, kpts_band, with_j, with_k, omega, exxdiv)\u001b[0m\n\u001b[1;32m    307\u001b[0m vj \u001b[38;5;241m=\u001b[39m vk \u001b[38;5;241m=\u001b[39m \u001b[38;5;28;01mNone\u001b[39;00m\n\u001b[1;32m    308\u001b[0m \u001b[38;5;28;01mif\u001b[39;00m with_k:\n\u001b[0;32m--> 309\u001b[0m     vk \u001b[38;5;241m=\u001b[39m \u001b[43mfft_jk\u001b[49m\u001b[38;5;241;43m.\u001b[39;49m\u001b[43mget_k_kpts\u001b[49m\u001b[43m(\u001b[49m\u001b[38;5;28;43mself\u001b[39;49m\u001b[43m,\u001b[49m\u001b[43m \u001b[49m\u001b[43mdm\u001b[49m\u001b[43m,\u001b[49m\u001b[43m \u001b[49m\u001b[43mhermi\u001b[49m\u001b[43m,\u001b[49m\u001b[43m \u001b[49m\u001b[43mkpts\u001b[49m\u001b[43m,\u001b[49m\u001b[43m \u001b[49m\u001b[43mkpts_band\u001b[49m\u001b[43m,\u001b[49m\u001b[43m \u001b[49m\u001b[43mexxdiv\u001b[49m\u001b[43m)\u001b[49m\n\u001b[1;32m    310\u001b[0m \u001b[38;5;28;01mif\u001b[39;00m with_j:\n\u001b[1;32m    311\u001b[0m     vj \u001b[38;5;241m=\u001b[39m fft_jk\u001b[38;5;241m.\u001b[39mget_j_kpts(\u001b[38;5;28mself\u001b[39m, dm, hermi, kpts, kpts_band)\n",
      "File \u001b[0;32m~/anaconda3/envs/pyscfad/lib/python3.10/site-packages/pyscf/pbc/df/fft_jk.py:278\u001b[0m, in \u001b[0;36mget_k_kpts\u001b[0;34m(mydf, dm_kpts, hermi, kpts, kpts_band, exxdiv)\u001b[0m\n\u001b[1;32m    276\u001b[0m \u001b[38;5;28;01mfor\u001b[39;00m p0, p1 \u001b[38;5;129;01min\u001b[39;00m lib\u001b[38;5;241m.\u001b[39mprange(\u001b[38;5;241m0\u001b[39m, nao, blksize):\n\u001b[1;32m    277\u001b[0m     rho1 \u001b[38;5;241m=\u001b[39m np\u001b[38;5;241m.\u001b[39meinsum(\u001b[38;5;124m'\u001b[39m\u001b[38;5;124mig,jg->ijg\u001b[39m\u001b[38;5;124m'\u001b[39m, ao1T[p0:p1]\u001b[38;5;241m.\u001b[39mconj()\u001b[38;5;241m*\u001b[39mexpmikr, ao2T)\n\u001b[0;32m--> 278\u001b[0m     vG \u001b[38;5;241m=\u001b[39m \u001b[43mtools\u001b[49m\u001b[38;5;241;43m.\u001b[39;49m\u001b[43mfft\u001b[49m\u001b[43m(\u001b[49m\u001b[43mrho1\u001b[49m\u001b[38;5;241;43m.\u001b[39;49m\u001b[43mreshape\u001b[49m\u001b[43m(\u001b[49m\u001b[38;5;241;43m-\u001b[39;49m\u001b[38;5;241;43m1\u001b[39;49m\u001b[43m,\u001b[49m\u001b[43mngrids\u001b[49m\u001b[43m)\u001b[49m\u001b[43m,\u001b[49m\u001b[43m \u001b[49m\u001b[43mmesh\u001b[49m\u001b[43m)\u001b[49m\n\u001b[1;32m    279\u001b[0m     rho1 \u001b[38;5;241m=\u001b[39m \u001b[38;5;28;01mNone\u001b[39;00m\n\u001b[1;32m    280\u001b[0m     vG \u001b[38;5;241m*\u001b[39m\u001b[38;5;241m=\u001b[39m coulG\n",
      "File \u001b[0;32m~/anaconda3/envs/pyscfad/lib/python3.10/site-packages/pyscf/pbc/tools/pbc.py:137\u001b[0m, in \u001b[0;36mfft\u001b[0;34m(f, mesh)\u001b[0m\n\u001b[1;32m    135\u001b[0m f3d \u001b[38;5;241m=\u001b[39m f\u001b[38;5;241m.\u001b[39mreshape(\u001b[38;5;241m-\u001b[39m\u001b[38;5;241m1\u001b[39m, \u001b[38;5;241m*\u001b[39mmesh)\n\u001b[1;32m    136\u001b[0m \u001b[38;5;28;01massert\u001b[39;00m (f3d\u001b[38;5;241m.\u001b[39mshape[\u001b[38;5;241m0\u001b[39m] \u001b[38;5;241m==\u001b[39m \u001b[38;5;241m1\u001b[39m \u001b[38;5;129;01mor\u001b[39;00m f[\u001b[38;5;241m0\u001b[39m]\u001b[38;5;241m.\u001b[39msize \u001b[38;5;241m==\u001b[39m f3d[\u001b[38;5;241m0\u001b[39m]\u001b[38;5;241m.\u001b[39msize)\n\u001b[0;32m--> 137\u001b[0m g3d \u001b[38;5;241m=\u001b[39m \u001b[43m_fftn_wrapper\u001b[49m\u001b[43m(\u001b[49m\u001b[43mf3d\u001b[49m\u001b[43m)\u001b[49m\n\u001b[1;32m    138\u001b[0m ngrids \u001b[38;5;241m=\u001b[39m np\u001b[38;5;241m.\u001b[39mprod(mesh)\n\u001b[1;32m    139\u001b[0m \u001b[38;5;28;01mif\u001b[39;00m f\u001b[38;5;241m.\u001b[39mndim \u001b[38;5;241m==\u001b[39m \u001b[38;5;241m1\u001b[39m \u001b[38;5;129;01mor\u001b[39;00m (f\u001b[38;5;241m.\u001b[39mndim \u001b[38;5;241m==\u001b[39m \u001b[38;5;241m3\u001b[39m \u001b[38;5;129;01mand\u001b[39;00m f\u001b[38;5;241m.\u001b[39msize \u001b[38;5;241m==\u001b[39m ngrids):\n",
      "File \u001b[0;32m~/anaconda3/envs/pyscfad/lib/python3.10/site-packages/pyscf/pbc/tools/pbc.py:105\u001b[0m, in \u001b[0;36m_fftn_wrapper\u001b[0;34m(a)\u001b[0m\n\u001b[1;32m    103\u001b[0m \u001b[38;5;28;01mdef\u001b[39;00m \u001b[38;5;21m_fftn_wrapper\u001b[39m(a):\n\u001b[1;32m    104\u001b[0m     mesh \u001b[38;5;241m=\u001b[39m a\u001b[38;5;241m.\u001b[39mshape[\u001b[38;5;241m1\u001b[39m:]\n\u001b[0;32m--> 105\u001b[0m     \u001b[38;5;28;01mreturn\u001b[39;00m \u001b[43m_fftn_blas\u001b[49m\u001b[43m(\u001b[49m\u001b[43ma\u001b[49m\u001b[43m,\u001b[49m\u001b[43m \u001b[49m\u001b[43mmesh\u001b[49m\u001b[43m)\u001b[49m\n",
      "File \u001b[0;32m~/anaconda3/envs/pyscfad/lib/python3.10/site-packages/pyscf/pbc/tools/pbc.py:39\u001b[0m, in \u001b[0;36m_fftn_blas\u001b[0;34m(f, mesh)\u001b[0m\n\u001b[1;32m     37\u001b[0m \u001b[38;5;28;01mfor\u001b[39;00m i, fi \u001b[38;5;129;01min\u001b[39;00m \u001b[38;5;28menumerate\u001b[39m(f):\n\u001b[1;32m     38\u001b[0m     buf[:] \u001b[38;5;241m=\u001b[39m fi\u001b[38;5;241m.\u001b[39mreshape(mesh)\n\u001b[0;32m---> 39\u001b[0m     g \u001b[38;5;241m=\u001b[39m \u001b[43mlib\u001b[49m\u001b[38;5;241;43m.\u001b[39;49m\u001b[43mdot\u001b[49m\u001b[43m(\u001b[49m\u001b[43mbuf\u001b[49m\u001b[38;5;241;43m.\u001b[39;49m\u001b[43mreshape\u001b[49m\u001b[43m(\u001b[49m\u001b[43mmesh\u001b[49m\u001b[43m[\u001b[49m\u001b[38;5;241;43m0\u001b[39;49m\u001b[43m]\u001b[49m\u001b[43m,\u001b[49m\u001b[38;5;241;43m-\u001b[39;49m\u001b[38;5;241;43m1\u001b[39;49m\u001b[43m)\u001b[49m\u001b[38;5;241;43m.\u001b[39;49m\u001b[43mT\u001b[49m\u001b[43m,\u001b[49m\u001b[43m \u001b[49m\u001b[43mexpRGx\u001b[49m\u001b[43m,\u001b[49m\u001b[43m \u001b[49m\u001b[43mc\u001b[49m\u001b[38;5;241;43m=\u001b[39;49m\u001b[43mout\u001b[49m\u001b[43m[\u001b[49m\u001b[43mi\u001b[49m\u001b[43m]\u001b[49m\u001b[38;5;241;43m.\u001b[39;49m\u001b[43mreshape\u001b[49m\u001b[43m(\u001b[49m\u001b[38;5;241;43m-\u001b[39;49m\u001b[38;5;241;43m1\u001b[39;49m\u001b[43m,\u001b[49m\u001b[43mmesh\u001b[49m\u001b[43m[\u001b[49m\u001b[38;5;241;43m0\u001b[39;49m\u001b[43m]\u001b[49m\u001b[43m)\u001b[49m\u001b[43m)\u001b[49m\n\u001b[1;32m     40\u001b[0m     g \u001b[38;5;241m=\u001b[39m lib\u001b[38;5;241m.\u001b[39mdot(g\u001b[38;5;241m.\u001b[39mreshape(mesh[\u001b[38;5;241m1\u001b[39m],\u001b[38;5;241m-\u001b[39m\u001b[38;5;241m1\u001b[39m)\u001b[38;5;241m.\u001b[39mT, expRGy, c\u001b[38;5;241m=\u001b[39mbuf\u001b[38;5;241m.\u001b[39mreshape(\u001b[38;5;241m-\u001b[39m\u001b[38;5;241m1\u001b[39m,mesh[\u001b[38;5;241m1\u001b[39m]))\n\u001b[1;32m     41\u001b[0m     g \u001b[38;5;241m=\u001b[39m lib\u001b[38;5;241m.\u001b[39mdot(g\u001b[38;5;241m.\u001b[39mreshape(mesh[\u001b[38;5;241m2\u001b[39m],\u001b[38;5;241m-\u001b[39m\u001b[38;5;241m1\u001b[39m)\u001b[38;5;241m.\u001b[39mT, expRGz, c\u001b[38;5;241m=\u001b[39mout[i]\u001b[38;5;241m.\u001b[39mreshape(\u001b[38;5;241m-\u001b[39m\u001b[38;5;241m1\u001b[39m,mesh[\u001b[38;5;241m2\u001b[39m]))\n",
      "File \u001b[0;32m~/anaconda3/envs/pyscfad/lib/python3.10/site-packages/pyscf/lib/numpy_helper.py:790\u001b[0m, in \u001b[0;36mdot\u001b[0;34m(a, b, alpha, c, beta)\u001b[0m\n\u001b[1;32m    782\u001b[0m         \u001b[38;5;28;01mreturn\u001b[39;00m c\n\u001b[1;32m    784\u001b[0m \u001b[38;5;28;01melif\u001b[39;00m atype \u001b[38;5;241m==\u001b[39m numpy\u001b[38;5;241m.\u001b[39mcomplex128 \u001b[38;5;129;01mand\u001b[39;00m btype \u001b[38;5;241m==\u001b[39m numpy\u001b[38;5;241m.\u001b[39mcomplex128:\n\u001b[1;32m    785\u001b[0m     \u001b[38;5;66;03m# Gauss's complex multiplication algorithm may affect numerical stability\u001b[39;00m\n\u001b[1;32m    786\u001b[0m     \u001b[38;5;66;03m#k1 = ddot(a.real+a.imag, b.real.copy(), alpha)\u001b[39;00m\n\u001b[1;32m    787\u001b[0m     \u001b[38;5;66;03m#k2 = ddot(a.real.copy(), b.imag-b.real, alpha)\u001b[39;00m\n\u001b[1;32m    788\u001b[0m     \u001b[38;5;66;03m#k3 = ddot(a.imag.copy(), b.real+b.imag, alpha)\u001b[39;00m\n\u001b[1;32m    789\u001b[0m     \u001b[38;5;66;03m#ab = k1-k3 + (k1+k2)*1j\u001b[39;00m\n\u001b[0;32m--> 790\u001b[0m     \u001b[38;5;28;01mreturn\u001b[39;00m \u001b[43mzdot\u001b[49m\u001b[43m(\u001b[49m\u001b[43ma\u001b[49m\u001b[43m,\u001b[49m\u001b[43m \u001b[49m\u001b[43mb\u001b[49m\u001b[43m,\u001b[49m\u001b[43m \u001b[49m\u001b[43malpha\u001b[49m\u001b[43m,\u001b[49m\u001b[43m \u001b[49m\u001b[43mc\u001b[49m\u001b[43m,\u001b[49m\u001b[43m \u001b[49m\u001b[43mbeta\u001b[49m\u001b[43m)\u001b[49m\n\u001b[1;32m    792\u001b[0m \u001b[38;5;28;01melif\u001b[39;00m atype \u001b[38;5;241m==\u001b[39m numpy\u001b[38;5;241m.\u001b[39mfloat64 \u001b[38;5;129;01mand\u001b[39;00m btype \u001b[38;5;241m==\u001b[39m numpy\u001b[38;5;241m.\u001b[39mcomplex128:\n\u001b[1;32m    793\u001b[0m     \u001b[38;5;28;01mif\u001b[39;00m b\u001b[38;5;241m.\u001b[39mflags\u001b[38;5;241m.\u001b[39mf_contiguous:\n",
      "File \u001b[0;32m~/anaconda3/envs/pyscfad/lib/python3.10/site-packages/pyscf/lib/numpy_helper.py:746\u001b[0m, in \u001b[0;36mzdot\u001b[0;34m(a, b, alpha, c, beta)\u001b[0m\n\u001b[1;32m    743\u001b[0m \u001b[38;5;28;01melse\u001b[39;00m:\n\u001b[1;32m    744\u001b[0m     \u001b[38;5;28;01massert\u001b[39;00m (c\u001b[38;5;241m.\u001b[39mshape \u001b[38;5;241m==\u001b[39m (m,n))\n\u001b[0;32m--> 746\u001b[0m \u001b[38;5;28;01mreturn\u001b[39;00m \u001b[43m_zgemm\u001b[49m\u001b[43m(\u001b[49m\u001b[43mtrans_a\u001b[49m\u001b[43m,\u001b[49m\u001b[43m \u001b[49m\u001b[43mtrans_b\u001b[49m\u001b[43m,\u001b[49m\u001b[43m \u001b[49m\u001b[43mm\u001b[49m\u001b[43m,\u001b[49m\u001b[43m \u001b[49m\u001b[43mn\u001b[49m\u001b[43m,\u001b[49m\u001b[43m \u001b[49m\u001b[43mk\u001b[49m\u001b[43m,\u001b[49m\u001b[43m \u001b[49m\u001b[43ma\u001b[49m\u001b[43m,\u001b[49m\u001b[43m \u001b[49m\u001b[43mb\u001b[49m\u001b[43m,\u001b[49m\u001b[43m \u001b[49m\u001b[43mc\u001b[49m\u001b[43m,\u001b[49m\u001b[43m \u001b[49m\u001b[43malpha\u001b[49m\u001b[43m,\u001b[49m\u001b[43m \u001b[49m\u001b[43mbeta\u001b[49m\u001b[43m)\u001b[49m\n",
      "File \u001b[0;32m~/anaconda3/envs/pyscfad/lib/python3.10/site-packages/pyscf/lib/numpy_helper.py:878\u001b[0m, in \u001b[0;36m_zgemm\u001b[0;34m(trans_a, trans_b, m, n, k, a, b, c, alpha, beta, offseta, offsetb, offsetc)\u001b[0m\n\u001b[1;32m    875\u001b[0m \u001b[38;5;28;01massert\u001b[39;00m (b\u001b[38;5;241m.\u001b[39mdtype \u001b[38;5;241m==\u001b[39m numpy\u001b[38;5;241m.\u001b[39mcomplex128)\n\u001b[1;32m    876\u001b[0m \u001b[38;5;28;01massert\u001b[39;00m (c\u001b[38;5;241m.\u001b[39mdtype \u001b[38;5;241m==\u001b[39m numpy\u001b[38;5;241m.\u001b[39mcomplex128)\n\u001b[0;32m--> 878\u001b[0m \u001b[43m_np_helper\u001b[49m\u001b[38;5;241;43m.\u001b[39;49m\u001b[43mNPzgemm\u001b[49m\u001b[43m(\u001b[49m\u001b[43mctypes\u001b[49m\u001b[38;5;241;43m.\u001b[39;49m\u001b[43mc_char\u001b[49m\u001b[43m(\u001b[49m\u001b[43mtrans_b\u001b[49m\u001b[38;5;241;43m.\u001b[39;49m\u001b[43mencode\u001b[49m\u001b[43m(\u001b[49m\u001b[38;5;124;43m'\u001b[39;49m\u001b[38;5;124;43mascii\u001b[39;49m\u001b[38;5;124;43m'\u001b[39;49m\u001b[43m)\u001b[49m\u001b[43m)\u001b[49m\u001b[43m,\u001b[49m\n\u001b[1;32m    879\u001b[0m \u001b[43m                   \u001b[49m\u001b[43mctypes\u001b[49m\u001b[38;5;241;43m.\u001b[39;49m\u001b[43mc_char\u001b[49m\u001b[43m(\u001b[49m\u001b[43mtrans_a\u001b[49m\u001b[38;5;241;43m.\u001b[39;49m\u001b[43mencode\u001b[49m\u001b[43m(\u001b[49m\u001b[38;5;124;43m'\u001b[39;49m\u001b[38;5;124;43mascii\u001b[39;49m\u001b[38;5;124;43m'\u001b[39;49m\u001b[43m)\u001b[49m\u001b[43m)\u001b[49m\u001b[43m,\u001b[49m\n\u001b[1;32m    880\u001b[0m \u001b[43m                   \u001b[49m\u001b[43mctypes\u001b[49m\u001b[38;5;241;43m.\u001b[39;49m\u001b[43mc_int\u001b[49m\u001b[43m(\u001b[49m\u001b[43mn\u001b[49m\u001b[43m)\u001b[49m\u001b[43m,\u001b[49m\u001b[43m \u001b[49m\u001b[43mctypes\u001b[49m\u001b[38;5;241;43m.\u001b[39;49m\u001b[43mc_int\u001b[49m\u001b[43m(\u001b[49m\u001b[43mm\u001b[49m\u001b[43m)\u001b[49m\u001b[43m,\u001b[49m\u001b[43m \u001b[49m\u001b[43mctypes\u001b[49m\u001b[38;5;241;43m.\u001b[39;49m\u001b[43mc_int\u001b[49m\u001b[43m(\u001b[49m\u001b[43mk\u001b[49m\u001b[43m)\u001b[49m\u001b[43m,\u001b[49m\n\u001b[1;32m    881\u001b[0m \u001b[43m                   \u001b[49m\u001b[43mctypes\u001b[49m\u001b[38;5;241;43m.\u001b[39;49m\u001b[43mc_int\u001b[49m\u001b[43m(\u001b[49m\u001b[43mb\u001b[49m\u001b[38;5;241;43m.\u001b[39;49m\u001b[43mshape\u001b[49m\u001b[43m[\u001b[49m\u001b[38;5;241;43m1\u001b[39;49m\u001b[43m]\u001b[49m\u001b[43m)\u001b[49m\u001b[43m,\u001b[49m\u001b[43m \u001b[49m\u001b[43mctypes\u001b[49m\u001b[38;5;241;43m.\u001b[39;49m\u001b[43mc_int\u001b[49m\u001b[43m(\u001b[49m\u001b[43ma\u001b[49m\u001b[38;5;241;43m.\u001b[39;49m\u001b[43mshape\u001b[49m\u001b[43m[\u001b[49m\u001b[38;5;241;43m1\u001b[39;49m\u001b[43m]\u001b[49m\u001b[43m)\u001b[49m\u001b[43m,\u001b[49m\n\u001b[1;32m    882\u001b[0m \u001b[43m                   \u001b[49m\u001b[43mctypes\u001b[49m\u001b[38;5;241;43m.\u001b[39;49m\u001b[43mc_int\u001b[49m\u001b[43m(\u001b[49m\u001b[43mc\u001b[49m\u001b[38;5;241;43m.\u001b[39;49m\u001b[43mshape\u001b[49m\u001b[43m[\u001b[49m\u001b[38;5;241;43m1\u001b[39;49m\u001b[43m]\u001b[49m\u001b[43m)\u001b[49m\u001b[43m,\u001b[49m\n\u001b[1;32m    883\u001b[0m \u001b[43m                   \u001b[49m\u001b[43mctypes\u001b[49m\u001b[38;5;241;43m.\u001b[39;49m\u001b[43mc_int\u001b[49m\u001b[43m(\u001b[49m\u001b[43moffsetb\u001b[49m\u001b[43m)\u001b[49m\u001b[43m,\u001b[49m\u001b[43m \u001b[49m\u001b[43mctypes\u001b[49m\u001b[38;5;241;43m.\u001b[39;49m\u001b[43mc_int\u001b[49m\u001b[43m(\u001b[49m\u001b[43moffseta\u001b[49m\u001b[43m)\u001b[49m\u001b[43m,\u001b[49m\n\u001b[1;32m    884\u001b[0m \u001b[43m                   \u001b[49m\u001b[43mctypes\u001b[49m\u001b[38;5;241;43m.\u001b[39;49m\u001b[43mc_int\u001b[49m\u001b[43m(\u001b[49m\u001b[43moffsetc\u001b[49m\u001b[43m)\u001b[49m\u001b[43m,\u001b[49m\n\u001b[1;32m    885\u001b[0m \u001b[43m                   \u001b[49m\u001b[43mb\u001b[49m\u001b[38;5;241;43m.\u001b[39;49m\u001b[43mctypes\u001b[49m\u001b[38;5;241;43m.\u001b[39;49m\u001b[43mdata_as\u001b[49m\u001b[43m(\u001b[49m\u001b[43mctypes\u001b[49m\u001b[38;5;241;43m.\u001b[39;49m\u001b[43mc_void_p\u001b[49m\u001b[43m)\u001b[49m\u001b[43m,\u001b[49m\n\u001b[1;32m    886\u001b[0m \u001b[43m                   \u001b[49m\u001b[43ma\u001b[49m\u001b[38;5;241;43m.\u001b[39;49m\u001b[43mctypes\u001b[49m\u001b[38;5;241;43m.\u001b[39;49m\u001b[43mdata_as\u001b[49m\u001b[43m(\u001b[49m\u001b[43mctypes\u001b[49m\u001b[38;5;241;43m.\u001b[39;49m\u001b[43mc_void_p\u001b[49m\u001b[43m)\u001b[49m\u001b[43m,\u001b[49m\n\u001b[1;32m    887\u001b[0m \u001b[43m                   \u001b[49m\u001b[43mc\u001b[49m\u001b[38;5;241;43m.\u001b[39;49m\u001b[43mctypes\u001b[49m\u001b[38;5;241;43m.\u001b[39;49m\u001b[43mdata_as\u001b[49m\u001b[43m(\u001b[49m\u001b[43mctypes\u001b[49m\u001b[38;5;241;43m.\u001b[39;49m\u001b[43mc_void_p\u001b[49m\u001b[43m)\u001b[49m\u001b[43m,\u001b[49m\n\u001b[1;32m    888\u001b[0m \u001b[43m                   \u001b[49m\u001b[43m(\u001b[49m\u001b[43mctypes\u001b[49m\u001b[38;5;241;43m.\u001b[39;49m\u001b[43mc_double\u001b[49m\u001b[38;5;241;43m*\u001b[39;49m\u001b[38;5;241;43m2\u001b[39;49m\u001b[43m)\u001b[49m\u001b[43m(\u001b[49m\u001b[43malpha\u001b[49m\u001b[38;5;241;43m.\u001b[39;49m\u001b[43mreal\u001b[49m\u001b[43m,\u001b[49m\u001b[43m \u001b[49m\u001b[43malpha\u001b[49m\u001b[38;5;241;43m.\u001b[39;49m\u001b[43mimag\u001b[49m\u001b[43m)\u001b[49m\u001b[43m,\u001b[49m\n\u001b[1;32m    889\u001b[0m \u001b[43m                   \u001b[49m\u001b[43m(\u001b[49m\u001b[43mctypes\u001b[49m\u001b[38;5;241;43m.\u001b[39;49m\u001b[43mc_double\u001b[49m\u001b[38;5;241;43m*\u001b[39;49m\u001b[38;5;241;43m2\u001b[39;49m\u001b[43m)\u001b[49m\u001b[43m(\u001b[49m\u001b[43mbeta\u001b[49m\u001b[38;5;241;43m.\u001b[39;49m\u001b[43mreal\u001b[49m\u001b[43m,\u001b[49m\u001b[43m \u001b[49m\u001b[43mbeta\u001b[49m\u001b[38;5;241;43m.\u001b[39;49m\u001b[43mimag\u001b[49m\u001b[43m)\u001b[49m\u001b[43m)\u001b[49m\n\u001b[1;32m    890\u001b[0m \u001b[38;5;28;01mreturn\u001b[39;00m c\n",
      "\u001b[0;31mKeyboardInterrupt\u001b[0m: "
     ]
    }
   ],
   "source": [
    "cell = gtop.Cell()\n",
    "cell.atom = at_coor_xyz\n",
    "cell.a = cella.T\n",
    "cell.basis = 'gth-szv'\n",
    "cell.pseudo = 'gth-pade'\n",
    "cell.exp_to_discard = 0.1\n",
    "cell.build()\n",
    "kpts = cell.make_kpts([2,2,2])\n",
    "mf = scfp.KRHF(cell, kpts=kpts)\n",
    "e = mf.kernel()"
   ]
  },
  {
   "cell_type": "code",
   "execution_count": 6,
   "id": "78d30c1e-faf2-4dc6-bd4a-752a85c279a8",
   "metadata": {},
   "outputs": [
    {
     "data": {
      "text/plain": [
       "array([[ 1.786855,  1.786855, -0.      ],\n",
       "       [ 1.786855, -0.      ,  1.786855],\n",
       "       [-0.      ,  1.786855,  1.786855]])"
      ]
     },
     "execution_count": 6,
     "metadata": {},
     "output_type": "execute_result"
    }
   ],
   "source": [
    "cella"
   ]
  },
  {
   "cell_type": "code",
   "execution_count": null,
   "id": "0b246125-bf10-4a2f-9efa-359adf7bf76b",
   "metadata": {},
   "outputs": [],
   "source": []
  }
 ],
 "metadata": {
  "kernelspec": {
   "display_name": "Python 3 (ipykernel)",
   "language": "python",
   "name": "python3"
  },
  "language_info": {
   "codemirror_mode": {
    "name": "ipython",
    "version": 3
   },
   "file_extension": ".py",
   "mimetype": "text/x-python",
   "name": "python",
   "nbconvert_exporter": "python",
   "pygments_lexer": "ipython3",
   "version": "3.10.0"
  }
 },
 "nbformat": 4,
 "nbformat_minor": 5
}
