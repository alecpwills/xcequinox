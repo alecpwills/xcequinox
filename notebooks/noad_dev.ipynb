{
 "cells": [
  {
   "cell_type": "code",
   "execution_count": 1,
   "id": "146c3044-6873-446f-bdb0-e2086b11b138",
   "metadata": {},
   "outputs": [
    {
     "name": "stderr",
     "output_type": "stream",
     "text": [
      "/home/awills/anaconda3/envs/pyscfad/lib/python3.10/site-packages/pyscf/dft/libxc.py:772: UserWarning: Since PySCF-2.3, B3LYP (and B3P86) are changed to the VWN-RPA variant, the same to the B3LYP functional in Gaussian and ORCA (issue 1480). To restore the VWN5 definition, you can put the setting \"B3LYP_WITH_VWN5 = True\" in pyscf_conf.py\n",
      "  warnings.warn('Since PySCF-2.3, B3LYP (and B3P86) are changed to the VWN-RPA variant, '\n",
      "CUDA backend failed to initialize: Found CUDA version 12010, but JAX was built against version 12030, which is newer. The copy of CUDA that is installed must be at least as new as the version against which JAX was built. (Set TF_CPP_MIN_LOG_LEVEL=0 and rerun for more info.)\n"
     ]
    }
   ],
   "source": [
    "from ase import Atoms\n",
    "from ase.io import read, write\n",
    "import xcquinox as xce\n",
    "import torch, jax, optax\n",
    "import numpy as np\n",
    "import equinox as eqx\n",
    "import jax.numpy as jnp\n",
    "import pyscfad as psa\n",
    "import os, sys, pickle\n",
    "from pyscf import dft, scf, gto, df\n",
    "from pyscf.pbc import scf as scfp\n",
    "from pyscf.pbc import gto as gtop\n",
    "from pyscf.pbc import dft as dftp\n",
    "# from pyscfad.pbc import scf as scfp\n",
    "# from pyscfad.pbc import gto as gtop\n",
    "# from pyscfad.pbc import dft as dftp\n",
    "\n",
    "os.environ[\"XLA_PYTHON_CLIENT_PREALLOCATE\"]=\"false\"\n",
    "os.environ[\"XLA_PYTHON_CLIENT_ALLOCATOR\"]=\"platform\"\n",
    "import pandas as pd\n",
    "from mp_api.client import MPRester\n",
    "from mldftdat.density import get_exchange_descriptors2\n",
    "from mldftdat.analyzers import RKSAnalyzer\n",
    "from emmet.core.summary import HasProps\n",
    "from ase.build import bulk\n",
    "from pymatgen.io.ase import AseAtomsAdaptor\n",
    "\n",
    "# os.environ['JAX_LOG_COMPILES'] = '1'\n",
    "# jax.config.update('jax_log_compiles', True)"
   ]
  },
  {
   "cell_type": "code",
   "execution_count": 2,
   "id": "a6ba67be-c8f3-43be-bfc1-2358ea59b240",
   "metadata": {},
   "outputs": [],
   "source": [
    "from xcquinox.net import eX, eC"
   ]
  },
  {
   "cell_type": "code",
   "execution_count": 3,
   "id": "dbe33098-a592-4a89-bec7-1d7f437d8ef8",
   "metadata": {
    "scrolled": true
   },
   "outputs": [
    {
     "name": "stdout",
     "output_type": "stream",
     "text": [
      "Atoms(symbols='Ar', pbc=True, cell=[[0.0, 2.820386, 2.820386], [2.820386, 0.0, 2.820386], [2.820386, 2.820386, 0.0]], calculator=SinglePointCalculator(...)) {'borlido_idx': 35, 'mp_id': 'mp-23155', 'reference': 14.15} {'energy': -19.14554484483416}\n",
      "arg.atm = [[ 8 20  1 23  0  0]]\n",
      "arg.bas = [[ 0  0  2  1  0 24 26  0]\n",
      " [ 0  0  1  1  0 28 29  0]\n",
      " [ 0  1  2  1  0 30 32  0]\n",
      " [ 0  1  1  1  0 34 35  0]]\n",
      "arg.env = [ 0.          0.          0.          0.          0.          0.\n",
      "  0.          0.          0.          0.          0.          0.\n",
      "  0.          0.          0.          0.          0.          0.\n",
      "  0.          0.          0.          0.          0.          0.\n",
      "  2.613       0.5736     -2.65356551  2.11503642  0.2014      0.75955569\n",
      "  7.86        0.7387     -2.13150432  2.02105235  0.2081      0.41003836]\n",
      "ecpbas  = []\n",
      "System: uname_result(system='Linux', node='raider', release='6.5.0-27-generic', version='#28~22.04.1-Ubuntu SMP PREEMPT_DYNAMIC Fri Mar 15 10:51:06 UTC 2', machine='x86_64')  Threads 20\n",
      "Python 3.10.0 (default, Mar  3 2022, 09:58:08) [GCC 7.5.0]\n",
      "numpy 1.26.4  scipy 1.11.4\n",
      "Date: Mon Apr 15 13:34:17 2024\n",
      "PySCF version 2.3.0\n",
      "PySCF path  /home/awills/anaconda3/envs/pyscfad/lib/python3.10/site-packages/pyscf\n",
      "\n",
      "[CONFIG] ARGPARSE = False\n",
      "[CONFIG] DEBUG = False\n",
      "[CONFIG] MAX_MEMORY = 4000\n",
      "[CONFIG] TMPDIR = .\n",
      "[CONFIG] UNIT = angstrom\n",
      "[CONFIG] VERBOSE = 3\n",
      "[CONFIG] conf_file = /home/awills/.pyscf_conf.py\n",
      "[CONFIG] pyscf_numpy_backend = jax\n",
      "[CONFIG] pyscf_scipy_backend = jax\n",
      "[CONFIG] pyscf_scipy_linalg_backend = pyscfad\n",
      "[CONFIG] pyscfad = True\n",
      "[CONFIG] pyscfad_ccsd_implicit_diff = True\n",
      "[CONFIG] pyscfad_scf_implicit_diff = True\n",
      "[INPUT] verbose = 9\n",
      "[INPUT] max_memory = 4000 \n",
      "[INPUT] num. atoms = 1\n",
      "[INPUT] num. electrons = 8\n",
      "[INPUT] charge = 0\n",
      "[INPUT] spin (= nelec alpha-beta = 2S) = 0\n",
      "[INPUT] symmetry False subgroup None\n",
      "[INPUT] Mole.unit = angstrom\n",
      "[INPUT] Symbol           X                Y                Z      unit          X                Y                Z       unit  Magmom\n",
      "[INPUT]  1 Ar     0.000000000000   0.000000000000   0.000000000000 AA    0.000000000000   0.000000000000   0.000000000000 Bohr   0.0\n",
      "[INPUT] ---------------- BASIS SET ---------------- \n",
      "[INPUT] l, kappa, [nprim/nctr], expnt,             c_1 c_2 ...\n",
      "[INPUT] Ar\n",
      "[INPUT] 0    0    [2    /1   ]  2.613             -0.5110463\n",
      "                                0.5736            1.2701236\n",
      "[INPUT] 0    0    [1    /1   ]  0.2014               1\n",
      "[INPUT] 1    0    [2    /1   ]  7.86              -0.0555167\n",
      "                                0.7387            1.0115982\n",
      "[INPUT] 1    0    [1    /1   ]  0.2081               1\n",
      "\n",
      "mesh for ewald [11 11 11]\n",
      "Ewald components = 0.001985449436657, -16.1635769066223, 2.39777600876165\n",
      "nuclear repulsion = -13.763815448424\n",
      "number of shells = 4\n",
      "number of NR pGTOs = 12\n",
      "number of NR cGTOs = 8\n",
      "basis = lanl2dz\n",
      "ecp = {}\n",
      "bas 0, expnt(s) = [2.613  0.5736]\n",
      "bas 1, expnt(s) = [0.2014]\n",
      "bas 2, expnt(s) = [7.86   0.7387]\n",
      "bas 3, expnt(s) = [0.2081]\n",
      "CPU time:         7.23\n",
      "lattice vectors  a1 [0.000000000, 5.329757106, 5.329757106]\n",
      "                 a2 [5.329757106, 0.000000000, 5.329757106]\n",
      "                 a3 [5.329757106, 5.329757106, 0.000000000]\n",
      "dimension = 3\n",
      "low_dim_ft_type = None\n",
      "Cell volume = 302.797\n",
      "exp_to_discard = 0.1\n",
      "rcut = 16.87663227047371 (nimgs = [3 3 3])\n",
      "lattice sum = 163 cells\n",
      "precision = 1e-08\n",
      "pseudo = gth-pbe\n",
      "ke_cutoff = 746.4509408961219\n",
      "    = [95 95 95] mesh (857375 PWs)\n",
      "Initial guess from minao.\n",
      "mesh for ewald [11 11 11]\n",
      "Ewald components = 0.001985449436657, -16.1635769066223, 2.39777600876165\n"
     ]
    }
   ],
   "source": [
    "refdp = '/home/awills/Documents/Research/datasets/borlido2019/smalls_data'\n",
    "trjs = sorted([i for i in os.listdir(refdp) if '_' in i and 'traj' in i and 'smalls' not in i], key = lambda x: int(x.split('_')[0]))\n",
    "mols = []\n",
    "mfs = []\n",
    "rdms = []\n",
    "init_dms = []\n",
    "rmoes = []\n",
    "rmooccs = []\n",
    "rmocoeffs = []\n",
    "refgaps = []\n",
    "reftotes = []\n",
    "gws = []\n",
    "vns = []\n",
    "gcs = []\n",
    "aos = []\n",
    "ts = []\n",
    "proportions = []\n",
    "hcs = []\n",
    "eris = []\n",
    "ss = []\n",
    "ogds = []\n",
    "GRID_SUBSAMPLE_SIZE=100\n",
    "for idx, i in enumerate(trjs[:2]):\n",
    "    atoms = read(os.path.join(refdp, i))\n",
    "    fbase = i.split('.')[0]\n",
    "    rdm = np.load(os.path.join(refdp, fbase+'.dm.npy'))\n",
    "    if rdm.shape[0] < 19:\n",
    "        rdms.append(rdm)\n",
    "        ogds.append(rdm.shape)\n",
    "        refgaps.append(atoms.info['reference'])\n",
    "        rmoes.append(np.load(os.path.join(refdp, fbase+'.mo_energy.npy')))\n",
    "        rmooccs.append(np.load(os.path.join(refdp, fbase+'.mo_occ.npy')))\n",
    "        rmocoeffs.append(np.load(os.path.join(refdp, fbase+'.mo_coeff.npy')))\n",
    "        print(atoms, atoms.info, atoms.calc.results)\n",
    "        atoms.info['e_calc'] = atoms.calc.results['energy']\n",
    "        reftotes.append(atoms.info['e_calc'])\n",
    "        pos = atoms.positions\n",
    "        spec = atoms.get_chemical_symbols()\n",
    "        mol_input = [[s,p] for s,p in zip(spec,pos)]\n",
    "        cell = np.array(atoms.cell)\n",
    "        mol = gtop.Cell(a=cell, rcut=0.1, atom=mol_input, basis='lanl2dz', charge=0, pseudo='gth-pbe', verbose=9, spin=0)\n",
    "        mol.exp_to_discard = 0.1\n",
    "        mol.build()\n",
    "        mols.append(mol)\n",
    "        mf = dftp.RKS(mol)\n",
    "        mf.grids.level = 1\n",
    "        mf.grids.build()\n",
    "        gw = mf.grids.weights[::GRID_SUBSAMPLE_SIZE]\n",
    "        gc = mf.grids.coords[::GRID_SUBSAMPLE_SIZE]\n",
    "        proportion = len(gw)/len(mf.grids.weights)\n",
    "        proportions.append(proportion)\n",
    "        mf.grids.weights = gw\n",
    "        mf.grids.coords = gc\n",
    "        gws.append(gw)\n",
    "        gcs.append(gc)\n",
    "        # aos.append(mf._numint.eval_ao(mol, mf.grids.coords, deriv=2))\n",
    "        init_dms.append(mf.get_init_guess())\n",
    "        aos.append(jnp.array(mf._numint.eval_ao(mol, gc, deriv=2)))\n",
    "        hcs.append(jnp.array(mf.get_hcore()))\n",
    "        ts.append(jnp.array(mol.intor('int1e_kin')))\n",
    "        vns.append(jnp.array(mf.energy_nuc()))\n",
    "        eris.append(jnp.array(mol.intor('int2e')))\n",
    "        # print('eri shape', eri.shape)\n",
    "        # print('ao_eval shape', ao_eval.shape)\n",
    "        ss.append(jnp.linalg.inv(jnp.linalg.cholesky(mol.intor('int1e_ovlp'))))\n",
    "        mfs.append(mf)"
   ]
  },
  {
   "cell_type": "code",
   "execution_count": 4,
   "id": "8c3bc45f-be81-419c-be9d-417304e088fd",
   "metadata": {
    "scrolled": true
   },
   "outputs": [
    {
     "name": "stdout",
     "output_type": "stream",
     "text": [
      "[8, 8] (8, 8)\n",
      "[8, 8] (8, 8)\n",
      "[8] (8,)\n",
      "[8] (8,)\n",
      "[8, 8] (8, 8)\n",
      "[8574] (8574,)\n",
      "[8574, 3] (8574, 3)\n",
      "[10, 8574, 8] (10, 8574, 8)\n",
      "[8, 8] (8, 8)\n",
      "[8, 8] (8, 8)\n",
      "[8, 8, 8, 8] (8, 8, 8, 8)\n",
      "[8, 8] (8, 8)\n"
     ]
    }
   ],
   "source": [
    "rdms = xce.utils.pad_array_list(rdms)\n",
    "init_dms = xce.utils.pad_array_list(init_dms)\n",
    "rmoes = xce.utils.pad_array_list(rmoes)\n",
    "rmooccs = xce.utils.pad_array_list(rmooccs)\n",
    "rmocoeffs = xce.utils.pad_array_list(rmocoeffs)\n",
    "gws = xce.utils.pad_array_list(gws)\n",
    "gcs = xce.utils.pad_array_list(gcs)\n",
    "aos = xce.utils.pad_array_list(aos)\n",
    "hcs = xce.utils.pad_array_list(hcs)\n",
    "ts = xce.utils.pad_array_list(ts)\n",
    "# vns = xce.utils.pad_array_list(vns)\n",
    "eris = xce.utils.pad_array_list(eris)\n",
    "ss = xce.utils.pad_array_list(ss)\n",
    "for idx, mf in enumerate(mfs):\n",
    "    mf.grids.weights = gws[idx]\n",
    "    mf.grids.coords = gcs[idx]"
   ]
  },
  {
   "cell_type": "code",
   "execution_count": 5,
   "id": "a42568b2-df09-4ab6-83bd-c562fcf0affa",
   "metadata": {},
   "outputs": [],
   "source": [
    "class E_Rho_Gap_loss(eqx.Module):\n",
    "    def __init__(self):\n",
    "        super().__init__()\n",
    "\n",
    "    def __call__(self, model, mol, mf, gc, gw, inp_dm, mo_occ, ogd, refE, refDM, refGap):\n",
    "\n",
    "        #get static matrices from mol and mf\n",
    "        ao_eval = jnp.array(mf._numint.eval_ao(mol, gc, deriv=2))\n",
    "        t = jnp.array(mol.intor('int1e_kin'))\n",
    "        vn = jnp.array(mol.intor('int1e_nuc'))\n",
    "        hc = jnp.array(mf.get_hcore())\n",
    "        eri = jnp.array(mol.intor('int2e'))\n",
    "        s = jnp.linalg.inv(jnp.linalg.cholesky(mol.intor('int1e_ovlp')))\n",
    "        homo_i = jnp.max(jnp.nonzero(mo_occ, size=inp_dm.shape[0])[0])\n",
    "\n",
    "\n",
    "        #vxc function for gradient\n",
    "        vgf = lambda x: model(x, ao_eval, mf.grids.weights)\n",
    "        print('Generating dmp, moep, mocoep')\n",
    "        dmp, moep, mocoep = xce.utils.get_dm_moe(inp_dm, eri, vgf, mo_occ, hc, s, ogd)\n",
    "\n",
    "        veff = xce.utils.get_veff()(dmp, eri)\n",
    "        print('Getting exc, vxc from dmp')\n",
    "        exc, vxc = eqx.filter_value_and_grad(model)(dmp, ao_eval, gw)\n",
    "        e_pred = xce.utils.energy_tot()(dmp, hc, veff+vxc+vn)\n",
    "        # rho_pred = xce.utils.get_rho()(dmp, ao_eval)\n",
    "        # rho_ref = xce.utils.get_rho()(refDM, ao_eval)\n",
    "        print('Getting rho_pred and rho_ref')\n",
    "        rho_pred = jnp.einsum('xij,yik,...jk->xy...i', ao_eval, ao_eval, dmp)[0,0]+1e-10\n",
    "        rho_ref = jnp.einsum('xij,yik,...jk->xy...i', ao_eval, ao_eval, refDM)[0,0]+1e-10\n",
    "        print('Getting gap_pred')\n",
    "        gap_pred = moep[homo_i+1]-moep[homo_i]\n",
    "\n",
    "        eL = (e_pred-refE)**2\n",
    "\n",
    "        rho_L = jnp.sum(gw*(rho_pred-rho_ref)**2)/mol.nelectron**2\n",
    "\n",
    "        gap_L = (gap_pred-refGap)**2\n",
    "\n",
    "        return jnp.sqrt(eL+rho_L+gap_L)[0]\n",
    "\n",
    "\n",
    "class E_DM_Gap_loss(eqx.Module):\n",
    "    def __init__(self):\n",
    "        super().__init__()\n",
    "\n",
    "    def __call__(self, model, mol, mf, gc, gw, inp_dm, mo_occ, ogd, refE, refDM, refGap):\n",
    "\n",
    "        #get static matrices from mol and mf\n",
    "        ao_eval = jnp.array(jax.lax.stop_gradient(mf._numint.eval_ao(mol, gc, deriv=2)))\n",
    "        t = jnp.array(mol.intor('int1e_kin'))\n",
    "        vn = jnp.array(mol.intor('int1e_nuc'))\n",
    "        hc = jnp.array(mf.get_hcore())\n",
    "        eri = jnp.array(mol.intor('int2e'))\n",
    "        # print('eri shape', eri.shape)\n",
    "        # print('ao_eval shape', ao_eval.shape)\n",
    "        s = jnp.linalg.inv(jnp.linalg.cholesky(mol.intor('int1e_ovlp')))\n",
    "        homo_i = jnp.max(jnp.nonzero(mo_occ, size=inp_dm.shape[0])[0])\n",
    "\n",
    "        ao_eval = xce.utils.pad_array(ao_eval, ao_eval, shape=(ao_eval.shape[0], gw.shape[0], inp_dm.shape[0]))\n",
    "        s = xce.utils.pad_array(s, inp_dm)\n",
    "        t = xce.utils.pad_array(t, inp_dm)\n",
    "        hc = xce.utils.pad_array(hc, inp_dm)\n",
    "        vn = xce.utils.pad_array(vn, inp_dm)\n",
    "        eri = xce.utils.pad_array(eri, eri, shape=(inp_dm.shape[0], inp_dm.shape[0], inp_dm.shape[0], inp_dm.shape[0]))\n",
    "\n",
    "        #vxc function for gradient\n",
    "        vgf = lambda x: model(x, ao_eval, gw)\n",
    "        print('Generating dmp, moep, mocoep')\n",
    "        print(f'inp_dm, eri, mo_occ, hc, s shapes: {inp_dm.shape}, {eri.shape}, {mo_occ.shape}, {hc.shape}, {s.shape}')\n",
    "        dmp, moep, mocoep = xce.utils.get_dm_moe(inp_dm, eri, vgf, mo_occ, hc, s, ogd)\n",
    "        print(f'dmp, moep, mocoep shapes: {dmp.shape}, {moep.shape}, {mocoep.shape}')\n",
    "        \n",
    "        dmp = xce.utils.pad_array(dmp, inp_dm)\n",
    "        moep = xce.utils.pad_array(moep, moep,  shape=(dmp.shape[0],))\n",
    "        # print(f'Getting veff from dmp, eri (shapes = {dmp.shape}, {eri.shape})')\n",
    "        # veff = xce.utils.get_veff()(dmp, eri)\n",
    "        # print('Getting exc, vxc from dmp')\n",
    "        # exc, vxc = eqx.filter_value_and_grad(model)(dmp, ao_eval, gw)\n",
    "        # e_pred = xce.utils.energy_tot()(dmp, hc, veff+vxc+vn)\n",
    "        # print('e_pred, refE: ', e_pred, refE)\n",
    "        # rho_pred = xce.utils.get_rho()(dmp, ao_eval)\n",
    "        # rho_ref = xce.utils.get_rho()(refDM, ao_eval)\n",
    "        print('Getting gap_pred')\n",
    "        gap_pred = moep[homo_i+1]-moep[homo_i]\n",
    "        print('gap_pred, refGap: ', gap_pred, refGap)\n",
    "\n",
    "        # eL = (e_pred-refE)**2\n",
    "        eL = 0\n",
    "\n",
    "        dm_L = jnp.sum( (dmp-refDM)**2)\n",
    "\n",
    "        gap_L = (gap_pred-refGap)**2\n",
    "\n",
    "        # return jnp.sqrt(eL+dm_L+gap_L)[0]\n",
    "        return jnp.sqrt(dm_L+gap_L)\n",
    "\n",
    "class DM_Gap_loss(eqx.Module):\n",
    "    def __init__(self):\n",
    "        super().__init__()\n",
    "\n",
    "    def __call__(self, model, ao, t, hc, eri, s, mf, gc, gw, inp_dm, mo_occ, ogd, refE, refDM, refGap):\n",
    "\n",
    "        homo_i = jnp.max(jnp.nonzero(mo_occ, size=inp_dm.shape[0])[0])\n",
    "        #vxc function for gradient\n",
    "        vgf = lambda x: model(x, ao, gw)\n",
    "        print('Generating dmp, moep, mocoep')\n",
    "        print(f'inp_dm, eri, mo_occ, hc, s shapes: {inp_dm.shape}, {eri.shape}, {mo_occ.shape}, {hc.shape}, {s.shape}')\n",
    "        dmp, moep, mocoep = xce.utils.get_dm_moe(inp_dm, eri, vgf, mo_occ, hc, s, ogd)\n",
    "        print(f'dmp, moep, mocoep shapes: {dmp.shape}, {moep.shape}, {mocoep.shape}')\n",
    "        \n",
    "        dmp = xce.utils.pad_array(dmp, inp_dm)\n",
    "        moep = xce.utils.pad_array(moep, moep,  shape=(dmp.shape[0],))\n",
    "        print('Getting gap_pred')\n",
    "        gap_pred = moep[homo_i+1]-moep[homo_i]\n",
    "        print('gap_pred, refGap: ', gap_pred, refGap)\n",
    "\n",
    "        dm_L = jnp.sum( (dmp-refDM)**2)\n",
    "\n",
    "        gap_L = (gap_pred-refGap)**2\n",
    "\n",
    "        return jnp.sqrt(dm_L+gap_L)\n",
    "\n",
    "class DM_Gap_Loop_loss(eqx.Module):\n",
    "    def __init__(self):\n",
    "        super().__init__()\n",
    "\n",
    "    def __call__(self, model, aos, ts, hcs, eris, ss, mfs, gcs, gws, inp_dms, mo_occs, mo_coeffs, mo_energies, ogds, refEs, refDMs, refGaps):\n",
    "        total_loss = 0\n",
    "        for idx in range(len(aos)):\n",
    "            mo_occ = mo_occs[idx]\n",
    "            mo_coeff = mo_coeffs[idx]\n",
    "            mo_energy = mo_energies[idx]\n",
    "            inp_dm = inp_dms[idx]\n",
    "            ao = aos[idx]\n",
    "            gw = gws[idx]\n",
    "            gc = gcs[idx]\n",
    "            eri = eris[idx]\n",
    "            hc = hcs[idx]\n",
    "            s = ss[idx]\n",
    "            ogd = ogds[idx]\n",
    "            refGap = refGaps[idx]\n",
    "            refDM = refDMs[idx]\n",
    "\n",
    "            #for non-local\n",
    "            mf = mfs[idx]\n",
    "            #just say it's converged\n",
    "            mf.converged = True\n",
    "            #assign reference calculation values to the mean field object\n",
    "            mf.mo_occ = mo_occ\n",
    "            mf.mo_coeff = mo_coeff\n",
    "            mf.mo_energy = mo_energies\n",
    "            #set flags for use in the RKSAnalyzer\n",
    "            mf.idm = True\n",
    "            mf.iao = True\n",
    "            mf.dm = inp_dm\n",
    "            mf.ao = ao\n",
    "            \n",
    "            homo_i = jnp.max(jnp.nonzero(mo_occ, size=inp_dm.shape[0])[0])\n",
    "            #vxc function for gradient\n",
    "            vgf = lambda x: model(x, ao, gw, mf=mf)\n",
    "            print('Generating dmp, moep, mocoep')\n",
    "            print(f'inp_dm, eri, mo_occ, hc, s shapes: {inp_dm.shape}, {eri.shape}, {mo_occ.shape}, {hc.shape}, {s.shape}')\n",
    "            dmp, moep, mocoep = xce.utils.get_dm_moe(inp_dm, eri, vgf, mo_occ, hc, s, ogd)\n",
    "            print(f'dmp, moep, mocoep shapes: {dmp.shape}, {moep.shape}, {mocoep.shape}')\n",
    "            \n",
    "            dmp = xce.utils.pad_array(dmp, inp_dm)\n",
    "            moep = xce.utils.pad_array(moep, moep,  shape=(dmp.shape[0],))\n",
    "            print('Getting gap_pred')\n",
    "            gap_pred = moep[homo_i+1]-moep[homo_i]\n",
    "            print('gap_pred, refGap: ', gap_pred, refGap)\n",
    "    \n",
    "            dm_L = jnp.sum( (dmp-refDM)**2)\n",
    "    \n",
    "            gap_L = (gap_pred-refGap)**2\n",
    "    \n",
    "            total_loss += jnp.sqrt(dm_L+gap_L)\n",
    "        return total_loss\n",
    "\n",
    "class Gap_Loop_loss(eqx.Module):\n",
    "    def __init__(self):\n",
    "        super().__init__()\n",
    "\n",
    "    def __call__(self, model, aos, ts, hcs, eris, ss, mfs, gcs, gws, inp_dms, mo_occs, mo_coeffs, mo_energies, ogds, refEs, refDMs, refGaps):\n",
    "        total_loss = 0\n",
    "        for idx in range(len(aos)):\n",
    "            mo_occ = mo_occs[idx]\n",
    "            mo_coeff = mo_coeffs[idx]\n",
    "            mo_energy = mo_energies[idx]\n",
    "            inp_dm = inp_dms[idx]\n",
    "            ao = aos[idx]\n",
    "            gw = gws[idx]\n",
    "            gc = gcs[idx]\n",
    "            eri = eris[idx]\n",
    "            hc = hcs[idx]\n",
    "            s = ss[idx]\n",
    "            ogd = ogds[idx]\n",
    "            refGap = refGaps[idx]\n",
    "            refDM = refDMs[idx]\n",
    "\n",
    "            #for non-local\n",
    "            mf = mfs[idx]\n",
    "            #just say it's converged\n",
    "            mf.converged = True\n",
    "            #assign reference calculation values to the mean field object\n",
    "            mf.mo_occ = mo_occ\n",
    "            mf.mo_coeff = mo_coeff\n",
    "            mf.mo_energy = mo_energies\n",
    "            #set flags for use in the RKSAnalyzer\n",
    "            mf.idm = True\n",
    "            mf.iao = True\n",
    "            mf.dm = inp_dm\n",
    "            mf.ao = ao\n",
    "            \n",
    "            homo_i = jnp.max(jnp.nonzero(mo_occ, size=inp_dm.shape[0])[0])\n",
    "            #vxc function for gradient\n",
    "            vgf = lambda x: model(x, ao, gw, mf=mf)\n",
    "            # print('Generating dmp, moep, mocoep')\n",
    "            # print(f'inp_dm, eri, mo_occ, hc, s shapes: {inp_dm.shape}, {eri.shape}, {mo_occ.shape}, {hc.shape}, {s.shape}')\n",
    "            dmp, moep, mocoep = xce.utils.get_dm_moe(inp_dm, eri, vgf, mo_occ, hc, s, ogd)\n",
    "            print('moep, ', moep)\n",
    "            # print(f'dmp, moep, mocoep shapes: {dmp.shape}, {moep.shape}, {mocoep.shape}')\n",
    "            \n",
    "            # moep = xce.utils.pad_array(moep, moep,  shape=(dmp.shape[0],))\n",
    "            print('Getting gap_pred')\n",
    "            gap_pred = moep[homo_i+1]-moep[homo_i]\n",
    "            print('gap_pred, refGap: ', gap_pred, refGap)\n",
    "    \n",
    "    \n",
    "            gap_L = ((gap_pred-refGap)**2)/0.01\n",
    "            if idx == 0:\n",
    "                total_loss = jnp.sqrt(gap_L)\n",
    "            else:\n",
    "                total_loss += jnp.sqrt(gap_L)\n",
    "        return total_loss\n",
    "\n",
    "class Gap_loss(eqx.Module):\n",
    "    def __init__(self):\n",
    "        super().__init__()\n",
    "\n",
    "    def __call__(self, model, aos, ts, hcs, eris, ss, mfs, gcs, gws, inp_dms, mo_occs, mo_coeffs, mo_energies, ogds, refEs, refDMs, refGaps):\n",
    "        mo_occ = mo_occs\n",
    "        mo_coeff = mo_coeffs\n",
    "        mo_energy = mo_energies\n",
    "        inp_dm = inp_dms\n",
    "        ao = aos\n",
    "        gw = gws\n",
    "        gc = gcs\n",
    "        eri = eris\n",
    "        hc = hcs\n",
    "        s = ss\n",
    "        ogd = ogds\n",
    "        refGap = refGaps\n",
    "        refDM = refDMs\n",
    "\n",
    "        #for non-local\n",
    "        mf = mfs\n",
    "        #just say it's converged\n",
    "        mf.converged = True\n",
    "        #assign reference calculation values to the mean field object\n",
    "        mf.mo_occ = mo_occ\n",
    "        mf.mo_coeff = mo_coeff\n",
    "        mf.mo_energy = mo_energies\n",
    "        #set flags for use in the RKSAnalyzer\n",
    "        mf.idm = True\n",
    "        mf.iao = True\n",
    "        mf.dm = inp_dm\n",
    "        mf.ao = ao\n",
    "        \n",
    "        homo_i = jnp.max(jnp.nonzero(mo_occ, size=inp_dm.shape[0])[0])\n",
    "        #vxc function for gradient\n",
    "        vgf = lambda x: model(x, ao, gw, mf=mf)\n",
    "        # print('Generating dmp, moep, mocoep')\n",
    "        # print(f'inp_dm, eri, mo_occ, hc, s shapes: {inp_dm.shape}, {eri.shape}, {mo_occ.shape}, {hc.shape}, {s.shape}')\n",
    "        dmp, moep, mocoep = xce.utils.get_dm_moe(inp_dm, eri, vgf, mo_occ, hc, s, ogd)\n",
    "        print('moep, ', moep)\n",
    "        # print(f'dmp, moep, mocoep shapes: {dmp.shape}, {moep.shape}, {mocoep.shape}')\n",
    "        \n",
    "        # moep = xce.utils.pad_array(moep, moep,  shape=(dmp.shape[0],))\n",
    "        print('Getting gap_pred')\n",
    "        gap_pred = moep[homo_i+1]-moep[homo_i]\n",
    "        print('gap_pred, refGap: ', gap_pred, refGap)\n",
    "\n",
    "\n",
    "        gap_L = ((gap_pred-refGap)**2)\n",
    "        return gap_L\n",
    "\n",
    "class Band_gap_janak_loss(eqx.Module):\n",
    "    def __init__(self):\n",
    "        \"\"\"\n",
    "        Initializer for the loss module, which attempts to find loss bang gaps w.r.t. reference\n",
    "\n",
    "        .. todo: Make more robust for non-local descriptors\n",
    "        \"\"\"\n",
    "        super().__init__()\n",
    "\n",
    "    def __call__(self, model, ao_eval, gw, dm, eri, mo_occ, hc, s, ogd, refgap, mf=None, alpha0=0.7):\n",
    "        \"\"\"\n",
    "        Forward pass for loss object\n",
    "\n",
    "        NOTE: This differs from HoLu loss in that it selects the deepest minimum w.r.t. the LUMO (Fermi energy)\n",
    "\n",
    "        :param model: The model that will be used in generating the molecular orbital energies ('band' energies)\n",
    "        :type model: xcquinox.xc.eXC\n",
    "        :param ao_eval: The atomic orbitals evaluated on the grid for the given molecule\n",
    "        :type ao_eval: jax.Array\n",
    "        :param gw: The grid weights associated to the current molecule's grids\n",
    "        :type gw: jax.Array\n",
    "        :param dm: Input reference density matrix for use during the one-shot forward pass to generate the new DM\n",
    "        :type dm: jax.Array\n",
    "        :param eri: Electron repulsion integrals associated with this molecule\n",
    "        :type eri: jax.Array\n",
    "        :param mo_occ: The molecule's molecular orbital occupation numbers\n",
    "        :type mo_occ: jax.Array\n",
    "        :param hc: The molecule's core Hamiltonian\n",
    "        :type hc: jax.Array\n",
    "        :param s: The molecule's overlap matrix\n",
    "        :type s: jax.Array\n",
    "        :param ogd: The original dimensions of this molecule's density matrix, used if padded to constrict the eigendecomposition to a relevant shape\n",
    "        :type ogd: jax.Array\n",
    "        :param refgap: The reference gap to optimzie against\n",
    "        :type refgap: jax.Array\n",
    "        :param mf: A pyscf(ad) converged calculation kernel if self.level > 3, used for building the CIDER nonlocal descriptors, defaults to None\n",
    "        :type mf: pyscfad.dft.RKS kernel\n",
    "        :param alpha0: The mixing parameter for the one-shot density matrix generation, defaults to 0.7\n",
    "        :type alpha0: float, optional\n",
    "        :return: Root-squared error between predicted gap (minimum of molecular energies) and the reference\n",
    "        :rtype: jax.Array\n",
    "        \"\"\"\n",
    "        def janak_theorem_deriv(model, ao_eval, gw, dm, eri, hc, s, ogd, mf=mf, alpha0=0.7):\n",
    "            def ret_func(mo_occ):\n",
    "                vgf = lambda x: model(x, ao_eval, gw, mf=mf)\n",
    "                dmp, moep, mocp = xce.utils.get_dm_moe(dm, eri, vgf, mo_occ, hc, s, ogd, alpha0=alpha0)\n",
    "                return model(dmp, ao_eval, gw)\n",
    "        \n",
    "            return ret_func\n",
    "\n",
    "        janak_f = janak_theorem_deriv(model, ao_eval, gw, dm, eri, hc, s, ogd, alpha0)\n",
    "        homo_i = jnp.max(jnp.nonzero(mo_occ, size=dm.shape[0])[0])\n",
    "\n",
    "        e, derivs = eqx.filter_value_and_grad(janak_f)(mo_occ)\n",
    "        print('derivs, ', derivs)\n",
    "        pred_diff = derivs[homo_i+1] - derivs[homo_i]\n",
    "        \n",
    "        loss = jnp.sqrt( (pred_diff - refgap)**2)\n",
    "        # print(loss)\n",
    "        return loss\n",
    "\n",
    "class E_tot_loss(eqx.Module):\n",
    "    def __init__(self):\n",
    "        super().__init__()\n",
    "\n",
    "\n",
    "    def __call__(self, model, ao, gw, dm, eri, mo_occ, mo_coeffs, moes, hc, s, ogd, mf, vn, proportion, refEn):\n",
    "        #just say it's converged\n",
    "        mf.converged = True\n",
    "        #assign reference calculation values to the mean field object\n",
    "        mf.mo_occ = mo_occ\n",
    "        mf.mo_coeff = mo_coeffs\n",
    "        mf.mo_energy = moes\n",
    "        #set flags for use in the RKSAnalyzer\n",
    "        mf.idm = True\n",
    "        mf.iao = True\n",
    "        mf.dm = dm\n",
    "        mf.ao = ao\n",
    "        vgf = lambda x: model(x, ao, gw, mf=mf)\n",
    "        # print('Generating dmp, moep, mocoep')\n",
    "        # print(f'inp_dm, eri, mo_occ, hc, s shapes: {inp_dm.shape}, {eri.shape}, {mo_occ.shape}, {hc.shape}, {s.shape}')\n",
    "        dmp, moep, mocoep = xce.utils.get_dm_moe(dm, eri, vgf, mo_occ, hc, s, ogd)\n",
    "\n",
    "        veff = xce.utils.get_veff()(dmp, eri)\n",
    "        etot = xce.utils.energy_tot()(dmp, hc, veff)[0]\n",
    "\n",
    "        exc = model(dmp, ao, gw, mf=mf)/proportion\n",
    "        print('etot+exc+enuc', etot, exc, vn, etot+exc+vn)\n",
    "        return ( (etot+exc+vn) - refEn )**2\n"
   ]
  },
  {
   "cell_type": "code",
   "execution_count": 6,
   "id": "2f70fded-fbd3-407a-898e-79b74ace3e25",
   "metadata": {},
   "outputs": [],
   "source": [
    "# gpus = jax.devices(backend='gpu')\n",
    "cpus = jax.devices(backend='cpu')"
   ]
  },
  {
   "cell_type": "code",
   "execution_count": 14,
   "id": "9d226714-12a5-4f8a-a39b-10856538042e",
   "metadata": {},
   "outputs": [
    {
     "ename": "TreePathError",
     "evalue": "Error at leaf with path (GetAttrKey(name='nlstart_i'),)",
     "output_type": "error",
     "traceback": [
      "\u001b[0;31m---------------------------------------------------------------------------\u001b[0m",
      "\u001b[0;31mEOFError\u001b[0m                                  Traceback (most recent call last)",
      "File \u001b[0;32m~/anaconda3/envs/pyscfad/lib/python3.10/site-packages/equinox/_serialisation.py:36\u001b[0m, in \u001b[0;36m_ordered_tree_map.<locals>._f\u001b[0;34m(path, *xs)\u001b[0m\n\u001b[1;32m     35\u001b[0m \u001b[38;5;28;01mtry\u001b[39;00m:\n\u001b[0;32m---> 36\u001b[0m     \u001b[38;5;28;01mreturn\u001b[39;00m \u001b[43mf\u001b[49m\u001b[43m(\u001b[49m\u001b[38;5;241;43m*\u001b[39;49m\u001b[43mxs\u001b[49m\u001b[43m)\u001b[49m\n\u001b[1;32m     37\u001b[0m \u001b[38;5;28;01mexcept\u001b[39;00m TreePathError \u001b[38;5;28;01mas\u001b[39;00m e:\n",
      "File \u001b[0;32m~/anaconda3/envs/pyscfad/lib/python3.10/site-packages/equinox/_serialisation.py:323\u001b[0m, in \u001b[0;36mtree_deserialise_leaves.<locals>._deserialise.<locals>.__deserialise\u001b[0;34m(y)\u001b[0m\n\u001b[1;32m    322\u001b[0m \u001b[38;5;28;01mdef\u001b[39;00m \u001b[38;5;21m__deserialise\u001b[39m(y):\n\u001b[0;32m--> 323\u001b[0m     \u001b[38;5;28;01mreturn\u001b[39;00m \u001b[43mspec\u001b[49m\u001b[43m(\u001b[49m\u001b[43mf\u001b[49m\u001b[43m,\u001b[49m\u001b[43m \u001b[49m\u001b[43my\u001b[49m\u001b[43m)\u001b[49m\n",
      "File \u001b[0;32m~/anaconda3/envs/pyscfad/lib/python3.10/site-packages/equinox/_serialisation.py:135\u001b[0m, in \u001b[0;36mdefault_deserialise_filter_spec\u001b[0;34m(f, x)\u001b[0m\n\u001b[1;32m    131\u001b[0m \u001b[38;5;28;01melif\u001b[39;00m is_array_like(x):\n\u001b[1;32m    132\u001b[0m     \u001b[38;5;66;03m# np.generic gets deserialised directly as an array, so convert back to a scalar\u001b[39;00m\n\u001b[1;32m    133\u001b[0m     \u001b[38;5;66;03m# type here.\u001b[39;00m\n\u001b[1;32m    134\u001b[0m     \u001b[38;5;66;03m# See also https://github.com/google/jax/issues/17858\u001b[39;00m\n\u001b[0;32m--> 135\u001b[0m     out \u001b[38;5;241m=\u001b[39m \u001b[43mnp\u001b[49m\u001b[38;5;241;43m.\u001b[39;49m\u001b[43mload\u001b[49m\u001b[43m(\u001b[49m\u001b[43mf\u001b[49m\u001b[43m)\u001b[49m\n\u001b[1;32m    136\u001b[0m     \u001b[38;5;28;01mif\u001b[39;00m \u001b[38;5;28misinstance\u001b[39m(x, jax\u001b[38;5;241m.\u001b[39mdtypes\u001b[38;5;241m.\u001b[39mbfloat16):\n",
      "File \u001b[0;32m~/anaconda3/envs/pyscfad/lib/python3.10/site-packages/numpy/lib/npyio.py:436\u001b[0m, in \u001b[0;36mload\u001b[0;34m(file, mmap_mode, allow_pickle, fix_imports, encoding, max_header_size)\u001b[0m\n\u001b[1;32m    435\u001b[0m \u001b[38;5;28;01mif\u001b[39;00m \u001b[38;5;129;01mnot\u001b[39;00m magic:\n\u001b[0;32m--> 436\u001b[0m     \u001b[38;5;28;01mraise\u001b[39;00m \u001b[38;5;167;01mEOFError\u001b[39;00m(\u001b[38;5;124m\"\u001b[39m\u001b[38;5;124mNo data left in file\u001b[39m\u001b[38;5;124m\"\u001b[39m)\n\u001b[1;32m    437\u001b[0m \u001b[38;5;66;03m# If the file size is less than N, we need to make sure not\u001b[39;00m\n\u001b[1;32m    438\u001b[0m \u001b[38;5;66;03m# to seek past the beginning of the file\u001b[39;00m\n",
      "\u001b[0;31mEOFError\u001b[0m: No data left in file",
      "\nThe above exception was the direct cause of the following exception:\n",
      "\u001b[0;31mTreePathError\u001b[0m                             Traceback (most recent call last)",
      "File \u001b[0;32m~/anaconda3/envs/pyscfad/lib/python3.10/site-packages/equinox/_serialisation.py:36\u001b[0m, in \u001b[0;36m_ordered_tree_map.<locals>._f\u001b[0;34m(path, *xs)\u001b[0m\n\u001b[1;32m     35\u001b[0m \u001b[38;5;28;01mtry\u001b[39;00m:\n\u001b[0;32m---> 36\u001b[0m     \u001b[38;5;28;01mreturn\u001b[39;00m \u001b[43mf\u001b[49m\u001b[43m(\u001b[49m\u001b[38;5;241;43m*\u001b[39;49m\u001b[43mxs\u001b[49m\u001b[43m)\u001b[49m\n\u001b[1;32m     37\u001b[0m \u001b[38;5;28;01mexcept\u001b[39;00m TreePathError \u001b[38;5;28;01mas\u001b[39;00m e:\n",
      "File \u001b[0;32m~/anaconda3/envs/pyscfad/lib/python3.10/site-packages/equinox/_serialisation.py:325\u001b[0m, in \u001b[0;36mtree_deserialise_leaves.<locals>._deserialise\u001b[0;34m(spec, x)\u001b[0m\n\u001b[1;32m    323\u001b[0m     \u001b[38;5;28;01mreturn\u001b[39;00m spec(f, y)\n\u001b[0;32m--> 325\u001b[0m \u001b[38;5;28;01mreturn\u001b[39;00m \u001b[43m_ordered_tree_map\u001b[49m\u001b[43m(\u001b[49m\u001b[43m__deserialise\u001b[49m\u001b[43m,\u001b[49m\u001b[43m \u001b[49m\u001b[43mx\u001b[49m\u001b[43m,\u001b[49m\u001b[43m \u001b[49m\u001b[43mis_leaf\u001b[49m\u001b[38;5;241;43m=\u001b[39;49m\u001b[43mis_leaf\u001b[49m\u001b[43m)\u001b[49m\n",
      "File \u001b[0;32m~/anaconda3/envs/pyscfad/lib/python3.10/site-packages/equinox/_serialisation.py:47\u001b[0m, in \u001b[0;36m_ordered_tree_map\u001b[0;34m(f, tree, is_leaf, *rest)\u001b[0m\n\u001b[1;32m     45\u001b[0m         \u001b[38;5;28;01mraise\u001b[39;00m exc \u001b[38;5;28;01mfrom\u001b[39;00m \u001b[38;5;21;01me\u001b[39;00m\n\u001b[0;32m---> 47\u001b[0m \u001b[38;5;28;01mreturn\u001b[39;00m \u001b[43mtreedef\u001b[49m\u001b[38;5;241;43m.\u001b[39;49m\u001b[43munflatten\u001b[49m\u001b[43m(\u001b[49m\u001b[43m_f\u001b[49m\u001b[43m(\u001b[49m\u001b[38;5;241;43m*\u001b[39;49m\u001b[43mxs\u001b[49m\u001b[43m)\u001b[49m\u001b[43m \u001b[49m\u001b[38;5;28;43;01mfor\u001b[39;49;00m\u001b[43m \u001b[49m\u001b[43mxs\u001b[49m\u001b[43m \u001b[49m\u001b[38;5;129;43;01min\u001b[39;49;00m\u001b[43m \u001b[49m\u001b[38;5;28;43mzip\u001b[39;49m\u001b[43m(\u001b[49m\u001b[38;5;241;43m*\u001b[39;49m\u001b[43mall_leaves\u001b[49m\u001b[43m)\u001b[49m\u001b[43m)\u001b[49m\n",
      "File \u001b[0;32m~/anaconda3/envs/pyscfad/lib/python3.10/site-packages/equinox/_serialisation.py:47\u001b[0m, in \u001b[0;36m<genexpr>\u001b[0;34m(.0)\u001b[0m\n\u001b[1;32m     45\u001b[0m         \u001b[38;5;28;01mraise\u001b[39;00m exc \u001b[38;5;28;01mfrom\u001b[39;00m \u001b[38;5;21;01me\u001b[39;00m\n\u001b[0;32m---> 47\u001b[0m \u001b[38;5;28;01mreturn\u001b[39;00m treedef\u001b[38;5;241m.\u001b[39munflatten(\u001b[43m_f\u001b[49m\u001b[43m(\u001b[49m\u001b[38;5;241;43m*\u001b[39;49m\u001b[43mxs\u001b[49m\u001b[43m)\u001b[49m \u001b[38;5;28;01mfor\u001b[39;00m xs \u001b[38;5;129;01min\u001b[39;00m \u001b[38;5;28mzip\u001b[39m(\u001b[38;5;241m*\u001b[39mall_leaves))\n",
      "File \u001b[0;32m~/anaconda3/envs/pyscfad/lib/python3.10/site-packages/equinox/_serialisation.py:45\u001b[0m, in \u001b[0;36m_ordered_tree_map.<locals>._f\u001b[0;34m(path, *xs)\u001b[0m\n\u001b[1;32m     44\u001b[0m exc\u001b[38;5;241m.\u001b[39mpath \u001b[38;5;241m=\u001b[39m path\n\u001b[0;32m---> 45\u001b[0m \u001b[38;5;28;01mraise\u001b[39;00m exc \u001b[38;5;28;01mfrom\u001b[39;00m \u001b[38;5;21;01me\u001b[39;00m\n",
      "\u001b[0;31mTreePathError\u001b[0m: Error at leaf with path (GetAttrKey(name='nlstart_i'),)",
      "\nThe above exception was the direct cause of the following exception:\n",
      "\u001b[0;31mTreePathError\u001b[0m                             Traceback (most recent call last)",
      "Cell \u001b[0;32mIn[14], line 7\u001b[0m\n\u001b[1;32m      5\u001b[0m blankxc \u001b[38;5;241m=\u001b[39m xce\u001b[38;5;241m.\u001b[39mxc\u001b[38;5;241m.\u001b[39meXC(grid_models \u001b[38;5;241m=\u001b[39m [xnet, cnet], level\u001b[38;5;241m=\u001b[39m\u001b[38;5;241m3\u001b[39m)\n\u001b[1;32m      6\u001b[0m p \u001b[38;5;241m=\u001b[39m \u001b[38;5;124m'\u001b[39m\u001b[38;5;124m/home/awills/Documents/Research/xcquinox/models/pretrained/scan\u001b[39m\u001b[38;5;124m'\u001b[39m\n\u001b[0;32m----> 7\u001b[0m xc \u001b[38;5;241m=\u001b[39m \u001b[43meqx\u001b[49m\u001b[38;5;241;43m.\u001b[39;49m\u001b[43mtree_deserialise_leaves\u001b[49m\u001b[43m(\u001b[49m\u001b[43mos\u001b[49m\u001b[38;5;241;43m.\u001b[39;49m\u001b[43mpath\u001b[49m\u001b[38;5;241;43m.\u001b[39;49m\u001b[43mjoin\u001b[49m\u001b[43m(\u001b[49m\u001b[43mp\u001b[49m\u001b[43m,\u001b[49m\u001b[43m \u001b[49m\u001b[38;5;124;43m'\u001b[39;49m\u001b[38;5;124;43mxc.eqx\u001b[39;49m\u001b[38;5;124;43m'\u001b[39;49m\u001b[43m)\u001b[49m\u001b[43m,\u001b[49m\u001b[43m \u001b[49m\u001b[43mblankxc\u001b[49m\u001b[43m)\u001b[49m\n\u001b[1;32m      8\u001b[0m \u001b[38;5;66;03m# xc = blankxc\u001b[39;00m\n\u001b[1;32m      9\u001b[0m nlxnet \u001b[38;5;241m=\u001b[39m eX(n_input \u001b[38;5;241m=\u001b[39m \u001b[38;5;241m15\u001b[39m, depth\u001b[38;5;241m=\u001b[39m\u001b[38;5;241m8\u001b[39m, n_hidden\u001b[38;5;241m=\u001b[39m\u001b[38;5;241m32\u001b[39m, use \u001b[38;5;241m=\u001b[39m [], ueg_limit\u001b[38;5;241m=\u001b[39m\u001b[38;5;28;01mTrue\u001b[39;00m, lob\u001b[38;5;241m=\u001b[39m\u001b[38;5;241m1.174\u001b[39m)\n",
      "File \u001b[0;32m~/anaconda3/envs/pyscfad/lib/python3.10/site-packages/equinox/_serialisation.py:327\u001b[0m, in \u001b[0;36mtree_deserialise_leaves\u001b[0;34m(path_or_file, like, filter_spec, is_leaf)\u001b[0m\n\u001b[1;32m    323\u001b[0m             \u001b[38;5;28;01mreturn\u001b[39;00m spec(f, y)\n\u001b[1;32m    325\u001b[0m         \u001b[38;5;28;01mreturn\u001b[39;00m _ordered_tree_map(__deserialise, x, is_leaf\u001b[38;5;241m=\u001b[39mis_leaf)\n\u001b[0;32m--> 327\u001b[0m     out \u001b[38;5;241m=\u001b[39m \u001b[43m_ordered_tree_map\u001b[49m\u001b[43m(\u001b[49m\u001b[43m_deserialise\u001b[49m\u001b[43m,\u001b[49m\u001b[43m \u001b[49m\u001b[43mfilter_spec\u001b[49m\u001b[43m,\u001b[49m\u001b[43m \u001b[49m\u001b[43mlike\u001b[49m\u001b[43m)\u001b[49m\n\u001b[1;32m    328\u001b[0m \u001b[38;5;28;01mwith\u001b[39;00m jax\u001b[38;5;241m.\u001b[39mensure_compile_time_eval():\n\u001b[1;32m    329\u001b[0m     \u001b[38;5;66;03m# ArrayImpl isn't a public type, so this is how we get access to it instead.\u001b[39;00m\n\u001b[1;32m    330\u001b[0m     \u001b[38;5;66;03m# `ensure_compile_time_eval` just in case someone is doing deserialisation\u001b[39;00m\n\u001b[1;32m    331\u001b[0m     \u001b[38;5;66;03m# inside JIT. Which would be weird, but still.\u001b[39;00m\n\u001b[1;32m    332\u001b[0m     array_impl_type \u001b[38;5;241m=\u001b[39m \u001b[38;5;28mtype\u001b[39m(jnp\u001b[38;5;241m.\u001b[39marray(\u001b[38;5;241m0\u001b[39m))\n",
      "File \u001b[0;32m~/anaconda3/envs/pyscfad/lib/python3.10/site-packages/equinox/_serialisation.py:47\u001b[0m, in \u001b[0;36m_ordered_tree_map\u001b[0;34m(f, tree, is_leaf, *rest)\u001b[0m\n\u001b[1;32m     44\u001b[0m         exc\u001b[38;5;241m.\u001b[39mpath \u001b[38;5;241m=\u001b[39m path\n\u001b[1;32m     45\u001b[0m         \u001b[38;5;28;01mraise\u001b[39;00m exc \u001b[38;5;28;01mfrom\u001b[39;00m \u001b[38;5;21;01me\u001b[39;00m\n\u001b[0;32m---> 47\u001b[0m \u001b[38;5;28;01mreturn\u001b[39;00m \u001b[43mtreedef\u001b[49m\u001b[38;5;241;43m.\u001b[39;49m\u001b[43munflatten\u001b[49m\u001b[43m(\u001b[49m\u001b[43m_f\u001b[49m\u001b[43m(\u001b[49m\u001b[38;5;241;43m*\u001b[39;49m\u001b[43mxs\u001b[49m\u001b[43m)\u001b[49m\u001b[43m \u001b[49m\u001b[38;5;28;43;01mfor\u001b[39;49;00m\u001b[43m \u001b[49m\u001b[43mxs\u001b[49m\u001b[43m \u001b[49m\u001b[38;5;129;43;01min\u001b[39;49;00m\u001b[43m \u001b[49m\u001b[38;5;28;43mzip\u001b[39;49m\u001b[43m(\u001b[49m\u001b[38;5;241;43m*\u001b[39;49m\u001b[43mall_leaves\u001b[49m\u001b[43m)\u001b[49m\u001b[43m)\u001b[49m\n",
      "File \u001b[0;32m~/anaconda3/envs/pyscfad/lib/python3.10/site-packages/equinox/_serialisation.py:47\u001b[0m, in \u001b[0;36m<genexpr>\u001b[0;34m(.0)\u001b[0m\n\u001b[1;32m     44\u001b[0m         exc\u001b[38;5;241m.\u001b[39mpath \u001b[38;5;241m=\u001b[39m path\n\u001b[1;32m     45\u001b[0m         \u001b[38;5;28;01mraise\u001b[39;00m exc \u001b[38;5;28;01mfrom\u001b[39;00m \u001b[38;5;21;01me\u001b[39;00m\n\u001b[0;32m---> 47\u001b[0m \u001b[38;5;28;01mreturn\u001b[39;00m treedef\u001b[38;5;241m.\u001b[39munflatten(\u001b[43m_f\u001b[49m\u001b[43m(\u001b[49m\u001b[38;5;241;43m*\u001b[39;49m\u001b[43mxs\u001b[49m\u001b[43m)\u001b[49m \u001b[38;5;28;01mfor\u001b[39;00m xs \u001b[38;5;129;01min\u001b[39;00m \u001b[38;5;28mzip\u001b[39m(\u001b[38;5;241m*\u001b[39mall_leaves))\n",
      "File \u001b[0;32m~/anaconda3/envs/pyscfad/lib/python3.10/site-packages/equinox/_serialisation.py:41\u001b[0m, in \u001b[0;36m_ordered_tree_map.<locals>._f\u001b[0;34m(path, *xs)\u001b[0m\n\u001b[1;32m     39\u001b[0m     exc \u001b[38;5;241m=\u001b[39m TreePathError(\u001b[38;5;124mf\u001b[39m\u001b[38;5;124m\"\u001b[39m\u001b[38;5;124mError at leaf with path \u001b[39m\u001b[38;5;132;01m{\u001b[39;00mcombo_path\u001b[38;5;132;01m}\u001b[39;00m\u001b[38;5;124m\"\u001b[39m)\n\u001b[1;32m     40\u001b[0m     exc\u001b[38;5;241m.\u001b[39mpath \u001b[38;5;241m=\u001b[39m combo_path\n\u001b[0;32m---> 41\u001b[0m     \u001b[38;5;28;01mraise\u001b[39;00m exc \u001b[38;5;28;01mfrom\u001b[39;00m \u001b[38;5;21;01me\u001b[39;00m\n\u001b[1;32m     42\u001b[0m \u001b[38;5;28;01mexcept\u001b[39;00m \u001b[38;5;167;01mException\u001b[39;00m \u001b[38;5;28;01mas\u001b[39;00m e:\n\u001b[1;32m     43\u001b[0m     exc \u001b[38;5;241m=\u001b[39m TreePathError(\u001b[38;5;124mf\u001b[39m\u001b[38;5;124m\"\u001b[39m\u001b[38;5;124mError at leaf with path \u001b[39m\u001b[38;5;132;01m{\u001b[39;00mpath\u001b[38;5;132;01m}\u001b[39;00m\u001b[38;5;124m\"\u001b[39m)\n",
      "\u001b[0;31mTreePathError\u001b[0m: Error at leaf with path (GetAttrKey(name='nlstart_i'),)"
     ]
    }
   ],
   "source": [
    "#update docs, only input =2 ??? for MGGA? holdover from sebastian for some reason\n",
    "xnet = eX(n_input = 2, n_hidden=16, depth=3, use = [1, 2], ueg_limit=True, lob=1.174, seed=17209)\n",
    "# I guess use default LOB\n",
    "cnet = eC(n_input = 4, n_hidden=16, depth=3, use = [2, 3], ueg_limit=True, seed=170920)\n",
    "blankxc = xce.xc.eXC(grid_models = [xnet, cnet], level=3)\n",
    "p = '/home/awills/Documents/Research/xcquinox/models/pretrained/scan'\n",
    "xc = eqx.tree_deserialise_leaves(os.path.join(p, 'xc.eqx'), blankxc)\n",
    "# xc = blankxc\n",
    "nlxnet = eX(n_input = 15, depth=8, n_hidden=32, use = [], ueg_limit=True, lob=1.174)\n",
    "nlcnet = eC(n_input = 13, depth=8, n_hidden=32, use = [], ueg_limit=True)\n",
    "\n",
    "nlxc = xce.xc.eXC(grid_models = [nlxnet, nlcnet], level=4)"
   ]
  },
  {
   "cell_type": "code",
   "execution_count": 8,
   "id": "b6bc7377-2c45-4e3a-970e-d317d4bab666",
   "metadata": {},
   "outputs": [
    {
     "name": "stdout",
     "output_type": "stream",
     "text": [
      "mesh for ewald [11 11 11]\n",
      "Ewald components = 0.001985449436657, -16.1635769066223, 2.39777600876165\n"
     ]
    },
    {
     "data": {
      "text/plain": [
       "-13.763815448424035"
      ]
     },
     "execution_count": 8,
     "metadata": {},
     "output_type": "execute_result"
    }
   ],
   "source": [
    "mf.energy_nuc()"
   ]
  },
  {
   "cell_type": "code",
   "execution_count": 13,
   "id": "fd1ce176-c6c2-4214-86f3-8111bc3cca73",
   "metadata": {
    "scrolled": true
   },
   "outputs": [
    {
     "name": "stdout",
     "output_type": "stream",
     "text": [
      "Epoch 0\n",
      "Epoch 0 :: Batch 0/1\n",
      "spin_scaling = True; input descr to exc shape: (8574, 15)\n",
      "eX.__call__, rho shape: (8574, 15)\n",
      "spin_scaling = False; input descr to exc shape: (8574, 13)\n",
      "eC.__call__, rho shape: (8574, 13)\n",
      "[8] (8,)\n",
      "(8, 8) (8, 8)\n",
      "Spin unpolarized make_rdm1()\n",
      "spin_scaling = True; input descr to exc shape: (8574, 15)\n",
      "eX.__call__, rho shape: (8574, 15)\n",
      "spin_scaling = False; input descr to exc shape: (8574, 13)\n",
      "eC.__call__, rho shape: (8574, 13)\n",
      "etot+exc+enuc 10.232670550062918 -2.212946734085206 -13.763815448424035 -5.744091632446322\n",
      "spin_scaling = True; input descr to exc shape: (8574, 15)\n",
      "eX.__call__, rho shape: (8574, 15)\n",
      "spin_scaling = False; input descr to exc shape: (8574, 13)\n",
      "eC.__call__, rho shape: (8574, 13)\n",
      "[8] (8,)\n",
      "(8, 8) (8, 8)\n",
      "Spin unpolarized make_rdm1()\n",
      "spin_scaling = True; input descr to exc shape: (8574, 15)\n",
      "eX.__call__, rho shape: (8574, 15)\n",
      "spin_scaling = False; input descr to exc shape: (8574, 13)\n",
      "eC.__call__, rho shape: (8574, 13)\n",
      "etot+exc+enuc Traced<ConcreteArray(10.232670550062918, dtype=float64)>with<JVPTrace(level=2/0)> with\n",
      "  primal = Array(10.23267055, dtype=float64)\n",
      "  tangent = Traced<ShapedArray(float64[])>with<JaxprTrace(level=1/0)> with\n",
      "    pval = (ShapedArray(float64[]), None)\n",
      "    recipe = JaxprEqnRecipe(eqn_id=<object object at 0x7e66c47188a0>, in_tracers=(Traced<ShapedArray(float64[1]):JaxprTrace(level=1/0)>,), out_tracer_refs=[<weakref at 0x7e66c46083b0; to 'JaxprTracer' at 0x7e66c4608360>], out_avals=[ShapedArray(float64[])], primitive=squeeze, params={'dimensions': (0,)}, effects=frozenset(), source_info=SourceInfo(traceback=<jaxlib.xla_extension.Traceback object at 0x7e66cc383c30>, name_stack=NameStack(stack=(Transform(name='jvp'),)))) Traced<ConcreteArray(-2.212946734085206, dtype=float64)>with<JVPTrace(level=2/0)> with\n",
      "  primal = Array(-2.21294673, dtype=float64)\n",
      "  tangent = Traced<ShapedArray(float64[])>with<JaxprTrace(level=1/0)> with\n",
      "    pval = (ShapedArray(float64[]), None)\n",
      "    recipe = JaxprEqnRecipe(eqn_id=<object object at 0x7e66c443f570>, in_tracers=(Traced<ShapedArray(float64[]):JaxprTrace(level=1/0)>, Traced<ConcreteArray(0.010000291587695, dtype=float64):JaxprTrace(level=1/0)>), out_tracer_refs=[<weakref at 0x7e66c43fd8f0; to 'JaxprTracer' at 0x7e66c43fd940>], out_avals=[ShapedArray(float64[])], primitive=pjit, params={'jaxpr': { lambda ; a:f64[] b:f64[]. let c:f64[] = div a b in (c,) }, 'in_shardings': (UnspecifiedValue, UnspecifiedValue), 'out_shardings': (UnspecifiedValue,), 'resource_env': None, 'donated_invars': (False, False), 'name': 'true_divide', 'keep_unused': False, 'inline': True}, effects=set(), source_info=SourceInfo(traceback=<jaxlib.xla_extension.Traceback object at 0x7e66c44017b0>, name_stack=NameStack(stack=(Transform(name='jvp'),)))) -13.763815448424035 Traced<ConcreteArray(-5.744091632446322, dtype=float64)>with<JVPTrace(level=2/0)> with\n",
      "  primal = Array(-5.74409163, dtype=float64)\n",
      "  tangent = Traced<ShapedArray(float64[])>with<JaxprTrace(level=1/0)> with\n",
      "    pval = (ShapedArray(float64[]), None)\n",
      "    recipe = JaxprEqnRecipe(eqn_id=<object object at 0x7e66c443f750>, in_tracers=(Traced<ShapedArray(float64[]):JaxprTrace(level=1/0)>,), out_tracer_refs=[<weakref at 0x7e66c44c6750; to 'JaxprTracer' at 0x7e66c44c6700>], out_avals=[ShapedArray(float64[])], primitive=pjit, params={'jaxpr': { lambda ; a:f64[]. let  in (a,) }, 'in_shardings': (UnspecifiedValue,), 'out_shardings': (UnspecifiedValue,), 'resource_env': None, 'donated_invars': (False,), 'name': 'fn', 'keep_unused': False, 'inline': True}, effects=set(), source_info=SourceInfo(traceback=<jaxlib.xla_extension.Traceback object at 0x7e66c44cad30>, name_stack=NameStack(stack=(Transform(name='jvp'),))))\n",
      "Batch Loss = 179.59894820382027\n"
     ]
    },
    {
     "name": "stderr",
     "output_type": "stream",
     "text": [
      "WARNING:jax._src.xla_bridge:CUDA backend failed to initialize: Found CUDA version 12010, but JAX was built against version 12030, which is newer. The copy of CUDA that is installed must be at least as new as the version against which JAX was built. (Set TF_CPP_MIN_LOG_LEVEL=0 and rerun for more info.)\n"
     ]
    },
    {
     "name": "stdout",
     "output_type": "stream",
     "text": [
      "step=0, epoch_train_loss=179.59894820382027\n",
      "Epoch 1\n",
      "Epoch 1 :: Batch 0/1\n",
      "spin_scaling = True; input descr to exc shape: (8574, 15)\n",
      "eX.__call__, rho shape: (8574, 15)\n",
      "spin_scaling = False; input descr to exc shape: (8574, 13)\n",
      "eC.__call__, rho shape: (8574, 13)\n",
      "[8] (8,)\n",
      "(8, 8) (8, 8)\n",
      "Spin unpolarized make_rdm1()\n",
      "spin_scaling = True; input descr to exc shape: (8574, 15)\n",
      "eX.__call__, rho shape: (8574, 15)\n",
      "spin_scaling = False; input descr to exc shape: (8574, 13)\n",
      "eC.__call__, rho shape: (8574, 13)\n",
      "etot+exc+enuc 10.230809441522071 -2.770710693745047 -13.763815448424035 -6.30371670064701\n",
      "spin_scaling = True; input descr to exc shape: (8574, 15)\n",
      "eX.__call__, rho shape: (8574, 15)\n",
      "spin_scaling = False; input descr to exc shape: (8574, 13)\n",
      "eC.__call__, rho shape: (8574, 13)\n",
      "[8] (8,)\n",
      "(8, 8) (8, 8)\n",
      "Spin unpolarized make_rdm1()\n",
      "spin_scaling = True; input descr to exc shape: (8574, 15)\n",
      "eX.__call__, rho shape: (8574, 15)\n",
      "spin_scaling = False; input descr to exc shape: (8574, 13)\n",
      "eC.__call__, rho shape: (8574, 13)\n",
      "etot+exc+enuc Traced<ConcreteArray(10.230809441522071, dtype=float64)>with<JVPTrace(level=2/0)> with\n",
      "  primal = Array(10.23080944, dtype=float64)\n",
      "  tangent = Traced<ShapedArray(float64[])>with<JaxprTrace(level=1/0)> with\n",
      "    pval = (ShapedArray(float64[]), None)\n",
      "    recipe = JaxprEqnRecipe(eqn_id=<object object at 0x7e66cc1e37b0>, in_tracers=(Traced<ShapedArray(float64[1]):JaxprTrace(level=1/0)>,), out_tracer_refs=[<weakref at 0x7e66c41a5c60; to 'JaxprTracer' at 0x7e66c41a5bc0>], out_avals=[ShapedArray(float64[])], primitive=squeeze, params={'dimensions': (0,)}, effects=frozenset(), source_info=SourceInfo(traceback=<jaxlib.xla_extension.Traceback object at 0x7e66d4543c70>, name_stack=NameStack(stack=(Transform(name='jvp'),)))) Traced<ConcreteArray(-2.770710693745047, dtype=float64)>with<JVPTrace(level=2/0)> with\n",
      "  primal = Array(-2.77071069, dtype=float64)\n",
      "  tangent = Traced<ShapedArray(float64[])>with<JaxprTrace(level=1/0)> with\n",
      "    pval = (ShapedArray(float64[]), None)\n",
      "    recipe = JaxprEqnRecipe(eqn_id=<object object at 0x7e669c7c9240>, in_tracers=(Traced<ShapedArray(float64[]):JaxprTrace(level=1/0)>, Traced<ConcreteArray(0.010000291587695, dtype=float64):JaxprTrace(level=1/0)>), out_tracer_refs=[<weakref at 0x7e66c41c4630; to 'JaxprTracer' at 0x7e66c41c6840>], out_avals=[ShapedArray(float64[])], primitive=pjit, params={'jaxpr': { lambda ; a:f64[] b:f64[]. let c:f64[] = div a b in (c,) }, 'in_shardings': (UnspecifiedValue, UnspecifiedValue), 'out_shardings': (UnspecifiedValue,), 'resource_env': None, 'donated_invars': (False, False), 'name': 'true_divide', 'keep_unused': False, 'inline': True}, effects=set(), source_info=SourceInfo(traceback=<jaxlib.xla_extension.Traceback object at 0x7e66f43d7ab0>, name_stack=NameStack(stack=(Transform(name='jvp'),)))) -13.763815448424035 Traced<ConcreteArray(-6.30371670064701, dtype=float64)>with<JVPTrace(level=2/0)> with\n",
      "  primal = Array(-6.3037167, dtype=float64)\n",
      "  tangent = Traced<ShapedArray(float64[])>with<JaxprTrace(level=1/0)> with\n",
      "    pval = (ShapedArray(float64[]), None)\n",
      "    recipe = JaxprEqnRecipe(eqn_id=<object object at 0x7e669c7c9420>, in_tracers=(Traced<ShapedArray(float64[]):JaxprTrace(level=1/0)>,), out_tracer_refs=[<weakref at 0x7e669c7e0720; to 'JaxprTracer' at 0x7e669c7e05e0>], out_avals=[ShapedArray(float64[])], primitive=pjit, params={'jaxpr': { lambda ; a:f64[]. let  in (a,) }, 'in_shardings': (UnspecifiedValue,), 'out_shardings': (UnspecifiedValue,), 'resource_env': None, 'donated_invars': (False,), 'name': 'fn', 'keep_unused': False, 'inline': True}, effects=set(), source_info=SourceInfo(traceback=<jaxlib.xla_extension.Traceback object at 0x7e66c4607830>, name_stack=NameStack(stack=(Transform(name='jvp'),))))\n",
      "Batch Loss = 164.91255008483716\n",
      "step=1, epoch_train_loss=164.91255008483716\n"
     ]
    },
    {
     "name": "stderr",
     "output_type": "stream",
     "text": [
      "WARNING:jax._src.xla_bridge:CUDA backend failed to initialize: Found CUDA version 12010, but JAX was built against version 12030, which is newer. The copy of CUDA that is installed must be at least as new as the version against which JAX was built. (Set TF_CPP_MIN_LOG_LEVEL=0 and rerun for more info.)\n"
     ]
    },
    {
     "name": "stdout",
     "output_type": "stream",
     "text": [
      "Epoch 2\n",
      "Epoch 2 :: Batch 0/1\n",
      "spin_scaling = True; input descr to exc shape: (8574, 15)\n",
      "eX.__call__, rho shape: (8574, 15)\n",
      "spin_scaling = False; input descr to exc shape: (8574, 13)\n",
      "eC.__call__, rho shape: (8574, 13)\n",
      "[8] (8,)\n",
      "(8, 8) (8, 8)\n",
      "Spin unpolarized make_rdm1()\n",
      "spin_scaling = True; input descr to exc shape: (8574, 15)\n",
      "eX.__call__, rho shape: (8574, 15)\n",
      "spin_scaling = False; input descr to exc shape: (8574, 13)\n",
      "eC.__call__, rho shape: (8574, 13)\n",
      "etot+exc+enuc 10.230809441522071 -2.770710693745047 -13.763815448424035 -6.30371670064701\n",
      "spin_scaling = True; input descr to exc shape: (8574, 15)\n",
      "eX.__call__, rho shape: (8574, 15)\n",
      "spin_scaling = False; input descr to exc shape: (8574, 13)\n",
      "eC.__call__, rho shape: (8574, 13)\n",
      "[8] (8,)\n",
      "(8, 8) (8, 8)\n",
      "Spin unpolarized make_rdm1()\n",
      "spin_scaling = True; input descr to exc shape: (8574, 15)\n",
      "eX.__call__, rho shape: (8574, 15)\n",
      "spin_scaling = False; input descr to exc shape: (8574, 13)\n",
      "eC.__call__, rho shape: (8574, 13)\n",
      "etot+exc+enuc Traced<ConcreteArray(10.230809441522071, dtype=float64)>with<JVPTrace(level=2/0)> with\n",
      "  primal = Array(10.23080944, dtype=float64)\n",
      "  tangent = Traced<ShapedArray(float64[])>with<JaxprTrace(level=1/0)> with\n",
      "    pval = (ShapedArray(float64[]), None)\n",
      "    recipe = JaxprEqnRecipe(eqn_id=<object object at 0x7e66c437c600>, in_tracers=(Traced<ShapedArray(float64[1]):JaxprTrace(level=1/0)>,), out_tracer_refs=[<weakref at 0x7e669c654f40; to 'JaxprTracer' at 0x7e669c654ef0>], out_avals=[ShapedArray(float64[])], primitive=squeeze, params={'dimensions': (0,)}, effects=frozenset(), source_info=SourceInfo(traceback=<jaxlib.xla_extension.Traceback object at 0x7e672c249730>, name_stack=NameStack(stack=(Transform(name='jvp'),)))) Traced<ConcreteArray(-2.770710693745047, dtype=float64)>with<JVPTrace(level=2/0)> with\n",
      "  primal = Array(-2.77071069, dtype=float64)\n",
      "  tangent = Traced<ShapedArray(float64[])>with<JaxprTrace(level=1/0)> with\n",
      "    pval = (ShapedArray(float64[]), None)\n",
      "    recipe = JaxprEqnRecipe(eqn_id=<object object at 0x7e669c66fe80>, in_tracers=(Traced<ShapedArray(float64[]):JaxprTrace(level=1/0)>, Traced<ConcreteArray(0.010000291587695, dtype=float64):JaxprTrace(level=1/0)>), out_tracer_refs=[<weakref at 0x7e669c6c5cb0; to 'JaxprTracer' at 0x7e669c6c5e40>], out_avals=[ShapedArray(float64[])], primitive=pjit, params={'jaxpr': { lambda ; a:f64[] b:f64[]. let c:f64[] = div a b in (c,) }, 'in_shardings': (UnspecifiedValue, UnspecifiedValue), 'out_shardings': (UnspecifiedValue,), 'resource_env': None, 'donated_invars': (False, False), 'name': 'true_divide', 'keep_unused': False, 'inline': True}, effects=set(), source_info=SourceInfo(traceback=<jaxlib.xla_extension.Traceback object at 0x7e669c55bfb0>, name_stack=NameStack(stack=(Transform(name='jvp'),)))) -13.763815448424035 Traced<ConcreteArray(-6.30371670064701, dtype=float64)>with<JVPTrace(level=2/0)> with\n",
      "  primal = Array(-6.3037167, dtype=float64)\n",
      "  tangent = Traced<ShapedArray(float64[])>with<JaxprTrace(level=1/0)> with\n",
      "    pval = (ShapedArray(float64[]), None)\n",
      "    recipe = JaxprEqnRecipe(eqn_id=<object object at 0x7e669c5c4030>, in_tracers=(Traced<ShapedArray(float64[]):JaxprTrace(level=1/0)>,), out_tracer_refs=[<weakref at 0x7e669c5273d0; to 'JaxprTracer' at 0x7e669c527380>], out_avals=[ShapedArray(float64[])], primitive=pjit, params={'jaxpr': { lambda ; a:f64[]. let  in (a,) }, 'in_shardings': (UnspecifiedValue,), 'out_shardings': (UnspecifiedValue,), 'resource_env': None, 'donated_invars': (False,), 'name': 'fn', 'keep_unused': False, 'inline': True}, effects=set(), source_info=SourceInfo(traceback=<jaxlib.xla_extension.Traceback object at 0x7e66c4144a30>, name_stack=NameStack(stack=(Transform(name='jvp'),))))\n",
      "Batch Loss = 164.91255008483716\n",
      "step=2, epoch_train_loss=164.91255008483716\n"
     ]
    },
    {
     "name": "stderr",
     "output_type": "stream",
     "text": [
      "WARNING:jax._src.xla_bridge:CUDA backend failed to initialize: Found CUDA version 12010, but JAX was built against version 12030, which is newer. The copy of CUDA that is installed must be at least as new as the version against which JAX was built. (Set TF_CPP_MIN_LOG_LEVEL=0 and rerun for more info.)\n"
     ]
    },
    {
     "name": "stdout",
     "output_type": "stream",
     "text": [
      "Epoch 3\n",
      "Epoch 3 :: Batch 0/1\n",
      "spin_scaling = True; input descr to exc shape: (8574, 15)\n",
      "eX.__call__, rho shape: (8574, 15)\n",
      "spin_scaling = False; input descr to exc shape: (8574, 13)\n",
      "eC.__call__, rho shape: (8574, 13)\n",
      "[8] (8,)\n",
      "(8, 8) (8, 8)\n",
      "Spin unpolarized make_rdm1()\n",
      "spin_scaling = True; input descr to exc shape: (8574, 15)\n",
      "eX.__call__, rho shape: (8574, 15)\n",
      "spin_scaling = False; input descr to exc shape: (8574, 13)\n",
      "eC.__call__, rho shape: (8574, 13)\n",
      "etot+exc+enuc 10.230809441522071 -2.770710693745047 -13.763815448424035 -6.30371670064701\n",
      "spin_scaling = True; input descr to exc shape: (8574, 15)\n",
      "eX.__call__, rho shape: (8574, 15)\n",
      "spin_scaling = False; input descr to exc shape: (8574, 13)\n",
      "eC.__call__, rho shape: (8574, 13)\n",
      "[8] (8,)\n",
      "(8, 8) (8, 8)\n",
      "Spin unpolarized make_rdm1()\n",
      "spin_scaling = True; input descr to exc shape: (8574, 15)\n",
      "eX.__call__, rho shape: (8574, 15)\n",
      "spin_scaling = False; input descr to exc shape: (8574, 13)\n",
      "eC.__call__, rho shape: (8574, 13)\n",
      "etot+exc+enuc Traced<ConcreteArray(10.230809441522071, dtype=float64)>with<JVPTrace(level=2/0)> with\n",
      "  primal = Array(10.23080944, dtype=float64)\n",
      "  tangent = Traced<ShapedArray(float64[])>with<JaxprTrace(level=1/0)> with\n",
      "    pval = (ShapedArray(float64[]), None)\n",
      "    recipe = JaxprEqnRecipe(eqn_id=<object object at 0x7e669c5b3ad0>, in_tracers=(Traced<ShapedArray(float64[1]):JaxprTrace(level=1/0)>,), out_tracer_refs=[<weakref at 0x7e66c431af70; to 'JaxprTracer' at 0x7e66c4319490>], out_avals=[ShapedArray(float64[])], primitive=squeeze, params={'dimensions': (0,)}, effects=frozenset(), source_info=SourceInfo(traceback=<jaxlib.xla_extension.Traceback object at 0x7e669c6133b0>, name_stack=NameStack(stack=(Transform(name='jvp'),)))) Traced<ConcreteArray(-2.770710693745047, dtype=float64)>with<JVPTrace(level=2/0)> with\n",
      "  primal = Array(-2.77071069, dtype=float64)\n",
      "  tangent = Traced<ShapedArray(float64[])>with<JaxprTrace(level=1/0)> with\n",
      "    pval = (ShapedArray(float64[]), None)\n",
      "    recipe = JaxprEqnRecipe(eqn_id=<object object at 0x7e669c3beae0>, in_tracers=(Traced<ShapedArray(float64[]):JaxprTrace(level=1/0)>, Traced<ConcreteArray(0.010000291587695, dtype=float64):JaxprTrace(level=1/0)>), out_tracer_refs=[<weakref at 0x7e669c62d710; to 'JaxprTracer' at 0x7e669c650310>], out_avals=[ShapedArray(float64[])], primitive=pjit, params={'jaxpr': { lambda ; a:f64[] b:f64[]. let c:f64[] = div a b in (c,) }, 'in_shardings': (UnspecifiedValue, UnspecifiedValue), 'out_shardings': (UnspecifiedValue,), 'resource_env': None, 'donated_invars': (False, False), 'name': 'true_divide', 'keep_unused': False, 'inline': True}, effects=set(), source_info=SourceInfo(traceback=<jaxlib.xla_extension.Traceback object at 0x7e669c329df0>, name_stack=NameStack(stack=(Transform(name='jvp'),)))) -13.763815448424035 Traced<ConcreteArray(-6.30371670064701, dtype=float64)>with<JVPTrace(level=2/0)> with\n",
      "  primal = Array(-6.3037167, dtype=float64)\n",
      "  tangent = Traced<ShapedArray(float64[])>with<JaxprTrace(level=1/0)> with\n",
      "    pval = (ShapedArray(float64[]), None)\n",
      "    recipe = JaxprEqnRecipe(eqn_id=<object object at 0x7e669c3becc0>, in_tracers=(Traced<ShapedArray(float64[]):JaxprTrace(level=1/0)>,), out_tracer_refs=[<weakref at 0x7e669c39a250; to 'JaxprTracer' at 0x7e669c39a200>], out_avals=[ShapedArray(float64[])], primitive=pjit, params={'jaxpr': { lambda ; a:f64[]. let  in (a,) }, 'in_shardings': (UnspecifiedValue,), 'out_shardings': (UnspecifiedValue,), 'resource_env': None, 'donated_invars': (False,), 'name': 'fn', 'keep_unused': False, 'inline': True}, effects=set(), source_info=SourceInfo(traceback=<jaxlib.xla_extension.Traceback object at 0x7e66c419a8f0>, name_stack=NameStack(stack=(Transform(name='jvp'),))))\n",
      "Batch Loss = 164.91255008483716\n",
      "step=3, epoch_train_loss=164.91255008483716\n"
     ]
    },
    {
     "name": "stderr",
     "output_type": "stream",
     "text": [
      "WARNING:jax._src.xla_bridge:CUDA backend failed to initialize: Found CUDA version 12010, but JAX was built against version 12030, which is newer. The copy of CUDA that is installed must be at least as new as the version against which JAX was built. (Set TF_CPP_MIN_LOG_LEVEL=0 and rerun for more info.)\n"
     ]
    },
    {
     "name": "stdout",
     "output_type": "stream",
     "text": [
      "Epoch 4\n",
      "Epoch 4 :: Batch 0/1\n",
      "spin_scaling = True; input descr to exc shape: (8574, 15)\n",
      "eX.__call__, rho shape: (8574, 15)\n",
      "spin_scaling = False; input descr to exc shape: (8574, 13)\n",
      "eC.__call__, rho shape: (8574, 13)\n",
      "[8] (8,)\n",
      "(8, 8) (8, 8)\n",
      "Spin unpolarized make_rdm1()\n",
      "spin_scaling = True; input descr to exc shape: (8574, 15)\n",
      "eX.__call__, rho shape: (8574, 15)\n",
      "spin_scaling = False; input descr to exc shape: (8574, 13)\n",
      "eC.__call__, rho shape: (8574, 13)\n",
      "etot+exc+enuc 10.230809441522071 -2.770710693745047 -13.763815448424035 -6.30371670064701\n",
      "spin_scaling = True; input descr to exc shape: (8574, 15)\n",
      "eX.__call__, rho shape: (8574, 15)\n",
      "spin_scaling = False; input descr to exc shape: (8574, 13)\n",
      "eC.__call__, rho shape: (8574, 13)\n",
      "[8] (8,)\n",
      "(8, 8) (8, 8)\n",
      "Spin unpolarized make_rdm1()\n",
      "spin_scaling = True; input descr to exc shape: (8574, 15)\n",
      "eX.__call__, rho shape: (8574, 15)\n",
      "spin_scaling = False; input descr to exc shape: (8574, 13)\n",
      "eC.__call__, rho shape: (8574, 13)\n",
      "etot+exc+enuc Traced<ConcreteArray(10.230809441522071, dtype=float64)>with<JVPTrace(level=2/0)> with\n",
      "  primal = Array(10.23080944, dtype=float64)\n",
      "  tangent = Traced<ShapedArray(float64[])>with<JaxprTrace(level=1/0)> with\n",
      "    pval = (ShapedArray(float64[]), None)\n",
      "    recipe = JaxprEqnRecipe(eqn_id=<object object at 0x7e669c444ba0>, in_tracers=(Traced<ShapedArray(float64[1]):JaxprTrace(level=1/0)>,), out_tracer_refs=[<weakref at 0x7e669c437880; to 'JaxprTracer' at 0x7e669c437830>], out_avals=[ShapedArray(float64[])], primitive=squeeze, params={'dimensions': (0,)}, effects=frozenset(), source_info=SourceInfo(traceback=<jaxlib.xla_extension.Traceback object at 0x7e669c77dc70>, name_stack=NameStack(stack=(Transform(name='jvp'),)))) Traced<ConcreteArray(-2.770710693745047, dtype=float64)>with<JVPTrace(level=2/0)> with\n",
      "  primal = Array(-2.77071069, dtype=float64)\n",
      "  tangent = Traced<ShapedArray(float64[])>with<JaxprTrace(level=1/0)> with\n",
      "    pval = (ShapedArray(float64[]), None)\n",
      "    recipe = JaxprEqnRecipe(eqn_id=<object object at 0x7e6658709740>, in_tracers=(Traced<ShapedArray(float64[]):JaxprTrace(level=1/0)>, Traced<ConcreteArray(0.010000291587695, dtype=float64):JaxprTrace(level=1/0)>), out_tracer_refs=[<weakref at 0x7e669c4c7970; to 'JaxprTracer' at 0x7e669c4c4130>], out_avals=[ShapedArray(float64[])], primitive=pjit, params={'jaxpr': { lambda ; a:f64[] b:f64[]. let c:f64[] = div a b in (c,) }, 'in_shardings': (UnspecifiedValue, UnspecifiedValue), 'out_shardings': (UnspecifiedValue,), 'resource_env': None, 'donated_invars': (False, False), 'name': 'true_divide', 'keep_unused': False, 'inline': True}, effects=set(), source_info=SourceInfo(traceback=<jaxlib.xla_extension.Traceback object at 0x7e669c25d4b0>, name_stack=NameStack(stack=(Transform(name='jvp'),)))) -13.763815448424035 Traced<ConcreteArray(-6.30371670064701, dtype=float64)>with<JVPTrace(level=2/0)> with\n",
      "  primal = Array(-6.3037167, dtype=float64)\n",
      "  tangent = Traced<ShapedArray(float64[])>with<JaxprTrace(level=1/0)> with\n",
      "    pval = (ShapedArray(float64[]), None)\n",
      "    recipe = JaxprEqnRecipe(eqn_id=<object object at 0x7e6658709920>, in_tracers=(Traced<ShapedArray(float64[]):JaxprTrace(level=1/0)>,), out_tracer_refs=[<weakref at 0x7e6658795490; to 'JaxprTracer' at 0x7e66587953a0>], out_avals=[ShapedArray(float64[])], primitive=pjit, params={'jaxpr': { lambda ; a:f64[]. let  in (a,) }, 'in_shardings': (UnspecifiedValue,), 'out_shardings': (UnspecifiedValue,), 'resource_env': None, 'donated_invars': (False,), 'name': 'fn', 'keep_unused': False, 'inline': True}, effects=set(), source_info=SourceInfo(traceback=<jaxlib.xla_extension.Traceback object at 0x7e665874a270>, name_stack=NameStack(stack=(Transform(name='jvp'),))))\n",
      "Batch Loss = 164.91255008483716\n",
      "step=4, epoch_train_loss=164.91255008483716\n"
     ]
    },
    {
     "name": "stderr",
     "output_type": "stream",
     "text": [
      "WARNING:jax._src.xla_bridge:CUDA backend failed to initialize: Found CUDA version 12010, but JAX was built against version 12030, which is newer. The copy of CUDA that is installed must be at least as new as the version against which JAX was built. (Set TF_CPP_MIN_LOG_LEVEL=0 and rerun for more info.)\n"
     ]
    },
    {
     "name": "stdout",
     "output_type": "stream",
     "text": [
      "Epoch 5\n",
      "Epoch 5 :: Batch 0/1\n",
      "spin_scaling = True; input descr to exc shape: (8574, 15)\n",
      "eX.__call__, rho shape: (8574, 15)\n",
      "spin_scaling = False; input descr to exc shape: (8574, 13)\n",
      "eC.__call__, rho shape: (8574, 13)\n",
      "[8] (8,)\n",
      "(8, 8) (8, 8)\n",
      "Spin unpolarized make_rdm1()\n",
      "spin_scaling = True; input descr to exc shape: (8574, 15)\n",
      "eX.__call__, rho shape: (8574, 15)\n",
      "spin_scaling = False; input descr to exc shape: (8574, 13)\n",
      "eC.__call__, rho shape: (8574, 13)\n",
      "etot+exc+enuc 10.230809441522071 -2.770710693745047 -13.763815448424035 -6.30371670064701\n",
      "spin_scaling = True; input descr to exc shape: (8574, 15)\n",
      "eX.__call__, rho shape: (8574, 15)\n",
      "spin_scaling = False; input descr to exc shape: (8574, 13)\n",
      "eC.__call__, rho shape: (8574, 13)\n",
      "[8] (8,)\n",
      "(8, 8) (8, 8)\n",
      "Spin unpolarized make_rdm1()\n",
      "spin_scaling = True; input descr to exc shape: (8574, 15)\n",
      "eX.__call__, rho shape: (8574, 15)\n",
      "spin_scaling = False; input descr to exc shape: (8574, 13)\n",
      "eC.__call__, rho shape: (8574, 13)\n",
      "etot+exc+enuc Traced<ConcreteArray(10.230809441522071, dtype=float64)>with<JVPTrace(level=2/0)> with\n",
      "  primal = Array(10.23080944, dtype=float64)\n",
      "  tangent = Traced<ShapedArray(float64[])>with<JaxprTrace(level=1/0)> with\n",
      "    pval = (ShapedArray(float64[]), None)\n",
      "    recipe = JaxprEqnRecipe(eqn_id=<object object at 0x7e669c66c680>, in_tracers=(Traced<ShapedArray(float64[1]):JaxprTrace(level=1/0)>,), out_tracer_refs=[<weakref at 0x7e665847bce0; to 'JaxprTracer' at 0x7e6658479da0>], out_avals=[ShapedArray(float64[])], primitive=squeeze, params={'dimensions': (0,)}, effects=frozenset(), source_info=SourceInfo(traceback=<jaxlib.xla_extension.Traceback object at 0x7e669c552f30>, name_stack=NameStack(stack=(Transform(name='jvp'),)))) Traced<ConcreteArray(-2.770710693745047, dtype=float64)>with<JVPTrace(level=2/0)> with\n",
      "  primal = Array(-2.77071069, dtype=float64)\n",
      "  tangent = Traced<ShapedArray(float64[])>with<JaxprTrace(level=1/0)> with\n",
      "    pval = (ShapedArray(float64[]), None)\n",
      "    recipe = JaxprEqnRecipe(eqn_id=<object object at 0x7e66584fc390>, in_tracers=(Traced<ShapedArray(float64[]):JaxprTrace(level=1/0)>, Traced<ConcreteArray(0.010000291587695, dtype=float64):JaxprTrace(level=1/0)>), out_tracer_refs=[<weakref at 0x7e669c402390; to 'JaxprTracer' at 0x7e669c403470>], out_avals=[ShapedArray(float64[])], primitive=pjit, params={'jaxpr': { lambda ; a:f64[] b:f64[]. let c:f64[] = div a b in (c,) }, 'in_shardings': (UnspecifiedValue, UnspecifiedValue), 'out_shardings': (UnspecifiedValue,), 'resource_env': None, 'donated_invars': (False, False), 'name': 'true_divide', 'keep_unused': False, 'inline': True}, effects=set(), source_info=SourceInfo(traceback=<jaxlib.xla_extension.Traceback object at 0x7e66587ed930>, name_stack=NameStack(stack=(Transform(name='jvp'),)))) -13.763815448424035 Traced<ConcreteArray(-6.30371670064701, dtype=float64)>with<JVPTrace(level=2/0)> with\n",
      "  primal = Array(-6.3037167, dtype=float64)\n",
      "  tangent = Traced<ShapedArray(float64[])>with<JaxprTrace(level=1/0)> with\n",
      "    pval = (ShapedArray(float64[]), None)\n",
      "    recipe = JaxprEqnRecipe(eqn_id=<object object at 0x7e66584fc570>, in_tracers=(Traced<ShapedArray(float64[]):JaxprTrace(level=1/0)>,), out_tracer_refs=[<weakref at 0x7e66584c0630; to 'JaxprTracer' at 0x7e66584c0540>], out_avals=[ShapedArray(float64[])], primitive=pjit, params={'jaxpr': { lambda ; a:f64[]. let  in (a,) }, 'in_shardings': (UnspecifiedValue,), 'out_shardings': (UnspecifiedValue,), 'resource_env': None, 'donated_invars': (False,), 'name': 'fn', 'keep_unused': False, 'inline': True}, effects=set(), source_info=SourceInfo(traceback=<jaxlib.xla_extension.Traceback object at 0x7e665851f030>, name_stack=NameStack(stack=(Transform(name='jvp'),))))\n",
      "Batch Loss = 164.91255008483716\n",
      "step=5, epoch_train_loss=164.91255008483716\n"
     ]
    },
    {
     "name": "stderr",
     "output_type": "stream",
     "text": [
      "WARNING:jax._src.xla_bridge:CUDA backend failed to initialize: Found CUDA version 12010, but JAX was built against version 12030, which is newer. The copy of CUDA that is installed must be at least as new as the version against which JAX was built. (Set TF_CPP_MIN_LOG_LEVEL=0 and rerun for more info.)\n"
     ]
    },
    {
     "name": "stdout",
     "output_type": "stream",
     "text": [
      "Epoch 6\n",
      "Epoch 6 :: Batch 0/1\n",
      "spin_scaling = True; input descr to exc shape: (8574, 15)\n",
      "eX.__call__, rho shape: (8574, 15)\n",
      "spin_scaling = False; input descr to exc shape: (8574, 13)\n",
      "eC.__call__, rho shape: (8574, 13)\n",
      "[8] (8,)\n",
      "(8, 8) (8, 8)\n",
      "Spin unpolarized make_rdm1()\n",
      "spin_scaling = True; input descr to exc shape: (8574, 15)\n",
      "eX.__call__, rho shape: (8574, 15)\n",
      "spin_scaling = False; input descr to exc shape: (8574, 13)\n",
      "eC.__call__, rho shape: (8574, 13)\n",
      "etot+exc+enuc 10.230809441522071 -2.770710693745047 -13.763815448424035 -6.30371670064701\n",
      "spin_scaling = True; input descr to exc shape: (8574, 15)\n",
      "eX.__call__, rho shape: (8574, 15)\n",
      "spin_scaling = False; input descr to exc shape: (8574, 13)\n",
      "eC.__call__, rho shape: (8574, 13)\n",
      "[8] (8,)\n",
      "(8, 8) (8, 8)\n",
      "Spin unpolarized make_rdm1()\n",
      "spin_scaling = True; input descr to exc shape: (8574, 15)\n",
      "eX.__call__, rho shape: (8574, 15)\n",
      "spin_scaling = False; input descr to exc shape: (8574, 13)\n",
      "eC.__call__, rho shape: (8574, 13)\n",
      "etot+exc+enuc Traced<ConcreteArray(10.230809441522071, dtype=float64)>with<JVPTrace(level=2/0)> with\n",
      "  primal = Array(10.23080944, dtype=float64)\n",
      "  tangent = Traced<ShapedArray(float64[])>with<JaxprTrace(level=1/0)> with\n",
      "    pval = (ShapedArray(float64[]), None)\n",
      "    recipe = JaxprEqnRecipe(eqn_id=<object object at 0x7e66584b5e90>, in_tracers=(Traced<ShapedArray(float64[1]):JaxprTrace(level=1/0)>,), out_tracer_refs=[<weakref at 0x7e6658685300; to 'JaxprTracer' at 0x7e66586853f0>], out_avals=[ShapedArray(float64[])], primitive=squeeze, params={'dimensions': (0,)}, effects=frozenset(), source_info=SourceInfo(traceback=<jaxlib.xla_extension.Traceback object at 0x7e669c4a46f0>, name_stack=NameStack(stack=(Transform(name='jvp'),)))) Traced<ConcreteArray(-2.770710693745047, dtype=float64)>with<JVPTrace(level=2/0)> with\n",
      "  primal = Array(-2.77071069, dtype=float64)\n",
      "  tangent = Traced<ShapedArray(float64[])>with<JaxprTrace(level=1/0)> with\n",
      "    pval = (ShapedArray(float64[]), None)\n",
      "    recipe = JaxprEqnRecipe(eqn_id=<object object at 0x7e665828ef90>, in_tracers=(Traced<ShapedArray(float64[]):JaxprTrace(level=1/0)>, Traced<ConcreteArray(0.010000291587695, dtype=float64):JaxprTrace(level=1/0)>), out_tracer_refs=[<weakref at 0x7e66586568e0; to 'JaxprTracer' at 0x7e6658656a70>], out_avals=[ShapedArray(float64[])], primitive=pjit, params={'jaxpr': { lambda ; a:f64[] b:f64[]. let c:f64[] = div a b in (c,) }, 'in_shardings': (UnspecifiedValue, UnspecifiedValue), 'out_shardings': (UnspecifiedValue,), 'resource_env': None, 'donated_invars': (False, False), 'name': 'true_divide', 'keep_unused': False, 'inline': True}, effects=set(), source_info=SourceInfo(traceback=<jaxlib.xla_extension.Traceback object at 0x7e665830aab0>, name_stack=NameStack(stack=(Transform(name='jvp'),)))) -13.763815448424035 Traced<ConcreteArray(-6.30371670064701, dtype=float64)>with<JVPTrace(level=2/0)> with\n",
      "  primal = Array(-6.3037167, dtype=float64)\n",
      "  tangent = Traced<ShapedArray(float64[])>with<JaxprTrace(level=1/0)> with\n",
      "    pval = (ShapedArray(float64[]), None)\n",
      "    recipe = JaxprEqnRecipe(eqn_id=<object object at 0x7e665828f170>, in_tracers=(Traced<ShapedArray(float64[]):JaxprTrace(level=1/0)>,), out_tracer_refs=[<weakref at 0x7e66583db420; to 'JaxprTracer' at 0x7e66583db330>], out_avals=[ShapedArray(float64[])], primitive=pjit, params={'jaxpr': { lambda ; a:f64[]. let  in (a,) }, 'in_shardings': (UnspecifiedValue,), 'out_shardings': (UnspecifiedValue,), 'resource_env': None, 'donated_invars': (False,), 'name': 'fn', 'keep_unused': False, 'inline': True}, effects=set(), source_info=SourceInfo(traceback=<jaxlib.xla_extension.Traceback object at 0x7e669c6e5b30>, name_stack=NameStack(stack=(Transform(name='jvp'),))))\n",
      "Batch Loss = 164.91255008483716\n",
      "step=6, epoch_train_loss=164.91255008483716\n"
     ]
    },
    {
     "name": "stderr",
     "output_type": "stream",
     "text": [
      "WARNING:jax._src.xla_bridge:CUDA backend failed to initialize: Found CUDA version 12010, but JAX was built against version 12030, which is newer. The copy of CUDA that is installed must be at least as new as the version against which JAX was built. (Set TF_CPP_MIN_LOG_LEVEL=0 and rerun for more info.)\n"
     ]
    },
    {
     "name": "stdout",
     "output_type": "stream",
     "text": [
      "Epoch 7\n",
      "Epoch 7 :: Batch 0/1\n",
      "spin_scaling = True; input descr to exc shape: (8574, 15)\n",
      "eX.__call__, rho shape: (8574, 15)\n",
      "spin_scaling = False; input descr to exc shape: (8574, 13)\n",
      "eC.__call__, rho shape: (8574, 13)\n",
      "[8] (8,)\n",
      "(8, 8) (8, 8)\n",
      "Spin unpolarized make_rdm1()\n",
      "spin_scaling = True; input descr to exc shape: (8574, 15)\n",
      "eX.__call__, rho shape: (8574, 15)\n",
      "spin_scaling = False; input descr to exc shape: (8574, 13)\n",
      "eC.__call__, rho shape: (8574, 13)\n",
      "etot+exc+enuc 10.230809441522071 -2.770710693745047 -13.763815448424035 -6.30371670064701\n",
      "spin_scaling = True; input descr to exc shape: (8574, 15)\n",
      "eX.__call__, rho shape: (8574, 15)\n",
      "spin_scaling = False; input descr to exc shape: (8574, 13)\n",
      "eC.__call__, rho shape: (8574, 13)\n",
      "[8] (8,)\n",
      "(8, 8) (8, 8)\n",
      "Spin unpolarized make_rdm1()\n",
      "spin_scaling = True; input descr to exc shape: (8574, 15)\n",
      "eX.__call__, rho shape: (8574, 15)\n",
      "spin_scaling = False; input descr to exc shape: (8574, 13)\n",
      "eC.__call__, rho shape: (8574, 13)\n",
      "etot+exc+enuc Traced<ConcreteArray(10.230809441522071, dtype=float64)>with<JVPTrace(level=2/0)> with\n",
      "  primal = Array(10.23080944, dtype=float64)\n",
      "  tangent = Traced<ShapedArray(float64[])>with<JaxprTrace(level=1/0)> with\n",
      "    pval = (ShapedArray(float64[]), None)\n",
      "    recipe = JaxprEqnRecipe(eqn_id=<object object at 0x7e665818c6b0>, in_tracers=(Traced<ShapedArray(float64[1]):JaxprTrace(level=1/0)>,), out_tracer_refs=[<weakref at 0x7e66583c7e20; to 'JaxprTracer' at 0x7e66583c7ce0>], out_avals=[ShapedArray(float64[])], primitive=squeeze, params={'dimensions': (0,)}, effects=frozenset(), source_info=SourceInfo(traceback=<jaxlib.xla_extension.Traceback object at 0x7e6658395430>, name_stack=NameStack(stack=(Transform(name='jvp'),)))) Traced<ConcreteArray(-2.770710693745047, dtype=float64)>with<JVPTrace(level=2/0)> with\n",
      "  primal = Array(-2.77071069, dtype=float64)\n",
      "  tangent = Traced<ShapedArray(float64[])>with<JaxprTrace(level=1/0)> with\n",
      "    pval = (ShapedArray(float64[]), None)\n",
      "    recipe = JaxprEqnRecipe(eqn_id=<object object at 0x7e6658155bc0>, in_tracers=(Traced<ShapedArray(float64[]):JaxprTrace(level=1/0)>, Traced<ConcreteArray(0.010000291587695, dtype=float64):JaxprTrace(level=1/0)>), out_tracer_refs=[<weakref at 0x7e66582d3a10; to 'JaxprTracer' at 0x7e66582d1a80>], out_avals=[ShapedArray(float64[])], primitive=pjit, params={'jaxpr': { lambda ; a:f64[] b:f64[]. let c:f64[] = div a b in (c,) }, 'in_shardings': (UnspecifiedValue, UnspecifiedValue), 'out_shardings': (UnspecifiedValue,), 'resource_env': None, 'donated_invars': (False, False), 'name': 'true_divide', 'keep_unused': False, 'inline': True}, effects=set(), source_info=SourceInfo(traceback=<jaxlib.xla_extension.Traceback object at 0x7e66583821f0>, name_stack=NameStack(stack=(Transform(name='jvp'),)))) -13.763815448424035 Traced<ConcreteArray(-6.30371670064701, dtype=float64)>with<JVPTrace(level=2/0)> with\n",
      "  primal = Array(-6.3037167, dtype=float64)\n",
      "  tangent = Traced<ShapedArray(float64[])>with<JaxprTrace(level=1/0)> with\n",
      "    pval = (ShapedArray(float64[]), None)\n",
      "    recipe = JaxprEqnRecipe(eqn_id=<object object at 0x7e6658155da0>, in_tracers=(Traced<ShapedArray(float64[]):JaxprTrace(level=1/0)>,), out_tracer_refs=[<weakref at 0x7e66581353f0; to 'JaxprTracer' at 0x7e66581353a0>], out_avals=[ShapedArray(float64[])], primitive=pjit, params={'jaxpr': { lambda ; a:f64[]. let  in (a,) }, 'in_shardings': (UnspecifiedValue,), 'out_shardings': (UnspecifiedValue,), 'resource_env': None, 'donated_invars': (False,), 'name': 'fn', 'keep_unused': False, 'inline': True}, effects=set(), source_info=SourceInfo(traceback=<jaxlib.xla_extension.Traceback object at 0x7e665854c970>, name_stack=NameStack(stack=(Transform(name='jvp'),))))\n",
      "Batch Loss = 164.91255008483716\n",
      "step=7, epoch_train_loss=164.91255008483716\n"
     ]
    },
    {
     "name": "stderr",
     "output_type": "stream",
     "text": [
      "WARNING:jax._src.xla_bridge:CUDA backend failed to initialize: Found CUDA version 12010, but JAX was built against version 12030, which is newer. The copy of CUDA that is installed must be at least as new as the version against which JAX was built. (Set TF_CPP_MIN_LOG_LEVEL=0 and rerun for more info.)\n"
     ]
    },
    {
     "name": "stdout",
     "output_type": "stream",
     "text": [
      "Epoch 8\n",
      "Epoch 8 :: Batch 0/1\n",
      "spin_scaling = True; input descr to exc shape: (8574, 15)\n",
      "eX.__call__, rho shape: (8574, 15)\n",
      "spin_scaling = False; input descr to exc shape: (8574, 13)\n",
      "eC.__call__, rho shape: (8574, 13)\n",
      "[8] (8,)\n",
      "(8, 8) (8, 8)\n",
      "Spin unpolarized make_rdm1()\n",
      "spin_scaling = True; input descr to exc shape: (8574, 15)\n",
      "eX.__call__, rho shape: (8574, 15)\n",
      "spin_scaling = False; input descr to exc shape: (8574, 13)\n",
      "eC.__call__, rho shape: (8574, 13)\n",
      "etot+exc+enuc 10.230809441522071 -2.770710693745047 -13.763815448424035 -6.30371670064701\n",
      "spin_scaling = True; input descr to exc shape: (8574, 15)\n",
      "eX.__call__, rho shape: (8574, 15)\n",
      "spin_scaling = False; input descr to exc shape: (8574, 13)\n",
      "eC.__call__, rho shape: (8574, 13)\n",
      "[8] (8,)\n",
      "(8, 8) (8, 8)\n",
      "Spin unpolarized make_rdm1()\n",
      "spin_scaling = True; input descr to exc shape: (8574, 15)\n",
      "eX.__call__, rho shape: (8574, 15)\n",
      "spin_scaling = False; input descr to exc shape: (8574, 13)\n",
      "eC.__call__, rho shape: (8574, 13)\n",
      "etot+exc+enuc Traced<ConcreteArray(10.230809441522071, dtype=float64)>with<JVPTrace(level=2/0)> with\n",
      "  primal = Array(10.23080944, dtype=float64)\n",
      "  tangent = Traced<ShapedArray(float64[])>with<JaxprTrace(level=1/0)> with\n",
      "    pval = (ShapedArray(float64[]), None)\n",
      "    recipe = JaxprEqnRecipe(eqn_id=<object object at 0x7e6658568790>, in_tracers=(Traced<ShapedArray(float64[1]):JaxprTrace(level=1/0)>,), out_tracer_refs=[<weakref at 0x7e66506168e0; to 'JaxprTracer' at 0x7e6650616890>], out_avals=[ShapedArray(float64[])], primitive=squeeze, params={'dimensions': (0,)}, effects=frozenset(), source_info=SourceInfo(traceback=<jaxlib.xla_extension.Traceback object at 0x7e665046ccb0>, name_stack=NameStack(stack=(Transform(name='jvp'),)))) Traced<ConcreteArray(-2.770710693745047, dtype=float64)>with<JVPTrace(level=2/0)> with\n",
      "  primal = Array(-2.77071069, dtype=float64)\n",
      "  tangent = Traced<ShapedArray(float64[])>with<JaxprTrace(level=1/0)> with\n",
      "    pval = (ShapedArray(float64[]), None)\n",
      "    recipe = JaxprEqnRecipe(eqn_id=<object object at 0x7e665056c810>, in_tracers=(Traced<ShapedArray(float64[]):JaxprTrace(level=1/0)>, Traced<ConcreteArray(0.010000291587695, dtype=float64):JaxprTrace(level=1/0)>), out_tracer_refs=[<weakref at 0x7e66506f7420; to 'JaxprTracer' at 0x7e66506f75b0>], out_avals=[ShapedArray(float64[])], primitive=pjit, params={'jaxpr': { lambda ; a:f64[] b:f64[]. let c:f64[] = div a b in (c,) }, 'in_shardings': (UnspecifiedValue, UnspecifiedValue), 'out_shardings': (UnspecifiedValue,), 'resource_env': None, 'donated_invars': (False, False), 'name': 'true_divide', 'keep_unused': False, 'inline': True}, effects=set(), source_info=SourceInfo(traceback=<jaxlib.xla_extension.Traceback object at 0x7e665851d170>, name_stack=NameStack(stack=(Transform(name='jvp'),)))) -13.763815448424035 Traced<ConcreteArray(-6.30371670064701, dtype=float64)>with<JVPTrace(level=2/0)> with\n",
      "  primal = Array(-6.3037167, dtype=float64)\n",
      "  tangent = Traced<ShapedArray(float64[])>with<JaxprTrace(level=1/0)> with\n",
      "    pval = (ShapedArray(float64[]), None)\n",
      "    recipe = JaxprEqnRecipe(eqn_id=<object object at 0x7e665056c9f0>, in_tracers=(Traced<ShapedArray(float64[]):JaxprTrace(level=1/0)>,), out_tracer_refs=[<weakref at 0x7e6650518400; to 'JaxprTracer' at 0x7e6650518310>], out_avals=[ShapedArray(float64[])], primitive=pjit, params={'jaxpr': { lambda ; a:f64[]. let  in (a,) }, 'in_shardings': (UnspecifiedValue,), 'out_shardings': (UnspecifiedValue,), 'resource_env': None, 'donated_invars': (False,), 'name': 'fn', 'keep_unused': False, 'inline': True}, effects=set(), source_info=SourceInfo(traceback=<jaxlib.xla_extension.Traceback object at 0x7e66503a28f0>, name_stack=NameStack(stack=(Transform(name='jvp'),))))\n",
      "Batch Loss = 164.91255008483716\n",
      "step=8, epoch_train_loss=164.91255008483716\n"
     ]
    },
    {
     "name": "stderr",
     "output_type": "stream",
     "text": [
      "WARNING:jax._src.xla_bridge:CUDA backend failed to initialize: Found CUDA version 12010, but JAX was built against version 12030, which is newer. The copy of CUDA that is installed must be at least as new as the version against which JAX was built. (Set TF_CPP_MIN_LOG_LEVEL=0 and rerun for more info.)\n"
     ]
    },
    {
     "name": "stdout",
     "output_type": "stream",
     "text": [
      "Epoch 9\n",
      "Epoch 9 :: Batch 0/1\n",
      "spin_scaling = True; input descr to exc shape: (8574, 15)\n",
      "eX.__call__, rho shape: (8574, 15)\n",
      "spin_scaling = False; input descr to exc shape: (8574, 13)\n",
      "eC.__call__, rho shape: (8574, 13)\n",
      "[8] (8,)\n",
      "(8, 8) (8, 8)\n",
      "Spin unpolarized make_rdm1()\n",
      "spin_scaling = True; input descr to exc shape: (8574, 15)\n",
      "eX.__call__, rho shape: (8574, 15)\n",
      "spin_scaling = False; input descr to exc shape: (8574, 13)\n",
      "eC.__call__, rho shape: (8574, 13)\n",
      "etot+exc+enuc 10.230809441522071 -2.770710693745047 -13.763815448424035 -6.30371670064701\n",
      "spin_scaling = True; input descr to exc shape: (8574, 15)\n",
      "eX.__call__, rho shape: (8574, 15)\n",
      "spin_scaling = False; input descr to exc shape: (8574, 13)\n",
      "eC.__call__, rho shape: (8574, 13)\n",
      "[8] (8,)\n",
      "(8, 8) (8, 8)\n",
      "Spin unpolarized make_rdm1()\n",
      "spin_scaling = True; input descr to exc shape: (8574, 15)\n",
      "eX.__call__, rho shape: (8574, 15)\n",
      "spin_scaling = False; input descr to exc shape: (8574, 13)\n",
      "eC.__call__, rho shape: (8574, 13)\n",
      "etot+exc+enuc Traced<ConcreteArray(10.230809441522071, dtype=float64)>with<JVPTrace(level=2/0)> with\n",
      "  primal = Array(10.23080944, dtype=float64)\n",
      "  tangent = Traced<ShapedArray(float64[])>with<JaxprTrace(level=1/0)> with\n",
      "    pval = (ShapedArray(float64[]), None)\n",
      "    recipe = JaxprEqnRecipe(eqn_id=<object object at 0x7e6658154e80>, in_tracers=(Traced<ShapedArray(float64[1]):JaxprTrace(level=1/0)>,), out_tracer_refs=[<weakref at 0x7e6650377290; to 'JaxprTracer' at 0x7e6650377240>], out_avals=[ShapedArray(float64[])], primitive=squeeze, params={'dimensions': (0,)}, effects=frozenset(), source_info=SourceInfo(traceback=<jaxlib.xla_extension.Traceback object at 0x7e669c4682f0>, name_stack=NameStack(stack=(Transform(name='jvp'),)))) Traced<ConcreteArray(-2.770710693745047, dtype=float64)>with<JVPTrace(level=2/0)> with\n",
      "  primal = Array(-2.77071069, dtype=float64)\n",
      "  tangent = Traced<ShapedArray(float64[])>with<JaxprTrace(level=1/0)> with\n",
      "    pval = (ShapedArray(float64[]), None)\n",
      "    recipe = JaxprEqnRecipe(eqn_id=<object object at 0x7e665013f440>, in_tracers=(Traced<ShapedArray(float64[]):JaxprTrace(level=1/0)>, Traced<ConcreteArray(0.010000291587695, dtype=float64):JaxprTrace(level=1/0)>), out_tracer_refs=[<weakref at 0x7e665033b2e0; to 'JaxprTracer' at 0x7e665033b510>], out_avals=[ShapedArray(float64[])], primitive=pjit, params={'jaxpr': { lambda ; a:f64[] b:f64[]. let c:f64[] = div a b in (c,) }, 'in_shardings': (UnspecifiedValue, UnspecifiedValue), 'out_shardings': (UnspecifiedValue,), 'resource_env': None, 'donated_invars': (False, False), 'name': 'true_divide', 'keep_unused': False, 'inline': True}, effects=set(), source_info=SourceInfo(traceback=<jaxlib.xla_extension.Traceback object at 0x7e669c5450b0>, name_stack=NameStack(stack=(Transform(name='jvp'),)))) -13.763815448424035 Traced<ConcreteArray(-6.30371670064701, dtype=float64)>with<JVPTrace(level=2/0)> with\n",
      "  primal = Array(-6.3037167, dtype=float64)\n",
      "  tangent = Traced<ShapedArray(float64[])>with<JaxprTrace(level=1/0)> with\n",
      "    pval = (ShapedArray(float64[]), None)\n",
      "    recipe = JaxprEqnRecipe(eqn_id=<object object at 0x7e665013f620>, in_tracers=(Traced<ShapedArray(float64[]):JaxprTrace(level=1/0)>,), out_tracer_refs=[<weakref at 0x7e66346d5120; to 'JaxprTracer' at 0x7e66346d5030>], out_avals=[ShapedArray(float64[])], primitive=pjit, params={'jaxpr': { lambda ; a:f64[]. let  in (a,) }, 'in_shardings': (UnspecifiedValue,), 'out_shardings': (UnspecifiedValue,), 'resource_env': None, 'donated_invars': (False,), 'name': 'fn', 'keep_unused': False, 'inline': True}, effects=set(), source_info=SourceInfo(traceback=<jaxlib.xla_extension.Traceback object at 0x7e665834f2b0>, name_stack=NameStack(stack=(Transform(name='jvp'),))))\n",
      "Batch Loss = 164.91255008483716\n",
      "step=9, epoch_train_loss=164.91255008483716\n"
     ]
    },
    {
     "name": "stderr",
     "output_type": "stream",
     "text": [
      "WARNING:jax._src.xla_bridge:CUDA backend failed to initialize: Found CUDA version 12010, but JAX was built against version 12030, which is newer. The copy of CUDA that is installed must be at least as new as the version against which JAX was built. (Set TF_CPP_MIN_LOG_LEVEL=0 and rerun for more info.)\n"
     ]
    },
    {
     "name": "stdout",
     "output_type": "stream",
     "text": [
      "Epoch 10\n",
      "Epoch 10 :: Batch 0/1\n",
      "spin_scaling = True; input descr to exc shape: (8574, 15)\n",
      "eX.__call__, rho shape: (8574, 15)\n",
      "spin_scaling = False; input descr to exc shape: (8574, 13)\n",
      "eC.__call__, rho shape: (8574, 13)\n",
      "[8] (8,)\n",
      "(8, 8) (8, 8)\n",
      "Spin unpolarized make_rdm1()\n",
      "spin_scaling = True; input descr to exc shape: (8574, 15)\n",
      "eX.__call__, rho shape: (8574, 15)\n",
      "spin_scaling = False; input descr to exc shape: (8574, 13)\n",
      "eC.__call__, rho shape: (8574, 13)\n",
      "etot+exc+enuc 10.230809441522071 -2.770710693745047 -13.763815448424035 -6.30371670064701\n",
      "spin_scaling = True; input descr to exc shape: (8574, 15)\n",
      "eX.__call__, rho shape: (8574, 15)\n",
      "spin_scaling = False; input descr to exc shape: (8574, 13)\n",
      "eC.__call__, rho shape: (8574, 13)\n",
      "[8] (8,)\n",
      "(8, 8) (8, 8)\n",
      "Spin unpolarized make_rdm1()\n",
      "spin_scaling = True; input descr to exc shape: (8574, 15)\n",
      "eX.__call__, rho shape: (8574, 15)\n",
      "spin_scaling = False; input descr to exc shape: (8574, 13)\n",
      "eC.__call__, rho shape: (8574, 13)\n",
      "etot+exc+enuc Traced<ConcreteArray(10.230809441522071, dtype=float64)>with<JVPTrace(level=2/0)> with\n",
      "  primal = Array(10.23080944, dtype=float64)\n",
      "  tangent = Traced<ShapedArray(float64[])>with<JaxprTrace(level=1/0)> with\n",
      "    pval = (ShapedArray(float64[]), None)\n",
      "    recipe = JaxprEqnRecipe(eqn_id=<object object at 0x7e66345707d0>, in_tracers=(Traced<ShapedArray(float64[1]):JaxprTrace(level=1/0)>,), out_tracer_refs=[<weakref at 0x7e66506973d0; to 'JaxprTracer' at 0x7e66506943b0>], out_avals=[ShapedArray(float64[])], primitive=squeeze, params={'dimensions': (0,)}, effects=frozenset(), source_info=SourceInfo(traceback=<jaxlib.xla_extension.Traceback object at 0x7e6650261b70>, name_stack=NameStack(stack=(Transform(name='jvp'),)))) Traced<ConcreteArray(-2.770710693745047, dtype=float64)>with<JVPTrace(level=2/0)> with\n",
      "  primal = Array(-2.77071069, dtype=float64)\n",
      "  tangent = Traced<ShapedArray(float64[])>with<JaxprTrace(level=1/0)> with\n",
      "    pval = (ShapedArray(float64[]), None)\n",
      "    recipe = JaxprEqnRecipe(eqn_id=<object object at 0x7e6634762060>, in_tracers=(Traced<ShapedArray(float64[]):JaxprTrace(level=1/0)>, Traced<ConcreteArray(0.010000291587695, dtype=float64):JaxprTrace(level=1/0)>), out_tracer_refs=[<weakref at 0x7e66586ddbc0; to 'JaxprTracer' at 0x7e66586deca0>], out_avals=[ShapedArray(float64[])], primitive=pjit, params={'jaxpr': { lambda ; a:f64[] b:f64[]. let c:f64[] = div a b in (c,) }, 'in_shardings': (UnspecifiedValue, UnspecifiedValue), 'out_shardings': (UnspecifiedValue,), 'resource_env': None, 'donated_invars': (False, False), 'name': 'true_divide', 'keep_unused': False, 'inline': True}, effects=set(), source_info=SourceInfo(traceback=<jaxlib.xla_extension.Traceback object at 0x7e6658735030>, name_stack=NameStack(stack=(Transform(name='jvp'),)))) -13.763815448424035 Traced<ConcreteArray(-6.30371670064701, dtype=float64)>with<JVPTrace(level=2/0)> with\n",
      "  primal = Array(-6.3037167, dtype=float64)\n",
      "  tangent = Traced<ShapedArray(float64[])>with<JaxprTrace(level=1/0)> with\n",
      "    pval = (ShapedArray(float64[]), None)\n",
      "    recipe = JaxprEqnRecipe(eqn_id=<object object at 0x7e6634762240>, in_tracers=(Traced<ShapedArray(float64[]):JaxprTrace(level=1/0)>,), out_tracer_refs=[<weakref at 0x7e669c2c5d00; to 'JaxprTracer' at 0x7e669c2c49f0>], out_avals=[ShapedArray(float64[])], primitive=pjit, params={'jaxpr': { lambda ; a:f64[]. let  in (a,) }, 'in_shardings': (UnspecifiedValue,), 'out_shardings': (UnspecifiedValue,), 'resource_env': None, 'donated_invars': (False,), 'name': 'fn', 'keep_unused': False, 'inline': True}, effects=set(), source_info=SourceInfo(traceback=<jaxlib.xla_extension.Traceback object at 0x7e66587237f0>, name_stack=NameStack(stack=(Transform(name='jvp'),))))\n",
      "Batch Loss = 164.91255008483716\n",
      "step=10, epoch_train_loss=164.91255008483716\n"
     ]
    },
    {
     "name": "stderr",
     "output_type": "stream",
     "text": [
      "WARNING:jax._src.xla_bridge:CUDA backend failed to initialize: Found CUDA version 12010, but JAX was built against version 12030, which is newer. The copy of CUDA that is installed must be at least as new as the version against which JAX was built. (Set TF_CPP_MIN_LOG_LEVEL=0 and rerun for more info.)\n"
     ]
    },
    {
     "name": "stdout",
     "output_type": "stream",
     "text": [
      "Epoch 11\n",
      "Epoch 11 :: Batch 0/1\n",
      "spin_scaling = True; input descr to exc shape: (8574, 15)\n",
      "eX.__call__, rho shape: (8574, 15)\n",
      "spin_scaling = False; input descr to exc shape: (8574, 13)\n",
      "eC.__call__, rho shape: (8574, 13)\n",
      "[8] (8,)\n",
      "(8, 8) (8, 8)\n",
      "Spin unpolarized make_rdm1()\n",
      "spin_scaling = True; input descr to exc shape: (8574, 15)\n",
      "eX.__call__, rho shape: (8574, 15)\n",
      "spin_scaling = False; input descr to exc shape: (8574, 13)\n",
      "eC.__call__, rho shape: (8574, 13)\n",
      "etot+exc+enuc 10.230809441522071 -2.770710693745047 -13.763815448424035 -6.30371670064701\n",
      "spin_scaling = True; input descr to exc shape: (8574, 15)\n",
      "eX.__call__, rho shape: (8574, 15)\n",
      "spin_scaling = False; input descr to exc shape: (8574, 13)\n",
      "eC.__call__, rho shape: (8574, 13)\n",
      "[8] (8,)\n",
      "(8, 8) (8, 8)\n",
      "Spin unpolarized make_rdm1()\n",
      "spin_scaling = True; input descr to exc shape: (8574, 15)\n",
      "eX.__call__, rho shape: (8574, 15)\n",
      "spin_scaling = False; input descr to exc shape: (8574, 13)\n",
      "eC.__call__, rho shape: (8574, 13)\n",
      "etot+exc+enuc Traced<ConcreteArray(10.230809441522071, dtype=float64)>with<JVPTrace(level=2/0)> with\n",
      "  primal = Array(10.23080944, dtype=float64)\n",
      "  tangent = Traced<ShapedArray(float64[])>with<JaxprTrace(level=1/0)> with\n",
      "    pval = (ShapedArray(float64[]), None)\n",
      "    recipe = JaxprEqnRecipe(eqn_id=<object object at 0x7e665040f470>, in_tracers=(Traced<ShapedArray(float64[1]):JaxprTrace(level=1/0)>,), out_tracer_refs=[<weakref at 0x7e66343996c0; to 'JaxprTracer' at 0x7e6634399670>], out_avals=[ShapedArray(float64[])], primitive=squeeze, params={'dimensions': (0,)}, effects=frozenset(), source_info=SourceInfo(traceback=<jaxlib.xla_extension.Traceback object at 0x7e66342fcbf0>, name_stack=NameStack(stack=(Transform(name='jvp'),)))) Traced<ConcreteArray(-2.770710693745047, dtype=float64)>with<JVPTrace(level=2/0)> with\n",
      "  primal = Array(-2.77071069, dtype=float64)\n",
      "  tangent = Traced<ShapedArray(float64[])>with<JaxprTrace(level=1/0)> with\n",
      "    pval = (ShapedArray(float64[]), None)\n",
      "    recipe = JaxprEqnRecipe(eqn_id=<object object at 0x7e663441ccc0>, in_tracers=(Traced<ShapedArray(float64[]):JaxprTrace(level=1/0)>, Traced<ConcreteArray(0.010000291587695, dtype=float64):JaxprTrace(level=1/0)>), out_tracer_refs=[<weakref at 0x7e663433e480; to 'JaxprTracer' at 0x7e663433e610>], out_avals=[ShapedArray(float64[])], primitive=pjit, params={'jaxpr': { lambda ; a:f64[] b:f64[]. let c:f64[] = div a b in (c,) }, 'in_shardings': (UnspecifiedValue, UnspecifiedValue), 'out_shardings': (UnspecifiedValue,), 'resource_env': None, 'donated_invars': (False, False), 'name': 'true_divide', 'keep_unused': False, 'inline': True}, effects=set(), source_info=SourceInfo(traceback=<jaxlib.xla_extension.Traceback object at 0x7e66502c0bb0>, name_stack=NameStack(stack=(Transform(name='jvp'),)))) -13.763815448424035 Traced<ConcreteArray(-6.30371670064701, dtype=float64)>with<JVPTrace(level=2/0)> with\n",
      "  primal = Array(-6.3037167, dtype=float64)\n",
      "  tangent = Traced<ShapedArray(float64[])>with<JaxprTrace(level=1/0)> with\n",
      "    pval = (ShapedArray(float64[]), None)\n",
      "    recipe = JaxprEqnRecipe(eqn_id=<object object at 0x7e663441cea0>, in_tracers=(Traced<ShapedArray(float64[]):JaxprTrace(level=1/0)>,), out_tracer_refs=[<weakref at 0x7e66342036f0; to 'JaxprTracer' at 0x7e66342036a0>], out_avals=[ShapedArray(float64[])], primitive=pjit, params={'jaxpr': { lambda ; a:f64[]. let  in (a,) }, 'in_shardings': (UnspecifiedValue,), 'out_shardings': (UnspecifiedValue,), 'resource_env': None, 'donated_invars': (False,), 'name': 'fn', 'keep_unused': False, 'inline': True}, effects=set(), source_info=SourceInfo(traceback=<jaxlib.xla_extension.Traceback object at 0x7e663425dd30>, name_stack=NameStack(stack=(Transform(name='jvp'),))))\n",
      "Batch Loss = 164.91255008483716\n",
      "step=11, epoch_train_loss=164.91255008483716\n"
     ]
    },
    {
     "name": "stderr",
     "output_type": "stream",
     "text": [
      "WARNING:jax._src.xla_bridge:CUDA backend failed to initialize: Found CUDA version 12010, but JAX was built against version 12030, which is newer. The copy of CUDA that is installed must be at least as new as the version against which JAX was built. (Set TF_CPP_MIN_LOG_LEVEL=0 and rerun for more info.)\n"
     ]
    },
    {
     "name": "stdout",
     "output_type": "stream",
     "text": [
      "Epoch 12\n",
      "Epoch 12 :: Batch 0/1\n",
      "spin_scaling = True; input descr to exc shape: (8574, 15)\n",
      "eX.__call__, rho shape: (8574, 15)\n",
      "spin_scaling = False; input descr to exc shape: (8574, 13)\n",
      "eC.__call__, rho shape: (8574, 13)\n",
      "[8] (8,)\n",
      "(8, 8) (8, 8)\n",
      "Spin unpolarized make_rdm1()\n",
      "spin_scaling = True; input descr to exc shape: (8574, 15)\n",
      "eX.__call__, rho shape: (8574, 15)\n",
      "spin_scaling = False; input descr to exc shape: (8574, 13)\n",
      "eC.__call__, rho shape: (8574, 13)\n",
      "etot+exc+enuc 10.230809441522071 -2.770710693745047 -13.763815448424035 -6.30371670064701\n",
      "spin_scaling = True; input descr to exc shape: (8574, 15)\n",
      "eX.__call__, rho shape: (8574, 15)\n",
      "spin_scaling = False; input descr to exc shape: (8574, 13)\n",
      "eC.__call__, rho shape: (8574, 13)\n",
      "[8] (8,)\n",
      "(8, 8) (8, 8)\n",
      "Spin unpolarized make_rdm1()\n",
      "spin_scaling = True; input descr to exc shape: (8574, 15)\n",
      "eX.__call__, rho shape: (8574, 15)\n",
      "spin_scaling = False; input descr to exc shape: (8574, 13)\n",
      "eC.__call__, rho shape: (8574, 13)\n",
      "etot+exc+enuc Traced<ConcreteArray(10.230809441522071, dtype=float64)>with<JVPTrace(level=2/0)> with\n",
      "  primal = Array(10.23080944, dtype=float64)\n",
      "  tangent = Traced<ShapedArray(float64[])>with<JaxprTrace(level=1/0)> with\n",
      "    pval = (ShapedArray(float64[]), None)\n",
      "    recipe = JaxprEqnRecipe(eqn_id=<object object at 0x7e6634760230>, in_tracers=(Traced<ShapedArray(float64[1]):JaxprTrace(level=1/0)>,), out_tracer_refs=[<weakref at 0x7e66583db560; to 'JaxprTracer' at 0x7e66583daca0>], out_avals=[ShapedArray(float64[])], primitive=squeeze, params={'dimensions': (0,)}, effects=frozenset(), source_info=SourceInfo(traceback=<jaxlib.xla_extension.Traceback object at 0x7e66502733f0>, name_stack=NameStack(stack=(Transform(name='jvp'),)))) Traced<ConcreteArray(-2.770710693745047, dtype=float64)>with<JVPTrace(level=2/0)> with\n",
      "  primal = Array(-2.77071069, dtype=float64)\n",
      "  tangent = Traced<ShapedArray(float64[])>with<JaxprTrace(level=1/0)> with\n",
      "    pval = (ShapedArray(float64[]), None)\n",
      "    recipe = JaxprEqnRecipe(eqn_id=<object object at 0x7e66340478c0>, in_tracers=(Traced<ShapedArray(float64[]):JaxprTrace(level=1/0)>, Traced<ConcreteArray(0.010000291587695, dtype=float64):JaxprTrace(level=1/0)>), out_tracer_refs=[<weakref at 0x7e6650589b20; to 'JaxprTracer' at 0x7e669c481bc0>], out_avals=[ShapedArray(float64[])], primitive=pjit, params={'jaxpr': { lambda ; a:f64[] b:f64[]. let c:f64[] = div a b in (c,) }, 'in_shardings': (UnspecifiedValue, UnspecifiedValue), 'out_shardings': (UnspecifiedValue,), 'resource_env': None, 'donated_invars': (False, False), 'name': 'true_divide', 'keep_unused': False, 'inline': True}, effects=set(), source_info=SourceInfo(traceback=<jaxlib.xla_extension.Traceback object at 0x7e66d47a7e30>, name_stack=NameStack(stack=(Transform(name='jvp'),)))) -13.763815448424035 Traced<ConcreteArray(-6.30371670064701, dtype=float64)>with<JVPTrace(level=2/0)> with\n",
      "  primal = Array(-6.3037167, dtype=float64)\n",
      "  tangent = Traced<ShapedArray(float64[])>with<JaxprTrace(level=1/0)> with\n",
      "    pval = (ShapedArray(float64[]), None)\n",
      "    recipe = JaxprEqnRecipe(eqn_id=<object object at 0x7e6634047aa0>, in_tracers=(Traced<ShapedArray(float64[]):JaxprTrace(level=1/0)>,), out_tracer_refs=[<weakref at 0x7e663407fce0; to 'JaxprTracer' at 0x7e663407fbf0>], out_avals=[ShapedArray(float64[])], primitive=pjit, params={'jaxpr': { lambda ; a:f64[]. let  in (a,) }, 'in_shardings': (UnspecifiedValue,), 'out_shardings': (UnspecifiedValue,), 'resource_env': None, 'donated_invars': (False,), 'name': 'fn', 'keep_unused': False, 'inline': True}, effects=set(), source_info=SourceInfo(traceback=<jaxlib.xla_extension.Traceback object at 0x7e6650549ff0>, name_stack=NameStack(stack=(Transform(name='jvp'),))))\n",
      "Batch Loss = 164.91255008483716\n",
      "step=12, epoch_train_loss=164.91255008483716\n"
     ]
    },
    {
     "name": "stderr",
     "output_type": "stream",
     "text": [
      "WARNING:jax._src.xla_bridge:CUDA backend failed to initialize: Found CUDA version 12010, but JAX was built against version 12030, which is newer. The copy of CUDA that is installed must be at least as new as the version against which JAX was built. (Set TF_CPP_MIN_LOG_LEVEL=0 and rerun for more info.)\n"
     ]
    },
    {
     "name": "stdout",
     "output_type": "stream",
     "text": [
      "Epoch 13\n",
      "Epoch 13 :: Batch 0/1\n",
      "spin_scaling = True; input descr to exc shape: (8574, 15)\n",
      "eX.__call__, rho shape: (8574, 15)\n",
      "spin_scaling = False; input descr to exc shape: (8574, 13)\n",
      "eC.__call__, rho shape: (8574, 13)\n",
      "[8] (8,)\n",
      "(8, 8) (8, 8)\n",
      "Spin unpolarized make_rdm1()\n",
      "spin_scaling = True; input descr to exc shape: (8574, 15)\n",
      "eX.__call__, rho shape: (8574, 15)\n",
      "spin_scaling = False; input descr to exc shape: (8574, 13)\n",
      "eC.__call__, rho shape: (8574, 13)\n",
      "etot+exc+enuc nan nan -13.763815448424035 nan\n",
      "spin_scaling = True; input descr to exc shape: (8574, 15)\n",
      "eX.__call__, rho shape: (8574, 15)\n",
      "spin_scaling = False; input descr to exc shape: (8574, 13)\n",
      "eC.__call__, rho shape: (8574, 13)\n",
      "[8] (8,)\n",
      "(8, 8) (8, 8)\n",
      "Spin unpolarized make_rdm1()\n",
      "spin_scaling = True; input descr to exc shape: (8574, 15)\n",
      "eX.__call__, rho shape: (8574, 15)\n",
      "spin_scaling = False; input descr to exc shape: (8574, 13)\n",
      "eC.__call__, rho shape: (8574, 13)\n",
      "etot+exc+enuc Traced<ConcreteArray(nan, dtype=float64)>with<JVPTrace(level=2/0)> with\n",
      "  primal = Array(nan, dtype=float64)\n",
      "  tangent = Traced<ShapedArray(float64[])>with<JaxprTrace(level=1/0)> with\n",
      "    pval = (ShapedArray(float64[]), None)\n",
      "    recipe = JaxprEqnRecipe(eqn_id=<object object at 0x7e6633d0f6b0>, in_tracers=(Traced<ShapedArray(float64[1]):JaxprTrace(level=1/0)>,), out_tracer_refs=[<weakref at 0x7e6633f22a70; to 'JaxprTracer' at 0x7e6633f22a20>], out_avals=[ShapedArray(float64[])], primitive=squeeze, params={'dimensions': (0,)}, effects=frozenset(), source_info=SourceInfo(traceback=<jaxlib.xla_extension.Traceback object at 0x7e66505f0130>, name_stack=NameStack(stack=(Transform(name='jvp'),)))) Traced<ConcreteArray(nan, dtype=float64)>with<JVPTrace(level=2/0)> with\n",
      "  primal = Array(nan, dtype=float64)\n",
      "  tangent = Traced<ShapedArray(float64[])>with<JaxprTrace(level=1/0)> with\n",
      "    pval = (ShapedArray(float64[]), None)\n",
      "    recipe = JaxprEqnRecipe(eqn_id=<object object at 0x7e6633e464e0>, in_tracers=(Traced<ShapedArray(float64[]):JaxprTrace(level=1/0)>, Traced<ConcreteArray(0.010000291587695, dtype=float64):JaxprTrace(level=1/0)>), out_tracer_refs=[<weakref at 0x7e6633fbfce0; to 'JaxprTracer' at 0x7e6633fbfe70>], out_avals=[ShapedArray(float64[])], primitive=pjit, params={'jaxpr': { lambda ; a:f64[] b:f64[]. let c:f64[] = div a b in (c,) }, 'in_shardings': (UnspecifiedValue, UnspecifiedValue), 'out_shardings': (UnspecifiedValue,), 'resource_env': None, 'donated_invars': (False, False), 'name': 'true_divide', 'keep_unused': False, 'inline': True}, effects=set(), source_info=SourceInfo(traceback=<jaxlib.xla_extension.Traceback object at 0x7e6633ee6b70>, name_stack=NameStack(stack=(Transform(name='jvp'),)))) -13.763815448424035 Traced<ConcreteArray(nan, dtype=float64)>with<JVPTrace(level=2/0)> with\n",
      "  primal = Array(nan, dtype=float64)\n",
      "  tangent = Traced<ShapedArray(float64[])>with<JaxprTrace(level=1/0)> with\n",
      "    pval = (ShapedArray(float64[]), None)\n",
      "    recipe = JaxprEqnRecipe(eqn_id=<object object at 0x7e6633e466c0>, in_tracers=(Traced<ShapedArray(float64[]):JaxprTrace(level=1/0)>,), out_tracer_refs=[<weakref at 0x7e6633d68900; to 'JaxprTracer' at 0x7e6633d68860>], out_avals=[ShapedArray(float64[])], primitive=pjit, params={'jaxpr': { lambda ; a:f64[]. let  in (a,) }, 'in_shardings': (UnspecifiedValue,), 'out_shardings': (UnspecifiedValue,), 'resource_env': None, 'donated_invars': (False,), 'name': 'fn', 'keep_unused': False, 'inline': True}, effects=set(), source_info=SourceInfo(traceback=<jaxlib.xla_extension.Traceback object at 0x7e6633d2ed30>, name_stack=NameStack(stack=(Transform(name='jvp'),))))\n",
      "Batch Loss = nan\n",
      "step=13, epoch_train_loss=nan\n"
     ]
    },
    {
     "name": "stderr",
     "output_type": "stream",
     "text": [
      "WARNING:jax._src.xla_bridge:CUDA backend failed to initialize: Found CUDA version 12010, but JAX was built against version 12030, which is newer. The copy of CUDA that is installed must be at least as new as the version against which JAX was built. (Set TF_CPP_MIN_LOG_LEVEL=0 and rerun for more info.)\n"
     ]
    },
    {
     "name": "stdout",
     "output_type": "stream",
     "text": [
      "Epoch 14\n",
      "Epoch 14 :: Batch 0/1\n",
      "spin_scaling = True; input descr to exc shape: (8574, 15)\n",
      "eX.__call__, rho shape: (8574, 15)\n",
      "spin_scaling = False; input descr to exc shape: (8574, 13)\n",
      "eC.__call__, rho shape: (8574, 13)\n"
     ]
    },
    {
     "name": "stderr",
     "output_type": "stream",
     "text": [
      "Exception ignored in: <bound method IPythonKernel._clean_thread_parent_frames of <ipykernel.ipkernel.IPythonKernel object at 0x7e6a9d0ca6b0>>\n",
      "Traceback (most recent call last):\n",
      "  File \"/home/awills/anaconda3/envs/pyscfad/lib/python3.10/site-packages/ipykernel/ipkernel.py\", line 775, in _clean_thread_parent_frames\n",
      "    def _clean_thread_parent_frames(\n",
      "KeyboardInterrupt: \n",
      "\n",
      "KeyboardInterrupt\n",
      "\n"
     ]
    }
   ],
   "source": [
    "NSTEPS = 100\n",
    "# lr_scheduler = optax.cosine_onecycle_schedule(transition_steps = NSTEPS, peak_value=5e-1)\n",
    "# lr_scheduler = optax.exponential_decay(transition_steps = NSTEPS, init_value=1e-1, decay_rate=0.1, transition_begin=NSTEPS//10)\n",
    "# optimizer = optax.optimistic_gradient_descent(learning_rate=10.0)\n",
    "# optimizer = optax.noisy_sgd(learning_rate=10.0, seed=92017)\n",
    "optimizer = optax.lamb(learning_rate=10.0)\n",
    "# optimize = optax.sgd(learning_rate = 15.0, momentum=3.3, nesterov=True)\n",
    "xct = xce.train.xcTrainer(model=nlxc, optim=optimizer, steps=NSTEPS,\n",
    "                          # loss = Gap_Loop_loss(),\n",
    "                          # loss = Gap_loss(),\n",
    "                          # loss = Band_gap_janak_loss(),\n",
    "                          loss = E_tot_loss(),\n",
    "                          do_jit=False)\n",
    "with jax.default_device(cpus[0]):\n",
    "    # newm = xct(len(mols), xct.model, mols, mfs, gcs, gws, init_dms, rmooccs, ogds, reftotes, rdms, refgaps)\n",
    "    # newm = xct(1, xct.model, [aos], [ts], [hcs], [eris], [ss], [mfs], [gcs], [gws], [init_dms], [rmooccs], [rmocoeffs], [rmoes], [ogds], [reftotes], [rdms], [refgaps])\n",
    "    # newm = xct(1, xct.model, aos, ts, hcs, eris, ss, mfs, gcs, gws, init_dms, rmooccs, rmocoeffs, rmoes, ogds, reftotes, rdms, refgaps)\n",
    "    # newm = xct(1, xct.model, aos, gws, init_dms, eris, rmooccs, hcs, ss, ogds, refgaps, mfs)\n",
    "    newm = xct(1, xct.model, aos, gws, init_dms, eris, rmooccs, rmocoeffs, rmoes, hcs, ss, ogds, mfs, vns, proportions, reftotes)\n",
    "    "
   ]
  },
  {
   "cell_type": "code",
   "execution_count": null,
   "id": "465ca437-0d09-4463-9dba-491d73a30e13",
   "metadata": {},
   "outputs": [],
   "source": [
    "borlido = pd.read_excel('/home/awills/Documents/Research/datasets/borlido2019/gg_direct_gaps.xlsx')"
   ]
  },
  {
   "cell_type": "code",
   "execution_count": null,
   "id": "ae54cfb5-c833-4221-822a-b2919466fc5f",
   "metadata": {},
   "outputs": [],
   "source": [
    "with open('/home/awills/Documents/Research/datasets/borlido2019/ggdirect.pkl', 'rb') as f:\n",
    "    bstruc_list = pickle.load(f)"
   ]
  },
  {
   "cell_type": "code",
   "execution_count": null,
   "id": "6c7bde3e-9201-4b16-8cba-3651c61303d3",
   "metadata": {},
   "outputs": [],
   "source": [
    "smalls = [i for i in bstruc_list if len(i[-1].structure.as_dict()['sites']) <= 4]"
   ]
  },
  {
   "cell_type": "code",
   "execution_count": null,
   "id": "3bc42c5f-4465-4470-b600-42ebb1ea6e52",
   "metadata": {},
   "outputs": [],
   "source": [
    "smalls[0]"
   ]
  },
  {
   "cell_type": "code",
   "execution_count": null,
   "id": "386543a4-293c-4ac4-9022-026b7a2f019e",
   "metadata": {},
   "outputs": [],
   "source": [
    "smallids = [i[1] for i in smalls]"
   ]
  },
  {
   "cell_type": "code",
   "execution_count": null,
   "id": "ebb906c4-9ccc-4a2e-b250-c3ad5b60da6a",
   "metadata": {},
   "outputs": [],
   "source": [
    "smalldf = borlido[borlido['MP_ID'].isin(smallids)]"
   ]
  },
  {
   "cell_type": "code",
   "execution_count": null,
   "id": "3b72b75e-32fd-4cd2-9e5a-1d95b5f80a15",
   "metadata": {},
   "outputs": [],
   "source": [
    "traj = []\n",
    "for small in smalls:\n",
    "    datidx, mpid, bstruc = small\n",
    "    at = AseAtomsAdaptor.get_atoms(bstruc.structure)\n",
    "    at.info['borlido_idx'] = datidx\n",
    "    at.info['mp_id'] = mpid\n",
    "    at.info['reference'] = smalldf[smalldf['MP_ID']==mpid]['Experimental'].values[0]\n",
    "    traj.append(at)"
   ]
  },
  {
   "cell_type": "code",
   "execution_count": null,
   "id": "5009de7d-66dd-4fe2-8e08-99e2e0d30d15",
   "metadata": {},
   "outputs": [],
   "source": [
    "traj[2].info"
   ]
  },
  {
   "cell_type": "code",
   "execution_count": null,
   "id": "60226810-808c-4b71-b455-ad2610d0cb23",
   "metadata": {},
   "outputs": [],
   "source": [
    "tt = traj[2]"
   ]
  },
  {
   "cell_type": "code",
   "execution_count": null,
   "id": "a0c26da2-57e6-476d-8a82-d5cc497b1973",
   "metadata": {},
   "outputs": [],
   "source": [
    "from pyscf.pbc.tools import pyscf_ase"
   ]
  },
  {
   "cell_type": "code",
   "execution_count": null,
   "id": "798fb564-19d9-4863-b1b2-c77bdac88505",
   "metadata": {},
   "outputs": [],
   "source": [
    "pyscf_ase.ase_atoms_to_pyscf(tt)"
   ]
  },
  {
   "cell_type": "code",
   "execution_count": null,
   "id": "313e6e08-6aef-4d92-8b5f-09571d7390df",
   "metadata": {},
   "outputs": [],
   "source": [
    "write('/home/awills/Documents/Research/datasets/borlido2019/smalls.traj', traj)"
   ]
  },
  {
   "cell_type": "code",
   "execution_count": null,
   "id": "1260aba1-99bc-4917-bc48-a19f539b3977",
   "metadata": {},
   "outputs": [],
   "source": [
    "test = smalls[0][-1]"
   ]
  },
  {
   "cell_type": "code",
   "execution_count": null,
   "id": "2df17a89-24ed-45a6-945e-0a4e4f861375",
   "metadata": {},
   "outputs": [],
   "source": [
    "gtop"
   ]
  },
  {
   "cell_type": "code",
   "execution_count": null,
   "id": "7e88562e-8762-4a59-9061-e027fd74e502",
   "metadata": {},
   "outputs": [],
   "source": [
    "test.as_dict()['lattice_rec']"
   ]
  },
  {
   "cell_type": "code",
   "execution_count": null,
   "id": "df4d17dc-191a-44bd-a352-c640be731a54",
   "metadata": {},
   "outputs": [],
   "source": [
    "at  = AseAtomsAdaptor.get_atoms(test.structure)"
   ]
  },
  {
   "cell_type": "code",
   "execution_count": null,
   "id": "2e565b81-ad46-42ad-a02a-e68b337b3a9e",
   "metadata": {},
   "outputs": [],
   "source": [
    "mol.pbc"
   ]
  },
  {
   "cell_type": "code",
   "execution_count": null,
   "id": "dbc5a3f0-eec5-442b-b412-efe9fe80a287",
   "metadata": {},
   "outputs": [],
   "source": [
    "gtop.Cell(a=np.array(at.cell), charge=0).spin"
   ]
  },
  {
   "cell_type": "code",
   "execution_count": null,
   "id": "f8c4221b-2d1b-489b-b2b2-e900220a731b",
   "metadata": {},
   "outputs": [],
   "source": [
    "from pyscf.pbc import cc"
   ]
  },
  {
   "cell_type": "code",
   "execution_count": null,
   "id": "ddc22c0f-fb52-4efb-a2a1-b7de5148856c",
   "metadata": {},
   "outputs": [],
   "source": [
    "cc."
   ]
  },
  {
   "cell_type": "code",
   "execution_count": null,
   "id": "7be9a975-6ea0-47c0-bdf0-aac33dabad69",
   "metadata": {},
   "outputs": [],
   "source": [
    "image = np.array([\n",
    "[[1, 2, 3], [4, 5, 6], [-1, 8, 9]],\n",
    "[[10, 11, 12], [13, 14, 15], [16, 17, 18]],\n",
    "[[19, 20, 21], [22, 23, 24], [25, 26, 27]]\n",
    "],\n",
    "dtype=np.float32)\n",
    "mask = np.array(\n",
    "[[1, 4, 7],\n",
    "[10, 4, 16],\n",
    "[19, 22, 255]],\n",
    "dtype=np.uint8)"
   ]
  },
  {
   "cell_type": "code",
   "execution_count": null,
   "id": "6f2db2db-3009-458a-a211-ebdc10874d2f",
   "metadata": {},
   "outputs": [],
   "source": []
  },
  {
   "cell_type": "code",
   "execution_count": null,
   "id": "ea98dca1-4d2b-4c95-8507-74f229cd6487",
   "metadata": {
    "scrolled": true
   },
   "outputs": [],
   "source": [
    "with MPRester(api_key = '') as mpr:\n",
    "    docs = mpr.materials.summary.search(\n",
    "        band_gap=(0, 5), is_stable=True, fields=[\"material_id\"], is_gap_direct = True, num_elements=(0, 4), num_sites=(0, 4),\n",
    "        has_props=[HasProps.bandstructure]\n",
    "    )\n",
    "    gamma_directs = [mpr.get_bandstructure_by_material_id(str(i.material_id)) for i in docs]"
   ]
  },
  {
   "cell_type": "code",
   "execution_count": null,
   "id": "c3be1a81-9473-4176-a5e1-0ccdb979d260",
   "metadata": {},
   "outputs": [],
   "source": [
    "t = gamma_directs[10]"
   ]
  },
  {
   "cell_type": "code",
   "execution_count": null,
   "id": "ced6d2f5-f9fe-488b-a523-72084c41fa74",
   "metadata": {},
   "outputs": [],
   "source": [
    "t.get_band_gap()"
   ]
  },
  {
   "cell_type": "code",
   "execution_count": null,
   "id": "be26e44f-ce87-4577-beeb-91a054627575",
   "metadata": {},
   "outputs": [],
   "source": [
    "gamgam = [i for i in gamma_directs if i.get_band_gap()['transition'] == '\\\\Gamma-\\\\Gamma']"
   ]
  },
  {
   "cell_type": "code",
   "execution_count": null,
   "id": "990b6dbc-4d2b-4aca-b730-c1d1c01253ba",
   "metadata": {},
   "outputs": [],
   "source": [
    "len(borlido_gg_direct[0][-1].structure.as_dict()['sites'])"
   ]
  },
  {
   "cell_type": "code",
   "execution_count": null,
   "id": "8264894c-097a-4315-944b-887d89c8b2d5",
   "metadata": {},
   "outputs": [],
   "source": [
    "smalls = [(i[1], i[-1]) for i in borlido_gg_direct if len(i[-1].structure.as_dict()['sites']) < 4]"
   ]
  },
  {
   "cell_type": "code",
   "execution_count": null,
   "id": "faeabbd9-159f-4502-b291-b913fb5b232a",
   "metadata": {},
   "outputs": [],
   "source": [
    "[i[1].structure.as_dict()['sites'][0]['species'] for i in smalls]"
   ]
  },
  {
   "cell_type": "code",
   "execution_count": null,
   "id": "5bcfd050-1fd8-4cf3-926d-3fab16049a8b",
   "metadata": {},
   "outputs": [],
   "source": [
    "mpr = MPRester(api_key = '')"
   ]
  },
  {
   "cell_type": "code",
   "execution_count": null,
   "id": "1f3051d1-6190-4582-9d0f-4c24f071db0b",
   "metadata": {},
   "outputs": [],
   "source": [
    "# mp = mpr.get_bandstructure_by_material_id('mp-1266')\n",
    "mp = smalls[0]\n",
    "mps = mp.structure.as_dict()\n",
    "mp.get_band_gap()"
   ]
  },
  {
   "cell_type": "code",
   "execution_count": null,
   "id": "75c3b042-971d-4d44-93de-7a8dba1e6c34",
   "metadata": {},
   "outputs": [],
   "source": [
    "rets = mps\n",
    "at_coor_xyz = [ (i['species'][0]['element'], i['xyz']) for i in rets['sites']]\n",
    "at_coor_abc = [ (i['species'][0]['element'], [rets['lattice']['a']*j for j in i['abc']]) for i in rets['sites']]\n",
    "lat = np.array(rets['lattice']['matrix'])\n",
    "if np.linalg.det(lat) < 1:\n",
    "    print('left handed array, switching')\n",
    "    lat = -np.array([lat[-1], lat[1], lat[0]])"
   ]
  },
  {
   "cell_type": "code",
   "execution_count": null,
   "id": "a110556a-20b4-47db-bd26-705dfbee0a98",
   "metadata": {},
   "outputs": [],
   "source": [
    "np.linalg.det(lat)"
   ]
  },
  {
   "cell_type": "code",
   "execution_count": null,
   "id": "4068fbda-82b0-4975-ae27-dfe83b215c5a",
   "metadata": {},
   "outputs": [],
   "source": [
    "traj"
   ]
  },
  {
   "cell_type": "code",
   "execution_count": null,
   "id": "628f4d83-0d3b-4ac0-861c-4da8005aadc2",
   "metadata": {},
   "outputs": [],
   "source": [
    "at_coor_abc"
   ]
  },
  {
   "cell_type": "code",
   "execution_count": null,
   "id": "7345b47a-baf2-41b2-b07a-a7642f54752a",
   "metadata": {
    "scrolled": true
   },
   "outputs": [],
   "source": [
    "cell = gtop.Cell(verbose=9)\n",
    "cell.atom = at_coor_abc\n",
    "cell.a = lat\n",
    "cell.basis = 'def2-svp'\n",
    "cell.pseudo = 'gth-pbe'\n",
    "cell.exp_to_discard = 0.1\n",
    "cell.build()\n",
    "# kpts = cell.make_kpts([2,2,2])\n",
    "mf = dftp.RKS(cell, xc='pbe')\n",
    "# mf = scfp.RHF(cell)\n",
    "e = mf.kernel()"
   ]
  },
  {
   "cell_type": "code",
   "execution_count": null,
   "id": "4d7e5e05-1e1d-470f-8064-ab319a5d7ec5",
   "metadata": {},
   "outputs": [],
   "source": [
    "mf.mo_occ, mf.mo_energy"
   ]
  },
  {
   "cell_type": "code",
   "execution_count": null,
   "id": "d339ce21-0790-4b21-a901-3fa71649830c",
   "metadata": {},
   "outputs": [],
   "source": [
    "mf.mo_energy - mf.mo_energy[mf.mo_occ == 0][0], mf.mo_energy - mf.mo_energy[mf.mol.nelectron//2-1], mf.mo_energy, mf.mo_occ"
   ]
  },
  {
   "cell_type": "code",
   "execution_count": null,
   "id": "59b374f4-8726-4416-a0de-7b7085173a52",
   "metadata": {},
   "outputs": [],
   "source": [
    "a1 = bulk('Si', a=3.867114, b=3.867114, c=3.867114, alpha=60)"
   ]
  },
  {
   "cell_type": "code",
   "execution_count": null,
   "id": "60255e2b-b21b-4888-92be-85194d485f3b",
   "metadata": {},
   "outputs": [],
   "source": [
    "a1.cell"
   ]
  },
  {
   "cell_type": "code",
   "execution_count": null,
   "id": "87586945-87ba-4f27-95ae-8cd74029e977",
   "metadata": {},
   "outputs": [],
   "source": [
    "gtop.Cell?"
   ]
  },
  {
   "cell_type": "code",
   "execution_count": null,
   "id": "2fbe5ff1-7848-497f-bf6f-2eb5c3c7cba6",
   "metadata": {},
   "outputs": [],
   "source": [
    "gtop"
   ]
  },
  {
   "cell_type": "code",
   "execution_count": null,
   "id": "9f8b6799-1b7f-4bfb-a23f-669a45a43166",
   "metadata": {},
   "outputs": [],
   "source": [
    "mfs = []\n",
    "mols = []\n",
    "energies = []\n",
    "dms = []\n",
    "ao_evals = []\n",
    "gws = []\n",
    "eris = []\n",
    "mo_occs = []\n",
    "hcs = []\n",
    "vs = []\n",
    "ts = []\n",
    "ss = []\n",
    "hologaps = []\n",
    "ogds = []\n",
    "\n",
    "cell = gtop.Cell()\n",
    "a = 5.43\n",
    "cell.atom = [['Si', [0,0,0]],\n",
    "              ['Si', [a/4,a/4,a/4]]]\n",
    "cell.a = jnp.asarray([[0, a/2, a/2],\n",
    "                     [a/2, 0, a/2],\n",
    "                     [a/2, a/2, 0]])\n",
    "cell.basis = 'gth-szv'\n",
    "cell.pseudo = 'gth-pade'\n",
    "cell.exp_to_discard = 0.1\n",
    "cell.build()\n",
    "kpts = cell.make_kpts([2,2,2])\n",
    "mf = dftp.RKS(cell, xc='pbe0')\n",
    "mf2 = dftp.KRKS(cell, xc='pbe0', kpts=kpts)\n",
    "e = mf.kernel()\n",
    "# e2 = mf2.kernel()"
   ]
  },
  {
   "cell_type": "code",
   "execution_count": null,
   "id": "fab19321-aedd-4aa4-8308-2e811a672aa2",
   "metadata": {},
   "outputs": [],
   "source": [
    "mf"
   ]
  },
  {
   "cell_type": "code",
   "execution_count": null,
   "id": "385b6d1b-ffce-4305-ada2-bf8484c20ca6",
   "metadata": {},
   "outputs": [],
   "source": [
    "mfs = []\n",
    "mols = []\n",
    "energies = []\n",
    "dms = []\n",
    "ao_evals = []\n",
    "gws = []\n",
    "eris = []\n",
    "mo_occs = []\n",
    "hcs = []\n",
    "vs = []\n",
    "ts = []\n",
    "ss = []\n",
    "hologaps = []\n",
    "ogds = []\n",
    "\n",
    "mfs.append(mf)\n",
    "dm = mf.make_rdm1()\n",
    "dmj = jnp.array(dm)\n",
    "dmj.flags = dm.flags\n",
    "ao_eval = jnp.array(mf._numint.eval_ao(mf.mol, mf.grids.coords, deriv=2))\n",
    "energies.append(jnp.array(mf.get_veff().exc))\n",
    "dms.append(dmj)\n",
    "ogds.append(dm.shape)\n",
    "ao_evals.append(jnp.array(ao_eval))\n",
    "gws.append(jnp.array(mf.grids.weights))\n",
    "ts.append(jnp.array(mf.mol.intor('int1e_kin')))\n",
    "vs.append(jnp.array(mf.mol.intor('int1e_nuc')))\n",
    "mo_occs.append(jnp.array(mf.mo_occ))\n",
    "hcs.append(jnp.array(mf.get_hcore()))\n",
    "eris.append(jnp.array(mf.mol.intor('int2e')))\n",
    "ss.append(jnp.linalg.inv(jnp.linalg.cholesky(mf.mol.intor('int1e_ovlp'))))\n",
    "hologaps.append(jnp.array(mf.mo_energy[mf.mo_occ == 0][0] - mf.mo_energy[mf.mo_occ > 1][-1]))"
   ]
  },
  {
   "cell_type": "code",
   "execution_count": null,
   "id": "9ee614a8-f3cf-43c4-8a65-923146f639d9",
   "metadata": {},
   "outputs": [],
   "source": [
    "class Band_gap_1shot_loss(eqx.Module):\n",
    "    def __init__(self):\n",
    "        super().__init__()\n",
    "\n",
    "    def __call__(self, model, ao_eval, gw, dm, eri, mo_occ, hc, s, ogd, refgap, mf, alpha0=0.7):\n",
    "        vgf = lambda x: model(x, ao_eval, gw, mf)\n",
    "        dmp, moep, mocp = xce.utils.get_dm_moe(dm, eri, vgf, mo_occ, hc, s, ogd, alpha0)\n",
    "        \n",
    "        efermi = moep[mf.mol.nelectron//2-1]\n",
    "        moep -= efermi\n",
    "        # print(moep)\n",
    "        moep_gap = jnp.min(moep)\n",
    "        # print(moep_gap)\n",
    "        loss = jnp.sqrt( (moep_gap - refgap)**2)\n",
    "        # print(loss)\n",
    "        return jnp.sqrt( (moep_gap - refgap)**2)\n"
   ]
  },
  {
   "cell_type": "code",
   "execution_count": null,
   "id": "d99c82dc-8778-4077-bf32-ff6884cac7a6",
   "metadata": {},
   "outputs": [],
   "source": [
    "xce.net.eX?"
   ]
  },
  {
   "cell_type": "code",
   "execution_count": null,
   "id": "525188e3-545a-4232-952e-5f75f437b858",
   "metadata": {},
   "outputs": [],
   "source": [
    "#update docs, only input =2 ??? for MGGA? holdover from sebastian for some reason\n",
    "xnet = xce.net.eX(n_input = 2, n_hidden=32, depth=4, use = [1, 2], ueg_limit=True, lob=1.174)\n",
    "# I guess use default LOB\n",
    "cnet = xce.net.eC(n_input = 4, n_hidden=32, depth=4, use = [2, 3], ueg_limit=True)\n",
    "blankxc = xce.xc.eXC(grid_models = [xnet, cnet], level=3)\n",
    "p = '/home/awills/Documents/Research/xcquinox/models/pretrained/scan'\n",
    "# xc = eqx.tree_deserialise_leaves(os.path.join(p, 'xc.eqx'), blankxc)\n",
    "xc = blankxc\n",
    "nlxnet = xce.net.eX(n_input = 15, use = [], ueg_limit=True, lob=1.174)\n",
    "nlcnet = xce.net.eC(n_input = 13, use = [], ueg_limit=True)\n",
    "\n",
    "nlxc = xce.xc.eXC(grid_models = [nlxnet, nlcnet], level=4)"
   ]
  },
  {
   "cell_type": "code",
   "execution_count": null,
   "id": "26b14320-3b22-4ad8-aec2-404fd97acfb1",
   "metadata": {},
   "outputs": [],
   "source": [
    "\n",
    "xc(dms[0], ao_evals[0], gws[0])"
   ]
  },
  {
   "cell_type": "code",
   "execution_count": null,
   "id": "e03609d2-627a-44e4-a557-ed12c4f4d975",
   "metadata": {},
   "outputs": [],
   "source": [
    "class Band_gap_janak_loss(eqx.Module):\n",
    "    def __init__(self):\n",
    "        \"\"\"\n",
    "        Initializer for the loss module, which attempts to find loss bang gaps w.r.t. reference\n",
    "\n",
    "        .. todo: Make more robust for non-local descriptors\n",
    "        \"\"\"\n",
    "        super().__init__()\n",
    "\n",
    "    def __call__(self, model, ao_eval, gw, dm, eri, mo_occ, hc, s, ogd, refgap, mf, alpha0=0.7):\n",
    "        \"\"\"\n",
    "        Forward pass for loss object\n",
    "\n",
    "        NOTE: This differs from HoLu loss in that it selects the deepest minimum w.r.t. the LUMO (Fermi energy)\n",
    "\n",
    "        :param model: The model that will be used in generating the molecular orbital energies ('band' energies)\n",
    "        :type model: xcquinox.xc.eXC\n",
    "        :param ao_eval: The atomic orbitals evaluated on the grid for the given molecule\n",
    "        :type ao_eval: jax.Array\n",
    "        :param gw: The grid weights associated to the current molecule's grids\n",
    "        :type gw: jax.Array\n",
    "        :param dm: Input reference density matrix for use during the one-shot forward pass to generate the new DM\n",
    "        :type dm: jax.Array\n",
    "        :param eri: Electron repulsion integrals associated with this molecule\n",
    "        :type eri: jax.Array\n",
    "        :param mo_occ: The molecule's molecular orbital occupation numbers\n",
    "        :type mo_occ: jax.Array\n",
    "        :param hc: The molecule's core Hamiltonian\n",
    "        :type hc: jax.Array\n",
    "        :param s: The molecule's overlap matrix\n",
    "        :type s: jax.Array\n",
    "        :param ogd: The original dimensions of this molecule's density matrix, used if padded to constrict the eigendecomposition to a relevant shape\n",
    "        :type ogd: jax.Array\n",
    "        :param refgap: The reference gap to optimzie against\n",
    "        :type refgap: jax.Array\n",
    "        :param mf: A pyscf(ad) converged calculation kernel if self.level > 3, used for building the CIDER nonlocal descriptors, defaults to None\n",
    "        :type mf: pyscfad.dft.RKS kernel\n",
    "        :param alpha0: The mixing parameter for the one-shot density matrix generation, defaults to 0.7\n",
    "        :type alpha0: float, optional\n",
    "        :return: Root-squared error between predicted gap (minimum of molecular energies) and the reference\n",
    "        :rtype: jax.Array\n",
    "        \"\"\"\n",
    "        def janak_theorem_deriv(model, ao_eval, gw, dm, eri, hc, s, ogd, alpha0=0.7):\n",
    "            def ret_func(mo_occ):\n",
    "                vgf = lambda x: model(x, ao_eval, gw)\n",
    "                dmp, moep, mocp = xce.utils.get_dm_moe(dm, eri, vgf, mo_occ, hc, s, ogd, alpha0=alpha0)\n",
    "                return model(dmp, ao_eval, gw)\n",
    "        \n",
    "            return ret_func\n",
    "\n",
    "        janak_f = janak_theorem_deriv(model, ao_eval, gw, dm, eri, hc, s, ogd, alpha0)\n",
    "        homo_i = jnp.max(jnp.nonzero(mo_occ, size=dm.shape[0])[0])\n",
    "\n",
    "        e, derivs = eqx.filter_value_and_grad(janak_f)(mo_occ)\n",
    "\n",
    "        pred_diff = derivs[homo_i+1] - derivs[homo_i]\n",
    "        \n",
    "        loss = jnp.sqrt( (pred_diff - refgap)**2)\n",
    "        # print(loss)\n",
    "        return loss\n"
   ]
  },
  {
   "cell_type": "code",
   "execution_count": null,
   "id": "795c57ee-66d4-4557-aa44-ca0981accff4",
   "metadata": {
    "jupyter": {
     "source_hidden": true
    }
   },
   "outputs": [],
   "source": [
    "def janak_theorem_deriv(model, ao_eval, gw, dm, eri, moocc, hc, s, ogd, alpha0=0.7):\n",
    "    def ret_func(mo_occ):\n",
    "        vgf = lambda x: model(x, ao_eval, gw)\n",
    "        dmp, moep, mocp = xce.utils.get_dm_moe(dm, eri, vgf, mo_occ, hc, s, ogd, alpha0=alpha0)\n",
    "        return model(dmp, ao_eval, gw)\n",
    "\n",
    "    return ret_func\n",
    "    \n",
    "    \n",
    "    "
   ]
  },
  {
   "cell_type": "code",
   "execution_count": null,
   "id": "c3bad744-e256-4c43-ad2a-519b91ebbc8c",
   "metadata": {
    "jupyter": {
     "source_hidden": true
    }
   },
   "outputs": [],
   "source": [
    "checkd = janak_theorem_deriv(xc, ao_evals[0], gws[0], dms[0], eris[0], mo_occs[0], hcs[0], ss[0], ogds[0], alpha0=0.7)\n",
    "eqx.filter_value_and_grad(checkd)(mo_occs[0])"
   ]
  },
  {
   "cell_type": "code",
   "execution_count": null,
   "id": "19a7f2d2-f1a7-40b5-93c4-03c08fabe50f",
   "metadata": {
    "scrolled": true
   },
   "outputs": [],
   "source": [
    "xct = xce.train.xcTrainer(model=xc, optim=optax.adamw(1e-2), steps=100, loss = Band_gap_janak_loss(), do_jit=True)\n",
    "newm = xct(1, xct.model, ao_evals, gws, dms, eris, mo_occs, hcs, ss, ogds, [1.17], mfs)"
   ]
  },
  {
   "cell_type": "code",
   "execution_count": null,
   "id": "02b686df-339e-4fb9-87f1-d19445dd2623",
   "metadata": {},
   "outputs": [],
   "source": []
  },
  {
   "cell_type": "code",
   "execution_count": null,
   "id": "300d85a6-ba1d-4455-843b-addd058f9950",
   "metadata": {},
   "outputs": [],
   "source": [
    "e1 = nlxc(dms[0], ao_evals[0], gws[0], mfs[0])\n",
    "e2 = newm(dms[0], ao_evals[0], gws[0], mfs[0])"
   ]
  },
  {
   "cell_type": "code",
   "execution_count": null,
   "id": "004a6b9c-a40d-4f0d-9aef-b0777f3605cc",
   "metadata": {},
   "outputs": [],
   "source": [
    "e1, e2"
   ]
  },
  {
   "cell_type": "code",
   "execution_count": null,
   "id": "185de39c-36fb-45fc-978a-07d512447734",
   "metadata": {},
   "outputs": [],
   "source": [
    "vgf1 = lambda x: xc(x, ao_evals[0], gws[0], mfs[0])\n",
    "vgf2 = lambda x: newm(x, ao_evals[0], gws[0], mfs[0])\n",
    "dm1, moe1, moc1 = xce.utils.get_dm_moe(dms[0], eris[0], vgf1, mo_occs[0], hcs[0], ss[0], ogds[0])\n",
    "dm2, moe2, moc2 = xce.utils.get_dm_moe(dms[0], eris[0], vgf2, mo_occs[0], hcs[0], ss[0], ogds[0])"
   ]
  },
  {
   "cell_type": "code",
   "execution_count": null,
   "id": "35f21fe1-62b4-47e4-85dc-f8e05e4e1e04",
   "metadata": {},
   "outputs": [],
   "source": [
    "print(moe1 - moe1[mf.mol.nelectron//2-1])\n",
    "print(moe2 - moe2[mf.mol.nelectron//2-1])"
   ]
  },
  {
   "cell_type": "code",
   "execution_count": null,
   "id": "1b1657c3-a5ca-49eb-858f-e16406ef6f68",
   "metadata": {},
   "outputs": [],
   "source": []
  },
  {
   "cell_type": "code",
   "execution_count": null,
   "id": "b64e0ab1-0990-44d5-a2ba-e3934e6f6974",
   "metadata": {},
   "outputs": [],
   "source": [
    "mf.mo_energy"
   ]
  },
  {
   "cell_type": "code",
   "execution_count": null,
   "id": "f2895974-966a-48ad-a316-aa7d8a00c067",
   "metadata": {},
   "outputs": [],
   "source": [
    "# vbmax = -99\n",
    "for en in b1[0]:\n",
    "    vb_k = en[cell.nelectron//2-1]\n",
    "    print('This vb_k', vb_k)\n",
    "    if vb_k > vbmax:\n",
    "        vbmax = vb_k\n",
    "e_kn = [en - vbmax for en in b1[0]]"
   ]
  },
  {
   "cell_type": "code",
   "execution_count": null,
   "id": "60a2bcc2-db28-48ef-84d9-cfc0350a003f",
   "metadata": {},
   "outputs": [],
   "source": [
    "e_kn"
   ]
  },
  {
   "cell_type": "code",
   "execution_count": null,
   "id": "9adec472-b1bc-4216-bbf4-de7bac8e738a",
   "metadata": {},
   "outputs": [],
   "source": [
    "mf2 = scfp.RHF(cell)\n",
    "e2 = mf2.kernel()"
   ]
  },
  {
   "cell_type": "code",
   "execution_count": null,
   "id": "75291bcf-b6a5-4a3f-8da6-f00f6f51d040",
   "metadata": {},
   "outputs": [],
   "source": []
  },
  {
   "cell_type": "code",
   "execution_count": null,
   "id": "f49f1729-208c-4e4a-ab20-0431456d85ad",
   "metadata": {},
   "outputs": [],
   "source": [
    "cell.nelectron//2-1"
   ]
  },
  {
   "cell_type": "code",
   "execution_count": null,
   "id": "0bdd8d73-5137-4baa-a176-80264f36fa20",
   "metadata": {},
   "outputs": [],
   "source": [
    "t1 = mf2.mo_energy \n",
    "t2 = mf2.mo_energy - mf2.mo_energy[cell.nelectron//2-1]"
   ]
  },
  {
   "cell_type": "code",
   "execution_count": null,
   "id": "e4101712-1117-4e90-94f5-bae263871d16",
   "metadata": {},
   "outputs": [],
   "source": [
    "t2[jnp.where(abs(t2[jnp.where( (t2 < 0) )[0]]) > 1e-4)[0]]"
   ]
  },
  {
   "cell_type": "code",
   "execution_count": null,
   "id": "f899b451-3656-4c75-a45e-0a20df32cbdf",
   "metadata": {},
   "outputs": [],
   "source": [
    "dm2 = mf2.make_rdm1()"
   ]
  },
  {
   "cell_type": "code",
   "execution_count": null,
   "id": "caa69796-1850-4df4-b3de-d1bfef5d5c43",
   "metadata": {},
   "outputs": [],
   "source": [
    "dmk = mf.make_rdm1()"
   ]
  },
  {
   "cell_type": "code",
   "execution_count": null,
   "id": "eac9677c-fe3b-425f-8eb9-2155743e80a2",
   "metadata": {},
   "outputs": [],
   "source": [
    "mpr = MPRester(api_key = '')\n",
    "mpid = 'mp-149'\n",
    "# ret = mpr.get_bandstructure_by_material_id(mpid)\n",
    "# rets = ret.structure.as_dict()\n",
    "ret = mpr.get_structure_by_material_id(mpid, conventional_unit_cell=False)\n",
    "rets = ret.as_dict()\n",
    "at_coor_xyz = [ (i['species'][0]['element'], [-j for j in i['xyz']]) for i in rets['sites']]\n",
    "at_coor_abc = [ (i['species'][0]['element'], [rets['lattice']['a']*j for j in i['abc']]) for i in rets['sites']]\n",
    "cella = -np.asarray(rets['lattice']['matrix'])"
   ]
  },
  {
   "cell_type": "code",
   "execution_count": null,
   "id": "a103cd73-3c48-4bf5-b8e7-36b0b3d6bd3c",
   "metadata": {},
   "outputs": [],
   "source": [
    "at_coor_xyz, cella"
   ]
  },
  {
   "cell_type": "code",
   "execution_count": null,
   "id": "9e8baf39-03fb-4817-a6a5-951620b7c4e5",
   "metadata": {},
   "outputs": [],
   "source": [
    "cell = gtop.Cell()\n",
    "cell.atom = at_coor_xyz\n",
    "cell.a = cella.T\n",
    "cell.basis = 'gth-szv'\n",
    "cell.pseudo = 'gth-pade'\n",
    "cell.exp_to_discard = 0.1\n",
    "cell.build()\n",
    "kpts = cell.make_kpts([2,2,2])\n",
    "mf = scfp.KRHF(cell, kpts=kpts)\n",
    "e = mf.kernel()"
   ]
  },
  {
   "cell_type": "code",
   "execution_count": null,
   "id": "78d30c1e-faf2-4dc6-bd4a-752a85c279a8",
   "metadata": {},
   "outputs": [],
   "source": [
    "cella"
   ]
  },
  {
   "cell_type": "code",
   "execution_count": null,
   "id": "0b246125-bf10-4a2f-9efa-359adf7bf76b",
   "metadata": {},
   "outputs": [],
   "source": []
  }
 ],
 "metadata": {
  "kernelspec": {
   "display_name": "Python 3 (ipykernel)",
   "language": "python",
   "name": "python3"
  },
  "language_info": {
   "codemirror_mode": {
    "name": "ipython",
    "version": 3
   },
   "file_extension": ".py",
   "mimetype": "text/x-python",
   "name": "python",
   "nbconvert_exporter": "python",
   "pygments_lexer": "ipython3",
   "version": "3.10.0"
  }
 },
 "nbformat": 4,
 "nbformat_minor": 5
}
