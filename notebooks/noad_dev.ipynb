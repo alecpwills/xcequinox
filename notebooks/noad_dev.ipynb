{
 "cells": [
  {
   "cell_type": "code",
   "execution_count": 59,
   "id": "146c3044-6873-446f-bdb0-e2086b11b138",
   "metadata": {},
   "outputs": [],
   "source": [
    "from ase import Atoms\n",
    "from ase.io import read, write\n",
    "import xcquinox as xce\n",
    "import torch, jax, optax\n",
    "import numpy as np\n",
    "import equinox as eqx\n",
    "import jax.numpy as jnp\n",
    "import pyscfad as psa\n",
    "import os, sys, pickle\n",
    "from pyscf import dft, scf, gto, df\n",
    "from pyscf.pbc import scf as scfp\n",
    "from pyscf.pbc import gto as gtop\n",
    "from pyscf.pbc import dft as dftp\n",
    "# from pyscfad.pbc import scf as scfp\n",
    "# from pyscfad.pbc import gto as gtop\n",
    "# from pyscfad.pbc import dft as dftp\n",
    "os.environ['XLA_PYTHON_CLIENT_PREALLOCATE']='false'\n",
    "os.environ['XLA_PYTHON_CLIENT_ALLOCATOR'] = 'platform'\n",
    "import pandas as pd\n",
    "from mp_api.client import MPRester\n",
    "from mldftdat.density import get_exchange_descriptors2\n",
    "from mldftdat.analyzers import RKSAnalyzer\n",
    "from emmet.core.summary import HasProps\n",
    "from ase.build import bulk\n",
    "from pymatgen.io.ase import AseAtomsAdaptor"
   ]
  },
  {
   "cell_type": "code",
   "execution_count": 61,
   "id": "6fed5f85-b457-4fc9-885f-e11f8246f5eb",
   "metadata": {},
   "outputs": [
    {
     "data": {
      "text/plain": [
       "\u001b[0;31mSignature:\u001b[0m \u001b[0mgtop\u001b[0m\u001b[0;34m.\u001b[0m\u001b[0mM\u001b[0m\u001b[0;34m(\u001b[0m\u001b[0;34m**\u001b[0m\u001b[0mkwargs\u001b[0m\u001b[0;34m)\u001b[0m\u001b[0;34m\u001b[0m\u001b[0;34m\u001b[0m\u001b[0m\n",
       "\u001b[0;31mDocstring:\u001b[0m\n",
       "This is a shortcut to build up Cell object.\n",
       "\n",
       "Examples:\n",
       "\n",
       ">>> from pyscf.pbc import gto\n",
       ">>> cell = gto.M(a=numpy.eye(3)*4, atom='He 1 1 1', basis='6-31g')\n",
       "\u001b[0;31mFile:\u001b[0m      ~/anaconda3/envs/pyscfad/lib/python3.10/site-packages/pyscf/pbc/gto/cell.py\n",
       "\u001b[0;31mType:\u001b[0m      function"
      ]
     },
     "metadata": {},
     "output_type": "display_data"
    }
   ],
   "source": [
    "gtop.M?"
   ]
  },
  {
   "cell_type": "code",
   "execution_count": 3,
   "id": "465ca437-0d09-4463-9dba-491d73a30e13",
   "metadata": {},
   "outputs": [],
   "source": [
    "borlido = pd.read_excel('/home/awills/Documents/Research/datasets/borlido2019/gg_direct_gaps.xlsx')"
   ]
  },
  {
   "cell_type": "code",
   "execution_count": 4,
   "id": "f6f40060-09d9-4e59-a1ac-a18c664e17e7",
   "metadata": {},
   "outputs": [
    {
     "data": {
      "text/html": [
       "<div>\n",
       "<style scoped>\n",
       "    .dataframe tbody tr th:only-of-type {\n",
       "        vertical-align: middle;\n",
       "    }\n",
       "\n",
       "    .dataframe tbody tr th {\n",
       "        vertical-align: top;\n",
       "    }\n",
       "\n",
       "    .dataframe thead th {\n",
       "        text-align: right;\n",
       "    }\n",
       "</style>\n",
       "<table border=\"1\" class=\"dataframe\">\n",
       "  <thead>\n",
       "    <tr style=\"text-align: right;\">\n",
       "      <th></th>\n",
       "      <th>Unnamed: 0</th>\n",
       "      <th>Material</th>\n",
       "      <th>MP_ID</th>\n",
       "      <th>ICSD_ID</th>\n",
       "      <th>LDA</th>\n",
       "      <th>LDA + SOC</th>\n",
       "      <th>PBE</th>\n",
       "      <th>PBE + SOC</th>\n",
       "      <th>PBE_SOL</th>\n",
       "      <th>HLE16</th>\n",
       "      <th>...</th>\n",
       "      <th>BJ</th>\n",
       "      <th>MBJ</th>\n",
       "      <th>SCAN</th>\n",
       "      <th>HSE06</th>\n",
       "      <th>HSE14</th>\n",
       "      <th>HSE06_mix</th>\n",
       "      <th>PBE0</th>\n",
       "      <th>PBE0_mix</th>\n",
       "      <th>Experimental</th>\n",
       "      <th>DOI for the experimental references (missing entries refer to values as provided by 10.1007/978-3-642-18865-7, Semiconductors: Data Handbook, Otfried Madelung, Springer-Verlag Berlin Heidelberg, 2004)</th>\n",
       "    </tr>\n",
       "  </thead>\n",
       "  <tbody>\n",
       "    <tr>\n",
       "      <th>0</th>\n",
       "      <td>3</td>\n",
       "      <td>Ag2MoO4</td>\n",
       "      <td>mp-19318</td>\n",
       "      <td>238013</td>\n",
       "      <td>2.0985</td>\n",
       "      <td>2.0183</td>\n",
       "      <td>2.2497</td>\n",
       "      <td>2.1712</td>\n",
       "      <td>2.1260</td>\n",
       "      <td>4.1954</td>\n",
       "      <td>...</td>\n",
       "      <td>2.9429</td>\n",
       "      <td>3.9113</td>\n",
       "      <td>2.6264</td>\n",
       "      <td>3.9265</td>\n",
       "      <td>4.6616</td>\n",
       "      <td>5.3773</td>\n",
       "      <td>4.6367</td>\n",
       "      <td>6.0903</td>\n",
       "      <td>3.4000</td>\n",
       "      <td>10.1039/C5TA05248C</td>\n",
       "    </tr>\n",
       "    <tr>\n",
       "      <th>1</th>\n",
       "      <td>12</td>\n",
       "      <td>AgAlS2</td>\n",
       "      <td>mp-5782</td>\n",
       "      <td>604692</td>\n",
       "      <td>1.9100</td>\n",
       "      <td>1.8964</td>\n",
       "      <td>2.1233</td>\n",
       "      <td>2.1073</td>\n",
       "      <td>2.0006</td>\n",
       "      <td>3.6409</td>\n",
       "      <td>...</td>\n",
       "      <td>2.6005</td>\n",
       "      <td>3.1894</td>\n",
       "      <td>2.5863</td>\n",
       "      <td>3.3278</td>\n",
       "      <td>3.6784</td>\n",
       "      <td>3.6794</td>\n",
       "      <td>3.8922</td>\n",
       "      <td>3.7563</td>\n",
       "      <td>3.1300</td>\n",
       "      <td>10.1088/0022-3727/4/8/319</td>\n",
       "    </tr>\n",
       "    <tr>\n",
       "      <th>2</th>\n",
       "      <td>13</td>\n",
       "      <td>AgAlSe2</td>\n",
       "      <td>mp-14091</td>\n",
       "      <td>604704</td>\n",
       "      <td>0.8204</td>\n",
       "      <td>0.7886</td>\n",
       "      <td>1.0503</td>\n",
       "      <td>1.0190</td>\n",
       "      <td>0.9402</td>\n",
       "      <td>2.1914</td>\n",
       "      <td>...</td>\n",
       "      <td>1.4828</td>\n",
       "      <td>2.0714</td>\n",
       "      <td>1.4602</td>\n",
       "      <td>2.0664</td>\n",
       "      <td>2.3968</td>\n",
       "      <td>2.2946</td>\n",
       "      <td>2.4568</td>\n",
       "      <td>2.3324</td>\n",
       "      <td>2.5500</td>\n",
       "      <td>10.1088/0022-3727/4/8/319</td>\n",
       "    </tr>\n",
       "    <tr>\n",
       "      <th>3</th>\n",
       "      <td>14</td>\n",
       "      <td>AgAlTe2</td>\n",
       "      <td>mp-14092</td>\n",
       "      <td>28746</td>\n",
       "      <td>0.9898</td>\n",
       "      <td>0.8251</td>\n",
       "      <td>1.1699</td>\n",
       "      <td>1.0092</td>\n",
       "      <td>1.0847</td>\n",
       "      <td>1.8419</td>\n",
       "      <td>...</td>\n",
       "      <td>1.4958</td>\n",
       "      <td>1.9638</td>\n",
       "      <td>1.4711</td>\n",
       "      <td>2.0440</td>\n",
       "      <td>2.2627</td>\n",
       "      <td>2.1838</td>\n",
       "      <td>2.6443</td>\n",
       "      <td>2.2097</td>\n",
       "      <td>2.3500</td>\n",
       "      <td>10.1103/PhysRevB.9.5203</td>\n",
       "    </tr>\n",
       "    <tr>\n",
       "      <th>4</th>\n",
       "      <td>20</td>\n",
       "      <td>AgGaS2</td>\n",
       "      <td>mp-5342</td>\n",
       "      <td>605187</td>\n",
       "      <td>1.0165</td>\n",
       "      <td>1.0083</td>\n",
       "      <td>1.2432</td>\n",
       "      <td>1.2304</td>\n",
       "      <td>1.1288</td>\n",
       "      <td>2.5881</td>\n",
       "      <td>...</td>\n",
       "      <td>1.7559</td>\n",
       "      <td>2.5022</td>\n",
       "      <td>1.6440</td>\n",
       "      <td>2.4202</td>\n",
       "      <td>2.8348</td>\n",
       "      <td>2.8872</td>\n",
       "      <td>2.9515</td>\n",
       "      <td>3.0952</td>\n",
       "      <td>2.7140</td>\n",
       "      <td>10.1103/PhysRevB.4.4455</td>\n",
       "    </tr>\n",
       "    <tr>\n",
       "      <th>...</th>\n",
       "      <td>...</td>\n",
       "      <td>...</td>\n",
       "      <td>...</td>\n",
       "      <td>...</td>\n",
       "      <td>...</td>\n",
       "      <td>...</td>\n",
       "      <td>...</td>\n",
       "      <td>...</td>\n",
       "      <td>...</td>\n",
       "      <td>...</td>\n",
       "      <td>...</td>\n",
       "      <td>...</td>\n",
       "      <td>...</td>\n",
       "      <td>...</td>\n",
       "      <td>...</td>\n",
       "      <td>...</td>\n",
       "      <td>...</td>\n",
       "      <td>...</td>\n",
       "      <td>...</td>\n",
       "      <td>...</td>\n",
       "      <td>...</td>\n",
       "    </tr>\n",
       "    <tr>\n",
       "      <th>129</th>\n",
       "      <td>464</td>\n",
       "      <td>ZnSe</td>\n",
       "      <td>mp-1190</td>\n",
       "      <td>77091</td>\n",
       "      <td>1.0489</td>\n",
       "      <td>0.9191</td>\n",
       "      <td>1.3076</td>\n",
       "      <td>1.1817</td>\n",
       "      <td>1.1876</td>\n",
       "      <td>2.6323</td>\n",
       "      <td>...</td>\n",
       "      <td>1.8166</td>\n",
       "      <td>2.6973</td>\n",
       "      <td>1.7126</td>\n",
       "      <td>2.4218</td>\n",
       "      <td>2.8588</td>\n",
       "      <td>2.7623</td>\n",
       "      <td>3.0423</td>\n",
       "      <td>2.9850</td>\n",
       "      <td>2.8222</td>\n",
       "      <td>NaN</td>\n",
       "    </tr>\n",
       "    <tr>\n",
       "      <th>130</th>\n",
       "      <td>465</td>\n",
       "      <td>ZnSiAs2</td>\n",
       "      <td>mp-3595</td>\n",
       "      <td>68323</td>\n",
       "      <td>1.0431</td>\n",
       "      <td>0.9825</td>\n",
       "      <td>1.1391</td>\n",
       "      <td>1.0791</td>\n",
       "      <td>1.0387</td>\n",
       "      <td>1.4475</td>\n",
       "      <td>...</td>\n",
       "      <td>1.4644</td>\n",
       "      <td>1.7512</td>\n",
       "      <td>1.3640</td>\n",
       "      <td>1.7498</td>\n",
       "      <td>1.7668</td>\n",
       "      <td>1.8272</td>\n",
       "      <td>2.3720</td>\n",
       "      <td>1.9801</td>\n",
       "      <td>1.9300</td>\n",
       "      <td>NaN</td>\n",
       "    </tr>\n",
       "    <tr>\n",
       "      <th>131</th>\n",
       "      <td>466</td>\n",
       "      <td>ZnSiP2</td>\n",
       "      <td>mp-4763</td>\n",
       "      <td>23680</td>\n",
       "      <td>1.1770</td>\n",
       "      <td>1.1726</td>\n",
       "      <td>1.3004</td>\n",
       "      <td>1.2949</td>\n",
       "      <td>1.1787</td>\n",
       "      <td>2.3236</td>\n",
       "      <td>...</td>\n",
       "      <td>1.5554</td>\n",
       "      <td>1.9131</td>\n",
       "      <td>1.5423</td>\n",
       "      <td>1.9822</td>\n",
       "      <td>2.0170</td>\n",
       "      <td>2.0758</td>\n",
       "      <td>2.5910</td>\n",
       "      <td>2.1567</td>\n",
       "      <td>2.0000</td>\n",
       "      <td>NaN</td>\n",
       "    </tr>\n",
       "    <tr>\n",
       "      <th>132</th>\n",
       "      <td>468</td>\n",
       "      <td>ZnSnO3</td>\n",
       "      <td>mp-13334</td>\n",
       "      <td>245943</td>\n",
       "      <td>1.5268</td>\n",
       "      <td>1.5169</td>\n",
       "      <td>1.6087</td>\n",
       "      <td>1.5944</td>\n",
       "      <td>1.5224</td>\n",
       "      <td>2.5159</td>\n",
       "      <td>...</td>\n",
       "      <td>2.3269</td>\n",
       "      <td>3.2248</td>\n",
       "      <td>2.1172</td>\n",
       "      <td>3.3615</td>\n",
       "      <td>4.3674</td>\n",
       "      <td>4.9717</td>\n",
       "      <td>3.8854</td>\n",
       "      <td>5.6142</td>\n",
       "      <td>3.9000</td>\n",
       "      <td>10.1039/B921010E</td>\n",
       "    </tr>\n",
       "    <tr>\n",
       "      <th>133</th>\n",
       "      <td>469</td>\n",
       "      <td>ZnSnP2</td>\n",
       "      <td>mp-4175</td>\n",
       "      <td>22179</td>\n",
       "      <td>0.7941</td>\n",
       "      <td>0.7724</td>\n",
       "      <td>0.9855</td>\n",
       "      <td>0.9623</td>\n",
       "      <td>0.9043</td>\n",
       "      <td>1.5276</td>\n",
       "      <td>...</td>\n",
       "      <td>1.2473</td>\n",
       "      <td>1.8497</td>\n",
       "      <td>1.2720</td>\n",
       "      <td>1.8740</td>\n",
       "      <td>2.1103</td>\n",
       "      <td>2.0820</td>\n",
       "      <td>2.4918</td>\n",
       "      <td>2.1990</td>\n",
       "      <td>1.6830</td>\n",
       "      <td>10.1063/1.3442917</td>\n",
       "    </tr>\n",
       "  </tbody>\n",
       "</table>\n",
       "<p>134 rows × 21 columns</p>\n",
       "</div>"
      ],
      "text/plain": [
       "     Unnamed: 0 Material     MP_ID  ICSD_ID     LDA  LDA + SOC     PBE  \\\n",
       "0             3  Ag2MoO4  mp-19318   238013  2.0985     2.0183  2.2497   \n",
       "1            12   AgAlS2   mp-5782   604692  1.9100     1.8964  2.1233   \n",
       "2            13  AgAlSe2  mp-14091   604704  0.8204     0.7886  1.0503   \n",
       "3            14  AgAlTe2  mp-14092    28746  0.9898     0.8251  1.1699   \n",
       "4            20   AgGaS2   mp-5342   605187  1.0165     1.0083  1.2432   \n",
       "..          ...      ...       ...      ...     ...        ...     ...   \n",
       "129         464     ZnSe   mp-1190    77091  1.0489     0.9191  1.3076   \n",
       "130         465  ZnSiAs2   mp-3595    68323  1.0431     0.9825  1.1391   \n",
       "131         466   ZnSiP2   mp-4763    23680  1.1770     1.1726  1.3004   \n",
       "132         468   ZnSnO3  mp-13334   245943  1.5268     1.5169  1.6087   \n",
       "133         469   ZnSnP2   mp-4175    22179  0.7941     0.7724  0.9855   \n",
       "\n",
       "     PBE + SOC  PBE_SOL   HLE16  ...      BJ     MBJ    SCAN   HSE06   HSE14  \\\n",
       "0       2.1712   2.1260  4.1954  ...  2.9429  3.9113  2.6264  3.9265  4.6616   \n",
       "1       2.1073   2.0006  3.6409  ...  2.6005  3.1894  2.5863  3.3278  3.6784   \n",
       "2       1.0190   0.9402  2.1914  ...  1.4828  2.0714  1.4602  2.0664  2.3968   \n",
       "3       1.0092   1.0847  1.8419  ...  1.4958  1.9638  1.4711  2.0440  2.2627   \n",
       "4       1.2304   1.1288  2.5881  ...  1.7559  2.5022  1.6440  2.4202  2.8348   \n",
       "..         ...      ...     ...  ...     ...     ...     ...     ...     ...   \n",
       "129     1.1817   1.1876  2.6323  ...  1.8166  2.6973  1.7126  2.4218  2.8588   \n",
       "130     1.0791   1.0387  1.4475  ...  1.4644  1.7512  1.3640  1.7498  1.7668   \n",
       "131     1.2949   1.1787  2.3236  ...  1.5554  1.9131  1.5423  1.9822  2.0170   \n",
       "132     1.5944   1.5224  2.5159  ...  2.3269  3.2248  2.1172  3.3615  4.3674   \n",
       "133     0.9623   0.9043  1.5276  ...  1.2473  1.8497  1.2720  1.8740  2.1103   \n",
       "\n",
       "     HSE06_mix    PBE0  PBE0_mix  Experimental  \\\n",
       "0       5.3773  4.6367    6.0903        3.4000   \n",
       "1       3.6794  3.8922    3.7563        3.1300   \n",
       "2       2.2946  2.4568    2.3324        2.5500   \n",
       "3       2.1838  2.6443    2.2097        2.3500   \n",
       "4       2.8872  2.9515    3.0952        2.7140   \n",
       "..         ...     ...       ...           ...   \n",
       "129     2.7623  3.0423    2.9850        2.8222   \n",
       "130     1.8272  2.3720    1.9801        1.9300   \n",
       "131     2.0758  2.5910    2.1567        2.0000   \n",
       "132     4.9717  3.8854    5.6142        3.9000   \n",
       "133     2.0820  2.4918    2.1990        1.6830   \n",
       "\n",
       "     DOI for the experimental references (missing entries refer to values as provided by 10.1007/978-3-642-18865-7, Semiconductors: Data Handbook, Otfried Madelung, Springer-Verlag Berlin Heidelberg, 2004)  \n",
       "0                                   10.1039/C5TA05248C                                                                                                                                                         \n",
       "1                            10.1088/0022-3727/4/8/319                                                                                                                                                         \n",
       "2                            10.1088/0022-3727/4/8/319                                                                                                                                                         \n",
       "3                              10.1103/PhysRevB.9.5203                                                                                                                                                         \n",
       "4                              10.1103/PhysRevB.4.4455                                                                                                                                                         \n",
       "..                                                 ...                                                                                                                                                         \n",
       "129                                                NaN                                                                                                                                                         \n",
       "130                                                NaN                                                                                                                                                         \n",
       "131                                                NaN                                                                                                                                                         \n",
       "132                                   10.1039/B921010E                                                                                                                                                         \n",
       "133                                  10.1063/1.3442917                                                                                                                                                         \n",
       "\n",
       "[134 rows x 21 columns]"
      ]
     },
     "execution_count": 4,
     "metadata": {},
     "output_type": "execute_result"
    }
   ],
   "source": [
    "borlido"
   ]
  },
  {
   "cell_type": "code",
   "execution_count": 6,
   "id": "ae54cfb5-c833-4221-822a-b2919466fc5f",
   "metadata": {},
   "outputs": [],
   "source": [
    "with open('/home/awills/Documents/Research/datasets/borlido2019/ggdirect.pkl', 'rb') as f:\n",
    "    bstruc_list = pickle.load(f)"
   ]
  },
  {
   "cell_type": "code",
   "execution_count": 8,
   "id": "6c7bde3e-9201-4b16-8cba-3651c61303d3",
   "metadata": {},
   "outputs": [],
   "source": [
    "smalls = [i for i in bstruc_list if len(i[-1].structure.as_dict()['sites']) <= 4]"
   ]
  },
  {
   "cell_type": "code",
   "execution_count": 30,
   "id": "3bc42c5f-4465-4470-b600-42ebb1ea6e52",
   "metadata": {},
   "outputs": [
    {
     "data": {
      "text/plain": [
       "(22,\n",
       " 'mp-22894',\n",
       " <pymatgen.electronic_structure.bandstructure.BandStructureSymmLine at 0x75cef14962c0>)"
      ]
     },
     "execution_count": 30,
     "metadata": {},
     "output_type": "execute_result"
    }
   ],
   "source": [
    "smalls[0]"
   ]
  },
  {
   "cell_type": "code",
   "execution_count": 11,
   "id": "386543a4-293c-4ac4-9022-026b7a2f019e",
   "metadata": {},
   "outputs": [],
   "source": [
    "smallids = [i[1] for i in smalls]"
   ]
  },
  {
   "cell_type": "code",
   "execution_count": 12,
   "id": "ebb906c4-9ccc-4a2e-b250-c3ad5b60da6a",
   "metadata": {},
   "outputs": [],
   "source": [
    "smalldf = borlido[borlido['MP_ID'].isin(smallids)]"
   ]
  },
  {
   "cell_type": "code",
   "execution_count": 37,
   "id": "3b72b75e-32fd-4cd2-9e5a-1d95b5f80a15",
   "metadata": {},
   "outputs": [],
   "source": [
    "traj = []\n",
    "for small in smalls:\n",
    "    datidx, mpid, bstruc = small\n",
    "    at = AseAtomsAdaptor.get_atoms(bstruc.structure)\n",
    "    at.info['borlido_idx'] = datidx\n",
    "    at.info['mp_id'] = mpid\n",
    "    at.info['reference'] = smalldf[smalldf['MP_ID']==mpid]['Experimental'].values[0]\n",
    "    traj.append(at)"
   ]
  },
  {
   "cell_type": "code",
   "execution_count": 38,
   "id": "5009de7d-66dd-4fe2-8e08-99e2e0d30d15",
   "metadata": {},
   "outputs": [
    {
     "data": {
      "text/plain": [
       "{'borlido_idx': 31, 'mp_id': 'mp-661', 'reference': 6.11}"
      ]
     },
     "execution_count": 38,
     "metadata": {},
     "output_type": "execute_result"
    }
   ],
   "source": [
    "traj[2].info"
   ]
  },
  {
   "cell_type": "code",
   "execution_count": 45,
   "id": "60226810-808c-4b71-b455-ad2610d0cb23",
   "metadata": {},
   "outputs": [],
   "source": [
    "tt = traj[2]"
   ]
  },
  {
   "cell_type": "code",
   "execution_count": 47,
   "id": "a0c26da2-57e6-476d-8a82-d5cc497b1973",
   "metadata": {},
   "outputs": [],
   "source": [
    "from pyscf.pbc.tools import pyscf_ase"
   ]
  },
  {
   "cell_type": "code",
   "execution_count": 52,
   "id": "798fb564-19d9-4863-b1b2-c77bdac88505",
   "metadata": {},
   "outputs": [
    {
     "data": {
      "text/plain": [
       "[['Al', array([-1.564023  ,  0.90322835, -2.50702574])],\n",
       " ['Al', array([-1.56402300e+00, -9.03228350e-01, -6.86736886e-04])],\n",
       " ['N', array([-1.564023  ,  0.90323919, -0.58930546])],\n",
       " ['N', array([-1.564023  , -0.90323919, -3.09564446])]]"
      ]
     },
     "execution_count": 52,
     "metadata": {},
     "output_type": "execute_result"
    }
   ],
   "source": [
    "pyscf_ase.ase_atoms_to_pyscf(tt)"
   ]
  },
  {
   "cell_type": "code",
   "execution_count": 41,
   "id": "313e6e08-6aef-4d92-8b5f-09571d7390df",
   "metadata": {},
   "outputs": [],
   "source": [
    "write('/home/awills/Documents/Research/datasets/borlido2019/smalls.traj', traj)"
   ]
  },
  {
   "cell_type": "code",
   "execution_count": 17,
   "id": "1260aba1-99bc-4917-bc48-a19f539b3977",
   "metadata": {},
   "outputs": [],
   "source": [
    "test = smalls[0][-1]"
   ]
  },
  {
   "cell_type": "code",
   "execution_count": 58,
   "id": "2df17a89-24ed-45a6-945e-0a4e4f861375",
   "metadata": {},
   "outputs": [
    {
     "data": {
      "text/plain": [
       "<module 'pyscfad.pbc.gto' from '/home/awills/anaconda3/envs/pyscfad/lib/python3.10/site-packages/pyscfad/pbc/gto/__init__.py'>"
      ]
     },
     "execution_count": 58,
     "metadata": {},
     "output_type": "execute_result"
    }
   ],
   "source": [
    "gtop"
   ]
  },
  {
   "cell_type": "code",
   "execution_count": 22,
   "id": "7e88562e-8762-4a59-9061-e027fd74e502",
   "metadata": {},
   "outputs": [
    {
     "data": {
      "text/plain": [
       "{'@module': 'pymatgen.core.lattice',\n",
       " '@class': 'Lattice',\n",
       " 'matrix': [[-1.3444316765507018, -0.7762705798519046, -0.0],\n",
       "  [-1.3444316765507018, 0.7762705798519046, -0.0],\n",
       "  [-0.0, 0.0, -0.8134402974930758]],\n",
       " 'pbc': (True, True, True)}"
      ]
     },
     "execution_count": 22,
     "metadata": {},
     "output_type": "execute_result"
    }
   ],
   "source": [
    "test.as_dict()['lattice_rec']"
   ]
  },
  {
   "cell_type": "code",
   "execution_count": 26,
   "id": "df4d17dc-191a-44bd-a352-c640be731a54",
   "metadata": {},
   "outputs": [],
   "source": [
    "at  = AseAtomsAdaptor.get_atoms(test.structure)"
   ]
  },
  {
   "cell_type": "code",
   "execution_count": 66,
   "id": "2e565b81-ad46-42ad-a02a-e68b337b3a9e",
   "metadata": {},
   "outputs": [
    {
     "ename": "NameError",
     "evalue": "name 'mol' is not defined",
     "output_type": "error",
     "traceback": [
      "\u001b[0;31m---------------------------------------------------------------------------\u001b[0m",
      "\u001b[0;31mNameError\u001b[0m                                 Traceback (most recent call last)",
      "Cell \u001b[0;32mIn[66], line 1\u001b[0m\n\u001b[0;32m----> 1\u001b[0m \u001b[43mmol\u001b[49m\u001b[38;5;241m.\u001b[39mpbc\n",
      "\u001b[0;31mNameError\u001b[0m: name 'mol' is not defined"
     ]
    }
   ],
   "source": [
    "mol.pbc"
   ]
  },
  {
   "cell_type": "code",
   "execution_count": 69,
   "id": "dbc5a3f0-eec5-442b-b412-efe9fe80a287",
   "metadata": {},
   "outputs": [
    {
     "data": {
      "text/plain": [
       "0"
      ]
     },
     "execution_count": 69,
     "metadata": {},
     "output_type": "execute_result"
    }
   ],
   "source": [
    "gtop.Cell(a=np.array(at.cell), charge=0).spin"
   ]
  },
  {
   "cell_type": "code",
   "execution_count": 70,
   "id": "f8c4221b-2d1b-489b-b2b2-e900220a731b",
   "metadata": {},
   "outputs": [],
   "source": [
    "from pyscf.pbc import cc"
   ]
  },
  {
   "cell_type": "code",
   "execution_count": null,
   "id": "ddc22c0f-fb52-4efb-a2a1-b7de5148856c",
   "metadata": {},
   "outputs": [],
   "source": [
    "cc."
   ]
  },
  {
   "cell_type": "code",
   "execution_count": 3,
   "id": "7be9a975-6ea0-47c0-bdf0-aac33dabad69",
   "metadata": {},
   "outputs": [],
   "source": [
    "image = np.array([\n",
    "[[1, 2, 3], [4, 5, 6], [-1, 8, 9]],\n",
    "[[10, 11, 12], [13, 14, 15], [16, 17, 18]],\n",
    "[[19, 20, 21], [22, 23, 24], [25, 26, 27]]\n",
    "],\n",
    "dtype=np.float32)\n",
    "mask = np.array(\n",
    "[[1, 4, 7],\n",
    "[10, 4, 16],\n",
    "[19, 22, 255]],\n",
    "dtype=np.uint8)"
   ]
  },
  {
   "cell_type": "code",
   "execution_count": null,
   "id": "6f2db2db-3009-458a-a211-ebdc10874d2f",
   "metadata": {},
   "outputs": [],
   "source": []
  },
  {
   "cell_type": "code",
   "execution_count": 62,
   "id": "ea98dca1-4d2b-4c95-8507-74f229cd6487",
   "metadata": {
    "scrolled": true
   },
   "outputs": [
    {
     "data": {
      "application/vnd.jupyter.widget-view+json": {
       "model_id": "3584e715a3d745448cbd3d86a2ceba24",
       "version_major": 2,
       "version_minor": 0
      },
      "text/plain": [
       "Retrieving SummaryDoc documents:   0%|          | 0/102 [00:00<?, ?it/s]"
      ]
     },
     "metadata": {},
     "output_type": "display_data"
    },
    {
     "data": {
      "application/vnd.jupyter.widget-view+json": {
       "model_id": "9faad9aedd5043fca9655abc4aaa2826",
       "version_major": 2,
       "version_minor": 0
      },
      "text/plain": [
       "Retrieving ElectronicStructureDoc documents:   0%|          | 0/1 [00:00<?, ?it/s]"
      ]
     },
     "metadata": {},
     "output_type": "display_data"
    },
    {
     "data": {
      "application/vnd.jupyter.widget-view+json": {
       "model_id": "5c5ae480be9c43d8aa3892b91b7b1598",
       "version_major": 2,
       "version_minor": 0
      },
      "text/plain": [
       "Retrieving ElectronicStructureDoc documents:   0%|          | 0/1 [00:00<?, ?it/s]"
      ]
     },
     "metadata": {},
     "output_type": "display_data"
    },
    {
     "data": {
      "application/vnd.jupyter.widget-view+json": {
       "model_id": "9c9a065d52484f8e96d429b212a04127",
       "version_major": 2,
       "version_minor": 0
      },
      "text/plain": [
       "Retrieving ElectronicStructureDoc documents:   0%|          | 0/1 [00:00<?, ?it/s]"
      ]
     },
     "metadata": {},
     "output_type": "display_data"
    },
    {
     "data": {
      "application/vnd.jupyter.widget-view+json": {
       "model_id": "8074ba463bc14da1b49cf4dcd628fa04",
       "version_major": 2,
       "version_minor": 0
      },
      "text/plain": [
       "Retrieving ElectronicStructureDoc documents:   0%|          | 0/1 [00:00<?, ?it/s]"
      ]
     },
     "metadata": {},
     "output_type": "display_data"
    },
    {
     "data": {
      "application/vnd.jupyter.widget-view+json": {
       "model_id": "4c9b98fdb5144c9683a1d7a55a7f5307",
       "version_major": 2,
       "version_minor": 0
      },
      "text/plain": [
       "Retrieving ElectronicStructureDoc documents:   0%|          | 0/1 [00:00<?, ?it/s]"
      ]
     },
     "metadata": {},
     "output_type": "display_data"
    },
    {
     "data": {
      "application/vnd.jupyter.widget-view+json": {
       "model_id": "103edce623574933826968ef0f74163c",
       "version_major": 2,
       "version_minor": 0
      },
      "text/plain": [
       "Retrieving ElectronicStructureDoc documents:   0%|          | 0/1 [00:00<?, ?it/s]"
      ]
     },
     "metadata": {},
     "output_type": "display_data"
    },
    {
     "data": {
      "application/vnd.jupyter.widget-view+json": {
       "model_id": "6784783359a3457c84931f62958356e3",
       "version_major": 2,
       "version_minor": 0
      },
      "text/plain": [
       "Retrieving ElectronicStructureDoc documents:   0%|          | 0/1 [00:00<?, ?it/s]"
      ]
     },
     "metadata": {},
     "output_type": "display_data"
    },
    {
     "data": {
      "application/vnd.jupyter.widget-view+json": {
       "model_id": "8406bd2925744963933d13d4c8e835f7",
       "version_major": 2,
       "version_minor": 0
      },
      "text/plain": [
       "Retrieving ElectronicStructureDoc documents:   0%|          | 0/1 [00:00<?, ?it/s]"
      ]
     },
     "metadata": {},
     "output_type": "display_data"
    },
    {
     "data": {
      "application/vnd.jupyter.widget-view+json": {
       "model_id": "49e97797267d4d88ad1d615c650ef7e3",
       "version_major": 2,
       "version_minor": 0
      },
      "text/plain": [
       "Retrieving ElectronicStructureDoc documents:   0%|          | 0/1 [00:00<?, ?it/s]"
      ]
     },
     "metadata": {},
     "output_type": "display_data"
    },
    {
     "data": {
      "application/vnd.jupyter.widget-view+json": {
       "model_id": "d791e7d574da469284159c378c1f84fe",
       "version_major": 2,
       "version_minor": 0
      },
      "text/plain": [
       "Retrieving ElectronicStructureDoc documents:   0%|          | 0/1 [00:00<?, ?it/s]"
      ]
     },
     "metadata": {},
     "output_type": "display_data"
    },
    {
     "data": {
      "application/vnd.jupyter.widget-view+json": {
       "model_id": "c11e64467bc84c29ae9bd2a3f0ec4877",
       "version_major": 2,
       "version_minor": 0
      },
      "text/plain": [
       "Retrieving ElectronicStructureDoc documents:   0%|          | 0/1 [00:00<?, ?it/s]"
      ]
     },
     "metadata": {},
     "output_type": "display_data"
    },
    {
     "data": {
      "application/vnd.jupyter.widget-view+json": {
       "model_id": "7e567517d6684d16b5d978ec92c41e39",
       "version_major": 2,
       "version_minor": 0
      },
      "text/plain": [
       "Retrieving ElectronicStructureDoc documents:   0%|          | 0/1 [00:00<?, ?it/s]"
      ]
     },
     "metadata": {},
     "output_type": "display_data"
    },
    {
     "data": {
      "application/vnd.jupyter.widget-view+json": {
       "model_id": "09bf7efdfe7e484d973f5b55bb823195",
       "version_major": 2,
       "version_minor": 0
      },
      "text/plain": [
       "Retrieving ElectronicStructureDoc documents:   0%|          | 0/1 [00:00<?, ?it/s]"
      ]
     },
     "metadata": {},
     "output_type": "display_data"
    },
    {
     "data": {
      "application/vnd.jupyter.widget-view+json": {
       "model_id": "a250422cd7e640159f5eaa4ff12f6089",
       "version_major": 2,
       "version_minor": 0
      },
      "text/plain": [
       "Retrieving ElectronicStructureDoc documents:   0%|          | 0/1 [00:00<?, ?it/s]"
      ]
     },
     "metadata": {},
     "output_type": "display_data"
    },
    {
     "data": {
      "application/vnd.jupyter.widget-view+json": {
       "model_id": "f6ab5e4637484ebd993e67b3da8539a4",
       "version_major": 2,
       "version_minor": 0
      },
      "text/plain": [
       "Retrieving ElectronicStructureDoc documents:   0%|          | 0/1 [00:00<?, ?it/s]"
      ]
     },
     "metadata": {},
     "output_type": "display_data"
    },
    {
     "data": {
      "application/vnd.jupyter.widget-view+json": {
       "model_id": "8ed9b06d5d094753a8e49b2ebe14e393",
       "version_major": 2,
       "version_minor": 0
      },
      "text/plain": [
       "Retrieving ElectronicStructureDoc documents:   0%|          | 0/1 [00:00<?, ?it/s]"
      ]
     },
     "metadata": {},
     "output_type": "display_data"
    },
    {
     "data": {
      "application/vnd.jupyter.widget-view+json": {
       "model_id": "b53eed51e30740129ed4a1f5a652b185",
       "version_major": 2,
       "version_minor": 0
      },
      "text/plain": [
       "Retrieving ElectronicStructureDoc documents:   0%|          | 0/1 [00:00<?, ?it/s]"
      ]
     },
     "metadata": {},
     "output_type": "display_data"
    },
    {
     "data": {
      "application/vnd.jupyter.widget-view+json": {
       "model_id": "530308e74cff4c82a54153b957424c03",
       "version_major": 2,
       "version_minor": 0
      },
      "text/plain": [
       "Retrieving ElectronicStructureDoc documents:   0%|          | 0/1 [00:00<?, ?it/s]"
      ]
     },
     "metadata": {},
     "output_type": "display_data"
    },
    {
     "data": {
      "application/vnd.jupyter.widget-view+json": {
       "model_id": "f56de9951fda4b6da54179d9254d7c5c",
       "version_major": 2,
       "version_minor": 0
      },
      "text/plain": [
       "Retrieving ElectronicStructureDoc documents:   0%|          | 0/1 [00:00<?, ?it/s]"
      ]
     },
     "metadata": {},
     "output_type": "display_data"
    },
    {
     "data": {
      "application/vnd.jupyter.widget-view+json": {
       "model_id": "ce2bcae789d34e2e9c7e975cb6c1b8cd",
       "version_major": 2,
       "version_minor": 0
      },
      "text/plain": [
       "Retrieving ElectronicStructureDoc documents:   0%|          | 0/1 [00:00<?, ?it/s]"
      ]
     },
     "metadata": {},
     "output_type": "display_data"
    },
    {
     "data": {
      "application/vnd.jupyter.widget-view+json": {
       "model_id": "5fb4ca6dc9284ce4a810d252b9c4b98c",
       "version_major": 2,
       "version_minor": 0
      },
      "text/plain": [
       "Retrieving ElectronicStructureDoc documents:   0%|          | 0/1 [00:00<?, ?it/s]"
      ]
     },
     "metadata": {},
     "output_type": "display_data"
    },
    {
     "data": {
      "application/vnd.jupyter.widget-view+json": {
       "model_id": "4aabd48d38a84810a0371451d8f9f48c",
       "version_major": 2,
       "version_minor": 0
      },
      "text/plain": [
       "Retrieving ElectronicStructureDoc documents:   0%|          | 0/1 [00:00<?, ?it/s]"
      ]
     },
     "metadata": {},
     "output_type": "display_data"
    },
    {
     "data": {
      "application/vnd.jupyter.widget-view+json": {
       "model_id": "8c31886e25f94a1ab66c416cbabbf5f8",
       "version_major": 2,
       "version_minor": 0
      },
      "text/plain": [
       "Retrieving ElectronicStructureDoc documents:   0%|          | 0/1 [00:00<?, ?it/s]"
      ]
     },
     "metadata": {},
     "output_type": "display_data"
    },
    {
     "data": {
      "application/vnd.jupyter.widget-view+json": {
       "model_id": "2be68d3734b2434a8f7a8a861f157b08",
       "version_major": 2,
       "version_minor": 0
      },
      "text/plain": [
       "Retrieving ElectronicStructureDoc documents:   0%|          | 0/1 [00:00<?, ?it/s]"
      ]
     },
     "metadata": {},
     "output_type": "display_data"
    },
    {
     "data": {
      "application/vnd.jupyter.widget-view+json": {
       "model_id": "20b2d755567843d2a992a622e1990af9",
       "version_major": 2,
       "version_minor": 0
      },
      "text/plain": [
       "Retrieving ElectronicStructureDoc documents:   0%|          | 0/1 [00:00<?, ?it/s]"
      ]
     },
     "metadata": {},
     "output_type": "display_data"
    },
    {
     "data": {
      "application/vnd.jupyter.widget-view+json": {
       "model_id": "8378fdc8bcc4495792dc04b9481e151d",
       "version_major": 2,
       "version_minor": 0
      },
      "text/plain": [
       "Retrieving ElectronicStructureDoc documents:   0%|          | 0/1 [00:00<?, ?it/s]"
      ]
     },
     "metadata": {},
     "output_type": "display_data"
    },
    {
     "data": {
      "application/vnd.jupyter.widget-view+json": {
       "model_id": "4cec4c47b1c1481d819f1ea7db202adc",
       "version_major": 2,
       "version_minor": 0
      },
      "text/plain": [
       "Retrieving ElectronicStructureDoc documents:   0%|          | 0/1 [00:00<?, ?it/s]"
      ]
     },
     "metadata": {},
     "output_type": "display_data"
    },
    {
     "data": {
      "application/vnd.jupyter.widget-view+json": {
       "model_id": "a26b68f2de784ec5a2dc1fd8b50172c4",
       "version_major": 2,
       "version_minor": 0
      },
      "text/plain": [
       "Retrieving ElectronicStructureDoc documents:   0%|          | 0/1 [00:00<?, ?it/s]"
      ]
     },
     "metadata": {},
     "output_type": "display_data"
    },
    {
     "data": {
      "application/vnd.jupyter.widget-view+json": {
       "model_id": "4f3e40631390463292c15f26890699a0",
       "version_major": 2,
       "version_minor": 0
      },
      "text/plain": [
       "Retrieving ElectronicStructureDoc documents:   0%|          | 0/1 [00:00<?, ?it/s]"
      ]
     },
     "metadata": {},
     "output_type": "display_data"
    },
    {
     "data": {
      "application/vnd.jupyter.widget-view+json": {
       "model_id": "fed07578051e433f99c125f506ef4ace",
       "version_major": 2,
       "version_minor": 0
      },
      "text/plain": [
       "Retrieving ElectronicStructureDoc documents:   0%|          | 0/1 [00:00<?, ?it/s]"
      ]
     },
     "metadata": {},
     "output_type": "display_data"
    },
    {
     "data": {
      "application/vnd.jupyter.widget-view+json": {
       "model_id": "1e507a2fa9ac44c2a661f94cfef155c9",
       "version_major": 2,
       "version_minor": 0
      },
      "text/plain": [
       "Retrieving ElectronicStructureDoc documents:   0%|          | 0/1 [00:00<?, ?it/s]"
      ]
     },
     "metadata": {},
     "output_type": "display_data"
    },
    {
     "data": {
      "application/vnd.jupyter.widget-view+json": {
       "model_id": "cdd8b5831445487ea5f4b0b07f5f8b9d",
       "version_major": 2,
       "version_minor": 0
      },
      "text/plain": [
       "Retrieving ElectronicStructureDoc documents:   0%|          | 0/1 [00:00<?, ?it/s]"
      ]
     },
     "metadata": {},
     "output_type": "display_data"
    },
    {
     "data": {
      "application/vnd.jupyter.widget-view+json": {
       "model_id": "f65d9a88cb944600ba8d1b424c199ef6",
       "version_major": 2,
       "version_minor": 0
      },
      "text/plain": [
       "Retrieving ElectronicStructureDoc documents:   0%|          | 0/1 [00:00<?, ?it/s]"
      ]
     },
     "metadata": {},
     "output_type": "display_data"
    },
    {
     "data": {
      "application/vnd.jupyter.widget-view+json": {
       "model_id": "1f89c232435f4fcca94fbaade778ab83",
       "version_major": 2,
       "version_minor": 0
      },
      "text/plain": [
       "Retrieving ElectronicStructureDoc documents:   0%|          | 0/1 [00:00<?, ?it/s]"
      ]
     },
     "metadata": {},
     "output_type": "display_data"
    },
    {
     "data": {
      "application/vnd.jupyter.widget-view+json": {
       "model_id": "80137268cba54708ab35692eae41196d",
       "version_major": 2,
       "version_minor": 0
      },
      "text/plain": [
       "Retrieving ElectronicStructureDoc documents:   0%|          | 0/1 [00:00<?, ?it/s]"
      ]
     },
     "metadata": {},
     "output_type": "display_data"
    },
    {
     "data": {
      "application/vnd.jupyter.widget-view+json": {
       "model_id": "9dc48a5a17784e6997b3eb52f50d5682",
       "version_major": 2,
       "version_minor": 0
      },
      "text/plain": [
       "Retrieving ElectronicStructureDoc documents:   0%|          | 0/1 [00:00<?, ?it/s]"
      ]
     },
     "metadata": {},
     "output_type": "display_data"
    },
    {
     "data": {
      "application/vnd.jupyter.widget-view+json": {
       "model_id": "07c9e537cd0540d8ac3e8e770cb1dcfd",
       "version_major": 2,
       "version_minor": 0
      },
      "text/plain": [
       "Retrieving ElectronicStructureDoc documents:   0%|          | 0/1 [00:00<?, ?it/s]"
      ]
     },
     "metadata": {},
     "output_type": "display_data"
    },
    {
     "data": {
      "application/vnd.jupyter.widget-view+json": {
       "model_id": "846edd5411864afc92151c3813d81659",
       "version_major": 2,
       "version_minor": 0
      },
      "text/plain": [
       "Retrieving ElectronicStructureDoc documents:   0%|          | 0/1 [00:00<?, ?it/s]"
      ]
     },
     "metadata": {},
     "output_type": "display_data"
    },
    {
     "data": {
      "application/vnd.jupyter.widget-view+json": {
       "model_id": "ebf5bf6bc512456b955d426790191e36",
       "version_major": 2,
       "version_minor": 0
      },
      "text/plain": [
       "Retrieving ElectronicStructureDoc documents:   0%|          | 0/1 [00:00<?, ?it/s]"
      ]
     },
     "metadata": {},
     "output_type": "display_data"
    },
    {
     "data": {
      "application/vnd.jupyter.widget-view+json": {
       "model_id": "a626d46c0f984036bdb334f36c603974",
       "version_major": 2,
       "version_minor": 0
      },
      "text/plain": [
       "Retrieving ElectronicStructureDoc documents:   0%|          | 0/1 [00:00<?, ?it/s]"
      ]
     },
     "metadata": {},
     "output_type": "display_data"
    },
    {
     "data": {
      "application/vnd.jupyter.widget-view+json": {
       "model_id": "519b670736ef43c88ebb4f035290f869",
       "version_major": 2,
       "version_minor": 0
      },
      "text/plain": [
       "Retrieving ElectronicStructureDoc documents:   0%|          | 0/1 [00:00<?, ?it/s]"
      ]
     },
     "metadata": {},
     "output_type": "display_data"
    },
    {
     "data": {
      "application/vnd.jupyter.widget-view+json": {
       "model_id": "3b8bafa76a0c45a3aa90154f7a75c9e1",
       "version_major": 2,
       "version_minor": 0
      },
      "text/plain": [
       "Retrieving ElectronicStructureDoc documents:   0%|          | 0/1 [00:00<?, ?it/s]"
      ]
     },
     "metadata": {},
     "output_type": "display_data"
    },
    {
     "data": {
      "application/vnd.jupyter.widget-view+json": {
       "model_id": "7c39722977c140feb130150c589955f5",
       "version_major": 2,
       "version_minor": 0
      },
      "text/plain": [
       "Retrieving ElectronicStructureDoc documents:   0%|          | 0/1 [00:00<?, ?it/s]"
      ]
     },
     "metadata": {},
     "output_type": "display_data"
    },
    {
     "data": {
      "application/vnd.jupyter.widget-view+json": {
       "model_id": "a7c2964a493d40e38a21438ad5f07a0e",
       "version_major": 2,
       "version_minor": 0
      },
      "text/plain": [
       "Retrieving ElectronicStructureDoc documents:   0%|          | 0/1 [00:00<?, ?it/s]"
      ]
     },
     "metadata": {},
     "output_type": "display_data"
    },
    {
     "data": {
      "application/vnd.jupyter.widget-view+json": {
       "model_id": "8810542d12e6443290766bb9c421e1fa",
       "version_major": 2,
       "version_minor": 0
      },
      "text/plain": [
       "Retrieving ElectronicStructureDoc documents:   0%|          | 0/1 [00:00<?, ?it/s]"
      ]
     },
     "metadata": {},
     "output_type": "display_data"
    },
    {
     "data": {
      "application/vnd.jupyter.widget-view+json": {
       "model_id": "73540830b4024211b9ad1ba806999aba",
       "version_major": 2,
       "version_minor": 0
      },
      "text/plain": [
       "Retrieving ElectronicStructureDoc documents:   0%|          | 0/1 [00:00<?, ?it/s]"
      ]
     },
     "metadata": {},
     "output_type": "display_data"
    },
    {
     "data": {
      "application/vnd.jupyter.widget-view+json": {
       "model_id": "9c9e54b53adf41f396db0dee0000de53",
       "version_major": 2,
       "version_minor": 0
      },
      "text/plain": [
       "Retrieving ElectronicStructureDoc documents:   0%|          | 0/1 [00:00<?, ?it/s]"
      ]
     },
     "metadata": {},
     "output_type": "display_data"
    },
    {
     "data": {
      "application/vnd.jupyter.widget-view+json": {
       "model_id": "79e121fec5094e84ad7dad40b4b6883c",
       "version_major": 2,
       "version_minor": 0
      },
      "text/plain": [
       "Retrieving ElectronicStructureDoc documents:   0%|          | 0/1 [00:00<?, ?it/s]"
      ]
     },
     "metadata": {},
     "output_type": "display_data"
    },
    {
     "data": {
      "application/vnd.jupyter.widget-view+json": {
       "model_id": "2c26cae7039a46a6a368d9524b3839e6",
       "version_major": 2,
       "version_minor": 0
      },
      "text/plain": [
       "Retrieving ElectronicStructureDoc documents:   0%|          | 0/1 [00:00<?, ?it/s]"
      ]
     },
     "metadata": {},
     "output_type": "display_data"
    },
    {
     "data": {
      "application/vnd.jupyter.widget-view+json": {
       "model_id": "7a6391a14133484ca7d96e7d86a49687",
       "version_major": 2,
       "version_minor": 0
      },
      "text/plain": [
       "Retrieving ElectronicStructureDoc documents:   0%|          | 0/1 [00:00<?, ?it/s]"
      ]
     },
     "metadata": {},
     "output_type": "display_data"
    },
    {
     "data": {
      "application/vnd.jupyter.widget-view+json": {
       "model_id": "0cb742e19fe74615b7765cc03b5fac0c",
       "version_major": 2,
       "version_minor": 0
      },
      "text/plain": [
       "Retrieving ElectronicStructureDoc documents:   0%|          | 0/1 [00:00<?, ?it/s]"
      ]
     },
     "metadata": {},
     "output_type": "display_data"
    },
    {
     "data": {
      "application/vnd.jupyter.widget-view+json": {
       "model_id": "9a62722e43364cec89e7f95df50337a9",
       "version_major": 2,
       "version_minor": 0
      },
      "text/plain": [
       "Retrieving ElectronicStructureDoc documents:   0%|          | 0/1 [00:00<?, ?it/s]"
      ]
     },
     "metadata": {},
     "output_type": "display_data"
    },
    {
     "data": {
      "application/vnd.jupyter.widget-view+json": {
       "model_id": "3e3488ca026f414f91c68bf2f08e0c7a",
       "version_major": 2,
       "version_minor": 0
      },
      "text/plain": [
       "Retrieving ElectronicStructureDoc documents:   0%|          | 0/1 [00:00<?, ?it/s]"
      ]
     },
     "metadata": {},
     "output_type": "display_data"
    },
    {
     "data": {
      "application/vnd.jupyter.widget-view+json": {
       "model_id": "1c31b516449848a59cb6b1d7f59cd777",
       "version_major": 2,
       "version_minor": 0
      },
      "text/plain": [
       "Retrieving ElectronicStructureDoc documents:   0%|          | 0/1 [00:00<?, ?it/s]"
      ]
     },
     "metadata": {},
     "output_type": "display_data"
    },
    {
     "data": {
      "application/vnd.jupyter.widget-view+json": {
       "model_id": "c8cafe3768dc44d4ab989cc67ca20b18",
       "version_major": 2,
       "version_minor": 0
      },
      "text/plain": [
       "Retrieving ElectronicStructureDoc documents:   0%|          | 0/1 [00:00<?, ?it/s]"
      ]
     },
     "metadata": {},
     "output_type": "display_data"
    },
    {
     "data": {
      "application/vnd.jupyter.widget-view+json": {
       "model_id": "01f0b34fad11490b8400279065e51aad",
       "version_major": 2,
       "version_minor": 0
      },
      "text/plain": [
       "Retrieving ElectronicStructureDoc documents:   0%|          | 0/1 [00:00<?, ?it/s]"
      ]
     },
     "metadata": {},
     "output_type": "display_data"
    },
    {
     "data": {
      "application/vnd.jupyter.widget-view+json": {
       "model_id": "0da36d5c0cb34f2aa81d28cfd141e96a",
       "version_major": 2,
       "version_minor": 0
      },
      "text/plain": [
       "Retrieving ElectronicStructureDoc documents:   0%|          | 0/1 [00:00<?, ?it/s]"
      ]
     },
     "metadata": {},
     "output_type": "display_data"
    },
    {
     "data": {
      "application/vnd.jupyter.widget-view+json": {
       "model_id": "aef7fe0fed834b7fb888b93718c6156e",
       "version_major": 2,
       "version_minor": 0
      },
      "text/plain": [
       "Retrieving ElectronicStructureDoc documents:   0%|          | 0/1 [00:00<?, ?it/s]"
      ]
     },
     "metadata": {},
     "output_type": "display_data"
    },
    {
     "data": {
      "application/vnd.jupyter.widget-view+json": {
       "model_id": "386db67641e14e5688aed3e070cc22d4",
       "version_major": 2,
       "version_minor": 0
      },
      "text/plain": [
       "Retrieving ElectronicStructureDoc documents:   0%|          | 0/1 [00:00<?, ?it/s]"
      ]
     },
     "metadata": {},
     "output_type": "display_data"
    },
    {
     "data": {
      "application/vnd.jupyter.widget-view+json": {
       "model_id": "b0cdc5c777004162bb5ffc6bd9f5055d",
       "version_major": 2,
       "version_minor": 0
      },
      "text/plain": [
       "Retrieving ElectronicStructureDoc documents:   0%|          | 0/1 [00:00<?, ?it/s]"
      ]
     },
     "metadata": {},
     "output_type": "display_data"
    },
    {
     "data": {
      "application/vnd.jupyter.widget-view+json": {
       "model_id": "178249dbc31a44d488c1ce984b7f286c",
       "version_major": 2,
       "version_minor": 0
      },
      "text/plain": [
       "Retrieving ElectronicStructureDoc documents:   0%|          | 0/1 [00:00<?, ?it/s]"
      ]
     },
     "metadata": {},
     "output_type": "display_data"
    },
    {
     "data": {
      "application/vnd.jupyter.widget-view+json": {
       "model_id": "c43eedc0e6824a54b884c9be8e5364b3",
       "version_major": 2,
       "version_minor": 0
      },
      "text/plain": [
       "Retrieving ElectronicStructureDoc documents:   0%|          | 0/1 [00:00<?, ?it/s]"
      ]
     },
     "metadata": {},
     "output_type": "display_data"
    },
    {
     "data": {
      "application/vnd.jupyter.widget-view+json": {
       "model_id": "f3f701c339bd4b0e85a64ce15a493e78",
       "version_major": 2,
       "version_minor": 0
      },
      "text/plain": [
       "Retrieving ElectronicStructureDoc documents:   0%|          | 0/1 [00:00<?, ?it/s]"
      ]
     },
     "metadata": {},
     "output_type": "display_data"
    },
    {
     "data": {
      "application/vnd.jupyter.widget-view+json": {
       "model_id": "9f776014e7af4d05a9b9c2b342769854",
       "version_major": 2,
       "version_minor": 0
      },
      "text/plain": [
       "Retrieving ElectronicStructureDoc documents:   0%|          | 0/1 [00:00<?, ?it/s]"
      ]
     },
     "metadata": {},
     "output_type": "display_data"
    },
    {
     "data": {
      "application/vnd.jupyter.widget-view+json": {
       "model_id": "59ac93b4a5994879a8bc9d6b1cb9ce59",
       "version_major": 2,
       "version_minor": 0
      },
      "text/plain": [
       "Retrieving ElectronicStructureDoc documents:   0%|          | 0/1 [00:00<?, ?it/s]"
      ]
     },
     "metadata": {},
     "output_type": "display_data"
    },
    {
     "data": {
      "application/vnd.jupyter.widget-view+json": {
       "model_id": "e614f67919c8404bbd212bb72c17309d",
       "version_major": 2,
       "version_minor": 0
      },
      "text/plain": [
       "Retrieving ElectronicStructureDoc documents:   0%|          | 0/1 [00:00<?, ?it/s]"
      ]
     },
     "metadata": {},
     "output_type": "display_data"
    },
    {
     "data": {
      "application/vnd.jupyter.widget-view+json": {
       "model_id": "d7b2276a5ee149d4b140b0ad99d5adbc",
       "version_major": 2,
       "version_minor": 0
      },
      "text/plain": [
       "Retrieving ElectronicStructureDoc documents:   0%|          | 0/1 [00:00<?, ?it/s]"
      ]
     },
     "metadata": {},
     "output_type": "display_data"
    },
    {
     "data": {
      "application/vnd.jupyter.widget-view+json": {
       "model_id": "97e0271e4e6d4b25a26b4e125cc03797",
       "version_major": 2,
       "version_minor": 0
      },
      "text/plain": [
       "Retrieving ElectronicStructureDoc documents:   0%|          | 0/1 [00:00<?, ?it/s]"
      ]
     },
     "metadata": {},
     "output_type": "display_data"
    },
    {
     "data": {
      "application/vnd.jupyter.widget-view+json": {
       "model_id": "8862bf956c2b44ef82631ab5e4d0818a",
       "version_major": 2,
       "version_minor": 0
      },
      "text/plain": [
       "Retrieving ElectronicStructureDoc documents:   0%|          | 0/1 [00:00<?, ?it/s]"
      ]
     },
     "metadata": {},
     "output_type": "display_data"
    },
    {
     "data": {
      "application/vnd.jupyter.widget-view+json": {
       "model_id": "6d6361bd3b1348789f5a0e7985b96a91",
       "version_major": 2,
       "version_minor": 0
      },
      "text/plain": [
       "Retrieving ElectronicStructureDoc documents:   0%|          | 0/1 [00:00<?, ?it/s]"
      ]
     },
     "metadata": {},
     "output_type": "display_data"
    },
    {
     "data": {
      "application/vnd.jupyter.widget-view+json": {
       "model_id": "c5276e84a7dc45a6b041a88540c066ea",
       "version_major": 2,
       "version_minor": 0
      },
      "text/plain": [
       "Retrieving ElectronicStructureDoc documents:   0%|          | 0/1 [00:00<?, ?it/s]"
      ]
     },
     "metadata": {},
     "output_type": "display_data"
    },
    {
     "data": {
      "application/vnd.jupyter.widget-view+json": {
       "model_id": "8398f925ae8f44c5af98e0b1e641ea20",
       "version_major": 2,
       "version_minor": 0
      },
      "text/plain": [
       "Retrieving ElectronicStructureDoc documents:   0%|          | 0/1 [00:00<?, ?it/s]"
      ]
     },
     "metadata": {},
     "output_type": "display_data"
    },
    {
     "data": {
      "application/vnd.jupyter.widget-view+json": {
       "model_id": "0dd9b312608d44869d02d90aa9294fa6",
       "version_major": 2,
       "version_minor": 0
      },
      "text/plain": [
       "Retrieving ElectronicStructureDoc documents:   0%|          | 0/1 [00:00<?, ?it/s]"
      ]
     },
     "metadata": {},
     "output_type": "display_data"
    },
    {
     "data": {
      "application/vnd.jupyter.widget-view+json": {
       "model_id": "854b5d805fd64f43aa404d3c6dc82c22",
       "version_major": 2,
       "version_minor": 0
      },
      "text/plain": [
       "Retrieving ElectronicStructureDoc documents:   0%|          | 0/1 [00:00<?, ?it/s]"
      ]
     },
     "metadata": {},
     "output_type": "display_data"
    },
    {
     "data": {
      "application/vnd.jupyter.widget-view+json": {
       "model_id": "3e87bf5066bc47009b403137a5f90ff9",
       "version_major": 2,
       "version_minor": 0
      },
      "text/plain": [
       "Retrieving ElectronicStructureDoc documents:   0%|          | 0/1 [00:00<?, ?it/s]"
      ]
     },
     "metadata": {},
     "output_type": "display_data"
    },
    {
     "data": {
      "application/vnd.jupyter.widget-view+json": {
       "model_id": "f6297116122c4cd6bad62e0b2eafb5ae",
       "version_major": 2,
       "version_minor": 0
      },
      "text/plain": [
       "Retrieving ElectronicStructureDoc documents:   0%|          | 0/1 [00:00<?, ?it/s]"
      ]
     },
     "metadata": {},
     "output_type": "display_data"
    },
    {
     "data": {
      "application/vnd.jupyter.widget-view+json": {
       "model_id": "d368238d1bf94aed8beebea9c6ac80fb",
       "version_major": 2,
       "version_minor": 0
      },
      "text/plain": [
       "Retrieving ElectronicStructureDoc documents:   0%|          | 0/1 [00:00<?, ?it/s]"
      ]
     },
     "metadata": {},
     "output_type": "display_data"
    },
    {
     "data": {
      "application/vnd.jupyter.widget-view+json": {
       "model_id": "3b32897fb2f148f69db6a591a1a614e3",
       "version_major": 2,
       "version_minor": 0
      },
      "text/plain": [
       "Retrieving ElectronicStructureDoc documents:   0%|          | 0/1 [00:00<?, ?it/s]"
      ]
     },
     "metadata": {},
     "output_type": "display_data"
    },
    {
     "data": {
      "application/vnd.jupyter.widget-view+json": {
       "model_id": "5f840fa51a2d41c6995df1e5f7de6fcb",
       "version_major": 2,
       "version_minor": 0
      },
      "text/plain": [
       "Retrieving ElectronicStructureDoc documents:   0%|          | 0/1 [00:00<?, ?it/s]"
      ]
     },
     "metadata": {},
     "output_type": "display_data"
    },
    {
     "data": {
      "application/vnd.jupyter.widget-view+json": {
       "model_id": "4969dc26fde946da8a69ab3b22a717b6",
       "version_major": 2,
       "version_minor": 0
      },
      "text/plain": [
       "Retrieving ElectronicStructureDoc documents:   0%|          | 0/1 [00:00<?, ?it/s]"
      ]
     },
     "metadata": {},
     "output_type": "display_data"
    },
    {
     "data": {
      "application/vnd.jupyter.widget-view+json": {
       "model_id": "395e758dd19542cebbc11f261eab2ffa",
       "version_major": 2,
       "version_minor": 0
      },
      "text/plain": [
       "Retrieving ElectronicStructureDoc documents:   0%|          | 0/1 [00:00<?, ?it/s]"
      ]
     },
     "metadata": {},
     "output_type": "display_data"
    },
    {
     "data": {
      "application/vnd.jupyter.widget-view+json": {
       "model_id": "5162e8c8623448d6bb83bf2fb17f3262",
       "version_major": 2,
       "version_minor": 0
      },
      "text/plain": [
       "Retrieving ElectronicStructureDoc documents:   0%|          | 0/1 [00:00<?, ?it/s]"
      ]
     },
     "metadata": {},
     "output_type": "display_data"
    },
    {
     "data": {
      "application/vnd.jupyter.widget-view+json": {
       "model_id": "8ff562896ede48c081c85b4fb26a3c7a",
       "version_major": 2,
       "version_minor": 0
      },
      "text/plain": [
       "Retrieving ElectronicStructureDoc documents:   0%|          | 0/1 [00:00<?, ?it/s]"
      ]
     },
     "metadata": {},
     "output_type": "display_data"
    },
    {
     "data": {
      "application/vnd.jupyter.widget-view+json": {
       "model_id": "e125eeb41e6c486abb07760188898504",
       "version_major": 2,
       "version_minor": 0
      },
      "text/plain": [
       "Retrieving ElectronicStructureDoc documents:   0%|          | 0/1 [00:00<?, ?it/s]"
      ]
     },
     "metadata": {},
     "output_type": "display_data"
    },
    {
     "data": {
      "application/vnd.jupyter.widget-view+json": {
       "model_id": "4e8c30fb82ee45d286596ad3551d220b",
       "version_major": 2,
       "version_minor": 0
      },
      "text/plain": [
       "Retrieving ElectronicStructureDoc documents:   0%|          | 0/1 [00:00<?, ?it/s]"
      ]
     },
     "metadata": {},
     "output_type": "display_data"
    },
    {
     "data": {
      "application/vnd.jupyter.widget-view+json": {
       "model_id": "057ea6bedbdb43e4968cee60545ba6b9",
       "version_major": 2,
       "version_minor": 0
      },
      "text/plain": [
       "Retrieving ElectronicStructureDoc documents:   0%|          | 0/1 [00:00<?, ?it/s]"
      ]
     },
     "metadata": {},
     "output_type": "display_data"
    },
    {
     "data": {
      "application/vnd.jupyter.widget-view+json": {
       "model_id": "a5415611e86643ee8fac927b003af458",
       "version_major": 2,
       "version_minor": 0
      },
      "text/plain": [
       "Retrieving ElectronicStructureDoc documents:   0%|          | 0/1 [00:00<?, ?it/s]"
      ]
     },
     "metadata": {},
     "output_type": "display_data"
    },
    {
     "data": {
      "application/vnd.jupyter.widget-view+json": {
       "model_id": "f274cbbb83324bc69ba233e2f7159f60",
       "version_major": 2,
       "version_minor": 0
      },
      "text/plain": [
       "Retrieving ElectronicStructureDoc documents:   0%|          | 0/1 [00:00<?, ?it/s]"
      ]
     },
     "metadata": {},
     "output_type": "display_data"
    },
    {
     "data": {
      "application/vnd.jupyter.widget-view+json": {
       "model_id": "1cd604d08eed4a92b54eead7a7269e02",
       "version_major": 2,
       "version_minor": 0
      },
      "text/plain": [
       "Retrieving ElectronicStructureDoc documents:   0%|          | 0/1 [00:00<?, ?it/s]"
      ]
     },
     "metadata": {},
     "output_type": "display_data"
    },
    {
     "data": {
      "application/vnd.jupyter.widget-view+json": {
       "model_id": "3bea6a52bf134ee49e88e6197bc6b1ba",
       "version_major": 2,
       "version_minor": 0
      },
      "text/plain": [
       "Retrieving ElectronicStructureDoc documents:   0%|          | 0/1 [00:00<?, ?it/s]"
      ]
     },
     "metadata": {},
     "output_type": "display_data"
    },
    {
     "data": {
      "application/vnd.jupyter.widget-view+json": {
       "model_id": "e76b3189515343418caab0ed21785d70",
       "version_major": 2,
       "version_minor": 0
      },
      "text/plain": [
       "Retrieving ElectronicStructureDoc documents:   0%|          | 0/1 [00:00<?, ?it/s]"
      ]
     },
     "metadata": {},
     "output_type": "display_data"
    },
    {
     "data": {
      "application/vnd.jupyter.widget-view+json": {
       "model_id": "aa0b6f695e6b4e25aa6ed4248b9222be",
       "version_major": 2,
       "version_minor": 0
      },
      "text/plain": [
       "Retrieving ElectronicStructureDoc documents:   0%|          | 0/1 [00:00<?, ?it/s]"
      ]
     },
     "metadata": {},
     "output_type": "display_data"
    },
    {
     "data": {
      "application/vnd.jupyter.widget-view+json": {
       "model_id": "d1f6048b501e496dbc0ded1edeaa34f7",
       "version_major": 2,
       "version_minor": 0
      },
      "text/plain": [
       "Retrieving ElectronicStructureDoc documents:   0%|          | 0/1 [00:00<?, ?it/s]"
      ]
     },
     "metadata": {},
     "output_type": "display_data"
    },
    {
     "data": {
      "application/vnd.jupyter.widget-view+json": {
       "model_id": "77c727e96f4d4df8969b3dcabf8978a1",
       "version_major": 2,
       "version_minor": 0
      },
      "text/plain": [
       "Retrieving ElectronicStructureDoc documents:   0%|          | 0/1 [00:00<?, ?it/s]"
      ]
     },
     "metadata": {},
     "output_type": "display_data"
    },
    {
     "data": {
      "application/vnd.jupyter.widget-view+json": {
       "model_id": "576465ded60d4cd69f853e9d0a771162",
       "version_major": 2,
       "version_minor": 0
      },
      "text/plain": [
       "Retrieving ElectronicStructureDoc documents:   0%|          | 0/1 [00:00<?, ?it/s]"
      ]
     },
     "metadata": {},
     "output_type": "display_data"
    },
    {
     "data": {
      "application/vnd.jupyter.widget-view+json": {
       "model_id": "4a6b3b4862ba4809b97ecf08da19ce01",
       "version_major": 2,
       "version_minor": 0
      },
      "text/plain": [
       "Retrieving ElectronicStructureDoc documents:   0%|          | 0/1 [00:00<?, ?it/s]"
      ]
     },
     "metadata": {},
     "output_type": "display_data"
    },
    {
     "data": {
      "application/vnd.jupyter.widget-view+json": {
       "model_id": "918380b9efbe4be7a21beadde1a70dac",
       "version_major": 2,
       "version_minor": 0
      },
      "text/plain": [
       "Retrieving ElectronicStructureDoc documents:   0%|          | 0/1 [00:00<?, ?it/s]"
      ]
     },
     "metadata": {},
     "output_type": "display_data"
    },
    {
     "data": {
      "application/vnd.jupyter.widget-view+json": {
       "model_id": "cf31a54294bb405e93c5d656f8a709da",
       "version_major": 2,
       "version_minor": 0
      },
      "text/plain": [
       "Retrieving ElectronicStructureDoc documents:   0%|          | 0/1 [00:00<?, ?it/s]"
      ]
     },
     "metadata": {},
     "output_type": "display_data"
    },
    {
     "data": {
      "application/vnd.jupyter.widget-view+json": {
       "model_id": "38ecc44903eb4ac094018990cdd3e60b",
       "version_major": 2,
       "version_minor": 0
      },
      "text/plain": [
       "Retrieving ElectronicStructureDoc documents:   0%|          | 0/1 [00:00<?, ?it/s]"
      ]
     },
     "metadata": {},
     "output_type": "display_data"
    },
    {
     "data": {
      "application/vnd.jupyter.widget-view+json": {
       "model_id": "f9803701f2c24010a2b14a3989da29b5",
       "version_major": 2,
       "version_minor": 0
      },
      "text/plain": [
       "Retrieving ElectronicStructureDoc documents:   0%|          | 0/1 [00:00<?, ?it/s]"
      ]
     },
     "metadata": {},
     "output_type": "display_data"
    },
    {
     "data": {
      "application/vnd.jupyter.widget-view+json": {
       "model_id": "8ad45fe731c142dfa1a13e05541348a0",
       "version_major": 2,
       "version_minor": 0
      },
      "text/plain": [
       "Retrieving ElectronicStructureDoc documents:   0%|          | 0/1 [00:00<?, ?it/s]"
      ]
     },
     "metadata": {},
     "output_type": "display_data"
    },
    {
     "data": {
      "application/vnd.jupyter.widget-view+json": {
       "model_id": "ace7735ee3b746dda8a2b025dbc4d044",
       "version_major": 2,
       "version_minor": 0
      },
      "text/plain": [
       "Retrieving ElectronicStructureDoc documents:   0%|          | 0/1 [00:00<?, ?it/s]"
      ]
     },
     "metadata": {},
     "output_type": "display_data"
    }
   ],
   "source": [
    "with MPRester(api_key = '') as mpr:\n",
    "    docs = mpr.materials.summary.search(\n",
    "        band_gap=(0, 5), is_stable=True, fields=[\"material_id\"], is_gap_direct = True, num_elements=(0, 4), num_sites=(0, 4),\n",
    "        has_props=[HasProps.bandstructure]\n",
    "    )\n",
    "    gamma_directs = [mpr.get_bandstructure_by_material_id(str(i.material_id)) for i in docs]"
   ]
  },
  {
   "cell_type": "code",
   "execution_count": 70,
   "id": "c3be1a81-9473-4176-a5e1-0ccdb979d260",
   "metadata": {},
   "outputs": [],
   "source": [
    "t = gamma_directs[10]"
   ]
  },
  {
   "cell_type": "code",
   "execution_count": 71,
   "id": "ced6d2f5-f9fe-488b-a523-72084c41fa74",
   "metadata": {},
   "outputs": [
    {
     "data": {
      "text/plain": [
       "{'direct': True, 'energy': 4.4292, 'transition': '\\\\Gamma-\\\\Gamma'}"
      ]
     },
     "execution_count": 71,
     "metadata": {},
     "output_type": "execute_result"
    }
   ],
   "source": [
    "t.get_band_gap()"
   ]
  },
  {
   "cell_type": "code",
   "execution_count": 73,
   "id": "be26e44f-ce87-4577-beeb-91a054627575",
   "metadata": {},
   "outputs": [],
   "source": [
    "gamgam = [i for i in gamma_directs if i.get_band_gap()['transition'] == '\\\\Gamma-\\\\Gamma']"
   ]
  },
  {
   "cell_type": "code",
   "execution_count": 160,
   "id": "990b6dbc-4d2b-4aca-b730-c1d1c01253ba",
   "metadata": {},
   "outputs": [
    {
     "data": {
      "text/plain": [
       "14"
      ]
     },
     "execution_count": 160,
     "metadata": {},
     "output_type": "execute_result"
    }
   ],
   "source": [
    "len(borlido_gg_direct[0][-1].structure.as_dict()['sites'])"
   ]
  },
  {
   "cell_type": "code",
   "execution_count": 173,
   "id": "8264894c-097a-4315-944b-887d89c8b2d5",
   "metadata": {},
   "outputs": [],
   "source": [
    "smalls = [(i[1], i[-1]) for i in borlido_gg_direct if len(i[-1].structure.as_dict()['sites']) < 4]"
   ]
  },
  {
   "cell_type": "code",
   "execution_count": 189,
   "id": "faeabbd9-159f-4502-b291-b913fb5b232a",
   "metadata": {},
   "outputs": [
    {
     "data": {
      "text/plain": [
       "[[{'element': 'Ag', 'occu': 1}],\n",
       " [{'element': 'Ar', 'occu': 1}],\n",
       " [{'element': 'Cd', 'occu': 1}],\n",
       " [{'element': 'Cd', 'occu': 1}],\n",
       " [{'element': 'Cu', 'occu': 1}],\n",
       " [{'element': 'Cu', 'occu': 1}],\n",
       " [{'element': 'Cu', 'occu': 1}],\n",
       " [{'element': 'Ga', 'occu': 1}],\n",
       " [{'element': 'In', 'occu': 1}],\n",
       " [{'element': 'K', 'occu': 1}],\n",
       " [{'element': 'K', 'occu': 1}],\n",
       " [{'element': 'Kr', 'occu': 1}],\n",
       " [{'element': 'Li', 'occu': 1}],\n",
       " [{'element': 'Li', 'occu': 1}],\n",
       " [{'element': 'Mg', 'occu': 1}],\n",
       " [{'element': 'Na', 'occu': 1}],\n",
       " [{'element': 'Na', 'occu': 1}],\n",
       " [{'element': 'Na', 'occu': 1}],\n",
       " [{'element': 'Na', 'occu': 1}],\n",
       " [{'element': 'Rb', 'occu': 1}],\n",
       " [{'element': 'Rb', 'occu': 1}],\n",
       " [{'element': 'Rb', 'occu': 1}],\n",
       " [{'element': 'Xe', 'occu': 1}],\n",
       " [{'element': 'Y', 'occu': 1}],\n",
       " [{'element': 'Zn', 'occu': 1}],\n",
       " [{'element': 'Zn', 'occu': 1}]]"
      ]
     },
     "execution_count": 189,
     "metadata": {},
     "output_type": "execute_result"
    }
   ],
   "source": [
    "[i[1].structure.as_dict()['sites'][0]['species'] for i in smalls]"
   ]
  },
  {
   "cell_type": "code",
   "execution_count": 4,
   "id": "5bcfd050-1fd8-4cf3-926d-3fab16049a8b",
   "metadata": {},
   "outputs": [],
   "source": [
    "mpr = MPRester(api_key = '')"
   ]
  },
  {
   "cell_type": "code",
   "execution_count": 164,
   "id": "1f3051d1-6190-4582-9d0f-4c24f071db0b",
   "metadata": {},
   "outputs": [
    {
     "data": {
      "text/plain": [
       "{'direct': True, 'energy': 1.3674, 'transition': '\\\\Gamma-\\\\Gamma'}"
      ]
     },
     "execution_count": 164,
     "metadata": {},
     "output_type": "execute_result"
    }
   ],
   "source": [
    "# mp = mpr.get_bandstructure_by_material_id('mp-1266')\n",
    "mp = smalls[0]\n",
    "mps = mp.structure.as_dict()\n",
    "mp.get_band_gap()"
   ]
  },
  {
   "cell_type": "code",
   "execution_count": 165,
   "id": "75c3b042-971d-4d44-93de-7a8dba1e6c34",
   "metadata": {},
   "outputs": [],
   "source": [
    "rets = mps\n",
    "at_coor_xyz = [ (i['species'][0]['element'], i['xyz']) for i in rets['sites']]\n",
    "at_coor_abc = [ (i['species'][0]['element'], [rets['lattice']['a']*j for j in i['abc']]) for i in rets['sites']]\n",
    "lat = np.array(rets['lattice']['matrix'])\n",
    "if np.linalg.det(lat) < 1:\n",
    "    print('left handed array, switching')\n",
    "    lat = -np.array([lat[-1], lat[1], lat[0]])"
   ]
  },
  {
   "cell_type": "code",
   "execution_count": 166,
   "id": "a110556a-20b4-47db-bd26-705dfbee0a98",
   "metadata": {},
   "outputs": [
    {
     "data": {
      "text/plain": [
       "73.21955895634993"
      ]
     },
     "execution_count": 166,
     "metadata": {},
     "output_type": "execute_result"
    }
   ],
   "source": [
    "np.linalg.det(lat)"
   ]
  },
  {
   "cell_type": "code",
   "execution_count": 72,
   "id": "4068fbda-82b0-4975-ae27-dfe83b215c5a",
   "metadata": {},
   "outputs": [
    {
     "data": {
      "text/plain": [
       "[MSONAtoms(symbols='Ag2I2', pbc=True, cell=[[-2.336744, -4.047033, 0.0], [-2.336744, 4.047033, 0.0], [0.0, 0.0, -7.724212]]),\n",
       " MSONAtoms(symbols='AgI', pbc=True, cell=[[0.0, 3.320466, 3.320466], [3.320466, 0.0, 3.320466], [3.320466, 3.320466, 0.0]]),\n",
       " MSONAtoms(symbols='Al2N2', pbc=True, cell=[[-1.564023, -2.709322, 0.0], [-1.564023, 2.709322, 0.0], [0.0, 0.0, -5.012678]]),\n",
       " MSONAtoms(symbols='Ar', pbc=True, cell=[[0.0, 2.820386, 2.820386], [2.820386, 0.0, 2.820386], [2.820386, 2.820386, 0.0]]),\n",
       " MSONAtoms(symbols='Be2O2', pbc=True, cell=[[-1.35488, -2.346663, 0.0], [-1.35488, 2.346663, 0.0], [0.0, 0.0, -4.402034]]),\n",
       " MSONAtoms(symbols='Cd2S2', pbc=True, cell=[[-2.104551, -3.645352, 0.0], [-2.104551, 3.645352, 0.0], [0.0, 0.0, -6.829614]]),\n",
       " MSONAtoms(symbols='CdSe', pbc=True, cell=[[-3.107208, -3.107208, 0.0], [-3.107208, 0.0, -3.107208], [0.0, -3.107208, -3.107208]]),\n",
       " MSONAtoms(symbols='Cd2Se2', pbc=True, cell=[[-2.19879, -3.807937, 0.0], [-2.19879, 3.807937, 0.0], [0.0, 0.0, -7.147597]]),\n",
       " MSONAtoms(symbols='CdTe', pbc=True, cell=[[-3.315741, -3.315741, 0.0], [-3.315741, 0.0, -3.315741], [0.0, -3.315741, -3.315741]]),\n",
       " MSONAtoms(symbols='CuBr', pbc=True, cell=[[0.0, 2.849508, 2.849508], [2.849508, 0.0, 2.849508], [2.849508, 2.849508, 0.0]]),\n",
       " MSONAtoms(symbols='CuCl', pbc=True, cell=[[0.0, 2.702316, 2.702316], [2.702316, 0.0, 2.702316], [2.702316, 2.702316, 0.0]]),\n",
       " MSONAtoms(symbols='CuI', pbc=True, cell=[[0.0, 3.017726, 3.017726], [3.017726, 0.0, 3.017726], [3.017726, 3.017726, 0.0]]),\n",
       " MSONAtoms(symbols='GaAs', pbc=True, cell=[[-2.875015, -2.875015, 0.0], [-2.875015, 0.0, -2.875015], [0.0, -2.875015, -2.875015]]),\n",
       " MSONAtoms(symbols='Ga2N2', pbc=True, cell=[[-1.60842, -2.785883, 0.0], [-1.60842, 2.785883, 0.0], [0.0, 0.0, -5.246055]]),\n",
       " MSONAtoms(symbols='InP', pbc=True, cell=[[-2.980986, -2.980986, 0.0], [-2.980986, 0.0, -2.980986], [0.0, -2.980986, -2.980986]]),\n",
       " MSONAtoms(symbols='CsK2Sb', pbc=True, cell=[[0.0, 4.37936, 4.37936], [4.37936, 0.0, 4.37936], [4.37936, 4.37936, 0.0]]),\n",
       " MSONAtoms(symbols='K3Sb', pbc=True, cell=[[0.0, 4.281636, 4.281636], [4.281636, 0.0, 4.281636], [4.281636, 4.281636, 0.0]]),\n",
       " MSONAtoms(symbols='KBr', pbc=True, cell=[[-3.351538, -3.351538, 0.0], [-3.351538, 0.0, -3.351538], [0.0, -3.351538, -3.351538]]),\n",
       " MSONAtoms(symbols='KCl', pbc=True, cell=[[0.0, 3.197645, 3.197645], [3.197645, 0.0, 3.197645], [3.197645, 3.197645, 0.0]]),\n",
       " MSONAtoms(symbols='Kr', pbc=True, cell=[[0.0, 3.248231, 3.248231], [3.248231, 0.0, 3.248231], [3.248231, 3.248231, 0.0]]),\n",
       " MSONAtoms(symbols='LiZnAs', pbc=True, cell=[[0.0, 2.989238, 2.989238], [2.989238, 0.0, 2.989238], [2.989238, 2.989238, 0.0]]),\n",
       " MSONAtoms(symbols='LiZnN', pbc=True, cell=[[0.0, 2.467845, 2.467845], [2.467845, 0.0, 2.467845], [2.467845, 2.467845, 0.0]]),\n",
       " MSONAtoms(symbols='MgO', pbc=True, cell=[[-2.128355, -2.128355, 0.0], [-2.128355, 0.0, -2.128355], [0.0, -2.128355, -2.128355]]),\n",
       " MSONAtoms(symbols='Mg2Te2', pbc=True, cell=[[2.30544, -3.99314, 0.0], [2.30544, 3.99314, 0.0], [0.0, 0.0, 7.509375]]),\n",
       " MSONAtoms(symbols='KNa2Sb', pbc=True, cell=[[0.0, 3.902076, 3.902076], [3.902076, 0.0, 3.902076], [3.902076, 3.902076, 0.0]]),\n",
       " MSONAtoms(symbols='NaBr', pbc=True, cell=[[0.0, 3.013798, 3.013798], [3.013798, 0.0, 3.013798], [3.013798, 3.013798, 0.0]]),\n",
       " MSONAtoms(symbols='NaCl', pbc=True, cell=[[0.0, 2.845847, 2.845847], [2.845847, 0.0, 2.845847], [2.845847, 2.845847, 0.0]]),\n",
       " MSONAtoms(symbols='NaF', pbc=True, cell=[[-2.331708, -2.331708, 0.0], [-2.331708, 0.0, -2.331708], [0.0, -2.331708, -2.331708]]),\n",
       " MSONAtoms(symbols='NaI', pbc=True, cell=[[0.0, 3.265998, 3.265998], [3.265998, 0.0, 3.265998], [3.265998, 3.265998, 0.0]]),\n",
       " MSONAtoms(symbols='RbBr', pbc=True, cell=[[0.0, 3.513965, 3.513965], [3.513965, 0.0, 3.513965], [3.513965, 3.513965, 0.0]]),\n",
       " MSONAtoms(symbols='RbCl', pbc=True, cell=[[0.0, 3.349364, 3.349364], [3.349364, 0.0, 3.349364], [3.349364, 3.349364, 0.0]]),\n",
       " MSONAtoms(symbols='RbI', pbc=True, cell=[[0.0, 3.743926, 3.743926], [3.743926, 0.0, 3.743926], [3.743926, 3.743926, 0.0]]),\n",
       " MSONAtoms(symbols='Xe', pbc=True, cell=[[0.0, 3.330738, 3.330738], [3.330738, 0.0, 3.330738], [3.330738, 3.330738, 0.0]]),\n",
       " MSONAtoms(symbols='YSbPt', pbc=True, cell=[[0.0, 3.31294, 3.31294], [3.31294, 0.0, 3.31294], [3.31294, 3.31294, 0.0]]),\n",
       " MSONAtoms(symbols='Zn2O2', pbc=True, cell=[[-1.639529, -2.839599, 0.0], [-1.639529, 2.839599, 0.0], [0.0, 0.0, -5.331613]]),\n",
       " MSONAtoms(symbols='ZnS', pbc=True, cell=[[-2.724973, -2.724973, 0.0], [-2.724973, 0.0, -2.724973], [0.0, -2.724973, -2.724973]]),\n",
       " MSONAtoms(symbols='Zn2S2', pbc=True, cell=[[-1.926907, -3.337544, 0.0], [-1.926907, 3.337544, 0.0], [0.0, 0.0, -6.310421]]),\n",
       " MSONAtoms(symbols='ZnSe', pbc=True, cell=[[-2.871843, -2.871843, 0.0], [-2.871843, 0.0, -2.871843], [0.0, -2.871843, -2.871843]])]"
      ]
     },
     "execution_count": 72,
     "metadata": {},
     "output_type": "execute_result"
    }
   ],
   "source": [
    "traj"
   ]
  },
  {
   "cell_type": "code",
   "execution_count": 168,
   "id": "628f4d83-0d3b-4ac0-861c-4da8005aadc2",
   "metadata": {},
   "outputs": [
    {
     "data": {
      "text/plain": [
       "[('Ag', [0.0, 0.0, 0.0]),\n",
       " ('I', [3.5218860379490566, 3.5218860379490566, 3.5218860379490566])]"
      ]
     },
     "execution_count": 168,
     "metadata": {},
     "output_type": "execute_result"
    }
   ],
   "source": [
    "at_coor_abc"
   ]
  },
  {
   "cell_type": "code",
   "execution_count": null,
   "id": "7345b47a-baf2-41b2-b07a-a7642f54752a",
   "metadata": {
    "scrolled": true
   },
   "outputs": [
    {
     "name": "stdout",
     "output_type": "stream",
     "text": [
      "arg.atm = [[11 20  1 23  0  0]\n",
      " [ 7 24  1 27  0  0]]\n",
      "arg.bas = [[  0   0   3   1   0  28  31   0]\n",
      " [  0   0   1   1   0  34  35   0]\n",
      " [  0   0   1   1   0  36  37   0]\n",
      " [  0   0   1   1   0  38  39   0]\n",
      " [  0   0   1   1   0  40  41   0]\n",
      " [  0   1   4   1   0  42  46   0]\n",
      " [  0   1   1   1   0  50  51   0]\n",
      " [  0   1   1   1   0  52  53   0]\n",
      " [  0   2   4   1   0  54  58   0]\n",
      " [  0   2   1   1   0  62  63   0]\n",
      " [  0   3   1   1   0  64  65   0]\n",
      " [  1   0   6   1   0  66  72   0]\n",
      " [  1   0   2   1   0  78  80   0]\n",
      " [  1   0   1   1   0  82  83   0]\n",
      " [  1   0   1   1   0  84  85   0]\n",
      " [  1   1   4   1   0  86  90   0]\n",
      " [  1   1   1   1   0  94  95   0]\n",
      " [  1   1   1   1   0  96  97   0]\n",
      " [  1   1   1   1   0  98  99   0]\n",
      " [  1   2   5   1   0 100 105   0]\n",
      " [  1   2   1   1   0 110 111   0]]\n",
      "arg.env = [ 0.00000000e+00  0.00000000e+00  0.00000000e+00  0.00000000e+00\n",
      "  0.00000000e+00  0.00000000e+00  0.00000000e+00  0.00000000e+00\n",
      "  0.00000000e+00  0.00000000e+00  0.00000000e+00  0.00000000e+00\n",
      "  0.00000000e+00  0.00000000e+00  0.00000000e+00  0.00000000e+00\n",
      "  0.00000000e+00  0.00000000e+00  0.00000000e+00  0.00000000e+00\n",
      "  0.00000000e+00  0.00000000e+00  0.00000000e+00  0.00000000e+00\n",
      "  6.65540005e+00  6.65540005e+00  6.65540005e+00  0.00000000e+00\n",
      "  9.08844200e+00  7.54073100e+00  2.79400500e+00 -2.53536105e+01\n",
      "  3.06594806e+01  1.20033618e+00  1.49181358e+00  3.41036563e+00\n",
      "  6.35791594e-01  1.79887552e+00  1.03684142e-01  4.61635583e-01\n",
      "  3.74600044e-02  2.15125004e-01  4.45124000e+00  3.67526300e+00\n",
      "  1.26106209e+00  5.42124775e-01 -1.89229531e+01  1.57409933e+01\n",
      "  2.54890936e+00  3.51107464e-01  2.02216170e-01  3.95598143e-01\n",
      "  4.12000000e-02  5.41509291e-02  7.79566723e+00  2.89265102e+00\n",
      "  1.24742732e+00  4.93138177e-01 -1.75398854e+00  4.25676211e+00\n",
      "  1.86514874e+00  3.20790941e-01  1.72850326e-01  1.20907222e-01\n",
      "  1.39711000e+00  4.18580714e+00  4.45904892e+02  2.33368424e+01\n",
      "  1.95834461e+01  8.51120892e+00  2.19961619e+00  1.06689705e+00\n",
      "  5.39979780e-01 -4.42000305e+00  9.42019774e+00 -1.04536160e+01\n",
      "  4.15415926e+00  1.22916479e+00  1.17205476e+01  1.76259864e+00\n",
      " -7.51751158e-01  3.96236824e+00  2.86974763e-01  9.90598814e-01\n",
      "  1.12276096e-01  4.90038839e-01  2.04990273e+01  1.05587546e+01\n",
      "  1.50158955e+00  6.45971731e-01  1.07603590e+01 -2.33498236e+01\n",
      "  4.44046976e+00  3.10826767e-01  3.02886568e+00  1.16569359e+01\n",
      "  3.45065918e-01  7.71546270e-01  1.11345138e-01  1.87639154e-01\n",
      "  5.12353549e+01  1.56162395e+01  4.52660021e+00  2.05298088e+00\n",
      "  8.76402816e-01  1.05007654e+01 -1.65208567e+00  1.08627166e+01\n",
      "  4.77712045e+00  6.57679809e-01  3.09000000e-01  3.34161741e-01]\n",
      "ecpbas  = []\n",
      "Discarded 2 diffused primitive functions, 0 contracted functions\n",
      "System: uname_result(system='Linux', node='raider', release='6.5.0-27-generic', version='#28~22.04.1-Ubuntu SMP PREEMPT_DYNAMIC Fri Mar 15 10:51:06 UTC 2', machine='x86_64')  Threads 20\n",
      "Python 3.10.0 (default, Mar  3 2022, 09:58:08) [GCC 7.5.0]\n",
      "numpy 1.26.4  scipy 1.11.4\n",
      "Date: Wed Apr 10 15:09:20 2024\n",
      "PySCF version 2.3.0\n",
      "PySCF path  /home/awills/anaconda3/envs/pyscfad/lib/python3.10/site-packages/pyscf\n",
      "\n",
      "[CONFIG] ARGPARSE = False\n",
      "[CONFIG] DEBUG = False\n",
      "[CONFIG] MAX_MEMORY = 4000\n",
      "[CONFIG] TMPDIR = .\n",
      "[CONFIG] UNIT = angstrom\n",
      "[CONFIG] VERBOSE = 3\n",
      "[CONFIG] conf_file = /home/awills/.pyscf_conf.py\n",
      "[CONFIG] pyscf_numpy_backend = jax\n",
      "[CONFIG] pyscf_scipy_backend = jax\n",
      "[CONFIG] pyscf_scipy_linalg_backend = pyscfad\n",
      "[CONFIG] pyscfad = True\n",
      "[CONFIG] pyscfad_ccsd_implicit_diff = True\n",
      "[CONFIG] pyscfad_scf_implicit_diff = True\n",
      "[INPUT] verbose = 9\n",
      "[INPUT] max_memory = 4000 \n",
      "[INPUT] num. atoms = 2\n",
      "[INPUT] num. electrons = 18\n",
      "[INPUT] charge = 0\n",
      "[INPUT] spin (= nelec alpha-beta = 2S) = 0\n",
      "[INPUT] symmetry False subgroup None\n",
      "[INPUT] Mole.unit = angstrom\n",
      "[INPUT] Symbol           X                Y                Z      unit          X                Y                Z       unit  Magmom\n",
      "[INPUT]  1 Ag     0.000000000000   0.000000000000   0.000000000000 AA    0.000000000000   0.000000000000   0.000000000000 Bohr   0.0\n",
      "[INPUT]  2 I      3.521886037949   3.521886037949   3.521886037949 AA    6.655400053653   6.655400053653   6.655400053653 Bohr   0.0\n",
      "[INPUT] ---------------- BASIS SET ---------------- \n",
      "[INPUT] l, kappa, [nprim/nctr], expnt,             c_1 c_2 ...\n",
      "[INPUT] Ag\n",
      "[INPUT] 0    0    [3    /1   ]  9.088442          -1.9808918797\n",
      "                                7.540731          2.7554513347\n",
      "                                2.794005          0.22715408381\n",
      "[INPUT] 0    0    [1    /1   ]  1.4918135849         1\n",
      "[INPUT] 0    0    [1    /1   ]  0.63579159445        1\n",
      "[INPUT] 0    0    [1    /1   ]  0.10368414161        1\n",
      "[INPUT] 1    0    [4    /1   ]  4.45124           -0.99352103771\n",
      "                                3.675263          1.0500525237\n",
      "                                1.2610620905      0.64747532537\n",
      "                                0.54212477498     0.25621550723\n",
      "[INPUT] 1    0    [1    /1   ]  0.20221617026        1\n",
      "[INPUT] 2    0    [4    /1   ]  7.7956672292      -0.017042912377\n",
      "                                2.8926510238      0.23446154803\n",
      "                                1.2474273203      0.44765877533\n",
      "                                0.49313817671     0.3906495456\n",
      "[INPUT] 2    0    [1    /1   ]  0.17285032603        1\n",
      "[INPUT] 3    0    [1    /1   ]  1.39711              1\n",
      "[INPUT] I\n",
      "[INPUT] 0    0    [6    /1   ]  445.90489176      0.0020037290389\n",
      "                                23.336842412      -0.14989397324\n",
      "                                19.583446104      0.36436474913\n",
      "                                8.5112089186      -0.75538138199\n",
      "                                2.1996161861      0.82816359356\n",
      "                                1.0668970454      0.4216104811\n",
      "[INPUT] 0    0    [2    /1   ]  11.720547572      -0.016160234511\n",
      "                                1.7625986449      0.35271525193\n",
      "[INPUT] 0    0    [1    /1   ]  0.28697476318        1\n",
      "[INPUT] 0    0    [1    /1   ]  0.11227609607        1\n",
      "[INPUT] 1    0    [4    /1   ]  20.499027254      0.077159335656\n",
      "                                10.558754576      -0.3837037278\n",
      "                                1.5015895485      0.83554174719\n",
      "                                0.64597173095     0.16787259488\n",
      "[INPUT] 1    0    [1    /1   ]  3.0288656771         1\n",
      "[INPUT] 1    0    [1    /1   ]  0.34506591841        1\n",
      "[INPUT] 1    0    [1    /1   ]  0.11134513813        1\n",
      "[INPUT] 2    0    [5    /1   ]  51.23535492       0.0040345130346\n",
      "                                15.616239482      -0.0050768108881\n",
      "                                4.5266002139      0.29151065356\n",
      "                                2.0529808766      0.51145783605\n",
      "                                0.87640281623     0.31232025297\n",
      "[INPUT] 2    0    [1    /1   ]  0.309                1\n",
      "\n",
      "mesh for ewald [13 13 13]\n",
      "Ewald components = 0.141685049217512, -42.2546623641835, 4.51128761147511\n",
      "nuclear repulsion = -37.6016897034908\n",
      "number of shells = 19\n",
      "number of NR pGTOs = 114\n",
      "number of NR cGTOs = 53\n",
      "basis = def2-svp\n",
      "ecp = {}\n",
      "bas 0, expnt(s) = [9.088442 7.540731 2.794005]\n",
      "bas 1, expnt(s) = [1.49181358]\n",
      "bas 2, expnt(s) = [0.63579159]\n",
      "bas 3, expnt(s) = [0.10368414]\n",
      "bas 4, expnt(s) = [4.45124    3.675263   1.26106209 0.54212477]\n",
      "bas 5, expnt(s) = [0.20221617]\n",
      "bas 6, expnt(s) = [7.79566723 2.89265102 1.24742732 0.49313818]\n",
      "bas 7, expnt(s) = [0.17285033]\n",
      "bas 8, expnt(s) = [1.39711]\n",
      "bas 9, expnt(s) = [445.90489176  23.33684241  19.5834461    8.51120892   2.19961619\n",
      "   1.06689705]\n",
      "bas 10, expnt(s) = [11.72054757  1.76259864]\n",
      "bas 11, expnt(s) = [0.28697476]\n",
      "bas 12, expnt(s) = [0.1122761]\n",
      "bas 13, expnt(s) = [20.49902725 10.55875458  1.50158955  0.64597173]\n",
      "bas 14, expnt(s) = [3.02886568]\n",
      "bas 15, expnt(s) = [0.34506592]\n",
      "bas 16, expnt(s) = [0.11134514]\n",
      "bas 17, expnt(s) = [51.23535492 15.61623948  4.52660021  2.05298088  0.87640282]\n",
      "bas 18, expnt(s) = [0.309]\n",
      "CPU time:     23519.70\n",
      "lattice vectors  a1 [0.000000000, 6.274771346, 6.274771346]\n",
      "                 a2 [6.274771346, 0.000000000, 6.274771346]\n",
      "                 a3 [6.274771346, 6.274771346, 0.000000000]\n",
      "dimension = 3\n",
      "low_dim_ft_type = None\n",
      "Cell volume = 494.11\n",
      "exp_to_discard = 0.1\n",
      "rcut = 22.768627811350093 (nimgs = [4 4 4])\n",
      "lattice sum = 693 cells\n",
      "precision = 1e-08\n",
      "pseudo = gth-pbe\n",
      "ke_cutoff = 25398.091677004133\n",
      "    = [639 639 639] mesh (260917119 PWs)\n",
      "Set gradient conv threshold to 0.000316228\n",
      "Initial guess from minao.\n",
      "Density of valence part of ANO basis will be used as initial guess for Ag\n",
      "Density of valence part of ANO basis will be used as initial guess for I\n",
      "Big error detected in the electron number of initial guess density matrix (Ne/cell = 17.0127)!\n",
      "  This can cause huge error in Fock matrix and lead to instability in SCF for low-dimensional systems.\n",
      "  DM is normalized wrt the number of electrons 18\n"
     ]
    }
   ],
   "source": [
    "cell = gtop.Cell(verbose=9)\n",
    "cell.atom = at_coor_abc\n",
    "cell.a = lat\n",
    "cell.basis = 'def2-svp'\n",
    "cell.pseudo = 'gth-pbe'\n",
    "cell.exp_to_discard = 0.1\n",
    "cell.build()\n",
    "# kpts = cell.make_kpts([2,2,2])\n",
    "mf = dftp.RKS(cell, xc='pbe')\n",
    "# mf = scfp.RHF(cell)\n",
    "e = mf.kernel()"
   ]
  },
  {
   "cell_type": "code",
   "execution_count": 179,
   "id": "4d7e5e05-1e1d-470f-8064-ab319a5d7ec5",
   "metadata": {},
   "outputs": [
    {
     "data": {
      "text/plain": [
       "(array([2., 2., 2., 2., 2., 2., 2., 2., 2., 0., 0., 0., 0.]),\n",
       " Array([-0.09812588,  0.11092826,  0.11156689,  0.11156689,  0.11292458,\n",
       "         0.11292458,  0.25918294,  0.25918294,  0.26567128,  0.54306331,\n",
       "         0.56076239,  0.56076239,  0.69535016], dtype=float64))"
      ]
     },
     "execution_count": 179,
     "metadata": {},
     "output_type": "execute_result"
    }
   ],
   "source": [
    "mf.mo_occ, mf.mo_energy"
   ]
  },
  {
   "cell_type": "code",
   "execution_count": 180,
   "id": "d339ce21-0790-4b21-a901-3fa71649830c",
   "metadata": {},
   "outputs": [
    {
     "data": {
      "text/plain": [
       "(Array([-0.64118919, -0.43213505, -0.43149642, -0.43149642, -0.43013873,\n",
       "        -0.43013873, -0.28388037, -0.28388037, -0.27739204,  0.        ,\n",
       "         0.01769908,  0.01769908,  0.15228685], dtype=float64),\n",
       " Array([-0.36379716, -0.15474302, -0.15410438, -0.15410438, -0.1527467 ,\n",
       "        -0.1527467 , -0.00648833, -0.00648833,  0.        ,  0.27739204,\n",
       "         0.29509111,  0.29509111,  0.42967889], dtype=float64),\n",
       " Array([-0.09812588,  0.11092826,  0.11156689,  0.11156689,  0.11292458,\n",
       "         0.11292458,  0.25918294,  0.25918294,  0.26567128,  0.54306331,\n",
       "         0.56076239,  0.56076239,  0.69535016], dtype=float64),\n",
       " array([2., 2., 2., 2., 2., 2., 2., 2., 2., 0., 0., 0., 0.]))"
      ]
     },
     "execution_count": 180,
     "metadata": {},
     "output_type": "execute_result"
    }
   ],
   "source": [
    "mf.mo_energy - mf.mo_energy[mf.mo_occ == 0][0], mf.mo_energy - mf.mo_energy[mf.mol.nelectron//2-1], mf.mo_energy, mf.mo_occ"
   ]
  },
  {
   "cell_type": "code",
   "execution_count": 16,
   "id": "59b374f4-8726-4416-a0de-7b7085173a52",
   "metadata": {},
   "outputs": [],
   "source": [
    "a1 = bulk('Si', a=3.867114, b=3.867114, c=3.867114, alpha=60)"
   ]
  },
  {
   "cell_type": "code",
   "execution_count": 17,
   "id": "60255e2b-b21b-4888-92be-85194d485f3b",
   "metadata": {},
   "outputs": [
    {
     "data": {
      "text/plain": [
       "Cell([[0.0, 1.933557, 1.933557], [1.933557, 0.0, 1.933557], [1.933557, 1.933557, 0.0]])"
      ]
     },
     "execution_count": 17,
     "metadata": {},
     "output_type": "execute_result"
    }
   ],
   "source": [
    "a1.cell"
   ]
  },
  {
   "cell_type": "code",
   "execution_count": 62,
   "id": "87586945-87ba-4f27-95ae-8cd74029e977",
   "metadata": {},
   "outputs": [
    {
     "data": {
      "text/plain": [
       "\u001b[0;31mInit signature:\u001b[0m \u001b[0mgtop\u001b[0m\u001b[0;34m.\u001b[0m\u001b[0mCell\u001b[0m\u001b[0;34m(\u001b[0m\u001b[0;34m**\u001b[0m\u001b[0mkwargs\u001b[0m\u001b[0;34m)\u001b[0m\u001b[0;34m\u001b[0m\u001b[0;34m\u001b[0m\u001b[0m\n",
       "\u001b[0;31mDocstring:\u001b[0m     \n",
       "A Cell object holds the basic information of a crystal.\n",
       "\n",
       "Attributes:\n",
       "    a : (3,3) ndarray\n",
       "        Lattice primitive vectors. Each row represents a lattice vector\n",
       "        Reciprocal lattice vectors are given by  b1,b2,b3 = 2 pi inv(a).T\n",
       "    mesh : (3,) list of ints\n",
       "        The number G-vectors along each direction.\n",
       "        The default value is estimated based on :attr:`precision`\n",
       "    pseudo : dict or str\n",
       "        To define pseudopotential.\n",
       "    precision : float\n",
       "        To control Ewald sums and lattice sums accuracy\n",
       "    rcut : float\n",
       "        Cutoff radius (unit Bohr) in lattice summation. The default value\n",
       "        is estimated based on the required :attr:`precision`.\n",
       "    ke_cutoff : float\n",
       "        If set, defines a spherical cutoff of planewaves, with .5 * G**2 < ke_cutoff\n",
       "        The default value is estimated based on :attr:`precision`\n",
       "    dimension : int\n",
       "        Periodic dimensions. Default is 3\n",
       "    low_dim_ft_type : str\n",
       "        For semi-empirical periodic systems, whether to calculate\n",
       "        integrals at the non-PBC dimension using the sampled mesh grids in\n",
       "        infinity vacuum (inf_vacuum) or truncated Coulomb potential\n",
       "        (analytic_2d_1). Unless explicitly specified, analytic_2d_1 is\n",
       "        used for 2D system and inf_vacuum is assumed for 1D and 0D.\n",
       "    space_group_symmetry : bool\n",
       "        Whether to consider space group symmetry. Default is False.\n",
       "    symmorphic : bool\n",
       "        Whether the lattice is symmorphic. If set to True, even if the\n",
       "        lattice is non-symmorphic, only symmorphic space group symmetry\n",
       "        will be considered. Default is False, meaning the space group is\n",
       "        determined by the lattice symmetry to be symmorphic or non-symmorphic.\n",
       "    lattice_symmetry : None or :class:`pbc.symm.Symmetry` instance\n",
       "        The object containing the lattice symmetry information. Default is None.\n",
       "\n",
       "(See other attributes in :class:`Mole`)\n",
       "\n",
       "Examples:\n",
       "\n",
       ">>> mol = Mole(atom='H^2 0 0 0; H 0 0 1.1', basis='sto3g')\n",
       ">>> cl = Cell()\n",
       ">>> cl.build(a='3 0 0; 0 3 0; 0 0 3', atom='C 1 1 1', basis='sto3g')\n",
       ">>> print(cl.atom_symbol(0))\n",
       "C\n",
       "\u001b[0;31mFile:\u001b[0m           ~/anaconda3/envs/pyscfad/lib/python3.10/site-packages/pyscf/pbc/gto/cell.py\n",
       "\u001b[0;31mType:\u001b[0m           type\n",
       "\u001b[0;31mSubclasses:\u001b[0m     _RangeSeparatedCell, Cell"
      ]
     },
     "metadata": {},
     "output_type": "display_data"
    }
   ],
   "source": [
    "gtop.Cell?"
   ]
  },
  {
   "cell_type": "code",
   "execution_count": null,
   "id": "2fbe5ff1-7848-497f-bf6f-2eb5c3c7cba6",
   "metadata": {},
   "outputs": [],
   "source": [
    "gtop"
   ]
  },
  {
   "cell_type": "code",
   "execution_count": 153,
   "id": "9f8b6799-1b7f-4bfb-a23f-669a45a43166",
   "metadata": {},
   "outputs": [
    {
     "name": "stderr",
     "output_type": "stream",
     "text": [
      "/home/awills/anaconda3/envs/pyscfad/lib/python3.10/site-packages/pyscf/pbc/gto/cell.py:243: UserWarning: Function cell.dumps drops attribute a because it is not JSON-serializable\n",
      "  warnings.warn(msg)\n"
     ]
    },
    {
     "name": "stdout",
     "output_type": "stream",
     "text": [
      "converged SCF energy = -7.21836790602506\n"
     ]
    }
   ],
   "source": [
    "mfs = []\n",
    "mols = []\n",
    "energies = []\n",
    "dms = []\n",
    "ao_evals = []\n",
    "gws = []\n",
    "eris = []\n",
    "mo_occs = []\n",
    "hcs = []\n",
    "vs = []\n",
    "ts = []\n",
    "ss = []\n",
    "hologaps = []\n",
    "ogds = []\n",
    "\n",
    "cell = gtop.Cell()\n",
    "a = 5.43\n",
    "cell.atom = [['Si', [0,0,0]],\n",
    "              ['Si', [a/4,a/4,a/4]]]\n",
    "cell.a = jnp.asarray([[0, a/2, a/2],\n",
    "                     [a/2, 0, a/2],\n",
    "                     [a/2, a/2, 0]])\n",
    "cell.basis = 'gth-szv'\n",
    "cell.pseudo = 'gth-pade'\n",
    "cell.exp_to_discard = 0.1\n",
    "cell.build()\n",
    "kpts = cell.make_kpts([2,2,2])\n",
    "mf = dftp.RKS(cell, xc='pbe0')\n",
    "mf2 = dftp.KRKS(cell, xc='pbe0', kpts=kpts)\n",
    "e = mf.kernel()\n",
    "# e2 = mf2.kernel()"
   ]
  },
  {
   "cell_type": "code",
   "execution_count": 19,
   "id": "fab19321-aedd-4aa4-8308-2e811a672aa2",
   "metadata": {},
   "outputs": [
    {
     "data": {
      "text/plain": [
       "RKS-KohnShamDFT object of <class 'pyscf.pbc.dft.rks.RKS'>"
      ]
     },
     "execution_count": 19,
     "metadata": {},
     "output_type": "execute_result"
    }
   ],
   "source": [
    "mf"
   ]
  },
  {
   "cell_type": "code",
   "execution_count": 20,
   "id": "385b6d1b-ffce-4305-ada2-bf8484c20ca6",
   "metadata": {},
   "outputs": [],
   "source": [
    "mfs = []\n",
    "mols = []\n",
    "energies = []\n",
    "dms = []\n",
    "ao_evals = []\n",
    "gws = []\n",
    "eris = []\n",
    "mo_occs = []\n",
    "hcs = []\n",
    "vs = []\n",
    "ts = []\n",
    "ss = []\n",
    "hologaps = []\n",
    "ogds = []\n",
    "\n",
    "mfs.append(mf)\n",
    "dm = mf.make_rdm1()\n",
    "dmj = jnp.array(dm)\n",
    "dmj.flags = dm.flags\n",
    "ao_eval = jnp.array(mf._numint.eval_ao(mf.mol, mf.grids.coords, deriv=2))\n",
    "energies.append(jnp.array(mf.get_veff().exc))\n",
    "dms.append(dmj)\n",
    "ogds.append(dm.shape)\n",
    "ao_evals.append(jnp.array(ao_eval))\n",
    "gws.append(jnp.array(mf.grids.weights))\n",
    "ts.append(jnp.array(mf.mol.intor('int1e_kin')))\n",
    "vs.append(jnp.array(mf.mol.intor('int1e_nuc')))\n",
    "mo_occs.append(jnp.array(mf.mo_occ))\n",
    "hcs.append(jnp.array(mf.get_hcore()))\n",
    "eris.append(jnp.array(mf.mol.intor('int2e')))\n",
    "ss.append(jnp.linalg.inv(jnp.linalg.cholesky(mf.mol.intor('int1e_ovlp'))))\n",
    "hologaps.append(jnp.array(mf.mo_energy[mf.mo_occ == 0][0] - mf.mo_energy[mf.mo_occ > 1][-1]))"
   ]
  },
  {
   "cell_type": "code",
   "execution_count": 21,
   "id": "9ee614a8-f3cf-43c4-8a65-923146f639d9",
   "metadata": {},
   "outputs": [],
   "source": [
    "class Band_gap_1shot_loss(eqx.Module):\n",
    "    def __init__(self):\n",
    "        super().__init__()\n",
    "\n",
    "    def __call__(self, model, ao_eval, gw, dm, eri, mo_occ, hc, s, ogd, refgap, mf, alpha0=0.7):\n",
    "        vgf = lambda x: model(x, ao_eval, gw, mf)\n",
    "        dmp, moep, mocp = xce.utils.get_dm_moe(dm, eri, vgf, mo_occ, hc, s, ogd, alpha0)\n",
    "        \n",
    "        efermi = moep[mf.mol.nelectron//2-1]\n",
    "        moep -= efermi\n",
    "        # print(moep)\n",
    "        moep_gap = jnp.min(moep)\n",
    "        # print(moep_gap)\n",
    "        loss = jnp.sqrt( (moep_gap - refgap)**2)\n",
    "        # print(loss)\n",
    "        return jnp.sqrt( (moep_gap - refgap)**2)\n"
   ]
  },
  {
   "cell_type": "code",
   "execution_count": 43,
   "id": "d99c82dc-8778-4077-bf32-ff6884cac7a6",
   "metadata": {},
   "outputs": [
    {
     "data": {
      "text/plain": [
       "\u001b[0;31mInit signature:\u001b[0m\n",
       "\u001b[0mxce\u001b[0m\u001b[0;34m.\u001b[0m\u001b[0mnet\u001b[0m\u001b[0;34m.\u001b[0m\u001b[0meX\u001b[0m\u001b[0;34m(\u001b[0m\u001b[0;34m\u001b[0m\n",
       "\u001b[0;34m\u001b[0m    \u001b[0mn_input\u001b[0m\u001b[0;34m,\u001b[0m\u001b[0;34m\u001b[0m\n",
       "\u001b[0;34m\u001b[0m    \u001b[0mn_hidden\u001b[0m\u001b[0;34m=\u001b[0m\u001b[0;36m16\u001b[0m\u001b[0;34m,\u001b[0m\u001b[0;34m\u001b[0m\n",
       "\u001b[0;34m\u001b[0m    \u001b[0mdepth\u001b[0m\u001b[0;34m=\u001b[0m\u001b[0;36m3\u001b[0m\u001b[0;34m,\u001b[0m\u001b[0;34m\u001b[0m\n",
       "\u001b[0;34m\u001b[0m    \u001b[0muse\u001b[0m\u001b[0;34m=\u001b[0m\u001b[0;34m[\u001b[0m\u001b[0;34m]\u001b[0m\u001b[0;34m,\u001b[0m\u001b[0;34m\u001b[0m\n",
       "\u001b[0;34m\u001b[0m    \u001b[0mueg_limit\u001b[0m\u001b[0;34m=\u001b[0m\u001b[0;32mFalse\u001b[0m\u001b[0;34m,\u001b[0m\u001b[0;34m\u001b[0m\n",
       "\u001b[0;34m\u001b[0m    \u001b[0mlob\u001b[0m\u001b[0;34m=\u001b[0m\u001b[0;36m1.804\u001b[0m\u001b[0;34m,\u001b[0m\u001b[0;34m\u001b[0m\n",
       "\u001b[0;34m\u001b[0m    \u001b[0mseed\u001b[0m\u001b[0;34m=\u001b[0m\u001b[0;36m92017\u001b[0m\u001b[0;34m,\u001b[0m\u001b[0;34m\u001b[0m\n",
       "\u001b[0;34m\u001b[0m\u001b[0;34m)\u001b[0m\u001b[0;34m\u001b[0m\u001b[0;34m\u001b[0m\u001b[0m\n",
       "\u001b[0;31mDocstring:\u001b[0m      eX(n_input, n_hidden=16, depth=3, use=[], ueg_limit=False, lob=1.804, seed=92017)\n",
       "\u001b[0;31mInit docstring:\u001b[0m\n",
       "__init__ Local exchange model based on MLP.\n",
       "\n",
       "Receives density descriptors in this order : [rho, s, alpha, nl], where the input may be truncated depending on XC-level of approximation.\n",
       "\n",
       "The MLP generated is hard-coded to have one output value -- the predicted exchange energy given a specific input from the grid.\n",
       "\n",
       ":param n_input: Input dimensions (LDA: 1, GGA: 2, meta-GGA: 3, ...)\n",
       ":type n_input: int\n",
       ":param n_hidden: Number of hidden nodes (three hidden layers used by default), defaults to 16\n",
       ":type n_hidden: int, optional\n",
       ":param depth: Depth of the MLP, defaults to 3\n",
       ":type depth: int, optional\n",
       ":param use: Only these indices are used as input to the model (can be used to omit density as input to enforce uniform density scaling). These indices are also used to enforce UEG where the assumed order is [s, alpha, ...], defaults to []\n",
       ":type use: list, optional\n",
       ":param ueg_limit: Flag to determine whether or not to enforce uniform homoegeneous electron gas limit, defaults to False\n",
       ":type ueg_limit: bool, optional\n",
       ":param lob: Enforce this value as local Lieb-Oxford bound (don't enforce if set to 0), defaults to 1.804\n",
       ":type lob: float, optional\n",
       ":param seed: Random seed used to generate initial weights and biases for the MLP, defaults to 92017\n",
       ":type seed: int, optional\n",
       "\u001b[0;31mFile:\u001b[0m           ~/anaconda3/envs/pyscfad/lib/python3.10/site-packages/xcquinox/net.py\n",
       "\u001b[0;31mType:\u001b[0m           _ModuleMeta\n",
       "\u001b[0;31mSubclasses:\u001b[0m     eX"
      ]
     },
     "metadata": {},
     "output_type": "display_data"
    }
   ],
   "source": [
    "xce.net.eX?"
   ]
  },
  {
   "cell_type": "code",
   "execution_count": 44,
   "id": "525188e3-545a-4232-952e-5f75f437b858",
   "metadata": {},
   "outputs": [
    {
     "name": "stdout",
     "output_type": "stream",
     "text": [
      "WARNING: External module \"mldftdat\" required for non-local descriptor use.s\n"
     ]
    }
   ],
   "source": [
    "#update docs, only input =2 ??? for MGGA? holdover from sebastian for some reason\n",
    "xnet = xce.net.eX(n_input = 2, n_hidden=32, depth=4, use = [1, 2], ueg_limit=True, lob=1.174)\n",
    "# I guess use default LOB\n",
    "cnet = xce.net.eC(n_input = 4, n_hidden=32, depth=4, use = [2, 3], ueg_limit=True)\n",
    "blankxc = xce.xc.eXC(grid_models = [xnet, cnet], level=3)\n",
    "p = '/home/awills/Documents/Research/xcquinox/models/pretrained/scan'\n",
    "# xc = eqx.tree_deserialise_leaves(os.path.join(p, 'xc.eqx'), blankxc)\n",
    "xc = blankxc\n",
    "nlxnet = xce.net.eX(n_input = 15, use = [], ueg_limit=True, lob=1.174)\n",
    "nlcnet = xce.net.eC(n_input = 13, use = [], ueg_limit=True)\n",
    "\n",
    "nlxc = xce.xc.eXC(grid_models = [nlxnet, nlcnet], level=4)"
   ]
  },
  {
   "cell_type": "code",
   "execution_count": 45,
   "id": "26b14320-3b22-4ad8-aec2-404fd97acfb1",
   "metadata": {},
   "outputs": [
    {
     "name": "stdout",
     "output_type": "stream",
     "text": [
      "spin_scaling = True; input descr to exc shape: (2, 50653, 3)\n",
      "eX.__call__, rho shape: (2, 50653, 3)\n",
      "spin_scaling = False; input descr to exc shape: (50653, 4)\n",
      "eC.__call__, rho shape: (50653, 4)\n"
     ]
    },
    {
     "data": {
      "text/plain": [
       "Array(-2.51022075, dtype=float64)"
      ]
     },
     "execution_count": 45,
     "metadata": {},
     "output_type": "execute_result"
    }
   ],
   "source": [
    "\n",
    "xc(dms[0], ao_evals[0], gws[0])"
   ]
  },
  {
   "cell_type": "code",
   "execution_count": 24,
   "id": "e03609d2-627a-44e4-a557-ed12c4f4d975",
   "metadata": {},
   "outputs": [],
   "source": [
    "class Band_gap_janak_loss(eqx.Module):\n",
    "    def __init__(self):\n",
    "        \"\"\"\n",
    "        Initializer for the loss module, which attempts to find loss bang gaps w.r.t. reference\n",
    "\n",
    "        .. todo: Make more robust for non-local descriptors\n",
    "        \"\"\"\n",
    "        super().__init__()\n",
    "\n",
    "    def __call__(self, model, ao_eval, gw, dm, eri, mo_occ, hc, s, ogd, refgap, mf, alpha0=0.7):\n",
    "        \"\"\"\n",
    "        Forward pass for loss object\n",
    "\n",
    "        NOTE: This differs from HoLu loss in that it selects the deepest minimum w.r.t. the LUMO (Fermi energy)\n",
    "\n",
    "        :param model: The model that will be used in generating the molecular orbital energies ('band' energies)\n",
    "        :type model: xcquinox.xc.eXC\n",
    "        :param ao_eval: The atomic orbitals evaluated on the grid for the given molecule\n",
    "        :type ao_eval: jax.Array\n",
    "        :param gw: The grid weights associated to the current molecule's grids\n",
    "        :type gw: jax.Array\n",
    "        :param dm: Input reference density matrix for use during the one-shot forward pass to generate the new DM\n",
    "        :type dm: jax.Array\n",
    "        :param eri: Electron repulsion integrals associated with this molecule\n",
    "        :type eri: jax.Array\n",
    "        :param mo_occ: The molecule's molecular orbital occupation numbers\n",
    "        :type mo_occ: jax.Array\n",
    "        :param hc: The molecule's core Hamiltonian\n",
    "        :type hc: jax.Array\n",
    "        :param s: The molecule's overlap matrix\n",
    "        :type s: jax.Array\n",
    "        :param ogd: The original dimensions of this molecule's density matrix, used if padded to constrict the eigendecomposition to a relevant shape\n",
    "        :type ogd: jax.Array\n",
    "        :param refgap: The reference gap to optimzie against\n",
    "        :type refgap: jax.Array\n",
    "        :param mf: A pyscf(ad) converged calculation kernel if self.level > 3, used for building the CIDER nonlocal descriptors, defaults to None\n",
    "        :type mf: pyscfad.dft.RKS kernel\n",
    "        :param alpha0: The mixing parameter for the one-shot density matrix generation, defaults to 0.7\n",
    "        :type alpha0: float, optional\n",
    "        :return: Root-squared error between predicted gap (minimum of molecular energies) and the reference\n",
    "        :rtype: jax.Array\n",
    "        \"\"\"\n",
    "        def janak_theorem_deriv(model, ao_eval, gw, dm, eri, hc, s, ogd, alpha0=0.7):\n",
    "            def ret_func(mo_occ):\n",
    "                vgf = lambda x: model(x, ao_eval, gw)\n",
    "                dmp, moep, mocp = xce.utils.get_dm_moe(dm, eri, vgf, mo_occ, hc, s, ogd, alpha0=alpha0)\n",
    "                return model(dmp, ao_eval, gw)\n",
    "        \n",
    "            return ret_func\n",
    "\n",
    "        janak_f = janak_theorem_deriv(model, ao_eval, gw, dm, eri, hc, s, ogd, alpha0)\n",
    "        homo_i = jnp.max(jnp.nonzero(mo_occ, size=dm.shape[0])[0])\n",
    "\n",
    "        e, derivs = eqx.filter_value_and_grad(janak_f)(mo_occ)\n",
    "\n",
    "        pred_diff = derivs[homo_i+1] - derivs[homo_i]\n",
    "        \n",
    "        loss = jnp.sqrt( (pred_diff - refgap)**2)\n",
    "        # print(loss)\n",
    "        return loss\n"
   ]
  },
  {
   "cell_type": "code",
   "execution_count": 25,
   "id": "795c57ee-66d4-4557-aa44-ca0981accff4",
   "metadata": {
    "jupyter": {
     "source_hidden": true
    }
   },
   "outputs": [],
   "source": [
    "def janak_theorem_deriv(model, ao_eval, gw, dm, eri, moocc, hc, s, ogd, alpha0=0.7):\n",
    "    def ret_func(mo_occ):\n",
    "        vgf = lambda x: model(x, ao_eval, gw)\n",
    "        dmp, moep, mocp = xce.utils.get_dm_moe(dm, eri, vgf, mo_occ, hc, s, ogd, alpha0=alpha0)\n",
    "        return model(dmp, ao_eval, gw)\n",
    "\n",
    "    return ret_func\n",
    "    \n",
    "    \n",
    "    "
   ]
  },
  {
   "cell_type": "code",
   "execution_count": 26,
   "id": "c3bad744-e256-4c43-ad2a-519b91ebbc8c",
   "metadata": {
    "jupyter": {
     "source_hidden": true
    }
   },
   "outputs": [
    {
     "name": "stdout",
     "output_type": "stream",
     "text": [
      "spin_scaling = True; input descr to exc shape: (2, 50653, 3)\n",
      "eX.__call__, rho shape: (2, 50653, 3)\n",
      "spin_scaling = False; input descr to exc shape: (50653, 4)\n",
      "eC.__call__, rho shape: (50653, 4)\n",
      "[8] (8,)\n",
      "(8, 8) (8, 8)\n",
      "Spin unpolarized make_rdm1()\n",
      "spin_scaling = True; input descr to exc shape: (2, 50653, 3)\n",
      "eX.__call__, rho shape: (2, 50653, 3)\n",
      "spin_scaling = False; input descr to exc shape: (50653, 4)\n",
      "eC.__call__, rho shape: (50653, 4)\n"
     ]
    },
    {
     "data": {
      "text/plain": [
       "(Array(-3.11735723, dtype=float64),\n",
       " Array([-0.76418695, -0.23435005, -0.51950138, -0.51950137,  0.        ,\n",
       "         0.        ,  0.        ,  0.        ], dtype=float64))"
      ]
     },
     "execution_count": 26,
     "metadata": {},
     "output_type": "execute_result"
    }
   ],
   "source": [
    "checkd = janak_theorem_deriv(xc, ao_evals[0], gws[0], dms[0], eris[0], mo_occs[0], hcs[0], ss[0], ogds[0], alpha0=0.7)\n",
    "eqx.filter_value_and_grad(checkd)(mo_occs[0])"
   ]
  },
  {
   "cell_type": "code",
   "execution_count": 48,
   "id": "19a7f2d2-f1a7-40b5-93c4-03c08fabe50f",
   "metadata": {
    "scrolled": true
   },
   "outputs": [
    {
     "name": "stdout",
     "output_type": "stream",
     "text": [
      "Epoch 0\n",
      "Epoch 0 :: Batch 0/1\n",
      "spin_scaling = True; input descr to exc shape: (2, 50653, 3)\n",
      "eX.__call__, rho shape: (2, 50653, 3)\n",
      "spin_scaling = False; input descr to exc shape: (50653, 4)\n",
      "eC.__call__, rho shape: (50653, 4)\n",
      "[8] (8,)\n",
      "(8, 8) (8, 8)\n",
      "Spin unpolarized make_rdm1()\n",
      "spin_scaling = True; input descr to exc shape: (2, 50653, 3)\n",
      "eX.__call__, rho shape: (2, 50653, 3)\n",
      "spin_scaling = False; input descr to exc shape: (50653, 4)\n",
      "eC.__call__, rho shape: (50653, 4)\n"
     ]
    },
    {
     "name": "stderr",
     "output_type": "stream",
     "text": [
      "\n",
      "KeyboardInterrupt\n",
      "\n"
     ]
    }
   ],
   "source": [
    "xct = xce.train.xcTrainer(model=xc, optim=optax.adamw(1e-2), steps=100, loss = Band_gap_janak_loss(), do_jit=True)\n",
    "newm = xct(1, xct.model, ao_evals, gws, dms, eris, mo_occs, hcs, ss, ogds, [1.17], mfs)"
   ]
  },
  {
   "cell_type": "code",
   "execution_count": null,
   "id": "02b686df-339e-4fb9-87f1-d19445dd2623",
   "metadata": {},
   "outputs": [],
   "source": []
  },
  {
   "cell_type": "code",
   "execution_count": 39,
   "id": "300d85a6-ba1d-4455-843b-addd058f9950",
   "metadata": {},
   "outputs": [
    {
     "name": "stderr",
     "output_type": "stream",
     "text": [
      "WARNING:jax._src.xla_bridge:CUDA backend failed to initialize: Found CUDA version 12010, but JAX was built against version 12030, which is newer. The copy of CUDA that is installed must be at least as new as the version against which JAX was built. (Set TF_CPP_MIN_LOG_LEVEL=0 and rerun for more info.)\n"
     ]
    },
    {
     "name": "stdout",
     "output_type": "stream",
     "text": [
      "spin_scaling = True; input descr to exc shape: (50653, 15)\n",
      "eX.__call__, rho shape: (50653, 15)\n",
      "spin_scaling = False; input descr to exc shape: (50653, 13)\n",
      "eC.__call__, rho shape: (50653, 13)\n",
      "spin_scaling = True; input descr to exc shape: (2, 50653, 3)\n",
      "eX.__call__, rho shape: (2, 50653, 3)\n",
      "spin_scaling = False; input descr to exc shape: (50653, 4)\n",
      "eC.__call__, rho shape: (50653, 4)\n"
     ]
    }
   ],
   "source": [
    "e1 = nlxc(dms[0], ao_evals[0], gws[0], mfs[0])\n",
    "e2 = newm(dms[0], ao_evals[0], gws[0], mfs[0])"
   ]
  },
  {
   "cell_type": "code",
   "execution_count": 40,
   "id": "004a6b9c-a40d-4f0d-9aef-b0777f3605cc",
   "metadata": {},
   "outputs": [
    {
     "data": {
      "text/plain": [
       "(Array(-2.57218399, dtype=float64), Array(-2.90765126, dtype=float64))"
      ]
     },
     "execution_count": 40,
     "metadata": {},
     "output_type": "execute_result"
    }
   ],
   "source": [
    "e1, e2"
   ]
  },
  {
   "cell_type": "code",
   "execution_count": 41,
   "id": "185de39c-36fb-45fc-978a-07d512447734",
   "metadata": {},
   "outputs": [
    {
     "name": "stdout",
     "output_type": "stream",
     "text": [
      "spin_scaling = True; input descr to exc shape: (2, 50653, 3)\n",
      "eX.__call__, rho shape: (2, 50653, 3)\n",
      "spin_scaling = False; input descr to exc shape: (50653, 4)\n",
      "eC.__call__, rho shape: (50653, 4)\n",
      "[8] (8,)\n",
      "(8, 8) (8, 8)\n",
      "Spin unpolarized make_rdm1()\n",
      "spin_scaling = True; input descr to exc shape: (2, 50653, 3)\n",
      "eX.__call__, rho shape: (2, 50653, 3)\n",
      "spin_scaling = False; input descr to exc shape: (50653, 4)\n",
      "eC.__call__, rho shape: (50653, 4)\n",
      "[8] (8,)\n",
      "(8, 8) (8, 8)\n",
      "Spin unpolarized make_rdm1()\n"
     ]
    }
   ],
   "source": [
    "vgf1 = lambda x: xc(x, ao_evals[0], gws[0], mfs[0])\n",
    "vgf2 = lambda x: newm(x, ao_evals[0], gws[0], mfs[0])\n",
    "dm1, moe1, moc1 = xce.utils.get_dm_moe(dms[0], eris[0], vgf1, mo_occs[0], hcs[0], ss[0], ogds[0])\n",
    "dm2, moe2, moc2 = xce.utils.get_dm_moe(dms[0], eris[0], vgf2, mo_occs[0], hcs[0], ss[0], ogds[0])"
   ]
  },
  {
   "cell_type": "code",
   "execution_count": 42,
   "id": "35f21fe1-62b4-47e4-85dc-f8e05e4e1e04",
   "metadata": {},
   "outputs": [
    {
     "name": "stdout",
     "output_type": "stream",
     "text": [
      "[-6.57726192e-01 -7.60975504e-02 -3.70073737e-07  0.00000000e+00\n",
      "  1.02667394e-01  1.02667614e-01  3.18068487e-01  5.38626343e-01]\n",
      "[-6.86420513e-01 -2.79444128e-02 -3.70097756e-07  0.00000000e+00\n",
      "  1.49307013e-01  1.49307234e-01  3.48533950e-01  5.46699981e-01]\n"
     ]
    }
   ],
   "source": [
    "print(moe1 - moe1[mf.mol.nelectron//2-1])\n",
    "print(moe2 - moe2[mf.mol.nelectron//2-1])"
   ]
  },
  {
   "cell_type": "code",
   "execution_count": null,
   "id": "1b1657c3-a5ca-49eb-858f-e16406ef6f68",
   "metadata": {},
   "outputs": [],
   "source": []
  },
  {
   "cell_type": "code",
   "execution_count": 32,
   "id": "b64e0ab1-0990-44d5-a2ba-e3934e6f6974",
   "metadata": {},
   "outputs": [
    {
     "data": {
      "text/plain": [
       "array([-0.24878937,  0.22904513,  0.22904513,  0.22904513,  0.43234039,\n",
       "        0.43234039,  0.43234039,  0.45784889])"
      ]
     },
     "execution_count": 32,
     "metadata": {},
     "output_type": "execute_result"
    }
   ],
   "source": [
    "mf.mo_energy"
   ]
  },
  {
   "cell_type": "code",
   "execution_count": 33,
   "id": "f2895974-966a-48ad-a316-aa7d8a00c067",
   "metadata": {},
   "outputs": [
    {
     "ename": "NameError",
     "evalue": "name 'b1' is not defined",
     "output_type": "error",
     "traceback": [
      "\u001b[0;31m---------------------------------------------------------------------------\u001b[0m",
      "\u001b[0;31mNameError\u001b[0m                                 Traceback (most recent call last)",
      "Cell \u001b[0;32mIn[33], line 2\u001b[0m\n\u001b[1;32m      1\u001b[0m \u001b[38;5;66;03m# vbmax = -99\u001b[39;00m\n\u001b[0;32m----> 2\u001b[0m \u001b[38;5;28;01mfor\u001b[39;00m en \u001b[38;5;129;01min\u001b[39;00m \u001b[43mb1\u001b[49m[\u001b[38;5;241m0\u001b[39m]:\n\u001b[1;32m      3\u001b[0m     vb_k \u001b[38;5;241m=\u001b[39m en[cell\u001b[38;5;241m.\u001b[39mnelectron\u001b[38;5;241m/\u001b[39m\u001b[38;5;241m/\u001b[39m\u001b[38;5;241m2\u001b[39m\u001b[38;5;241m-\u001b[39m\u001b[38;5;241m1\u001b[39m]\n\u001b[1;32m      4\u001b[0m     \u001b[38;5;28mprint\u001b[39m(\u001b[38;5;124m'\u001b[39m\u001b[38;5;124mThis vb_k\u001b[39m\u001b[38;5;124m'\u001b[39m, vb_k)\n",
      "\u001b[0;31mNameError\u001b[0m: name 'b1' is not defined"
     ]
    }
   ],
   "source": [
    "# vbmax = -99\n",
    "for en in b1[0]:\n",
    "    vb_k = en[cell.nelectron//2-1]\n",
    "    print('This vb_k', vb_k)\n",
    "    if vb_k > vbmax:\n",
    "        vbmax = vb_k\n",
    "e_kn = [en - vbmax for en in b1[0]]"
   ]
  },
  {
   "cell_type": "code",
   "execution_count": null,
   "id": "60a2bcc2-db28-48ef-84d9-cfc0350a003f",
   "metadata": {},
   "outputs": [],
   "source": [
    "e_kn"
   ]
  },
  {
   "cell_type": "code",
   "execution_count": null,
   "id": "9adec472-b1bc-4216-bbf4-de7bac8e738a",
   "metadata": {},
   "outputs": [],
   "source": [
    "mf2 = scfp.RHF(cell)\n",
    "e2 = mf2.kernel()"
   ]
  },
  {
   "cell_type": "code",
   "execution_count": null,
   "id": "75291bcf-b6a5-4a3f-8da6-f00f6f51d040",
   "metadata": {},
   "outputs": [],
   "source": []
  },
  {
   "cell_type": "code",
   "execution_count": null,
   "id": "f49f1729-208c-4e4a-ab20-0431456d85ad",
   "metadata": {},
   "outputs": [],
   "source": [
    "cell.nelectron//2-1"
   ]
  },
  {
   "cell_type": "code",
   "execution_count": null,
   "id": "0bdd8d73-5137-4baa-a176-80264f36fa20",
   "metadata": {},
   "outputs": [],
   "source": [
    "t1 = mf2.mo_energy \n",
    "t2 = mf2.mo_energy - mf2.mo_energy[cell.nelectron//2-1]"
   ]
  },
  {
   "cell_type": "code",
   "execution_count": null,
   "id": "e4101712-1117-4e90-94f5-bae263871d16",
   "metadata": {},
   "outputs": [],
   "source": [
    "t2[jnp.where(abs(t2[jnp.where( (t2 < 0) )[0]]) > 1e-4)[0]]"
   ]
  },
  {
   "cell_type": "code",
   "execution_count": null,
   "id": "f899b451-3656-4c75-a45e-0a20df32cbdf",
   "metadata": {},
   "outputs": [],
   "source": [
    "dm2 = mf2.make_rdm1()"
   ]
  },
  {
   "cell_type": "code",
   "execution_count": null,
   "id": "caa69796-1850-4df4-b3de-d1bfef5d5c43",
   "metadata": {},
   "outputs": [],
   "source": [
    "dmk = mf.make_rdm1()"
   ]
  },
  {
   "cell_type": "code",
   "execution_count": null,
   "id": "eac9677c-fe3b-425f-8eb9-2155743e80a2",
   "metadata": {},
   "outputs": [],
   "source": [
    "mpr = MPRester(api_key = '')\n",
    "mpid = 'mp-149'\n",
    "# ret = mpr.get_bandstructure_by_material_id(mpid)\n",
    "# rets = ret.structure.as_dict()\n",
    "ret = mpr.get_structure_by_material_id(mpid, conventional_unit_cell=False)\n",
    "rets = ret.as_dict()\n",
    "at_coor_xyz = [ (i['species'][0]['element'], [-j for j in i['xyz']]) for i in rets['sites']]\n",
    "at_coor_abc = [ (i['species'][0]['element'], [rets['lattice']['a']*j for j in i['abc']]) for i in rets['sites']]\n",
    "cella = -np.asarray(rets['lattice']['matrix'])"
   ]
  },
  {
   "cell_type": "code",
   "execution_count": null,
   "id": "a103cd73-3c48-4bf5-b8e7-36b0b3d6bd3c",
   "metadata": {},
   "outputs": [],
   "source": [
    "at_coor_xyz, cella"
   ]
  },
  {
   "cell_type": "code",
   "execution_count": null,
   "id": "9e8baf39-03fb-4817-a6a5-951620b7c4e5",
   "metadata": {},
   "outputs": [],
   "source": [
    "cell = gtop.Cell()\n",
    "cell.atom = at_coor_xyz\n",
    "cell.a = cella.T\n",
    "cell.basis = 'gth-szv'\n",
    "cell.pseudo = 'gth-pade'\n",
    "cell.exp_to_discard = 0.1\n",
    "cell.build()\n",
    "kpts = cell.make_kpts([2,2,2])\n",
    "mf = scfp.KRHF(cell, kpts=kpts)\n",
    "e = mf.kernel()"
   ]
  },
  {
   "cell_type": "code",
   "execution_count": null,
   "id": "78d30c1e-faf2-4dc6-bd4a-752a85c279a8",
   "metadata": {},
   "outputs": [],
   "source": [
    "cella"
   ]
  },
  {
   "cell_type": "code",
   "execution_count": null,
   "id": "0b246125-bf10-4a2f-9efa-359adf7bf76b",
   "metadata": {},
   "outputs": [],
   "source": []
  }
 ],
 "metadata": {
  "kernelspec": {
   "display_name": "Python 3 (ipykernel)",
   "language": "python",
   "name": "python3"
  },
  "language_info": {
   "codemirror_mode": {
    "name": "ipython",
    "version": 3
   },
   "file_extension": ".py",
   "mimetype": "text/x-python",
   "name": "python",
   "nbconvert_exporter": "python",
   "pygments_lexer": "ipython3",
   "version": "3.10.0"
  }
 },
 "nbformat": 4,
 "nbformat_minor": 5
}
