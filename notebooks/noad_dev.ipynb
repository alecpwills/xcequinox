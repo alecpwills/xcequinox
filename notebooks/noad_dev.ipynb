{
 "cells": [
  {
   "cell_type": "code",
   "execution_count": 176,
   "id": "146c3044-6873-446f-bdb0-e2086b11b138",
   "metadata": {},
   "outputs": [],
   "source": [
    "from ase import Atoms\n",
    "from ase.io import read\n",
    "import xcquinox as xce\n",
    "import torch, jax, optax\n",
    "import numpy as np\n",
    "import equinox as eqx\n",
    "import jax.numpy as jnp\n",
    "import pyscfad as psa\n",
    "import os, sys\n",
    "from pyscf import dft, scf, gto, df\n",
    "# from pyscf.pbc import scf as scfp\n",
    "# from pyscf.pbc import gto as gtop\n",
    "# from pyscf.pbc import dft as dftp\n",
    "from pyscfad.pbc import scf as scfp\n",
    "from pyscfad.pbc import gto as gtop\n",
    "from pyscfad.pbc import dft as dftp\n",
    "os.environ['XLA_PYTHON_CLIENT_PREALLOCATE']='false'\n",
    "os.environ['XLA_PYTHON_CLIENT_ALLOCATOR'] = 'platform'\n",
    "import pandas as pd\n",
    "from mp_api.client import MPRester\n",
    "from mldftdat.density import get_exchange_descriptors2\n",
    "from mldftdat.analyzers import RKSAnalyzer\n",
    "from emmet.core.summary import HasProps\n",
    "from ase.build import bulk"
   ]
  },
  {
   "cell_type": "code",
   "execution_count": 77,
   "id": "465ca437-0d09-4463-9dba-491d73a30e13",
   "metadata": {},
   "outputs": [],
   "source": [
    "borlido = pd.read_excel('/home/awills/Documents/Research/datasets/borlido2019/gaps.xlsx')"
   ]
  },
  {
   "cell_type": "code",
   "execution_count": 86,
   "id": "8c0218b8-dd5d-4cc0-82da-975c4192c1f8",
   "metadata": {},
   "outputs": [],
   "source": [
    "ids_gaps = borlido[['Material','MP_ID','Unnamed: 18']][1:]"
   ]
  },
  {
   "cell_type": "code",
   "execution_count": 87,
   "id": "d844648c-5ce6-4811-8802-4d1f03835620",
   "metadata": {},
   "outputs": [
    {
     "data": {
      "text/html": [
       "<div>\n",
       "<style scoped>\n",
       "    .dataframe tbody tr th:only-of-type {\n",
       "        vertical-align: middle;\n",
       "    }\n",
       "\n",
       "    .dataframe tbody tr th {\n",
       "        vertical-align: top;\n",
       "    }\n",
       "\n",
       "    .dataframe thead th {\n",
       "        text-align: right;\n",
       "    }\n",
       "</style>\n",
       "<table border=\"1\" class=\"dataframe\">\n",
       "  <thead>\n",
       "    <tr style=\"text-align: right;\">\n",
       "      <th></th>\n",
       "      <th>Material</th>\n",
       "      <th>MP_ID</th>\n",
       "      <th>Unnamed: 18</th>\n",
       "    </tr>\n",
       "  </thead>\n",
       "  <tbody>\n",
       "    <tr>\n",
       "      <th>1</th>\n",
       "      <td>Ag2CrO4</td>\n",
       "      <td>mp-557056</td>\n",
       "      <td>1.75</td>\n",
       "    </tr>\n",
       "    <tr>\n",
       "      <th>2</th>\n",
       "      <td>Ag2GeS3</td>\n",
       "      <td>mp-9900</td>\n",
       "      <td>1.98</td>\n",
       "    </tr>\n",
       "    <tr>\n",
       "      <th>3</th>\n",
       "      <td>Ag2MoO4</td>\n",
       "      <td>mp-19318</td>\n",
       "      <td>3.4</td>\n",
       "    </tr>\n",
       "    <tr>\n",
       "      <th>4</th>\n",
       "      <td>Ag2O</td>\n",
       "      <td>mp-353</td>\n",
       "      <td>1.3</td>\n",
       "    </tr>\n",
       "    <tr>\n",
       "      <th>5</th>\n",
       "      <td>Ag2PdO2</td>\n",
       "      <td>mp-5495</td>\n",
       "      <td>0.18</td>\n",
       "    </tr>\n",
       "    <tr>\n",
       "      <th>...</th>\n",
       "      <td>...</td>\n",
       "      <td>...</td>\n",
       "      <td>...</td>\n",
       "    </tr>\n",
       "    <tr>\n",
       "      <th>468</th>\n",
       "      <td>ZnSnO3</td>\n",
       "      <td>mp-13334</td>\n",
       "      <td>3.9</td>\n",
       "    </tr>\n",
       "    <tr>\n",
       "      <th>469</th>\n",
       "      <td>ZnSnP2</td>\n",
       "      <td>mp-4175</td>\n",
       "      <td>1.683</td>\n",
       "    </tr>\n",
       "    <tr>\n",
       "      <th>470</th>\n",
       "      <td>ZnSnSb2</td>\n",
       "      <td>mp-4756</td>\n",
       "      <td>0.4</td>\n",
       "    </tr>\n",
       "    <tr>\n",
       "      <th>471</th>\n",
       "      <td>ZrS2</td>\n",
       "      <td>mp-1186</td>\n",
       "      <td>1.68</td>\n",
       "    </tr>\n",
       "    <tr>\n",
       "      <th>472</th>\n",
       "      <td>ZrSe2</td>\n",
       "      <td>mp-2076</td>\n",
       "      <td>1.18</td>\n",
       "    </tr>\n",
       "  </tbody>\n",
       "</table>\n",
       "<p>472 rows × 3 columns</p>\n",
       "</div>"
      ],
      "text/plain": [
       "    Material      MP_ID Unnamed: 18\n",
       "1    Ag2CrO4  mp-557056        1.75\n",
       "2    Ag2GeS3    mp-9900        1.98\n",
       "3    Ag2MoO4   mp-19318         3.4\n",
       "4       Ag2O     mp-353         1.3\n",
       "5    Ag2PdO2    mp-5495        0.18\n",
       "..       ...        ...         ...\n",
       "468   ZnSnO3   mp-13334         3.9\n",
       "469   ZnSnP2    mp-4175       1.683\n",
       "470  ZnSnSb2    mp-4756         0.4\n",
       "471     ZrS2    mp-1186        1.68\n",
       "472    ZrSe2    mp-2076        1.18\n",
       "\n",
       "[472 rows x 3 columns]"
      ]
     },
     "execution_count": 87,
     "metadata": {},
     "output_type": "execute_result"
    }
   ],
   "source": [
    "ids_gaps"
   ]
  },
  {
   "cell_type": "code",
   "execution_count": 88,
   "id": "19281734-de60-494f-ba45-57c183b7b50a",
   "metadata": {},
   "outputs": [],
   "source": [
    "ids = ids_gaps['MP_ID'].values"
   ]
  },
  {
   "cell_type": "code",
   "execution_count": 90,
   "id": "9a2a24b2-cc17-403f-8b03-28f306805c84",
   "metadata": {},
   "outputs": [
    {
     "data": {
      "text/plain": [
       "472"
      ]
     },
     "execution_count": 90,
     "metadata": {},
     "output_type": "execute_result"
    }
   ],
   "source": [
    "len(ids)"
   ]
  },
  {
   "cell_type": "code",
   "execution_count": 105,
   "id": "27a656e2-fb89-42bf-9632-1d5bd1282448",
   "metadata": {},
   "outputs": [
    {
     "data": {
      "text/plain": [
       "134"
      ]
     },
     "execution_count": 105,
     "metadata": {},
     "output_type": "execute_result"
    }
   ],
   "source": [
    "len(ggdirectids)"
   ]
  },
  {
   "cell_type": "code",
   "execution_count": null,
   "id": "f6f40060-09d9-4e59-a1ac-a18c664e17e7",
   "metadata": {},
   "outputs": [],
   "source": []
  },
  {
   "cell_type": "code",
   "execution_count": 100,
   "id": "19b28c4f-f62f-4777-8b4f-f30c32b41865",
   "metadata": {},
   "outputs": [],
   "source": [
    "ggdirectids = [i[1] for i in borlido_gg_direct]"
   ]
  },
  {
   "cell_type": "code",
   "execution_count": 102,
   "id": "99382675-a953-4a1b-87de-ef0e4948eca1",
   "metadata": {},
   "outputs": [],
   "source": [
    "ggdirect_df = borlido[borlido['MP_ID'].isin(ggdirectids)]"
   ]
  },
  {
   "cell_type": "code",
   "execution_count": 104,
   "id": "fff03cd8-4eb0-4e88-bdba-96f72475ff5a",
   "metadata": {},
   "outputs": [],
   "source": [
    "ggdirect_df.to_excel('/home/awills/Documents/Research/datasets/borlido2019/gg_direct_gaps.xlsx')"
   ]
  },
  {
   "cell_type": "code",
   "execution_count": 98,
   "id": "1d582dba-4ad5-4d0e-b6d9-7de6df04d54a",
   "metadata": {
    "scrolled": true
   },
   "outputs": [
    {
     "data": {
      "application/vnd.jupyter.widget-view+json": {
       "model_id": "652e80b644054cbcb1d53c39a8c273ca",
       "version_major": 2,
       "version_minor": 0
      },
      "text/plain": [
       "Retrieving ElectronicStructureDoc documents: 0it [00:00, ?it/s]"
      ]
     },
     "metadata": {},
     "output_type": "display_data"
    },
    {
     "name": "stdout",
     "output_type": "stream",
     "text": [
      "0 mp-557056 has no bandstructure data on mp\n"
     ]
    },
    {
     "data": {
      "application/vnd.jupyter.widget-view+json": {
       "model_id": "ed89e8ec76be462081d43135aaca4d22",
       "version_major": 2,
       "version_minor": 0
      },
      "text/plain": [
       "Retrieving ElectronicStructureDoc documents:   0%|          | 0/1 [00:00<?, ?it/s]"
      ]
     },
     "metadata": {},
     "output_type": "display_data"
    },
    {
     "data": {
      "application/vnd.jupyter.widget-view+json": {
       "model_id": "772279bf2dfe47a2a78281f956127eff",
       "version_major": 2,
       "version_minor": 0
      },
      "text/plain": [
       "Retrieving ElectronicStructureDoc documents:   0%|          | 0/1 [00:00<?, ?it/s]"
      ]
     },
     "metadata": {},
     "output_type": "display_data"
    },
    {
     "name": "stdout",
     "output_type": "stream",
     "text": [
      "2 mp-19318 direct gamma to gamma transition found\n"
     ]
    },
    {
     "data": {
      "application/vnd.jupyter.widget-view+json": {
       "model_id": "15c8f06079c9475887548d32a50287ab",
       "version_major": 2,
       "version_minor": 0
      },
      "text/plain": [
       "Retrieving ElectronicStructureDoc documents:   0%|          | 0/1 [00:00<?, ?it/s]"
      ]
     },
     "metadata": {},
     "output_type": "display_data"
    },
    {
     "data": {
      "application/vnd.jupyter.widget-view+json": {
       "model_id": "7275de10d10a4f0fa605a6f86265407b",
       "version_major": 2,
       "version_minor": 0
      },
      "text/plain": [
       "Retrieving ElectronicStructureDoc documents:   0%|          | 0/1 [00:00<?, ?it/s]"
      ]
     },
     "metadata": {},
     "output_type": "display_data"
    },
    {
     "data": {
      "application/vnd.jupyter.widget-view+json": {
       "model_id": "ac56f8617fd1496fa95371aa5cd68005",
       "version_major": 2,
       "version_minor": 0
      },
      "text/plain": [
       "Retrieving ElectronicStructureDoc documents:   0%|          | 0/1 [00:00<?, ?it/s]"
      ]
     },
     "metadata": {},
     "output_type": "display_data"
    },
    {
     "data": {
      "application/vnd.jupyter.widget-view+json": {
       "model_id": "7bea1282b7cf4add90c15851e0b41272",
       "version_major": 2,
       "version_minor": 0
      },
      "text/plain": [
       "Retrieving ElectronicStructureDoc documents:   0%|          | 0/1 [00:00<?, ?it/s]"
      ]
     },
     "metadata": {},
     "output_type": "display_data"
    },
    {
     "data": {
      "application/vnd.jupyter.widget-view+json": {
       "model_id": "0205b7e0d4d0407ea5d640bbe6fd9f60",
       "version_major": 2,
       "version_minor": 0
      },
      "text/plain": [
       "Retrieving ElectronicStructureDoc documents:   0%|          | 0/1 [00:00<?, ?it/s]"
      ]
     },
     "metadata": {},
     "output_type": "display_data"
    },
    {
     "data": {
      "application/vnd.jupyter.widget-view+json": {
       "model_id": "a834499440964d8c8348f8e8319e9da4",
       "version_major": 2,
       "version_minor": 0
      },
      "text/plain": [
       "Retrieving ElectronicStructureDoc documents:   0%|          | 0/1 [00:00<?, ?it/s]"
      ]
     },
     "metadata": {},
     "output_type": "display_data"
    },
    {
     "data": {
      "application/vnd.jupyter.widget-view+json": {
       "model_id": "e181d1267971468fb0d7cfc99ef400c0",
       "version_major": 2,
       "version_minor": 0
      },
      "text/plain": [
       "Retrieving ElectronicStructureDoc documents:   0%|          | 0/1 [00:00<?, ?it/s]"
      ]
     },
     "metadata": {},
     "output_type": "display_data"
    },
    {
     "data": {
      "application/vnd.jupyter.widget-view+json": {
       "model_id": "0a26bcb1474b4b4db3c9aae757922571",
       "version_major": 2,
       "version_minor": 0
      },
      "text/plain": [
       "Retrieving ElectronicStructureDoc documents:   0%|          | 0/1 [00:00<?, ?it/s]"
      ]
     },
     "metadata": {},
     "output_type": "display_data"
    },
    {
     "data": {
      "application/vnd.jupyter.widget-view+json": {
       "model_id": "8a5edf1b482545f384876d4d224a952b",
       "version_major": 2,
       "version_minor": 0
      },
      "text/plain": [
       "Retrieving ElectronicStructureDoc documents:   0%|          | 0/1 [00:00<?, ?it/s]"
      ]
     },
     "metadata": {},
     "output_type": "display_data"
    },
    {
     "name": "stdout",
     "output_type": "stream",
     "text": [
      "11 mp-5782 direct gamma to gamma transition found\n"
     ]
    },
    {
     "data": {
      "application/vnd.jupyter.widget-view+json": {
       "model_id": "17177b8789fe48439e6a05a876ace4c9",
       "version_major": 2,
       "version_minor": 0
      },
      "text/plain": [
       "Retrieving ElectronicStructureDoc documents:   0%|          | 0/1 [00:00<?, ?it/s]"
      ]
     },
     "metadata": {},
     "output_type": "display_data"
    },
    {
     "name": "stdout",
     "output_type": "stream",
     "text": [
      "12 mp-14091 direct gamma to gamma transition found\n"
     ]
    },
    {
     "data": {
      "application/vnd.jupyter.widget-view+json": {
       "model_id": "8cd0cc442b1842049b613bfe3094f026",
       "version_major": 2,
       "version_minor": 0
      },
      "text/plain": [
       "Retrieving ElectronicStructureDoc documents:   0%|          | 0/1 [00:00<?, ?it/s]"
      ]
     },
     "metadata": {},
     "output_type": "display_data"
    },
    {
     "name": "stdout",
     "output_type": "stream",
     "text": [
      "13 mp-14092 direct gamma to gamma transition found\n"
     ]
    },
    {
     "data": {
      "application/vnd.jupyter.widget-view+json": {
       "model_id": "df7494aaeb4e4e539525c8071cf84f08",
       "version_major": 2,
       "version_minor": 0
      },
      "text/plain": [
       "Retrieving ElectronicStructureDoc documents:   0%|          | 0/1 [00:00<?, ?it/s]"
      ]
     },
     "metadata": {},
     "output_type": "display_data"
    },
    {
     "data": {
      "application/vnd.jupyter.widget-view+json": {
       "model_id": "fd3efa79bfc643b4af502e037c1b12f5",
       "version_major": 2,
       "version_minor": 0
      },
      "text/plain": [
       "Retrieving ElectronicStructureDoc documents:   0%|          | 0/1 [00:00<?, ?it/s]"
      ]
     },
     "metadata": {},
     "output_type": "display_data"
    },
    {
     "data": {
      "application/vnd.jupyter.widget-view+json": {
       "model_id": "49f1fc6c19a34cd3b69ed8ae78f1ae1b",
       "version_major": 2,
       "version_minor": 0
      },
      "text/plain": [
       "Retrieving ElectronicStructureDoc documents:   0%|          | 0/1 [00:00<?, ?it/s]"
      ]
     },
     "metadata": {},
     "output_type": "display_data"
    },
    {
     "data": {
      "application/vnd.jupyter.widget-view+json": {
       "model_id": "5e488e6989cc4cf4b8076c845923b718",
       "version_major": 2,
       "version_minor": 0
      },
      "text/plain": [
       "Retrieving ElectronicStructureDoc documents:   0%|          | 0/1 [00:00<?, ?it/s]"
      ]
     },
     "metadata": {},
     "output_type": "display_data"
    },
    {
     "data": {
      "application/vnd.jupyter.widget-view+json": {
       "model_id": "59255b1ba6164df38c4a83a3bc125778",
       "version_major": 2,
       "version_minor": 0
      },
      "text/plain": [
       "Retrieving ElectronicStructureDoc documents:   0%|          | 0/1 [00:00<?, ?it/s]"
      ]
     },
     "metadata": {},
     "output_type": "display_data"
    },
    {
     "data": {
      "application/vnd.jupyter.widget-view+json": {
       "model_id": "a40434c4c2d34d87936925937ee0eda6",
       "version_major": 2,
       "version_minor": 0
      },
      "text/plain": [
       "Retrieving ElectronicStructureDoc documents:   0%|          | 0/1 [00:00<?, ?it/s]"
      ]
     },
     "metadata": {},
     "output_type": "display_data"
    },
    {
     "name": "stdout",
     "output_type": "stream",
     "text": [
      "19 mp-5342 direct gamma to gamma transition found\n"
     ]
    },
    {
     "data": {
      "application/vnd.jupyter.widget-view+json": {
       "model_id": "8c1b367a4423436288a61f293df88b5e",
       "version_major": 2,
       "version_minor": 0
      },
      "text/plain": [
       "Retrieving ElectronicStructureDoc documents:   0%|          | 0/1 [00:00<?, ?it/s]"
      ]
     },
     "metadata": {},
     "output_type": "display_data"
    },
    {
     "name": "stdout",
     "output_type": "stream",
     "text": [
      "20 mp-5518 direct gamma to gamma transition found\n"
     ]
    },
    {
     "data": {
      "application/vnd.jupyter.widget-view+json": {
       "model_id": "ce84bc8709104ec6889598916c3b4fb6",
       "version_major": 2,
       "version_minor": 0
      },
      "text/plain": [
       "Retrieving ElectronicStructureDoc documents:   0%|          | 0/1 [00:00<?, ?it/s]"
      ]
     },
     "metadata": {},
     "output_type": "display_data"
    },
    {
     "name": "stdout",
     "output_type": "stream",
     "text": [
      "21 mp-4899 direct gamma to gamma transition found\n"
     ]
    },
    {
     "data": {
      "application/vnd.jupyter.widget-view+json": {
       "model_id": "610114bfb47f4dd294f50d4b7c6931f3",
       "version_major": 2,
       "version_minor": 0
      },
      "text/plain": [
       "Retrieving ElectronicStructureDoc documents:   0%|          | 0/1 [00:00<?, ?it/s]"
      ]
     },
     "metadata": {},
     "output_type": "display_data"
    },
    {
     "name": "stdout",
     "output_type": "stream",
     "text": [
      "22 mp-22894 direct gamma to gamma transition found\n"
     ]
    },
    {
     "data": {
      "application/vnd.jupyter.widget-view+json": {
       "model_id": "9d5d4e96b46a46e78d084e644278af5a",
       "version_major": 2,
       "version_minor": 0
      },
      "text/plain": [
       "Retrieving ElectronicStructureDoc documents:   0%|          | 0/1 [00:00<?, ?it/s]"
      ]
     },
     "metadata": {},
     "output_type": "display_data"
    },
    {
     "name": "stdout",
     "output_type": "stream",
     "text": [
      "23 mp-22925 direct gamma to gamma transition found\n"
     ]
    },
    {
     "data": {
      "application/vnd.jupyter.widget-view+json": {
       "model_id": "eba8a07ac02b40eeaa2e8c77404ee65b",
       "version_major": 2,
       "version_minor": 0
      },
      "text/plain": [
       "Retrieving ElectronicStructureDoc documents:   0%|          | 0/1 [00:00<?, ?it/s]"
      ]
     },
     "metadata": {},
     "output_type": "display_data"
    },
    {
     "data": {
      "application/vnd.jupyter.widget-view+json": {
       "model_id": "313bbc019e284ac2848d5d66b35d32c1",
       "version_major": 2,
       "version_minor": 0
      },
      "text/plain": [
       "Retrieving ElectronicStructureDoc documents:   0%|          | 0/1 [00:00<?, ?it/s]"
      ]
     },
     "metadata": {},
     "output_type": "display_data"
    },
    {
     "name": "stdout",
     "output_type": "stream",
     "text": [
      "25 mp-19833 direct gamma to gamma transition found\n"
     ]
    },
    {
     "data": {
      "application/vnd.jupyter.widget-view+json": {
       "model_id": "4ed2cd86f7c74d29901d606842a50efe",
       "version_major": 2,
       "version_minor": 0
      },
      "text/plain": [
       "Retrieving ElectronicStructureDoc documents:   0%|          | 0/1 [00:00<?, ?it/s]"
      ]
     },
     "metadata": {},
     "output_type": "display_data"
    },
    {
     "data": {
      "application/vnd.jupyter.widget-view+json": {
       "model_id": "69c921e24aae4ffca9525ec013602924",
       "version_major": 2,
       "version_minor": 0
      },
      "text/plain": [
       "Retrieving ElectronicStructureDoc documents:   0%|          | 0/1 [00:00<?, ?it/s]"
      ]
     },
     "metadata": {},
     "output_type": "display_data"
    },
    {
     "name": "stdout",
     "output_type": "stream",
     "text": [
      "27 mp-22386 direct gamma to gamma transition found\n"
     ]
    },
    {
     "data": {
      "application/vnd.jupyter.widget-view+json": {
       "model_id": "5e10bacf04ca48a7b343e9cb7460b7f8",
       "version_major": 2,
       "version_minor": 0
      },
      "text/plain": [
       "Retrieving ElectronicStructureDoc documents:   0%|          | 0/1 [00:00<?, ?it/s]"
      ]
     },
     "metadata": {},
     "output_type": "display_data"
    },
    {
     "data": {
      "application/vnd.jupyter.widget-view+json": {
       "model_id": "8dccb42893244f8ba152dd4a84592c70",
       "version_major": 2,
       "version_minor": 0
      },
      "text/plain": [
       "Retrieving ElectronicStructureDoc documents:   0%|          | 0/1 [00:00<?, ?it/s]"
      ]
     },
     "metadata": {},
     "output_type": "display_data"
    },
    {
     "name": "stdout",
     "output_type": "stream",
     "text": [
      "29 mp-1143 direct gamma to gamma transition found\n"
     ]
    },
    {
     "data": {
      "application/vnd.jupyter.widget-view+json": {
       "model_id": "976a1e5c055a4fca9a5325b2c58c2d7b",
       "version_major": 2,
       "version_minor": 0
      },
      "text/plain": [
       "Retrieving ElectronicStructureDoc documents:   0%|          | 0/1 [00:00<?, ?it/s]"
      ]
     },
     "metadata": {},
     "output_type": "display_data"
    },
    {
     "data": {
      "application/vnd.jupyter.widget-view+json": {
       "model_id": "62ddfd9d17974f1e802531e1e298b39c",
       "version_major": 2,
       "version_minor": 0
      },
      "text/plain": [
       "Retrieving ElectronicStructureDoc documents:   0%|          | 0/1 [00:00<?, ?it/s]"
      ]
     },
     "metadata": {},
     "output_type": "display_data"
    },
    {
     "name": "stdout",
     "output_type": "stream",
     "text": [
      "31 mp-661 direct gamma to gamma transition found\n"
     ]
    },
    {
     "data": {
      "application/vnd.jupyter.widget-view+json": {
       "model_id": "6de936410c1c4399a4f26c52935ea120",
       "version_major": 2,
       "version_minor": 0
      },
      "text/plain": [
       "Retrieving ElectronicStructureDoc documents:   0%|          | 0/1 [00:00<?, ?it/s]"
      ]
     },
     "metadata": {},
     "output_type": "display_data"
    },
    {
     "data": {
      "application/vnd.jupyter.widget-view+json": {
       "model_id": "e3105da4b86f4254ac9a491b69fc88ba",
       "version_major": 2,
       "version_minor": 0
      },
      "text/plain": [
       "Retrieving ElectronicStructureDoc documents:   0%|          | 0/1 [00:00<?, ?it/s]"
      ]
     },
     "metadata": {},
     "output_type": "display_data"
    },
    {
     "data": {
      "application/vnd.jupyter.widget-view+json": {
       "model_id": "3e118e67fb5a4b3d9a38358937eaad5a",
       "version_major": 2,
       "version_minor": 0
      },
      "text/plain": [
       "Retrieving ElectronicStructureDoc documents:   0%|          | 0/1 [00:00<?, ?it/s]"
      ]
     },
     "metadata": {},
     "output_type": "display_data"
    },
    {
     "data": {
      "application/vnd.jupyter.widget-view+json": {
       "model_id": "5c6264146cd54b47bede923a5602b9d6",
       "version_major": 2,
       "version_minor": 0
      },
      "text/plain": [
       "Retrieving ElectronicStructureDoc documents:   0%|          | 0/1 [00:00<?, ?it/s]"
      ]
     },
     "metadata": {},
     "output_type": "display_data"
    },
    {
     "name": "stdout",
     "output_type": "stream",
     "text": [
      "35 mp-23155 direct gamma to gamma transition found\n"
     ]
    },
    {
     "data": {
      "application/vnd.jupyter.widget-view+json": {
       "model_id": "b00840e756cd4392bdb387f6fd048cf4",
       "version_major": 2,
       "version_minor": 0
      },
      "text/plain": [
       "Retrieving ElectronicStructureDoc documents:   0%|          | 0/1 [00:00<?, ?it/s]"
      ]
     },
     "metadata": {},
     "output_type": "display_data"
    },
    {
     "data": {
      "application/vnd.jupyter.widget-view+json": {
       "model_id": "c5a17766eb72452daf78c16538466de7",
       "version_major": 2,
       "version_minor": 0
      },
      "text/plain": [
       "Retrieving ElectronicStructureDoc documents:   0%|          | 0/1 [00:00<?, ?it/s]"
      ]
     },
     "metadata": {},
     "output_type": "display_data"
    },
    {
     "data": {
      "application/vnd.jupyter.widget-view+json": {
       "model_id": "2f88df028fe9469284cc401807b27c60",
       "version_major": 2,
       "version_minor": 0
      },
      "text/plain": [
       "Retrieving ElectronicStructureDoc documents:   0%|          | 0/1 [00:00<?, ?it/s]"
      ]
     },
     "metadata": {},
     "output_type": "display_data"
    },
    {
     "data": {
      "application/vnd.jupyter.widget-view+json": {
       "model_id": "648d7bf3473e4bf19cc744cbc82b77eb",
       "version_major": 2,
       "version_minor": 0
      },
      "text/plain": [
       "Retrieving ElectronicStructureDoc documents:   0%|          | 0/1 [00:00<?, ?it/s]"
      ]
     },
     "metadata": {},
     "output_type": "display_data"
    },
    {
     "data": {
      "application/vnd.jupyter.widget-view+json": {
       "model_id": "3abd4ad13fa6493097448312f5c08de4",
       "version_major": 2,
       "version_minor": 0
      },
      "text/plain": [
       "Retrieving ElectronicStructureDoc documents:   0%|          | 0/1 [00:00<?, ?it/s]"
      ]
     },
     "metadata": {},
     "output_type": "display_data"
    },
    {
     "data": {
      "application/vnd.jupyter.widget-view+json": {
       "model_id": "47829780be654436b6eec7681f6de073",
       "version_major": 2,
       "version_minor": 0
      },
      "text/plain": [
       "Retrieving ElectronicStructureDoc documents:   0%|          | 0/1 [00:00<?, ?it/s]"
      ]
     },
     "metadata": {},
     "output_type": "display_data"
    },
    {
     "data": {
      "application/vnd.jupyter.widget-view+json": {
       "model_id": "6de223a590ce4bc89f0325cbdeaa9ee4",
       "version_major": 2,
       "version_minor": 0
      },
      "text/plain": [
       "Retrieving ElectronicStructureDoc documents:   0%|          | 0/1 [00:00<?, ?it/s]"
      ]
     },
     "metadata": {},
     "output_type": "display_data"
    },
    {
     "data": {
      "application/vnd.jupyter.widget-view+json": {
       "model_id": "d39b98daa3f3447c86a02eb0e299971c",
       "version_major": 2,
       "version_minor": 0
      },
      "text/plain": [
       "Retrieving ElectronicStructureDoc documents:   0%|          | 0/1 [00:00<?, ?it/s]"
      ]
     },
     "metadata": {},
     "output_type": "display_data"
    },
    {
     "data": {
      "application/vnd.jupyter.widget-view+json": {
       "model_id": "74c6bafd2ba141fc886df2216e098579",
       "version_major": 2,
       "version_minor": 0
      },
      "text/plain": [
       "Retrieving ElectronicStructureDoc documents:   0%|          | 0/1 [00:00<?, ?it/s]"
      ]
     },
     "metadata": {},
     "output_type": "display_data"
    },
    {
     "data": {
      "application/vnd.jupyter.widget-view+json": {
       "model_id": "1cdbbc4227244921b4d886178d181b84",
       "version_major": 2,
       "version_minor": 0
      },
      "text/plain": [
       "Retrieving ElectronicStructureDoc documents:   0%|          | 0/1 [00:00<?, ?it/s]"
      ]
     },
     "metadata": {},
     "output_type": "display_data"
    },
    {
     "data": {
      "application/vnd.jupyter.widget-view+json": {
       "model_id": "fbe06dac18d643209ec0cc9e86a6735a",
       "version_major": 2,
       "version_minor": 0
      },
      "text/plain": [
       "Retrieving ElectronicStructureDoc documents:   0%|          | 0/1 [00:00<?, ?it/s]"
      ]
     },
     "metadata": {},
     "output_type": "display_data"
    },
    {
     "data": {
      "application/vnd.jupyter.widget-view+json": {
       "model_id": "d410578c09344a2d821e2585b159b3e6",
       "version_major": 2,
       "version_minor": 0
      },
      "text/plain": [
       "Retrieving ElectronicStructureDoc documents:   0%|          | 0/1 [00:00<?, ?it/s]"
      ]
     },
     "metadata": {},
     "output_type": "display_data"
    },
    {
     "data": {
      "application/vnd.jupyter.widget-view+json": {
       "model_id": "d5a0c1bf0167479d9fdb37027d63dea2",
       "version_major": 2,
       "version_minor": 0
      },
      "text/plain": [
       "Retrieving ElectronicStructureDoc documents:   0%|          | 0/1 [00:00<?, ?it/s]"
      ]
     },
     "metadata": {},
     "output_type": "display_data"
    },
    {
     "data": {
      "application/vnd.jupyter.widget-view+json": {
       "model_id": "144878e5287449b3894d83b48dbefd90",
       "version_major": 2,
       "version_minor": 0
      },
      "text/plain": [
       "Retrieving ElectronicStructureDoc documents:   0%|          | 0/1 [00:00<?, ?it/s]"
      ]
     },
     "metadata": {},
     "output_type": "display_data"
    },
    {
     "data": {
      "application/vnd.jupyter.widget-view+json": {
       "model_id": "62d96da1675f48359c50cd062617e287",
       "version_major": 2,
       "version_minor": 0
      },
      "text/plain": [
       "Retrieving ElectronicStructureDoc documents:   0%|          | 0/1 [00:00<?, ?it/s]"
      ]
     },
     "metadata": {},
     "output_type": "display_data"
    },
    {
     "data": {
      "application/vnd.jupyter.widget-view+json": {
       "model_id": "a1c4bfce2abf4253b7b22104e05650ef",
       "version_major": 2,
       "version_minor": 0
      },
      "text/plain": [
       "Retrieving ElectronicStructureDoc documents:   0%|          | 0/1 [00:00<?, ?it/s]"
      ]
     },
     "metadata": {},
     "output_type": "display_data"
    },
    {
     "name": "stdout",
     "output_type": "stream",
     "text": [
      "51 mp-23199 direct gamma to gamma transition found\n"
     ]
    },
    {
     "data": {
      "application/vnd.jupyter.widget-view+json": {
       "model_id": "206351e06a504cd889178d48763889ec",
       "version_major": 2,
       "version_minor": 0
      },
      "text/plain": [
       "Retrieving ElectronicStructureDoc documents:   0%|          | 0/1 [00:00<?, ?it/s]"
      ]
     },
     "metadata": {},
     "output_type": "display_data"
    },
    {
     "data": {
      "application/vnd.jupyter.widget-view+json": {
       "model_id": "4a367f33452a41bb854e3d744385a652",
       "version_major": 2,
       "version_minor": 0
      },
      "text/plain": [
       "Retrieving ElectronicStructureDoc documents:   0%|          | 0/1 [00:00<?, ?it/s]"
      ]
     },
     "metadata": {},
     "output_type": "display_data"
    },
    {
     "name": "stdout",
     "output_type": "stream",
     "text": [
      "53 mp-5970 direct gamma to gamma transition found\n"
     ]
    },
    {
     "data": {
      "application/vnd.jupyter.widget-view+json": {
       "model_id": "c95cdda3d96d43e19295c0720364c9a5",
       "version_major": 2,
       "version_minor": 0
      },
      "text/plain": [
       "Retrieving ElectronicStructureDoc documents:   0%|          | 0/1 [00:00<?, ?it/s]"
      ]
     },
     "metadata": {},
     "output_type": "display_data"
    },
    {
     "data": {
      "application/vnd.jupyter.widget-view+json": {
       "model_id": "fadab4707b134c44b5fb01e58ccacbf4",
       "version_major": 2,
       "version_minor": 0
      },
      "text/plain": [
       "Retrieving ElectronicStructureDoc documents:   0%|          | 0/1 [00:00<?, ?it/s]"
      ]
     },
     "metadata": {},
     "output_type": "display_data"
    },
    {
     "name": "stdout",
     "output_type": "stream",
     "text": [
      "55 mp-13287 direct gamma to gamma transition found\n"
     ]
    },
    {
     "data": {
      "application/vnd.jupyter.widget-view+json": {
       "model_id": "40891cc905764cda8d02298076cf684c",
       "version_major": 2,
       "version_minor": 0
      },
      "text/plain": [
       "Retrieving ElectronicStructureDoc documents:   0%|          | 0/1 [00:00<?, ?it/s]"
      ]
     },
     "metadata": {},
     "output_type": "display_data"
    },
    {
     "data": {
      "application/vnd.jupyter.widget-view+json": {
       "model_id": "b8b0e1f03a2a493b9b40b8640366165c",
       "version_major": 2,
       "version_minor": 0
      },
      "text/plain": [
       "Retrieving ElectronicStructureDoc documents:   0%|          | 0/1 [00:00<?, ?it/s]"
      ]
     },
     "metadata": {},
     "output_type": "display_data"
    },
    {
     "data": {
      "application/vnd.jupyter.widget-view+json": {
       "model_id": "bef9379b3d434a81b291be266617848c",
       "version_major": 2,
       "version_minor": 0
      },
      "text/plain": [
       "Retrieving ElectronicStructureDoc documents:   0%|          | 0/1 [00:00<?, ?it/s]"
      ]
     },
     "metadata": {},
     "output_type": "display_data"
    },
    {
     "data": {
      "application/vnd.jupyter.widget-view+json": {
       "model_id": "4a414cd79fa247179d4e9a516b963699",
       "version_major": 2,
       "version_minor": 0
      },
      "text/plain": [
       "Retrieving ElectronicStructureDoc documents:   0%|          | 0/1 [00:00<?, ?it/s]"
      ]
     },
     "metadata": {},
     "output_type": "display_data"
    },
    {
     "data": {
      "application/vnd.jupyter.widget-view+json": {
       "model_id": "fccdd35af957471fb7901fc754f0e49a",
       "version_major": 2,
       "version_minor": 0
      },
      "text/plain": [
       "Retrieving ElectronicStructureDoc documents:   0%|          | 0/1 [00:00<?, ?it/s]"
      ]
     },
     "metadata": {},
     "output_type": "display_data"
    },
    {
     "data": {
      "application/vnd.jupyter.widget-view+json": {
       "model_id": "7717ba0eb38c4980891bf62f73c13175",
       "version_major": 2,
       "version_minor": 0
      },
      "text/plain": [
       "Retrieving ElectronicStructureDoc documents:   0%|          | 0/1 [00:00<?, ?it/s]"
      ]
     },
     "metadata": {},
     "output_type": "display_data"
    },
    {
     "data": {
      "application/vnd.jupyter.widget-view+json": {
       "model_id": "d1c1d55f66754986a92e4db750c9b62d",
       "version_major": 2,
       "version_minor": 0
      },
      "text/plain": [
       "Retrieving ElectronicStructureDoc documents:   0%|          | 0/1 [00:00<?, ?it/s]"
      ]
     },
     "metadata": {},
     "output_type": "display_data"
    },
    {
     "data": {
      "application/vnd.jupyter.widget-view+json": {
       "model_id": "12035b2f10954c20af22fa2cee11d9ec",
       "version_major": 2,
       "version_minor": 0
      },
      "text/plain": [
       "Retrieving ElectronicStructureDoc documents:   0%|          | 0/1 [00:00<?, ?it/s]"
      ]
     },
     "metadata": {},
     "output_type": "display_data"
    },
    {
     "data": {
      "application/vnd.jupyter.widget-view+json": {
       "model_id": "a5548bb9262a4cd69db8bfa1aa391337",
       "version_major": 2,
       "version_minor": 0
      },
      "text/plain": [
       "Retrieving ElectronicStructureDoc documents:   0%|          | 0/1 [00:00<?, ?it/s]"
      ]
     },
     "metadata": {},
     "output_type": "display_data"
    },
    {
     "data": {
      "application/vnd.jupyter.widget-view+json": {
       "model_id": "fdd85dfd3a6b4f24a22db3e6e1907d83",
       "version_major": 2,
       "version_minor": 0
      },
      "text/plain": [
       "Retrieving ElectronicStructureDoc documents:   0%|          | 0/1 [00:00<?, ?it/s]"
      ]
     },
     "metadata": {},
     "output_type": "display_data"
    },
    {
     "data": {
      "application/vnd.jupyter.widget-view+json": {
       "model_id": "c5dddadd93254e0c83b3744cdc550517",
       "version_major": 2,
       "version_minor": 0
      },
      "text/plain": [
       "Retrieving ElectronicStructureDoc documents: 0it [00:00, ?it/s]"
      ]
     },
     "metadata": {},
     "output_type": "display_data"
    },
    {
     "name": "stdout",
     "output_type": "stream",
     "text": [
      "66 mp-19049 has no bandstructure data on mp\n"
     ]
    },
    {
     "data": {
      "application/vnd.jupyter.widget-view+json": {
       "model_id": "2c0a34c0a8e64ccd9adf7a7340c7ec88",
       "version_major": 2,
       "version_minor": 0
      },
      "text/plain": [
       "Retrieving ElectronicStructureDoc documents:   0%|          | 0/1 [00:00<?, ?it/s]"
      ]
     },
     "metadata": {},
     "output_type": "display_data"
    },
    {
     "data": {
      "application/vnd.jupyter.widget-view+json": {
       "model_id": "66c63288612440538f0b896b4bfdb648",
       "version_major": 2,
       "version_minor": 0
      },
      "text/plain": [
       "Retrieving ElectronicStructureDoc documents:   0%|          | 0/1 [00:00<?, ?it/s]"
      ]
     },
     "metadata": {},
     "output_type": "display_data"
    },
    {
     "name": "stdout",
     "output_type": "stream",
     "text": [
      "68 mp-548469 direct gamma to gamma transition found\n"
     ]
    },
    {
     "data": {
      "application/vnd.jupyter.widget-view+json": {
       "model_id": "74c233bf7e704d279bf048fa9c664dfa",
       "version_major": 2,
       "version_minor": 0
      },
      "text/plain": [
       "Retrieving ElectronicStructureDoc documents:   0%|          | 0/1 [00:00<?, ?it/s]"
      ]
     },
     "metadata": {},
     "output_type": "display_data"
    },
    {
     "name": "stdout",
     "output_type": "stream",
     "text": [
      "69 mp-2542 direct gamma to gamma transition found\n"
     ]
    },
    {
     "data": {
      "application/vnd.jupyter.widget-view+json": {
       "model_id": "af34bf8d4b76445cb66caad064f797cc",
       "version_major": 2,
       "version_minor": 0
      },
      "text/plain": [
       "Retrieving ElectronicStructureDoc documents:   0%|          | 0/1 [00:00<?, ?it/s]"
      ]
     },
     "metadata": {},
     "output_type": "display_data"
    },
    {
     "data": {
      "application/vnd.jupyter.widget-view+json": {
       "model_id": "2b45686f97774a0e9e8cc7e6bc93b25d",
       "version_major": 2,
       "version_minor": 0
      },
      "text/plain": [
       "Retrieving ElectronicStructureDoc documents:   0%|          | 0/1 [00:00<?, ?it/s]"
      ]
     },
     "metadata": {},
     "output_type": "display_data"
    },
    {
     "data": {
      "application/vnd.jupyter.widget-view+json": {
       "model_id": "12ffc33485474081bfb31351ad8a0c86",
       "version_major": 2,
       "version_minor": 0
      },
      "text/plain": [
       "Retrieving ElectronicStructureDoc documents:   0%|          | 0/1 [00:00<?, ?it/s]"
      ]
     },
     "metadata": {},
     "output_type": "display_data"
    },
    {
     "data": {
      "application/vnd.jupyter.widget-view+json": {
       "model_id": "c2f4d1121d2f49d7aa70282915a9cebb",
       "version_major": 2,
       "version_minor": 0
      },
      "text/plain": [
       "Retrieving ElectronicStructureDoc documents:   0%|          | 0/1 [00:00<?, ?it/s]"
      ]
     },
     "metadata": {},
     "output_type": "display_data"
    },
    {
     "data": {
      "application/vnd.jupyter.widget-view+json": {
       "model_id": "45e247ec8b2048849fcded8922c3fa6f",
       "version_major": 2,
       "version_minor": 0
      },
      "text/plain": [
       "Retrieving ElectronicStructureDoc documents:   0%|          | 0/1 [00:00<?, ?it/s]"
      ]
     },
     "metadata": {},
     "output_type": "display_data"
    },
    {
     "name": "stdout",
     "output_type": "stream",
     "text": [
      "74 mp-23195 direct gamma to gamma transition found\n"
     ]
    },
    {
     "data": {
      "application/vnd.jupyter.widget-view+json": {
       "model_id": "6d00daebd5a54514ac220a38f055925f",
       "version_major": 2,
       "version_minor": 0
      },
      "text/plain": [
       "Retrieving ElectronicStructureDoc documents:   0%|          | 0/1 [00:00<?, ?it/s]"
      ]
     },
     "metadata": {},
     "output_type": "display_data"
    },
    {
     "data": {
      "application/vnd.jupyter.widget-view+json": {
       "model_id": "109cdd0ca3b24a508de1d50c02804324",
       "version_major": 2,
       "version_minor": 0
      },
      "text/plain": [
       "Retrieving ElectronicStructureDoc documents:   0%|          | 0/1 [00:00<?, ?it/s]"
      ]
     },
     "metadata": {},
     "output_type": "display_data"
    },
    {
     "name": "stdout",
     "output_type": "stream",
     "text": [
      "76 mp-541837 direct gamma to gamma transition found\n"
     ]
    },
    {
     "data": {
      "application/vnd.jupyter.widget-view+json": {
       "model_id": "d96e8eb56f8341eeb2b2bcc3e7c23d6a",
       "version_major": 2,
       "version_minor": 0
      },
      "text/plain": [
       "Retrieving ElectronicStructureDoc documents:   0%|          | 0/1 [00:00<?, ?it/s]"
      ]
     },
     "metadata": {},
     "output_type": "display_data"
    },
    {
     "name": "stdout",
     "output_type": "stream",
     "text": [
      "77 mp-34202 direct gamma to gamma transition found\n"
     ]
    },
    {
     "data": {
      "application/vnd.jupyter.widget-view+json": {
       "model_id": "4034860ba607480380360fbc5b4da9ae",
       "version_major": 2,
       "version_minor": 0
      },
      "text/plain": [
       "Retrieving ElectronicStructureDoc documents:   0%|          | 0/1 [00:00<?, ?it/s]"
      ]
     },
     "metadata": {},
     "output_type": "display_data"
    },
    {
     "data": {
      "application/vnd.jupyter.widget-view+json": {
       "model_id": "79376cc0abb745aaaea64df0edb70147",
       "version_major": 2,
       "version_minor": 0
      },
      "text/plain": [
       "Retrieving ElectronicStructureDoc documents:   0%|          | 0/1 [00:00<?, ?it/s]"
      ]
     },
     "metadata": {},
     "output_type": "display_data"
    },
    {
     "data": {
      "application/vnd.jupyter.widget-view+json": {
       "model_id": "757e616dfbe147fbadcd3868bee9f053",
       "version_major": 2,
       "version_minor": 0
      },
      "text/plain": [
       "Retrieving ElectronicStructureDoc documents:   0%|          | 0/1 [00:00<?, ?it/s]"
      ]
     },
     "metadata": {},
     "output_type": "display_data"
    },
    {
     "data": {
      "application/vnd.jupyter.widget-view+json": {
       "model_id": "dbfe90831d3b43048556da47cda4af75",
       "version_major": 2,
       "version_minor": 0
      },
      "text/plain": [
       "Retrieving ElectronicStructureDoc documents:   0%|          | 0/1 [00:00<?, ?it/s]"
      ]
     },
     "metadata": {},
     "output_type": "display_data"
    },
    {
     "name": "stdout",
     "output_type": "stream",
     "text": [
      "81 mp-570008 direct gamma to gamma transition found\n"
     ]
    },
    {
     "data": {
      "application/vnd.jupyter.widget-view+json": {
       "model_id": "75447e255e3f4fb8a57845c2088018b3",
       "version_major": 2,
       "version_minor": 0
      },
      "text/plain": [
       "Retrieving ElectronicStructureDoc documents:   0%|          | 0/1 [00:00<?, ?it/s]"
      ]
     },
     "metadata": {},
     "output_type": "display_data"
    },
    {
     "data": {
      "application/vnd.jupyter.widget-view+json": {
       "model_id": "2854022ad1564617976ff0b40f258b6c",
       "version_major": 2,
       "version_minor": 0
      },
      "text/plain": [
       "Retrieving ElectronicStructureDoc documents:   0%|          | 0/1 [00:00<?, ?it/s]"
      ]
     },
     "metadata": {},
     "output_type": "display_data"
    },
    {
     "data": {
      "application/vnd.jupyter.widget-view+json": {
       "model_id": "be4f9136fb6f4aa085fa1bd387595795",
       "version_major": 2,
       "version_minor": 0
      },
      "text/plain": [
       "Retrieving ElectronicStructureDoc documents:   0%|          | 0/1 [00:00<?, ?it/s]"
      ]
     },
     "metadata": {},
     "output_type": "display_data"
    },
    {
     "data": {
      "application/vnd.jupyter.widget-view+json": {
       "model_id": "69ec7c7dfb1f4540a45051ba1fe0d7b9",
       "version_major": 2,
       "version_minor": 0
      },
      "text/plain": [
       "Retrieving ElectronicStructureDoc documents:   0%|          | 0/1 [00:00<?, ?it/s]"
      ]
     },
     "metadata": {},
     "output_type": "display_data"
    },
    {
     "data": {
      "application/vnd.jupyter.widget-view+json": {
       "model_id": "96f0376525aa4bf38673ec537a98a0e3",
       "version_major": 2,
       "version_minor": 0
      },
      "text/plain": [
       "Retrieving ElectronicStructureDoc documents:   0%|          | 0/1 [00:00<?, ?it/s]"
      ]
     },
     "metadata": {},
     "output_type": "display_data"
    },
    {
     "data": {
      "application/vnd.jupyter.widget-view+json": {
       "model_id": "d1c119e693d64549a8d21e6336ca3533",
       "version_major": 2,
       "version_minor": 0
      },
      "text/plain": [
       "Retrieving ElectronicStructureDoc documents:   0%|          | 0/1 [00:00<?, ?it/s]"
      ]
     },
     "metadata": {},
     "output_type": "display_data"
    },
    {
     "data": {
      "application/vnd.jupyter.widget-view+json": {
       "model_id": "56d55a1118ed4aca8d1095442ac14d17",
       "version_major": 2,
       "version_minor": 0
      },
      "text/plain": [
       "Retrieving ElectronicStructureDoc documents:   0%|          | 0/1 [00:00<?, ?it/s]"
      ]
     },
     "metadata": {},
     "output_type": "display_data"
    },
    {
     "data": {
      "application/vnd.jupyter.widget-view+json": {
       "model_id": "23d18ef37398428e911ee9b8b24a1982",
       "version_major": 2,
       "version_minor": 0
      },
      "text/plain": [
       "Retrieving ElectronicStructureDoc documents:   0%|          | 0/1 [00:00<?, ?it/s]"
      ]
     },
     "metadata": {},
     "output_type": "display_data"
    },
    {
     "data": {
      "application/vnd.jupyter.widget-view+json": {
       "model_id": "c621c13220544ae2b6af2fe41cd1a259",
       "version_major": 2,
       "version_minor": 0
      },
      "text/plain": [
       "Retrieving ElectronicStructureDoc documents:   0%|          | 0/1 [00:00<?, ?it/s]"
      ]
     },
     "metadata": {},
     "output_type": "display_data"
    },
    {
     "data": {
      "application/vnd.jupyter.widget-view+json": {
       "model_id": "8b4d0936b9404b5eac7a58a5d844f3cf",
       "version_major": 2,
       "version_minor": 0
      },
      "text/plain": [
       "Retrieving ElectronicStructureDoc documents:   0%|          | 0/1 [00:00<?, ?it/s]"
      ]
     },
     "metadata": {},
     "output_type": "display_data"
    },
    {
     "data": {
      "application/vnd.jupyter.widget-view+json": {
       "model_id": "0d46c40dd29c4c41acdfd2c75a7d211e",
       "version_major": 2,
       "version_minor": 0
      },
      "text/plain": [
       "Retrieving ElectronicStructureDoc documents:   0%|          | 0/1 [00:00<?, ?it/s]"
      ]
     },
     "metadata": {},
     "output_type": "display_data"
    },
    {
     "data": {
      "application/vnd.jupyter.widget-view+json": {
       "model_id": "33091d1c493341e4a92715c43d9aa5ac",
       "version_major": 2,
       "version_minor": 0
      },
      "text/plain": [
       "Retrieving ElectronicStructureDoc documents:   0%|          | 0/1 [00:00<?, ?it/s]"
      ]
     },
     "metadata": {},
     "output_type": "display_data"
    },
    {
     "data": {
      "application/vnd.jupyter.widget-view+json": {
       "model_id": "517ae22b1c0a47f0bcb93136ce67577d",
       "version_major": 2,
       "version_minor": 0
      },
      "text/plain": [
       "Retrieving ElectronicStructureDoc documents:   0%|          | 0/1 [00:00<?, ?it/s]"
      ]
     },
     "metadata": {},
     "output_type": "display_data"
    },
    {
     "data": {
      "application/vnd.jupyter.widget-view+json": {
       "model_id": "5037c3185f9e4412acca9ce7d4ad24cf",
       "version_major": 2,
       "version_minor": 0
      },
      "text/plain": [
       "Retrieving ElectronicStructureDoc documents:   0%|          | 0/1 [00:00<?, ?it/s]"
      ]
     },
     "metadata": {},
     "output_type": "display_data"
    },
    {
     "name": "stdout",
     "output_type": "stream",
     "text": [
      "95 mp-2517 direct gamma to gamma transition found\n"
     ]
    },
    {
     "data": {
      "application/vnd.jupyter.widget-view+json": {
       "model_id": "7ecf76b60fb3485e8e65f7c26821249f",
       "version_major": 2,
       "version_minor": 0
      },
      "text/plain": [
       "Retrieving ElectronicStructureDoc documents:   0%|          | 0/1 [00:00<?, ?it/s]"
      ]
     },
     "metadata": {},
     "output_type": "display_data"
    },
    {
     "data": {
      "application/vnd.jupyter.widget-view+json": {
       "model_id": "17b19afbcd2843cda42454fe0a1976de",
       "version_major": 2,
       "version_minor": 0
      },
      "text/plain": [
       "Retrieving ElectronicStructureDoc documents:   0%|          | 0/1 [00:00<?, ?it/s]"
      ]
     },
     "metadata": {},
     "output_type": "display_data"
    },
    {
     "name": "stdout",
     "output_type": "stream",
     "text": [
      "97 mp-866503 direct gamma to gamma transition found\n"
     ]
    },
    {
     "data": {
      "application/vnd.jupyter.widget-view+json": {
       "model_id": "06ceea6ca6f24915932a23c269ebdfe4",
       "version_major": 2,
       "version_minor": 0
      },
      "text/plain": [
       "Retrieving ElectronicStructureDoc documents:   0%|          | 0/1 [00:00<?, ?it/s]"
      ]
     },
     "metadata": {},
     "output_type": "display_data"
    },
    {
     "data": {
      "application/vnd.jupyter.widget-view+json": {
       "model_id": "4fb6c7c9581b4a7ca8f91600b4db720a",
       "version_major": 2,
       "version_minor": 0
      },
      "text/plain": [
       "Retrieving ElectronicStructureDoc documents:   0%|          | 0/1 [00:00<?, ?it/s]"
      ]
     },
     "metadata": {},
     "output_type": "display_data"
    },
    {
     "name": "stdout",
     "output_type": "stream",
     "text": [
      "99 mp-23214 direct gamma to gamma transition found\n"
     ]
    },
    {
     "data": {
      "application/vnd.jupyter.widget-view+json": {
       "model_id": "4415e50e84e54d46b149786732011d7d",
       "version_major": 2,
       "version_minor": 0
      },
      "text/plain": [
       "Retrieving ElectronicStructureDoc documents:   0%|          | 0/1 [00:00<?, ?it/s]"
      ]
     },
     "metadata": {},
     "output_type": "display_data"
    },
    {
     "data": {
      "application/vnd.jupyter.widget-view+json": {
       "model_id": "3b0834cc9dfc41e3bf9d908c5d5eb191",
       "version_major": 2,
       "version_minor": 0
      },
      "text/plain": [
       "Retrieving ElectronicStructureDoc documents:   0%|          | 0/1 [00:00<?, ?it/s]"
      ]
     },
     "metadata": {},
     "output_type": "display_data"
    },
    {
     "data": {
      "application/vnd.jupyter.widget-view+json": {
       "model_id": "9c5f50ca3b6f42778bae2f8b79cc1265",
       "version_major": 2,
       "version_minor": 0
      },
      "text/plain": [
       "Retrieving ElectronicStructureDoc documents:   0%|          | 0/1 [00:00<?, ?it/s]"
      ]
     },
     "metadata": {},
     "output_type": "display_data"
    },
    {
     "data": {
      "application/vnd.jupyter.widget-view+json": {
       "model_id": "eeaf7d010b18408db8d33fb6cb3f5e8b",
       "version_major": 2,
       "version_minor": 0
      },
      "text/plain": [
       "Retrieving ElectronicStructureDoc documents:   0%|          | 0/1 [00:00<?, ?it/s]"
      ]
     },
     "metadata": {},
     "output_type": "display_data"
    },
    {
     "name": "stdout",
     "output_type": "stream",
     "text": [
      "103 mp-5795 direct gamma to gamma transition found\n"
     ]
    },
    {
     "data": {
      "application/vnd.jupyter.widget-view+json": {
       "model_id": "aaeabaab9fb746bebc5b312a799b87d7",
       "version_major": 2,
       "version_minor": 0
      },
      "text/plain": [
       "Retrieving ElectronicStructureDoc documents:   0%|          | 0/1 [00:00<?, ?it/s]"
      ]
     },
     "metadata": {},
     "output_type": "display_data"
    },
    {
     "data": {
      "application/vnd.jupyter.widget-view+json": {
       "model_id": "2cfe343e55c7493b91babd3e503db359",
       "version_major": 2,
       "version_minor": 0
      },
      "text/plain": [
       "Retrieving ElectronicStructureDoc documents:   0%|          | 0/1 [00:00<?, ?it/s]"
      ]
     },
     "metadata": {},
     "output_type": "display_data"
    },
    {
     "data": {
      "application/vnd.jupyter.widget-view+json": {
       "model_id": "cd8294188d064f898d5948c5ee3e87c1",
       "version_major": 2,
       "version_minor": 0
      },
      "text/plain": [
       "Retrieving ElectronicStructureDoc documents:   0%|          | 0/1 [00:00<?, ?it/s]"
      ]
     },
     "metadata": {},
     "output_type": "display_data"
    },
    {
     "data": {
      "application/vnd.jupyter.widget-view+json": {
       "model_id": "0f9748231b014763bd002d0509fd0ce8",
       "version_major": 2,
       "version_minor": 0
      },
      "text/plain": [
       "Retrieving ElectronicStructureDoc documents:   0%|          | 0/1 [00:00<?, ?it/s]"
      ]
     },
     "metadata": {},
     "output_type": "display_data"
    },
    {
     "data": {
      "application/vnd.jupyter.widget-view+json": {
       "model_id": "fe5f708dd2f44b439d6a073db4308c38",
       "version_major": 2,
       "version_minor": 0
      },
      "text/plain": [
       "Retrieving ElectronicStructureDoc documents:   0%|          | 0/1 [00:00<?, ?it/s]"
      ]
     },
     "metadata": {},
     "output_type": "display_data"
    },
    {
     "name": "stdout",
     "output_type": "stream",
     "text": [
      "108 mp-7204 direct gamma to gamma transition found\n"
     ]
    },
    {
     "data": {
      "application/vnd.jupyter.widget-view+json": {
       "model_id": "19c898ec311c434a9d0b74cea90aff20",
       "version_major": 2,
       "version_minor": 0
      },
      "text/plain": [
       "Retrieving ElectronicStructureDoc documents:   0%|          | 0/1 [00:00<?, ?it/s]"
      ]
     },
     "metadata": {},
     "output_type": "display_data"
    },
    {
     "data": {
      "application/vnd.jupyter.widget-view+json": {
       "model_id": "719cbff596164a279ff253d61bb4c07a",
       "version_major": 2,
       "version_minor": 0
      },
      "text/plain": [
       "Retrieving ElectronicStructureDoc documents:   0%|          | 0/1 [00:00<?, ?it/s]"
      ]
     },
     "metadata": {},
     "output_type": "display_data"
    },
    {
     "data": {
      "application/vnd.jupyter.widget-view+json": {
       "model_id": "3a4f2b089db44b2d87a2b8e23af9ae0e",
       "version_major": 2,
       "version_minor": 0
      },
      "text/plain": [
       "Retrieving ElectronicStructureDoc documents:   0%|          | 0/1 [00:00<?, ?it/s]"
      ]
     },
     "metadata": {},
     "output_type": "display_data"
    },
    {
     "data": {
      "application/vnd.jupyter.widget-view+json": {
       "model_id": "20e0025907c8498b972307aa26e3fd3a",
       "version_major": 2,
       "version_minor": 0
      },
      "text/plain": [
       "Retrieving ElectronicStructureDoc documents:   0%|          | 0/1 [00:00<?, ?it/s]"
      ]
     },
     "metadata": {},
     "output_type": "display_data"
    },
    {
     "name": "stdout",
     "output_type": "stream",
     "text": [
      "112 mp-3772 direct gamma to gamma transition found\n"
     ]
    },
    {
     "data": {
      "application/vnd.jupyter.widget-view+json": {
       "model_id": "e0f7c513558841bbaa80d612a69f0c10",
       "version_major": 2,
       "version_minor": 0
      },
      "text/plain": [
       "Retrieving ElectronicStructureDoc documents:   0%|          | 0/1 [00:00<?, ?it/s]"
      ]
     },
     "metadata": {},
     "output_type": "display_data"
    },
    {
     "name": "stdout",
     "output_type": "stream",
     "text": [
      "113 mp-13949 direct gamma to gamma transition found\n"
     ]
    },
    {
     "data": {
      "application/vnd.jupyter.widget-view+json": {
       "model_id": "91bcf4431f7e47f4b09f0b19b2fe19ff",
       "version_major": 2,
       "version_minor": 0
      },
      "text/plain": [
       "Retrieving ElectronicStructureDoc documents:   0%|          | 0/1 [00:00<?, ?it/s]"
      ]
     },
     "metadata": {},
     "output_type": "display_data"
    },
    {
     "data": {
      "application/vnd.jupyter.widget-view+json": {
       "model_id": "e750b985261f480c880d0d4a4d0e433a",
       "version_major": 2,
       "version_minor": 0
      },
      "text/plain": [
       "Retrieving ElectronicStructureDoc documents:   0%|          | 0/1 [00:00<?, ?it/s]"
      ]
     },
     "metadata": {},
     "output_type": "display_data"
    },
    {
     "name": "stdout",
     "output_type": "stream",
     "text": [
      "115 mp-3668 direct gamma to gamma transition found\n"
     ]
    },
    {
     "data": {
      "application/vnd.jupyter.widget-view+json": {
       "model_id": "d39aaeacb5494a369b738f79d70cc9c1",
       "version_major": 2,
       "version_minor": 0
      },
      "text/plain": [
       "Retrieving ElectronicStructureDoc documents:   0%|          | 0/1 [00:00<?, ?it/s]"
      ]
     },
     "metadata": {},
     "output_type": "display_data"
    },
    {
     "data": {
      "application/vnd.jupyter.widget-view+json": {
       "model_id": "eaeac31e8180420ab5987874d4a91458",
       "version_major": 2,
       "version_minor": 0
      },
      "text/plain": [
       "Retrieving ElectronicStructureDoc documents:   0%|          | 0/1 [00:00<?, ?it/s]"
      ]
     },
     "metadata": {},
     "output_type": "display_data"
    },
    {
     "data": {
      "application/vnd.jupyter.widget-view+json": {
       "model_id": "176263f7d1234140a94b61b43340ceeb",
       "version_major": 2,
       "version_minor": 0
      },
      "text/plain": [
       "Retrieving ElectronicStructureDoc documents:   0%|          | 0/1 [00:00<?, ?it/s]"
      ]
     },
     "metadata": {},
     "output_type": "display_data"
    },
    {
     "data": {
      "application/vnd.jupyter.widget-view+json": {
       "model_id": "2ed84f509a4143deb47c9a7c648d5514",
       "version_major": 2,
       "version_minor": 0
      },
      "text/plain": [
       "Retrieving ElectronicStructureDoc documents:   0%|          | 0/1 [00:00<?, ?it/s]"
      ]
     },
     "metadata": {},
     "output_type": "display_data"
    },
    {
     "name": "stdout",
     "output_type": "stream",
     "text": [
      "119 mp-22304 direct gamma to gamma transition found\n"
     ]
    },
    {
     "data": {
      "application/vnd.jupyter.widget-view+json": {
       "model_id": "c07775416ee7498da1456206e819bc47",
       "version_major": 2,
       "version_minor": 0
      },
      "text/plain": [
       "Retrieving ElectronicStructureDoc documents:   0%|          | 0/1 [00:00<?, ?it/s]"
      ]
     },
     "metadata": {},
     "output_type": "display_data"
    },
    {
     "data": {
      "application/vnd.jupyter.widget-view+json": {
       "model_id": "8a243df53db14cc9bd83fc503d3d9b28",
       "version_major": 2,
       "version_minor": 0
      },
      "text/plain": [
       "Retrieving ElectronicStructureDoc documents:   0%|          | 0/1 [00:00<?, ?it/s]"
      ]
     },
     "metadata": {},
     "output_type": "display_data"
    },
    {
     "name": "stdout",
     "output_type": "stream",
     "text": [
      "121 mp-672 direct gamma to gamma transition found\n"
     ]
    },
    {
     "data": {
      "application/vnd.jupyter.widget-view+json": {
       "model_id": "a7efc78f3a0f4486af76484442eaa0fd",
       "version_major": 2,
       "version_minor": 0
      },
      "text/plain": [
       "Retrieving ElectronicStructureDoc documents:   0%|          | 0/1 [00:00<?, ?it/s]"
      ]
     },
     "metadata": {},
     "output_type": "display_data"
    },
    {
     "data": {
      "application/vnd.jupyter.widget-view+json": {
       "model_id": "f92ac4112c7b4748b240034419d8f2a5",
       "version_major": 2,
       "version_minor": 0
      },
      "text/plain": [
       "Retrieving ElectronicStructureDoc documents:   0%|          | 0/1 [00:00<?, ?it/s]"
      ]
     },
     "metadata": {},
     "output_type": "display_data"
    },
    {
     "data": {
      "application/vnd.jupyter.widget-view+json": {
       "model_id": "a106f2b8a64b440e9e82ee859955a7d7",
       "version_major": 2,
       "version_minor": 0
      },
      "text/plain": [
       "Retrieving ElectronicStructureDoc documents:   0%|          | 0/1 [00:00<?, ?it/s]"
      ]
     },
     "metadata": {},
     "output_type": "display_data"
    },
    {
     "name": "stdout",
     "output_type": "stream",
     "text": [
      "124 mp-2691 direct gamma to gamma transition found\n"
     ]
    },
    {
     "data": {
      "application/vnd.jupyter.widget-view+json": {
       "model_id": "c9b6e7cfadc844e7bb8a78f3508b9995",
       "version_major": 2,
       "version_minor": 0
      },
      "text/plain": [
       "Retrieving ElectronicStructureDoc documents:   0%|          | 0/1 [00:00<?, ?it/s]"
      ]
     },
     "metadata": {},
     "output_type": "display_data"
    },
    {
     "name": "stdout",
     "output_type": "stream",
     "text": [
      "125 mp-1070 direct gamma to gamma transition found\n"
     ]
    },
    {
     "data": {
      "application/vnd.jupyter.widget-view+json": {
       "model_id": "2586c2c51e6c42bf89933b3f27a3156f",
       "version_major": 2,
       "version_minor": 0
      },
      "text/plain": [
       "Retrieving ElectronicStructureDoc documents:   0%|          | 0/1 [00:00<?, ?it/s]"
      ]
     },
     "metadata": {},
     "output_type": "display_data"
    },
    {
     "name": "stdout",
     "output_type": "stream",
     "text": [
      "126 mp-3078 direct gamma to gamma transition found\n"
     ]
    },
    {
     "data": {
      "application/vnd.jupyter.widget-view+json": {
       "model_id": "4c419d4b5d874ec7b1b1cccb51032959",
       "version_major": 2,
       "version_minor": 0
      },
      "text/plain": [
       "Retrieving ElectronicStructureDoc documents:   0%|          | 0/1 [00:00<?, ?it/s]"
      ]
     },
     "metadata": {},
     "output_type": "display_data"
    },
    {
     "name": "stdout",
     "output_type": "stream",
     "text": [
      "127 mp-4666 direct gamma to gamma transition found\n"
     ]
    },
    {
     "data": {
      "application/vnd.jupyter.widget-view+json": {
       "model_id": "aca1a25b488843bd9a846fcb127b84a1",
       "version_major": 2,
       "version_minor": 0
      },
      "text/plain": [
       "Retrieving ElectronicStructureDoc documents:   0%|          | 0/1 [00:00<?, ?it/s]"
      ]
     },
     "metadata": {},
     "output_type": "display_data"
    },
    {
     "data": {
      "application/vnd.jupyter.widget-view+json": {
       "model_id": "bbb5680cf4334da88b014e2e21a45772",
       "version_major": 2,
       "version_minor": 0
      },
      "text/plain": [
       "Retrieving ElectronicStructureDoc documents:   0%|          | 0/1 [00:00<?, ?it/s]"
      ]
     },
     "metadata": {},
     "output_type": "display_data"
    },
    {
     "data": {
      "application/vnd.jupyter.widget-view+json": {
       "model_id": "b95730bdd5de437a8ff4ebd8c5b3d05a",
       "version_major": 2,
       "version_minor": 0
      },
      "text/plain": [
       "Retrieving ElectronicStructureDoc documents:   0%|          | 0/1 [00:00<?, ?it/s]"
      ]
     },
     "metadata": {},
     "output_type": "display_data"
    },
    {
     "name": "stdout",
     "output_type": "stream",
     "text": [
      "130 mp-5213 direct gamma to gamma transition found\n"
     ]
    },
    {
     "data": {
      "application/vnd.jupyter.widget-view+json": {
       "model_id": "7abc85c72c1f4b5bad5a11f17aa43d2e",
       "version_major": 2,
       "version_minor": 0
      },
      "text/plain": [
       "Retrieving ElectronicStructureDoc documents:   0%|          | 0/1 [00:00<?, ?it/s]"
      ]
     },
     "metadata": {},
     "output_type": "display_data"
    },
    {
     "name": "stdout",
     "output_type": "stream",
     "text": [
      "131 mp-406 direct gamma to gamma transition found\n"
     ]
    },
    {
     "data": {
      "application/vnd.jupyter.widget-view+json": {
       "model_id": "96ddebee0e394dd384f5517c1c556442",
       "version_major": 2,
       "version_minor": 0
      },
      "text/plain": [
       "Retrieving ElectronicStructureDoc documents:   0%|          | 0/1 [00:00<?, ?it/s]"
      ]
     },
     "metadata": {},
     "output_type": "display_data"
    },
    {
     "data": {
      "application/vnd.jupyter.widget-view+json": {
       "model_id": "7aa52ad4bbba4c78a84c9b6f3759c7be",
       "version_major": 2,
       "version_minor": 0
      },
      "text/plain": [
       "Retrieving ElectronicStructureDoc documents:   0%|          | 0/1 [00:00<?, ?it/s]"
      ]
     },
     "metadata": {},
     "output_type": "display_data"
    },
    {
     "data": {
      "application/vnd.jupyter.widget-view+json": {
       "model_id": "01036028285647ada0aceac11da65807",
       "version_major": 2,
       "version_minor": 0
      },
      "text/plain": [
       "Retrieving ElectronicStructureDoc documents:   0%|          | 0/1 [00:00<?, ?it/s]"
      ]
     },
     "metadata": {},
     "output_type": "display_data"
    },
    {
     "data": {
      "application/vnd.jupyter.widget-view+json": {
       "model_id": "ba1bcb4c8ad04e3495d7e08ab75d24ac",
       "version_major": 2,
       "version_minor": 0
      },
      "text/plain": [
       "Retrieving ElectronicStructureDoc documents:   0%|          | 0/1 [00:00<?, ?it/s]"
      ]
     },
     "metadata": {},
     "output_type": "display_data"
    },
    {
     "data": {
      "application/vnd.jupyter.widget-view+json": {
       "model_id": "6e7c52ce13354495b581c64a45779f51",
       "version_major": 2,
       "version_minor": 0
      },
      "text/plain": [
       "Retrieving ElectronicStructureDoc documents:   0%|          | 0/1 [00:00<?, ?it/s]"
      ]
     },
     "metadata": {},
     "output_type": "display_data"
    },
    {
     "data": {
      "application/vnd.jupyter.widget-view+json": {
       "model_id": "94dfdfa9358f408ea0a5e056f12ee444",
       "version_major": 2,
       "version_minor": 0
      },
      "text/plain": [
       "Retrieving ElectronicStructureDoc documents:   0%|          | 0/1 [00:00<?, ?it/s]"
      ]
     },
     "metadata": {},
     "output_type": "display_data"
    },
    {
     "data": {
      "application/vnd.jupyter.widget-view+json": {
       "model_id": "ee3eb1f817ef4b609f2c3f400761fdc2",
       "version_major": 2,
       "version_minor": 0
      },
      "text/plain": [
       "Retrieving ElectronicStructureDoc documents:   0%|          | 0/1 [00:00<?, ?it/s]"
      ]
     },
     "metadata": {},
     "output_type": "display_data"
    },
    {
     "data": {
      "application/vnd.jupyter.widget-view+json": {
       "model_id": "796ce1624a134ddeaea2a6dbd0a85b56",
       "version_major": 2,
       "version_minor": 0
      },
      "text/plain": [
       "Retrieving ElectronicStructureDoc documents:   0%|          | 0/1 [00:00<?, ?it/s]"
      ]
     },
     "metadata": {},
     "output_type": "display_data"
    },
    {
     "name": "stdout",
     "output_type": "stream",
     "text": [
      "139 mp-567386 direct gamma to gamma transition found\n"
     ]
    },
    {
     "data": {
      "application/vnd.jupyter.widget-view+json": {
       "model_id": "3d4f177fa0fd40388d208bb7616fc179",
       "version_major": 2,
       "version_minor": 0
      },
      "text/plain": [
       "Retrieving ElectronicStructureDoc documents:   0%|          | 0/1 [00:00<?, ?it/s]"
      ]
     },
     "metadata": {},
     "output_type": "display_data"
    },
    {
     "name": "stdout",
     "output_type": "stream",
     "text": [
      "140 mp-540574 direct gamma to gamma transition found\n"
     ]
    },
    {
     "data": {
      "application/vnd.jupyter.widget-view+json": {
       "model_id": "0ed7781666c64de696ac3f150ae0e723",
       "version_major": 2,
       "version_minor": 0
      },
      "text/plain": [
       "Retrieving ElectronicStructureDoc documents:   0%|          | 0/1 [00:00<?, ?it/s]"
      ]
     },
     "metadata": {},
     "output_type": "display_data"
    },
    {
     "name": "stdout",
     "output_type": "stream",
     "text": [
      "141 mp-641923 direct gamma to gamma transition found\n"
     ]
    },
    {
     "data": {
      "application/vnd.jupyter.widget-view+json": {
       "model_id": "54d18076c52b4a8e81b50998c612bf1f",
       "version_major": 2,
       "version_minor": 0
      },
      "text/plain": [
       "Retrieving ElectronicStructureDoc documents:   0%|          | 0/1 [00:00<?, ?it/s]"
      ]
     },
     "metadata": {},
     "output_type": "display_data"
    },
    {
     "name": "stdout",
     "output_type": "stream",
     "text": [
      "142 mp-608555 direct gamma to gamma transition found\n"
     ]
    },
    {
     "data": {
      "application/vnd.jupyter.widget-view+json": {
       "model_id": "2bca3a819c1f4c18b83089e77fa87763",
       "version_major": 2,
       "version_minor": 0
      },
      "text/plain": [
       "Retrieving ElectronicStructureDoc documents:   0%|          | 0/1 [00:00<?, ?it/s]"
      ]
     },
     "metadata": {},
     "output_type": "display_data"
    },
    {
     "data": {
      "application/vnd.jupyter.widget-view+json": {
       "model_id": "a7b2faabf7274016af1db9e6ff605b74",
       "version_major": 2,
       "version_minor": 0
      },
      "text/plain": [
       "Retrieving ElectronicStructureDoc documents:   0%|          | 0/1 [00:00<?, ?it/s]"
      ]
     },
     "metadata": {},
     "output_type": "display_data"
    },
    {
     "data": {
      "application/vnd.jupyter.widget-view+json": {
       "model_id": "6014c0c75f1a4baca710a2d2f01f5b03",
       "version_major": 2,
       "version_minor": 0
      },
      "text/plain": [
       "Retrieving ElectronicStructureDoc documents:   0%|          | 0/1 [00:00<?, ?it/s]"
      ]
     },
     "metadata": {},
     "output_type": "display_data"
    },
    {
     "data": {
      "application/vnd.jupyter.widget-view+json": {
       "model_id": "3edd820379084c67b39293a3dd9a85af",
       "version_major": 2,
       "version_minor": 0
      },
      "text/plain": [
       "Retrieving ElectronicStructureDoc documents:   0%|          | 0/1 [00:00<?, ?it/s]"
      ]
     },
     "metadata": {},
     "output_type": "display_data"
    },
    {
     "data": {
      "application/vnd.jupyter.widget-view+json": {
       "model_id": "4de37515928347d8b869196b1a1bbac5",
       "version_major": 2,
       "version_minor": 0
      },
      "text/plain": [
       "Retrieving ElectronicStructureDoc documents:   0%|          | 0/1 [00:00<?, ?it/s]"
      ]
     },
     "metadata": {},
     "output_type": "display_data"
    },
    {
     "data": {
      "application/vnd.jupyter.widget-view+json": {
       "model_id": "d9ecb790ffd642539c2faf03f1cc7dd3",
       "version_major": 2,
       "version_minor": 0
      },
      "text/plain": [
       "Retrieving ElectronicStructureDoc documents:   0%|          | 0/1 [00:00<?, ?it/s]"
      ]
     },
     "metadata": {},
     "output_type": "display_data"
    },
    {
     "data": {
      "application/vnd.jupyter.widget-view+json": {
       "model_id": "df3d230f7b214bbb86159aedd634232d",
       "version_major": 2,
       "version_minor": 0
      },
      "text/plain": [
       "Retrieving ElectronicStructureDoc documents:   0%|          | 0/1 [00:00<?, ?it/s]"
      ]
     },
     "metadata": {},
     "output_type": "display_data"
    },
    {
     "name": "stdout",
     "output_type": "stream",
     "text": [
      "149 mp-579560 direct gamma to gamma transition found\n"
     ]
    },
    {
     "data": {
      "application/vnd.jupyter.widget-view+json": {
       "model_id": "03ff18a6b8df44faa06338a516b00d06",
       "version_major": 2,
       "version_minor": 0
      },
      "text/plain": [
       "Retrieving ElectronicStructureDoc documents:   0%|          | 0/1 [00:00<?, ?it/s]"
      ]
     },
     "metadata": {},
     "output_type": "display_data"
    },
    {
     "data": {
      "application/vnd.jupyter.widget-view+json": {
       "model_id": "7b6275d537b84fc791c3852ba56f1cdd",
       "version_major": 2,
       "version_minor": 0
      },
      "text/plain": [
       "Retrieving ElectronicStructureDoc documents:   0%|          | 0/1 [00:00<?, ?it/s]"
      ]
     },
     "metadata": {},
     "output_type": "display_data"
    },
    {
     "data": {
      "application/vnd.jupyter.widget-view+json": {
       "model_id": "5fb298e36fc2464cb8291e390c662a72",
       "version_major": 2,
       "version_minor": 0
      },
      "text/plain": [
       "Retrieving ElectronicStructureDoc documents:   0%|          | 0/1 [00:00<?, ?it/s]"
      ]
     },
     "metadata": {},
     "output_type": "display_data"
    },
    {
     "name": "stdout",
     "output_type": "stream",
     "text": [
      "152 mp-11124 direct gamma to gamma transition found\n"
     ]
    },
    {
     "data": {
      "application/vnd.jupyter.widget-view+json": {
       "model_id": "c0b2dcc4dd3047908ccd526d8bea0784",
       "version_major": 2,
       "version_minor": 0
      },
      "text/plain": [
       "Retrieving ElectronicStructureDoc documents:   0%|          | 0/1 [00:00<?, ?it/s]"
      ]
     },
     "metadata": {},
     "output_type": "display_data"
    },
    {
     "name": "stdout",
     "output_type": "stream",
     "text": [
      "153 mp-567629 direct gamma to gamma transition found\n"
     ]
    },
    {
     "data": {
      "application/vnd.jupyter.widget-view+json": {
       "model_id": "f272ab81aee84008b4aebb9fcdab9b91",
       "version_major": 2,
       "version_minor": 0
      },
      "text/plain": [
       "Retrieving ElectronicStructureDoc documents:   0%|          | 0/1 [00:00<?, ?it/s]"
      ]
     },
     "metadata": {},
     "output_type": "display_data"
    },
    {
     "data": {
      "application/vnd.jupyter.widget-view+json": {
       "model_id": "95486e84549145fd9798cd9d22dccc67",
       "version_major": 2,
       "version_minor": 0
      },
      "text/plain": [
       "Retrieving ElectronicStructureDoc documents:   0%|          | 0/1 [00:00<?, ?it/s]"
      ]
     },
     "metadata": {},
     "output_type": "display_data"
    },
    {
     "data": {
      "application/vnd.jupyter.widget-view+json": {
       "model_id": "b28e10eaa47948bc9c912fe9d6bd7868",
       "version_major": 2,
       "version_minor": 0
      },
      "text/plain": [
       "Retrieving ElectronicStructureDoc documents:   0%|          | 0/1 [00:00<?, ?it/s]"
      ]
     },
     "metadata": {},
     "output_type": "display_data"
    },
    {
     "name": "stdout",
     "output_type": "stream",
     "text": [
      "156 mp-568570 direct gamma to gamma transition found\n"
     ]
    },
    {
     "data": {
      "application/vnd.jupyter.widget-view+json": {
       "model_id": "5f7d0e2dd77241d09c12f9bbe21fb6e7",
       "version_major": 2,
       "version_minor": 0
      },
      "text/plain": [
       "Retrieving ElectronicStructureDoc documents:   0%|          | 0/1 [00:00<?, ?it/s]"
      ]
     },
     "metadata": {},
     "output_type": "display_data"
    },
    {
     "name": "stdout",
     "output_type": "stream",
     "text": [
      "157 mp-11116 direct gamma to gamma transition found\n"
     ]
    },
    {
     "data": {
      "application/vnd.jupyter.widget-view+json": {
       "model_id": "8dcd3eb1a21e49c98a92f6ec65fdde89",
       "version_major": 2,
       "version_minor": 0
      },
      "text/plain": [
       "Retrieving ElectronicStructureDoc documents:   0%|          | 0/1 [00:00<?, ?it/s]"
      ]
     },
     "metadata": {},
     "output_type": "display_data"
    },
    {
     "name": "stdout",
     "output_type": "stream",
     "text": [
      "158 mp-11123 direct gamma to gamma transition found\n"
     ]
    },
    {
     "data": {
      "application/vnd.jupyter.widget-view+json": {
       "model_id": "5d78f3890cb54f6bbf36b40f9bac1722",
       "version_major": 2,
       "version_minor": 0
      },
      "text/plain": [
       "Retrieving ElectronicStructureDoc documents:   0%|          | 0/1 [00:00<?, ?it/s]"
      ]
     },
     "metadata": {},
     "output_type": "display_data"
    },
    {
     "name": "stdout",
     "output_type": "stream",
     "text": [
      "159 mp-574620 direct gamma to gamma transition found\n"
     ]
    },
    {
     "data": {
      "application/vnd.jupyter.widget-view+json": {
       "model_id": "e1fb8c11e63c47dfb5a69e0ab8f42fa6",
       "version_major": 2,
       "version_minor": 0
      },
      "text/plain": [
       "Retrieving ElectronicStructureDoc documents:   0%|          | 0/1 [00:00<?, ?it/s]"
      ]
     },
     "metadata": {},
     "output_type": "display_data"
    },
    {
     "name": "stdout",
     "output_type": "stream",
     "text": [
      "160 mp-13982 direct gamma to gamma transition found\n"
     ]
    },
    {
     "data": {
      "application/vnd.jupyter.widget-view+json": {
       "model_id": "a16368f4f45a468ca5b7288402c997fb",
       "version_major": 2,
       "version_minor": 0
      },
      "text/plain": [
       "Retrieving ElectronicStructureDoc documents:   0%|          | 0/1 [00:00<?, ?it/s]"
      ]
     },
     "metadata": {},
     "output_type": "display_data"
    },
    {
     "data": {
      "application/vnd.jupyter.widget-view+json": {
       "model_id": "f26b0c2a6d5d4301a9ab501b5a0ea4fc",
       "version_major": 2,
       "version_minor": 0
      },
      "text/plain": [
       "Retrieving ElectronicStructureDoc documents:   0%|          | 0/1 [00:00<?, ?it/s]"
      ]
     },
     "metadata": {},
     "output_type": "display_data"
    },
    {
     "data": {
      "application/vnd.jupyter.widget-view+json": {
       "model_id": "f3fa71e2dc9e4c9397aa5f7f43c40549",
       "version_major": 2,
       "version_minor": 0
      },
      "text/plain": [
       "Retrieving ElectronicStructureDoc documents:   0%|          | 0/1 [00:00<?, ?it/s]"
      ]
     },
     "metadata": {},
     "output_type": "display_data"
    },
    {
     "data": {
      "application/vnd.jupyter.widget-view+json": {
       "model_id": "55c209cd47cb4f0d874140e659b81bc4",
       "version_major": 2,
       "version_minor": 0
      },
      "text/plain": [
       "Retrieving ElectronicStructureDoc documents:   0%|          | 0/1 [00:00<?, ?it/s]"
      ]
     },
     "metadata": {},
     "output_type": "display_data"
    },
    {
     "data": {
      "application/vnd.jupyter.widget-view+json": {
       "model_id": "824b9bc1a1f14aa49db72917ba685c30",
       "version_major": 2,
       "version_minor": 0
      },
      "text/plain": [
       "Retrieving ElectronicStructureDoc documents:   0%|          | 0/1 [00:00<?, ?it/s]"
      ]
     },
     "metadata": {},
     "output_type": "display_data"
    },
    {
     "name": "stdout",
     "output_type": "stream",
     "text": [
      "165 mp-361 direct gamma to gamma transition found\n"
     ]
    },
    {
     "data": {
      "application/vnd.jupyter.widget-view+json": {
       "model_id": "bb1c8d34b998401080695381f7aa232f",
       "version_major": 2,
       "version_minor": 0
      },
      "text/plain": [
       "Retrieving ElectronicStructureDoc documents:   0%|          | 0/1 [00:00<?, ?it/s]"
      ]
     },
     "metadata": {},
     "output_type": "display_data"
    },
    {
     "data": {
      "application/vnd.jupyter.widget-view+json": {
       "model_id": "db56cd5696c64795b7fe8c4d37905337",
       "version_major": 2,
       "version_minor": 0
      },
      "text/plain": [
       "Retrieving ElectronicStructureDoc documents:   0%|          | 0/1 [00:00<?, ?it/s]"
      ]
     },
     "metadata": {},
     "output_type": "display_data"
    },
    {
     "data": {
      "application/vnd.jupyter.widget-view+json": {
       "model_id": "f919c69db69f43b0ad3bfd46a69d886e",
       "version_major": 2,
       "version_minor": 0
      },
      "text/plain": [
       "Retrieving ElectronicStructureDoc documents:   0%|          | 0/1 [00:00<?, ?it/s]"
      ]
     },
     "metadata": {},
     "output_type": "display_data"
    },
    {
     "data": {
      "application/vnd.jupyter.widget-view+json": {
       "model_id": "45dce32907164ac0b5cd1b34ac40ba62",
       "version_major": 2,
       "version_minor": 0
      },
      "text/plain": [
       "Retrieving ElectronicStructureDoc documents:   0%|          | 0/1 [00:00<?, ?it/s]"
      ]
     },
     "metadata": {},
     "output_type": "display_data"
    },
    {
     "data": {
      "application/vnd.jupyter.widget-view+json": {
       "model_id": "88c9097295f04a179e7dadd7865a954c",
       "version_major": 2,
       "version_minor": 0
      },
      "text/plain": [
       "Retrieving ElectronicStructureDoc documents:   0%|          | 0/1 [00:00<?, ?it/s]"
      ]
     },
     "metadata": {},
     "output_type": "display_data"
    },
    {
     "data": {
      "application/vnd.jupyter.widget-view+json": {
       "model_id": "5916006d248840ec921525d44e7e0e12",
       "version_major": 2,
       "version_minor": 0
      },
      "text/plain": [
       "Retrieving ElectronicStructureDoc documents:   0%|          | 0/1 [00:00<?, ?it/s]"
      ]
     },
     "metadata": {},
     "output_type": "display_data"
    },
    {
     "data": {
      "application/vnd.jupyter.widget-view+json": {
       "model_id": "dd53037151f84858b2438b226b561da9",
       "version_major": 2,
       "version_minor": 0
      },
      "text/plain": [
       "Retrieving ElectronicStructureDoc documents:   0%|          | 0/1 [00:00<?, ?it/s]"
      ]
     },
     "metadata": {},
     "output_type": "display_data"
    },
    {
     "data": {
      "application/vnd.jupyter.widget-view+json": {
       "model_id": "5090ddf40f844c09bea16c94663f07da",
       "version_major": 2,
       "version_minor": 0
      },
      "text/plain": [
       "Retrieving ElectronicStructureDoc documents:   0%|          | 0/1 [00:00<?, ?it/s]"
      ]
     },
     "metadata": {},
     "output_type": "display_data"
    },
    {
     "name": "stdout",
     "output_type": "stream",
     "text": [
      "173 mp-977414 direct gamma to gamma transition found\n"
     ]
    },
    {
     "data": {
      "application/vnd.jupyter.widget-view+json": {
       "model_id": "11ce458ec8bc4c7d968c41fc3d7493d0",
       "version_major": 2,
       "version_minor": 0
      },
      "text/plain": [
       "Retrieving ElectronicStructureDoc documents:   0%|          | 0/1 [00:00<?, ?it/s]"
      ]
     },
     "metadata": {},
     "output_type": "display_data"
    },
    {
     "data": {
      "application/vnd.jupyter.widget-view+json": {
       "model_id": "b1028b3accfc46cfb1d13023422eb483",
       "version_major": 2,
       "version_minor": 0
      },
      "text/plain": [
       "Retrieving ElectronicStructureDoc documents:   0%|          | 0/1 [00:00<?, ?it/s]"
      ]
     },
     "metadata": {},
     "output_type": "display_data"
    },
    {
     "data": {
      "application/vnd.jupyter.widget-view+json": {
       "model_id": "af3d604d15944ba8a18db7c629c7e902",
       "version_major": 2,
       "version_minor": 0
      },
      "text/plain": [
       "Retrieving ElectronicStructureDoc documents:   0%|          | 0/1 [00:00<?, ?it/s]"
      ]
     },
     "metadata": {},
     "output_type": "display_data"
    },
    {
     "data": {
      "application/vnd.jupyter.widget-view+json": {
       "model_id": "b772df6b9fa34644872cf4b6548ef036",
       "version_major": 2,
       "version_minor": 0
      },
      "text/plain": [
       "Retrieving ElectronicStructureDoc documents:   0%|          | 0/1 [00:00<?, ?it/s]"
      ]
     },
     "metadata": {},
     "output_type": "display_data"
    },
    {
     "data": {
      "application/vnd.jupyter.widget-view+json": {
       "model_id": "8792a1a70f3645d59b5695a8b8f3cc94",
       "version_major": 2,
       "version_minor": 0
      },
      "text/plain": [
       "Retrieving ElectronicStructureDoc documents:   0%|          | 0/1 [00:00<?, ?it/s]"
      ]
     },
     "metadata": {},
     "output_type": "display_data"
    },
    {
     "data": {
      "application/vnd.jupyter.widget-view+json": {
       "model_id": "96fce3ffb4db442cad70c9b685b02919",
       "version_major": 2,
       "version_minor": 0
      },
      "text/plain": [
       "Retrieving ElectronicStructureDoc documents:   0%|          | 0/1 [00:00<?, ?it/s]"
      ]
     },
     "metadata": {},
     "output_type": "display_data"
    },
    {
     "data": {
      "application/vnd.jupyter.widget-view+json": {
       "model_id": "3607f97ff46641d0ba5f1191bcd24482",
       "version_major": 2,
       "version_minor": 0
      },
      "text/plain": [
       "Retrieving ElectronicStructureDoc documents:   0%|          | 0/1 [00:00<?, ?it/s]"
      ]
     },
     "metadata": {},
     "output_type": "display_data"
    },
    {
     "data": {
      "application/vnd.jupyter.widget-view+json": {
       "model_id": "d61d770e0ca149b392559c50ae8074ed",
       "version_major": 2,
       "version_minor": 0
      },
      "text/plain": [
       "Retrieving ElectronicStructureDoc documents:   0%|          | 0/1 [00:00<?, ?it/s]"
      ]
     },
     "metadata": {},
     "output_type": "display_data"
    },
    {
     "data": {
      "application/vnd.jupyter.widget-view+json": {
       "model_id": "d13696e2d83941c3b903690f545a809a",
       "version_major": 2,
       "version_minor": 0
      },
      "text/plain": [
       "Retrieving ElectronicStructureDoc documents:   0%|          | 0/1 [00:00<?, ?it/s]"
      ]
     },
     "metadata": {},
     "output_type": "display_data"
    },
    {
     "name": "stdout",
     "output_type": "stream",
     "text": [
      "182 mp-4979 direct gamma to gamma transition found\n"
     ]
    },
    {
     "data": {
      "application/vnd.jupyter.widget-view+json": {
       "model_id": "8aac3f3a9986406794f14ae76794ad4e",
       "version_major": 2,
       "version_minor": 0
      },
      "text/plain": [
       "Retrieving ElectronicStructureDoc documents:   0%|          | 0/1 [00:00<?, ?it/s]"
      ]
     },
     "metadata": {},
     "output_type": "display_data"
    },
    {
     "name": "stdout",
     "output_type": "stream",
     "text": [
      "183 mp-8016 direct gamma to gamma transition found\n"
     ]
    },
    {
     "data": {
      "application/vnd.jupyter.widget-view+json": {
       "model_id": "9aca1dc7ccf941228fbb223c6cbc1379",
       "version_major": 2,
       "version_minor": 0
      },
      "text/plain": [
       "Retrieving ElectronicStructureDoc documents:   0%|          | 0/1 [00:00<?, ?it/s]"
      ]
     },
     "metadata": {},
     "output_type": "display_data"
    },
    {
     "data": {
      "application/vnd.jupyter.widget-view+json": {
       "model_id": "9e465a9ab0b641a0b2e14aa682b148e2",
       "version_major": 2,
       "version_minor": 0
      },
      "text/plain": [
       "Retrieving ElectronicStructureDoc documents:   0%|          | 0/1 [00:00<?, ?it/s]"
      ]
     },
     "metadata": {},
     "output_type": "display_data"
    },
    {
     "name": "stdout",
     "output_type": "stream",
     "text": [
      "185 mp-22913 direct gamma to gamma transition found\n"
     ]
    },
    {
     "data": {
      "application/vnd.jupyter.widget-view+json": {
       "model_id": "9d1513cc44d94aa489e174d66aada97d",
       "version_major": 2,
       "version_minor": 0
      },
      "text/plain": [
       "Retrieving ElectronicStructureDoc documents:   0%|          | 0/1 [00:00<?, ?it/s]"
      ]
     },
     "metadata": {},
     "output_type": "display_data"
    },
    {
     "name": "stdout",
     "output_type": "stream",
     "text": [
      "186 mp-12954 direct gamma to gamma transition found\n"
     ]
    },
    {
     "data": {
      "application/vnd.jupyter.widget-view+json": {
       "model_id": "cf518f226cc3433d8e3f37caf70830c1",
       "version_major": 2,
       "version_minor": 0
      },
      "text/plain": [
       "Retrieving ElectronicStructureDoc documents:   0%|          | 0/1 [00:00<?, ?it/s]"
      ]
     },
     "metadata": {},
     "output_type": "display_data"
    },
    {
     "name": "stdout",
     "output_type": "stream",
     "text": [
      "187 mp-22914 direct gamma to gamma transition found\n"
     ]
    },
    {
     "data": {
      "application/vnd.jupyter.widget-view+json": {
       "model_id": "41f744fc6fcb421ca3d82c70410f3c4a",
       "version_major": 2,
       "version_minor": 0
      },
      "text/plain": [
       "Retrieving ElectronicStructureDoc documents:   0%|          | 0/1 [00:00<?, ?it/s]"
      ]
     },
     "metadata": {},
     "output_type": "display_data"
    },
    {
     "data": {
      "application/vnd.jupyter.widget-view+json": {
       "model_id": "9fb260f317034251879c5e9d08c80e4e",
       "version_major": 2,
       "version_minor": 0
      },
      "text/plain": [
       "Retrieving ElectronicStructureDoc documents:   0%|          | 0/1 [00:00<?, ?it/s]"
      ]
     },
     "metadata": {},
     "output_type": "display_data"
    },
    {
     "name": "stdout",
     "output_type": "stream",
     "text": [
      "189 mp-5238 direct gamma to gamma transition found\n"
     ]
    },
    {
     "data": {
      "application/vnd.jupyter.widget-view+json": {
       "model_id": "436a2c5bff1a48e5bee5f6df2a23f7fc",
       "version_major": 2,
       "version_minor": 0
      },
      "text/plain": [
       "Retrieving ElectronicStructureDoc documents:   0%|          | 0/1 [00:00<?, ?it/s]"
      ]
     },
     "metadata": {},
     "output_type": "display_data"
    },
    {
     "name": "stdout",
     "output_type": "stream",
     "text": [
      "190 mp-4840 direct gamma to gamma transition found\n"
     ]
    },
    {
     "data": {
      "application/vnd.jupyter.widget-view+json": {
       "model_id": "644e30350c6b473683ff077a04b59244",
       "version_major": 2,
       "version_minor": 0
      },
      "text/plain": [
       "Retrieving ElectronicStructureDoc documents:   0%|          | 0/1 [00:00<?, ?it/s]"
      ]
     },
     "metadata": {},
     "output_type": "display_data"
    },
    {
     "name": "stdout",
     "output_type": "stream",
     "text": [
      "191 mp-3839 direct gamma to gamma transition found\n"
     ]
    },
    {
     "data": {
      "application/vnd.jupyter.widget-view+json": {
       "model_id": "fc4cfcf8fa6c447e8a04cd8d57e2469f",
       "version_major": 2,
       "version_minor": 0
      },
      "text/plain": [
       "Retrieving ElectronicStructureDoc documents:   0%|          | 0/1 [00:00<?, ?it/s]"
      ]
     },
     "metadata": {},
     "output_type": "display_data"
    },
    {
     "name": "stdout",
     "output_type": "stream",
     "text": [
      "192 mp-22895 direct gamma to gamma transition found\n"
     ]
    },
    {
     "data": {
      "application/vnd.jupyter.widget-view+json": {
       "model_id": "c1a23c2ce3724882af5b24b4c043f60d",
       "version_major": 2,
       "version_minor": 0
      },
      "text/plain": [
       "Retrieving ElectronicStructureDoc documents:   0%|          | 0/1 [00:00<?, ?it/s]"
      ]
     },
     "metadata": {},
     "output_type": "display_data"
    },
    {
     "data": {
      "application/vnd.jupyter.widget-view+json": {
       "model_id": "99d6c65fa5484a799eec3ff5ed1183d1",
       "version_major": 2,
       "version_minor": 0
      },
      "text/plain": [
       "Retrieving ElectronicStructureDoc documents:   0%|          | 0/1 [00:00<?, ?it/s]"
      ]
     },
     "metadata": {},
     "output_type": "display_data"
    },
    {
     "data": {
      "application/vnd.jupyter.widget-view+json": {
       "model_id": "b140b4ef6fca49c488f066cf29536e66",
       "version_major": 2,
       "version_minor": 0
      },
      "text/plain": [
       "Retrieving ElectronicStructureDoc documents:   0%|          | 0/1 [00:00<?, ?it/s]"
      ]
     },
     "metadata": {},
     "output_type": "display_data"
    },
    {
     "data": {
      "application/vnd.jupyter.widget-view+json": {
       "model_id": "11b8df58cdf04d5eb788ade6b8e4f08e",
       "version_major": 2,
       "version_minor": 0
      },
      "text/plain": [
       "Retrieving ElectronicStructureDoc documents:   0%|          | 0/1 [00:00<?, ?it/s]"
      ]
     },
     "metadata": {},
     "output_type": "display_data"
    },
    {
     "data": {
      "application/vnd.jupyter.widget-view+json": {
       "model_id": "fe2b125a0691412790b76f89aaa74a64",
       "version_major": 2,
       "version_minor": 0
      },
      "text/plain": [
       "Retrieving ElectronicStructureDoc documents:   0%|          | 0/1 [00:00<?, ?it/s]"
      ]
     },
     "metadata": {},
     "output_type": "display_data"
    },
    {
     "data": {
      "application/vnd.jupyter.widget-view+json": {
       "model_id": "98c0c96c0b224d139271d3a841d0b081",
       "version_major": 2,
       "version_minor": 0
      },
      "text/plain": [
       "Retrieving ElectronicStructureDoc documents:   0%|          | 0/1 [00:00<?, ?it/s]"
      ]
     },
     "metadata": {},
     "output_type": "display_data"
    },
    {
     "data": {
      "application/vnd.jupyter.widget-view+json": {
       "model_id": "2002c9afd27946b7828f98eb1eabbc5c",
       "version_major": 2,
       "version_minor": 0
      },
      "text/plain": [
       "Retrieving ElectronicStructureDoc documents:   0%|          | 0/1 [00:00<?, ?it/s]"
      ]
     },
     "metadata": {},
     "output_type": "display_data"
    },
    {
     "data": {
      "application/vnd.jupyter.widget-view+json": {
       "model_id": "1771d3f8b857427cb5e537c2dc49667f",
       "version_major": 2,
       "version_minor": 0
      },
      "text/plain": [
       "Retrieving ElectronicStructureDoc documents:   0%|          | 0/1 [00:00<?, ?it/s]"
      ]
     },
     "metadata": {},
     "output_type": "display_data"
    },
    {
     "data": {
      "application/vnd.jupyter.widget-view+json": {
       "model_id": "0e3d158def09474aa4398b307fd7459f",
       "version_major": 2,
       "version_minor": 0
      },
      "text/plain": [
       "Retrieving ElectronicStructureDoc documents:   0%|          | 0/1 [00:00<?, ?it/s]"
      ]
     },
     "metadata": {},
     "output_type": "display_data"
    },
    {
     "data": {
      "application/vnd.jupyter.widget-view+json": {
       "model_id": "8df2ff1936c74b0d8620910a5e3a3cb8",
       "version_major": 2,
       "version_minor": 0
      },
      "text/plain": [
       "Retrieving ElectronicStructureDoc documents:   0%|          | 0/1 [00:00<?, ?it/s]"
      ]
     },
     "metadata": {},
     "output_type": "display_data"
    },
    {
     "data": {
      "application/vnd.jupyter.widget-view+json": {
       "model_id": "1e44bac0e7074af5b4279e8a275e40d0",
       "version_major": 2,
       "version_minor": 0
      },
      "text/plain": [
       "Retrieving ElectronicStructureDoc documents:   0%|          | 0/1 [00:00<?, ?it/s]"
      ]
     },
     "metadata": {},
     "output_type": "display_data"
    },
    {
     "name": "stdout",
     "output_type": "stream",
     "text": [
      "203 mp-2534 direct gamma to gamma transition found\n"
     ]
    },
    {
     "data": {
      "application/vnd.jupyter.widget-view+json": {
       "model_id": "ebcf9f810ae64f2c84d419971da1b8af",
       "version_major": 2,
       "version_minor": 0
      },
      "text/plain": [
       "Retrieving ElectronicStructureDoc documents:   0%|          | 0/1 [00:00<?, ?it/s]"
      ]
     },
     "metadata": {},
     "output_type": "display_data"
    },
    {
     "name": "stdout",
     "output_type": "stream",
     "text": [
      "204 mp-804 direct gamma to gamma transition found\n"
     ]
    },
    {
     "data": {
      "application/vnd.jupyter.widget-view+json": {
       "model_id": "130994a4aa234d4f9845e130189d2ce2",
       "version_major": 2,
       "version_minor": 0
      },
      "text/plain": [
       "Retrieving ElectronicStructureDoc documents:   0%|          | 0/1 [00:00<?, ?it/s]"
      ]
     },
     "metadata": {},
     "output_type": "display_data"
    },
    {
     "data": {
      "application/vnd.jupyter.widget-view+json": {
       "model_id": "9fb173d1f5a0492f94b2829db19f0ff2",
       "version_major": 2,
       "version_minor": 0
      },
      "text/plain": [
       "Retrieving ElectronicStructureDoc documents:   0%|          | 0/1 [00:00<?, ?it/s]"
      ]
     },
     "metadata": {},
     "output_type": "display_data"
    },
    {
     "data": {
      "application/vnd.jupyter.widget-view+json": {
       "model_id": "f44da5c5d2d047f89b12c1932ce00955",
       "version_major": 2,
       "version_minor": 0
      },
      "text/plain": [
       "Retrieving ElectronicStructureDoc documents:   0%|          | 0/1 [00:00<?, ?it/s]"
      ]
     },
     "metadata": {},
     "output_type": "display_data"
    },
    {
     "data": {
      "application/vnd.jupyter.widget-view+json": {
       "model_id": "e02a134cb5de4cbd84466da131e8036d",
       "version_major": 2,
       "version_minor": 0
      },
      "text/plain": [
       "Retrieving ElectronicStructureDoc documents:   0%|          | 0/1 [00:00<?, ?it/s]"
      ]
     },
     "metadata": {},
     "output_type": "display_data"
    },
    {
     "data": {
      "application/vnd.jupyter.widget-view+json": {
       "model_id": "8d22b736b8614757903fef8ca66a5d66",
       "version_major": 2,
       "version_minor": 0
      },
      "text/plain": [
       "Retrieving ElectronicStructureDoc documents:   0%|          | 0/1 [00:00<?, ?it/s]"
      ]
     },
     "metadata": {},
     "output_type": "display_data"
    },
    {
     "data": {
      "application/vnd.jupyter.widget-view+json": {
       "model_id": "e1acf35548ca4c74bc01100a84677524",
       "version_major": 2,
       "version_minor": 0
      },
      "text/plain": [
       "Retrieving ElectronicStructureDoc documents:   0%|          | 0/1 [00:00<?, ?it/s]"
      ]
     },
     "metadata": {},
     "output_type": "display_data"
    },
    {
     "data": {
      "application/vnd.jupyter.widget-view+json": {
       "model_id": "90a7068a64a143ff865ef3556503fae8",
       "version_major": 2,
       "version_minor": 0
      },
      "text/plain": [
       "Retrieving ElectronicStructureDoc documents:   0%|          | 0/1 [00:00<?, ?it/s]"
      ]
     },
     "metadata": {},
     "output_type": "display_data"
    },
    {
     "data": {
      "application/vnd.jupyter.widget-view+json": {
       "model_id": "007fa82519d0414aa2ff4a638cd13d90",
       "version_major": 2,
       "version_minor": 0
      },
      "text/plain": [
       "Retrieving ElectronicStructureDoc documents:   0%|          | 0/1 [00:00<?, ?it/s]"
      ]
     },
     "metadata": {},
     "output_type": "display_data"
    },
    {
     "data": {
      "application/vnd.jupyter.widget-view+json": {
       "model_id": "c5890a8df28f4111ae23f5ac60ed72c9",
       "version_major": 2,
       "version_minor": 0
      },
      "text/plain": [
       "Retrieving ElectronicStructureDoc documents:   0%|          | 0/1 [00:00<?, ?it/s]"
      ]
     },
     "metadata": {},
     "output_type": "display_data"
    },
    {
     "name": "stdout",
     "output_type": "stream",
     "text": [
      "213 mp-470 direct gamma to gamma transition found\n"
     ]
    },
    {
     "data": {
      "application/vnd.jupyter.widget-view+json": {
       "model_id": "70406f623c514869bb8ffe0a623ad0b6",
       "version_major": 2,
       "version_minor": 0
      },
      "text/plain": [
       "Retrieving ElectronicStructureDoc documents:   0%|          | 0/1 [00:00<?, ?it/s]"
      ]
     },
     "metadata": {},
     "output_type": "display_data"
    },
    {
     "data": {
      "application/vnd.jupyter.widget-view+json": {
       "model_id": "078dd06ebf934ec3ab368d5201196050",
       "version_major": 2,
       "version_minor": 0
      },
      "text/plain": [
       "Retrieving ElectronicStructureDoc documents:   0%|          | 0/1 [00:00<?, ?it/s]"
      ]
     },
     "metadata": {},
     "output_type": "display_data"
    },
    {
     "name": "stdout",
     "output_type": "stream",
     "text": [
      "215 mp-568346 direct gamma to gamma transition found\n"
     ]
    },
    {
     "data": {
      "application/vnd.jupyter.widget-view+json": {
       "model_id": "cb060c587e67415ea21d1eba3e2a029f",
       "version_major": 2,
       "version_minor": 0
      },
      "text/plain": [
       "Retrieving ElectronicStructureDoc documents:   0%|          | 0/1 [00:00<?, ?it/s]"
      ]
     },
     "metadata": {},
     "output_type": "display_data"
    },
    {
     "data": {
      "application/vnd.jupyter.widget-view+json": {
       "model_id": "ddb1d4e705d347349b9cb714b34c4f37",
       "version_major": 2,
       "version_minor": 0
      },
      "text/plain": [
       "Retrieving ElectronicStructureDoc documents:   0%|          | 0/1 [00:00<?, ?it/s]"
      ]
     },
     "metadata": {},
     "output_type": "display_data"
    },
    {
     "data": {
      "application/vnd.jupyter.widget-view+json": {
       "model_id": "9d5d8ff37d8a4f7896f4d4ffab520180",
       "version_major": 2,
       "version_minor": 0
      },
      "text/plain": [
       "Retrieving ElectronicStructureDoc documents:   0%|          | 0/1 [00:00<?, ?it/s]"
      ]
     },
     "metadata": {},
     "output_type": "display_data"
    },
    {
     "data": {
      "application/vnd.jupyter.widget-view+json": {
       "model_id": "30643db8a88e43fcbddcba203665da3d",
       "version_major": 2,
       "version_minor": 0
      },
      "text/plain": [
       "Retrieving ElectronicStructureDoc documents:   0%|          | 0/1 [00:00<?, ?it/s]"
      ]
     },
     "metadata": {},
     "output_type": "display_data"
    },
    {
     "name": "stdout",
     "output_type": "stream",
     "text": [
      "219 mp-22859 has no bandstructure data on mp\n"
     ]
    },
    {
     "data": {
      "application/vnd.jupyter.widget-view+json": {
       "model_id": "00c32c478d5146d3a753f8e22c43a286",
       "version_major": 2,
       "version_minor": 0
      },
      "text/plain": [
       "Retrieving ElectronicStructureDoc documents:   0%|          | 0/1 [00:00<?, ?it/s]"
      ]
     },
     "metadata": {},
     "output_type": "display_data"
    },
    {
     "name": "stdout",
     "output_type": "stream",
     "text": [
      "220 mp-570838 direct gamma to gamma transition found\n"
     ]
    },
    {
     "data": {
      "application/vnd.jupyter.widget-view+json": {
       "model_id": "b6a34aa6b0704862bb09c50369589ca7",
       "version_major": 2,
       "version_minor": 0
      },
      "text/plain": [
       "Retrieving ElectronicStructureDoc documents:   0%|          | 0/1 [00:00<?, ?it/s]"
      ]
     },
     "metadata": {},
     "output_type": "display_data"
    },
    {
     "name": "stdout",
     "output_type": "stream",
     "text": [
      "221 mp-4809 direct gamma to gamma transition found\n"
     ]
    },
    {
     "data": {
      "application/vnd.jupyter.widget-view+json": {
       "model_id": "39603990869148e1911b58a0b61e4e87",
       "version_major": 2,
       "version_minor": 0
      },
      "text/plain": [
       "Retrieving ElectronicStructureDoc documents:   0%|          | 0/1 [00:00<?, ?it/s]"
      ]
     },
     "metadata": {},
     "output_type": "display_data"
    },
    {
     "name": "stdout",
     "output_type": "stream",
     "text": [
      "222 mp-4730 direct gamma to gamma transition found\n"
     ]
    },
    {
     "data": {
      "application/vnd.jupyter.widget-view+json": {
       "model_id": "d1896d1c99ad420190e34cab31738615",
       "version_major": 2,
       "version_minor": 0
      },
      "text/plain": [
       "Retrieving ElectronicStructureDoc documents:   0%|          | 0/1 [00:00<?, ?it/s]"
      ]
     },
     "metadata": {},
     "output_type": "display_data"
    },
    {
     "name": "stdout",
     "output_type": "stream",
     "text": [
      "223 mp-23192 direct gamma to gamma transition found\n"
     ]
    },
    {
     "data": {
      "application/vnd.jupyter.widget-view+json": {
       "model_id": "b6aad65b18bd4654ac13c276faaede3d",
       "version_major": 2,
       "version_minor": 0
      },
      "text/plain": [
       "Retrieving ElectronicStructureDoc documents:   0%|          | 0/1 [00:00<?, ?it/s]"
      ]
     },
     "metadata": {},
     "output_type": "display_data"
    },
    {
     "name": "stdout",
     "output_type": "stream",
     "text": [
      "224 mp-20731 direct gamma to gamma transition found\n"
     ]
    },
    {
     "data": {
      "application/vnd.jupyter.widget-view+json": {
       "model_id": "3a37bde02602461caedb4c3a7cad30e5",
       "version_major": 2,
       "version_minor": 0
      },
      "text/plain": [
       "Retrieving ElectronicStructureDoc documents:   0%|          | 0/1 [00:00<?, ?it/s]"
      ]
     },
     "metadata": {},
     "output_type": "display_data"
    },
    {
     "name": "stdout",
     "output_type": "stream",
     "text": [
      "225 mp-19765 direct gamma to gamma transition found\n"
     ]
    },
    {
     "data": {
      "application/vnd.jupyter.widget-view+json": {
       "model_id": "12e3de48a8d54340a32aef0c8cda1ba8",
       "version_major": 2,
       "version_minor": 0
      },
      "text/plain": [
       "Retrieving ElectronicStructureDoc documents:   0%|          | 0/1 [00:00<?, ?it/s]"
      ]
     },
     "metadata": {},
     "output_type": "display_data"
    },
    {
     "data": {
      "application/vnd.jupyter.widget-view+json": {
       "model_id": "b2de30dda0e34385ad375233ce4dc915",
       "version_major": 2,
       "version_minor": 0
      },
      "text/plain": [
       "Retrieving ElectronicStructureDoc documents:   0%|          | 0/1 [00:00<?, ?it/s]"
      ]
     },
     "metadata": {},
     "output_type": "display_data"
    },
    {
     "name": "stdout",
     "output_type": "stream",
     "text": [
      "227 mp-634 has no bandstructure data on mp\n"
     ]
    },
    {
     "data": {
      "application/vnd.jupyter.widget-view+json": {
       "model_id": "e1a8325670fa476983a162c737baa6ec",
       "version_major": 2,
       "version_minor": 0
      },
      "text/plain": [
       "Retrieving ElectronicStructureDoc documents:   0%|          | 0/1 [00:00<?, ?it/s]"
      ]
     },
     "metadata": {},
     "output_type": "display_data"
    },
    {
     "data": {
      "application/vnd.jupyter.widget-view+json": {
       "model_id": "d767d3794b0945949d65293243584a4d",
       "version_major": 2,
       "version_minor": 0
      },
      "text/plain": [
       "Retrieving ElectronicStructureDoc documents:   0%|          | 0/1 [00:00<?, ?it/s]"
      ]
     },
     "metadata": {},
     "output_type": "display_data"
    },
    {
     "data": {
      "application/vnd.jupyter.widget-view+json": {
       "model_id": "f484b7b6d2924f6db52a4eefadd75c98",
       "version_major": 2,
       "version_minor": 0
      },
      "text/plain": [
       "Retrieving ElectronicStructureDoc documents:   0%|          | 0/1 [00:00<?, ?it/s]"
      ]
     },
     "metadata": {},
     "output_type": "display_data"
    },
    {
     "data": {
      "application/vnd.jupyter.widget-view+json": {
       "model_id": "1bad9efe3c3042a7bbfa6a599ee3a2d0",
       "version_major": 2,
       "version_minor": 0
      },
      "text/plain": [
       "Retrieving ElectronicStructureDoc documents:   0%|          | 0/1 [00:00<?, ?it/s]"
      ]
     },
     "metadata": {},
     "output_type": "display_data"
    },
    {
     "name": "stdout",
     "output_type": "stream",
     "text": [
      "231 mp-20830 has no bandstructure data on mp\n"
     ]
    },
    {
     "data": {
      "application/vnd.jupyter.widget-view+json": {
       "model_id": "b0e792d955004c12bc94fa6bd8e6c483",
       "version_major": 2,
       "version_minor": 0
      },
      "text/plain": [
       "Retrieving ElectronicStructureDoc documents:   0%|          | 0/1 [00:00<?, ?it/s]"
      ]
     },
     "metadata": {},
     "output_type": "display_data"
    },
    {
     "data": {
      "application/vnd.jupyter.widget-view+json": {
       "model_id": "91c6c8aef8634233926dca8337f1b9dc",
       "version_major": 2,
       "version_minor": 0
      },
      "text/plain": [
       "Retrieving ElectronicStructureDoc documents:   0%|          | 0/1 [00:00<?, ?it/s]"
      ]
     },
     "metadata": {},
     "output_type": "display_data"
    },
    {
     "data": {
      "application/vnd.jupyter.widget-view+json": {
       "model_id": "dc0c8ed9705d4830bbefe3df2d374c0b",
       "version_major": 2,
       "version_minor": 0
      },
      "text/plain": [
       "Retrieving ElectronicStructureDoc documents:   0%|          | 0/1 [00:00<?, ?it/s]"
      ]
     },
     "metadata": {},
     "output_type": "display_data"
    },
    {
     "data": {
      "application/vnd.jupyter.widget-view+json": {
       "model_id": "d961aad32d5d4e7383cd63d6b47524a0",
       "version_major": 2,
       "version_minor": 0
      },
      "text/plain": [
       "Retrieving ElectronicStructureDoc documents:   0%|          | 0/1 [00:00<?, ?it/s]"
      ]
     },
     "metadata": {},
     "output_type": "display_data"
    },
    {
     "data": {
      "application/vnd.jupyter.widget-view+json": {
       "model_id": "7c6114af6b4e4c33928c01b78ca5c3dc",
       "version_major": 2,
       "version_minor": 0
      },
      "text/plain": [
       "Retrieving ElectronicStructureDoc documents:   0%|          | 0/1 [00:00<?, ?it/s]"
      ]
     },
     "metadata": {},
     "output_type": "display_data"
    },
    {
     "data": {
      "application/vnd.jupyter.widget-view+json": {
       "model_id": "ba082ca7ba374161918bdfcff2b0bc04",
       "version_major": 2,
       "version_minor": 0
      },
      "text/plain": [
       "Retrieving ElectronicStructureDoc documents:   0%|          | 0/1 [00:00<?, ?it/s]"
      ]
     },
     "metadata": {},
     "output_type": "display_data"
    },
    {
     "data": {
      "application/vnd.jupyter.widget-view+json": {
       "model_id": "52be1facdf5b4092b977feb05e62953b",
       "version_major": 2,
       "version_minor": 0
      },
      "text/plain": [
       "Retrieving ElectronicStructureDoc documents:   0%|          | 0/1 [00:00<?, ?it/s]"
      ]
     },
     "metadata": {},
     "output_type": "display_data"
    },
    {
     "name": "stdout",
     "output_type": "stream",
     "text": [
      "238 mp-20351 direct gamma to gamma transition found\n"
     ]
    },
    {
     "data": {
      "application/vnd.jupyter.widget-view+json": {
       "model_id": "b7767d39ecd044dbb3cfb5d92c22269f",
       "version_major": 2,
       "version_minor": 0
      },
      "text/plain": [
       "Retrieving ElectronicStructureDoc documents:   0%|          | 0/1 [00:00<?, ?it/s]"
      ]
     },
     "metadata": {},
     "output_type": "display_data"
    },
    {
     "name": "stdout",
     "output_type": "stream",
     "text": [
      "239 mp-20790 has no bandstructure data on mp\n"
     ]
    },
    {
     "data": {
      "application/vnd.jupyter.widget-view+json": {
       "model_id": "4061561dbd61416f9cc4895fcc6f4a57",
       "version_major": 2,
       "version_minor": 0
      },
      "text/plain": [
       "Retrieving ElectronicStructureDoc documents:   0%|          | 0/1 [00:00<?, ?it/s]"
      ]
     },
     "metadata": {},
     "output_type": "display_data"
    },
    {
     "data": {
      "application/vnd.jupyter.widget-view+json": {
       "model_id": "caad2a1ecd92473d8015ca97f6905328",
       "version_major": 2,
       "version_minor": 0
      },
      "text/plain": [
       "Retrieving ElectronicStructureDoc documents:   0%|          | 0/1 [00:00<?, ?it/s]"
      ]
     },
     "metadata": {},
     "output_type": "display_data"
    },
    {
     "data": {
      "application/vnd.jupyter.widget-view+json": {
       "model_id": "d5fb76a639564794bb769d682103557f",
       "version_major": 2,
       "version_minor": 0
      },
      "text/plain": [
       "Retrieving ElectronicStructureDoc documents:   0%|          | 0/1 [00:00<?, ?it/s]"
      ]
     },
     "metadata": {},
     "output_type": "display_data"
    },
    {
     "data": {
      "application/vnd.jupyter.widget-view+json": {
       "model_id": "969cf9edb2fb401c8a247add639c3880",
       "version_major": 2,
       "version_minor": 0
      },
      "text/plain": [
       "Retrieving ElectronicStructureDoc documents:   0%|          | 0/1 [00:00<?, ?it/s]"
      ]
     },
     "metadata": {},
     "output_type": "display_data"
    },
    {
     "data": {
      "application/vnd.jupyter.widget-view+json": {
       "model_id": "b156d92265634fb0832139cdcfff1c81",
       "version_major": 2,
       "version_minor": 0
      },
      "text/plain": [
       "Retrieving ElectronicStructureDoc documents:   0%|          | 0/1 [00:00<?, ?it/s]"
      ]
     },
     "metadata": {},
     "output_type": "display_data"
    },
    {
     "data": {
      "application/vnd.jupyter.widget-view+json": {
       "model_id": "3798f3c8fd514318b1e842190c14f15d",
       "version_major": 2,
       "version_minor": 0
      },
      "text/plain": [
       "Retrieving ElectronicStructureDoc documents:   0%|          | 0/1 [00:00<?, ?it/s]"
      ]
     },
     "metadata": {},
     "output_type": "display_data"
    },
    {
     "data": {
      "application/vnd.jupyter.widget-view+json": {
       "model_id": "52c3d64e5c2a4ccfa01ecb5088c15795",
       "version_major": 2,
       "version_minor": 0
      },
      "text/plain": [
       "Retrieving ElectronicStructureDoc documents:   0%|          | 0/1 [00:00<?, ?it/s]"
      ]
     },
     "metadata": {},
     "output_type": "display_data"
    },
    {
     "data": {
      "application/vnd.jupyter.widget-view+json": {
       "model_id": "914e5ee0d79549efa70ae29cf1aeed48",
       "version_major": 2,
       "version_minor": 0
      },
      "text/plain": [
       "Retrieving ElectronicStructureDoc documents:   0%|          | 0/1 [00:00<?, ?it/s]"
      ]
     },
     "metadata": {},
     "output_type": "display_data"
    },
    {
     "data": {
      "application/vnd.jupyter.widget-view+json": {
       "model_id": "f04dc9255ca14a938e72be9087ce8bf2",
       "version_major": 2,
       "version_minor": 0
      },
      "text/plain": [
       "Retrieving ElectronicStructureDoc documents:   0%|          | 0/1 [00:00<?, ?it/s]"
      ]
     },
     "metadata": {},
     "output_type": "display_data"
    },
    {
     "data": {
      "application/vnd.jupyter.widget-view+json": {
       "model_id": "138f2c79d0fe44c0a6137ce65839ac70",
       "version_major": 2,
       "version_minor": 0
      },
      "text/plain": [
       "Retrieving ElectronicStructureDoc documents:   0%|          | 0/1 [00:00<?, ?it/s]"
      ]
     },
     "metadata": {},
     "output_type": "display_data"
    },
    {
     "name": "stdout",
     "output_type": "stream",
     "text": [
      "249 mp-581024 direct gamma to gamma transition found\n"
     ]
    },
    {
     "data": {
      "application/vnd.jupyter.widget-view+json": {
       "model_id": "bee4ab5a8fce4bf9a81a09bed91ce321",
       "version_major": 2,
       "version_minor": 0
      },
      "text/plain": [
       "Retrieving ElectronicStructureDoc documents:   0%|          | 0/1 [00:00<?, ?it/s]"
      ]
     },
     "metadata": {},
     "output_type": "display_data"
    },
    {
     "data": {
      "application/vnd.jupyter.widget-view+json": {
       "model_id": "2cd6a6d715564dbc83956505ce415238",
       "version_major": 2,
       "version_minor": 0
      },
      "text/plain": [
       "Retrieving ElectronicStructureDoc documents:   0%|          | 0/1 [00:00<?, ?it/s]"
      ]
     },
     "metadata": {},
     "output_type": "display_data"
    },
    {
     "data": {
      "application/vnd.jupyter.widget-view+json": {
       "model_id": "cf6fa1c254b64bc5b13d88e54f89ff00",
       "version_major": 2,
       "version_minor": 0
      },
      "text/plain": [
       "Retrieving ElectronicStructureDoc documents:   0%|          | 0/1 [00:00<?, ?it/s]"
      ]
     },
     "metadata": {},
     "output_type": "display_data"
    },
    {
     "data": {
      "application/vnd.jupyter.widget-view+json": {
       "model_id": "e532762ecc054b3cae716b6902206267",
       "version_major": 2,
       "version_minor": 0
      },
      "text/plain": [
       "Retrieving ElectronicStructureDoc documents:   0%|          | 0/1 [00:00<?, ?it/s]"
      ]
     },
     "metadata": {},
     "output_type": "display_data"
    },
    {
     "data": {
      "application/vnd.jupyter.widget-view+json": {
       "model_id": "de6f679cc4514e7e981bb9bc2161f6cf",
       "version_major": 2,
       "version_minor": 0
      },
      "text/plain": [
       "Retrieving ElectronicStructureDoc documents:   0%|          | 0/1 [00:00<?, ?it/s]"
      ]
     },
     "metadata": {},
     "output_type": "display_data"
    },
    {
     "data": {
      "application/vnd.jupyter.widget-view+json": {
       "model_id": "fa887f73ca314be08793f870308c1fe7",
       "version_major": 2,
       "version_minor": 0
      },
      "text/plain": [
       "Retrieving ElectronicStructureDoc documents:   0%|          | 0/1 [00:00<?, ?it/s]"
      ]
     },
     "metadata": {},
     "output_type": "display_data"
    },
    {
     "name": "stdout",
     "output_type": "stream",
     "text": [
      "255 mp-12535 direct gamma to gamma transition found\n"
     ]
    },
    {
     "data": {
      "application/vnd.jupyter.widget-view+json": {
       "model_id": "bf26113604aa4059afcadee1eae7b5bd",
       "version_major": 2,
       "version_minor": 0
      },
      "text/plain": [
       "Retrieving ElectronicStructureDoc documents:   0%|          | 0/1 [00:00<?, ?it/s]"
      ]
     },
     "metadata": {},
     "output_type": "display_data"
    },
    {
     "name": "stdout",
     "output_type": "stream",
     "text": [
      "256 mp-10159 direct gamma to gamma transition found\n"
     ]
    },
    {
     "data": {
      "application/vnd.jupyter.widget-view+json": {
       "model_id": "458946cd11b046ccb76bc17ffee43775",
       "version_major": 2,
       "version_minor": 0
      },
      "text/plain": [
       "Retrieving ElectronicStructureDoc documents:   0%|          | 0/1 [00:00<?, ?it/s]"
      ]
     },
     "metadata": {},
     "output_type": "display_data"
    },
    {
     "data": {
      "application/vnd.jupyter.widget-view+json": {
       "model_id": "44df835e746048f4bcf1fba94580f4e4",
       "version_major": 2,
       "version_minor": 0
      },
      "text/plain": [
       "Retrieving ElectronicStructureDoc documents:   0%|          | 0/1 [00:00<?, ?it/s]"
      ]
     },
     "metadata": {},
     "output_type": "display_data"
    },
    {
     "name": "stdout",
     "output_type": "stream",
     "text": [
      "258 mp-17698 direct gamma to gamma transition found\n"
     ]
    },
    {
     "data": {
      "application/vnd.jupyter.widget-view+json": {
       "model_id": "3009bbb24a3244a692dc03f49832115c",
       "version_major": 2,
       "version_minor": 0
      },
      "text/plain": [
       "Retrieving ElectronicStructureDoc documents:   0%|          | 0/1 [00:00<?, ?it/s]"
      ]
     },
     "metadata": {},
     "output_type": "display_data"
    },
    {
     "data": {
      "application/vnd.jupyter.widget-view+json": {
       "model_id": "50f1242efa934e13bb16fb083899ef7b",
       "version_major": 2,
       "version_minor": 0
      },
      "text/plain": [
       "Retrieving ElectronicStructureDoc documents:   0%|          | 0/1 [00:00<?, ?it/s]"
      ]
     },
     "metadata": {},
     "output_type": "display_data"
    },
    {
     "data": {
      "application/vnd.jupyter.widget-view+json": {
       "model_id": "940d38b8b0a242d994e5f44f337d4fc2",
       "version_major": 2,
       "version_minor": 0
      },
      "text/plain": [
       "Retrieving ElectronicStructureDoc documents:   0%|          | 0/1 [00:00<?, ?it/s]"
      ]
     },
     "metadata": {},
     "output_type": "display_data"
    },
    {
     "data": {
      "application/vnd.jupyter.widget-view+json": {
       "model_id": "66ad7bbc24cf466d86249f9d588d2891",
       "version_major": 2,
       "version_minor": 0
      },
      "text/plain": [
       "Retrieving ElectronicStructureDoc documents:   0%|          | 0/1 [00:00<?, ?it/s]"
      ]
     },
     "metadata": {},
     "output_type": "display_data"
    },
    {
     "name": "stdout",
     "output_type": "stream",
     "text": [
      "262 mp-23251 direct gamma to gamma transition found\n"
     ]
    },
    {
     "data": {
      "application/vnd.jupyter.widget-view+json": {
       "model_id": "c632723f05264c1386dead7692c0cb1b",
       "version_major": 2,
       "version_minor": 0
      },
      "text/plain": [
       "Retrieving ElectronicStructureDoc documents:   0%|          | 0/1 [00:00<?, ?it/s]"
      ]
     },
     "metadata": {},
     "output_type": "display_data"
    },
    {
     "name": "stdout",
     "output_type": "stream",
     "text": [
      "263 mp-23193 direct gamma to gamma transition found\n"
     ]
    },
    {
     "data": {
      "application/vnd.jupyter.widget-view+json": {
       "model_id": "16d8bbdbba774386a70be07794fcffad",
       "version_major": 2,
       "version_minor": 0
      },
      "text/plain": [
       "Retrieving ElectronicStructureDoc documents:   0%|          | 0/1 [00:00<?, ?it/s]"
      ]
     },
     "metadata": {},
     "output_type": "display_data"
    },
    {
     "data": {
      "application/vnd.jupyter.widget-view+json": {
       "model_id": "ac9fa83698df431399f9b253fe7f767b",
       "version_major": 2,
       "version_minor": 0
      },
      "text/plain": [
       "Retrieving ElectronicStructureDoc documents:   0%|          | 0/1 [00:00<?, ?it/s]"
      ]
     },
     "metadata": {},
     "output_type": "display_data"
    },
    {
     "data": {
      "application/vnd.jupyter.widget-view+json": {
       "model_id": "6ab27083d9b6491f83e364e19a8c91e1",
       "version_major": 2,
       "version_minor": 0
      },
      "text/plain": [
       "Retrieving ElectronicStructureDoc documents:   0%|          | 0/1 [00:00<?, ?it/s]"
      ]
     },
     "metadata": {},
     "output_type": "display_data"
    },
    {
     "data": {
      "application/vnd.jupyter.widget-view+json": {
       "model_id": "ac8cfa1cfd094a3e9e0167124a677534",
       "version_major": 2,
       "version_minor": 0
      },
      "text/plain": [
       "Retrieving ElectronicStructureDoc documents:   0%|          | 0/1 [00:00<?, ?it/s]"
      ]
     },
     "metadata": {},
     "output_type": "display_data"
    },
    {
     "name": "stdout",
     "output_type": "stream",
     "text": [
      "267 mp-612118 direct gamma to gamma transition found\n"
     ]
    },
    {
     "data": {
      "application/vnd.jupyter.widget-view+json": {
       "model_id": "02babc68fcc949f3bc9a969391c281bb",
       "version_major": 2,
       "version_minor": 0
      },
      "text/plain": [
       "Retrieving ElectronicStructureDoc documents:   0%|          | 0/1 [00:00<?, ?it/s]"
      ]
     },
     "metadata": {},
     "output_type": "display_data"
    },
    {
     "data": {
      "application/vnd.jupyter.widget-view+json": {
       "model_id": "d1098085eecd49d6b13413e0ed6bdd6d",
       "version_major": 2,
       "version_minor": 0
      },
      "text/plain": [
       "Retrieving ElectronicStructureDoc documents:   0%|          | 0/1 [00:00<?, ?it/s]"
      ]
     },
     "metadata": {},
     "output_type": "display_data"
    },
    {
     "data": {
      "application/vnd.jupyter.widget-view+json": {
       "model_id": "cdb9e46efcd1414ba49f6647a8a9fd39",
       "version_major": 2,
       "version_minor": 0
      },
      "text/plain": [
       "Retrieving ElectronicStructureDoc documents:   0%|          | 0/1 [00:00<?, ?it/s]"
      ]
     },
     "metadata": {},
     "output_type": "display_data"
    },
    {
     "name": "stdout",
     "output_type": "stream",
     "text": [
      "270 mp-6088 direct gamma to gamma transition found\n"
     ]
    },
    {
     "data": {
      "application/vnd.jupyter.widget-view+json": {
       "model_id": "1c70fe30b01d4cd18dc1555c2a7104b2",
       "version_major": 2,
       "version_minor": 0
      },
      "text/plain": [
       "Retrieving ElectronicStructureDoc documents:   0%|          | 0/1 [00:00<?, ?it/s]"
      ]
     },
     "metadata": {},
     "output_type": "display_data"
    },
    {
     "name": "stdout",
     "output_type": "stream",
     "text": [
      "271 mp-552488 direct gamma to gamma transition found\n"
     ]
    },
    {
     "data": {
      "application/vnd.jupyter.widget-view+json": {
       "model_id": "5cdcd074b49f4755b92eb4772164c5e2",
       "version_major": 2,
       "version_minor": 0
      },
      "text/plain": [
       "Retrieving ElectronicStructureDoc documents:   0%|          | 0/1 [00:00<?, ?it/s]"
      ]
     },
     "metadata": {},
     "output_type": "display_data"
    },
    {
     "name": "stdout",
     "output_type": "stream",
     "text": [
      "272 mp-546790 direct gamma to gamma transition found\n"
     ]
    },
    {
     "data": {
      "application/vnd.jupyter.widget-view+json": {
       "model_id": "e7bfcf7e2035401bb85f93657434fd62",
       "version_major": 2,
       "version_minor": 0
      },
      "text/plain": [
       "Retrieving ElectronicStructureDoc documents:   0%|          | 0/1 [00:00<?, ?it/s]"
      ]
     },
     "metadata": {},
     "output_type": "display_data"
    },
    {
     "name": "stdout",
     "output_type": "stream",
     "text": [
      "273 mp-905 has no bandstructure data on mp\n"
     ]
    },
    {
     "data": {
      "application/vnd.jupyter.widget-view+json": {
       "model_id": "c3323fe4b61d418f99db2f090b30317d",
       "version_major": 2,
       "version_minor": 0
      },
      "text/plain": [
       "Retrieving ElectronicStructureDoc documents:   0%|          | 0/1 [00:00<?, ?it/s]"
      ]
     },
     "metadata": {},
     "output_type": "display_data"
    },
    {
     "name": "stdout",
     "output_type": "stream",
     "text": [
      "274 mp-549589 direct gamma to gamma transition found\n"
     ]
    },
    {
     "data": {
      "application/vnd.jupyter.widget-view+json": {
       "model_id": "068b1323932846b2a7fdb63b59f28f93",
       "version_major": 2,
       "version_minor": 0
      },
      "text/plain": [
       "Retrieving ElectronicStructureDoc documents:   0%|          | 0/1 [00:00<?, ?it/s]"
      ]
     },
     "metadata": {},
     "output_type": "display_data"
    },
    {
     "name": "stdout",
     "output_type": "stream",
     "text": [
      "275 mp-7060 direct gamma to gamma transition found\n"
     ]
    },
    {
     "data": {
      "application/vnd.jupyter.widget-view+json": {
       "model_id": "9f5dff3a6d184b0cb88dd450df10c023",
       "version_major": 2,
       "version_minor": 0
      },
      "text/plain": [
       "Retrieving ElectronicStructureDoc documents:   0%|          | 0/1 [00:00<?, ?it/s]"
      ]
     },
     "metadata": {},
     "output_type": "display_data"
    },
    {
     "data": {
      "application/vnd.jupyter.widget-view+json": {
       "model_id": "d4073b2764f9414a8fdffe6daed9b468",
       "version_major": 2,
       "version_minor": 0
      },
      "text/plain": [
       "Retrieving ElectronicStructureDoc documents:   0%|          | 0/1 [00:00<?, ?it/s]"
      ]
     },
     "metadata": {},
     "output_type": "display_data"
    },
    {
     "name": "stdout",
     "output_type": "stream",
     "text": [
      "277 mp-1078724 has no bandstructure data on mp\n"
     ]
    },
    {
     "data": {
      "application/vnd.jupyter.widget-view+json": {
       "model_id": "c36368bcae374927a38af4338587f5f2",
       "version_major": 2,
       "version_minor": 0
      },
      "text/plain": [
       "Retrieving ElectronicStructureDoc documents:   0%|          | 0/1 [00:00<?, ?it/s]"
      ]
     },
     "metadata": {},
     "output_type": "display_data"
    },
    {
     "data": {
      "application/vnd.jupyter.widget-view+json": {
       "model_id": "7da083a4d7244d96ac391aa5b4576a33",
       "version_major": 2,
       "version_minor": 0
      },
      "text/plain": [
       "Retrieving ElectronicStructureDoc documents:   0%|          | 0/1 [00:00<?, ?it/s]"
      ]
     },
     "metadata": {},
     "output_type": "display_data"
    },
    {
     "data": {
      "application/vnd.jupyter.widget-view+json": {
       "model_id": "304068882a974bafa34fba57e749093e",
       "version_major": 2,
       "version_minor": 0
      },
      "text/plain": [
       "Retrieving ElectronicStructureDoc documents: 0it [00:00, ?it/s]"
      ]
     },
     "metadata": {},
     "output_type": "display_data"
    },
    {
     "name": "stdout",
     "output_type": "stream",
     "text": [
      "280 mp-24850 has no bandstructure data on mp\n"
     ]
    },
    {
     "data": {
      "application/vnd.jupyter.widget-view+json": {
       "model_id": "f3b410ad24cb4e489db824dfc8662605",
       "version_major": 2,
       "version_minor": 0
      },
      "text/plain": [
       "Retrieving ElectronicStructureDoc documents:   0%|          | 0/1 [00:00<?, ?it/s]"
      ]
     },
     "metadata": {},
     "output_type": "display_data"
    },
    {
     "data": {
      "application/vnd.jupyter.widget-view+json": {
       "model_id": "c948495c56144e8dae5285454b985d6d",
       "version_major": 2,
       "version_minor": 0
      },
      "text/plain": [
       "Retrieving ElectronicStructureDoc documents:   0%|          | 0/1 [00:00<?, ?it/s]"
      ]
     },
     "metadata": {},
     "output_type": "display_data"
    },
    {
     "name": "stdout",
     "output_type": "stream",
     "text": [
      "282 mp-5048 direct gamma to gamma transition found\n"
     ]
    },
    {
     "data": {
      "application/vnd.jupyter.widget-view+json": {
       "model_id": "87aee353467448c1918c5a43908f5325",
       "version_major": 2,
       "version_minor": 0
      },
      "text/plain": [
       "Retrieving ElectronicStructureDoc documents:   0%|          | 0/1 [00:00<?, ?it/s]"
      ]
     },
     "metadata": {},
     "output_type": "display_data"
    },
    {
     "data": {
      "application/vnd.jupyter.widget-view+json": {
       "model_id": "91b2ca549cde4c1ba70c9c8c7434294c",
       "version_major": 2,
       "version_minor": 0
      },
      "text/plain": [
       "Retrieving ElectronicStructureDoc documents:   0%|          | 0/1 [00:00<?, ?it/s]"
      ]
     },
     "metadata": {},
     "output_type": "display_data"
    },
    {
     "data": {
      "application/vnd.jupyter.widget-view+json": {
       "model_id": "ac9337df13804840bb4f5744144ea211",
       "version_major": 2,
       "version_minor": 0
      },
      "text/plain": [
       "Retrieving ElectronicStructureDoc documents:   0%|          | 0/1 [00:00<?, ?it/s]"
      ]
     },
     "metadata": {},
     "output_type": "display_data"
    },
    {
     "name": "stdout",
     "output_type": "stream",
     "text": [
      "285 mp-20310 direct gamma to gamma transition found\n"
     ]
    },
    {
     "data": {
      "application/vnd.jupyter.widget-view+json": {
       "model_id": "1808837a25634048b245d1ab4c40a0a6",
       "version_major": 2,
       "version_minor": 0
      },
      "text/plain": [
       "Retrieving ElectronicStructureDoc documents:   0%|          | 0/1 [00:00<?, ?it/s]"
      ]
     },
     "metadata": {},
     "output_type": "display_data"
    },
    {
     "data": {
      "application/vnd.jupyter.widget-view+json": {
       "model_id": "795c3d8b7aee4d8ea3016f09e9a8084b",
       "version_major": 2,
       "version_minor": 0
      },
      "text/plain": [
       "Retrieving ElectronicStructureDoc documents:   0%|          | 0/1 [00:00<?, ?it/s]"
      ]
     },
     "metadata": {},
     "output_type": "display_data"
    },
    {
     "data": {
      "application/vnd.jupyter.widget-view+json": {
       "model_id": "59bd9cc28fe9465caf7e1855101e0f8f",
       "version_major": 2,
       "version_minor": 0
      },
      "text/plain": [
       "Retrieving ElectronicStructureDoc documents:   0%|          | 0/1 [00:00<?, ?it/s]"
      ]
     },
     "metadata": {},
     "output_type": "display_data"
    },
    {
     "data": {
      "application/vnd.jupyter.widget-view+json": {
       "model_id": "2308a876ea694e78b1fbd31f926f8290",
       "version_major": 2,
       "version_minor": 0
      },
      "text/plain": [
       "Retrieving ElectronicStructureDoc documents:   0%|          | 0/1 [00:00<?, ?it/s]"
      ]
     },
     "metadata": {},
     "output_type": "display_data"
    },
    {
     "name": "stdout",
     "output_type": "stream",
     "text": [
      "289 mp-9124 direct gamma to gamma transition found\n"
     ]
    },
    {
     "data": {
      "application/vnd.jupyter.widget-view+json": {
       "model_id": "f9fbc1ba12914ca9ac636c90438b1b17",
       "version_major": 2,
       "version_minor": 0
      },
      "text/plain": [
       "Retrieving ElectronicStructureDoc documents:   0%|          | 0/1 [00:00<?, ?it/s]"
      ]
     },
     "metadata": {},
     "output_type": "display_data"
    },
    {
     "name": "stdout",
     "output_type": "stream",
     "text": [
      "290 mp-7575 direct gamma to gamma transition found\n"
     ]
    },
    {
     "data": {
      "application/vnd.jupyter.widget-view+json": {
       "model_id": "222cfe5052af4613b33740528bed4336",
       "version_major": 2,
       "version_minor": 0
      },
      "text/plain": [
       "Retrieving ElectronicStructureDoc documents:   0%|          | 0/1 [00:00<?, ?it/s]"
      ]
     },
     "metadata": {},
     "output_type": "display_data"
    },
    {
     "data": {
      "application/vnd.jupyter.widget-view+json": {
       "model_id": "dd254b4aa5964a09a7ace3d6160ff8a0",
       "version_major": 2,
       "version_minor": 0
      },
      "text/plain": [
       "Retrieving ElectronicStructureDoc documents:   0%|          | 0/1 [00:00<?, ?it/s]"
      ]
     },
     "metadata": {},
     "output_type": "display_data"
    },
    {
     "data": {
      "application/vnd.jupyter.widget-view+json": {
       "model_id": "9fe63bf64e8c446580cfe3b3d12591ab",
       "version_major": 2,
       "version_minor": 0
      },
      "text/plain": [
       "Retrieving ElectronicStructureDoc documents:   0%|          | 0/1 [00:00<?, ?it/s]"
      ]
     },
     "metadata": {},
     "output_type": "display_data"
    },
    {
     "data": {
      "application/vnd.jupyter.widget-view+json": {
       "model_id": "52d930b3be444da7a0a15ff476f2d57c",
       "version_major": 2,
       "version_minor": 0
      },
      "text/plain": [
       "Retrieving ElectronicStructureDoc documents:   0%|          | 0/1 [00:00<?, ?it/s]"
      ]
     },
     "metadata": {},
     "output_type": "display_data"
    },
    {
     "data": {
      "application/vnd.jupyter.widget-view+json": {
       "model_id": "132a23ba630d445a8de9dbfd95a00d7b",
       "version_major": 2,
       "version_minor": 0
      },
      "text/plain": [
       "Retrieving ElectronicStructureDoc documents:   0%|          | 0/1 [00:00<?, ?it/s]"
      ]
     },
     "metadata": {},
     "output_type": "display_data"
    },
    {
     "data": {
      "application/vnd.jupyter.widget-view+json": {
       "model_id": "3bbfb6f7a58c48669c46b57f09616517",
       "version_major": 2,
       "version_minor": 0
      },
      "text/plain": [
       "Retrieving ElectronicStructureDoc documents:   0%|          | 0/1 [00:00<?, ?it/s]"
      ]
     },
     "metadata": {},
     "output_type": "display_data"
    },
    {
     "data": {
      "application/vnd.jupyter.widget-view+json": {
       "model_id": "f91f3bd0bf7240e9beabebb4b9fc5ce9",
       "version_major": 2,
       "version_minor": 0
      },
      "text/plain": [
       "Retrieving ElectronicStructureDoc documents:   0%|          | 0/1 [00:00<?, ?it/s]"
      ]
     },
     "metadata": {},
     "output_type": "display_data"
    },
    {
     "name": "stdout",
     "output_type": "stream",
     "text": [
      "297 mp-1249 direct gamma to gamma transition found\n"
     ]
    },
    {
     "data": {
      "application/vnd.jupyter.widget-view+json": {
       "model_id": "98875c35dda24489b5473af9b8d89d6e",
       "version_major": 2,
       "version_minor": 0
      },
      "text/plain": [
       "Retrieving ElectronicStructureDoc documents:   0%|          | 0/1 [00:00<?, ?it/s]"
      ]
     },
     "metadata": {},
     "output_type": "display_data"
    },
    {
     "name": "stdout",
     "output_type": "stream",
     "text": [
      "298 mp-1265 direct gamma to gamma transition found\n"
     ]
    },
    {
     "data": {
      "application/vnd.jupyter.widget-view+json": {
       "model_id": "af0ae3aaf4924cdfb468b55bbb0441a0",
       "version_major": 2,
       "version_minor": 0
      },
      "text/plain": [
       "Retrieving ElectronicStructureDoc documents:   0%|          | 0/1 [00:00<?, ?it/s]"
      ]
     },
     "metadata": {},
     "output_type": "display_data"
    },
    {
     "name": "stdout",
     "output_type": "stream",
     "text": [
      "299 mp-2961 direct gamma to gamma transition found\n"
     ]
    },
    {
     "data": {
      "application/vnd.jupyter.widget-view+json": {
       "model_id": "b705a4fcf118439383c0c0970c9d0709",
       "version_major": 2,
       "version_minor": 0
      },
      "text/plain": [
       "Retrieving ElectronicStructureDoc documents:   0%|          | 0/1 [00:00<?, ?it/s]"
      ]
     },
     "metadata": {},
     "output_type": "display_data"
    },
    {
     "name": "stdout",
     "output_type": "stream",
     "text": [
      "300 mp-1039 direct gamma to gamma transition found\n"
     ]
    },
    {
     "data": {
      "application/vnd.jupyter.widget-view+json": {
       "model_id": "e0c1c3f10fb84d40bf6648ad347aa4ab",
       "version_major": 2,
       "version_minor": 0
      },
      "text/plain": [
       "Retrieving ElectronicStructureDoc documents:   0%|          | 0/1 [00:00<?, ?it/s]"
      ]
     },
     "metadata": {},
     "output_type": "display_data"
    },
    {
     "data": {
      "application/vnd.jupyter.widget-view+json": {
       "model_id": "f805f3e90bf344d9be1e2f8c921ee740",
       "version_major": 2,
       "version_minor": 0
      },
      "text/plain": [
       "Retrieving ElectronicStructureDoc documents:   0%|          | 0/1 [00:00<?, ?it/s]"
      ]
     },
     "metadata": {},
     "output_type": "display_data"
    },
    {
     "data": {
      "application/vnd.jupyter.widget-view+json": {
       "model_id": "d93b8beeecf94d179baadd1f8c0b77a0",
       "version_major": 2,
       "version_minor": 0
      },
      "text/plain": [
       "Retrieving ElectronicStructureDoc documents:   0%|          | 0/1 [00:00<?, ?it/s]"
      ]
     },
     "metadata": {},
     "output_type": "display_data"
    },
    {
     "data": {
      "application/vnd.jupyter.widget-view+json": {
       "model_id": "cdeae9b10e524be0896f2ab5f9ce7567",
       "version_major": 2,
       "version_minor": 0
      },
      "text/plain": [
       "Retrieving ElectronicStructureDoc documents:   0%|          | 0/1 [00:00<?, ?it/s]"
      ]
     },
     "metadata": {},
     "output_type": "display_data"
    },
    {
     "name": "stdout",
     "output_type": "stream",
     "text": [
      "304 mp-561075 direct gamma to gamma transition found\n"
     ]
    },
    {
     "data": {
      "application/vnd.jupyter.widget-view+json": {
       "model_id": "3a9df595dc0d459ea85f312210fb3593",
       "version_major": 2,
       "version_minor": 0
      },
      "text/plain": [
       "Retrieving ElectronicStructureDoc documents:   0%|          | 0/1 [00:00<?, ?it/s]"
      ]
     },
     "metadata": {},
     "output_type": "display_data"
    },
    {
     "name": "stdout",
     "output_type": "stream",
     "text": [
      "305 mp-15724 direct gamma to gamma transition found\n"
     ]
    },
    {
     "data": {
      "application/vnd.jupyter.widget-view+json": {
       "model_id": "1fb25ffe242a4cc7bbe36651bde10ba6",
       "version_major": 2,
       "version_minor": 0
      },
      "text/plain": [
       "Retrieving ElectronicStructureDoc documents:   0%|          | 0/1 [00:00<?, ?it/s]"
      ]
     },
     "metadata": {},
     "output_type": "display_data"
    },
    {
     "data": {
      "application/vnd.jupyter.widget-view+json": {
       "model_id": "0ff4c1d510454fc090d05ee978523c48",
       "version_major": 2,
       "version_minor": 0
      },
      "text/plain": [
       "Retrieving ElectronicStructureDoc documents:   0%|          | 0/1 [00:00<?, ?it/s]"
      ]
     },
     "metadata": {},
     "output_type": "display_data"
    },
    {
     "data": {
      "application/vnd.jupyter.widget-view+json": {
       "model_id": "806f08d795154a5a9f17af018f2769d9",
       "version_major": 2,
       "version_minor": 0
      },
      "text/plain": [
       "Retrieving ElectronicStructureDoc documents:   0%|          | 0/1 [00:00<?, ?it/s]"
      ]
     },
     "metadata": {},
     "output_type": "display_data"
    },
    {
     "name": "stdout",
     "output_type": "stream",
     "text": [
      "308 mp-7956 direct gamma to gamma transition found\n"
     ]
    },
    {
     "data": {
      "application/vnd.jupyter.widget-view+json": {
       "model_id": "12c1ef8d6e3e4c4aaff539d4d596238c",
       "version_major": 2,
       "version_minor": 0
      },
      "text/plain": [
       "Retrieving ElectronicStructureDoc documents:   0%|          | 0/1 [00:00<?, ?it/s]"
      ]
     },
     "metadata": {},
     "output_type": "display_data"
    },
    {
     "name": "stdout",
     "output_type": "stream",
     "text": [
      "309 mp-5942 has no bandstructure data on mp\n"
     ]
    },
    {
     "data": {
      "application/vnd.jupyter.widget-view+json": {
       "model_id": "bf9444b24e9b46cc83e25bc54c33628f",
       "version_major": 2,
       "version_minor": 0
      },
      "text/plain": [
       "Retrieving ElectronicStructureDoc documents:   0%|          | 0/1 [00:00<?, ?it/s]"
      ]
     },
     "metadata": {},
     "output_type": "display_data"
    },
    {
     "name": "stdout",
     "output_type": "stream",
     "text": [
      "310 mp-22916 direct gamma to gamma transition found\n"
     ]
    },
    {
     "data": {
      "application/vnd.jupyter.widget-view+json": {
       "model_id": "0de3537b54f743cea82bf5b81b2e5eba",
       "version_major": 2,
       "version_minor": 0
      },
      "text/plain": [
       "Retrieving ElectronicStructureDoc documents:   0%|          | 0/1 [00:00<?, ?it/s]"
      ]
     },
     "metadata": {},
     "output_type": "display_data"
    },
    {
     "name": "stdout",
     "output_type": "stream",
     "text": [
      "311 mp-22862 direct gamma to gamma transition found\n"
     ]
    },
    {
     "data": {
      "application/vnd.jupyter.widget-view+json": {
       "model_id": "32f91dfb333445c280b4e7a331d4789c",
       "version_major": 2,
       "version_minor": 0
      },
      "text/plain": [
       "Retrieving ElectronicStructureDoc documents:   0%|          | 0/1 [00:00<?, ?it/s]"
      ]
     },
     "metadata": {},
     "output_type": "display_data"
    },
    {
     "name": "stdout",
     "output_type": "stream",
     "text": [
      "312 mp-682 direct gamma to gamma transition found\n"
     ]
    },
    {
     "data": {
      "application/vnd.jupyter.widget-view+json": {
       "model_id": "ab7920de94df4e58b8b787671d1c896e",
       "version_major": 2,
       "version_minor": 0
      },
      "text/plain": [
       "Retrieving ElectronicStructureDoc documents:   0%|          | 0/1 [00:00<?, ?it/s]"
      ]
     },
     "metadata": {},
     "output_type": "display_data"
    },
    {
     "name": "stdout",
     "output_type": "stream",
     "text": [
      "313 mp-23268 direct gamma to gamma transition found\n"
     ]
    },
    {
     "data": {
      "application/vnd.jupyter.widget-view+json": {
       "model_id": "8b899f5a4dc54ce0b4ddf3215016d433",
       "version_major": 2,
       "version_minor": 0
      },
      "text/plain": [
       "Retrieving ElectronicStructureDoc documents:   0%|          | 0/1 [00:00<?, ?it/s]"
      ]
     },
     "metadata": {},
     "output_type": "display_data"
    },
    {
     "data": {
      "application/vnd.jupyter.widget-view+json": {
       "model_id": "f3236750e10c4836ba48d5956487e42f",
       "version_major": 2,
       "version_minor": 0
      },
      "text/plain": [
       "Retrieving ElectronicStructureDoc documents:   0%|          | 0/1 [00:00<?, ?it/s]"
      ]
     },
     "metadata": {},
     "output_type": "display_data"
    },
    {
     "data": {
      "application/vnd.jupyter.widget-view+json": {
       "model_id": "a9549bb01ef7436aa3bf855fe82ff1a2",
       "version_major": 2,
       "version_minor": 0
      },
      "text/plain": [
       "Retrieving ElectronicStructureDoc documents:   0%|          | 0/1 [00:00<?, ?it/s]"
      ]
     },
     "metadata": {},
     "output_type": "display_data"
    },
    {
     "data": {
      "application/vnd.jupyter.widget-view+json": {
       "model_id": "06d3f7719ffd4b58a38401524fa53367",
       "version_major": 2,
       "version_minor": 0
      },
      "text/plain": [
       "Retrieving ElectronicStructureDoc documents:   0%|          | 0/1 [00:00<?, ?it/s]"
      ]
     },
     "metadata": {},
     "output_type": "display_data"
    },
    {
     "data": {
      "application/vnd.jupyter.widget-view+json": {
       "model_id": "2c1212f24988406a9913cc732d43bb45",
       "version_major": 2,
       "version_minor": 0
      },
      "text/plain": [
       "Retrieving ElectronicStructureDoc documents:   0%|          | 0/1 [00:00<?, ?it/s]"
      ]
     },
     "metadata": {},
     "output_type": "display_data"
    },
    {
     "name": "stdout",
     "output_type": "stream",
     "text": [
      "318 mp-111 has no bandstructure data on mp\n"
     ]
    },
    {
     "data": {
      "application/vnd.jupyter.widget-view+json": {
       "model_id": "8f61533e097542e8aeb2f5e51ba99940",
       "version_major": 2,
       "version_minor": 0
      },
      "text/plain": [
       "Retrieving ElectronicStructureDoc documents:   0%|          | 0/1 [00:00<?, ?it/s]"
      ]
     },
     "metadata": {},
     "output_type": "display_data"
    },
    {
     "data": {
      "application/vnd.jupyter.widget-view+json": {
       "model_id": "72c23fb641d34d358a2dfb79621d3044",
       "version_major": 2,
       "version_minor": 0
      },
      "text/plain": [
       "Retrieving ElectronicStructureDoc documents:   0%|          | 0/1 [00:00<?, ?it/s]"
      ]
     },
     "metadata": {},
     "output_type": "display_data"
    },
    {
     "name": "stdout",
     "output_type": "stream",
     "text": [
      "320 mp-2319 has no bandstructure data on mp\n"
     ]
    },
    {
     "data": {
      "application/vnd.jupyter.widget-view+json": {
       "model_id": "aa325805960f4e479ba88b1ea6f72f9b",
       "version_major": 2,
       "version_minor": 0
      },
      "text/plain": [
       "Retrieving ElectronicStructureDoc documents:   0%|          | 0/1 [00:00<?, ?it/s]"
      ]
     },
     "metadata": {},
     "output_type": "display_data"
    },
    {
     "data": {
      "application/vnd.jupyter.widget-view+json": {
       "model_id": "437d59746de848eab839bceaf11f4574",
       "version_major": 2,
       "version_minor": 0
      },
      "text/plain": [
       "Retrieving ElectronicStructureDoc documents:   0%|          | 0/1 [00:00<?, ?it/s]"
      ]
     },
     "metadata": {},
     "output_type": "display_data"
    },
    {
     "data": {
      "application/vnd.jupyter.widget-view+json": {
       "model_id": "b6e74e373b3c4014b7fb996e4888a93d",
       "version_major": 2,
       "version_minor": 0
      },
      "text/plain": [
       "Retrieving ElectronicStructureDoc documents:   0%|          | 0/1 [00:00<?, ?it/s]"
      ]
     },
     "metadata": {},
     "output_type": "display_data"
    },
    {
     "data": {
      "application/vnd.jupyter.widget-view+json": {
       "model_id": "05ecb0c74b304fb9bf3ff366ba3a4b3a",
       "version_major": 2,
       "version_minor": 0
      },
      "text/plain": [
       "Retrieving ElectronicStructureDoc documents:   0%|          | 0/1 [00:00<?, ?it/s]"
      ]
     },
     "metadata": {},
     "output_type": "display_data"
    },
    {
     "data": {
      "application/vnd.jupyter.widget-view+json": {
       "model_id": "b2b9ac617a2c4b71abff31724fc952f7",
       "version_major": 2,
       "version_minor": 0
      },
      "text/plain": [
       "Retrieving ElectronicStructureDoc documents:   0%|          | 0/1 [00:00<?, ?it/s]"
      ]
     },
     "metadata": {},
     "output_type": "display_data"
    },
    {
     "data": {
      "application/vnd.jupyter.widget-view+json": {
       "model_id": "ad830aaecde342b0b5efbfaff5d77e3c",
       "version_major": 2,
       "version_minor": 0
      },
      "text/plain": [
       "Retrieving ElectronicStructureDoc documents:   0%|          | 0/1 [00:00<?, ?it/s]"
      ]
     },
     "metadata": {},
     "output_type": "display_data"
    },
    {
     "name": "stdout",
     "output_type": "stream",
     "text": [
      "326 mp-19146 has no bandstructure data on mp\n"
     ]
    },
    {
     "data": {
      "application/vnd.jupyter.widget-view+json": {
       "model_id": "ab67f5860e2d44b3b67557bea8d230db",
       "version_major": 2,
       "version_minor": 0
      },
      "text/plain": [
       "Retrieving ElectronicStructureDoc documents:   0%|          | 0/1 [00:00<?, ?it/s]"
      ]
     },
     "metadata": {},
     "output_type": "display_data"
    },
    {
     "data": {
      "application/vnd.jupyter.widget-view+json": {
       "model_id": "449f30943c914b839bbde43a6ea8f63e",
       "version_major": 2,
       "version_minor": 0
      },
      "text/plain": [
       "Retrieving ElectronicStructureDoc documents:   0%|          | 0/1 [00:00<?, ?it/s]"
      ]
     },
     "metadata": {},
     "output_type": "display_data"
    },
    {
     "data": {
      "application/vnd.jupyter.widget-view+json": {
       "model_id": "ef367d468c4b450f928bfd29dd87de21",
       "version_major": 2,
       "version_minor": 0
      },
      "text/plain": [
       "Retrieving ElectronicStructureDoc documents:   0%|          | 0/1 [00:00<?, ?it/s]"
      ]
     },
     "metadata": {},
     "output_type": "display_data"
    },
    {
     "data": {
      "application/vnd.jupyter.widget-view+json": {
       "model_id": "5d2e24eae2604d2c90dcda56fb7eb39d",
       "version_major": 2,
       "version_minor": 0
      },
      "text/plain": [
       "Retrieving ElectronicStructureDoc documents: 0it [00:00, ?it/s]"
      ]
     },
     "metadata": {},
     "output_type": "display_data"
    },
    {
     "name": "stdout",
     "output_type": "stream",
     "text": [
      "330 mp-25054 has no bandstructure data on mp\n"
     ]
    },
    {
     "data": {
      "application/vnd.jupyter.widget-view+json": {
       "model_id": "3a4d419f053c4d81a5f20d9b379eac22",
       "version_major": 2,
       "version_minor": 0
      },
      "text/plain": [
       "Retrieving ElectronicStructureDoc documents:   0%|          | 0/1 [00:00<?, ?it/s]"
      ]
     },
     "metadata": {},
     "output_type": "display_data"
    },
    {
     "data": {
      "application/vnd.jupyter.widget-view+json": {
       "model_id": "0c8895fad2a14dbca981ce66c2385bb0",
       "version_major": 2,
       "version_minor": 0
      },
      "text/plain": [
       "Retrieving ElectronicStructureDoc documents:   0%|          | 0/1 [00:00<?, ?it/s]"
      ]
     },
     "metadata": {},
     "output_type": "display_data"
    },
    {
     "data": {
      "application/vnd.jupyter.widget-view+json": {
       "model_id": "799abd05ccba41f689fa828460b3723d",
       "version_major": 2,
       "version_minor": 0
      },
      "text/plain": [
       "Retrieving ElectronicStructureDoc documents:   0%|          | 0/1 [00:00<?, ?it/s]"
      ]
     },
     "metadata": {},
     "output_type": "display_data"
    },
    {
     "data": {
      "application/vnd.jupyter.widget-view+json": {
       "model_id": "6e3a39fd7d6c47c3b21a3a4ed222c788",
       "version_major": 2,
       "version_minor": 0
      },
      "text/plain": [
       "Retrieving ElectronicStructureDoc documents:   0%|          | 0/1 [00:00<?, ?it/s]"
      ]
     },
     "metadata": {},
     "output_type": "display_data"
    },
    {
     "data": {
      "application/vnd.jupyter.widget-view+json": {
       "model_id": "97eb61b327264c68b4b783e4fff8252b",
       "version_major": 2,
       "version_minor": 0
      },
      "text/plain": [
       "Retrieving ElectronicStructureDoc documents: 0it [00:00, ?it/s]"
      ]
     },
     "metadata": {},
     "output_type": "display_data"
    },
    {
     "name": "stdout",
     "output_type": "stream",
     "text": [
      "335 mp-25176 has no bandstructure data on mp\n"
     ]
    },
    {
     "data": {
      "application/vnd.jupyter.widget-view+json": {
       "model_id": "cbfaa4f292434898977edf0a2abe4439",
       "version_major": 2,
       "version_minor": 0
      },
      "text/plain": [
       "Retrieving ElectronicStructureDoc documents:   0%|          | 0/1 [00:00<?, ?it/s]"
      ]
     },
     "metadata": {},
     "output_type": "display_data"
    },
    {
     "data": {
      "application/vnd.jupyter.widget-view+json": {
       "model_id": "5e3b7745b3a348dfafe115ccdbf8314d",
       "version_major": 2,
       "version_minor": 0
      },
      "text/plain": [
       "Retrieving ElectronicStructureDoc documents:   0%|          | 0/1 [00:00<?, ?it/s]"
      ]
     },
     "metadata": {},
     "output_type": "display_data"
    },
    {
     "data": {
      "application/vnd.jupyter.widget-view+json": {
       "model_id": "f84c86c858b64d9090dfd7276e8dabee",
       "version_major": 2,
       "version_minor": 0
      },
      "text/plain": [
       "Retrieving ElectronicStructureDoc documents:   0%|          | 0/1 [00:00<?, ?it/s]"
      ]
     },
     "metadata": {},
     "output_type": "display_data"
    },
    {
     "data": {
      "application/vnd.jupyter.widget-view+json": {
       "model_id": "b7ae27f524e54156904e6313938d7a6b",
       "version_major": 2,
       "version_minor": 0
      },
      "text/plain": [
       "Retrieving ElectronicStructureDoc documents:   0%|          | 0/1 [00:00<?, ?it/s]"
      ]
     },
     "metadata": {},
     "output_type": "display_data"
    },
    {
     "data": {
      "application/vnd.jupyter.widget-view+json": {
       "model_id": "8f8173b1cbf548ae99263730f32a28ca",
       "version_major": 2,
       "version_minor": 0
      },
      "text/plain": [
       "Retrieving ElectronicStructureDoc documents:   0%|          | 0/1 [00:00<?, ?it/s]"
      ]
     },
     "metadata": {},
     "output_type": "display_data"
    },
    {
     "data": {
      "application/vnd.jupyter.widget-view+json": {
       "model_id": "6f4636a174924e1ea4e689ea09a022a8",
       "version_major": 2,
       "version_minor": 0
      },
      "text/plain": [
       "Retrieving ElectronicStructureDoc documents:   0%|          | 0/1 [00:00<?, ?it/s]"
      ]
     },
     "metadata": {},
     "output_type": "display_data"
    },
    {
     "name": "stdout",
     "output_type": "stream",
     "text": [
      "341 mp-18006 direct gamma to gamma transition found\n"
     ]
    },
    {
     "data": {
      "application/vnd.jupyter.widget-view+json": {
       "model_id": "7df50e218478488f9ba4ff03e153b3c7",
       "version_major": 2,
       "version_minor": 0
      },
      "text/plain": [
       "Retrieving ElectronicStructureDoc documents:   0%|          | 0/1 [00:00<?, ?it/s]"
      ]
     },
     "metadata": {},
     "output_type": "display_data"
    },
    {
     "data": {
      "application/vnd.jupyter.widget-view+json": {
       "model_id": "39327fb4e90649519dd0c59e8148fcba",
       "version_major": 2,
       "version_minor": 0
      },
      "text/plain": [
       "Retrieving ElectronicStructureDoc documents:   0%|          | 0/1 [00:00<?, ?it/s]"
      ]
     },
     "metadata": {},
     "output_type": "display_data"
    },
    {
     "data": {
      "application/vnd.jupyter.widget-view+json": {
       "model_id": "d62f15788a3a479f8783d1a92469c6d3",
       "version_major": 2,
       "version_minor": 0
      },
      "text/plain": [
       "Retrieving ElectronicStructureDoc documents:   0%|          | 0/1 [00:00<?, ?it/s]"
      ]
     },
     "metadata": {},
     "output_type": "display_data"
    },
    {
     "data": {
      "application/vnd.jupyter.widget-view+json": {
       "model_id": "8ad5ff9b37e1451a84cffcbc79833337",
       "version_major": 2,
       "version_minor": 0
      },
      "text/plain": [
       "Retrieving ElectronicStructureDoc documents:   0%|          | 0/1 [00:00<?, ?it/s]"
      ]
     },
     "metadata": {},
     "output_type": "display_data"
    },
    {
     "data": {
      "application/vnd.jupyter.widget-view+json": {
       "model_id": "40fb87612524494ab48489ce65bfb3c7",
       "version_major": 2,
       "version_minor": 0
      },
      "text/plain": [
       "Retrieving ElectronicStructureDoc documents:   0%|          | 0/1 [00:00<?, ?it/s]"
      ]
     },
     "metadata": {},
     "output_type": "display_data"
    },
    {
     "data": {
      "application/vnd.jupyter.widget-view+json": {
       "model_id": "93a878ec2f24405a80e436ff290f166f",
       "version_major": 2,
       "version_minor": 0
      },
      "text/plain": [
       "Retrieving ElectronicStructureDoc documents:   0%|          | 0/1 [00:00<?, ?it/s]"
      ]
     },
     "metadata": {},
     "output_type": "display_data"
    },
    {
     "data": {
      "application/vnd.jupyter.widget-view+json": {
       "model_id": "1905d090b11647aba767c8e9d0ddccd2",
       "version_major": 2,
       "version_minor": 0
      },
      "text/plain": [
       "Retrieving ElectronicStructureDoc documents:   0%|          | 0/1 [00:00<?, ?it/s]"
      ]
     },
     "metadata": {},
     "output_type": "display_data"
    },
    {
     "name": "stdout",
     "output_type": "stream",
     "text": [
      "348 mp-28222 direct gamma to gamma transition found\n"
     ]
    },
    {
     "data": {
      "application/vnd.jupyter.widget-view+json": {
       "model_id": "6418a6e01f5d4a3185033c8c08dd5077",
       "version_major": 2,
       "version_minor": 0
      },
      "text/plain": [
       "Retrieving ElectronicStructureDoc documents:   0%|          | 0/1 [00:00<?, ?it/s]"
      ]
     },
     "metadata": {},
     "output_type": "display_data"
    },
    {
     "data": {
      "application/vnd.jupyter.widget-view+json": {
       "model_id": "97fa0052887846bda5fa1421525fa044",
       "version_major": 2,
       "version_minor": 0
      },
      "text/plain": [
       "Retrieving ElectronicStructureDoc documents:   0%|          | 0/1 [00:00<?, ?it/s]"
      ]
     },
     "metadata": {},
     "output_type": "display_data"
    },
    {
     "data": {
      "application/vnd.jupyter.widget-view+json": {
       "model_id": "d69f640b5df743d5b7470c2ae7ce8d7b",
       "version_major": 2,
       "version_minor": 0
      },
      "text/plain": [
       "Retrieving ElectronicStructureDoc documents:   0%|          | 0/1 [00:00<?, ?it/s]"
      ]
     },
     "metadata": {},
     "output_type": "display_data"
    },
    {
     "name": "stdout",
     "output_type": "stream",
     "text": [
      "351 mp-22867 direct gamma to gamma transition found\n"
     ]
    },
    {
     "data": {
      "application/vnd.jupyter.widget-view+json": {
       "model_id": "753ea5e656dd4a099f869034b0ccb024",
       "version_major": 2,
       "version_minor": 0
      },
      "text/plain": [
       "Retrieving ElectronicStructureDoc documents:   0%|          | 0/1 [00:00<?, ?it/s]"
      ]
     },
     "metadata": {},
     "output_type": "display_data"
    },
    {
     "name": "stdout",
     "output_type": "stream",
     "text": [
      "352 mp-23295 direct gamma to gamma transition found\n"
     ]
    },
    {
     "data": {
      "application/vnd.jupyter.widget-view+json": {
       "model_id": "320790a107184998baf5a7c6371b2698",
       "version_major": 2,
       "version_minor": 0
      },
      "text/plain": [
       "Retrieving ElectronicStructureDoc documents:   0%|          | 0/1 [00:00<?, ?it/s]"
      ]
     },
     "metadata": {},
     "output_type": "display_data"
    },
    {
     "data": {
      "application/vnd.jupyter.widget-view+json": {
       "model_id": "e17dc84e39544e8ca1c79f747a6c3e36",
       "version_major": 2,
       "version_minor": 0
      },
      "text/plain": [
       "Retrieving ElectronicStructureDoc documents:   0%|          | 0/1 [00:00<?, ?it/s]"
      ]
     },
     "metadata": {},
     "output_type": "display_data"
    },
    {
     "data": {
      "application/vnd.jupyter.widget-view+json": {
       "model_id": "b43b2f6c3a934b2a91f4d66fcd349798",
       "version_major": 2,
       "version_minor": 0
      },
      "text/plain": [
       "Retrieving ElectronicStructureDoc documents:   0%|          | 0/1 [00:00<?, ?it/s]"
      ]
     },
     "metadata": {},
     "output_type": "display_data"
    },
    {
     "name": "stdout",
     "output_type": "stream",
     "text": [
      "355 mp-22903 direct gamma to gamma transition found\n"
     ]
    },
    {
     "data": {
      "application/vnd.jupyter.widget-view+json": {
       "model_id": "00594ef5f30a482abc3dc616fde412ee",
       "version_major": 2,
       "version_minor": 0
      },
      "text/plain": [
       "Retrieving ElectronicStructureDoc documents:   0%|          | 0/1 [00:00<?, ?it/s]"
      ]
     },
     "metadata": {},
     "output_type": "display_data"
    },
    {
     "data": {
      "application/vnd.jupyter.widget-view+json": {
       "model_id": "0562f0c1ec5d4192bc7ca38c542e9c27",
       "version_major": 2,
       "version_minor": 0
      },
      "text/plain": [
       "Retrieving ElectronicStructureDoc documents:   0%|          | 0/1 [00:00<?, ?it/s]"
      ]
     },
     "metadata": {},
     "output_type": "display_data"
    },
    {
     "data": {
      "application/vnd.jupyter.widget-view+json": {
       "model_id": "b13f511922b84653810da8fe1e2a9b4f",
       "version_major": 2,
       "version_minor": 0
      },
      "text/plain": [
       "Retrieving ElectronicStructureDoc documents:   0%|          | 0/1 [00:00<?, ?it/s]"
      ]
     },
     "metadata": {},
     "output_type": "display_data"
    },
    {
     "data": {
      "application/vnd.jupyter.widget-view+json": {
       "model_id": "f5b9841e871d410b81d9c18ec82f761e",
       "version_major": 2,
       "version_minor": 0
      },
      "text/plain": [
       "Retrieving ElectronicStructureDoc documents:   0%|          | 0/1 [00:00<?, ?it/s]"
      ]
     },
     "metadata": {},
     "output_type": "display_data"
    },
    {
     "data": {
      "application/vnd.jupyter.widget-view+json": {
       "model_id": "a012583f58634a86b30fb3b08b194885",
       "version_major": 2,
       "version_minor": 0
      },
      "text/plain": [
       "Retrieving ElectronicStructureDoc documents:   0%|          | 0/1 [00:00<?, ?it/s]"
      ]
     },
     "metadata": {},
     "output_type": "display_data"
    },
    {
     "data": {
      "application/vnd.jupyter.widget-view+json": {
       "model_id": "6724086d84d4458086a7de3dabab700c",
       "version_major": 2,
       "version_minor": 0
      },
      "text/plain": [
       "Retrieving ElectronicStructureDoc documents:   0%|          | 0/1 [00:00<?, ?it/s]"
      ]
     },
     "metadata": {},
     "output_type": "display_data"
    },
    {
     "name": "stdout",
     "output_type": "stream",
     "text": [
      "361 mp-2136 direct gamma to gamma transition found\n"
     ]
    },
    {
     "data": {
      "application/vnd.jupyter.widget-view+json": {
       "model_id": "5c75b4386edc46a282c656c8a0ec6bd2",
       "version_major": 2,
       "version_minor": 0
      },
      "text/plain": [
       "Retrieving ElectronicStructureDoc documents:   0%|          | 0/1 [00:00<?, ?it/s]"
      ]
     },
     "metadata": {},
     "output_type": "display_data"
    },
    {
     "data": {
      "application/vnd.jupyter.widget-view+json": {
       "model_id": "ce18be7b75854b5199620d8918a56819",
       "version_major": 2,
       "version_minor": 0
      },
      "text/plain": [
       "Retrieving ElectronicStructureDoc documents:   0%|          | 0/1 [00:00<?, ?it/s]"
      ]
     },
     "metadata": {},
     "output_type": "display_data"
    },
    {
     "data": {
      "application/vnd.jupyter.widget-view+json": {
       "model_id": "2112663122de4e8da3adad4f1f3d7a55",
       "version_major": 2,
       "version_minor": 0
      },
      "text/plain": [
       "Retrieving ElectronicStructureDoc documents:   0%|          | 0/1 [00:00<?, ?it/s]"
      ]
     },
     "metadata": {},
     "output_type": "display_data"
    },
    {
     "data": {
      "application/vnd.jupyter.widget-view+json": {
       "model_id": "60b591f058364b3685c2ed6eb337b7dc",
       "version_major": 2,
       "version_minor": 0
      },
      "text/plain": [
       "Retrieving ElectronicStructureDoc documents:   0%|          | 0/1 [00:00<?, ?it/s]"
      ]
     },
     "metadata": {},
     "output_type": "display_data"
    },
    {
     "name": "stdout",
     "output_type": "stream",
     "text": [
      "365 mp-1201 direct gamma to gamma transition found\n"
     ]
    },
    {
     "data": {
      "application/vnd.jupyter.widget-view+json": {
       "model_id": "cad742a67b4e497396c798156dcb0837",
       "version_major": 2,
       "version_minor": 0
      },
      "text/plain": [
       "Retrieving ElectronicStructureDoc documents:   0%|          | 0/1 [00:00<?, ?it/s]"
      ]
     },
     "metadata": {},
     "output_type": "display_data"
    },
    {
     "data": {
      "application/vnd.jupyter.widget-view+json": {
       "model_id": "a8037db117974c64815490d733b56ad8",
       "version_major": 2,
       "version_minor": 0
      },
      "text/plain": [
       "Retrieving ElectronicStructureDoc documents:   0%|          | 0/1 [00:00<?, ?it/s]"
      ]
     },
     "metadata": {},
     "output_type": "display_data"
    },
    {
     "data": {
      "application/vnd.jupyter.widget-view+json": {
       "model_id": "ba4cf9fa286c48b2adad6d09e7340c48",
       "version_major": 2,
       "version_minor": 0
      },
      "text/plain": [
       "Retrieving ElectronicStructureDoc documents:   0%|          | 0/1 [00:00<?, ?it/s]"
      ]
     },
     "metadata": {},
     "output_type": "display_data"
    },
    {
     "name": "stdout",
     "output_type": "stream",
     "text": [
      "368 mp-7752 direct gamma to gamma transition found\n"
     ]
    },
    {
     "data": {
      "application/vnd.jupyter.widget-view+json": {
       "model_id": "c8ad03f74a254e91be9f0401dbcdf961",
       "version_major": 2,
       "version_minor": 0
      },
      "text/plain": [
       "Retrieving ElectronicStructureDoc documents:   0%|          | 0/1 [00:00<?, ?it/s]"
      ]
     },
     "metadata": {},
     "output_type": "display_data"
    },
    {
     "data": {
      "application/vnd.jupyter.widget-view+json": {
       "model_id": "d7f2e88dae6b472d9b76de1ab45dd6e7",
       "version_major": 2,
       "version_minor": 0
      },
      "text/plain": [
       "Retrieving ElectronicStructureDoc documents:   0%|          | 0/1 [00:00<?, ?it/s]"
      ]
     },
     "metadata": {},
     "output_type": "display_data"
    },
    {
     "data": {
      "application/vnd.jupyter.widget-view+json": {
       "model_id": "7752dbd78a6d476585fc06a21a0c8e14",
       "version_major": 2,
       "version_minor": 0
      },
      "text/plain": [
       "Retrieving ElectronicStructureDoc documents:   0%|          | 0/1 [00:00<?, ?it/s]"
      ]
     },
     "metadata": {},
     "output_type": "display_data"
    },
    {
     "data": {
      "application/vnd.jupyter.widget-view+json": {
       "model_id": "b841d49ac3214601b5dc1aa592c48231",
       "version_major": 2,
       "version_minor": 0
      },
      "text/plain": [
       "Retrieving ElectronicStructureDoc documents:   0%|          | 0/1 [00:00<?, ?it/s]"
      ]
     },
     "metadata": {},
     "output_type": "display_data"
    },
    {
     "data": {
      "application/vnd.jupyter.widget-view+json": {
       "model_id": "ec6e8f10d262422da57dc94b9c07cb84",
       "version_major": 2,
       "version_minor": 0
      },
      "text/plain": [
       "Retrieving ElectronicStructureDoc documents:   0%|          | 0/1 [00:00<?, ?it/s]"
      ]
     },
     "metadata": {},
     "output_type": "display_data"
    },
    {
     "data": {
      "application/vnd.jupyter.widget-view+json": {
       "model_id": "acd5a060cd284949946771f3424cebd4",
       "version_major": 2,
       "version_minor": 0
      },
      "text/plain": [
       "Retrieving ElectronicStructureDoc documents:   0%|          | 0/1 [00:00<?, ?it/s]"
      ]
     },
     "metadata": {},
     "output_type": "display_data"
    },
    {
     "data": {
      "application/vnd.jupyter.widget-view+json": {
       "model_id": "26d73570f8f94a08b83fe569bda7b508",
       "version_major": 2,
       "version_minor": 0
      },
      "text/plain": [
       "Retrieving ElectronicStructureDoc documents:   0%|          | 0/1 [00:00<?, ?it/s]"
      ]
     },
     "metadata": {},
     "output_type": "display_data"
    },
    {
     "data": {
      "application/vnd.jupyter.widget-view+json": {
       "model_id": "e19473df0c6f4b0c9b13e6610428f794",
       "version_major": 2,
       "version_minor": 0
      },
      "text/plain": [
       "Retrieving ElectronicStructureDoc documents:   0%|          | 0/1 [00:00<?, ?it/s]"
      ]
     },
     "metadata": {},
     "output_type": "display_data"
    },
    {
     "data": {
      "application/vnd.jupyter.widget-view+json": {
       "model_id": "4bd38d9123894c6d9d30f55bbcd3fe9a",
       "version_major": 2,
       "version_minor": 0
      },
      "text/plain": [
       "Retrieving ElectronicStructureDoc documents: 0it [00:00, ?it/s]"
      ]
     },
     "metadata": {},
     "output_type": "display_data"
    },
    {
     "name": "stdout",
     "output_type": "stream",
     "text": [
      "377 mp-1863 has no bandstructure data on mp\n"
     ]
    },
    {
     "data": {
      "application/vnd.jupyter.widget-view+json": {
       "model_id": "3098ae34f8a84013b9310413dec90e9f",
       "version_major": 2,
       "version_minor": 0
      },
      "text/plain": [
       "Retrieving ElectronicStructureDoc documents:   0%|          | 0/1 [00:00<?, ?it/s]"
      ]
     },
     "metadata": {},
     "output_type": "display_data"
    },
    {
     "data": {
      "application/vnd.jupyter.widget-view+json": {
       "model_id": "ab68da57163148998eeab9eb82c8703e",
       "version_major": 2,
       "version_minor": 0
      },
      "text/plain": [
       "Retrieving ElectronicStructureDoc documents:   0%|          | 0/1 [00:00<?, ?it/s]"
      ]
     },
     "metadata": {},
     "output_type": "display_data"
    },
    {
     "data": {
      "application/vnd.jupyter.widget-view+json": {
       "model_id": "5c7fcf9bec1a4811900ea307cd6c1cb9",
       "version_major": 2,
       "version_minor": 0
      },
      "text/plain": [
       "Retrieving ElectronicStructureDoc documents:   0%|          | 0/1 [00:00<?, ?it/s]"
      ]
     },
     "metadata": {},
     "output_type": "display_data"
    },
    {
     "data": {
      "application/vnd.jupyter.widget-view+json": {
       "model_id": "86e9e1db3a974e2b9e1170c385025383",
       "version_major": 2,
       "version_minor": 0
      },
      "text/plain": [
       "Retrieving ElectronicStructureDoc documents:   0%|          | 0/1 [00:00<?, ?it/s]"
      ]
     },
     "metadata": {},
     "output_type": "display_data"
    },
    {
     "data": {
      "application/vnd.jupyter.widget-view+json": {
       "model_id": "97efa79dd0e84378ad18c9aed125b6a0",
       "version_major": 2,
       "version_minor": 0
      },
      "text/plain": [
       "Retrieving ElectronicStructureDoc documents:   0%|          | 0/1 [00:00<?, ?it/s]"
      ]
     },
     "metadata": {},
     "output_type": "display_data"
    },
    {
     "data": {
      "application/vnd.jupyter.widget-view+json": {
       "model_id": "9ccb5d8b7f5e45e68446e3aa6ba89e8a",
       "version_major": 2,
       "version_minor": 0
      },
      "text/plain": [
       "Retrieving ElectronicStructureDoc documents:   0%|          | 0/1 [00:00<?, ?it/s]"
      ]
     },
     "metadata": {},
     "output_type": "display_data"
    },
    {
     "data": {
      "application/vnd.jupyter.widget-view+json": {
       "model_id": "af2324b387cf4fe1846bec26ba2ec43a",
       "version_major": 2,
       "version_minor": 0
      },
      "text/plain": [
       "Retrieving ElectronicStructureDoc documents:   0%|          | 0/1 [00:00<?, ?it/s]"
      ]
     },
     "metadata": {},
     "output_type": "display_data"
    },
    {
     "data": {
      "application/vnd.jupyter.widget-view+json": {
       "model_id": "5711f2bb096d4896a1a73ad7e1e52673",
       "version_major": 2,
       "version_minor": 0
      },
      "text/plain": [
       "Retrieving ElectronicStructureDoc documents:   0%|          | 0/1 [00:00<?, ?it/s]"
      ]
     },
     "metadata": {},
     "output_type": "display_data"
    },
    {
     "data": {
      "application/vnd.jupyter.widget-view+json": {
       "model_id": "0e7418e8e2df435599613c1e509128a1",
       "version_major": 2,
       "version_minor": 0
      },
      "text/plain": [
       "Retrieving ElectronicStructureDoc documents:   0%|          | 0/1 [00:00<?, ?it/s]"
      ]
     },
     "metadata": {},
     "output_type": "display_data"
    },
    {
     "data": {
      "application/vnd.jupyter.widget-view+json": {
       "model_id": "98bea25dcafe46c5babcd45edef9d48e",
       "version_major": 2,
       "version_minor": 0
      },
      "text/plain": [
       "Retrieving ElectronicStructureDoc documents:   0%|          | 0/1 [00:00<?, ?it/s]"
      ]
     },
     "metadata": {},
     "output_type": "display_data"
    },
    {
     "data": {
      "application/vnd.jupyter.widget-view+json": {
       "model_id": "2a071fb291d949578f069590aa78e9d5",
       "version_major": 2,
       "version_minor": 0
      },
      "text/plain": [
       "Retrieving ElectronicStructureDoc documents:   0%|          | 0/1 [00:00<?, ?it/s]"
      ]
     },
     "metadata": {},
     "output_type": "display_data"
    },
    {
     "name": "stdout",
     "output_type": "stream",
     "text": [
      "388 mp-856 direct gamma to gamma transition found\n"
     ]
    },
    {
     "data": {
      "application/vnd.jupyter.widget-view+json": {
       "model_id": "b1278c8085754b149526ed8fabd648f8",
       "version_major": 2,
       "version_minor": 0
      },
      "text/plain": [
       "Retrieving ElectronicStructureDoc documents:   0%|          | 0/1 [00:00<?, ?it/s]"
      ]
     },
     "metadata": {},
     "output_type": "display_data"
    },
    {
     "data": {
      "application/vnd.jupyter.widget-view+json": {
       "model_id": "60d9c5b216f246b7af955b13d87cd890",
       "version_major": 2,
       "version_minor": 0
      },
      "text/plain": [
       "Retrieving ElectronicStructureDoc documents:   0%|          | 0/1 [00:00<?, ?it/s]"
      ]
     },
     "metadata": {},
     "output_type": "display_data"
    },
    {
     "data": {
      "application/vnd.jupyter.widget-view+json": {
       "model_id": "826e2fe87fcf417da80fc3414e11d4aa",
       "version_major": 2,
       "version_minor": 0
      },
      "text/plain": [
       "Retrieving ElectronicStructureDoc documents:   0%|          | 0/1 [00:00<?, ?it/s]"
      ]
     },
     "metadata": {},
     "output_type": "display_data"
    },
    {
     "data": {
      "application/vnd.jupyter.widget-view+json": {
       "model_id": "a86d6880f8cc44cf9b257bdafb9b990d",
       "version_major": 2,
       "version_minor": 0
      },
      "text/plain": [
       "Retrieving ElectronicStructureDoc documents:   0%|          | 0/1 [00:00<?, ?it/s]"
      ]
     },
     "metadata": {},
     "output_type": "display_data"
    },
    {
     "data": {
      "application/vnd.jupyter.widget-view+json": {
       "model_id": "dccf42786e434faf8ef31f2a0ef005c7",
       "version_major": 2,
       "version_minor": 0
      },
      "text/plain": [
       "Retrieving ElectronicStructureDoc documents:   0%|          | 0/1 [00:00<?, ?it/s]"
      ]
     },
     "metadata": {},
     "output_type": "display_data"
    },
    {
     "data": {
      "application/vnd.jupyter.widget-view+json": {
       "model_id": "cceca33865784dbfbc216697f5a76e92",
       "version_major": 2,
       "version_minor": 0
      },
      "text/plain": [
       "Retrieving ElectronicStructureDoc documents:   0%|          | 0/1 [00:00<?, ?it/s]"
      ]
     },
     "metadata": {},
     "output_type": "display_data"
    },
    {
     "data": {
      "application/vnd.jupyter.widget-view+json": {
       "model_id": "4458611beeef4a4db43bb47f5edc9e66",
       "version_major": 2,
       "version_minor": 0
      },
      "text/plain": [
       "Retrieving ElectronicStructureDoc documents:   0%|          | 0/1 [00:00<?, ?it/s]"
      ]
     },
     "metadata": {},
     "output_type": "display_data"
    },
    {
     "data": {
      "application/vnd.jupyter.widget-view+json": {
       "model_id": "051e6874a52f4445881f28130522d01b",
       "version_major": 2,
       "version_minor": 0
      },
      "text/plain": [
       "Retrieving ElectronicStructureDoc documents:   0%|          | 0/1 [00:00<?, ?it/s]"
      ]
     },
     "metadata": {},
     "output_type": "display_data"
    },
    {
     "data": {
      "application/vnd.jupyter.widget-view+json": {
       "model_id": "38e393cff54e4d6b9e8ca94f719c0776",
       "version_major": 2,
       "version_minor": 0
      },
      "text/plain": [
       "Retrieving ElectronicStructureDoc documents:   0%|          | 0/1 [00:00<?, ?it/s]"
      ]
     },
     "metadata": {},
     "output_type": "display_data"
    },
    {
     "data": {
      "application/vnd.jupyter.widget-view+json": {
       "model_id": "8045246d73d440df901f551b8f6fe10a",
       "version_major": 2,
       "version_minor": 0
      },
      "text/plain": [
       "Retrieving ElectronicStructureDoc documents:   0%|          | 0/1 [00:00<?, ?it/s]"
      ]
     },
     "metadata": {},
     "output_type": "display_data"
    },
    {
     "data": {
      "application/vnd.jupyter.widget-view+json": {
       "model_id": "fc7aa5d1687f460fa144ae0683e412f2",
       "version_major": 2,
       "version_minor": 0
      },
      "text/plain": [
       "Retrieving ElectronicStructureDoc documents: 0it [00:00, ?it/s]"
      ]
     },
     "metadata": {},
     "output_type": "display_data"
    },
    {
     "name": "stdout",
     "output_type": "stream",
     "text": [
      "399 mp-542885 has no bandstructure data on mp\n"
     ]
    },
    {
     "data": {
      "application/vnd.jupyter.widget-view+json": {
       "model_id": "ffe109a95f504bdba57a9e2fb3fa9feb",
       "version_major": 2,
       "version_minor": 0
      },
      "text/plain": [
       "Retrieving ElectronicStructureDoc documents:   0%|          | 0/1 [00:00<?, ?it/s]"
      ]
     },
     "metadata": {},
     "output_type": "display_data"
    },
    {
     "name": "stdout",
     "output_type": "stream",
     "text": [
      "400 mp-13900 direct gamma to gamma transition found\n"
     ]
    },
    {
     "data": {
      "application/vnd.jupyter.widget-view+json": {
       "model_id": "2f89b0a87a004aeaad47d5d41c209bd5",
       "version_major": 2,
       "version_minor": 0
      },
      "text/plain": [
       "Retrieving ElectronicStructureDoc documents:   0%|          | 0/1 [00:00<?, ?it/s]"
      ]
     },
     "metadata": {},
     "output_type": "display_data"
    },
    {
     "data": {
      "application/vnd.jupyter.widget-view+json": {
       "model_id": "39a86868613542ff8016b5836ba0779a",
       "version_major": 2,
       "version_minor": 0
      },
      "text/plain": [
       "Retrieving ElectronicStructureDoc documents:   0%|          | 0/1 [00:00<?, ?it/s]"
      ]
     },
     "metadata": {},
     "output_type": "display_data"
    },
    {
     "data": {
      "application/vnd.jupyter.widget-view+json": {
       "model_id": "2cf35fcc4b0a48d3a4c7b84d90095450",
       "version_major": 2,
       "version_minor": 0
      },
      "text/plain": [
       "Retrieving ElectronicStructureDoc documents:   0%|          | 0/1 [00:00<?, ?it/s]"
      ]
     },
     "metadata": {},
     "output_type": "display_data"
    },
    {
     "name": "stdout",
     "output_type": "stream",
     "text": [
      "403 mp-18834 direct gamma to gamma transition found\n"
     ]
    },
    {
     "data": {
      "application/vnd.jupyter.widget-view+json": {
       "model_id": "7aee35f6f78940eea328dd524ecf1472",
       "version_major": 2,
       "version_minor": 0
      },
      "text/plain": [
       "Retrieving ElectronicStructureDoc documents:   0%|          | 0/1 [00:00<?, ?it/s]"
      ]
     },
     "metadata": {},
     "output_type": "display_data"
    },
    {
     "data": {
      "application/vnd.jupyter.widget-view+json": {
       "model_id": "65a9c1bf9f084e598a8b60650d1dffd2",
       "version_major": 2,
       "version_minor": 0
      },
      "text/plain": [
       "Retrieving ElectronicStructureDoc documents:   0%|          | 0/1 [00:00<?, ?it/s]"
      ]
     },
     "metadata": {},
     "output_type": "display_data"
    },
    {
     "data": {
      "application/vnd.jupyter.widget-view+json": {
       "model_id": "ea6d143284cd4a11a17d5c6b425020d0",
       "version_major": 2,
       "version_minor": 0
      },
      "text/plain": [
       "Retrieving ElectronicStructureDoc documents:   0%|          | 0/1 [00:00<?, ?it/s]"
      ]
     },
     "metadata": {},
     "output_type": "display_data"
    },
    {
     "data": {
      "application/vnd.jupyter.widget-view+json": {
       "model_id": "32a782e763cc46e5a2a1c8375867547d",
       "version_major": 2,
       "version_minor": 0
      },
      "text/plain": [
       "Retrieving ElectronicStructureDoc documents:   0%|          | 0/1 [00:00<?, ?it/s]"
      ]
     },
     "metadata": {},
     "output_type": "display_data"
    },
    {
     "data": {
      "application/vnd.jupyter.widget-view+json": {
       "model_id": "332d9329e76f40fbbdd6a668713052f7",
       "version_major": 2,
       "version_minor": 0
      },
      "text/plain": [
       "Retrieving ElectronicStructureDoc documents:   0%|          | 0/1 [00:00<?, ?it/s]"
      ]
     },
     "metadata": {},
     "output_type": "display_data"
    },
    {
     "name": "stdout",
     "output_type": "stream",
     "text": [
      "408 mp-4092 direct gamma to gamma transition found\n"
     ]
    },
    {
     "data": {
      "application/vnd.jupyter.widget-view+json": {
       "model_id": "904e3fca0c004881885f24f935e14bfb",
       "version_major": 2,
       "version_minor": 0
      },
      "text/plain": [
       "Retrieving ElectronicStructureDoc documents:   0%|          | 0/1 [00:00<?, ?it/s]"
      ]
     },
     "metadata": {},
     "output_type": "display_data"
    },
    {
     "data": {
      "application/vnd.jupyter.widget-view+json": {
       "model_id": "88f4f5fe8b23431cb643e04e576214db",
       "version_major": 2,
       "version_minor": 0
      },
      "text/plain": [
       "Retrieving ElectronicStructureDoc documents:   0%|          | 0/1 [00:00<?, ?it/s]"
      ]
     },
     "metadata": {},
     "output_type": "display_data"
    },
    {
     "name": "stdout",
     "output_type": "stream",
     "text": [
      "410 mp-552454 direct gamma to gamma transition found\n"
     ]
    },
    {
     "data": {
      "application/vnd.jupyter.widget-view+json": {
       "model_id": "2de8248649d84027afc5a346914602a9",
       "version_major": 2,
       "version_minor": 0
      },
      "text/plain": [
       "Retrieving ElectronicStructureDoc documents:   0%|          | 0/1 [00:00<?, ?it/s]"
      ]
     },
     "metadata": {},
     "output_type": "display_data"
    },
    {
     "data": {
      "application/vnd.jupyter.widget-view+json": {
       "model_id": "c1058c9cd17a4519a18d16fb34d65fb3",
       "version_major": 2,
       "version_minor": 0
      },
      "text/plain": [
       "Retrieving ElectronicStructureDoc documents:   0%|          | 0/1 [00:00<?, ?it/s]"
      ]
     },
     "metadata": {},
     "output_type": "display_data"
    },
    {
     "name": "stdout",
     "output_type": "stream",
     "text": [
      "412 mp-5193 direct gamma to gamma transition found\n"
     ]
    },
    {
     "data": {
      "application/vnd.jupyter.widget-view+json": {
       "model_id": "5b426e4c4c844631945fc7c6aa7c6b63",
       "version_major": 2,
       "version_minor": 0
      },
      "text/plain": [
       "Retrieving ElectronicStructureDoc documents:   0%|          | 0/1 [00:00<?, ?it/s]"
      ]
     },
     "metadata": {},
     "output_type": "display_data"
    },
    {
     "data": {
      "application/vnd.jupyter.widget-view+json": {
       "model_id": "ef956699e31b476baecefd976ce657a9",
       "version_major": 2,
       "version_minor": 0
      },
      "text/plain": [
       "Retrieving ElectronicStructureDoc documents:   0%|          | 0/1 [00:00<?, ?it/s]"
      ]
     },
     "metadata": {},
     "output_type": "display_data"
    },
    {
     "data": {
      "application/vnd.jupyter.widget-view+json": {
       "model_id": "3e9af3eec27c493ca6c0b046514b1dbd",
       "version_major": 2,
       "version_minor": 0
      },
      "text/plain": [
       "Retrieving ElectronicStructureDoc documents:   0%|          | 0/1 [00:00<?, ?it/s]"
      ]
     },
     "metadata": {},
     "output_type": "display_data"
    },
    {
     "data": {
      "application/vnd.jupyter.widget-view+json": {
       "model_id": "10b120d96eb6402bb5ad44f204cb7339",
       "version_major": 2,
       "version_minor": 0
      },
      "text/plain": [
       "Retrieving ElectronicStructureDoc documents:   0%|          | 0/1 [00:00<?, ?it/s]"
      ]
     },
     "metadata": {},
     "output_type": "display_data"
    },
    {
     "data": {
      "application/vnd.jupyter.widget-view+json": {
       "model_id": "307ee402b6fd4f2893bb8a63b5d0ed2d",
       "version_major": 2,
       "version_minor": 0
      },
      "text/plain": [
       "Retrieving ElectronicStructureDoc documents:   0%|          | 0/1 [00:00<?, ?it/s]"
      ]
     },
     "metadata": {},
     "output_type": "display_data"
    },
    {
     "name": "stdout",
     "output_type": "stream",
     "text": [
      "417 mp-8136 direct gamma to gamma transition found\n"
     ]
    },
    {
     "data": {
      "application/vnd.jupyter.widget-view+json": {
       "model_id": "2b2a4c51295a46e88c26dad45d319eb0",
       "version_major": 2,
       "version_minor": 0
      },
      "text/plain": [
       "Retrieving ElectronicStructureDoc documents:   0%|          | 0/1 [00:00<?, ?it/s]"
      ]
     },
     "metadata": {},
     "output_type": "display_data"
    },
    {
     "name": "stdout",
     "output_type": "stream",
     "text": [
      "418 mp-7950 direct gamma to gamma transition found\n"
     ]
    },
    {
     "data": {
      "application/vnd.jupyter.widget-view+json": {
       "model_id": "07e2054d3e59421d98264023833c04e0",
       "version_major": 2,
       "version_minor": 0
      },
      "text/plain": [
       "Retrieving ElectronicStructureDoc documents:   0%|          | 0/1 [00:00<?, ?it/s]"
      ]
     },
     "metadata": {},
     "output_type": "display_data"
    },
    {
     "name": "stdout",
     "output_type": "stream",
     "text": [
      "419 mp-3718 direct gamma to gamma transition found\n"
     ]
    },
    {
     "data": {
      "application/vnd.jupyter.widget-view+json": {
       "model_id": "fbb499ce07514ce3a92972193759dd18",
       "version_major": 2,
       "version_minor": 0
      },
      "text/plain": [
       "Retrieving ElectronicStructureDoc documents:   0%|          | 0/1 [00:00<?, ?it/s]"
      ]
     },
     "metadata": {},
     "output_type": "display_data"
    },
    {
     "name": "stdout",
     "output_type": "stream",
     "text": [
      "420 mp-2657 direct gamma to gamma transition found\n"
     ]
    },
    {
     "data": {
      "application/vnd.jupyter.widget-view+json": {
       "model_id": "86d0398d1796473aa3bad73ab31fec45",
       "version_major": 2,
       "version_minor": 0
      },
      "text/plain": [
       "Retrieving ElectronicStructureDoc documents:   0%|          | 0/1 [00:00<?, ?it/s]"
      ]
     },
     "metadata": {},
     "output_type": "display_data"
    },
    {
     "data": {
      "application/vnd.jupyter.widget-view+json": {
       "model_id": "269eb2a2e9ec4c04baaa40e25c98a658",
       "version_major": 2,
       "version_minor": 0
      },
      "text/plain": [
       "Retrieving ElectronicStructureDoc documents:   0%|          | 0/1 [00:00<?, ?it/s]"
      ]
     },
     "metadata": {},
     "output_type": "display_data"
    },
    {
     "data": {
      "application/vnd.jupyter.widget-view+json": {
       "model_id": "39855a271bad44c2add748457187bd0d",
       "version_major": 2,
       "version_minor": 0
      },
      "text/plain": [
       "Retrieving ElectronicStructureDoc documents:   0%|          | 0/1 [00:00<?, ?it/s]"
      ]
     },
     "metadata": {},
     "output_type": "display_data"
    },
    {
     "data": {
      "application/vnd.jupyter.widget-view+json": {
       "model_id": "0c0fb569520848538d647567ab2ecc52",
       "version_major": 2,
       "version_minor": 0
      },
      "text/plain": [
       "Retrieving ElectronicStructureDoc documents:   0%|          | 0/1 [00:00<?, ?it/s]"
      ]
     },
     "metadata": {},
     "output_type": "display_data"
    },
    {
     "data": {
      "application/vnd.jupyter.widget-view+json": {
       "model_id": "588b7603b465419096e53b309e70208a",
       "version_major": 2,
       "version_minor": 0
      },
      "text/plain": [
       "Retrieving ElectronicStructureDoc documents:   0%|          | 0/1 [00:00<?, ?it/s]"
      ]
     },
     "metadata": {},
     "output_type": "display_data"
    },
    {
     "data": {
      "application/vnd.jupyter.widget-view+json": {
       "model_id": "849741c548bb490785c12294bc064090",
       "version_major": 2,
       "version_minor": 0
      },
      "text/plain": [
       "Retrieving ElectronicStructureDoc documents:   0%|          | 0/1 [00:00<?, ?it/s]"
      ]
     },
     "metadata": {},
     "output_type": "display_data"
    },
    {
     "data": {
      "application/vnd.jupyter.widget-view+json": {
       "model_id": "5e6babe5c18f4b90b26509dc7bbdff95",
       "version_major": 2,
       "version_minor": 0
      },
      "text/plain": [
       "Retrieving ElectronicStructureDoc documents:   0%|          | 0/1 [00:00<?, ?it/s]"
      ]
     },
     "metadata": {},
     "output_type": "display_data"
    },
    {
     "data": {
      "application/vnd.jupyter.widget-view+json": {
       "model_id": "cdc78fb92bad4117ba78d4e5ebb098a5",
       "version_major": 2,
       "version_minor": 0
      },
      "text/plain": [
       "Retrieving ElectronicStructureDoc documents:   0%|          | 0/1 [00:00<?, ?it/s]"
      ]
     },
     "metadata": {},
     "output_type": "display_data"
    },
    {
     "name": "stdout",
     "output_type": "stream",
     "text": [
      "428 mp-570339 has no bandstructure data on mp\n"
     ]
    },
    {
     "data": {
      "application/vnd.jupyter.widget-view+json": {
       "model_id": "b0af247f16b644f58f395d45c3d58cf4",
       "version_major": 2,
       "version_minor": 0
      },
      "text/plain": [
       "Retrieving ElectronicStructureDoc documents:   0%|          | 0/1 [00:00<?, ?it/s]"
      ]
     },
     "metadata": {},
     "output_type": "display_data"
    },
    {
     "data": {
      "application/vnd.jupyter.widget-view+json": {
       "model_id": "67035360940649b483d452481f6f693f",
       "version_major": 2,
       "version_minor": 0
      },
      "text/plain": [
       "Retrieving ElectronicStructureDoc documents:   0%|          | 0/1 [00:00<?, ?it/s]"
      ]
     },
     "metadata": {},
     "output_type": "display_data"
    },
    {
     "data": {
      "application/vnd.jupyter.widget-view+json": {
       "model_id": "18ad1588dbcc498e9d46176f5344ca65",
       "version_major": 2,
       "version_minor": 0
      },
      "text/plain": [
       "Retrieving ElectronicStructureDoc documents:   0%|          | 0/1 [00:00<?, ?it/s]"
      ]
     },
     "metadata": {},
     "output_type": "display_data"
    },
    {
     "data": {
      "application/vnd.jupyter.widget-view+json": {
       "model_id": "881bef6d25a04bd5abd1dd81a52a0f77",
       "version_major": 2,
       "version_minor": 0
      },
      "text/plain": [
       "Retrieving ElectronicStructureDoc documents:   0%|          | 0/1 [00:00<?, ?it/s]"
      ]
     },
     "metadata": {},
     "output_type": "display_data"
    },
    {
     "data": {
      "application/vnd.jupyter.widget-view+json": {
       "model_id": "305c21d88c1a4782a133a7462a25d23b",
       "version_major": 2,
       "version_minor": 0
      },
      "text/plain": [
       "Retrieving ElectronicStructureDoc documents:   0%|          | 0/1 [00:00<?, ?it/s]"
      ]
     },
     "metadata": {},
     "output_type": "display_data"
    },
    {
     "data": {
      "application/vnd.jupyter.widget-view+json": {
       "model_id": "82a99fcf546040f0849e636a7572a0f5",
       "version_major": 2,
       "version_minor": 0
      },
      "text/plain": [
       "Retrieving ElectronicStructureDoc documents:   0%|          | 0/1 [00:00<?, ?it/s]"
      ]
     },
     "metadata": {},
     "output_type": "display_data"
    },
    {
     "data": {
      "application/vnd.jupyter.widget-view+json": {
       "model_id": "9d38e0f858294719921766b69fa65f1e",
       "version_major": 2,
       "version_minor": 0
      },
      "text/plain": [
       "Retrieving ElectronicStructureDoc documents:   0%|          | 0/1 [00:00<?, ?it/s]"
      ]
     },
     "metadata": {},
     "output_type": "display_data"
    },
    {
     "data": {
      "application/vnd.jupyter.widget-view+json": {
       "model_id": "ca28e1948c2e46308defb5562d8b822f",
       "version_major": 2,
       "version_minor": 0
      },
      "text/plain": [
       "Retrieving ElectronicStructureDoc documents:   0%|          | 0/1 [00:00<?, ?it/s]"
      ]
     },
     "metadata": {},
     "output_type": "display_data"
    },
    {
     "data": {
      "application/vnd.jupyter.widget-view+json": {
       "model_id": "96e4127805c049ceae65e515963399c4",
       "version_major": 2,
       "version_minor": 0
      },
      "text/plain": [
       "Retrieving ElectronicStructureDoc documents:   0%|          | 0/1 [00:00<?, ?it/s]"
      ]
     },
     "metadata": {},
     "output_type": "display_data"
    },
    {
     "data": {
      "application/vnd.jupyter.widget-view+json": {
       "model_id": "1fa8d92544b0417793186168848e4b22",
       "version_major": 2,
       "version_minor": 0
      },
      "text/plain": [
       "Retrieving ElectronicStructureDoc documents:   0%|          | 0/1 [00:00<?, ?it/s]"
      ]
     },
     "metadata": {},
     "output_type": "display_data"
    },
    {
     "data": {
      "application/vnd.jupyter.widget-view+json": {
       "model_id": "a8ca8ae26f074d6ba4efcb313ec26c9d",
       "version_major": 2,
       "version_minor": 0
      },
      "text/plain": [
       "Retrieving ElectronicStructureDoc documents:   0%|          | 0/1 [00:00<?, ?it/s]"
      ]
     },
     "metadata": {},
     "output_type": "display_data"
    },
    {
     "data": {
      "application/vnd.jupyter.widget-view+json": {
       "model_id": "0c975630e6d4428591f120f36f8104fc",
       "version_major": 2,
       "version_minor": 0
      },
      "text/plain": [
       "Retrieving ElectronicStructureDoc documents:   0%|          | 0/1 [00:00<?, ?it/s]"
      ]
     },
     "metadata": {},
     "output_type": "display_data"
    },
    {
     "data": {
      "application/vnd.jupyter.widget-view+json": {
       "model_id": "0bde047cb2184a9abaa6719892e7aaa0",
       "version_major": 2,
       "version_minor": 0
      },
      "text/plain": [
       "Retrieving ElectronicStructureDoc documents:   0%|          | 0/1 [00:00<?, ?it/s]"
      ]
     },
     "metadata": {},
     "output_type": "display_data"
    },
    {
     "data": {
      "application/vnd.jupyter.widget-view+json": {
       "model_id": "35ab52c8209a4b1fb55c6be97af97dd5",
       "version_major": 2,
       "version_minor": 0
      },
      "text/plain": [
       "Retrieving ElectronicStructureDoc documents:   0%|          | 0/1 [00:00<?, ?it/s]"
      ]
     },
     "metadata": {},
     "output_type": "display_data"
    },
    {
     "data": {
      "application/vnd.jupyter.widget-view+json": {
       "model_id": "5b1d65a52b9043069df8c3b0ffa2a099",
       "version_major": 2,
       "version_minor": 0
      },
      "text/plain": [
       "Retrieving ElectronicStructureDoc documents:   0%|          | 0/1 [00:00<?, ?it/s]"
      ]
     },
     "metadata": {},
     "output_type": "display_data"
    },
    {
     "data": {
      "application/vnd.jupyter.widget-view+json": {
       "model_id": "5e56a8e45a704c8aa1ac0c650bf48c68",
       "version_major": 2,
       "version_minor": 0
      },
      "text/plain": [
       "Retrieving ElectronicStructureDoc documents:   0%|          | 0/1 [00:00<?, ?it/s]"
      ]
     },
     "metadata": {},
     "output_type": "display_data"
    },
    {
     "data": {
      "application/vnd.jupyter.widget-view+json": {
       "model_id": "702146f876334850951c18fcc4113769",
       "version_major": 2,
       "version_minor": 0
      },
      "text/plain": [
       "Retrieving ElectronicStructureDoc documents:   0%|          | 0/1 [00:00<?, ?it/s]"
      ]
     },
     "metadata": {},
     "output_type": "display_data"
    },
    {
     "data": {
      "application/vnd.jupyter.widget-view+json": {
       "model_id": "7477b9d1226d433ba5c4ec8849d9d833",
       "version_major": 2,
       "version_minor": 0
      },
      "text/plain": [
       "Retrieving ElectronicStructureDoc documents:   0%|          | 0/1 [00:00<?, ?it/s]"
      ]
     },
     "metadata": {},
     "output_type": "display_data"
    },
    {
     "name": "stdout",
     "output_type": "stream",
     "text": [
      "446 mp-611517 direct gamma to gamma transition found\n"
     ]
    },
    {
     "data": {
      "application/vnd.jupyter.widget-view+json": {
       "model_id": "6a2e3d27ca9b4098b2e400bf8c388a12",
       "version_major": 2,
       "version_minor": 0
      },
      "text/plain": [
       "Retrieving ElectronicStructureDoc documents:   0%|          | 0/1 [00:00<?, ?it/s]"
      ]
     },
     "metadata": {},
     "output_type": "display_data"
    },
    {
     "data": {
      "application/vnd.jupyter.widget-view+json": {
       "model_id": "2ba6ec5cd3f84da2b6e4325de0dae1eb",
       "version_major": 2,
       "version_minor": 0
      },
      "text/plain": [
       "Retrieving ElectronicStructureDoc documents:   0%|          | 0/1 [00:00<?, ?it/s]"
      ]
     },
     "metadata": {},
     "output_type": "display_data"
    },
    {
     "data": {
      "application/vnd.jupyter.widget-view+json": {
       "model_id": "f3774bac6834486792de5f2e2ffd3ac1",
       "version_major": 2,
       "version_minor": 0
      },
      "text/plain": [
       "Retrieving ElectronicStructureDoc documents:   0%|          | 0/1 [00:00<?, ?it/s]"
      ]
     },
     "metadata": {},
     "output_type": "display_data"
    },
    {
     "name": "stdout",
     "output_type": "stream",
     "text": [
      "449 mp-4964 direct gamma to gamma transition found\n"
     ]
    },
    {
     "data": {
      "application/vnd.jupyter.widget-view+json": {
       "model_id": "452d2f7e5f424363956891d6a91b5e0e",
       "version_major": 2,
       "version_minor": 0
      },
      "text/plain": [
       "Retrieving ElectronicStructureDoc documents:   0%|          | 0/1 [00:00<?, ?it/s]"
      ]
     },
     "metadata": {},
     "output_type": "display_data"
    },
    {
     "data": {
      "application/vnd.jupyter.widget-view+json": {
       "model_id": "0cf440c5b9564590a1d77e2746a92bb1",
       "version_major": 2,
       "version_minor": 0
      },
      "text/plain": [
       "Retrieving ElectronicStructureDoc documents:   0%|          | 0/1 [00:00<?, ?it/s]"
      ]
     },
     "metadata": {},
     "output_type": "display_data"
    },
    {
     "name": "stdout",
     "output_type": "stream",
     "text": [
      "451 mp-7262 direct gamma to gamma transition found\n"
     ]
    },
    {
     "data": {
      "application/vnd.jupyter.widget-view+json": {
       "model_id": "270e09e5fc9249488e5078513606087d",
       "version_major": 2,
       "version_minor": 0
      },
      "text/plain": [
       "Retrieving ElectronicStructureDoc documents:   0%|          | 0/1 [00:00<?, ?it/s]"
      ]
     },
     "metadata": {},
     "output_type": "display_data"
    },
    {
     "name": "stdout",
     "output_type": "stream",
     "text": [
      "452 mp-15776 direct gamma to gamma transition found\n"
     ]
    },
    {
     "data": {
      "application/vnd.jupyter.widget-view+json": {
       "model_id": "85ca0bf1ac0d44fa8e4fd2ad7e8242e1",
       "version_major": 2,
       "version_minor": 0
      },
      "text/plain": [
       "Retrieving ElectronicStructureDoc documents:   0%|          | 0/1 [00:00<?, ?it/s]"
      ]
     },
     "metadata": {},
     "output_type": "display_data"
    },
    {
     "name": "stdout",
     "output_type": "stream",
     "text": [
      "453 mp-15777 direct gamma to gamma transition found\n"
     ]
    },
    {
     "data": {
      "application/vnd.jupyter.widget-view+json": {
       "model_id": "4cf75c72d1b6487db61d612f82421aba",
       "version_major": 2,
       "version_minor": 0
      },
      "text/plain": [
       "Retrieving ElectronicStructureDoc documents:   0%|          | 0/1 [00:00<?, ?it/s]"
      ]
     },
     "metadata": {},
     "output_type": "display_data"
    },
    {
     "data": {
      "application/vnd.jupyter.widget-view+json": {
       "model_id": "5b3f44ebc3684ce782fb9b0d0ee77774",
       "version_major": 2,
       "version_minor": 0
      },
      "text/plain": [
       "Retrieving ElectronicStructureDoc documents:   0%|          | 0/1 [00:00<?, ?it/s]"
      ]
     },
     "metadata": {},
     "output_type": "display_data"
    },
    {
     "name": "stdout",
     "output_type": "stream",
     "text": [
      "455 mp-2979 direct gamma to gamma transition found\n"
     ]
    },
    {
     "data": {
      "application/vnd.jupyter.widget-view+json": {
       "model_id": "2965d0827bd149d5bdb86dc43d4d18c5",
       "version_major": 2,
       "version_minor": 0
      },
      "text/plain": [
       "Retrieving ElectronicStructureDoc documents:   0%|          | 0/1 [00:00<?, ?it/s]"
      ]
     },
     "metadata": {},
     "output_type": "display_data"
    },
    {
     "data": {
      "application/vnd.jupyter.widget-view+json": {
       "model_id": "5887d7f9aad44734952211a9320ed7ee",
       "version_major": 2,
       "version_minor": 0
      },
      "text/plain": [
       "Retrieving ElectronicStructureDoc documents:   0%|          | 0/1 [00:00<?, ?it/s]"
      ]
     },
     "metadata": {},
     "output_type": "display_data"
    },
    {
     "name": "stdout",
     "output_type": "stream",
     "text": [
      "457 mp-20832 direct gamma to gamma transition found\n"
     ]
    },
    {
     "data": {
      "application/vnd.jupyter.widget-view+json": {
       "model_id": "74cb06ff8aba480b866910ecd8819a7f",
       "version_major": 2,
       "version_minor": 0
      },
      "text/plain": [
       "Retrieving ElectronicStructureDoc documents:   0%|          | 0/1 [00:00<?, ?it/s]"
      ]
     },
     "metadata": {},
     "output_type": "display_data"
    },
    {
     "name": "stdout",
     "output_type": "stream",
     "text": [
      "458 mp-2133 direct gamma to gamma transition found\n"
     ]
    },
    {
     "data": {
      "application/vnd.jupyter.widget-view+json": {
       "model_id": "12373050eaec4ed3a8361354db8187f9",
       "version_major": 2,
       "version_minor": 0
      },
      "text/plain": [
       "Retrieving ElectronicStructureDoc documents:   0%|          | 0/1 [00:00<?, ?it/s]"
      ]
     },
     "metadata": {},
     "output_type": "display_data"
    },
    {
     "name": "stdout",
     "output_type": "stream",
     "text": [
      "459 mp-1392 direct gamma to gamma transition found\n"
     ]
    },
    {
     "data": {
      "application/vnd.jupyter.widget-view+json": {
       "model_id": "19829296522e4bd6bfcfd331c7fe6a01",
       "version_major": 2,
       "version_minor": 0
      },
      "text/plain": [
       "Retrieving ElectronicStructureDoc documents:   0%|          | 0/1 [00:00<?, ?it/s]"
      ]
     },
     "metadata": {},
     "output_type": "display_data"
    },
    {
     "name": "stdout",
     "output_type": "stream",
     "text": [
      "460 mp-10695 direct gamma to gamma transition found\n"
     ]
    },
    {
     "data": {
      "application/vnd.jupyter.widget-view+json": {
       "model_id": "c7fa76ccd4d14d86bc924393e2dc0b15",
       "version_major": 2,
       "version_minor": 0
      },
      "text/plain": [
       "Retrieving ElectronicStructureDoc documents:   0%|          | 0/1 [00:00<?, ?it/s]"
      ]
     },
     "metadata": {},
     "output_type": "display_data"
    },
    {
     "name": "stdout",
     "output_type": "stream",
     "text": [
      "461 mp-560588 direct gamma to gamma transition found\n"
     ]
    },
    {
     "data": {
      "application/vnd.jupyter.widget-view+json": {
       "model_id": "e114c00aeaab4d968a5f1343f145d938",
       "version_major": 2,
       "version_minor": 0
      },
      "text/plain": [
       "Retrieving ElectronicStructureDoc documents:   0%|          | 0/1 [00:00<?, ?it/s]"
      ]
     },
     "metadata": {},
     "output_type": "display_data"
    },
    {
     "data": {
      "application/vnd.jupyter.widget-view+json": {
       "model_id": "a38182478f9c42a994cdd4c0048224ff",
       "version_major": 2,
       "version_minor": 0
      },
      "text/plain": [
       "Retrieving ElectronicStructureDoc documents:   0%|          | 0/1 [00:00<?, ?it/s]"
      ]
     },
     "metadata": {},
     "output_type": "display_data"
    },
    {
     "name": "stdout",
     "output_type": "stream",
     "text": [
      "463 mp-1190 direct gamma to gamma transition found\n"
     ]
    },
    {
     "data": {
      "application/vnd.jupyter.widget-view+json": {
       "model_id": "739eb6ddcd474acdb831ac4b5bd84ad2",
       "version_major": 2,
       "version_minor": 0
      },
      "text/plain": [
       "Retrieving ElectronicStructureDoc documents:   0%|          | 0/1 [00:00<?, ?it/s]"
      ]
     },
     "metadata": {},
     "output_type": "display_data"
    },
    {
     "name": "stdout",
     "output_type": "stream",
     "text": [
      "464 mp-3595 direct gamma to gamma transition found\n"
     ]
    },
    {
     "data": {
      "application/vnd.jupyter.widget-view+json": {
       "model_id": "9f7ce32a6c544f449b99906f4b15b515",
       "version_major": 2,
       "version_minor": 0
      },
      "text/plain": [
       "Retrieving ElectronicStructureDoc documents:   0%|          | 0/1 [00:00<?, ?it/s]"
      ]
     },
     "metadata": {},
     "output_type": "display_data"
    },
    {
     "name": "stdout",
     "output_type": "stream",
     "text": [
      "465 mp-4763 direct gamma to gamma transition found\n"
     ]
    },
    {
     "data": {
      "application/vnd.jupyter.widget-view+json": {
       "model_id": "a1faf0306b954ee99a945ca76735b5f0",
       "version_major": 2,
       "version_minor": 0
      },
      "text/plain": [
       "Retrieving ElectronicStructureDoc documents:   0%|          | 0/1 [00:00<?, ?it/s]"
      ]
     },
     "metadata": {},
     "output_type": "display_data"
    },
    {
     "data": {
      "application/vnd.jupyter.widget-view+json": {
       "model_id": "cb04cc38c0434ee583eb20c375ced60e",
       "version_major": 2,
       "version_minor": 0
      },
      "text/plain": [
       "Retrieving ElectronicStructureDoc documents:   0%|          | 0/1 [00:00<?, ?it/s]"
      ]
     },
     "metadata": {},
     "output_type": "display_data"
    },
    {
     "name": "stdout",
     "output_type": "stream",
     "text": [
      "467 mp-13334 direct gamma to gamma transition found\n"
     ]
    },
    {
     "data": {
      "application/vnd.jupyter.widget-view+json": {
       "model_id": "a9c9479db6f943749b5f226ffd2f4d15",
       "version_major": 2,
       "version_minor": 0
      },
      "text/plain": [
       "Retrieving ElectronicStructureDoc documents:   0%|          | 0/1 [00:00<?, ?it/s]"
      ]
     },
     "metadata": {},
     "output_type": "display_data"
    },
    {
     "name": "stdout",
     "output_type": "stream",
     "text": [
      "468 mp-4175 direct gamma to gamma transition found\n"
     ]
    },
    {
     "data": {
      "application/vnd.jupyter.widget-view+json": {
       "model_id": "d5e579fa355147a9870be76a97fdd41c",
       "version_major": 2,
       "version_minor": 0
      },
      "text/plain": [
       "Retrieving ElectronicStructureDoc documents:   0%|          | 0/1 [00:00<?, ?it/s]"
      ]
     },
     "metadata": {},
     "output_type": "display_data"
    },
    {
     "data": {
      "application/vnd.jupyter.widget-view+json": {
       "model_id": "7f85004111bf43c88e4a7bbbc0ec554d",
       "version_major": 2,
       "version_minor": 0
      },
      "text/plain": [
       "Retrieving ElectronicStructureDoc documents:   0%|          | 0/1 [00:00<?, ?it/s]"
      ]
     },
     "metadata": {},
     "output_type": "display_data"
    },
    {
     "data": {
      "application/vnd.jupyter.widget-view+json": {
       "model_id": "e8e4ae96181b42129bd9cf3077738f57",
       "version_major": 2,
       "version_minor": 0
      },
      "text/plain": [
       "Retrieving ElectronicStructureDoc documents:   0%|          | 0/1 [00:00<?, ?it/s]"
      ]
     },
     "metadata": {},
     "output_type": "display_data"
    }
   ],
   "source": [
    "borlido_gg_direct = []\n",
    "for idx, idv in enumerate(ids):\n",
    "    try:\n",
    "        mol = mpr.get_bandstructure_by_material_id(idv)\n",
    "        if mol.get_band_gap()['transition'] == '\\\\Gamma-\\\\Gamma':\n",
    "            print(idx, idv, 'direct gamma to gamma transition found')\n",
    "            borlido_gg_direct.append((idx, idv, mol))\n",
    "    except:\n",
    "        print(idx, idv, 'has no bandstructure data on mp')"
   ]
  },
  {
   "cell_type": "code",
   "execution_count": 96,
   "id": "c5fdf6d3-92ce-4012-8909-52ac6cca89e9",
   "metadata": {},
   "outputs": [],
   "source": [
    "import pickle as pkl"
   ]
  },
  {
   "cell_type": "code",
   "execution_count": 99,
   "id": "16cbd911-dcea-45da-99aa-de17d94fbdc4",
   "metadata": {},
   "outputs": [],
   "source": [
    "with open('/home/awills/Documents/Research/datasets/borlido2019/ggdirect.pkl', 'wb') as f:\n",
    "    pkl.dump(borlido_gg_direct, f)"
   ]
  },
  {
   "cell_type": "code",
   "execution_count": 95,
   "id": "ae54cfb5-c833-4221-822a-b2919466fc5f",
   "metadata": {},
   "outputs": [
    {
     "data": {
      "text/plain": [
       "{'direct': True, 'energy': 1.8730999999999998, 'transition': '\\\\Gamma-\\\\Gamma'}"
      ]
     },
     "execution_count": 95,
     "metadata": {},
     "output_type": "execute_result"
    }
   ],
   "source": [
    "t."
   ]
  },
  {
   "cell_type": "code",
   "execution_count": 3,
   "id": "7be9a975-6ea0-47c0-bdf0-aac33dabad69",
   "metadata": {},
   "outputs": [],
   "source": [
    "image = np.array([\n",
    "[[1, 2, 3], [4, 5, 6], [-1, 8, 9]],\n",
    "[[10, 11, 12], [13, 14, 15], [16, 17, 18]],\n",
    "[[19, 20, 21], [22, 23, 24], [25, 26, 27]]\n",
    "],\n",
    "dtype=np.float32)\n",
    "mask = np.array(\n",
    "[[1, 4, 7],\n",
    "[10, 4, 16],\n",
    "[19, 22, 255]],\n",
    "dtype=np.uint8)"
   ]
  },
  {
   "cell_type": "code",
   "execution_count": null,
   "id": "6f2db2db-3009-458a-a211-ebdc10874d2f",
   "metadata": {},
   "outputs": [],
   "source": []
  },
  {
   "cell_type": "code",
   "execution_count": 62,
   "id": "ea98dca1-4d2b-4c95-8507-74f229cd6487",
   "metadata": {
    "scrolled": true
   },
   "outputs": [
    {
     "data": {
      "application/vnd.jupyter.widget-view+json": {
       "model_id": "3584e715a3d745448cbd3d86a2ceba24",
       "version_major": 2,
       "version_minor": 0
      },
      "text/plain": [
       "Retrieving SummaryDoc documents:   0%|          | 0/102 [00:00<?, ?it/s]"
      ]
     },
     "metadata": {},
     "output_type": "display_data"
    },
    {
     "data": {
      "application/vnd.jupyter.widget-view+json": {
       "model_id": "9faad9aedd5043fca9655abc4aaa2826",
       "version_major": 2,
       "version_minor": 0
      },
      "text/plain": [
       "Retrieving ElectronicStructureDoc documents:   0%|          | 0/1 [00:00<?, ?it/s]"
      ]
     },
     "metadata": {},
     "output_type": "display_data"
    },
    {
     "data": {
      "application/vnd.jupyter.widget-view+json": {
       "model_id": "5c5ae480be9c43d8aa3892b91b7b1598",
       "version_major": 2,
       "version_minor": 0
      },
      "text/plain": [
       "Retrieving ElectronicStructureDoc documents:   0%|          | 0/1 [00:00<?, ?it/s]"
      ]
     },
     "metadata": {},
     "output_type": "display_data"
    },
    {
     "data": {
      "application/vnd.jupyter.widget-view+json": {
       "model_id": "9c9a065d52484f8e96d429b212a04127",
       "version_major": 2,
       "version_minor": 0
      },
      "text/plain": [
       "Retrieving ElectronicStructureDoc documents:   0%|          | 0/1 [00:00<?, ?it/s]"
      ]
     },
     "metadata": {},
     "output_type": "display_data"
    },
    {
     "data": {
      "application/vnd.jupyter.widget-view+json": {
       "model_id": "8074ba463bc14da1b49cf4dcd628fa04",
       "version_major": 2,
       "version_minor": 0
      },
      "text/plain": [
       "Retrieving ElectronicStructureDoc documents:   0%|          | 0/1 [00:00<?, ?it/s]"
      ]
     },
     "metadata": {},
     "output_type": "display_data"
    },
    {
     "data": {
      "application/vnd.jupyter.widget-view+json": {
       "model_id": "4c9b98fdb5144c9683a1d7a55a7f5307",
       "version_major": 2,
       "version_minor": 0
      },
      "text/plain": [
       "Retrieving ElectronicStructureDoc documents:   0%|          | 0/1 [00:00<?, ?it/s]"
      ]
     },
     "metadata": {},
     "output_type": "display_data"
    },
    {
     "data": {
      "application/vnd.jupyter.widget-view+json": {
       "model_id": "103edce623574933826968ef0f74163c",
       "version_major": 2,
       "version_minor": 0
      },
      "text/plain": [
       "Retrieving ElectronicStructureDoc documents:   0%|          | 0/1 [00:00<?, ?it/s]"
      ]
     },
     "metadata": {},
     "output_type": "display_data"
    },
    {
     "data": {
      "application/vnd.jupyter.widget-view+json": {
       "model_id": "6784783359a3457c84931f62958356e3",
       "version_major": 2,
       "version_minor": 0
      },
      "text/plain": [
       "Retrieving ElectronicStructureDoc documents:   0%|          | 0/1 [00:00<?, ?it/s]"
      ]
     },
     "metadata": {},
     "output_type": "display_data"
    },
    {
     "data": {
      "application/vnd.jupyter.widget-view+json": {
       "model_id": "8406bd2925744963933d13d4c8e835f7",
       "version_major": 2,
       "version_minor": 0
      },
      "text/plain": [
       "Retrieving ElectronicStructureDoc documents:   0%|          | 0/1 [00:00<?, ?it/s]"
      ]
     },
     "metadata": {},
     "output_type": "display_data"
    },
    {
     "data": {
      "application/vnd.jupyter.widget-view+json": {
       "model_id": "49e97797267d4d88ad1d615c650ef7e3",
       "version_major": 2,
       "version_minor": 0
      },
      "text/plain": [
       "Retrieving ElectronicStructureDoc documents:   0%|          | 0/1 [00:00<?, ?it/s]"
      ]
     },
     "metadata": {},
     "output_type": "display_data"
    },
    {
     "data": {
      "application/vnd.jupyter.widget-view+json": {
       "model_id": "d791e7d574da469284159c378c1f84fe",
       "version_major": 2,
       "version_minor": 0
      },
      "text/plain": [
       "Retrieving ElectronicStructureDoc documents:   0%|          | 0/1 [00:00<?, ?it/s]"
      ]
     },
     "metadata": {},
     "output_type": "display_data"
    },
    {
     "data": {
      "application/vnd.jupyter.widget-view+json": {
       "model_id": "c11e64467bc84c29ae9bd2a3f0ec4877",
       "version_major": 2,
       "version_minor": 0
      },
      "text/plain": [
       "Retrieving ElectronicStructureDoc documents:   0%|          | 0/1 [00:00<?, ?it/s]"
      ]
     },
     "metadata": {},
     "output_type": "display_data"
    },
    {
     "data": {
      "application/vnd.jupyter.widget-view+json": {
       "model_id": "7e567517d6684d16b5d978ec92c41e39",
       "version_major": 2,
       "version_minor": 0
      },
      "text/plain": [
       "Retrieving ElectronicStructureDoc documents:   0%|          | 0/1 [00:00<?, ?it/s]"
      ]
     },
     "metadata": {},
     "output_type": "display_data"
    },
    {
     "data": {
      "application/vnd.jupyter.widget-view+json": {
       "model_id": "09bf7efdfe7e484d973f5b55bb823195",
       "version_major": 2,
       "version_minor": 0
      },
      "text/plain": [
       "Retrieving ElectronicStructureDoc documents:   0%|          | 0/1 [00:00<?, ?it/s]"
      ]
     },
     "metadata": {},
     "output_type": "display_data"
    },
    {
     "data": {
      "application/vnd.jupyter.widget-view+json": {
       "model_id": "a250422cd7e640159f5eaa4ff12f6089",
       "version_major": 2,
       "version_minor": 0
      },
      "text/plain": [
       "Retrieving ElectronicStructureDoc documents:   0%|          | 0/1 [00:00<?, ?it/s]"
      ]
     },
     "metadata": {},
     "output_type": "display_data"
    },
    {
     "data": {
      "application/vnd.jupyter.widget-view+json": {
       "model_id": "f6ab5e4637484ebd993e67b3da8539a4",
       "version_major": 2,
       "version_minor": 0
      },
      "text/plain": [
       "Retrieving ElectronicStructureDoc documents:   0%|          | 0/1 [00:00<?, ?it/s]"
      ]
     },
     "metadata": {},
     "output_type": "display_data"
    },
    {
     "data": {
      "application/vnd.jupyter.widget-view+json": {
       "model_id": "8ed9b06d5d094753a8e49b2ebe14e393",
       "version_major": 2,
       "version_minor": 0
      },
      "text/plain": [
       "Retrieving ElectronicStructureDoc documents:   0%|          | 0/1 [00:00<?, ?it/s]"
      ]
     },
     "metadata": {},
     "output_type": "display_data"
    },
    {
     "data": {
      "application/vnd.jupyter.widget-view+json": {
       "model_id": "b53eed51e30740129ed4a1f5a652b185",
       "version_major": 2,
       "version_minor": 0
      },
      "text/plain": [
       "Retrieving ElectronicStructureDoc documents:   0%|          | 0/1 [00:00<?, ?it/s]"
      ]
     },
     "metadata": {},
     "output_type": "display_data"
    },
    {
     "data": {
      "application/vnd.jupyter.widget-view+json": {
       "model_id": "530308e74cff4c82a54153b957424c03",
       "version_major": 2,
       "version_minor": 0
      },
      "text/plain": [
       "Retrieving ElectronicStructureDoc documents:   0%|          | 0/1 [00:00<?, ?it/s]"
      ]
     },
     "metadata": {},
     "output_type": "display_data"
    },
    {
     "data": {
      "application/vnd.jupyter.widget-view+json": {
       "model_id": "f56de9951fda4b6da54179d9254d7c5c",
       "version_major": 2,
       "version_minor": 0
      },
      "text/plain": [
       "Retrieving ElectronicStructureDoc documents:   0%|          | 0/1 [00:00<?, ?it/s]"
      ]
     },
     "metadata": {},
     "output_type": "display_data"
    },
    {
     "data": {
      "application/vnd.jupyter.widget-view+json": {
       "model_id": "ce2bcae789d34e2e9c7e975cb6c1b8cd",
       "version_major": 2,
       "version_minor": 0
      },
      "text/plain": [
       "Retrieving ElectronicStructureDoc documents:   0%|          | 0/1 [00:00<?, ?it/s]"
      ]
     },
     "metadata": {},
     "output_type": "display_data"
    },
    {
     "data": {
      "application/vnd.jupyter.widget-view+json": {
       "model_id": "5fb4ca6dc9284ce4a810d252b9c4b98c",
       "version_major": 2,
       "version_minor": 0
      },
      "text/plain": [
       "Retrieving ElectronicStructureDoc documents:   0%|          | 0/1 [00:00<?, ?it/s]"
      ]
     },
     "metadata": {},
     "output_type": "display_data"
    },
    {
     "data": {
      "application/vnd.jupyter.widget-view+json": {
       "model_id": "4aabd48d38a84810a0371451d8f9f48c",
       "version_major": 2,
       "version_minor": 0
      },
      "text/plain": [
       "Retrieving ElectronicStructureDoc documents:   0%|          | 0/1 [00:00<?, ?it/s]"
      ]
     },
     "metadata": {},
     "output_type": "display_data"
    },
    {
     "data": {
      "application/vnd.jupyter.widget-view+json": {
       "model_id": "8c31886e25f94a1ab66c416cbabbf5f8",
       "version_major": 2,
       "version_minor": 0
      },
      "text/plain": [
       "Retrieving ElectronicStructureDoc documents:   0%|          | 0/1 [00:00<?, ?it/s]"
      ]
     },
     "metadata": {},
     "output_type": "display_data"
    },
    {
     "data": {
      "application/vnd.jupyter.widget-view+json": {
       "model_id": "2be68d3734b2434a8f7a8a861f157b08",
       "version_major": 2,
       "version_minor": 0
      },
      "text/plain": [
       "Retrieving ElectronicStructureDoc documents:   0%|          | 0/1 [00:00<?, ?it/s]"
      ]
     },
     "metadata": {},
     "output_type": "display_data"
    },
    {
     "data": {
      "application/vnd.jupyter.widget-view+json": {
       "model_id": "20b2d755567843d2a992a622e1990af9",
       "version_major": 2,
       "version_minor": 0
      },
      "text/plain": [
       "Retrieving ElectronicStructureDoc documents:   0%|          | 0/1 [00:00<?, ?it/s]"
      ]
     },
     "metadata": {},
     "output_type": "display_data"
    },
    {
     "data": {
      "application/vnd.jupyter.widget-view+json": {
       "model_id": "8378fdc8bcc4495792dc04b9481e151d",
       "version_major": 2,
       "version_minor": 0
      },
      "text/plain": [
       "Retrieving ElectronicStructureDoc documents:   0%|          | 0/1 [00:00<?, ?it/s]"
      ]
     },
     "metadata": {},
     "output_type": "display_data"
    },
    {
     "data": {
      "application/vnd.jupyter.widget-view+json": {
       "model_id": "4cec4c47b1c1481d819f1ea7db202adc",
       "version_major": 2,
       "version_minor": 0
      },
      "text/plain": [
       "Retrieving ElectronicStructureDoc documents:   0%|          | 0/1 [00:00<?, ?it/s]"
      ]
     },
     "metadata": {},
     "output_type": "display_data"
    },
    {
     "data": {
      "application/vnd.jupyter.widget-view+json": {
       "model_id": "a26b68f2de784ec5a2dc1fd8b50172c4",
       "version_major": 2,
       "version_minor": 0
      },
      "text/plain": [
       "Retrieving ElectronicStructureDoc documents:   0%|          | 0/1 [00:00<?, ?it/s]"
      ]
     },
     "metadata": {},
     "output_type": "display_data"
    },
    {
     "data": {
      "application/vnd.jupyter.widget-view+json": {
       "model_id": "4f3e40631390463292c15f26890699a0",
       "version_major": 2,
       "version_minor": 0
      },
      "text/plain": [
       "Retrieving ElectronicStructureDoc documents:   0%|          | 0/1 [00:00<?, ?it/s]"
      ]
     },
     "metadata": {},
     "output_type": "display_data"
    },
    {
     "data": {
      "application/vnd.jupyter.widget-view+json": {
       "model_id": "fed07578051e433f99c125f506ef4ace",
       "version_major": 2,
       "version_minor": 0
      },
      "text/plain": [
       "Retrieving ElectronicStructureDoc documents:   0%|          | 0/1 [00:00<?, ?it/s]"
      ]
     },
     "metadata": {},
     "output_type": "display_data"
    },
    {
     "data": {
      "application/vnd.jupyter.widget-view+json": {
       "model_id": "1e507a2fa9ac44c2a661f94cfef155c9",
       "version_major": 2,
       "version_minor": 0
      },
      "text/plain": [
       "Retrieving ElectronicStructureDoc documents:   0%|          | 0/1 [00:00<?, ?it/s]"
      ]
     },
     "metadata": {},
     "output_type": "display_data"
    },
    {
     "data": {
      "application/vnd.jupyter.widget-view+json": {
       "model_id": "cdd8b5831445487ea5f4b0b07f5f8b9d",
       "version_major": 2,
       "version_minor": 0
      },
      "text/plain": [
       "Retrieving ElectronicStructureDoc documents:   0%|          | 0/1 [00:00<?, ?it/s]"
      ]
     },
     "metadata": {},
     "output_type": "display_data"
    },
    {
     "data": {
      "application/vnd.jupyter.widget-view+json": {
       "model_id": "f65d9a88cb944600ba8d1b424c199ef6",
       "version_major": 2,
       "version_minor": 0
      },
      "text/plain": [
       "Retrieving ElectronicStructureDoc documents:   0%|          | 0/1 [00:00<?, ?it/s]"
      ]
     },
     "metadata": {},
     "output_type": "display_data"
    },
    {
     "data": {
      "application/vnd.jupyter.widget-view+json": {
       "model_id": "1f89c232435f4fcca94fbaade778ab83",
       "version_major": 2,
       "version_minor": 0
      },
      "text/plain": [
       "Retrieving ElectronicStructureDoc documents:   0%|          | 0/1 [00:00<?, ?it/s]"
      ]
     },
     "metadata": {},
     "output_type": "display_data"
    },
    {
     "data": {
      "application/vnd.jupyter.widget-view+json": {
       "model_id": "80137268cba54708ab35692eae41196d",
       "version_major": 2,
       "version_minor": 0
      },
      "text/plain": [
       "Retrieving ElectronicStructureDoc documents:   0%|          | 0/1 [00:00<?, ?it/s]"
      ]
     },
     "metadata": {},
     "output_type": "display_data"
    },
    {
     "data": {
      "application/vnd.jupyter.widget-view+json": {
       "model_id": "9dc48a5a17784e6997b3eb52f50d5682",
       "version_major": 2,
       "version_minor": 0
      },
      "text/plain": [
       "Retrieving ElectronicStructureDoc documents:   0%|          | 0/1 [00:00<?, ?it/s]"
      ]
     },
     "metadata": {},
     "output_type": "display_data"
    },
    {
     "data": {
      "application/vnd.jupyter.widget-view+json": {
       "model_id": "07c9e537cd0540d8ac3e8e770cb1dcfd",
       "version_major": 2,
       "version_minor": 0
      },
      "text/plain": [
       "Retrieving ElectronicStructureDoc documents:   0%|          | 0/1 [00:00<?, ?it/s]"
      ]
     },
     "metadata": {},
     "output_type": "display_data"
    },
    {
     "data": {
      "application/vnd.jupyter.widget-view+json": {
       "model_id": "846edd5411864afc92151c3813d81659",
       "version_major": 2,
       "version_minor": 0
      },
      "text/plain": [
       "Retrieving ElectronicStructureDoc documents:   0%|          | 0/1 [00:00<?, ?it/s]"
      ]
     },
     "metadata": {},
     "output_type": "display_data"
    },
    {
     "data": {
      "application/vnd.jupyter.widget-view+json": {
       "model_id": "ebf5bf6bc512456b955d426790191e36",
       "version_major": 2,
       "version_minor": 0
      },
      "text/plain": [
       "Retrieving ElectronicStructureDoc documents:   0%|          | 0/1 [00:00<?, ?it/s]"
      ]
     },
     "metadata": {},
     "output_type": "display_data"
    },
    {
     "data": {
      "application/vnd.jupyter.widget-view+json": {
       "model_id": "a626d46c0f984036bdb334f36c603974",
       "version_major": 2,
       "version_minor": 0
      },
      "text/plain": [
       "Retrieving ElectronicStructureDoc documents:   0%|          | 0/1 [00:00<?, ?it/s]"
      ]
     },
     "metadata": {},
     "output_type": "display_data"
    },
    {
     "data": {
      "application/vnd.jupyter.widget-view+json": {
       "model_id": "519b670736ef43c88ebb4f035290f869",
       "version_major": 2,
       "version_minor": 0
      },
      "text/plain": [
       "Retrieving ElectronicStructureDoc documents:   0%|          | 0/1 [00:00<?, ?it/s]"
      ]
     },
     "metadata": {},
     "output_type": "display_data"
    },
    {
     "data": {
      "application/vnd.jupyter.widget-view+json": {
       "model_id": "3b8bafa76a0c45a3aa90154f7a75c9e1",
       "version_major": 2,
       "version_minor": 0
      },
      "text/plain": [
       "Retrieving ElectronicStructureDoc documents:   0%|          | 0/1 [00:00<?, ?it/s]"
      ]
     },
     "metadata": {},
     "output_type": "display_data"
    },
    {
     "data": {
      "application/vnd.jupyter.widget-view+json": {
       "model_id": "7c39722977c140feb130150c589955f5",
       "version_major": 2,
       "version_minor": 0
      },
      "text/plain": [
       "Retrieving ElectronicStructureDoc documents:   0%|          | 0/1 [00:00<?, ?it/s]"
      ]
     },
     "metadata": {},
     "output_type": "display_data"
    },
    {
     "data": {
      "application/vnd.jupyter.widget-view+json": {
       "model_id": "a7c2964a493d40e38a21438ad5f07a0e",
       "version_major": 2,
       "version_minor": 0
      },
      "text/plain": [
       "Retrieving ElectronicStructureDoc documents:   0%|          | 0/1 [00:00<?, ?it/s]"
      ]
     },
     "metadata": {},
     "output_type": "display_data"
    },
    {
     "data": {
      "application/vnd.jupyter.widget-view+json": {
       "model_id": "8810542d12e6443290766bb9c421e1fa",
       "version_major": 2,
       "version_minor": 0
      },
      "text/plain": [
       "Retrieving ElectronicStructureDoc documents:   0%|          | 0/1 [00:00<?, ?it/s]"
      ]
     },
     "metadata": {},
     "output_type": "display_data"
    },
    {
     "data": {
      "application/vnd.jupyter.widget-view+json": {
       "model_id": "73540830b4024211b9ad1ba806999aba",
       "version_major": 2,
       "version_minor": 0
      },
      "text/plain": [
       "Retrieving ElectronicStructureDoc documents:   0%|          | 0/1 [00:00<?, ?it/s]"
      ]
     },
     "metadata": {},
     "output_type": "display_data"
    },
    {
     "data": {
      "application/vnd.jupyter.widget-view+json": {
       "model_id": "9c9e54b53adf41f396db0dee0000de53",
       "version_major": 2,
       "version_minor": 0
      },
      "text/plain": [
       "Retrieving ElectronicStructureDoc documents:   0%|          | 0/1 [00:00<?, ?it/s]"
      ]
     },
     "metadata": {},
     "output_type": "display_data"
    },
    {
     "data": {
      "application/vnd.jupyter.widget-view+json": {
       "model_id": "79e121fec5094e84ad7dad40b4b6883c",
       "version_major": 2,
       "version_minor": 0
      },
      "text/plain": [
       "Retrieving ElectronicStructureDoc documents:   0%|          | 0/1 [00:00<?, ?it/s]"
      ]
     },
     "metadata": {},
     "output_type": "display_data"
    },
    {
     "data": {
      "application/vnd.jupyter.widget-view+json": {
       "model_id": "2c26cae7039a46a6a368d9524b3839e6",
       "version_major": 2,
       "version_minor": 0
      },
      "text/plain": [
       "Retrieving ElectronicStructureDoc documents:   0%|          | 0/1 [00:00<?, ?it/s]"
      ]
     },
     "metadata": {},
     "output_type": "display_data"
    },
    {
     "data": {
      "application/vnd.jupyter.widget-view+json": {
       "model_id": "7a6391a14133484ca7d96e7d86a49687",
       "version_major": 2,
       "version_minor": 0
      },
      "text/plain": [
       "Retrieving ElectronicStructureDoc documents:   0%|          | 0/1 [00:00<?, ?it/s]"
      ]
     },
     "metadata": {},
     "output_type": "display_data"
    },
    {
     "data": {
      "application/vnd.jupyter.widget-view+json": {
       "model_id": "0cb742e19fe74615b7765cc03b5fac0c",
       "version_major": 2,
       "version_minor": 0
      },
      "text/plain": [
       "Retrieving ElectronicStructureDoc documents:   0%|          | 0/1 [00:00<?, ?it/s]"
      ]
     },
     "metadata": {},
     "output_type": "display_data"
    },
    {
     "data": {
      "application/vnd.jupyter.widget-view+json": {
       "model_id": "9a62722e43364cec89e7f95df50337a9",
       "version_major": 2,
       "version_minor": 0
      },
      "text/plain": [
       "Retrieving ElectronicStructureDoc documents:   0%|          | 0/1 [00:00<?, ?it/s]"
      ]
     },
     "metadata": {},
     "output_type": "display_data"
    },
    {
     "data": {
      "application/vnd.jupyter.widget-view+json": {
       "model_id": "3e3488ca026f414f91c68bf2f08e0c7a",
       "version_major": 2,
       "version_minor": 0
      },
      "text/plain": [
       "Retrieving ElectronicStructureDoc documents:   0%|          | 0/1 [00:00<?, ?it/s]"
      ]
     },
     "metadata": {},
     "output_type": "display_data"
    },
    {
     "data": {
      "application/vnd.jupyter.widget-view+json": {
       "model_id": "1c31b516449848a59cb6b1d7f59cd777",
       "version_major": 2,
       "version_minor": 0
      },
      "text/plain": [
       "Retrieving ElectronicStructureDoc documents:   0%|          | 0/1 [00:00<?, ?it/s]"
      ]
     },
     "metadata": {},
     "output_type": "display_data"
    },
    {
     "data": {
      "application/vnd.jupyter.widget-view+json": {
       "model_id": "c8cafe3768dc44d4ab989cc67ca20b18",
       "version_major": 2,
       "version_minor": 0
      },
      "text/plain": [
       "Retrieving ElectronicStructureDoc documents:   0%|          | 0/1 [00:00<?, ?it/s]"
      ]
     },
     "metadata": {},
     "output_type": "display_data"
    },
    {
     "data": {
      "application/vnd.jupyter.widget-view+json": {
       "model_id": "01f0b34fad11490b8400279065e51aad",
       "version_major": 2,
       "version_minor": 0
      },
      "text/plain": [
       "Retrieving ElectronicStructureDoc documents:   0%|          | 0/1 [00:00<?, ?it/s]"
      ]
     },
     "metadata": {},
     "output_type": "display_data"
    },
    {
     "data": {
      "application/vnd.jupyter.widget-view+json": {
       "model_id": "0da36d5c0cb34f2aa81d28cfd141e96a",
       "version_major": 2,
       "version_minor": 0
      },
      "text/plain": [
       "Retrieving ElectronicStructureDoc documents:   0%|          | 0/1 [00:00<?, ?it/s]"
      ]
     },
     "metadata": {},
     "output_type": "display_data"
    },
    {
     "data": {
      "application/vnd.jupyter.widget-view+json": {
       "model_id": "aef7fe0fed834b7fb888b93718c6156e",
       "version_major": 2,
       "version_minor": 0
      },
      "text/plain": [
       "Retrieving ElectronicStructureDoc documents:   0%|          | 0/1 [00:00<?, ?it/s]"
      ]
     },
     "metadata": {},
     "output_type": "display_data"
    },
    {
     "data": {
      "application/vnd.jupyter.widget-view+json": {
       "model_id": "386db67641e14e5688aed3e070cc22d4",
       "version_major": 2,
       "version_minor": 0
      },
      "text/plain": [
       "Retrieving ElectronicStructureDoc documents:   0%|          | 0/1 [00:00<?, ?it/s]"
      ]
     },
     "metadata": {},
     "output_type": "display_data"
    },
    {
     "data": {
      "application/vnd.jupyter.widget-view+json": {
       "model_id": "b0cdc5c777004162bb5ffc6bd9f5055d",
       "version_major": 2,
       "version_minor": 0
      },
      "text/plain": [
       "Retrieving ElectronicStructureDoc documents:   0%|          | 0/1 [00:00<?, ?it/s]"
      ]
     },
     "metadata": {},
     "output_type": "display_data"
    },
    {
     "data": {
      "application/vnd.jupyter.widget-view+json": {
       "model_id": "178249dbc31a44d488c1ce984b7f286c",
       "version_major": 2,
       "version_minor": 0
      },
      "text/plain": [
       "Retrieving ElectronicStructureDoc documents:   0%|          | 0/1 [00:00<?, ?it/s]"
      ]
     },
     "metadata": {},
     "output_type": "display_data"
    },
    {
     "data": {
      "application/vnd.jupyter.widget-view+json": {
       "model_id": "c43eedc0e6824a54b884c9be8e5364b3",
       "version_major": 2,
       "version_minor": 0
      },
      "text/plain": [
       "Retrieving ElectronicStructureDoc documents:   0%|          | 0/1 [00:00<?, ?it/s]"
      ]
     },
     "metadata": {},
     "output_type": "display_data"
    },
    {
     "data": {
      "application/vnd.jupyter.widget-view+json": {
       "model_id": "f3f701c339bd4b0e85a64ce15a493e78",
       "version_major": 2,
       "version_minor": 0
      },
      "text/plain": [
       "Retrieving ElectronicStructureDoc documents:   0%|          | 0/1 [00:00<?, ?it/s]"
      ]
     },
     "metadata": {},
     "output_type": "display_data"
    },
    {
     "data": {
      "application/vnd.jupyter.widget-view+json": {
       "model_id": "9f776014e7af4d05a9b9c2b342769854",
       "version_major": 2,
       "version_minor": 0
      },
      "text/plain": [
       "Retrieving ElectronicStructureDoc documents:   0%|          | 0/1 [00:00<?, ?it/s]"
      ]
     },
     "metadata": {},
     "output_type": "display_data"
    },
    {
     "data": {
      "application/vnd.jupyter.widget-view+json": {
       "model_id": "59ac93b4a5994879a8bc9d6b1cb9ce59",
       "version_major": 2,
       "version_minor": 0
      },
      "text/plain": [
       "Retrieving ElectronicStructureDoc documents:   0%|          | 0/1 [00:00<?, ?it/s]"
      ]
     },
     "metadata": {},
     "output_type": "display_data"
    },
    {
     "data": {
      "application/vnd.jupyter.widget-view+json": {
       "model_id": "e614f67919c8404bbd212bb72c17309d",
       "version_major": 2,
       "version_minor": 0
      },
      "text/plain": [
       "Retrieving ElectronicStructureDoc documents:   0%|          | 0/1 [00:00<?, ?it/s]"
      ]
     },
     "metadata": {},
     "output_type": "display_data"
    },
    {
     "data": {
      "application/vnd.jupyter.widget-view+json": {
       "model_id": "d7b2276a5ee149d4b140b0ad99d5adbc",
       "version_major": 2,
       "version_minor": 0
      },
      "text/plain": [
       "Retrieving ElectronicStructureDoc documents:   0%|          | 0/1 [00:00<?, ?it/s]"
      ]
     },
     "metadata": {},
     "output_type": "display_data"
    },
    {
     "data": {
      "application/vnd.jupyter.widget-view+json": {
       "model_id": "97e0271e4e6d4b25a26b4e125cc03797",
       "version_major": 2,
       "version_minor": 0
      },
      "text/plain": [
       "Retrieving ElectronicStructureDoc documents:   0%|          | 0/1 [00:00<?, ?it/s]"
      ]
     },
     "metadata": {},
     "output_type": "display_data"
    },
    {
     "data": {
      "application/vnd.jupyter.widget-view+json": {
       "model_id": "8862bf956c2b44ef82631ab5e4d0818a",
       "version_major": 2,
       "version_minor": 0
      },
      "text/plain": [
       "Retrieving ElectronicStructureDoc documents:   0%|          | 0/1 [00:00<?, ?it/s]"
      ]
     },
     "metadata": {},
     "output_type": "display_data"
    },
    {
     "data": {
      "application/vnd.jupyter.widget-view+json": {
       "model_id": "6d6361bd3b1348789f5a0e7985b96a91",
       "version_major": 2,
       "version_minor": 0
      },
      "text/plain": [
       "Retrieving ElectronicStructureDoc documents:   0%|          | 0/1 [00:00<?, ?it/s]"
      ]
     },
     "metadata": {},
     "output_type": "display_data"
    },
    {
     "data": {
      "application/vnd.jupyter.widget-view+json": {
       "model_id": "c5276e84a7dc45a6b041a88540c066ea",
       "version_major": 2,
       "version_minor": 0
      },
      "text/plain": [
       "Retrieving ElectronicStructureDoc documents:   0%|          | 0/1 [00:00<?, ?it/s]"
      ]
     },
     "metadata": {},
     "output_type": "display_data"
    },
    {
     "data": {
      "application/vnd.jupyter.widget-view+json": {
       "model_id": "8398f925ae8f44c5af98e0b1e641ea20",
       "version_major": 2,
       "version_minor": 0
      },
      "text/plain": [
       "Retrieving ElectronicStructureDoc documents:   0%|          | 0/1 [00:00<?, ?it/s]"
      ]
     },
     "metadata": {},
     "output_type": "display_data"
    },
    {
     "data": {
      "application/vnd.jupyter.widget-view+json": {
       "model_id": "0dd9b312608d44869d02d90aa9294fa6",
       "version_major": 2,
       "version_minor": 0
      },
      "text/plain": [
       "Retrieving ElectronicStructureDoc documents:   0%|          | 0/1 [00:00<?, ?it/s]"
      ]
     },
     "metadata": {},
     "output_type": "display_data"
    },
    {
     "data": {
      "application/vnd.jupyter.widget-view+json": {
       "model_id": "854b5d805fd64f43aa404d3c6dc82c22",
       "version_major": 2,
       "version_minor": 0
      },
      "text/plain": [
       "Retrieving ElectronicStructureDoc documents:   0%|          | 0/1 [00:00<?, ?it/s]"
      ]
     },
     "metadata": {},
     "output_type": "display_data"
    },
    {
     "data": {
      "application/vnd.jupyter.widget-view+json": {
       "model_id": "3e87bf5066bc47009b403137a5f90ff9",
       "version_major": 2,
       "version_minor": 0
      },
      "text/plain": [
       "Retrieving ElectronicStructureDoc documents:   0%|          | 0/1 [00:00<?, ?it/s]"
      ]
     },
     "metadata": {},
     "output_type": "display_data"
    },
    {
     "data": {
      "application/vnd.jupyter.widget-view+json": {
       "model_id": "f6297116122c4cd6bad62e0b2eafb5ae",
       "version_major": 2,
       "version_minor": 0
      },
      "text/plain": [
       "Retrieving ElectronicStructureDoc documents:   0%|          | 0/1 [00:00<?, ?it/s]"
      ]
     },
     "metadata": {},
     "output_type": "display_data"
    },
    {
     "data": {
      "application/vnd.jupyter.widget-view+json": {
       "model_id": "d368238d1bf94aed8beebea9c6ac80fb",
       "version_major": 2,
       "version_minor": 0
      },
      "text/plain": [
       "Retrieving ElectronicStructureDoc documents:   0%|          | 0/1 [00:00<?, ?it/s]"
      ]
     },
     "metadata": {},
     "output_type": "display_data"
    },
    {
     "data": {
      "application/vnd.jupyter.widget-view+json": {
       "model_id": "3b32897fb2f148f69db6a591a1a614e3",
       "version_major": 2,
       "version_minor": 0
      },
      "text/plain": [
       "Retrieving ElectronicStructureDoc documents:   0%|          | 0/1 [00:00<?, ?it/s]"
      ]
     },
     "metadata": {},
     "output_type": "display_data"
    },
    {
     "data": {
      "application/vnd.jupyter.widget-view+json": {
       "model_id": "5f840fa51a2d41c6995df1e5f7de6fcb",
       "version_major": 2,
       "version_minor": 0
      },
      "text/plain": [
       "Retrieving ElectronicStructureDoc documents:   0%|          | 0/1 [00:00<?, ?it/s]"
      ]
     },
     "metadata": {},
     "output_type": "display_data"
    },
    {
     "data": {
      "application/vnd.jupyter.widget-view+json": {
       "model_id": "4969dc26fde946da8a69ab3b22a717b6",
       "version_major": 2,
       "version_minor": 0
      },
      "text/plain": [
       "Retrieving ElectronicStructureDoc documents:   0%|          | 0/1 [00:00<?, ?it/s]"
      ]
     },
     "metadata": {},
     "output_type": "display_data"
    },
    {
     "data": {
      "application/vnd.jupyter.widget-view+json": {
       "model_id": "395e758dd19542cebbc11f261eab2ffa",
       "version_major": 2,
       "version_minor": 0
      },
      "text/plain": [
       "Retrieving ElectronicStructureDoc documents:   0%|          | 0/1 [00:00<?, ?it/s]"
      ]
     },
     "metadata": {},
     "output_type": "display_data"
    },
    {
     "data": {
      "application/vnd.jupyter.widget-view+json": {
       "model_id": "5162e8c8623448d6bb83bf2fb17f3262",
       "version_major": 2,
       "version_minor": 0
      },
      "text/plain": [
       "Retrieving ElectronicStructureDoc documents:   0%|          | 0/1 [00:00<?, ?it/s]"
      ]
     },
     "metadata": {},
     "output_type": "display_data"
    },
    {
     "data": {
      "application/vnd.jupyter.widget-view+json": {
       "model_id": "8ff562896ede48c081c85b4fb26a3c7a",
       "version_major": 2,
       "version_minor": 0
      },
      "text/plain": [
       "Retrieving ElectronicStructureDoc documents:   0%|          | 0/1 [00:00<?, ?it/s]"
      ]
     },
     "metadata": {},
     "output_type": "display_data"
    },
    {
     "data": {
      "application/vnd.jupyter.widget-view+json": {
       "model_id": "e125eeb41e6c486abb07760188898504",
       "version_major": 2,
       "version_minor": 0
      },
      "text/plain": [
       "Retrieving ElectronicStructureDoc documents:   0%|          | 0/1 [00:00<?, ?it/s]"
      ]
     },
     "metadata": {},
     "output_type": "display_data"
    },
    {
     "data": {
      "application/vnd.jupyter.widget-view+json": {
       "model_id": "4e8c30fb82ee45d286596ad3551d220b",
       "version_major": 2,
       "version_minor": 0
      },
      "text/plain": [
       "Retrieving ElectronicStructureDoc documents:   0%|          | 0/1 [00:00<?, ?it/s]"
      ]
     },
     "metadata": {},
     "output_type": "display_data"
    },
    {
     "data": {
      "application/vnd.jupyter.widget-view+json": {
       "model_id": "057ea6bedbdb43e4968cee60545ba6b9",
       "version_major": 2,
       "version_minor": 0
      },
      "text/plain": [
       "Retrieving ElectronicStructureDoc documents:   0%|          | 0/1 [00:00<?, ?it/s]"
      ]
     },
     "metadata": {},
     "output_type": "display_data"
    },
    {
     "data": {
      "application/vnd.jupyter.widget-view+json": {
       "model_id": "a5415611e86643ee8fac927b003af458",
       "version_major": 2,
       "version_minor": 0
      },
      "text/plain": [
       "Retrieving ElectronicStructureDoc documents:   0%|          | 0/1 [00:00<?, ?it/s]"
      ]
     },
     "metadata": {},
     "output_type": "display_data"
    },
    {
     "data": {
      "application/vnd.jupyter.widget-view+json": {
       "model_id": "f274cbbb83324bc69ba233e2f7159f60",
       "version_major": 2,
       "version_minor": 0
      },
      "text/plain": [
       "Retrieving ElectronicStructureDoc documents:   0%|          | 0/1 [00:00<?, ?it/s]"
      ]
     },
     "metadata": {},
     "output_type": "display_data"
    },
    {
     "data": {
      "application/vnd.jupyter.widget-view+json": {
       "model_id": "1cd604d08eed4a92b54eead7a7269e02",
       "version_major": 2,
       "version_minor": 0
      },
      "text/plain": [
       "Retrieving ElectronicStructureDoc documents:   0%|          | 0/1 [00:00<?, ?it/s]"
      ]
     },
     "metadata": {},
     "output_type": "display_data"
    },
    {
     "data": {
      "application/vnd.jupyter.widget-view+json": {
       "model_id": "3bea6a52bf134ee49e88e6197bc6b1ba",
       "version_major": 2,
       "version_minor": 0
      },
      "text/plain": [
       "Retrieving ElectronicStructureDoc documents:   0%|          | 0/1 [00:00<?, ?it/s]"
      ]
     },
     "metadata": {},
     "output_type": "display_data"
    },
    {
     "data": {
      "application/vnd.jupyter.widget-view+json": {
       "model_id": "e76b3189515343418caab0ed21785d70",
       "version_major": 2,
       "version_minor": 0
      },
      "text/plain": [
       "Retrieving ElectronicStructureDoc documents:   0%|          | 0/1 [00:00<?, ?it/s]"
      ]
     },
     "metadata": {},
     "output_type": "display_data"
    },
    {
     "data": {
      "application/vnd.jupyter.widget-view+json": {
       "model_id": "aa0b6f695e6b4e25aa6ed4248b9222be",
       "version_major": 2,
       "version_minor": 0
      },
      "text/plain": [
       "Retrieving ElectronicStructureDoc documents:   0%|          | 0/1 [00:00<?, ?it/s]"
      ]
     },
     "metadata": {},
     "output_type": "display_data"
    },
    {
     "data": {
      "application/vnd.jupyter.widget-view+json": {
       "model_id": "d1f6048b501e496dbc0ded1edeaa34f7",
       "version_major": 2,
       "version_minor": 0
      },
      "text/plain": [
       "Retrieving ElectronicStructureDoc documents:   0%|          | 0/1 [00:00<?, ?it/s]"
      ]
     },
     "metadata": {},
     "output_type": "display_data"
    },
    {
     "data": {
      "application/vnd.jupyter.widget-view+json": {
       "model_id": "77c727e96f4d4df8969b3dcabf8978a1",
       "version_major": 2,
       "version_minor": 0
      },
      "text/plain": [
       "Retrieving ElectronicStructureDoc documents:   0%|          | 0/1 [00:00<?, ?it/s]"
      ]
     },
     "metadata": {},
     "output_type": "display_data"
    },
    {
     "data": {
      "application/vnd.jupyter.widget-view+json": {
       "model_id": "576465ded60d4cd69f853e9d0a771162",
       "version_major": 2,
       "version_minor": 0
      },
      "text/plain": [
       "Retrieving ElectronicStructureDoc documents:   0%|          | 0/1 [00:00<?, ?it/s]"
      ]
     },
     "metadata": {},
     "output_type": "display_data"
    },
    {
     "data": {
      "application/vnd.jupyter.widget-view+json": {
       "model_id": "4a6b3b4862ba4809b97ecf08da19ce01",
       "version_major": 2,
       "version_minor": 0
      },
      "text/plain": [
       "Retrieving ElectronicStructureDoc documents:   0%|          | 0/1 [00:00<?, ?it/s]"
      ]
     },
     "metadata": {},
     "output_type": "display_data"
    },
    {
     "data": {
      "application/vnd.jupyter.widget-view+json": {
       "model_id": "918380b9efbe4be7a21beadde1a70dac",
       "version_major": 2,
       "version_minor": 0
      },
      "text/plain": [
       "Retrieving ElectronicStructureDoc documents:   0%|          | 0/1 [00:00<?, ?it/s]"
      ]
     },
     "metadata": {},
     "output_type": "display_data"
    },
    {
     "data": {
      "application/vnd.jupyter.widget-view+json": {
       "model_id": "cf31a54294bb405e93c5d656f8a709da",
       "version_major": 2,
       "version_minor": 0
      },
      "text/plain": [
       "Retrieving ElectronicStructureDoc documents:   0%|          | 0/1 [00:00<?, ?it/s]"
      ]
     },
     "metadata": {},
     "output_type": "display_data"
    },
    {
     "data": {
      "application/vnd.jupyter.widget-view+json": {
       "model_id": "38ecc44903eb4ac094018990cdd3e60b",
       "version_major": 2,
       "version_minor": 0
      },
      "text/plain": [
       "Retrieving ElectronicStructureDoc documents:   0%|          | 0/1 [00:00<?, ?it/s]"
      ]
     },
     "metadata": {},
     "output_type": "display_data"
    },
    {
     "data": {
      "application/vnd.jupyter.widget-view+json": {
       "model_id": "f9803701f2c24010a2b14a3989da29b5",
       "version_major": 2,
       "version_minor": 0
      },
      "text/plain": [
       "Retrieving ElectronicStructureDoc documents:   0%|          | 0/1 [00:00<?, ?it/s]"
      ]
     },
     "metadata": {},
     "output_type": "display_data"
    },
    {
     "data": {
      "application/vnd.jupyter.widget-view+json": {
       "model_id": "8ad45fe731c142dfa1a13e05541348a0",
       "version_major": 2,
       "version_minor": 0
      },
      "text/plain": [
       "Retrieving ElectronicStructureDoc documents:   0%|          | 0/1 [00:00<?, ?it/s]"
      ]
     },
     "metadata": {},
     "output_type": "display_data"
    },
    {
     "data": {
      "application/vnd.jupyter.widget-view+json": {
       "model_id": "ace7735ee3b746dda8a2b025dbc4d044",
       "version_major": 2,
       "version_minor": 0
      },
      "text/plain": [
       "Retrieving ElectronicStructureDoc documents:   0%|          | 0/1 [00:00<?, ?it/s]"
      ]
     },
     "metadata": {},
     "output_type": "display_data"
    }
   ],
   "source": [
    "with MPRester(api_key = '') as mpr:\n",
    "    docs = mpr.materials.summary.search(\n",
    "        band_gap=(0, 5), is_stable=True, fields=[\"material_id\"], is_gap_direct = True, num_elements=(0, 4), num_sites=(0, 4),\n",
    "        has_props=[HasProps.bandstructure]\n",
    "    )\n",
    "    gamma_directs = [mpr.get_bandstructure_by_material_id(str(i.material_id)) for i in docs]"
   ]
  },
  {
   "cell_type": "code",
   "execution_count": 70,
   "id": "c3be1a81-9473-4176-a5e1-0ccdb979d260",
   "metadata": {},
   "outputs": [],
   "source": [
    "t = gamma_directs[10]"
   ]
  },
  {
   "cell_type": "code",
   "execution_count": 71,
   "id": "ced6d2f5-f9fe-488b-a523-72084c41fa74",
   "metadata": {},
   "outputs": [
    {
     "data": {
      "text/plain": [
       "{'direct': True, 'energy': 4.4292, 'transition': '\\\\Gamma-\\\\Gamma'}"
      ]
     },
     "execution_count": 71,
     "metadata": {},
     "output_type": "execute_result"
    }
   ],
   "source": [
    "t.get_band_gap()"
   ]
  },
  {
   "cell_type": "code",
   "execution_count": 73,
   "id": "be26e44f-ce87-4577-beeb-91a054627575",
   "metadata": {},
   "outputs": [],
   "source": [
    "gamgam = [i for i in gamma_directs if i.get_band_gap()['transition'] == '\\\\Gamma-\\\\Gamma']"
   ]
  },
  {
   "cell_type": "code",
   "execution_count": 160,
   "id": "990b6dbc-4d2b-4aca-b730-c1d1c01253ba",
   "metadata": {},
   "outputs": [
    {
     "data": {
      "text/plain": [
       "14"
      ]
     },
     "execution_count": 160,
     "metadata": {},
     "output_type": "execute_result"
    }
   ],
   "source": [
    "len(borlido_gg_direct[0][-1].structure.as_dict()['sites'])"
   ]
  },
  {
   "cell_type": "code",
   "execution_count": 173,
   "id": "8264894c-097a-4315-944b-887d89c8b2d5",
   "metadata": {},
   "outputs": [],
   "source": [
    "smalls = [(i[1], i[-1]) for i in borlido_gg_direct if len(i[-1].structure.as_dict()['sites']) < 4]"
   ]
  },
  {
   "cell_type": "code",
   "execution_count": 189,
   "id": "faeabbd9-159f-4502-b291-b913fb5b232a",
   "metadata": {},
   "outputs": [
    {
     "data": {
      "text/plain": [
       "[[{'element': 'Ag', 'occu': 1}],\n",
       " [{'element': 'Ar', 'occu': 1}],\n",
       " [{'element': 'Cd', 'occu': 1}],\n",
       " [{'element': 'Cd', 'occu': 1}],\n",
       " [{'element': 'Cu', 'occu': 1}],\n",
       " [{'element': 'Cu', 'occu': 1}],\n",
       " [{'element': 'Cu', 'occu': 1}],\n",
       " [{'element': 'Ga', 'occu': 1}],\n",
       " [{'element': 'In', 'occu': 1}],\n",
       " [{'element': 'K', 'occu': 1}],\n",
       " [{'element': 'K', 'occu': 1}],\n",
       " [{'element': 'Kr', 'occu': 1}],\n",
       " [{'element': 'Li', 'occu': 1}],\n",
       " [{'element': 'Li', 'occu': 1}],\n",
       " [{'element': 'Mg', 'occu': 1}],\n",
       " [{'element': 'Na', 'occu': 1}],\n",
       " [{'element': 'Na', 'occu': 1}],\n",
       " [{'element': 'Na', 'occu': 1}],\n",
       " [{'element': 'Na', 'occu': 1}],\n",
       " [{'element': 'Rb', 'occu': 1}],\n",
       " [{'element': 'Rb', 'occu': 1}],\n",
       " [{'element': 'Rb', 'occu': 1}],\n",
       " [{'element': 'Xe', 'occu': 1}],\n",
       " [{'element': 'Y', 'occu': 1}],\n",
       " [{'element': 'Zn', 'occu': 1}],\n",
       " [{'element': 'Zn', 'occu': 1}]]"
      ]
     },
     "execution_count": 189,
     "metadata": {},
     "output_type": "execute_result"
    }
   ],
   "source": [
    "[i[1].structure.as_dict()['sites'][0]['species'] for i in smalls]"
   ]
  },
  {
   "cell_type": "code",
   "execution_count": 4,
   "id": "5bcfd050-1fd8-4cf3-926d-3fab16049a8b",
   "metadata": {},
   "outputs": [],
   "source": [
    "mpr = MPRester(api_key = '')"
   ]
  },
  {
   "cell_type": "code",
   "execution_count": 164,
   "id": "1f3051d1-6190-4582-9d0f-4c24f071db0b",
   "metadata": {},
   "outputs": [
    {
     "data": {
      "text/plain": [
       "{'direct': True, 'energy': 1.3674, 'transition': '\\\\Gamma-\\\\Gamma'}"
      ]
     },
     "execution_count": 164,
     "metadata": {},
     "output_type": "execute_result"
    }
   ],
   "source": [
    "# mp = mpr.get_bandstructure_by_material_id('mp-1266')\n",
    "mp = smalls[0]\n",
    "mps = mp.structure.as_dict()\n",
    "mp.get_band_gap()"
   ]
  },
  {
   "cell_type": "code",
   "execution_count": 165,
   "id": "75c3b042-971d-4d44-93de-7a8dba1e6c34",
   "metadata": {},
   "outputs": [],
   "source": [
    "rets = mps\n",
    "at_coor_xyz = [ (i['species'][0]['element'], i['xyz']) for i in rets['sites']]\n",
    "at_coor_abc = [ (i['species'][0]['element'], [rets['lattice']['a']*j for j in i['abc']]) for i in rets['sites']]\n",
    "lat = np.array(rets['lattice']['matrix'])\n",
    "if np.linalg.det(lat) < 1:\n",
    "    print('left handed array, switching')\n",
    "    lat = -np.array([lat[-1], lat[1], lat[0]])"
   ]
  },
  {
   "cell_type": "code",
   "execution_count": 166,
   "id": "a110556a-20b4-47db-bd26-705dfbee0a98",
   "metadata": {},
   "outputs": [
    {
     "data": {
      "text/plain": [
       "73.21955895634993"
      ]
     },
     "execution_count": 166,
     "metadata": {},
     "output_type": "execute_result"
    }
   ],
   "source": [
    "np.linalg.det(lat)"
   ]
  },
  {
   "cell_type": "code",
   "execution_count": 167,
   "id": "4068fbda-82b0-4975-ae27-dfe83b215c5a",
   "metadata": {},
   "outputs": [
    {
     "data": {
      "text/plain": [
       "array([[0.      , 3.320466, 3.320466],\n",
       "       [3.320466, 0.      , 3.320466],\n",
       "       [3.320466, 3.320466, 0.      ]])"
      ]
     },
     "execution_count": 167,
     "metadata": {},
     "output_type": "execute_result"
    }
   ],
   "source": [
    "lat"
   ]
  },
  {
   "cell_type": "code",
   "execution_count": 168,
   "id": "628f4d83-0d3b-4ac0-861c-4da8005aadc2",
   "metadata": {},
   "outputs": [
    {
     "data": {
      "text/plain": [
       "[('Ag', [0.0, 0.0, 0.0]),\n",
       " ('I', [3.5218860379490566, 3.5218860379490566, 3.5218860379490566])]"
      ]
     },
     "execution_count": 168,
     "metadata": {},
     "output_type": "execute_result"
    }
   ],
   "source": [
    "at_coor_abc"
   ]
  },
  {
   "cell_type": "code",
   "execution_count": null,
   "id": "7345b47a-baf2-41b2-b07a-a7642f54752a",
   "metadata": {
    "scrolled": true
   },
   "outputs": [
    {
     "name": "stdout",
     "output_type": "stream",
     "text": [
      "arg.atm = [[11 20  1 23  0  0]\n",
      " [ 7 24  1 27  0  0]]\n",
      "arg.bas = [[  0   0   3   1   0  28  31   0]\n",
      " [  0   0   1   1   0  34  35   0]\n",
      " [  0   0   1   1   0  36  37   0]\n",
      " [  0   0   1   1   0  38  39   0]\n",
      " [  0   0   1   1   0  40  41   0]\n",
      " [  0   1   4   1   0  42  46   0]\n",
      " [  0   1   1   1   0  50  51   0]\n",
      " [  0   1   1   1   0  52  53   0]\n",
      " [  0   2   4   1   0  54  58   0]\n",
      " [  0   2   1   1   0  62  63   0]\n",
      " [  0   3   1   1   0  64  65   0]\n",
      " [  1   0   6   1   0  66  72   0]\n",
      " [  1   0   2   1   0  78  80   0]\n",
      " [  1   0   1   1   0  82  83   0]\n",
      " [  1   0   1   1   0  84  85   0]\n",
      " [  1   1   4   1   0  86  90   0]\n",
      " [  1   1   1   1   0  94  95   0]\n",
      " [  1   1   1   1   0  96  97   0]\n",
      " [  1   1   1   1   0  98  99   0]\n",
      " [  1   2   5   1   0 100 105   0]\n",
      " [  1   2   1   1   0 110 111   0]]\n",
      "arg.env = [ 0.00000000e+00  0.00000000e+00  0.00000000e+00  0.00000000e+00\n",
      "  0.00000000e+00  0.00000000e+00  0.00000000e+00  0.00000000e+00\n",
      "  0.00000000e+00  0.00000000e+00  0.00000000e+00  0.00000000e+00\n",
      "  0.00000000e+00  0.00000000e+00  0.00000000e+00  0.00000000e+00\n",
      "  0.00000000e+00  0.00000000e+00  0.00000000e+00  0.00000000e+00\n",
      "  0.00000000e+00  0.00000000e+00  0.00000000e+00  0.00000000e+00\n",
      "  6.65540005e+00  6.65540005e+00  6.65540005e+00  0.00000000e+00\n",
      "  9.08844200e+00  7.54073100e+00  2.79400500e+00 -2.53536105e+01\n",
      "  3.06594806e+01  1.20033618e+00  1.49181358e+00  3.41036563e+00\n",
      "  6.35791594e-01  1.79887552e+00  1.03684142e-01  4.61635583e-01\n",
      "  3.74600044e-02  2.15125004e-01  4.45124000e+00  3.67526300e+00\n",
      "  1.26106209e+00  5.42124775e-01 -1.89229531e+01  1.57409933e+01\n",
      "  2.54890936e+00  3.51107464e-01  2.02216170e-01  3.95598143e-01\n",
      "  4.12000000e-02  5.41509291e-02  7.79566723e+00  2.89265102e+00\n",
      "  1.24742732e+00  4.93138177e-01 -1.75398854e+00  4.25676211e+00\n",
      "  1.86514874e+00  3.20790941e-01  1.72850326e-01  1.20907222e-01\n",
      "  1.39711000e+00  4.18580714e+00  4.45904892e+02  2.33368424e+01\n",
      "  1.95834461e+01  8.51120892e+00  2.19961619e+00  1.06689705e+00\n",
      "  5.39979780e-01 -4.42000305e+00  9.42019774e+00 -1.04536160e+01\n",
      "  4.15415926e+00  1.22916479e+00  1.17205476e+01  1.76259864e+00\n",
      " -7.51751158e-01  3.96236824e+00  2.86974763e-01  9.90598814e-01\n",
      "  1.12276096e-01  4.90038839e-01  2.04990273e+01  1.05587546e+01\n",
      "  1.50158955e+00  6.45971731e-01  1.07603590e+01 -2.33498236e+01\n",
      "  4.44046976e+00  3.10826767e-01  3.02886568e+00  1.16569359e+01\n",
      "  3.45065918e-01  7.71546270e-01  1.11345138e-01  1.87639154e-01\n",
      "  5.12353549e+01  1.56162395e+01  4.52660021e+00  2.05298088e+00\n",
      "  8.76402816e-01  1.05007654e+01 -1.65208567e+00  1.08627166e+01\n",
      "  4.77712045e+00  6.57679809e-01  3.09000000e-01  3.34161741e-01]\n",
      "ecpbas  = []\n",
      "Discarded 2 diffused primitive functions, 0 contracted functions\n",
      "System: uname_result(system='Linux', node='raider', release='6.5.0-27-generic', version='#28~22.04.1-Ubuntu SMP PREEMPT_DYNAMIC Fri Mar 15 10:51:06 UTC 2', machine='x86_64')  Threads 20\n",
      "Python 3.10.0 (default, Mar  3 2022, 09:58:08) [GCC 7.5.0]\n",
      "numpy 1.26.4  scipy 1.11.4\n",
      "Date: Wed Apr 10 15:09:20 2024\n",
      "PySCF version 2.3.0\n",
      "PySCF path  /home/awills/anaconda3/envs/pyscfad/lib/python3.10/site-packages/pyscf\n",
      "\n",
      "[CONFIG] ARGPARSE = False\n",
      "[CONFIG] DEBUG = False\n",
      "[CONFIG] MAX_MEMORY = 4000\n",
      "[CONFIG] TMPDIR = .\n",
      "[CONFIG] UNIT = angstrom\n",
      "[CONFIG] VERBOSE = 3\n",
      "[CONFIG] conf_file = /home/awills/.pyscf_conf.py\n",
      "[CONFIG] pyscf_numpy_backend = jax\n",
      "[CONFIG] pyscf_scipy_backend = jax\n",
      "[CONFIG] pyscf_scipy_linalg_backend = pyscfad\n",
      "[CONFIG] pyscfad = True\n",
      "[CONFIG] pyscfad_ccsd_implicit_diff = True\n",
      "[CONFIG] pyscfad_scf_implicit_diff = True\n",
      "[INPUT] verbose = 9\n",
      "[INPUT] max_memory = 4000 \n",
      "[INPUT] num. atoms = 2\n",
      "[INPUT] num. electrons = 18\n",
      "[INPUT] charge = 0\n",
      "[INPUT] spin (= nelec alpha-beta = 2S) = 0\n",
      "[INPUT] symmetry False subgroup None\n",
      "[INPUT] Mole.unit = angstrom\n",
      "[INPUT] Symbol           X                Y                Z      unit          X                Y                Z       unit  Magmom\n",
      "[INPUT]  1 Ag     0.000000000000   0.000000000000   0.000000000000 AA    0.000000000000   0.000000000000   0.000000000000 Bohr   0.0\n",
      "[INPUT]  2 I      3.521886037949   3.521886037949   3.521886037949 AA    6.655400053653   6.655400053653   6.655400053653 Bohr   0.0\n",
      "[INPUT] ---------------- BASIS SET ---------------- \n",
      "[INPUT] l, kappa, [nprim/nctr], expnt,             c_1 c_2 ...\n",
      "[INPUT] Ag\n",
      "[INPUT] 0    0    [3    /1   ]  9.088442          -1.9808918797\n",
      "                                7.540731          2.7554513347\n",
      "                                2.794005          0.22715408381\n",
      "[INPUT] 0    0    [1    /1   ]  1.4918135849         1\n",
      "[INPUT] 0    0    [1    /1   ]  0.63579159445        1\n",
      "[INPUT] 0    0    [1    /1   ]  0.10368414161        1\n",
      "[INPUT] 1    0    [4    /1   ]  4.45124           -0.99352103771\n",
      "                                3.675263          1.0500525237\n",
      "                                1.2610620905      0.64747532537\n",
      "                                0.54212477498     0.25621550723\n",
      "[INPUT] 1    0    [1    /1   ]  0.20221617026        1\n",
      "[INPUT] 2    0    [4    /1   ]  7.7956672292      -0.017042912377\n",
      "                                2.8926510238      0.23446154803\n",
      "                                1.2474273203      0.44765877533\n",
      "                                0.49313817671     0.3906495456\n",
      "[INPUT] 2    0    [1    /1   ]  0.17285032603        1\n",
      "[INPUT] 3    0    [1    /1   ]  1.39711              1\n",
      "[INPUT] I\n",
      "[INPUT] 0    0    [6    /1   ]  445.90489176      0.0020037290389\n",
      "                                23.336842412      -0.14989397324\n",
      "                                19.583446104      0.36436474913\n",
      "                                8.5112089186      -0.75538138199\n",
      "                                2.1996161861      0.82816359356\n",
      "                                1.0668970454      0.4216104811\n",
      "[INPUT] 0    0    [2    /1   ]  11.720547572      -0.016160234511\n",
      "                                1.7625986449      0.35271525193\n",
      "[INPUT] 0    0    [1    /1   ]  0.28697476318        1\n",
      "[INPUT] 0    0    [1    /1   ]  0.11227609607        1\n",
      "[INPUT] 1    0    [4    /1   ]  20.499027254      0.077159335656\n",
      "                                10.558754576      -0.3837037278\n",
      "                                1.5015895485      0.83554174719\n",
      "                                0.64597173095     0.16787259488\n",
      "[INPUT] 1    0    [1    /1   ]  3.0288656771         1\n",
      "[INPUT] 1    0    [1    /1   ]  0.34506591841        1\n",
      "[INPUT] 1    0    [1    /1   ]  0.11134513813        1\n",
      "[INPUT] 2    0    [5    /1   ]  51.23535492       0.0040345130346\n",
      "                                15.616239482      -0.0050768108881\n",
      "                                4.5266002139      0.29151065356\n",
      "                                2.0529808766      0.51145783605\n",
      "                                0.87640281623     0.31232025297\n",
      "[INPUT] 2    0    [1    /1   ]  0.309                1\n",
      "\n",
      "mesh for ewald [13 13 13]\n",
      "Ewald components = 0.141685049217512, -42.2546623641835, 4.51128761147511\n",
      "nuclear repulsion = -37.6016897034908\n",
      "number of shells = 19\n",
      "number of NR pGTOs = 114\n",
      "number of NR cGTOs = 53\n",
      "basis = def2-svp\n",
      "ecp = {}\n",
      "bas 0, expnt(s) = [9.088442 7.540731 2.794005]\n",
      "bas 1, expnt(s) = [1.49181358]\n",
      "bas 2, expnt(s) = [0.63579159]\n",
      "bas 3, expnt(s) = [0.10368414]\n",
      "bas 4, expnt(s) = [4.45124    3.675263   1.26106209 0.54212477]\n",
      "bas 5, expnt(s) = [0.20221617]\n",
      "bas 6, expnt(s) = [7.79566723 2.89265102 1.24742732 0.49313818]\n",
      "bas 7, expnt(s) = [0.17285033]\n",
      "bas 8, expnt(s) = [1.39711]\n",
      "bas 9, expnt(s) = [445.90489176  23.33684241  19.5834461    8.51120892   2.19961619\n",
      "   1.06689705]\n",
      "bas 10, expnt(s) = [11.72054757  1.76259864]\n",
      "bas 11, expnt(s) = [0.28697476]\n",
      "bas 12, expnt(s) = [0.1122761]\n",
      "bas 13, expnt(s) = [20.49902725 10.55875458  1.50158955  0.64597173]\n",
      "bas 14, expnt(s) = [3.02886568]\n",
      "bas 15, expnt(s) = [0.34506592]\n",
      "bas 16, expnt(s) = [0.11134514]\n",
      "bas 17, expnt(s) = [51.23535492 15.61623948  4.52660021  2.05298088  0.87640282]\n",
      "bas 18, expnt(s) = [0.309]\n",
      "CPU time:     23519.70\n",
      "lattice vectors  a1 [0.000000000, 6.274771346, 6.274771346]\n",
      "                 a2 [6.274771346, 0.000000000, 6.274771346]\n",
      "                 a3 [6.274771346, 6.274771346, 0.000000000]\n",
      "dimension = 3\n",
      "low_dim_ft_type = None\n",
      "Cell volume = 494.11\n",
      "exp_to_discard = 0.1\n",
      "rcut = 22.768627811350093 (nimgs = [4 4 4])\n",
      "lattice sum = 693 cells\n",
      "precision = 1e-08\n",
      "pseudo = gth-pbe\n",
      "ke_cutoff = 25398.091677004133\n",
      "    = [639 639 639] mesh (260917119 PWs)\n",
      "Set gradient conv threshold to 0.000316228\n",
      "Initial guess from minao.\n",
      "Density of valence part of ANO basis will be used as initial guess for Ag\n",
      "Density of valence part of ANO basis will be used as initial guess for I\n",
      "Big error detected in the electron number of initial guess density matrix (Ne/cell = 17.0127)!\n",
      "  This can cause huge error in Fock matrix and lead to instability in SCF for low-dimensional systems.\n",
      "  DM is normalized wrt the number of electrons 18\n"
     ]
    }
   ],
   "source": [
    "cell = gtop.Cell(verbose=9)\n",
    "cell.atom = at_coor_abc\n",
    "cell.a = lat\n",
    "cell.basis = 'def2-svp'\n",
    "cell.pseudo = 'gth-pbe'\n",
    "cell.exp_to_discard = 0.1\n",
    "cell.build()\n",
    "# kpts = cell.make_kpts([2,2,2])\n",
    "mf = dftp.RKS(cell, xc='pbe')\n",
    "# mf = scfp.RHF(cell)\n",
    "e = mf.kernel()"
   ]
  },
  {
   "cell_type": "code",
   "execution_count": 179,
   "id": "4d7e5e05-1e1d-470f-8064-ab319a5d7ec5",
   "metadata": {},
   "outputs": [
    {
     "data": {
      "text/plain": [
       "(array([2., 2., 2., 2., 2., 2., 2., 2., 2., 0., 0., 0., 0.]),\n",
       " Array([-0.09812588,  0.11092826,  0.11156689,  0.11156689,  0.11292458,\n",
       "         0.11292458,  0.25918294,  0.25918294,  0.26567128,  0.54306331,\n",
       "         0.56076239,  0.56076239,  0.69535016], dtype=float64))"
      ]
     },
     "execution_count": 179,
     "metadata": {},
     "output_type": "execute_result"
    }
   ],
   "source": [
    "mf.mo_occ, mf.mo_energy"
   ]
  },
  {
   "cell_type": "code",
   "execution_count": 180,
   "id": "d339ce21-0790-4b21-a901-3fa71649830c",
   "metadata": {},
   "outputs": [
    {
     "data": {
      "text/plain": [
       "(Array([-0.64118919, -0.43213505, -0.43149642, -0.43149642, -0.43013873,\n",
       "        -0.43013873, -0.28388037, -0.28388037, -0.27739204,  0.        ,\n",
       "         0.01769908,  0.01769908,  0.15228685], dtype=float64),\n",
       " Array([-0.36379716, -0.15474302, -0.15410438, -0.15410438, -0.1527467 ,\n",
       "        -0.1527467 , -0.00648833, -0.00648833,  0.        ,  0.27739204,\n",
       "         0.29509111,  0.29509111,  0.42967889], dtype=float64),\n",
       " Array([-0.09812588,  0.11092826,  0.11156689,  0.11156689,  0.11292458,\n",
       "         0.11292458,  0.25918294,  0.25918294,  0.26567128,  0.54306331,\n",
       "         0.56076239,  0.56076239,  0.69535016], dtype=float64),\n",
       " array([2., 2., 2., 2., 2., 2., 2., 2., 2., 0., 0., 0., 0.]))"
      ]
     },
     "execution_count": 180,
     "metadata": {},
     "output_type": "execute_result"
    }
   ],
   "source": [
    "mf.mo_energy - mf.mo_energy[mf.mo_occ == 0][0], mf.mo_energy - mf.mo_energy[mf.mol.nelectron//2-1], mf.mo_energy, mf.mo_occ"
   ]
  },
  {
   "cell_type": "code",
   "execution_count": 16,
   "id": "59b374f4-8726-4416-a0de-7b7085173a52",
   "metadata": {},
   "outputs": [],
   "source": [
    "a1 = bulk('Si', a=3.867114, b=3.867114, c=3.867114, alpha=60)"
   ]
  },
  {
   "cell_type": "code",
   "execution_count": 17,
   "id": "60255e2b-b21b-4888-92be-85194d485f3b",
   "metadata": {},
   "outputs": [
    {
     "data": {
      "text/plain": [
       "Cell([[0.0, 1.933557, 1.933557], [1.933557, 0.0, 1.933557], [1.933557, 1.933557, 0.0]])"
      ]
     },
     "execution_count": 17,
     "metadata": {},
     "output_type": "execute_result"
    }
   ],
   "source": [
    "a1.cell"
   ]
  },
  {
   "cell_type": "code",
   "execution_count": 153,
   "id": "9f8b6799-1b7f-4bfb-a23f-669a45a43166",
   "metadata": {},
   "outputs": [
    {
     "name": "stderr",
     "output_type": "stream",
     "text": [
      "/home/awills/anaconda3/envs/pyscfad/lib/python3.10/site-packages/pyscf/pbc/gto/cell.py:243: UserWarning: Function cell.dumps drops attribute a because it is not JSON-serializable\n",
      "  warnings.warn(msg)\n"
     ]
    },
    {
     "name": "stdout",
     "output_type": "stream",
     "text": [
      "converged SCF energy = -7.21836790602506\n"
     ]
    }
   ],
   "source": [
    "mfs = []\n",
    "mols = []\n",
    "energies = []\n",
    "dms = []\n",
    "ao_evals = []\n",
    "gws = []\n",
    "eris = []\n",
    "mo_occs = []\n",
    "hcs = []\n",
    "vs = []\n",
    "ts = []\n",
    "ss = []\n",
    "hologaps = []\n",
    "ogds = []\n",
    "\n",
    "cell = gtop.Cell()\n",
    "a = 5.43\n",
    "cell.atom = [['Si', [0,0,0]],\n",
    "              ['Si', [a/4,a/4,a/4]]]\n",
    "cell.a = jnp.asarray([[0, a/2, a/2],\n",
    "                     [a/2, 0, a/2],\n",
    "                     [a/2, a/2, 0]])\n",
    "cell.basis = 'gth-szv'\n",
    "cell.pseudo = 'gth-pade'\n",
    "cell.exp_to_discard = 0.1\n",
    "cell.build()\n",
    "kpts = cell.make_kpts([2,2,2])\n",
    "mf = dftp.RKS(cell, xc='pbe0')\n",
    "mf2 = dftp.KRKS(cell, xc='pbe0', kpts=kpts)\n",
    "e = mf.kernel()\n",
    "# e2 = mf2.kernel()"
   ]
  },
  {
   "cell_type": "code",
   "execution_count": 19,
   "id": "fab19321-aedd-4aa4-8308-2e811a672aa2",
   "metadata": {},
   "outputs": [
    {
     "data": {
      "text/plain": [
       "RKS-KohnShamDFT object of <class 'pyscf.pbc.dft.rks.RKS'>"
      ]
     },
     "execution_count": 19,
     "metadata": {},
     "output_type": "execute_result"
    }
   ],
   "source": [
    "mf"
   ]
  },
  {
   "cell_type": "code",
   "execution_count": 20,
   "id": "385b6d1b-ffce-4305-ada2-bf8484c20ca6",
   "metadata": {},
   "outputs": [],
   "source": [
    "mfs = []\n",
    "mols = []\n",
    "energies = []\n",
    "dms = []\n",
    "ao_evals = []\n",
    "gws = []\n",
    "eris = []\n",
    "mo_occs = []\n",
    "hcs = []\n",
    "vs = []\n",
    "ts = []\n",
    "ss = []\n",
    "hologaps = []\n",
    "ogds = []\n",
    "\n",
    "mfs.append(mf)\n",
    "dm = mf.make_rdm1()\n",
    "dmj = jnp.array(dm)\n",
    "dmj.flags = dm.flags\n",
    "ao_eval = jnp.array(mf._numint.eval_ao(mf.mol, mf.grids.coords, deriv=2))\n",
    "energies.append(jnp.array(mf.get_veff().exc))\n",
    "dms.append(dmj)\n",
    "ogds.append(dm.shape)\n",
    "ao_evals.append(jnp.array(ao_eval))\n",
    "gws.append(jnp.array(mf.grids.weights))\n",
    "ts.append(jnp.array(mf.mol.intor('int1e_kin')))\n",
    "vs.append(jnp.array(mf.mol.intor('int1e_nuc')))\n",
    "mo_occs.append(jnp.array(mf.mo_occ))\n",
    "hcs.append(jnp.array(mf.get_hcore()))\n",
    "eris.append(jnp.array(mf.mol.intor('int2e')))\n",
    "ss.append(jnp.linalg.inv(jnp.linalg.cholesky(mf.mol.intor('int1e_ovlp'))))\n",
    "hologaps.append(jnp.array(mf.mo_energy[mf.mo_occ == 0][0] - mf.mo_energy[mf.mo_occ > 1][-1]))"
   ]
  },
  {
   "cell_type": "code",
   "execution_count": 21,
   "id": "9ee614a8-f3cf-43c4-8a65-923146f639d9",
   "metadata": {},
   "outputs": [],
   "source": [
    "class Band_gap_1shot_loss(eqx.Module):\n",
    "    def __init__(self):\n",
    "        super().__init__()\n",
    "\n",
    "    def __call__(self, model, ao_eval, gw, dm, eri, mo_occ, hc, s, ogd, refgap, mf, alpha0=0.7):\n",
    "        vgf = lambda x: model(x, ao_eval, gw, mf)\n",
    "        dmp, moep, mocp = xce.utils.get_dm_moe(dm, eri, vgf, mo_occ, hc, s, ogd, alpha0)\n",
    "        \n",
    "        efermi = moep[mf.mol.nelectron//2-1]\n",
    "        moep -= efermi\n",
    "        # print(moep)\n",
    "        moep_gap = jnp.min(moep)\n",
    "        # print(moep_gap)\n",
    "        loss = jnp.sqrt( (moep_gap - refgap)**2)\n",
    "        # print(loss)\n",
    "        return jnp.sqrt( (moep_gap - refgap)**2)\n"
   ]
  },
  {
   "cell_type": "code",
   "execution_count": 43,
   "id": "d99c82dc-8778-4077-bf32-ff6884cac7a6",
   "metadata": {},
   "outputs": [
    {
     "data": {
      "text/plain": [
       "\u001b[0;31mInit signature:\u001b[0m\n",
       "\u001b[0mxce\u001b[0m\u001b[0;34m.\u001b[0m\u001b[0mnet\u001b[0m\u001b[0;34m.\u001b[0m\u001b[0meX\u001b[0m\u001b[0;34m(\u001b[0m\u001b[0;34m\u001b[0m\n",
       "\u001b[0;34m\u001b[0m    \u001b[0mn_input\u001b[0m\u001b[0;34m,\u001b[0m\u001b[0;34m\u001b[0m\n",
       "\u001b[0;34m\u001b[0m    \u001b[0mn_hidden\u001b[0m\u001b[0;34m=\u001b[0m\u001b[0;36m16\u001b[0m\u001b[0;34m,\u001b[0m\u001b[0;34m\u001b[0m\n",
       "\u001b[0;34m\u001b[0m    \u001b[0mdepth\u001b[0m\u001b[0;34m=\u001b[0m\u001b[0;36m3\u001b[0m\u001b[0;34m,\u001b[0m\u001b[0;34m\u001b[0m\n",
       "\u001b[0;34m\u001b[0m    \u001b[0muse\u001b[0m\u001b[0;34m=\u001b[0m\u001b[0;34m[\u001b[0m\u001b[0;34m]\u001b[0m\u001b[0;34m,\u001b[0m\u001b[0;34m\u001b[0m\n",
       "\u001b[0;34m\u001b[0m    \u001b[0mueg_limit\u001b[0m\u001b[0;34m=\u001b[0m\u001b[0;32mFalse\u001b[0m\u001b[0;34m,\u001b[0m\u001b[0;34m\u001b[0m\n",
       "\u001b[0;34m\u001b[0m    \u001b[0mlob\u001b[0m\u001b[0;34m=\u001b[0m\u001b[0;36m1.804\u001b[0m\u001b[0;34m,\u001b[0m\u001b[0;34m\u001b[0m\n",
       "\u001b[0;34m\u001b[0m    \u001b[0mseed\u001b[0m\u001b[0;34m=\u001b[0m\u001b[0;36m92017\u001b[0m\u001b[0;34m,\u001b[0m\u001b[0;34m\u001b[0m\n",
       "\u001b[0;34m\u001b[0m\u001b[0;34m)\u001b[0m\u001b[0;34m\u001b[0m\u001b[0;34m\u001b[0m\u001b[0m\n",
       "\u001b[0;31mDocstring:\u001b[0m      eX(n_input, n_hidden=16, depth=3, use=[], ueg_limit=False, lob=1.804, seed=92017)\n",
       "\u001b[0;31mInit docstring:\u001b[0m\n",
       "__init__ Local exchange model based on MLP.\n",
       "\n",
       "Receives density descriptors in this order : [rho, s, alpha, nl], where the input may be truncated depending on XC-level of approximation.\n",
       "\n",
       "The MLP generated is hard-coded to have one output value -- the predicted exchange energy given a specific input from the grid.\n",
       "\n",
       ":param n_input: Input dimensions (LDA: 1, GGA: 2, meta-GGA: 3, ...)\n",
       ":type n_input: int\n",
       ":param n_hidden: Number of hidden nodes (three hidden layers used by default), defaults to 16\n",
       ":type n_hidden: int, optional\n",
       ":param depth: Depth of the MLP, defaults to 3\n",
       ":type depth: int, optional\n",
       ":param use: Only these indices are used as input to the model (can be used to omit density as input to enforce uniform density scaling). These indices are also used to enforce UEG where the assumed order is [s, alpha, ...], defaults to []\n",
       ":type use: list, optional\n",
       ":param ueg_limit: Flag to determine whether or not to enforce uniform homoegeneous electron gas limit, defaults to False\n",
       ":type ueg_limit: bool, optional\n",
       ":param lob: Enforce this value as local Lieb-Oxford bound (don't enforce if set to 0), defaults to 1.804\n",
       ":type lob: float, optional\n",
       ":param seed: Random seed used to generate initial weights and biases for the MLP, defaults to 92017\n",
       ":type seed: int, optional\n",
       "\u001b[0;31mFile:\u001b[0m           ~/anaconda3/envs/pyscfad/lib/python3.10/site-packages/xcquinox/net.py\n",
       "\u001b[0;31mType:\u001b[0m           _ModuleMeta\n",
       "\u001b[0;31mSubclasses:\u001b[0m     eX"
      ]
     },
     "metadata": {},
     "output_type": "display_data"
    }
   ],
   "source": [
    "xce.net.eX?"
   ]
  },
  {
   "cell_type": "code",
   "execution_count": 44,
   "id": "525188e3-545a-4232-952e-5f75f437b858",
   "metadata": {},
   "outputs": [
    {
     "name": "stdout",
     "output_type": "stream",
     "text": [
      "WARNING: External module \"mldftdat\" required for non-local descriptor use.s\n"
     ]
    }
   ],
   "source": [
    "#update docs, only input =2 ??? for MGGA? holdover from sebastian for some reason\n",
    "xnet = xce.net.eX(n_input = 2, n_hidden=32, depth=4, use = [1, 2], ueg_limit=True, lob=1.174)\n",
    "# I guess use default LOB\n",
    "cnet = xce.net.eC(n_input = 4, n_hidden=32, depth=4, use = [2, 3], ueg_limit=True)\n",
    "blankxc = xce.xc.eXC(grid_models = [xnet, cnet], level=3)\n",
    "p = '/home/awills/Documents/Research/xcquinox/models/pretrained/scan'\n",
    "# xc = eqx.tree_deserialise_leaves(os.path.join(p, 'xc.eqx'), blankxc)\n",
    "xc = blankxc\n",
    "nlxnet = xce.net.eX(n_input = 15, use = [], ueg_limit=True, lob=1.174)\n",
    "nlcnet = xce.net.eC(n_input = 13, use = [], ueg_limit=True)\n",
    "\n",
    "nlxc = xce.xc.eXC(grid_models = [nlxnet, nlcnet], level=4)"
   ]
  },
  {
   "cell_type": "code",
   "execution_count": 45,
   "id": "26b14320-3b22-4ad8-aec2-404fd97acfb1",
   "metadata": {},
   "outputs": [
    {
     "name": "stdout",
     "output_type": "stream",
     "text": [
      "spin_scaling = True; input descr to exc shape: (2, 50653, 3)\n",
      "eX.__call__, rho shape: (2, 50653, 3)\n",
      "spin_scaling = False; input descr to exc shape: (50653, 4)\n",
      "eC.__call__, rho shape: (50653, 4)\n"
     ]
    },
    {
     "data": {
      "text/plain": [
       "Array(-2.51022075, dtype=float64)"
      ]
     },
     "execution_count": 45,
     "metadata": {},
     "output_type": "execute_result"
    }
   ],
   "source": [
    "\n",
    "xc(dms[0], ao_evals[0], gws[0])"
   ]
  },
  {
   "cell_type": "code",
   "execution_count": 24,
   "id": "e03609d2-627a-44e4-a557-ed12c4f4d975",
   "metadata": {},
   "outputs": [],
   "source": [
    "class Band_gap_janak_loss(eqx.Module):\n",
    "    def __init__(self):\n",
    "        \"\"\"\n",
    "        Initializer for the loss module, which attempts to find loss bang gaps w.r.t. reference\n",
    "\n",
    "        .. todo: Make more robust for non-local descriptors\n",
    "        \"\"\"\n",
    "        super().__init__()\n",
    "\n",
    "    def __call__(self, model, ao_eval, gw, dm, eri, mo_occ, hc, s, ogd, refgap, mf, alpha0=0.7):\n",
    "        \"\"\"\n",
    "        Forward pass for loss object\n",
    "\n",
    "        NOTE: This differs from HoLu loss in that it selects the deepest minimum w.r.t. the LUMO (Fermi energy)\n",
    "\n",
    "        :param model: The model that will be used in generating the molecular orbital energies ('band' energies)\n",
    "        :type model: xcquinox.xc.eXC\n",
    "        :param ao_eval: The atomic orbitals evaluated on the grid for the given molecule\n",
    "        :type ao_eval: jax.Array\n",
    "        :param gw: The grid weights associated to the current molecule's grids\n",
    "        :type gw: jax.Array\n",
    "        :param dm: Input reference density matrix for use during the one-shot forward pass to generate the new DM\n",
    "        :type dm: jax.Array\n",
    "        :param eri: Electron repulsion integrals associated with this molecule\n",
    "        :type eri: jax.Array\n",
    "        :param mo_occ: The molecule's molecular orbital occupation numbers\n",
    "        :type mo_occ: jax.Array\n",
    "        :param hc: The molecule's core Hamiltonian\n",
    "        :type hc: jax.Array\n",
    "        :param s: The molecule's overlap matrix\n",
    "        :type s: jax.Array\n",
    "        :param ogd: The original dimensions of this molecule's density matrix, used if padded to constrict the eigendecomposition to a relevant shape\n",
    "        :type ogd: jax.Array\n",
    "        :param refgap: The reference gap to optimzie against\n",
    "        :type refgap: jax.Array\n",
    "        :param mf: A pyscf(ad) converged calculation kernel if self.level > 3, used for building the CIDER nonlocal descriptors, defaults to None\n",
    "        :type mf: pyscfad.dft.RKS kernel\n",
    "        :param alpha0: The mixing parameter for the one-shot density matrix generation, defaults to 0.7\n",
    "        :type alpha0: float, optional\n",
    "        :return: Root-squared error between predicted gap (minimum of molecular energies) and the reference\n",
    "        :rtype: jax.Array\n",
    "        \"\"\"\n",
    "        def janak_theorem_deriv(model, ao_eval, gw, dm, eri, hc, s, ogd, alpha0=0.7):\n",
    "            def ret_func(mo_occ):\n",
    "                vgf = lambda x: model(x, ao_eval, gw)\n",
    "                dmp, moep, mocp = xce.utils.get_dm_moe(dm, eri, vgf, mo_occ, hc, s, ogd, alpha0=alpha0)\n",
    "                return model(dmp, ao_eval, gw)\n",
    "        \n",
    "            return ret_func\n",
    "\n",
    "        janak_f = janak_theorem_deriv(model, ao_eval, gw, dm, eri, hc, s, ogd, alpha0)\n",
    "        homo_i = jnp.max(jnp.nonzero(mo_occ, size=dm.shape[0])[0])\n",
    "\n",
    "        e, derivs = eqx.filter_value_and_grad(janak_f)(mo_occ)\n",
    "\n",
    "        pred_diff = derivs[homo_i+1] - derivs[homo_i]\n",
    "        \n",
    "        loss = jnp.sqrt( (pred_diff - refgap)**2)\n",
    "        # print(loss)\n",
    "        return loss\n"
   ]
  },
  {
   "cell_type": "code",
   "execution_count": 25,
   "id": "795c57ee-66d4-4557-aa44-ca0981accff4",
   "metadata": {
    "jupyter": {
     "source_hidden": true
    }
   },
   "outputs": [],
   "source": [
    "def janak_theorem_deriv(model, ao_eval, gw, dm, eri, moocc, hc, s, ogd, alpha0=0.7):\n",
    "    def ret_func(mo_occ):\n",
    "        vgf = lambda x: model(x, ao_eval, gw)\n",
    "        dmp, moep, mocp = xce.utils.get_dm_moe(dm, eri, vgf, mo_occ, hc, s, ogd, alpha0=alpha0)\n",
    "        return model(dmp, ao_eval, gw)\n",
    "\n",
    "    return ret_func\n",
    "    \n",
    "    \n",
    "    "
   ]
  },
  {
   "cell_type": "code",
   "execution_count": 26,
   "id": "c3bad744-e256-4c43-ad2a-519b91ebbc8c",
   "metadata": {
    "jupyter": {
     "source_hidden": true
    }
   },
   "outputs": [
    {
     "name": "stdout",
     "output_type": "stream",
     "text": [
      "spin_scaling = True; input descr to exc shape: (2, 50653, 3)\n",
      "eX.__call__, rho shape: (2, 50653, 3)\n",
      "spin_scaling = False; input descr to exc shape: (50653, 4)\n",
      "eC.__call__, rho shape: (50653, 4)\n",
      "[8] (8,)\n",
      "(8, 8) (8, 8)\n",
      "Spin unpolarized make_rdm1()\n",
      "spin_scaling = True; input descr to exc shape: (2, 50653, 3)\n",
      "eX.__call__, rho shape: (2, 50653, 3)\n",
      "spin_scaling = False; input descr to exc shape: (50653, 4)\n",
      "eC.__call__, rho shape: (50653, 4)\n"
     ]
    },
    {
     "data": {
      "text/plain": [
       "(Array(-3.11735723, dtype=float64),\n",
       " Array([-0.76418695, -0.23435005, -0.51950138, -0.51950137,  0.        ,\n",
       "         0.        ,  0.        ,  0.        ], dtype=float64))"
      ]
     },
     "execution_count": 26,
     "metadata": {},
     "output_type": "execute_result"
    }
   ],
   "source": [
    "checkd = janak_theorem_deriv(xc, ao_evals[0], gws[0], dms[0], eris[0], mo_occs[0], hcs[0], ss[0], ogds[0], alpha0=0.7)\n",
    "eqx.filter_value_and_grad(checkd)(mo_occs[0])"
   ]
  },
  {
   "cell_type": "code",
   "execution_count": 48,
   "id": "19a7f2d2-f1a7-40b5-93c4-03c08fabe50f",
   "metadata": {
    "scrolled": true
   },
   "outputs": [
    {
     "name": "stdout",
     "output_type": "stream",
     "text": [
      "Epoch 0\n",
      "Epoch 0 :: Batch 0/1\n",
      "spin_scaling = True; input descr to exc shape: (2, 50653, 3)\n",
      "eX.__call__, rho shape: (2, 50653, 3)\n",
      "spin_scaling = False; input descr to exc shape: (50653, 4)\n",
      "eC.__call__, rho shape: (50653, 4)\n",
      "[8] (8,)\n",
      "(8, 8) (8, 8)\n",
      "Spin unpolarized make_rdm1()\n",
      "spin_scaling = True; input descr to exc shape: (2, 50653, 3)\n",
      "eX.__call__, rho shape: (2, 50653, 3)\n",
      "spin_scaling = False; input descr to exc shape: (50653, 4)\n",
      "eC.__call__, rho shape: (50653, 4)\n"
     ]
    },
    {
     "name": "stderr",
     "output_type": "stream",
     "text": [
      "\n",
      "KeyboardInterrupt\n",
      "\n"
     ]
    }
   ],
   "source": [
    "xct = xce.train.xcTrainer(model=xc, optim=optax.adamw(1e-2), steps=100, loss = Band_gap_janak_loss(), do_jit=True)\n",
    "newm = xct(1, xct.model, ao_evals, gws, dms, eris, mo_occs, hcs, ss, ogds, [1.17], mfs)"
   ]
  },
  {
   "cell_type": "code",
   "execution_count": null,
   "id": "02b686df-339e-4fb9-87f1-d19445dd2623",
   "metadata": {},
   "outputs": [],
   "source": []
  },
  {
   "cell_type": "code",
   "execution_count": 39,
   "id": "300d85a6-ba1d-4455-843b-addd058f9950",
   "metadata": {},
   "outputs": [
    {
     "name": "stderr",
     "output_type": "stream",
     "text": [
      "WARNING:jax._src.xla_bridge:CUDA backend failed to initialize: Found CUDA version 12010, but JAX was built against version 12030, which is newer. The copy of CUDA that is installed must be at least as new as the version against which JAX was built. (Set TF_CPP_MIN_LOG_LEVEL=0 and rerun for more info.)\n"
     ]
    },
    {
     "name": "stdout",
     "output_type": "stream",
     "text": [
      "spin_scaling = True; input descr to exc shape: (50653, 15)\n",
      "eX.__call__, rho shape: (50653, 15)\n",
      "spin_scaling = False; input descr to exc shape: (50653, 13)\n",
      "eC.__call__, rho shape: (50653, 13)\n",
      "spin_scaling = True; input descr to exc shape: (2, 50653, 3)\n",
      "eX.__call__, rho shape: (2, 50653, 3)\n",
      "spin_scaling = False; input descr to exc shape: (50653, 4)\n",
      "eC.__call__, rho shape: (50653, 4)\n"
     ]
    }
   ],
   "source": [
    "e1 = nlxc(dms[0], ao_evals[0], gws[0], mfs[0])\n",
    "e2 = newm(dms[0], ao_evals[0], gws[0], mfs[0])"
   ]
  },
  {
   "cell_type": "code",
   "execution_count": 40,
   "id": "004a6b9c-a40d-4f0d-9aef-b0777f3605cc",
   "metadata": {},
   "outputs": [
    {
     "data": {
      "text/plain": [
       "(Array(-2.57218399, dtype=float64), Array(-2.90765126, dtype=float64))"
      ]
     },
     "execution_count": 40,
     "metadata": {},
     "output_type": "execute_result"
    }
   ],
   "source": [
    "e1, e2"
   ]
  },
  {
   "cell_type": "code",
   "execution_count": 41,
   "id": "185de39c-36fb-45fc-978a-07d512447734",
   "metadata": {},
   "outputs": [
    {
     "name": "stdout",
     "output_type": "stream",
     "text": [
      "spin_scaling = True; input descr to exc shape: (2, 50653, 3)\n",
      "eX.__call__, rho shape: (2, 50653, 3)\n",
      "spin_scaling = False; input descr to exc shape: (50653, 4)\n",
      "eC.__call__, rho shape: (50653, 4)\n",
      "[8] (8,)\n",
      "(8, 8) (8, 8)\n",
      "Spin unpolarized make_rdm1()\n",
      "spin_scaling = True; input descr to exc shape: (2, 50653, 3)\n",
      "eX.__call__, rho shape: (2, 50653, 3)\n",
      "spin_scaling = False; input descr to exc shape: (50653, 4)\n",
      "eC.__call__, rho shape: (50653, 4)\n",
      "[8] (8,)\n",
      "(8, 8) (8, 8)\n",
      "Spin unpolarized make_rdm1()\n"
     ]
    }
   ],
   "source": [
    "vgf1 = lambda x: xc(x, ao_evals[0], gws[0], mfs[0])\n",
    "vgf2 = lambda x: newm(x, ao_evals[0], gws[0], mfs[0])\n",
    "dm1, moe1, moc1 = xce.utils.get_dm_moe(dms[0], eris[0], vgf1, mo_occs[0], hcs[0], ss[0], ogds[0])\n",
    "dm2, moe2, moc2 = xce.utils.get_dm_moe(dms[0], eris[0], vgf2, mo_occs[0], hcs[0], ss[0], ogds[0])"
   ]
  },
  {
   "cell_type": "code",
   "execution_count": 42,
   "id": "35f21fe1-62b4-47e4-85dc-f8e05e4e1e04",
   "metadata": {},
   "outputs": [
    {
     "name": "stdout",
     "output_type": "stream",
     "text": [
      "[-6.57726192e-01 -7.60975504e-02 -3.70073737e-07  0.00000000e+00\n",
      "  1.02667394e-01  1.02667614e-01  3.18068487e-01  5.38626343e-01]\n",
      "[-6.86420513e-01 -2.79444128e-02 -3.70097756e-07  0.00000000e+00\n",
      "  1.49307013e-01  1.49307234e-01  3.48533950e-01  5.46699981e-01]\n"
     ]
    }
   ],
   "source": [
    "print(moe1 - moe1[mf.mol.nelectron//2-1])\n",
    "print(moe2 - moe2[mf.mol.nelectron//2-1])"
   ]
  },
  {
   "cell_type": "code",
   "execution_count": null,
   "id": "1b1657c3-a5ca-49eb-858f-e16406ef6f68",
   "metadata": {},
   "outputs": [],
   "source": []
  },
  {
   "cell_type": "code",
   "execution_count": 32,
   "id": "b64e0ab1-0990-44d5-a2ba-e3934e6f6974",
   "metadata": {},
   "outputs": [
    {
     "data": {
      "text/plain": [
       "array([-0.24878937,  0.22904513,  0.22904513,  0.22904513,  0.43234039,\n",
       "        0.43234039,  0.43234039,  0.45784889])"
      ]
     },
     "execution_count": 32,
     "metadata": {},
     "output_type": "execute_result"
    }
   ],
   "source": [
    "mf.mo_energy"
   ]
  },
  {
   "cell_type": "code",
   "execution_count": 33,
   "id": "f2895974-966a-48ad-a316-aa7d8a00c067",
   "metadata": {},
   "outputs": [
    {
     "ename": "NameError",
     "evalue": "name 'b1' is not defined",
     "output_type": "error",
     "traceback": [
      "\u001b[0;31m---------------------------------------------------------------------------\u001b[0m",
      "\u001b[0;31mNameError\u001b[0m                                 Traceback (most recent call last)",
      "Cell \u001b[0;32mIn[33], line 2\u001b[0m\n\u001b[1;32m      1\u001b[0m \u001b[38;5;66;03m# vbmax = -99\u001b[39;00m\n\u001b[0;32m----> 2\u001b[0m \u001b[38;5;28;01mfor\u001b[39;00m en \u001b[38;5;129;01min\u001b[39;00m \u001b[43mb1\u001b[49m[\u001b[38;5;241m0\u001b[39m]:\n\u001b[1;32m      3\u001b[0m     vb_k \u001b[38;5;241m=\u001b[39m en[cell\u001b[38;5;241m.\u001b[39mnelectron\u001b[38;5;241m/\u001b[39m\u001b[38;5;241m/\u001b[39m\u001b[38;5;241m2\u001b[39m\u001b[38;5;241m-\u001b[39m\u001b[38;5;241m1\u001b[39m]\n\u001b[1;32m      4\u001b[0m     \u001b[38;5;28mprint\u001b[39m(\u001b[38;5;124m'\u001b[39m\u001b[38;5;124mThis vb_k\u001b[39m\u001b[38;5;124m'\u001b[39m, vb_k)\n",
      "\u001b[0;31mNameError\u001b[0m: name 'b1' is not defined"
     ]
    }
   ],
   "source": [
    "# vbmax = -99\n",
    "for en in b1[0]:\n",
    "    vb_k = en[cell.nelectron//2-1]\n",
    "    print('This vb_k', vb_k)\n",
    "    if vb_k > vbmax:\n",
    "        vbmax = vb_k\n",
    "e_kn = [en - vbmax for en in b1[0]]"
   ]
  },
  {
   "cell_type": "code",
   "execution_count": null,
   "id": "60a2bcc2-db28-48ef-84d9-cfc0350a003f",
   "metadata": {},
   "outputs": [],
   "source": [
    "e_kn"
   ]
  },
  {
   "cell_type": "code",
   "execution_count": null,
   "id": "9adec472-b1bc-4216-bbf4-de7bac8e738a",
   "metadata": {},
   "outputs": [],
   "source": [
    "mf2 = scfp.RHF(cell)\n",
    "e2 = mf2.kernel()"
   ]
  },
  {
   "cell_type": "code",
   "execution_count": null,
   "id": "75291bcf-b6a5-4a3f-8da6-f00f6f51d040",
   "metadata": {},
   "outputs": [],
   "source": []
  },
  {
   "cell_type": "code",
   "execution_count": null,
   "id": "f49f1729-208c-4e4a-ab20-0431456d85ad",
   "metadata": {},
   "outputs": [],
   "source": [
    "cell.nelectron//2-1"
   ]
  },
  {
   "cell_type": "code",
   "execution_count": null,
   "id": "0bdd8d73-5137-4baa-a176-80264f36fa20",
   "metadata": {},
   "outputs": [],
   "source": [
    "t1 = mf2.mo_energy \n",
    "t2 = mf2.mo_energy - mf2.mo_energy[cell.nelectron//2-1]"
   ]
  },
  {
   "cell_type": "code",
   "execution_count": null,
   "id": "e4101712-1117-4e90-94f5-bae263871d16",
   "metadata": {},
   "outputs": [],
   "source": [
    "t2[jnp.where(abs(t2[jnp.where( (t2 < 0) )[0]]) > 1e-4)[0]]"
   ]
  },
  {
   "cell_type": "code",
   "execution_count": null,
   "id": "f899b451-3656-4c75-a45e-0a20df32cbdf",
   "metadata": {},
   "outputs": [],
   "source": [
    "dm2 = mf2.make_rdm1()"
   ]
  },
  {
   "cell_type": "code",
   "execution_count": null,
   "id": "caa69796-1850-4df4-b3de-d1bfef5d5c43",
   "metadata": {},
   "outputs": [],
   "source": [
    "dmk = mf.make_rdm1()"
   ]
  },
  {
   "cell_type": "code",
   "execution_count": null,
   "id": "eac9677c-fe3b-425f-8eb9-2155743e80a2",
   "metadata": {},
   "outputs": [],
   "source": [
    "mpr = MPRester(api_key = '')\n",
    "mpid = 'mp-149'\n",
    "# ret = mpr.get_bandstructure_by_material_id(mpid)\n",
    "# rets = ret.structure.as_dict()\n",
    "ret = mpr.get_structure_by_material_id(mpid, conventional_unit_cell=False)\n",
    "rets = ret.as_dict()\n",
    "at_coor_xyz = [ (i['species'][0]['element'], [-j for j in i['xyz']]) for i in rets['sites']]\n",
    "at_coor_abc = [ (i['species'][0]['element'], [rets['lattice']['a']*j for j in i['abc']]) for i in rets['sites']]\n",
    "cella = -np.asarray(rets['lattice']['matrix'])"
   ]
  },
  {
   "cell_type": "code",
   "execution_count": null,
   "id": "a103cd73-3c48-4bf5-b8e7-36b0b3d6bd3c",
   "metadata": {},
   "outputs": [],
   "source": [
    "at_coor_xyz, cella"
   ]
  },
  {
   "cell_type": "code",
   "execution_count": null,
   "id": "9e8baf39-03fb-4817-a6a5-951620b7c4e5",
   "metadata": {},
   "outputs": [],
   "source": [
    "cell = gtop.Cell()\n",
    "cell.atom = at_coor_xyz\n",
    "cell.a = cella.T\n",
    "cell.basis = 'gth-szv'\n",
    "cell.pseudo = 'gth-pade'\n",
    "cell.exp_to_discard = 0.1\n",
    "cell.build()\n",
    "kpts = cell.make_kpts([2,2,2])\n",
    "mf = scfp.KRHF(cell, kpts=kpts)\n",
    "e = mf.kernel()"
   ]
  },
  {
   "cell_type": "code",
   "execution_count": null,
   "id": "78d30c1e-faf2-4dc6-bd4a-752a85c279a8",
   "metadata": {},
   "outputs": [],
   "source": [
    "cella"
   ]
  },
  {
   "cell_type": "code",
   "execution_count": null,
   "id": "0b246125-bf10-4a2f-9efa-359adf7bf76b",
   "metadata": {},
   "outputs": [],
   "source": []
  }
 ],
 "metadata": {
  "kernelspec": {
   "display_name": "Python 3 (ipykernel)",
   "language": "python",
   "name": "python3"
  },
  "language_info": {
   "codemirror_mode": {
    "name": "ipython",
    "version": 3
   },
   "file_extension": ".py",
   "mimetype": "text/x-python",
   "name": "python",
   "nbconvert_exporter": "python",
   "pygments_lexer": "ipython3",
   "version": "3.10.0"
  }
 },
 "nbformat": 4,
 "nbformat_minor": 5
}
