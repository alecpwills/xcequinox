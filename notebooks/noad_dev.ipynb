{
 "cells": [
  {
   "cell_type": "code",
   "execution_count": 1,
   "id": "146c3044-6873-446f-bdb0-e2086b11b138",
   "metadata": {},
   "outputs": [
    {
     "name": "stderr",
     "output_type": "stream",
     "text": [
      "/home/awills/anaconda3/envs/pyscfad/lib/python3.10/site-packages/pyscf/dft/libxc.py:772: UserWarning: Since PySCF-2.3, B3LYP (and B3P86) are changed to the VWN-RPA variant, the same to the B3LYP functional in Gaussian and ORCA (issue 1480). To restore the VWN5 definition, you can put the setting \"B3LYP_WITH_VWN5 = True\" in pyscf_conf.py\n",
      "  warnings.warn('Since PySCF-2.3, B3LYP (and B3P86) are changed to the VWN-RPA variant, '\n",
      "CUDA backend failed to initialize: Found CUDA version 12010, but JAX was built against version 12030, which is newer. The copy of CUDA that is installed must be at least as new as the version against which JAX was built. (Set TF_CPP_MIN_LOG_LEVEL=0 and rerun for more info.)\n"
     ]
    }
   ],
   "source": [
    "from ase import Atoms\n",
    "from ase.io import read\n",
    "import xcquinox as xce\n",
    "import torch, jax, optax\n",
    "import numpy as np\n",
    "import equinox as eqx\n",
    "import jax.numpy as jnp\n",
    "import pyscfad as psa\n",
    "import os, sys\n",
    "from pyscf import dft, scf, gto, df\n",
    "from pyscf.pbc import scf as scfp\n",
    "from pyscf.pbc import gto as gtop\n",
    "from pyscf.pbc import dft as dftp\n",
    "os.environ['XLA_PYTHON_CLIENT_PREALLOCATE']='false'\n",
    "os.environ['XLA_PYTHON_CLIENT_ALLOCATOR'] = 'platform'\n",
    "\n",
    "from mp_api.client import MPRester\n",
    "from mldftdat.density import get_exchange_descriptors2\n",
    "from mldftdat.analyzers import RKSAnalyzer\n",
    "\n",
    "from ase.build import bulk"
   ]
  },
  {
   "cell_type": "code",
   "execution_count": 2,
   "id": "59b374f4-8726-4416-a0de-7b7085173a52",
   "metadata": {},
   "outputs": [],
   "source": [
    "a1 = bulk('Si', a=3.867114, b=3.867114, c=3.867114, alpha=60)"
   ]
  },
  {
   "cell_type": "code",
   "execution_count": 3,
   "id": "60255e2b-b21b-4888-92be-85194d485f3b",
   "metadata": {},
   "outputs": [
    {
     "data": {
      "text/plain": [
       "Cell([[0.0, 1.933557, 1.933557], [1.933557, 0.0, 1.933557], [1.933557, 1.933557, 0.0]])"
      ]
     },
     "execution_count": 3,
     "metadata": {},
     "output_type": "execute_result"
    }
   ],
   "source": [
    "a1.cell"
   ]
  },
  {
   "cell_type": "code",
   "execution_count": 4,
   "id": "9f8b6799-1b7f-4bfb-a23f-669a45a43166",
   "metadata": {},
   "outputs": [
    {
     "name": "stderr",
     "output_type": "stream",
     "text": [
      "<class 'pyscf.pbc.dft.rks.RKS'> does not have attributes  nlc nlcgrids\n",
      "/home/awills/anaconda3/envs/pyscfad/lib/python3.10/site-packages/pyscf/pbc/gto/cell.py:243: UserWarning: Function cell.dumps drops attribute a because it is not JSON-serializable\n",
      "  warnings.warn(msg)\n"
     ]
    },
    {
     "name": "stdout",
     "output_type": "stream",
     "text": [
      "converged SCF energy = -7.21836790602506\n"
     ]
    }
   ],
   "source": [
    "mfs = []\n",
    "mols = []\n",
    "energies = []\n",
    "dms = []\n",
    "ao_evals = []\n",
    "gws = []\n",
    "eris = []\n",
    "mo_occs = []\n",
    "hcs = []\n",
    "vs = []\n",
    "ts = []\n",
    "ss = []\n",
    "hologaps = []\n",
    "ogds = []\n",
    "\n",
    "cell = gtop.Cell()\n",
    "a = 5.43\n",
    "cell.atom = [['Si', [0,0,0]],\n",
    "              ['Si', [a/4,a/4,a/4]]]\n",
    "cell.a = jnp.asarray([[0, a/2, a/2],\n",
    "                     [a/2, 0, a/2],\n",
    "                     [a/2, a/2, 0]])\n",
    "cell.basis = 'gth-szv'\n",
    "cell.pseudo = 'gth-pade'\n",
    "cell.exp_to_discard = 0.1\n",
    "cell.build()\n",
    "kpts = cell.make_kpts([2,2,2])\n",
    "mf = dftp.RKS(cell, xc='pbe0')\n",
    "mf2 = dftp.KRKS(cell, xc='pbe0', kpts=kpts)\n",
    "e = mf.kernel()\n",
    "# e2 = mf2.kernel()"
   ]
  },
  {
   "cell_type": "code",
   "execution_count": 5,
   "id": "fab19321-aedd-4aa4-8308-2e811a672aa2",
   "metadata": {},
   "outputs": [
    {
     "data": {
      "text/plain": [
       "RKS-KohnShamDFT object of <class 'pyscf.pbc.dft.rks.RKS'>"
      ]
     },
     "execution_count": 5,
     "metadata": {},
     "output_type": "execute_result"
    }
   ],
   "source": [
    "mf"
   ]
  },
  {
   "cell_type": "code",
   "execution_count": 6,
   "id": "385b6d1b-ffce-4305-ada2-bf8484c20ca6",
   "metadata": {},
   "outputs": [],
   "source": [
    "mfs = []\n",
    "mols = []\n",
    "energies = []\n",
    "dms = []\n",
    "ao_evals = []\n",
    "gws = []\n",
    "eris = []\n",
    "mo_occs = []\n",
    "hcs = []\n",
    "vs = []\n",
    "ts = []\n",
    "ss = []\n",
    "hologaps = []\n",
    "ogds = []\n",
    "\n",
    "mfs.append(mf)\n",
    "dm = mf.make_rdm1()\n",
    "dmj = jnp.array(dm)\n",
    "dmj.flags = dm.flags\n",
    "ao_eval = jnp.array(mf._numint.eval_ao(mf.mol, mf.grids.coords, deriv=2))\n",
    "energies.append(jnp.array(mf.get_veff().exc))\n",
    "dms.append(dmj)\n",
    "ogds.append(dm.shape)\n",
    "ao_evals.append(jnp.array(ao_eval))\n",
    "gws.append(jnp.array(mf.grids.weights))\n",
    "ts.append(jnp.array(mf.mol.intor('int1e_kin')))\n",
    "vs.append(jnp.array(mf.mol.intor('int1e_nuc')))\n",
    "mo_occs.append(jnp.array(mf.mo_occ))\n",
    "hcs.append(jnp.array(mf.get_hcore()))\n",
    "eris.append(jnp.array(mf.mol.intor('int2e')))\n",
    "ss.append(jnp.linalg.inv(jnp.linalg.cholesky(mf.mol.intor('int1e_ovlp'))))\n",
    "hologaps.append(jnp.array(mf.mo_energy[mf.mo_occ == 0][0] - mf.mo_energy[mf.mo_occ > 1][-1]))"
   ]
  },
  {
   "cell_type": "code",
   "execution_count": 7,
   "id": "9ee614a8-f3cf-43c4-8a65-923146f639d9",
   "metadata": {},
   "outputs": [],
   "source": [
    "class Band_gap_1shot_loss(eqx.Module):\n",
    "    def __init__(self):\n",
    "        super().__init__()\n",
    "\n",
    "    def __call__(self, model, ao_eval, gw, dm, eri, mo_occ, hc, s, ogd, refgap, mf, alpha0=0.7):\n",
    "        vgf = lambda x: model(x, ao_eval, gw, mf)\n",
    "        dmp, moep, mocp = xce.utils.get_dm_moe(dm, eri, vgf, mo_occ, hc, s, ogd, alpha0)\n",
    "        \n",
    "        efermi = moep[mf.mol.nelectron//2-1]\n",
    "        moep -= efermi\n",
    "        # print(moep)\n",
    "        moep_gap = jnp.min(moep)\n",
    "        # print(moep_gap)\n",
    "        loss = jnp.sqrt( (moep_gap - refgap)**2)\n",
    "        # print(loss)\n",
    "        return jnp.sqrt( (moep_gap - refgap)**2)\n"
   ]
  },
  {
   "cell_type": "code",
   "execution_count": 8,
   "id": "525188e3-545a-4232-952e-5f75f437b858",
   "metadata": {},
   "outputs": [
    {
     "name": "stdout",
     "output_type": "stream",
     "text": [
      "WARNING: Non-local models highly experimental and likely will not work \n"
     ]
    }
   ],
   "source": [
    "#update docs, only input =2 ??? for MGGA? holdover from sebastian for some reason\n",
    "xnet = xce.net.eX(n_input = 2, use = [1, 2], ueg_limit=True, lob=1.174)\n",
    "# I guess use default LOB\n",
    "cnet = xce.net.eC(n_input = 4, use = [2, 3], ueg_limit=True)\n",
    "blankxc = xce.xc.eXC(grid_models = [xnet, cnet], level=3)\n",
    "p = '/home/awills/Documents/Research/xcquinox/models/pretrained/scan'\n",
    "# xc = eqx.tree_deserialise_leaves(os.path.join(p, 'xc.eqx'), blankxc)\n",
    "xc = blankxc\n",
    "nlxnet = xce.net.eX(n_input = 15, use = [], ueg_limit=True, lob=1.174)\n",
    "nlcnet = xce.net.eC(n_input = 13, use = [], ueg_limit=True)\n",
    "\n",
    "nlxc = xce.xc.eXC(grid_models = [nlxnet, nlcnet], level=4)"
   ]
  },
  {
   "cell_type": "code",
   "execution_count": 9,
   "id": "19a7f2d2-f1a7-40b5-93c4-03c08fabe50f",
   "metadata": {
    "scrolled": true
   },
   "outputs": [
    {
     "name": "stdout",
     "output_type": "stream",
     "text": [
      "Epoch 0\n",
      "Epoch 0 :: Batch 0/1\n",
      "spin_scaling = True; input descr to exc shape: (50653, 15)\n",
      "eX.__call__, rho shape: (50653, 15)\n",
      "spin_scaling = False; input descr to exc shape: (50653, 13)\n",
      "eC.__call__, rho shape: (50653, 13)\n",
      "[8] (8,)\n",
      "(8, 8) (8, 8)\n",
      "Spin unpolarized make_rdm1()\n",
      "spin_scaling = True; input descr to exc shape: (50653, 15)\n",
      "eX.__call__, rho shape: (50653, 15)\n",
      "spin_scaling = False; input descr to exc shape: (50653, 13)\n",
      "eC.__call__, rho shape: (50653, 13)\n",
      "[8] (8,)\n",
      "(8, 8) (8, 8)\n",
      "Spin unpolarized make_rdm1()\n",
      "Batch Loss = 0.44248081968472164\n",
      "step=0, epoch_train_loss=0.44248081968472164\n",
      "Epoch 1\n",
      "Epoch 1 :: Batch 0/1\n"
     ]
    },
    {
     "name": "stderr",
     "output_type": "stream",
     "text": [
      "WARNING:jax._src.xla_bridge:CUDA backend failed to initialize: Found CUDA version 12010, but JAX was built against version 12030, which is newer. The copy of CUDA that is installed must be at least as new as the version against which JAX was built. (Set TF_CPP_MIN_LOG_LEVEL=0 and rerun for more info.)\n"
     ]
    },
    {
     "name": "stdout",
     "output_type": "stream",
     "text": [
      "spin_scaling = True; input descr to exc shape: (50653, 15)\n",
      "eX.__call__, rho shape: (50653, 15)\n",
      "spin_scaling = False; input descr to exc shape: (50653, 13)\n",
      "eC.__call__, rho shape: (50653, 13)\n",
      "[8] (8,)\n",
      "(8, 8) (8, 8)\n",
      "Spin unpolarized make_rdm1()\n",
      "spin_scaling = True; input descr to exc shape: (50653, 15)\n",
      "eX.__call__, rho shape: (50653, 15)\n",
      "spin_scaling = False; input descr to exc shape: (50653, 13)\n",
      "eC.__call__, rho shape: (50653, 13)\n",
      "[8] (8,)\n",
      "(8, 8) (8, 8)\n",
      "Spin unpolarized make_rdm1()\n"
     ]
    },
    {
     "name": "stderr",
     "output_type": "stream",
     "text": [
      "WARNING:jax._src.xla_bridge:CUDA backend failed to initialize: Found CUDA version 12010, but JAX was built against version 12030, which is newer. The copy of CUDA that is installed must be at least as new as the version against which JAX was built. (Set TF_CPP_MIN_LOG_LEVEL=0 and rerun for more info.)\n"
     ]
    },
    {
     "name": "stdout",
     "output_type": "stream",
     "text": [
      "Batch Loss = 0.6345453200184403\n",
      "step=1, epoch_train_loss=0.6345453200184403\n",
      "Epoch 2\n",
      "Epoch 2 :: Batch 0/1\n",
      "spin_scaling = True; input descr to exc shape: (50653, 15)\n",
      "eX.__call__, rho shape: (50653, 15)\n",
      "spin_scaling = False; input descr to exc shape: (50653, 13)\n",
      "eC.__call__, rho shape: (50653, 13)\n",
      "[8] (8,)\n",
      "(8, 8) (8, 8)\n",
      "Spin unpolarized make_rdm1()\n",
      "spin_scaling = True; input descr to exc shape: (50653, 15)\n",
      "eX.__call__, rho shape: (50653, 15)\n",
      "spin_scaling = False; input descr to exc shape: (50653, 13)\n",
      "eC.__call__, rho shape: (50653, 13)\n",
      "[8] (8,)\n",
      "(8, 8) (8, 8)\n",
      "Spin unpolarized make_rdm1()\n"
     ]
    },
    {
     "name": "stderr",
     "output_type": "stream",
     "text": [
      "WARNING:jax._src.xla_bridge:CUDA backend failed to initialize: Found CUDA version 12010, but JAX was built against version 12030, which is newer. The copy of CUDA that is installed must be at least as new as the version against which JAX was built. (Set TF_CPP_MIN_LOG_LEVEL=0 and rerun for more info.)\n"
     ]
    },
    {
     "name": "stdout",
     "output_type": "stream",
     "text": [
      "Batch Loss = 0.4832511573479339\n",
      "step=2, epoch_train_loss=0.4832511573479339\n",
      "Epoch 3\n",
      "Epoch 3 :: Batch 0/1\n",
      "spin_scaling = True; input descr to exc shape: (50653, 15)\n",
      "eX.__call__, rho shape: (50653, 15)\n",
      "spin_scaling = False; input descr to exc shape: (50653, 13)\n",
      "eC.__call__, rho shape: (50653, 13)\n",
      "[8] (8,)\n",
      "(8, 8) (8, 8)\n",
      "Spin unpolarized make_rdm1()\n",
      "spin_scaling = True; input descr to exc shape: (50653, 15)\n",
      "eX.__call__, rho shape: (50653, 15)\n",
      "spin_scaling = False; input descr to exc shape: (50653, 13)\n",
      "eC.__call__, rho shape: (50653, 13)\n",
      "[8] (8,)\n",
      "(8, 8) (8, 8)\n",
      "Spin unpolarized make_rdm1()\n"
     ]
    },
    {
     "name": "stderr",
     "output_type": "stream",
     "text": [
      "WARNING:jax._src.xla_bridge:CUDA backend failed to initialize: Found CUDA version 12010, but JAX was built against version 12030, which is newer. The copy of CUDA that is installed must be at least as new as the version against which JAX was built. (Set TF_CPP_MIN_LOG_LEVEL=0 and rerun for more info.)\n"
     ]
    },
    {
     "name": "stdout",
     "output_type": "stream",
     "text": [
      "Batch Loss = 0.42676458909772474\n",
      "step=3, epoch_train_loss=0.42676458909772474\n",
      "Epoch 4\n",
      "Epoch 4 :: Batch 0/1\n",
      "spin_scaling = True; input descr to exc shape: (50653, 15)\n",
      "eX.__call__, rho shape: (50653, 15)\n",
      "spin_scaling = False; input descr to exc shape: (50653, 13)\n",
      "eC.__call__, rho shape: (50653, 13)\n",
      "[8] (8,)\n",
      "(8, 8) (8, 8)\n",
      "Spin unpolarized make_rdm1()\n",
      "spin_scaling = True; input descr to exc shape: (50653, 15)\n",
      "eX.__call__, rho shape: (50653, 15)\n",
      "spin_scaling = False; input descr to exc shape: (50653, 13)\n",
      "eC.__call__, rho shape: (50653, 13)\n",
      "[8] (8,)\n",
      "(8, 8) (8, 8)\n",
      "Spin unpolarized make_rdm1()\n"
     ]
    },
    {
     "name": "stderr",
     "output_type": "stream",
     "text": [
      "WARNING:jax._src.xla_bridge:CUDA backend failed to initialize: Found CUDA version 12010, but JAX was built against version 12030, which is newer. The copy of CUDA that is installed must be at least as new as the version against which JAX was built. (Set TF_CPP_MIN_LOG_LEVEL=0 and rerun for more info.)\n"
     ]
    },
    {
     "name": "stdout",
     "output_type": "stream",
     "text": [
      "Batch Loss = 0.4844590650438916\n",
      "step=4, epoch_train_loss=0.4844590650438916\n",
      "Epoch 5\n",
      "Epoch 5 :: Batch 0/1\n",
      "spin_scaling = True; input descr to exc shape: (50653, 15)\n",
      "eX.__call__, rho shape: (50653, 15)\n",
      "spin_scaling = False; input descr to exc shape: (50653, 13)\n",
      "eC.__call__, rho shape: (50653, 13)\n",
      "[8] (8,)\n",
      "(8, 8) (8, 8)\n",
      "Spin unpolarized make_rdm1()\n",
      "spin_scaling = True; input descr to exc shape: (50653, 15)\n",
      "eX.__call__, rho shape: (50653, 15)\n",
      "spin_scaling = False; input descr to exc shape: (50653, 13)\n",
      "eC.__call__, rho shape: (50653, 13)\n",
      "[8] (8,)\n",
      "(8, 8) (8, 8)\n",
      "Spin unpolarized make_rdm1()\n"
     ]
    },
    {
     "name": "stderr",
     "output_type": "stream",
     "text": [
      "WARNING:jax._src.xla_bridge:CUDA backend failed to initialize: Found CUDA version 12010, but JAX was built against version 12030, which is newer. The copy of CUDA that is installed must be at least as new as the version against which JAX was built. (Set TF_CPP_MIN_LOG_LEVEL=0 and rerun for more info.)\n"
     ]
    },
    {
     "name": "stdout",
     "output_type": "stream",
     "text": [
      "Batch Loss = 0.4612090031523963\n",
      "step=5, epoch_train_loss=0.4612090031523963\n",
      "Epoch 6\n",
      "Epoch 6 :: Batch 0/1\n",
      "spin_scaling = True; input descr to exc shape: (50653, 15)\n",
      "eX.__call__, rho shape: (50653, 15)\n",
      "spin_scaling = False; input descr to exc shape: (50653, 13)\n",
      "eC.__call__, rho shape: (50653, 13)\n",
      "[8] (8,)\n",
      "(8, 8) (8, 8)\n",
      "Spin unpolarized make_rdm1()\n",
      "spin_scaling = True; input descr to exc shape: (50653, 15)\n",
      "eX.__call__, rho shape: (50653, 15)\n",
      "spin_scaling = False; input descr to exc shape: (50653, 13)\n",
      "eC.__call__, rho shape: (50653, 13)\n",
      "[8] (8,)\n",
      "(8, 8) (8, 8)\n",
      "Spin unpolarized make_rdm1()\n"
     ]
    },
    {
     "name": "stderr",
     "output_type": "stream",
     "text": [
      "WARNING:jax._src.xla_bridge:CUDA backend failed to initialize: Found CUDA version 12010, but JAX was built against version 12030, which is newer. The copy of CUDA that is installed must be at least as new as the version against which JAX was built. (Set TF_CPP_MIN_LOG_LEVEL=0 and rerun for more info.)\n"
     ]
    },
    {
     "name": "stdout",
     "output_type": "stream",
     "text": [
      "Batch Loss = 0.4090322936062545\n",
      "step=6, epoch_train_loss=0.4090322936062545\n",
      "Epoch 7\n",
      "Epoch 7 :: Batch 0/1\n",
      "spin_scaling = True; input descr to exc shape: (50653, 15)\n",
      "eX.__call__, rho shape: (50653, 15)\n",
      "spin_scaling = False; input descr to exc shape: (50653, 13)\n",
      "eC.__call__, rho shape: (50653, 13)\n",
      "[8] (8,)\n",
      "(8, 8) (8, 8)\n",
      "Spin unpolarized make_rdm1()\n",
      "spin_scaling = True; input descr to exc shape: (50653, 15)\n",
      "eX.__call__, rho shape: (50653, 15)\n",
      "spin_scaling = False; input descr to exc shape: (50653, 13)\n",
      "eC.__call__, rho shape: (50653, 13)\n",
      "[8] (8,)\n",
      "(8, 8) (8, 8)\n",
      "Spin unpolarized make_rdm1()\n",
      "Batch Loss = 0.40136361440893364\n",
      "step=7, epoch_train_loss=0.40136361440893364\n",
      "Epoch 8\n"
     ]
    },
    {
     "name": "stderr",
     "output_type": "stream",
     "text": [
      "WARNING:jax._src.xla_bridge:CUDA backend failed to initialize: Found CUDA version 12010, but JAX was built against version 12030, which is newer. The copy of CUDA that is installed must be at least as new as the version against which JAX was built. (Set TF_CPP_MIN_LOG_LEVEL=0 and rerun for more info.)\n"
     ]
    },
    {
     "name": "stdout",
     "output_type": "stream",
     "text": [
      "Epoch 8 :: Batch 0/1\n",
      "spin_scaling = True; input descr to exc shape: (50653, 15)\n",
      "eX.__call__, rho shape: (50653, 15)\n",
      "spin_scaling = False; input descr to exc shape: (50653, 13)\n",
      "eC.__call__, rho shape: (50653, 13)\n",
      "[8] (8,)\n",
      "(8, 8) (8, 8)\n",
      "Spin unpolarized make_rdm1()\n",
      "spin_scaling = True; input descr to exc shape: (50653, 15)\n",
      "eX.__call__, rho shape: (50653, 15)\n",
      "spin_scaling = False; input descr to exc shape: (50653, 13)\n",
      "eC.__call__, rho shape: (50653, 13)\n",
      "[8] (8,)\n",
      "(8, 8) (8, 8)\n",
      "Spin unpolarized make_rdm1()\n"
     ]
    },
    {
     "name": "stderr",
     "output_type": "stream",
     "text": [
      "WARNING:jax._src.xla_bridge:CUDA backend failed to initialize: Found CUDA version 12010, but JAX was built against version 12030, which is newer. The copy of CUDA that is installed must be at least as new as the version against which JAX was built. (Set TF_CPP_MIN_LOG_LEVEL=0 and rerun for more info.)\n"
     ]
    },
    {
     "name": "stdout",
     "output_type": "stream",
     "text": [
      "Batch Loss = 0.4119501535418286\n",
      "step=8, epoch_train_loss=0.4119501535418286\n",
      "Epoch 9\n",
      "Epoch 9 :: Batch 0/1\n",
      "spin_scaling = True; input descr to exc shape: (50653, 15)\n",
      "eX.__call__, rho shape: (50653, 15)\n",
      "spin_scaling = False; input descr to exc shape: (50653, 13)\n",
      "eC.__call__, rho shape: (50653, 13)\n",
      "[8] (8,)\n",
      "(8, 8) (8, 8)\n",
      "Spin unpolarized make_rdm1()\n",
      "spin_scaling = True; input descr to exc shape: (50653, 15)\n",
      "eX.__call__, rho shape: (50653, 15)\n",
      "spin_scaling = False; input descr to exc shape: (50653, 13)\n",
      "eC.__call__, rho shape: (50653, 13)\n",
      "[8] (8,)\n",
      "(8, 8) (8, 8)\n",
      "Spin unpolarized make_rdm1()\n",
      "Batch Loss = 0.4156620078962967\n",
      "step=9, epoch_train_loss=0.4156620078962967\n",
      "Epoch 10\n",
      "Epoch 10 :: Batch 0/1\n"
     ]
    },
    {
     "name": "stderr",
     "output_type": "stream",
     "text": [
      "WARNING:jax._src.xla_bridge:CUDA backend failed to initialize: Found CUDA version 12010, but JAX was built against version 12030, which is newer. The copy of CUDA that is installed must be at least as new as the version against which JAX was built. (Set TF_CPP_MIN_LOG_LEVEL=0 and rerun for more info.)\n"
     ]
    },
    {
     "name": "stdout",
     "output_type": "stream",
     "text": [
      "spin_scaling = True; input descr to exc shape: (50653, 15)\n",
      "eX.__call__, rho shape: (50653, 15)\n",
      "spin_scaling = False; input descr to exc shape: (50653, 13)\n",
      "eC.__call__, rho shape: (50653, 13)\n",
      "[8] (8,)\n",
      "(8, 8) (8, 8)\n",
      "Spin unpolarized make_rdm1()\n",
      "spin_scaling = True; input descr to exc shape: (50653, 15)\n",
      "eX.__call__, rho shape: (50653, 15)\n",
      "spin_scaling = False; input descr to exc shape: (50653, 13)\n",
      "eC.__call__, rho shape: (50653, 13)\n",
      "[8] (8,)\n",
      "(8, 8) (8, 8)\n",
      "Spin unpolarized make_rdm1()\n",
      "Batch Loss = 0.40792148814785967\n",
      "step=10, epoch_train_loss=0.40792148814785967\n",
      "Epoch 11\n"
     ]
    },
    {
     "name": "stderr",
     "output_type": "stream",
     "text": [
      "WARNING:jax._src.xla_bridge:CUDA backend failed to initialize: Found CUDA version 12010, but JAX was built against version 12030, which is newer. The copy of CUDA that is installed must be at least as new as the version against which JAX was built. (Set TF_CPP_MIN_LOG_LEVEL=0 and rerun for more info.)\n"
     ]
    },
    {
     "name": "stdout",
     "output_type": "stream",
     "text": [
      "Epoch 11 :: Batch 0/1\n",
      "spin_scaling = True; input descr to exc shape: (50653, 15)\n",
      "eX.__call__, rho shape: (50653, 15)\n",
      "spin_scaling = False; input descr to exc shape: (50653, 13)\n",
      "eC.__call__, rho shape: (50653, 13)\n",
      "[8] (8,)\n",
      "(8, 8) (8, 8)\n",
      "Spin unpolarized make_rdm1()\n",
      "spin_scaling = True; input descr to exc shape: (50653, 15)\n",
      "eX.__call__, rho shape: (50653, 15)\n",
      "spin_scaling = False; input descr to exc shape: (50653, 13)\n",
      "eC.__call__, rho shape: (50653, 13)\n",
      "[8] (8,)\n",
      "(8, 8) (8, 8)\n",
      "Spin unpolarized make_rdm1()\n",
      "Batch Loss = 0.39857275544638315\n",
      "step=11, epoch_train_loss=0.39857275544638315\n"
     ]
    },
    {
     "name": "stderr",
     "output_type": "stream",
     "text": [
      "WARNING:jax._src.xla_bridge:CUDA backend failed to initialize: Found CUDA version 12010, but JAX was built against version 12030, which is newer. The copy of CUDA that is installed must be at least as new as the version against which JAX was built. (Set TF_CPP_MIN_LOG_LEVEL=0 and rerun for more info.)\n"
     ]
    },
    {
     "name": "stdout",
     "output_type": "stream",
     "text": [
      "Epoch 12\n",
      "Epoch 12 :: Batch 0/1\n",
      "spin_scaling = True; input descr to exc shape: (50653, 15)\n",
      "eX.__call__, rho shape: (50653, 15)\n",
      "spin_scaling = False; input descr to exc shape: (50653, 13)\n",
      "eC.__call__, rho shape: (50653, 13)\n",
      "[8] (8,)\n",
      "(8, 8) (8, 8)\n",
      "Spin unpolarized make_rdm1()\n",
      "spin_scaling = True; input descr to exc shape: (50653, 15)\n",
      "eX.__call__, rho shape: (50653, 15)\n",
      "spin_scaling = False; input descr to exc shape: (50653, 13)\n",
      "eC.__call__, rho shape: (50653, 13)\n",
      "[8] (8,)\n",
      "(8, 8) (8, 8)\n",
      "Spin unpolarized make_rdm1()\n",
      "Batch Loss = 0.3917202221504925\n",
      "step=12, epoch_train_loss=0.3917202221504925\n"
     ]
    },
    {
     "name": "stderr",
     "output_type": "stream",
     "text": [
      "WARNING:jax._src.xla_bridge:CUDA backend failed to initialize: Found CUDA version 12010, but JAX was built against version 12030, which is newer. The copy of CUDA that is installed must be at least as new as the version against which JAX was built. (Set TF_CPP_MIN_LOG_LEVEL=0 and rerun for more info.)\n"
     ]
    },
    {
     "name": "stdout",
     "output_type": "stream",
     "text": [
      "Epoch 13\n",
      "Epoch 13 :: Batch 0/1\n",
      "spin_scaling = True; input descr to exc shape: (50653, 15)\n",
      "eX.__call__, rho shape: (50653, 15)\n",
      "spin_scaling = False; input descr to exc shape: (50653, 13)\n",
      "eC.__call__, rho shape: (50653, 13)\n",
      "[8] (8,)\n",
      "(8, 8) (8, 8)\n",
      "Spin unpolarized make_rdm1()\n",
      "spin_scaling = True; input descr to exc shape: (50653, 15)\n",
      "eX.__call__, rho shape: (50653, 15)\n",
      "spin_scaling = False; input descr to exc shape: (50653, 13)\n",
      "eC.__call__, rho shape: (50653, 13)\n",
      "[8] (8,)\n",
      "(8, 8) (8, 8)\n",
      "Spin unpolarized make_rdm1()\n",
      "Batch Loss = 0.38724948410578364\n",
      "step=13, epoch_train_loss=0.38724948410578364\n",
      "Epoch 14\n"
     ]
    },
    {
     "name": "stderr",
     "output_type": "stream",
     "text": [
      "WARNING:jax._src.xla_bridge:CUDA backend failed to initialize: Found CUDA version 12010, but JAX was built against version 12030, which is newer. The copy of CUDA that is installed must be at least as new as the version against which JAX was built. (Set TF_CPP_MIN_LOG_LEVEL=0 and rerun for more info.)\n"
     ]
    },
    {
     "name": "stdout",
     "output_type": "stream",
     "text": [
      "Epoch 14 :: Batch 0/1\n",
      "spin_scaling = True; input descr to exc shape: (50653, 15)\n",
      "eX.__call__, rho shape: (50653, 15)\n",
      "spin_scaling = False; input descr to exc shape: (50653, 13)\n",
      "eC.__call__, rho shape: (50653, 13)\n",
      "[8] (8,)\n",
      "(8, 8) (8, 8)\n",
      "Spin unpolarized make_rdm1()\n",
      "spin_scaling = True; input descr to exc shape: (50653, 15)\n",
      "eX.__call__, rho shape: (50653, 15)\n",
      "spin_scaling = False; input descr to exc shape: (50653, 13)\n",
      "eC.__call__, rho shape: (50653, 13)\n",
      "[8] (8,)\n",
      "(8, 8) (8, 8)\n",
      "Spin unpolarized make_rdm1()\n",
      "Batch Loss = 0.38375271581481174\n",
      "step=14, epoch_train_loss=0.38375271581481174\n"
     ]
    },
    {
     "name": "stderr",
     "output_type": "stream",
     "text": [
      "WARNING:jax._src.xla_bridge:CUDA backend failed to initialize: Found CUDA version 12010, but JAX was built against version 12030, which is newer. The copy of CUDA that is installed must be at least as new as the version against which JAX was built. (Set TF_CPP_MIN_LOG_LEVEL=0 and rerun for more info.)\n"
     ]
    },
    {
     "name": "stdout",
     "output_type": "stream",
     "text": [
      "Epoch 15\n",
      "Epoch 15 :: Batch 0/1\n",
      "spin_scaling = True; input descr to exc shape: (50653, 15)\n",
      "eX.__call__, rho shape: (50653, 15)\n",
      "spin_scaling = False; input descr to exc shape: (50653, 13)\n",
      "eC.__call__, rho shape: (50653, 13)\n",
      "[8] (8,)\n",
      "(8, 8) (8, 8)\n",
      "Spin unpolarized make_rdm1()\n",
      "spin_scaling = True; input descr to exc shape: (50653, 15)\n",
      "eX.__call__, rho shape: (50653, 15)\n",
      "spin_scaling = False; input descr to exc shape: (50653, 13)\n",
      "eC.__call__, rho shape: (50653, 13)\n",
      "[8] (8,)\n",
      "(8, 8) (8, 8)\n",
      "Spin unpolarized make_rdm1()\n",
      "Batch Loss = 0.3804383523136592\n",
      "step=15, epoch_train_loss=0.3804383523136592\n"
     ]
    },
    {
     "name": "stderr",
     "output_type": "stream",
     "text": [
      "WARNING:jax._src.xla_bridge:CUDA backend failed to initialize: Found CUDA version 12010, but JAX was built against version 12030, which is newer. The copy of CUDA that is installed must be at least as new as the version against which JAX was built. (Set TF_CPP_MIN_LOG_LEVEL=0 and rerun for more info.)\n"
     ]
    },
    {
     "name": "stdout",
     "output_type": "stream",
     "text": [
      "Epoch 16\n",
      "Epoch 16 :: Batch 0/1\n",
      "spin_scaling = True; input descr to exc shape: (50653, 15)\n",
      "eX.__call__, rho shape: (50653, 15)\n",
      "spin_scaling = False; input descr to exc shape: (50653, 13)\n",
      "eC.__call__, rho shape: (50653, 13)\n",
      "[8] (8,)\n",
      "(8, 8) (8, 8)\n",
      "Spin unpolarized make_rdm1()\n",
      "spin_scaling = True; input descr to exc shape: (50653, 15)\n",
      "eX.__call__, rho shape: (50653, 15)\n",
      "spin_scaling = False; input descr to exc shape: (50653, 13)\n",
      "eC.__call__, rho shape: (50653, 13)\n",
      "[8] (8,)\n",
      "(8, 8) (8, 8)\n",
      "Spin unpolarized make_rdm1()\n",
      "Batch Loss = 0.37709372066149793\n",
      "step=16, epoch_train_loss=0.37709372066149793\n"
     ]
    },
    {
     "name": "stderr",
     "output_type": "stream",
     "text": [
      "WARNING:jax._src.xla_bridge:CUDA backend failed to initialize: Found CUDA version 12010, but JAX was built against version 12030, which is newer. The copy of CUDA that is installed must be at least as new as the version against which JAX was built. (Set TF_CPP_MIN_LOG_LEVEL=0 and rerun for more info.)\n"
     ]
    },
    {
     "name": "stdout",
     "output_type": "stream",
     "text": [
      "Epoch 17\n",
      "Epoch 17 :: Batch 0/1\n",
      "spin_scaling = True; input descr to exc shape: (50653, 15)\n",
      "eX.__call__, rho shape: (50653, 15)\n",
      "spin_scaling = False; input descr to exc shape: (50653, 13)\n",
      "eC.__call__, rho shape: (50653, 13)\n",
      "[8] (8,)\n",
      "(8, 8) (8, 8)\n",
      "Spin unpolarized make_rdm1()\n",
      "spin_scaling = True; input descr to exc shape: (50653, 15)\n",
      "eX.__call__, rho shape: (50653, 15)\n",
      "spin_scaling = False; input descr to exc shape: (50653, 13)\n",
      "eC.__call__, rho shape: (50653, 13)\n",
      "[8] (8,)\n",
      "(8, 8) (8, 8)\n",
      "Spin unpolarized make_rdm1()\n",
      "Batch Loss = 0.3738287099803208\n",
      "step=17, epoch_train_loss=0.3738287099803208\n",
      "Epoch 18\n"
     ]
    },
    {
     "name": "stderr",
     "output_type": "stream",
     "text": [
      "WARNING:jax._src.xla_bridge:CUDA backend failed to initialize: Found CUDA version 12010, but JAX was built against version 12030, which is newer. The copy of CUDA that is installed must be at least as new as the version against which JAX was built. (Set TF_CPP_MIN_LOG_LEVEL=0 and rerun for more info.)\n"
     ]
    },
    {
     "name": "stdout",
     "output_type": "stream",
     "text": [
      "Epoch 18 :: Batch 0/1\n",
      "spin_scaling = True; input descr to exc shape: (50653, 15)\n",
      "eX.__call__, rho shape: (50653, 15)\n",
      "spin_scaling = False; input descr to exc shape: (50653, 13)\n",
      "eC.__call__, rho shape: (50653, 13)\n",
      "[8] (8,)\n",
      "(8, 8) (8, 8)\n",
      "Spin unpolarized make_rdm1()\n",
      "spin_scaling = True; input descr to exc shape: (50653, 15)\n",
      "eX.__call__, rho shape: (50653, 15)\n",
      "spin_scaling = False; input descr to exc shape: (50653, 13)\n",
      "eC.__call__, rho shape: (50653, 13)\n",
      "[8] (8,)\n",
      "(8, 8) (8, 8)\n",
      "Spin unpolarized make_rdm1()\n",
      "Batch Loss = 0.3707571883897063\n",
      "step=18, epoch_train_loss=0.3707571883897063\n",
      "Epoch 19\n"
     ]
    },
    {
     "name": "stderr",
     "output_type": "stream",
     "text": [
      "WARNING:jax._src.xla_bridge:CUDA backend failed to initialize: Found CUDA version 12010, but JAX was built against version 12030, which is newer. The copy of CUDA that is installed must be at least as new as the version against which JAX was built. (Set TF_CPP_MIN_LOG_LEVEL=0 and rerun for more info.)\n"
     ]
    },
    {
     "name": "stdout",
     "output_type": "stream",
     "text": [
      "Epoch 19 :: Batch 0/1\n",
      "spin_scaling = True; input descr to exc shape: (50653, 15)\n",
      "eX.__call__, rho shape: (50653, 15)\n",
      "spin_scaling = False; input descr to exc shape: (50653, 13)\n",
      "eC.__call__, rho shape: (50653, 13)\n",
      "[8] (8,)\n",
      "(8, 8) (8, 8)\n",
      "Spin unpolarized make_rdm1()\n",
      "spin_scaling = True; input descr to exc shape: (50653, 15)\n",
      "eX.__call__, rho shape: (50653, 15)\n",
      "spin_scaling = False; input descr to exc shape: (50653, 13)\n",
      "eC.__call__, rho shape: (50653, 13)\n",
      "[8] (8,)\n",
      "(8, 8) (8, 8)\n",
      "Spin unpolarized make_rdm1()\n",
      "Batch Loss = 0.3678433830867336\n",
      "step=19, epoch_train_loss=0.3678433830867336\n",
      "Epoch 20\n"
     ]
    },
    {
     "name": "stderr",
     "output_type": "stream",
     "text": [
      "WARNING:jax._src.xla_bridge:CUDA backend failed to initialize: Found CUDA version 12010, but JAX was built against version 12030, which is newer. The copy of CUDA that is installed must be at least as new as the version against which JAX was built. (Set TF_CPP_MIN_LOG_LEVEL=0 and rerun for more info.)\n"
     ]
    },
    {
     "name": "stdout",
     "output_type": "stream",
     "text": [
      "Epoch 20 :: Batch 0/1\n",
      "spin_scaling = True; input descr to exc shape: (50653, 15)\n",
      "eX.__call__, rho shape: (50653, 15)\n",
      "spin_scaling = False; input descr to exc shape: (50653, 13)\n",
      "eC.__call__, rho shape: (50653, 13)\n",
      "[8] (8,)\n",
      "(8, 8) (8, 8)\n",
      "Spin unpolarized make_rdm1()\n",
      "spin_scaling = True; input descr to exc shape: (50653, 15)\n",
      "eX.__call__, rho shape: (50653, 15)\n",
      "spin_scaling = False; input descr to exc shape: (50653, 13)\n",
      "eC.__call__, rho shape: (50653, 13)\n",
      "[8] (8,)\n",
      "(8, 8) (8, 8)\n",
      "Spin unpolarized make_rdm1()\n",
      "Batch Loss = 0.36510131336574747\n",
      "step=20, epoch_train_loss=0.36510131336574747\n",
      "Epoch 21\n"
     ]
    },
    {
     "name": "stderr",
     "output_type": "stream",
     "text": [
      "WARNING:jax._src.xla_bridge:CUDA backend failed to initialize: Found CUDA version 12010, but JAX was built against version 12030, which is newer. The copy of CUDA that is installed must be at least as new as the version against which JAX was built. (Set TF_CPP_MIN_LOG_LEVEL=0 and rerun for more info.)\n"
     ]
    },
    {
     "name": "stdout",
     "output_type": "stream",
     "text": [
      "Epoch 21 :: Batch 0/1\n",
      "spin_scaling = True; input descr to exc shape: (50653, 15)\n",
      "eX.__call__, rho shape: (50653, 15)\n",
      "spin_scaling = False; input descr to exc shape: (50653, 13)\n",
      "eC.__call__, rho shape: (50653, 13)\n",
      "[8] (8,)\n",
      "(8, 8) (8, 8)\n",
      "Spin unpolarized make_rdm1()\n",
      "spin_scaling = True; input descr to exc shape: (50653, 15)\n",
      "eX.__call__, rho shape: (50653, 15)\n",
      "spin_scaling = False; input descr to exc shape: (50653, 13)\n",
      "eC.__call__, rho shape: (50653, 13)\n",
      "[8] (8,)\n",
      "(8, 8) (8, 8)\n",
      "Spin unpolarized make_rdm1()\n",
      "Batch Loss = 0.36303098441695814\n",
      "step=21, epoch_train_loss=0.36303098441695814\n",
      "Epoch 22\n"
     ]
    },
    {
     "name": "stderr",
     "output_type": "stream",
     "text": [
      "WARNING:jax._src.xla_bridge:CUDA backend failed to initialize: Found CUDA version 12010, but JAX was built against version 12030, which is newer. The copy of CUDA that is installed must be at least as new as the version against which JAX was built. (Set TF_CPP_MIN_LOG_LEVEL=0 and rerun for more info.)\n"
     ]
    },
    {
     "name": "stdout",
     "output_type": "stream",
     "text": [
      "Epoch 22 :: Batch 0/1\n",
      "spin_scaling = True; input descr to exc shape: (50653, 15)\n",
      "eX.__call__, rho shape: (50653, 15)\n",
      "spin_scaling = False; input descr to exc shape: (50653, 13)\n",
      "eC.__call__, rho shape: (50653, 13)\n",
      "[8] (8,)\n",
      "(8, 8) (8, 8)\n",
      "Spin unpolarized make_rdm1()\n",
      "spin_scaling = True; input descr to exc shape: (50653, 15)\n",
      "eX.__call__, rho shape: (50653, 15)\n",
      "spin_scaling = False; input descr to exc shape: (50653, 13)\n",
      "eC.__call__, rho shape: (50653, 13)\n",
      "[8] (8,)\n",
      "(8, 8) (8, 8)\n",
      "Spin unpolarized make_rdm1()\n",
      "Batch Loss = 0.36159065110889665\n",
      "step=22, epoch_train_loss=0.36159065110889665\n",
      "Epoch 23\n"
     ]
    },
    {
     "name": "stderr",
     "output_type": "stream",
     "text": [
      "WARNING:jax._src.xla_bridge:CUDA backend failed to initialize: Found CUDA version 12010, but JAX was built against version 12030, which is newer. The copy of CUDA that is installed must be at least as new as the version against which JAX was built. (Set TF_CPP_MIN_LOG_LEVEL=0 and rerun for more info.)\n"
     ]
    },
    {
     "name": "stdout",
     "output_type": "stream",
     "text": [
      "Epoch 23 :: Batch 0/1\n",
      "spin_scaling = True; input descr to exc shape: (50653, 15)\n",
      "eX.__call__, rho shape: (50653, 15)\n",
      "spin_scaling = False; input descr to exc shape: (50653, 13)\n",
      "eC.__call__, rho shape: (50653, 13)\n",
      "[8] (8,)\n",
      "(8, 8) (8, 8)\n",
      "Spin unpolarized make_rdm1()\n",
      "spin_scaling = True; input descr to exc shape: (50653, 15)\n",
      "eX.__call__, rho shape: (50653, 15)\n",
      "spin_scaling = False; input descr to exc shape: (50653, 13)\n",
      "eC.__call__, rho shape: (50653, 13)\n",
      "[8] (8,)\n",
      "(8, 8) (8, 8)\n",
      "Spin unpolarized make_rdm1()\n",
      "Batch Loss = 0.3601915784408585\n",
      "step=23, epoch_train_loss=0.3601915784408585\n",
      "Epoch 24\n"
     ]
    },
    {
     "name": "stderr",
     "output_type": "stream",
     "text": [
      "WARNING:jax._src.xla_bridge:CUDA backend failed to initialize: Found CUDA version 12010, but JAX was built against version 12030, which is newer. The copy of CUDA that is installed must be at least as new as the version against which JAX was built. (Set TF_CPP_MIN_LOG_LEVEL=0 and rerun for more info.)\n"
     ]
    },
    {
     "name": "stdout",
     "output_type": "stream",
     "text": [
      "Epoch 24 :: Batch 0/1\n",
      "spin_scaling = True; input descr to exc shape: (50653, 15)\n",
      "eX.__call__, rho shape: (50653, 15)\n",
      "spin_scaling = False; input descr to exc shape: (50653, 13)\n",
      "eC.__call__, rho shape: (50653, 13)\n",
      "[8] (8,)\n",
      "(8, 8) (8, 8)\n",
      "Spin unpolarized make_rdm1()\n",
      "spin_scaling = True; input descr to exc shape: (50653, 15)\n",
      "eX.__call__, rho shape: (50653, 15)\n",
      "spin_scaling = False; input descr to exc shape: (50653, 13)\n",
      "eC.__call__, rho shape: (50653, 13)\n",
      "[8] (8,)\n",
      "(8, 8) (8, 8)\n",
      "Spin unpolarized make_rdm1()\n",
      "Batch Loss = 0.3588191145389832\n",
      "step=24, epoch_train_loss=0.3588191145389832\n",
      "Epoch 25\n"
     ]
    },
    {
     "name": "stderr",
     "output_type": "stream",
     "text": [
      "WARNING:jax._src.xla_bridge:CUDA backend failed to initialize: Found CUDA version 12010, but JAX was built against version 12030, which is newer. The copy of CUDA that is installed must be at least as new as the version against which JAX was built. (Set TF_CPP_MIN_LOG_LEVEL=0 and rerun for more info.)\n"
     ]
    },
    {
     "name": "stdout",
     "output_type": "stream",
     "text": [
      "Epoch 25 :: Batch 0/1\n",
      "spin_scaling = True; input descr to exc shape: (50653, 15)\n",
      "eX.__call__, rho shape: (50653, 15)\n",
      "spin_scaling = False; input descr to exc shape: (50653, 13)\n",
      "eC.__call__, rho shape: (50653, 13)\n",
      "[8] (8,)\n",
      "(8, 8) (8, 8)\n",
      "Spin unpolarized make_rdm1()\n",
      "spin_scaling = True; input descr to exc shape: (50653, 15)\n",
      "eX.__call__, rho shape: (50653, 15)\n",
      "spin_scaling = False; input descr to exc shape: (50653, 13)\n",
      "eC.__call__, rho shape: (50653, 13)\n",
      "[8] (8,)\n",
      "(8, 8) (8, 8)\n",
      "Spin unpolarized make_rdm1()\n",
      "Batch Loss = 0.3578739091756096\n",
      "step=25, epoch_train_loss=0.3578739091756096\n",
      "Epoch 26\n"
     ]
    },
    {
     "name": "stderr",
     "output_type": "stream",
     "text": [
      "WARNING:jax._src.xla_bridge:CUDA backend failed to initialize: Found CUDA version 12010, but JAX was built against version 12030, which is newer. The copy of CUDA that is installed must be at least as new as the version against which JAX was built. (Set TF_CPP_MIN_LOG_LEVEL=0 and rerun for more info.)\n"
     ]
    },
    {
     "name": "stdout",
     "output_type": "stream",
     "text": [
      "Epoch 26 :: Batch 0/1\n",
      "spin_scaling = True; input descr to exc shape: (50653, 15)\n",
      "eX.__call__, rho shape: (50653, 15)\n",
      "spin_scaling = False; input descr to exc shape: (50653, 13)\n",
      "eC.__call__, rho shape: (50653, 13)\n",
      "[8] (8,)\n",
      "(8, 8) (8, 8)\n",
      "Spin unpolarized make_rdm1()\n",
      "spin_scaling = True; input descr to exc shape: (50653, 15)\n",
      "eX.__call__, rho shape: (50653, 15)\n",
      "spin_scaling = False; input descr to exc shape: (50653, 13)\n",
      "eC.__call__, rho shape: (50653, 13)\n",
      "[8] (8,)\n",
      "(8, 8) (8, 8)\n",
      "Spin unpolarized make_rdm1()\n",
      "Batch Loss = 0.3570311216734281\n",
      "step=26, epoch_train_loss=0.3570311216734281\n",
      "Epoch 27\n"
     ]
    },
    {
     "name": "stderr",
     "output_type": "stream",
     "text": [
      "WARNING:jax._src.xla_bridge:CUDA backend failed to initialize: Found CUDA version 12010, but JAX was built against version 12030, which is newer. The copy of CUDA that is installed must be at least as new as the version against which JAX was built. (Set TF_CPP_MIN_LOG_LEVEL=0 and rerun for more info.)\n"
     ]
    },
    {
     "name": "stdout",
     "output_type": "stream",
     "text": [
      "Epoch 27 :: Batch 0/1\n",
      "spin_scaling = True; input descr to exc shape: (50653, 15)\n",
      "eX.__call__, rho shape: (50653, 15)\n",
      "spin_scaling = False; input descr to exc shape: (50653, 13)\n",
      "eC.__call__, rho shape: (50653, 13)\n",
      "[8] (8,)\n",
      "(8, 8) (8, 8)\n",
      "Spin unpolarized make_rdm1()\n",
      "spin_scaling = True; input descr to exc shape: (50653, 15)\n",
      "eX.__call__, rho shape: (50653, 15)\n",
      "spin_scaling = False; input descr to exc shape: (50653, 13)\n",
      "eC.__call__, rho shape: (50653, 13)\n",
      "[8] (8,)\n",
      "(8, 8) (8, 8)\n",
      "Spin unpolarized make_rdm1()\n",
      "Batch Loss = 0.3560025628191874\n",
      "step=27, epoch_train_loss=0.3560025628191874\n"
     ]
    },
    {
     "name": "stderr",
     "output_type": "stream",
     "text": [
      "WARNING:jax._src.xla_bridge:CUDA backend failed to initialize: Found CUDA version 12010, but JAX was built against version 12030, which is newer. The copy of CUDA that is installed must be at least as new as the version against which JAX was built. (Set TF_CPP_MIN_LOG_LEVEL=0 and rerun for more info.)\n"
     ]
    },
    {
     "name": "stdout",
     "output_type": "stream",
     "text": [
      "Epoch 28\n",
      "Epoch 28 :: Batch 0/1\n",
      "spin_scaling = True; input descr to exc shape: (50653, 15)\n",
      "eX.__call__, rho shape: (50653, 15)\n",
      "spin_scaling = False; input descr to exc shape: (50653, 13)\n",
      "eC.__call__, rho shape: (50653, 13)\n",
      "[8] (8,)\n",
      "(8, 8) (8, 8)\n",
      "Spin unpolarized make_rdm1()\n",
      "spin_scaling = True; input descr to exc shape: (50653, 15)\n",
      "eX.__call__, rho shape: (50653, 15)\n",
      "spin_scaling = False; input descr to exc shape: (50653, 13)\n",
      "eC.__call__, rho shape: (50653, 13)\n",
      "[8] (8,)\n",
      "(8, 8) (8, 8)\n",
      "Spin unpolarized make_rdm1()\n",
      "Batch Loss = 0.35460832807516707\n",
      "step=28, epoch_train_loss=0.35460832807516707\n",
      "Epoch 29\n"
     ]
    },
    {
     "name": "stderr",
     "output_type": "stream",
     "text": [
      "WARNING:jax._src.xla_bridge:CUDA backend failed to initialize: Found CUDA version 12010, but JAX was built against version 12030, which is newer. The copy of CUDA that is installed must be at least as new as the version against which JAX was built. (Set TF_CPP_MIN_LOG_LEVEL=0 and rerun for more info.)\n"
     ]
    },
    {
     "name": "stdout",
     "output_type": "stream",
     "text": [
      "Epoch 29 :: Batch 0/1\n",
      "spin_scaling = True; input descr to exc shape: (50653, 15)\n",
      "eX.__call__, rho shape: (50653, 15)\n",
      "spin_scaling = False; input descr to exc shape: (50653, 13)\n",
      "eC.__call__, rho shape: (50653, 13)\n",
      "[8] (8,)\n",
      "(8, 8) (8, 8)\n",
      "Spin unpolarized make_rdm1()\n",
      "spin_scaling = True; input descr to exc shape: (50653, 15)\n",
      "eX.__call__, rho shape: (50653, 15)\n",
      "spin_scaling = False; input descr to exc shape: (50653, 13)\n",
      "eC.__call__, rho shape: (50653, 13)\n",
      "[8] (8,)\n",
      "(8, 8) (8, 8)\n",
      "Spin unpolarized make_rdm1()\n",
      "Batch Loss = 0.3517017710648789\n",
      "step=29, epoch_train_loss=0.3517017710648789\n",
      "Epoch 30\n"
     ]
    },
    {
     "name": "stderr",
     "output_type": "stream",
     "text": [
      "WARNING:jax._src.xla_bridge:CUDA backend failed to initialize: Found CUDA version 12010, but JAX was built against version 12030, which is newer. The copy of CUDA that is installed must be at least as new as the version against which JAX was built. (Set TF_CPP_MIN_LOG_LEVEL=0 and rerun for more info.)\n"
     ]
    },
    {
     "name": "stdout",
     "output_type": "stream",
     "text": [
      "Epoch 30 :: Batch 0/1\n",
      "spin_scaling = True; input descr to exc shape: (50653, 15)\n",
      "eX.__call__, rho shape: (50653, 15)\n",
      "spin_scaling = False; input descr to exc shape: (50653, 13)\n",
      "eC.__call__, rho shape: (50653, 13)\n",
      "[8] (8,)\n",
      "(8, 8) (8, 8)\n",
      "Spin unpolarized make_rdm1()\n",
      "spin_scaling = True; input descr to exc shape: (50653, 15)\n",
      "eX.__call__, rho shape: (50653, 15)\n",
      "spin_scaling = False; input descr to exc shape: (50653, 13)\n",
      "eC.__call__, rho shape: (50653, 13)\n",
      "[8] (8,)\n",
      "(8, 8) (8, 8)\n",
      "Spin unpolarized make_rdm1()\n",
      "Batch Loss = 0.34553948692822534\n",
      "step=30, epoch_train_loss=0.34553948692822534\n",
      "Epoch 31\n"
     ]
    },
    {
     "name": "stderr",
     "output_type": "stream",
     "text": [
      "WARNING:jax._src.xla_bridge:CUDA backend failed to initialize: Found CUDA version 12010, but JAX was built against version 12030, which is newer. The copy of CUDA that is installed must be at least as new as the version against which JAX was built. (Set TF_CPP_MIN_LOG_LEVEL=0 and rerun for more info.)\n"
     ]
    },
    {
     "name": "stdout",
     "output_type": "stream",
     "text": [
      "Epoch 31 :: Batch 0/1\n",
      "spin_scaling = True; input descr to exc shape: (50653, 15)\n",
      "eX.__call__, rho shape: (50653, 15)\n",
      "spin_scaling = False; input descr to exc shape: (50653, 13)\n",
      "eC.__call__, rho shape: (50653, 13)\n",
      "[8] (8,)\n",
      "(8, 8) (8, 8)\n",
      "Spin unpolarized make_rdm1()\n",
      "spin_scaling = True; input descr to exc shape: (50653, 15)\n",
      "eX.__call__, rho shape: (50653, 15)\n",
      "spin_scaling = False; input descr to exc shape: (50653, 13)\n",
      "eC.__call__, rho shape: (50653, 13)\n",
      "[8] (8,)\n",
      "(8, 8) (8, 8)\n",
      "Spin unpolarized make_rdm1()\n",
      "Batch Loss = 0.3420374906370578\n",
      "step=31, epoch_train_loss=0.3420374906370578\n"
     ]
    },
    {
     "name": "stderr",
     "output_type": "stream",
     "text": [
      "WARNING:jax._src.xla_bridge:CUDA backend failed to initialize: Found CUDA version 12010, but JAX was built against version 12030, which is newer. The copy of CUDA that is installed must be at least as new as the version against which JAX was built. (Set TF_CPP_MIN_LOG_LEVEL=0 and rerun for more info.)\n"
     ]
    },
    {
     "name": "stdout",
     "output_type": "stream",
     "text": [
      "Epoch 32\n",
      "Epoch 32 :: Batch 0/1\n",
      "spin_scaling = True; input descr to exc shape: (50653, 15)\n",
      "eX.__call__, rho shape: (50653, 15)\n",
      "spin_scaling = False; input descr to exc shape: (50653, 13)\n",
      "eC.__call__, rho shape: (50653, 13)\n",
      "[8] (8,)\n",
      "(8, 8) (8, 8)\n",
      "Spin unpolarized make_rdm1()\n",
      "spin_scaling = True; input descr to exc shape: (50653, 15)\n",
      "eX.__call__, rho shape: (50653, 15)\n",
      "spin_scaling = False; input descr to exc shape: (50653, 13)\n",
      "eC.__call__, rho shape: (50653, 13)\n",
      "[8] (8,)\n",
      "(8, 8) (8, 8)\n",
      "Spin unpolarized make_rdm1()\n",
      "Batch Loss = 0.3350595965700762\n",
      "step=32, epoch_train_loss=0.3350595965700762\n",
      "Epoch 33\n"
     ]
    },
    {
     "name": "stderr",
     "output_type": "stream",
     "text": [
      "WARNING:jax._src.xla_bridge:CUDA backend failed to initialize: Found CUDA version 12010, but JAX was built against version 12030, which is newer. The copy of CUDA that is installed must be at least as new as the version against which JAX was built. (Set TF_CPP_MIN_LOG_LEVEL=0 and rerun for more info.)\n"
     ]
    },
    {
     "name": "stdout",
     "output_type": "stream",
     "text": [
      "Epoch 33 :: Batch 0/1\n",
      "spin_scaling = True; input descr to exc shape: (50653, 15)\n",
      "eX.__call__, rho shape: (50653, 15)\n",
      "spin_scaling = False; input descr to exc shape: (50653, 13)\n",
      "eC.__call__, rho shape: (50653, 13)\n",
      "[8] (8,)\n",
      "(8, 8) (8, 8)\n",
      "Spin unpolarized make_rdm1()\n",
      "spin_scaling = True; input descr to exc shape: (50653, 15)\n",
      "eX.__call__, rho shape: (50653, 15)\n",
      "spin_scaling = False; input descr to exc shape: (50653, 13)\n",
      "eC.__call__, rho shape: (50653, 13)\n",
      "[8] (8,)\n",
      "(8, 8) (8, 8)\n",
      "Spin unpolarized make_rdm1()\n",
      "Batch Loss = 0.33120805629278327\n",
      "step=33, epoch_train_loss=0.33120805629278327\n"
     ]
    },
    {
     "name": "stderr",
     "output_type": "stream",
     "text": [
      "WARNING:jax._src.xla_bridge:CUDA backend failed to initialize: Found CUDA version 12010, but JAX was built against version 12030, which is newer. The copy of CUDA that is installed must be at least as new as the version against which JAX was built. (Set TF_CPP_MIN_LOG_LEVEL=0 and rerun for more info.)\n"
     ]
    },
    {
     "name": "stdout",
     "output_type": "stream",
     "text": [
      "Epoch 34\n",
      "Epoch 34 :: Batch 0/1\n",
      "spin_scaling = True; input descr to exc shape: (50653, 15)\n",
      "eX.__call__, rho shape: (50653, 15)\n",
      "spin_scaling = False; input descr to exc shape: (50653, 13)\n",
      "eC.__call__, rho shape: (50653, 13)\n",
      "[8] (8,)\n",
      "(8, 8) (8, 8)\n",
      "Spin unpolarized make_rdm1()\n",
      "spin_scaling = True; input descr to exc shape: (50653, 15)\n",
      "eX.__call__, rho shape: (50653, 15)\n",
      "spin_scaling = False; input descr to exc shape: (50653, 13)\n",
      "eC.__call__, rho shape: (50653, 13)\n",
      "[8] (8,)\n",
      "(8, 8) (8, 8)\n",
      "Spin unpolarized make_rdm1()\n",
      "Batch Loss = 0.32684562296624864\n",
      "step=34, epoch_train_loss=0.32684562296624864\n"
     ]
    },
    {
     "name": "stderr",
     "output_type": "stream",
     "text": [
      "WARNING:jax._src.xla_bridge:CUDA backend failed to initialize: Found CUDA version 12010, but JAX was built against version 12030, which is newer. The copy of CUDA that is installed must be at least as new as the version against which JAX was built. (Set TF_CPP_MIN_LOG_LEVEL=0 and rerun for more info.)\n"
     ]
    },
    {
     "name": "stdout",
     "output_type": "stream",
     "text": [
      "Epoch 35\n",
      "Epoch 35 :: Batch 0/1\n",
      "spin_scaling = True; input descr to exc shape: (50653, 15)\n",
      "eX.__call__, rho shape: (50653, 15)\n",
      "spin_scaling = False; input descr to exc shape: (50653, 13)\n",
      "eC.__call__, rho shape: (50653, 13)\n",
      "[8] (8,)\n",
      "(8, 8) (8, 8)\n",
      "Spin unpolarized make_rdm1()\n",
      "spin_scaling = True; input descr to exc shape: (50653, 15)\n",
      "eX.__call__, rho shape: (50653, 15)\n",
      "spin_scaling = False; input descr to exc shape: (50653, 13)\n",
      "eC.__call__, rho shape: (50653, 13)\n",
      "[8] (8,)\n",
      "(8, 8) (8, 8)\n",
      "Spin unpolarized make_rdm1()\n",
      "Batch Loss = 0.3215457753562574\n",
      "step=35, epoch_train_loss=0.3215457753562574\n",
      "Epoch 36\n"
     ]
    },
    {
     "name": "stderr",
     "output_type": "stream",
     "text": [
      "WARNING:jax._src.xla_bridge:CUDA backend failed to initialize: Found CUDA version 12010, but JAX was built against version 12030, which is newer. The copy of CUDA that is installed must be at least as new as the version against which JAX was built. (Set TF_CPP_MIN_LOG_LEVEL=0 and rerun for more info.)\n"
     ]
    },
    {
     "name": "stdout",
     "output_type": "stream",
     "text": [
      "Epoch 36 :: Batch 0/1\n",
      "spin_scaling = True; input descr to exc shape: (50653, 15)\n",
      "eX.__call__, rho shape: (50653, 15)\n",
      "spin_scaling = False; input descr to exc shape: (50653, 13)\n",
      "eC.__call__, rho shape: (50653, 13)\n",
      "[8] (8,)\n",
      "(8, 8) (8, 8)\n",
      "Spin unpolarized make_rdm1()\n",
      "spin_scaling = True; input descr to exc shape: (50653, 15)\n",
      "eX.__call__, rho shape: (50653, 15)\n",
      "spin_scaling = False; input descr to exc shape: (50653, 13)\n",
      "eC.__call__, rho shape: (50653, 13)\n",
      "[8] (8,)\n",
      "(8, 8) (8, 8)\n",
      "Spin unpolarized make_rdm1()\n",
      "Batch Loss = 0.3235189893167063\n",
      "step=36, epoch_train_loss=0.3235189893167063\n",
      "Epoch 37\n"
     ]
    },
    {
     "name": "stderr",
     "output_type": "stream",
     "text": [
      "WARNING:jax._src.xla_bridge:CUDA backend failed to initialize: Found CUDA version 12010, but JAX was built against version 12030, which is newer. The copy of CUDA that is installed must be at least as new as the version against which JAX was built. (Set TF_CPP_MIN_LOG_LEVEL=0 and rerun for more info.)\n"
     ]
    },
    {
     "name": "stdout",
     "output_type": "stream",
     "text": [
      "Epoch 37 :: Batch 0/1\n",
      "spin_scaling = True; input descr to exc shape: (50653, 15)\n",
      "eX.__call__, rho shape: (50653, 15)\n",
      "spin_scaling = False; input descr to exc shape: (50653, 13)\n",
      "eC.__call__, rho shape: (50653, 13)\n",
      "[8] (8,)\n",
      "(8, 8) (8, 8)\n",
      "Spin unpolarized make_rdm1()\n",
      "spin_scaling = True; input descr to exc shape: (50653, 15)\n",
      "eX.__call__, rho shape: (50653, 15)\n",
      "spin_scaling = False; input descr to exc shape: (50653, 13)\n",
      "eC.__call__, rho shape: (50653, 13)\n",
      "[8] (8,)\n",
      "(8, 8) (8, 8)\n",
      "Spin unpolarized make_rdm1()\n",
      "Batch Loss = 0.32163742059009404\n",
      "step=37, epoch_train_loss=0.32163742059009404\n",
      "Epoch 38\n"
     ]
    },
    {
     "name": "stderr",
     "output_type": "stream",
     "text": [
      "WARNING:jax._src.xla_bridge:CUDA backend failed to initialize: Found CUDA version 12010, but JAX was built against version 12030, which is newer. The copy of CUDA that is installed must be at least as new as the version against which JAX was built. (Set TF_CPP_MIN_LOG_LEVEL=0 and rerun for more info.)\n"
     ]
    },
    {
     "name": "stdout",
     "output_type": "stream",
     "text": [
      "Epoch 38 :: Batch 0/1\n",
      "spin_scaling = True; input descr to exc shape: (50653, 15)\n",
      "eX.__call__, rho shape: (50653, 15)\n",
      "spin_scaling = False; input descr to exc shape: (50653, 13)\n",
      "eC.__call__, rho shape: (50653, 13)\n",
      "[8] (8,)\n",
      "(8, 8) (8, 8)\n",
      "Spin unpolarized make_rdm1()\n",
      "spin_scaling = True; input descr to exc shape: (50653, 15)\n",
      "eX.__call__, rho shape: (50653, 15)\n",
      "spin_scaling = False; input descr to exc shape: (50653, 13)\n",
      "eC.__call__, rho shape: (50653, 13)\n",
      "[8] (8,)\n",
      "(8, 8) (8, 8)\n",
      "Spin unpolarized make_rdm1()\n",
      "Batch Loss = 0.3198908666720208\n",
      "step=38, epoch_train_loss=0.3198908666720208\n",
      "Epoch 39\n"
     ]
    },
    {
     "name": "stderr",
     "output_type": "stream",
     "text": [
      "WARNING:jax._src.xla_bridge:CUDA backend failed to initialize: Found CUDA version 12010, but JAX was built against version 12030, which is newer. The copy of CUDA that is installed must be at least as new as the version against which JAX was built. (Set TF_CPP_MIN_LOG_LEVEL=0 and rerun for more info.)\n"
     ]
    },
    {
     "name": "stdout",
     "output_type": "stream",
     "text": [
      "Epoch 39 :: Batch 0/1\n",
      "spin_scaling = True; input descr to exc shape: (50653, 15)\n",
      "eX.__call__, rho shape: (50653, 15)\n",
      "spin_scaling = False; input descr to exc shape: (50653, 13)\n",
      "eC.__call__, rho shape: (50653, 13)\n",
      "[8] (8,)\n",
      "(8, 8) (8, 8)\n",
      "Spin unpolarized make_rdm1()\n",
      "spin_scaling = True; input descr to exc shape: (50653, 15)\n",
      "eX.__call__, rho shape: (50653, 15)\n",
      "spin_scaling = False; input descr to exc shape: (50653, 13)\n",
      "eC.__call__, rho shape: (50653, 13)\n",
      "[8] (8,)\n",
      "(8, 8) (8, 8)\n",
      "Spin unpolarized make_rdm1()\n",
      "Batch Loss = 0.3209623346225663\n",
      "step=39, epoch_train_loss=0.3209623346225663\n",
      "Epoch 40\n"
     ]
    },
    {
     "name": "stderr",
     "output_type": "stream",
     "text": [
      "WARNING:jax._src.xla_bridge:CUDA backend failed to initialize: Found CUDA version 12010, but JAX was built against version 12030, which is newer. The copy of CUDA that is installed must be at least as new as the version against which JAX was built. (Set TF_CPP_MIN_LOG_LEVEL=0 and rerun for more info.)\n"
     ]
    },
    {
     "name": "stdout",
     "output_type": "stream",
     "text": [
      "Epoch 40 :: Batch 0/1\n",
      "spin_scaling = True; input descr to exc shape: (50653, 15)\n",
      "eX.__call__, rho shape: (50653, 15)\n",
      "spin_scaling = False; input descr to exc shape: (50653, 13)\n",
      "eC.__call__, rho shape: (50653, 13)\n",
      "[8] (8,)\n",
      "(8, 8) (8, 8)\n",
      "Spin unpolarized make_rdm1()\n",
      "spin_scaling = True; input descr to exc shape: (50653, 15)\n",
      "eX.__call__, rho shape: (50653, 15)\n",
      "spin_scaling = False; input descr to exc shape: (50653, 13)\n",
      "eC.__call__, rho shape: (50653, 13)\n",
      "[8] (8,)\n",
      "(8, 8) (8, 8)\n",
      "Spin unpolarized make_rdm1()\n",
      "Batch Loss = 0.31867533796575453\n",
      "step=40, epoch_train_loss=0.31867533796575453\n",
      "Epoch 41\n"
     ]
    },
    {
     "name": "stderr",
     "output_type": "stream",
     "text": [
      "WARNING:jax._src.xla_bridge:CUDA backend failed to initialize: Found CUDA version 12010, but JAX was built against version 12030, which is newer. The copy of CUDA that is installed must be at least as new as the version against which JAX was built. (Set TF_CPP_MIN_LOG_LEVEL=0 and rerun for more info.)\n"
     ]
    },
    {
     "name": "stdout",
     "output_type": "stream",
     "text": [
      "Epoch 41 :: Batch 0/1\n",
      "spin_scaling = True; input descr to exc shape: (50653, 15)\n",
      "eX.__call__, rho shape: (50653, 15)\n",
      "spin_scaling = False; input descr to exc shape: (50653, 13)\n",
      "eC.__call__, rho shape: (50653, 13)\n",
      "[8] (8,)\n",
      "(8, 8) (8, 8)\n",
      "Spin unpolarized make_rdm1()\n",
      "spin_scaling = True; input descr to exc shape: (50653, 15)\n",
      "eX.__call__, rho shape: (50653, 15)\n",
      "spin_scaling = False; input descr to exc shape: (50653, 13)\n",
      "eC.__call__, rho shape: (50653, 13)\n",
      "[8] (8,)\n",
      "(8, 8) (8, 8)\n",
      "Spin unpolarized make_rdm1()\n",
      "Batch Loss = 0.3165830813225272\n",
      "step=41, epoch_train_loss=0.3165830813225272\n",
      "Epoch 42\n"
     ]
    },
    {
     "name": "stderr",
     "output_type": "stream",
     "text": [
      "WARNING:jax._src.xla_bridge:CUDA backend failed to initialize: Found CUDA version 12010, but JAX was built against version 12030, which is newer. The copy of CUDA that is installed must be at least as new as the version against which JAX was built. (Set TF_CPP_MIN_LOG_LEVEL=0 and rerun for more info.)\n"
     ]
    },
    {
     "name": "stdout",
     "output_type": "stream",
     "text": [
      "Epoch 42 :: Batch 0/1\n",
      "spin_scaling = True; input descr to exc shape: (50653, 15)\n",
      "eX.__call__, rho shape: (50653, 15)\n",
      "spin_scaling = False; input descr to exc shape: (50653, 13)\n",
      "eC.__call__, rho shape: (50653, 13)\n",
      "[8] (8,)\n",
      "(8, 8) (8, 8)\n",
      "Spin unpolarized make_rdm1()\n",
      "spin_scaling = True; input descr to exc shape: (50653, 15)\n",
      "eX.__call__, rho shape: (50653, 15)\n",
      "spin_scaling = False; input descr to exc shape: (50653, 13)\n",
      "eC.__call__, rho shape: (50653, 13)\n",
      "[8] (8,)\n",
      "(8, 8) (8, 8)\n",
      "Spin unpolarized make_rdm1()\n",
      "Batch Loss = 0.3168929861690313\n",
      "step=42, epoch_train_loss=0.3168929861690313\n",
      "Epoch 43\n"
     ]
    },
    {
     "name": "stderr",
     "output_type": "stream",
     "text": [
      "WARNING:jax._src.xla_bridge:CUDA backend failed to initialize: Found CUDA version 12010, but JAX was built against version 12030, which is newer. The copy of CUDA that is installed must be at least as new as the version against which JAX was built. (Set TF_CPP_MIN_LOG_LEVEL=0 and rerun for more info.)\n"
     ]
    },
    {
     "name": "stdout",
     "output_type": "stream",
     "text": [
      "Epoch 43 :: Batch 0/1\n",
      "spin_scaling = True; input descr to exc shape: (50653, 15)\n",
      "eX.__call__, rho shape: (50653, 15)\n",
      "spin_scaling = False; input descr to exc shape: (50653, 13)\n",
      "eC.__call__, rho shape: (50653, 13)\n",
      "[8] (8,)\n",
      "(8, 8) (8, 8)\n",
      "Spin unpolarized make_rdm1()\n",
      "spin_scaling = True; input descr to exc shape: (50653, 15)\n",
      "eX.__call__, rho shape: (50653, 15)\n",
      "spin_scaling = False; input descr to exc shape: (50653, 13)\n",
      "eC.__call__, rho shape: (50653, 13)\n",
      "[8] (8,)\n",
      "(8, 8) (8, 8)\n",
      "Spin unpolarized make_rdm1()\n",
      "Batch Loss = 0.31467854750225643\n",
      "step=43, epoch_train_loss=0.31467854750225643\n"
     ]
    },
    {
     "name": "stderr",
     "output_type": "stream",
     "text": [
      "WARNING:jax._src.xla_bridge:CUDA backend failed to initialize: Found CUDA version 12010, but JAX was built against version 12030, which is newer. The copy of CUDA that is installed must be at least as new as the version against which JAX was built. (Set TF_CPP_MIN_LOG_LEVEL=0 and rerun for more info.)\n"
     ]
    },
    {
     "name": "stdout",
     "output_type": "stream",
     "text": [
      "Epoch 44\n",
      "Epoch 44 :: Batch 0/1\n",
      "spin_scaling = True; input descr to exc shape: (50653, 15)\n",
      "eX.__call__, rho shape: (50653, 15)\n",
      "spin_scaling = False; input descr to exc shape: (50653, 13)\n",
      "eC.__call__, rho shape: (50653, 13)\n",
      "[8] (8,)\n",
      "(8, 8) (8, 8)\n",
      "Spin unpolarized make_rdm1()\n",
      "spin_scaling = True; input descr to exc shape: (50653, 15)\n",
      "eX.__call__, rho shape: (50653, 15)\n",
      "spin_scaling = False; input descr to exc shape: (50653, 13)\n",
      "eC.__call__, rho shape: (50653, 13)\n",
      "[8] (8,)\n",
      "(8, 8) (8, 8)\n",
      "Spin unpolarized make_rdm1()\n",
      "Batch Loss = 0.3144353387730976\n",
      "step=44, epoch_train_loss=0.3144353387730976\n",
      "Epoch 45\n"
     ]
    },
    {
     "name": "stderr",
     "output_type": "stream",
     "text": [
      "WARNING:jax._src.xla_bridge:CUDA backend failed to initialize: Found CUDA version 12010, but JAX was built against version 12030, which is newer. The copy of CUDA that is installed must be at least as new as the version against which JAX was built. (Set TF_CPP_MIN_LOG_LEVEL=0 and rerun for more info.)\n"
     ]
    },
    {
     "name": "stdout",
     "output_type": "stream",
     "text": [
      "Epoch 45 :: Batch 0/1\n",
      "spin_scaling = True; input descr to exc shape: (50653, 15)\n",
      "eX.__call__, rho shape: (50653, 15)\n",
      "spin_scaling = False; input descr to exc shape: (50653, 13)\n",
      "eC.__call__, rho shape: (50653, 13)\n",
      "[8] (8,)\n",
      "(8, 8) (8, 8)\n",
      "Spin unpolarized make_rdm1()\n",
      "spin_scaling = True; input descr to exc shape: (50653, 15)\n",
      "eX.__call__, rho shape: (50653, 15)\n",
      "spin_scaling = False; input descr to exc shape: (50653, 13)\n",
      "eC.__call__, rho shape: (50653, 13)\n",
      "[8] (8,)\n",
      "(8, 8) (8, 8)\n",
      "Spin unpolarized make_rdm1()\n",
      "Batch Loss = 0.3138487072610381\n",
      "step=45, epoch_train_loss=0.3138487072610381\n",
      "Epoch 46\n"
     ]
    },
    {
     "name": "stderr",
     "output_type": "stream",
     "text": [
      "WARNING:jax._src.xla_bridge:CUDA backend failed to initialize: Found CUDA version 12010, but JAX was built against version 12030, which is newer. The copy of CUDA that is installed must be at least as new as the version against which JAX was built. (Set TF_CPP_MIN_LOG_LEVEL=0 and rerun for more info.)\n"
     ]
    },
    {
     "name": "stdout",
     "output_type": "stream",
     "text": [
      "Epoch 46 :: Batch 0/1\n",
      "spin_scaling = True; input descr to exc shape: (50653, 15)\n",
      "eX.__call__, rho shape: (50653, 15)\n",
      "spin_scaling = False; input descr to exc shape: (50653, 13)\n",
      "eC.__call__, rho shape: (50653, 13)\n",
      "[8] (8,)\n",
      "(8, 8) (8, 8)\n",
      "Spin unpolarized make_rdm1()\n",
      "spin_scaling = True; input descr to exc shape: (50653, 15)\n",
      "eX.__call__, rho shape: (50653, 15)\n",
      "spin_scaling = False; input descr to exc shape: (50653, 13)\n",
      "eC.__call__, rho shape: (50653, 13)\n",
      "[8] (8,)\n",
      "(8, 8) (8, 8)\n",
      "Spin unpolarized make_rdm1()\n",
      "Batch Loss = 0.3124993269661702\n",
      "step=46, epoch_train_loss=0.3124993269661702\n",
      "Epoch 47\n"
     ]
    },
    {
     "name": "stderr",
     "output_type": "stream",
     "text": [
      "WARNING:jax._src.xla_bridge:CUDA backend failed to initialize: Found CUDA version 12010, but JAX was built against version 12030, which is newer. The copy of CUDA that is installed must be at least as new as the version against which JAX was built. (Set TF_CPP_MIN_LOG_LEVEL=0 and rerun for more info.)\n"
     ]
    },
    {
     "name": "stdout",
     "output_type": "stream",
     "text": [
      "Epoch 47 :: Batch 0/1\n",
      "spin_scaling = True; input descr to exc shape: (50653, 15)\n",
      "eX.__call__, rho shape: (50653, 15)\n",
      "spin_scaling = False; input descr to exc shape: (50653, 13)\n",
      "eC.__call__, rho shape: (50653, 13)\n",
      "[8] (8,)\n",
      "(8, 8) (8, 8)\n",
      "Spin unpolarized make_rdm1()\n",
      "spin_scaling = True; input descr to exc shape: (50653, 15)\n",
      "eX.__call__, rho shape: (50653, 15)\n",
      "spin_scaling = False; input descr to exc shape: (50653, 13)\n",
      "eC.__call__, rho shape: (50653, 13)\n",
      "[8] (8,)\n",
      "(8, 8) (8, 8)\n",
      "Spin unpolarized make_rdm1()\n",
      "Batch Loss = 0.3111739225010308\n",
      "step=47, epoch_train_loss=0.3111739225010308\n",
      "Epoch 48\n"
     ]
    },
    {
     "name": "stderr",
     "output_type": "stream",
     "text": [
      "WARNING:jax._src.xla_bridge:CUDA backend failed to initialize: Found CUDA version 12010, but JAX was built against version 12030, which is newer. The copy of CUDA that is installed must be at least as new as the version against which JAX was built. (Set TF_CPP_MIN_LOG_LEVEL=0 and rerun for more info.)\n"
     ]
    },
    {
     "name": "stdout",
     "output_type": "stream",
     "text": [
      "Epoch 48 :: Batch 0/1\n",
      "spin_scaling = True; input descr to exc shape: (50653, 15)\n",
      "eX.__call__, rho shape: (50653, 15)\n",
      "spin_scaling = False; input descr to exc shape: (50653, 13)\n",
      "eC.__call__, rho shape: (50653, 13)\n",
      "[8] (8,)\n",
      "(8, 8) (8, 8)\n",
      "Spin unpolarized make_rdm1()\n",
      "spin_scaling = True; input descr to exc shape: (50653, 15)\n",
      "eX.__call__, rho shape: (50653, 15)\n",
      "spin_scaling = False; input descr to exc shape: (50653, 13)\n",
      "eC.__call__, rho shape: (50653, 13)\n",
      "[8] (8,)\n",
      "(8, 8) (8, 8)\n",
      "Spin unpolarized make_rdm1()\n",
      "Batch Loss = 0.31081063522851893\n",
      "step=48, epoch_train_loss=0.31081063522851893\n"
     ]
    },
    {
     "name": "stderr",
     "output_type": "stream",
     "text": [
      "WARNING:jax._src.xla_bridge:CUDA backend failed to initialize: Found CUDA version 12010, but JAX was built against version 12030, which is newer. The copy of CUDA that is installed must be at least as new as the version against which JAX was built. (Set TF_CPP_MIN_LOG_LEVEL=0 and rerun for more info.)\n"
     ]
    },
    {
     "name": "stdout",
     "output_type": "stream",
     "text": [
      "Epoch 49\n",
      "Epoch 49 :: Batch 0/1\n",
      "spin_scaling = True; input descr to exc shape: (50653, 15)\n",
      "eX.__call__, rho shape: (50653, 15)\n",
      "spin_scaling = False; input descr to exc shape: (50653, 13)\n",
      "eC.__call__, rho shape: (50653, 13)\n",
      "[8] (8,)\n",
      "(8, 8) (8, 8)\n",
      "Spin unpolarized make_rdm1()\n",
      "spin_scaling = True; input descr to exc shape: (50653, 15)\n",
      "eX.__call__, rho shape: (50653, 15)\n",
      "spin_scaling = False; input descr to exc shape: (50653, 13)\n",
      "eC.__call__, rho shape: (50653, 13)\n",
      "[8] (8,)\n",
      "(8, 8) (8, 8)\n",
      "Spin unpolarized make_rdm1()\n",
      "Batch Loss = 0.30927722273547964\n",
      "step=49, epoch_train_loss=0.30927722273547964\n",
      "Epoch 50\n"
     ]
    },
    {
     "name": "stderr",
     "output_type": "stream",
     "text": [
      "WARNING:jax._src.xla_bridge:CUDA backend failed to initialize: Found CUDA version 12010, but JAX was built against version 12030, which is newer. The copy of CUDA that is installed must be at least as new as the version against which JAX was built. (Set TF_CPP_MIN_LOG_LEVEL=0 and rerun for more info.)\n"
     ]
    },
    {
     "name": "stdout",
     "output_type": "stream",
     "text": [
      "Epoch 50 :: Batch 0/1\n",
      "spin_scaling = True; input descr to exc shape: (50653, 15)\n",
      "eX.__call__, rho shape: (50653, 15)\n",
      "spin_scaling = False; input descr to exc shape: (50653, 13)\n",
      "eC.__call__, rho shape: (50653, 13)\n",
      "[8] (8,)\n",
      "(8, 8) (8, 8)\n",
      "Spin unpolarized make_rdm1()\n",
      "spin_scaling = True; input descr to exc shape: (50653, 15)\n",
      "eX.__call__, rho shape: (50653, 15)\n",
      "spin_scaling = False; input descr to exc shape: (50653, 13)\n",
      "eC.__call__, rho shape: (50653, 13)\n",
      "[8] (8,)\n",
      "(8, 8) (8, 8)\n",
      "Spin unpolarized make_rdm1()\n",
      "Batch Loss = 0.30874194843446756\n",
      "step=50, epoch_train_loss=0.30874194843446756\n"
     ]
    },
    {
     "name": "stderr",
     "output_type": "stream",
     "text": [
      "WARNING:jax._src.xla_bridge:CUDA backend failed to initialize: Found CUDA version 12010, but JAX was built against version 12030, which is newer. The copy of CUDA that is installed must be at least as new as the version against which JAX was built. (Set TF_CPP_MIN_LOG_LEVEL=0 and rerun for more info.)\n"
     ]
    },
    {
     "name": "stdout",
     "output_type": "stream",
     "text": [
      "Epoch 51\n",
      "Epoch 51 :: Batch 0/1\n",
      "spin_scaling = True; input descr to exc shape: (50653, 15)\n",
      "eX.__call__, rho shape: (50653, 15)\n",
      "spin_scaling = False; input descr to exc shape: (50653, 13)\n",
      "eC.__call__, rho shape: (50653, 13)\n",
      "[8] (8,)\n",
      "(8, 8) (8, 8)\n",
      "Spin unpolarized make_rdm1()\n",
      "spin_scaling = True; input descr to exc shape: (50653, 15)\n",
      "eX.__call__, rho shape: (50653, 15)\n",
      "spin_scaling = False; input descr to exc shape: (50653, 13)\n",
      "eC.__call__, rho shape: (50653, 13)\n",
      "[8] (8,)\n",
      "(8, 8) (8, 8)\n",
      "Spin unpolarized make_rdm1()\n",
      "Batch Loss = 0.3074352613703031\n",
      "step=51, epoch_train_loss=0.3074352613703031\n"
     ]
    },
    {
     "name": "stderr",
     "output_type": "stream",
     "text": [
      "WARNING:jax._src.xla_bridge:CUDA backend failed to initialize: Found CUDA version 12010, but JAX was built against version 12030, which is newer. The copy of CUDA that is installed must be at least as new as the version against which JAX was built. (Set TF_CPP_MIN_LOG_LEVEL=0 and rerun for more info.)\n"
     ]
    },
    {
     "name": "stdout",
     "output_type": "stream",
     "text": [
      "Epoch 52\n",
      "Epoch 52 :: Batch 0/1\n",
      "spin_scaling = True; input descr to exc shape: (50653, 15)\n",
      "eX.__call__, rho shape: (50653, 15)\n",
      "spin_scaling = False; input descr to exc shape: (50653, 13)\n",
      "eC.__call__, rho shape: (50653, 13)\n",
      "[8] (8,)\n",
      "(8, 8) (8, 8)\n",
      "Spin unpolarized make_rdm1()\n",
      "spin_scaling = True; input descr to exc shape: (50653, 15)\n",
      "eX.__call__, rho shape: (50653, 15)\n",
      "spin_scaling = False; input descr to exc shape: (50653, 13)\n",
      "eC.__call__, rho shape: (50653, 13)\n",
      "[8] (8,)\n",
      "(8, 8) (8, 8)\n",
      "Spin unpolarized make_rdm1()\n",
      "Batch Loss = 0.30595281455695855\n",
      "step=52, epoch_train_loss=0.30595281455695855\n"
     ]
    },
    {
     "name": "stderr",
     "output_type": "stream",
     "text": [
      "WARNING:jax._src.xla_bridge:CUDA backend failed to initialize: Found CUDA version 12010, but JAX was built against version 12030, which is newer. The copy of CUDA that is installed must be at least as new as the version against which JAX was built. (Set TF_CPP_MIN_LOG_LEVEL=0 and rerun for more info.)\n"
     ]
    },
    {
     "name": "stdout",
     "output_type": "stream",
     "text": [
      "Epoch 53\n",
      "Epoch 53 :: Batch 0/1\n",
      "spin_scaling = True; input descr to exc shape: (50653, 15)\n",
      "eX.__call__, rho shape: (50653, 15)\n",
      "spin_scaling = False; input descr to exc shape: (50653, 13)\n",
      "eC.__call__, rho shape: (50653, 13)\n",
      "[8] (8,)\n",
      "(8, 8) (8, 8)\n",
      "Spin unpolarized make_rdm1()\n",
      "spin_scaling = True; input descr to exc shape: (50653, 15)\n",
      "eX.__call__, rho shape: (50653, 15)\n",
      "spin_scaling = False; input descr to exc shape: (50653, 13)\n",
      "eC.__call__, rho shape: (50653, 13)\n",
      "[8] (8,)\n",
      "(8, 8) (8, 8)\n",
      "Spin unpolarized make_rdm1()\n",
      "Batch Loss = 0.30425236311399106\n",
      "step=53, epoch_train_loss=0.30425236311399106\n"
     ]
    },
    {
     "name": "stderr",
     "output_type": "stream",
     "text": [
      "WARNING:jax._src.xla_bridge:CUDA backend failed to initialize: Found CUDA version 12010, but JAX was built against version 12030, which is newer. The copy of CUDA that is installed must be at least as new as the version against which JAX was built. (Set TF_CPP_MIN_LOG_LEVEL=0 and rerun for more info.)\n"
     ]
    },
    {
     "name": "stdout",
     "output_type": "stream",
     "text": [
      "Epoch 54\n",
      "Epoch 54 :: Batch 0/1\n",
      "spin_scaling = True; input descr to exc shape: (50653, 15)\n",
      "eX.__call__, rho shape: (50653, 15)\n",
      "spin_scaling = False; input descr to exc shape: (50653, 13)\n",
      "eC.__call__, rho shape: (50653, 13)\n",
      "[8] (8,)\n",
      "(8, 8) (8, 8)\n",
      "Spin unpolarized make_rdm1()\n",
      "spin_scaling = True; input descr to exc shape: (50653, 15)\n",
      "eX.__call__, rho shape: (50653, 15)\n",
      "spin_scaling = False; input descr to exc shape: (50653, 13)\n",
      "eC.__call__, rho shape: (50653, 13)\n",
      "[8] (8,)\n",
      "(8, 8) (8, 8)\n",
      "Spin unpolarized make_rdm1()\n",
      "Batch Loss = 0.3033005104624704\n",
      "step=54, epoch_train_loss=0.3033005104624704\n",
      "Epoch 55\n"
     ]
    },
    {
     "name": "stderr",
     "output_type": "stream",
     "text": [
      "WARNING:jax._src.xla_bridge:CUDA backend failed to initialize: Found CUDA version 12010, but JAX was built against version 12030, which is newer. The copy of CUDA that is installed must be at least as new as the version against which JAX was built. (Set TF_CPP_MIN_LOG_LEVEL=0 and rerun for more info.)\n"
     ]
    },
    {
     "name": "stdout",
     "output_type": "stream",
     "text": [
      "Epoch 55 :: Batch 0/1\n",
      "spin_scaling = True; input descr to exc shape: (50653, 15)\n",
      "eX.__call__, rho shape: (50653, 15)\n",
      "spin_scaling = False; input descr to exc shape: (50653, 13)\n",
      "eC.__call__, rho shape: (50653, 13)\n",
      "[8] (8,)\n",
      "(8, 8) (8, 8)\n",
      "Spin unpolarized make_rdm1()\n",
      "spin_scaling = True; input descr to exc shape: (50653, 15)\n",
      "eX.__call__, rho shape: (50653, 15)\n",
      "spin_scaling = False; input descr to exc shape: (50653, 13)\n",
      "eC.__call__, rho shape: (50653, 13)\n",
      "[8] (8,)\n",
      "(8, 8) (8, 8)\n",
      "Spin unpolarized make_rdm1()\n",
      "Batch Loss = 0.3020007513767131\n",
      "step=55, epoch_train_loss=0.3020007513767131\n"
     ]
    },
    {
     "name": "stderr",
     "output_type": "stream",
     "text": [
      "WARNING:jax._src.xla_bridge:CUDA backend failed to initialize: Found CUDA version 12010, but JAX was built against version 12030, which is newer. The copy of CUDA that is installed must be at least as new as the version against which JAX was built. (Set TF_CPP_MIN_LOG_LEVEL=0 and rerun for more info.)\n"
     ]
    },
    {
     "name": "stdout",
     "output_type": "stream",
     "text": [
      "Epoch 56\n",
      "Epoch 56 :: Batch 0/1\n",
      "spin_scaling = True; input descr to exc shape: (50653, 15)\n",
      "eX.__call__, rho shape: (50653, 15)\n",
      "spin_scaling = False; input descr to exc shape: (50653, 13)\n",
      "eC.__call__, rho shape: (50653, 13)\n",
      "[8] (8,)\n",
      "(8, 8) (8, 8)\n",
      "Spin unpolarized make_rdm1()\n",
      "spin_scaling = True; input descr to exc shape: (50653, 15)\n",
      "eX.__call__, rho shape: (50653, 15)\n",
      "spin_scaling = False; input descr to exc shape: (50653, 13)\n",
      "eC.__call__, rho shape: (50653, 13)\n",
      "[8] (8,)\n",
      "(8, 8) (8, 8)\n",
      "Spin unpolarized make_rdm1()\n",
      "Batch Loss = 0.30092225879546897\n",
      "step=56, epoch_train_loss=0.30092225879546897\n",
      "Epoch 57\n"
     ]
    },
    {
     "name": "stderr",
     "output_type": "stream",
     "text": [
      "WARNING:jax._src.xla_bridge:CUDA backend failed to initialize: Found CUDA version 12010, but JAX was built against version 12030, which is newer. The copy of CUDA that is installed must be at least as new as the version against which JAX was built. (Set TF_CPP_MIN_LOG_LEVEL=0 and rerun for more info.)\n"
     ]
    },
    {
     "name": "stdout",
     "output_type": "stream",
     "text": [
      "Epoch 57 :: Batch 0/1\n",
      "spin_scaling = True; input descr to exc shape: (50653, 15)\n",
      "eX.__call__, rho shape: (50653, 15)\n",
      "spin_scaling = False; input descr to exc shape: (50653, 13)\n",
      "eC.__call__, rho shape: (50653, 13)\n",
      "[8] (8,)\n",
      "(8, 8) (8, 8)\n",
      "Spin unpolarized make_rdm1()\n",
      "spin_scaling = True; input descr to exc shape: (50653, 15)\n",
      "eX.__call__, rho shape: (50653, 15)\n",
      "spin_scaling = False; input descr to exc shape: (50653, 13)\n",
      "eC.__call__, rho shape: (50653, 13)\n",
      "[8] (8,)\n",
      "(8, 8) (8, 8)\n",
      "Spin unpolarized make_rdm1()\n",
      "Batch Loss = 0.30069418584301943\n",
      "step=57, epoch_train_loss=0.30069418584301943\n"
     ]
    },
    {
     "name": "stderr",
     "output_type": "stream",
     "text": [
      "WARNING:jax._src.xla_bridge:CUDA backend failed to initialize: Found CUDA version 12010, but JAX was built against version 12030, which is newer. The copy of CUDA that is installed must be at least as new as the version against which JAX was built. (Set TF_CPP_MIN_LOG_LEVEL=0 and rerun for more info.)\n"
     ]
    },
    {
     "name": "stdout",
     "output_type": "stream",
     "text": [
      "Epoch 58\n",
      "Epoch 58 :: Batch 0/1\n",
      "spin_scaling = True; input descr to exc shape: (50653, 15)\n",
      "eX.__call__, rho shape: (50653, 15)\n",
      "spin_scaling = False; input descr to exc shape: (50653, 13)\n",
      "eC.__call__, rho shape: (50653, 13)\n",
      "[8] (8,)\n",
      "(8, 8) (8, 8)\n",
      "Spin unpolarized make_rdm1()\n",
      "spin_scaling = True; input descr to exc shape: (50653, 15)\n",
      "eX.__call__, rho shape: (50653, 15)\n",
      "spin_scaling = False; input descr to exc shape: (50653, 13)\n",
      "eC.__call__, rho shape: (50653, 13)\n",
      "[8] (8,)\n",
      "(8, 8) (8, 8)\n",
      "Spin unpolarized make_rdm1()\n",
      "Batch Loss = 0.3014046742214125\n",
      "step=58, epoch_train_loss=0.3014046742214125\n",
      "Epoch 59\n"
     ]
    },
    {
     "name": "stderr",
     "output_type": "stream",
     "text": [
      "WARNING:jax._src.xla_bridge:CUDA backend failed to initialize: Found CUDA version 12010, but JAX was built against version 12030, which is newer. The copy of CUDA that is installed must be at least as new as the version against which JAX was built. (Set TF_CPP_MIN_LOG_LEVEL=0 and rerun for more info.)\n"
     ]
    },
    {
     "name": "stdout",
     "output_type": "stream",
     "text": [
      "Epoch 59 :: Batch 0/1\n",
      "spin_scaling = True; input descr to exc shape: (50653, 15)\n",
      "eX.__call__, rho shape: (50653, 15)\n",
      "spin_scaling = False; input descr to exc shape: (50653, 13)\n",
      "eC.__call__, rho shape: (50653, 13)\n",
      "[8] (8,)\n",
      "(8, 8) (8, 8)\n",
      "Spin unpolarized make_rdm1()\n",
      "spin_scaling = True; input descr to exc shape: (50653, 15)\n",
      "eX.__call__, rho shape: (50653, 15)\n",
      "spin_scaling = False; input descr to exc shape: (50653, 13)\n",
      "eC.__call__, rho shape: (50653, 13)\n",
      "[8] (8,)\n",
      "(8, 8) (8, 8)\n",
      "Spin unpolarized make_rdm1()\n",
      "Batch Loss = 0.2928459613241101\n",
      "step=59, epoch_train_loss=0.2928459613241101\n"
     ]
    },
    {
     "name": "stderr",
     "output_type": "stream",
     "text": [
      "WARNING:jax._src.xla_bridge:CUDA backend failed to initialize: Found CUDA version 12010, but JAX was built against version 12030, which is newer. The copy of CUDA that is installed must be at least as new as the version against which JAX was built. (Set TF_CPP_MIN_LOG_LEVEL=0 and rerun for more info.)\n"
     ]
    },
    {
     "name": "stdout",
     "output_type": "stream",
     "text": [
      "Epoch 60\n",
      "Epoch 60 :: Batch 0/1\n",
      "spin_scaling = True; input descr to exc shape: (50653, 15)\n",
      "eX.__call__, rho shape: (50653, 15)\n",
      "spin_scaling = False; input descr to exc shape: (50653, 13)\n",
      "eC.__call__, rho shape: (50653, 13)\n",
      "[8] (8,)\n",
      "(8, 8) (8, 8)\n",
      "Spin unpolarized make_rdm1()\n",
      "spin_scaling = True; input descr to exc shape: (50653, 15)\n",
      "eX.__call__, rho shape: (50653, 15)\n",
      "spin_scaling = False; input descr to exc shape: (50653, 13)\n",
      "eC.__call__, rho shape: (50653, 13)\n",
      "[8] (8,)\n",
      "(8, 8) (8, 8)\n",
      "Spin unpolarized make_rdm1()\n",
      "Batch Loss = 0.3010092032662015\n",
      "step=60, epoch_train_loss=0.3010092032662015\n",
      "Epoch 61\n"
     ]
    },
    {
     "name": "stderr",
     "output_type": "stream",
     "text": [
      "WARNING:jax._src.xla_bridge:CUDA backend failed to initialize: Found CUDA version 12010, but JAX was built against version 12030, which is newer. The copy of CUDA that is installed must be at least as new as the version against which JAX was built. (Set TF_CPP_MIN_LOG_LEVEL=0 and rerun for more info.)\n"
     ]
    },
    {
     "name": "stdout",
     "output_type": "stream",
     "text": [
      "Epoch 61 :: Batch 0/1\n",
      "spin_scaling = True; input descr to exc shape: (50653, 15)\n",
      "eX.__call__, rho shape: (50653, 15)\n",
      "spin_scaling = False; input descr to exc shape: (50653, 13)\n",
      "eC.__call__, rho shape: (50653, 13)\n",
      "[8] (8,)\n",
      "(8, 8) (8, 8)\n",
      "Spin unpolarized make_rdm1()\n",
      "spin_scaling = True; input descr to exc shape: (50653, 15)\n",
      "eX.__call__, rho shape: (50653, 15)\n",
      "spin_scaling = False; input descr to exc shape: (50653, 13)\n",
      "eC.__call__, rho shape: (50653, 13)\n",
      "[8] (8,)\n",
      "(8, 8) (8, 8)\n",
      "Spin unpolarized make_rdm1()\n",
      "Batch Loss = 0.30237567058377546\n",
      "step=61, epoch_train_loss=0.30237567058377546\n"
     ]
    },
    {
     "name": "stderr",
     "output_type": "stream",
     "text": [
      "WARNING:jax._src.xla_bridge:CUDA backend failed to initialize: Found CUDA version 12010, but JAX was built against version 12030, which is newer. The copy of CUDA that is installed must be at least as new as the version against which JAX was built. (Set TF_CPP_MIN_LOG_LEVEL=0 and rerun for more info.)\n"
     ]
    },
    {
     "name": "stdout",
     "output_type": "stream",
     "text": [
      "Epoch 62\n",
      "Epoch 62 :: Batch 0/1\n",
      "spin_scaling = True; input descr to exc shape: (50653, 15)\n",
      "eX.__call__, rho shape: (50653, 15)\n",
      "spin_scaling = False; input descr to exc shape: (50653, 13)\n",
      "eC.__call__, rho shape: (50653, 13)\n",
      "[8] (8,)\n",
      "(8, 8) (8, 8)\n",
      "Spin unpolarized make_rdm1()\n",
      "spin_scaling = True; input descr to exc shape: (50653, 15)\n",
      "eX.__call__, rho shape: (50653, 15)\n",
      "spin_scaling = False; input descr to exc shape: (50653, 13)\n",
      "eC.__call__, rho shape: (50653, 13)\n",
      "[8] (8,)\n",
      "(8, 8) (8, 8)\n",
      "Spin unpolarized make_rdm1()\n",
      "Batch Loss = 0.29619127300480086\n",
      "step=62, epoch_train_loss=0.29619127300480086\n"
     ]
    },
    {
     "name": "stderr",
     "output_type": "stream",
     "text": [
      "WARNING:jax._src.xla_bridge:CUDA backend failed to initialize: Found CUDA version 12010, but JAX was built against version 12030, which is newer. The copy of CUDA that is installed must be at least as new as the version against which JAX was built. (Set TF_CPP_MIN_LOG_LEVEL=0 and rerun for more info.)\n"
     ]
    },
    {
     "name": "stdout",
     "output_type": "stream",
     "text": [
      "Epoch 63\n",
      "Epoch 63 :: Batch 0/1\n",
      "spin_scaling = True; input descr to exc shape: (50653, 15)\n",
      "eX.__call__, rho shape: (50653, 15)\n",
      "spin_scaling = False; input descr to exc shape: (50653, 13)\n",
      "eC.__call__, rho shape: (50653, 13)\n",
      "[8] (8,)\n",
      "(8, 8) (8, 8)\n",
      "Spin unpolarized make_rdm1()\n",
      "spin_scaling = True; input descr to exc shape: (50653, 15)\n",
      "eX.__call__, rho shape: (50653, 15)\n",
      "spin_scaling = False; input descr to exc shape: (50653, 13)\n",
      "eC.__call__, rho shape: (50653, 13)\n",
      "[8] (8,)\n",
      "(8, 8) (8, 8)\n",
      "Spin unpolarized make_rdm1()\n",
      "Batch Loss = 0.29656569482024175\n",
      "step=63, epoch_train_loss=0.29656569482024175\n"
     ]
    },
    {
     "name": "stderr",
     "output_type": "stream",
     "text": [
      "WARNING:jax._src.xla_bridge:CUDA backend failed to initialize: Found CUDA version 12010, but JAX was built against version 12030, which is newer. The copy of CUDA that is installed must be at least as new as the version against which JAX was built. (Set TF_CPP_MIN_LOG_LEVEL=0 and rerun for more info.)\n"
     ]
    },
    {
     "name": "stdout",
     "output_type": "stream",
     "text": [
      "Epoch 64\n",
      "Epoch 64 :: Batch 0/1\n",
      "spin_scaling = True; input descr to exc shape: (50653, 15)\n",
      "eX.__call__, rho shape: (50653, 15)\n",
      "spin_scaling = False; input descr to exc shape: (50653, 13)\n",
      "eC.__call__, rho shape: (50653, 13)\n",
      "[8] (8,)\n",
      "(8, 8) (8, 8)\n",
      "Spin unpolarized make_rdm1()\n",
      "spin_scaling = True; input descr to exc shape: (50653, 15)\n",
      "eX.__call__, rho shape: (50653, 15)\n",
      "spin_scaling = False; input descr to exc shape: (50653, 13)\n",
      "eC.__call__, rho shape: (50653, 13)\n",
      "[8] (8,)\n",
      "(8, 8) (8, 8)\n",
      "Spin unpolarized make_rdm1()\n",
      "Batch Loss = 0.28691747902784903\n",
      "step=64, epoch_train_loss=0.28691747902784903\n"
     ]
    },
    {
     "name": "stderr",
     "output_type": "stream",
     "text": [
      "WARNING:jax._src.xla_bridge:CUDA backend failed to initialize: Found CUDA version 12010, but JAX was built against version 12030, which is newer. The copy of CUDA that is installed must be at least as new as the version against which JAX was built. (Set TF_CPP_MIN_LOG_LEVEL=0 and rerun for more info.)\n"
     ]
    },
    {
     "name": "stdout",
     "output_type": "stream",
     "text": [
      "Epoch 65\n",
      "Epoch 65 :: Batch 0/1\n",
      "spin_scaling = True; input descr to exc shape: (50653, 15)\n",
      "eX.__call__, rho shape: (50653, 15)\n",
      "spin_scaling = False; input descr to exc shape: (50653, 13)\n",
      "eC.__call__, rho shape: (50653, 13)\n",
      "[8] (8,)\n",
      "(8, 8) (8, 8)\n",
      "Spin unpolarized make_rdm1()\n",
      "spin_scaling = True; input descr to exc shape: (50653, 15)\n",
      "eX.__call__, rho shape: (50653, 15)\n",
      "spin_scaling = False; input descr to exc shape: (50653, 13)\n",
      "eC.__call__, rho shape: (50653, 13)\n",
      "[8] (8,)\n",
      "(8, 8) (8, 8)\n",
      "Spin unpolarized make_rdm1()\n",
      "Batch Loss = 0.28017033717402406\n",
      "step=65, epoch_train_loss=0.28017033717402406\n",
      "Epoch 66\n"
     ]
    },
    {
     "name": "stderr",
     "output_type": "stream",
     "text": [
      "WARNING:jax._src.xla_bridge:CUDA backend failed to initialize: Found CUDA version 12010, but JAX was built against version 12030, which is newer. The copy of CUDA that is installed must be at least as new as the version against which JAX was built. (Set TF_CPP_MIN_LOG_LEVEL=0 and rerun for more info.)\n"
     ]
    },
    {
     "name": "stdout",
     "output_type": "stream",
     "text": [
      "Epoch 66 :: Batch 0/1\n",
      "spin_scaling = True; input descr to exc shape: (50653, 15)\n",
      "eX.__call__, rho shape: (50653, 15)\n",
      "spin_scaling = False; input descr to exc shape: (50653, 13)\n",
      "eC.__call__, rho shape: (50653, 13)\n",
      "[8] (8,)\n",
      "(8, 8) (8, 8)\n",
      "Spin unpolarized make_rdm1()\n",
      "spin_scaling = True; input descr to exc shape: (50653, 15)\n",
      "eX.__call__, rho shape: (50653, 15)\n",
      "spin_scaling = False; input descr to exc shape: (50653, 13)\n",
      "eC.__call__, rho shape: (50653, 13)\n",
      "[8] (8,)\n",
      "(8, 8) (8, 8)\n",
      "Spin unpolarized make_rdm1()\n",
      "Batch Loss = 0.28071857147446844\n",
      "step=66, epoch_train_loss=0.28071857147446844\n",
      "Epoch 67\n"
     ]
    },
    {
     "name": "stderr",
     "output_type": "stream",
     "text": [
      "WARNING:jax._src.xla_bridge:CUDA backend failed to initialize: Found CUDA version 12010, but JAX was built against version 12030, which is newer. The copy of CUDA that is installed must be at least as new as the version against which JAX was built. (Set TF_CPP_MIN_LOG_LEVEL=0 and rerun for more info.)\n"
     ]
    },
    {
     "name": "stdout",
     "output_type": "stream",
     "text": [
      "Epoch 67 :: Batch 0/1\n",
      "spin_scaling = True; input descr to exc shape: (50653, 15)\n",
      "eX.__call__, rho shape: (50653, 15)\n",
      "spin_scaling = False; input descr to exc shape: (50653, 13)\n",
      "eC.__call__, rho shape: (50653, 13)\n",
      "[8] (8,)\n",
      "(8, 8) (8, 8)\n",
      "Spin unpolarized make_rdm1()\n",
      "spin_scaling = True; input descr to exc shape: (50653, 15)\n",
      "eX.__call__, rho shape: (50653, 15)\n",
      "spin_scaling = False; input descr to exc shape: (50653, 13)\n",
      "eC.__call__, rho shape: (50653, 13)\n",
      "[8] (8,)\n",
      "(8, 8) (8, 8)\n",
      "Spin unpolarized make_rdm1()\n",
      "Batch Loss = 0.28068669766386667\n",
      "step=67, epoch_train_loss=0.28068669766386667\n",
      "Epoch 68\n"
     ]
    },
    {
     "name": "stderr",
     "output_type": "stream",
     "text": [
      "WARNING:jax._src.xla_bridge:CUDA backend failed to initialize: Found CUDA version 12010, but JAX was built against version 12030, which is newer. The copy of CUDA that is installed must be at least as new as the version against which JAX was built. (Set TF_CPP_MIN_LOG_LEVEL=0 and rerun for more info.)\n"
     ]
    },
    {
     "name": "stdout",
     "output_type": "stream",
     "text": [
      "Epoch 68 :: Batch 0/1\n",
      "spin_scaling = True; input descr to exc shape: (50653, 15)\n",
      "eX.__call__, rho shape: (50653, 15)\n",
      "spin_scaling = False; input descr to exc shape: (50653, 13)\n",
      "eC.__call__, rho shape: (50653, 13)\n",
      "[8] (8,)\n",
      "(8, 8) (8, 8)\n",
      "Spin unpolarized make_rdm1()\n",
      "spin_scaling = True; input descr to exc shape: (50653, 15)\n",
      "eX.__call__, rho shape: (50653, 15)\n",
      "spin_scaling = False; input descr to exc shape: (50653, 13)\n",
      "eC.__call__, rho shape: (50653, 13)\n",
      "[8] (8,)\n",
      "(8, 8) (8, 8)\n",
      "Spin unpolarized make_rdm1()\n",
      "Batch Loss = 0.2806725067150211\n",
      "step=68, epoch_train_loss=0.2806725067150211\n",
      "Epoch 69\n"
     ]
    },
    {
     "name": "stderr",
     "output_type": "stream",
     "text": [
      "WARNING:jax._src.xla_bridge:CUDA backend failed to initialize: Found CUDA version 12010, but JAX was built against version 12030, which is newer. The copy of CUDA that is installed must be at least as new as the version against which JAX was built. (Set TF_CPP_MIN_LOG_LEVEL=0 and rerun for more info.)\n"
     ]
    },
    {
     "name": "stdout",
     "output_type": "stream",
     "text": [
      "Epoch 69 :: Batch 0/1\n",
      "spin_scaling = True; input descr to exc shape: (50653, 15)\n",
      "eX.__call__, rho shape: (50653, 15)\n",
      "spin_scaling = False; input descr to exc shape: (50653, 13)\n",
      "eC.__call__, rho shape: (50653, 13)\n",
      "[8] (8,)\n",
      "(8, 8) (8, 8)\n",
      "Spin unpolarized make_rdm1()\n",
      "spin_scaling = True; input descr to exc shape: (50653, 15)\n",
      "eX.__call__, rho shape: (50653, 15)\n",
      "spin_scaling = False; input descr to exc shape: (50653, 13)\n",
      "eC.__call__, rho shape: (50653, 13)\n",
      "[8] (8,)\n",
      "(8, 8) (8, 8)\n",
      "Spin unpolarized make_rdm1()\n",
      "Batch Loss = 0.2702692623514027\n",
      "step=69, epoch_train_loss=0.2702692623514027\n",
      "Epoch 70\n"
     ]
    },
    {
     "name": "stderr",
     "output_type": "stream",
     "text": [
      "WARNING:jax._src.xla_bridge:CUDA backend failed to initialize: Found CUDA version 12010, but JAX was built against version 12030, which is newer. The copy of CUDA that is installed must be at least as new as the version against which JAX was built. (Set TF_CPP_MIN_LOG_LEVEL=0 and rerun for more info.)\n"
     ]
    },
    {
     "name": "stdout",
     "output_type": "stream",
     "text": [
      "Epoch 70 :: Batch 0/1\n",
      "spin_scaling = True; input descr to exc shape: (50653, 15)\n",
      "eX.__call__, rho shape: (50653, 15)\n",
      "spin_scaling = False; input descr to exc shape: (50653, 13)\n",
      "eC.__call__, rho shape: (50653, 13)\n",
      "[8] (8,)\n",
      "(8, 8) (8, 8)\n",
      "Spin unpolarized make_rdm1()\n",
      "spin_scaling = True; input descr to exc shape: (50653, 15)\n",
      "eX.__call__, rho shape: (50653, 15)\n",
      "spin_scaling = False; input descr to exc shape: (50653, 13)\n",
      "eC.__call__, rho shape: (50653, 13)\n",
      "[8] (8,)\n",
      "(8, 8) (8, 8)\n",
      "Spin unpolarized make_rdm1()\n",
      "Batch Loss = 0.2807247548247447\n",
      "step=70, epoch_train_loss=0.2807247548247447\n",
      "Epoch 71\n"
     ]
    },
    {
     "name": "stderr",
     "output_type": "stream",
     "text": [
      "WARNING:jax._src.xla_bridge:CUDA backend failed to initialize: Found CUDA version 12010, but JAX was built against version 12030, which is newer. The copy of CUDA that is installed must be at least as new as the version against which JAX was built. (Set TF_CPP_MIN_LOG_LEVEL=0 and rerun for more info.)\n"
     ]
    },
    {
     "name": "stdout",
     "output_type": "stream",
     "text": [
      "Epoch 71 :: Batch 0/1\n",
      "spin_scaling = True; input descr to exc shape: (50653, 15)\n",
      "eX.__call__, rho shape: (50653, 15)\n",
      "spin_scaling = False; input descr to exc shape: (50653, 13)\n",
      "eC.__call__, rho shape: (50653, 13)\n",
      "[8] (8,)\n",
      "(8, 8) (8, 8)\n",
      "Spin unpolarized make_rdm1()\n",
      "spin_scaling = True; input descr to exc shape: (50653, 15)\n",
      "eX.__call__, rho shape: (50653, 15)\n",
      "spin_scaling = False; input descr to exc shape: (50653, 13)\n",
      "eC.__call__, rho shape: (50653, 13)\n",
      "[8] (8,)\n",
      "(8, 8) (8, 8)\n",
      "Spin unpolarized make_rdm1()\n",
      "Batch Loss = 0.3099717263791111\n",
      "step=71, epoch_train_loss=0.3099717263791111\n",
      "Epoch 72\n"
     ]
    },
    {
     "name": "stderr",
     "output_type": "stream",
     "text": [
      "WARNING:jax._src.xla_bridge:CUDA backend failed to initialize: Found CUDA version 12010, but JAX was built against version 12030, which is newer. The copy of CUDA that is installed must be at least as new as the version against which JAX was built. (Set TF_CPP_MIN_LOG_LEVEL=0 and rerun for more info.)\n"
     ]
    },
    {
     "name": "stdout",
     "output_type": "stream",
     "text": [
      "Epoch 72 :: Batch 0/1\n",
      "spin_scaling = True; input descr to exc shape: (50653, 15)\n",
      "eX.__call__, rho shape: (50653, 15)\n",
      "spin_scaling = False; input descr to exc shape: (50653, 13)\n",
      "eC.__call__, rho shape: (50653, 13)\n",
      "[8] (8,)\n",
      "(8, 8) (8, 8)\n",
      "Spin unpolarized make_rdm1()\n",
      "spin_scaling = True; input descr to exc shape: (50653, 15)\n",
      "eX.__call__, rho shape: (50653, 15)\n",
      "spin_scaling = False; input descr to exc shape: (50653, 13)\n",
      "eC.__call__, rho shape: (50653, 13)\n",
      "[8] (8,)\n",
      "(8, 8) (8, 8)\n",
      "Spin unpolarized make_rdm1()\n",
      "Batch Loss = 0.2867556713952353\n",
      "step=72, epoch_train_loss=0.2867556713952353\n",
      "Epoch 73\n"
     ]
    },
    {
     "name": "stderr",
     "output_type": "stream",
     "text": [
      "WARNING:jax._src.xla_bridge:CUDA backend failed to initialize: Found CUDA version 12010, but JAX was built against version 12030, which is newer. The copy of CUDA that is installed must be at least as new as the version against which JAX was built. (Set TF_CPP_MIN_LOG_LEVEL=0 and rerun for more info.)\n"
     ]
    },
    {
     "name": "stdout",
     "output_type": "stream",
     "text": [
      "Epoch 73 :: Batch 0/1\n",
      "spin_scaling = True; input descr to exc shape: (50653, 15)\n",
      "eX.__call__, rho shape: (50653, 15)\n",
      "spin_scaling = False; input descr to exc shape: (50653, 13)\n",
      "eC.__call__, rho shape: (50653, 13)\n",
      "[8] (8,)\n",
      "(8, 8) (8, 8)\n",
      "Spin unpolarized make_rdm1()\n",
      "spin_scaling = True; input descr to exc shape: (50653, 15)\n",
      "eX.__call__, rho shape: (50653, 15)\n",
      "spin_scaling = False; input descr to exc shape: (50653, 13)\n",
      "eC.__call__, rho shape: (50653, 13)\n",
      "[8] (8,)\n",
      "(8, 8) (8, 8)\n",
      "Spin unpolarized make_rdm1()\n",
      "Batch Loss = 0.2733361991581045\n",
      "step=73, epoch_train_loss=0.2733361991581045\n"
     ]
    },
    {
     "name": "stderr",
     "output_type": "stream",
     "text": [
      "WARNING:jax._src.xla_bridge:CUDA backend failed to initialize: Found CUDA version 12010, but JAX was built against version 12030, which is newer. The copy of CUDA that is installed must be at least as new as the version against which JAX was built. (Set TF_CPP_MIN_LOG_LEVEL=0 and rerun for more info.)\n"
     ]
    },
    {
     "name": "stdout",
     "output_type": "stream",
     "text": [
      "Epoch 74\n",
      "Epoch 74 :: Batch 0/1\n",
      "spin_scaling = True; input descr to exc shape: (50653, 15)\n",
      "eX.__call__, rho shape: (50653, 15)\n",
      "spin_scaling = False; input descr to exc shape: (50653, 13)\n",
      "eC.__call__, rho shape: (50653, 13)\n",
      "[8] (8,)\n",
      "(8, 8) (8, 8)\n",
      "Spin unpolarized make_rdm1()\n",
      "spin_scaling = True; input descr to exc shape: (50653, 15)\n",
      "eX.__call__, rho shape: (50653, 15)\n",
      "spin_scaling = False; input descr to exc shape: (50653, 13)\n",
      "eC.__call__, rho shape: (50653, 13)\n",
      "[8] (8,)\n",
      "(8, 8) (8, 8)\n",
      "Spin unpolarized make_rdm1()\n",
      "Batch Loss = 0.36366449955773383\n",
      "step=74, epoch_train_loss=0.36366449955773383\n",
      "Epoch 75\n"
     ]
    },
    {
     "name": "stderr",
     "output_type": "stream",
     "text": [
      "WARNING:jax._src.xla_bridge:CUDA backend failed to initialize: Found CUDA version 12010, but JAX was built against version 12030, which is newer. The copy of CUDA that is installed must be at least as new as the version against which JAX was built. (Set TF_CPP_MIN_LOG_LEVEL=0 and rerun for more info.)\n"
     ]
    },
    {
     "name": "stdout",
     "output_type": "stream",
     "text": [
      "Epoch 75 :: Batch 0/1\n",
      "spin_scaling = True; input descr to exc shape: (50653, 15)\n",
      "eX.__call__, rho shape: (50653, 15)\n",
      "spin_scaling = False; input descr to exc shape: (50653, 13)\n",
      "eC.__call__, rho shape: (50653, 13)\n",
      "[8] (8,)\n",
      "(8, 8) (8, 8)\n",
      "Spin unpolarized make_rdm1()\n",
      "spin_scaling = True; input descr to exc shape: (50653, 15)\n",
      "eX.__call__, rho shape: (50653, 15)\n",
      "spin_scaling = False; input descr to exc shape: (50653, 13)\n",
      "eC.__call__, rho shape: (50653, 13)\n",
      "[8] (8,)\n",
      "(8, 8) (8, 8)\n",
      "Spin unpolarized make_rdm1()\n",
      "Batch Loss = 0.28084870312446175\n",
      "step=75, epoch_train_loss=0.28084870312446175\n",
      "Epoch 76\n"
     ]
    },
    {
     "name": "stderr",
     "output_type": "stream",
     "text": [
      "WARNING:jax._src.xla_bridge:CUDA backend failed to initialize: Found CUDA version 12010, but JAX was built against version 12030, which is newer. The copy of CUDA that is installed must be at least as new as the version against which JAX was built. (Set TF_CPP_MIN_LOG_LEVEL=0 and rerun for more info.)\n"
     ]
    },
    {
     "name": "stdout",
     "output_type": "stream",
     "text": [
      "Epoch 76 :: Batch 0/1\n",
      "spin_scaling = True; input descr to exc shape: (50653, 15)\n",
      "eX.__call__, rho shape: (50653, 15)\n",
      "spin_scaling = False; input descr to exc shape: (50653, 13)\n",
      "eC.__call__, rho shape: (50653, 13)\n",
      "[8] (8,)\n",
      "(8, 8) (8, 8)\n",
      "Spin unpolarized make_rdm1()\n",
      "spin_scaling = True; input descr to exc shape: (50653, 15)\n",
      "eX.__call__, rho shape: (50653, 15)\n",
      "spin_scaling = False; input descr to exc shape: (50653, 13)\n",
      "eC.__call__, rho shape: (50653, 13)\n",
      "[8] (8,)\n",
      "(8, 8) (8, 8)\n",
      "Spin unpolarized make_rdm1()\n",
      "Batch Loss = 0.3886445385646464\n",
      "step=76, epoch_train_loss=0.3886445385646464\n"
     ]
    },
    {
     "name": "stderr",
     "output_type": "stream",
     "text": [
      "WARNING:jax._src.xla_bridge:CUDA backend failed to initialize: Found CUDA version 12010, but JAX was built against version 12030, which is newer. The copy of CUDA that is installed must be at least as new as the version against which JAX was built. (Set TF_CPP_MIN_LOG_LEVEL=0 and rerun for more info.)\n"
     ]
    },
    {
     "name": "stdout",
     "output_type": "stream",
     "text": [
      "Epoch 77\n",
      "Epoch 77 :: Batch 0/1\n",
      "spin_scaling = True; input descr to exc shape: (50653, 15)\n",
      "eX.__call__, rho shape: (50653, 15)\n",
      "spin_scaling = False; input descr to exc shape: (50653, 13)\n",
      "eC.__call__, rho shape: (50653, 13)\n",
      "[8] (8,)\n",
      "(8, 8) (8, 8)\n",
      "Spin unpolarized make_rdm1()\n",
      "spin_scaling = True; input descr to exc shape: (50653, 15)\n",
      "eX.__call__, rho shape: (50653, 15)\n",
      "spin_scaling = False; input descr to exc shape: (50653, 13)\n",
      "eC.__call__, rho shape: (50653, 13)\n",
      "[8] (8,)\n",
      "(8, 8) (8, 8)\n",
      "Spin unpolarized make_rdm1()\n",
      "Batch Loss = 0.39220589863964306\n",
      "step=77, epoch_train_loss=0.39220589863964306\n"
     ]
    },
    {
     "name": "stderr",
     "output_type": "stream",
     "text": [
      "WARNING:jax._src.xla_bridge:CUDA backend failed to initialize: Found CUDA version 12010, but JAX was built against version 12030, which is newer. The copy of CUDA that is installed must be at least as new as the version against which JAX was built. (Set TF_CPP_MIN_LOG_LEVEL=0 and rerun for more info.)\n"
     ]
    },
    {
     "name": "stdout",
     "output_type": "stream",
     "text": [
      "Epoch 78\n",
      "Epoch 78 :: Batch 0/1\n",
      "spin_scaling = True; input descr to exc shape: (50653, 15)\n",
      "eX.__call__, rho shape: (50653, 15)\n",
      "spin_scaling = False; input descr to exc shape: (50653, 13)\n",
      "eC.__call__, rho shape: (50653, 13)\n",
      "[8] (8,)\n",
      "(8, 8) (8, 8)\n",
      "Spin unpolarized make_rdm1()\n",
      "spin_scaling = True; input descr to exc shape: (50653, 15)\n",
      "eX.__call__, rho shape: (50653, 15)\n",
      "spin_scaling = False; input descr to exc shape: (50653, 13)\n",
      "eC.__call__, rho shape: (50653, 13)\n",
      "[8] (8,)\n",
      "(8, 8) (8, 8)\n",
      "Spin unpolarized make_rdm1()\n",
      "Batch Loss = 0.3807865444621845\n",
      "step=78, epoch_train_loss=0.3807865444621845\n"
     ]
    },
    {
     "name": "stderr",
     "output_type": "stream",
     "text": [
      "WARNING:jax._src.xla_bridge:CUDA backend failed to initialize: Found CUDA version 12010, but JAX was built against version 12030, which is newer. The copy of CUDA that is installed must be at least as new as the version against which JAX was built. (Set TF_CPP_MIN_LOG_LEVEL=0 and rerun for more info.)\n"
     ]
    },
    {
     "name": "stdout",
     "output_type": "stream",
     "text": [
      "Epoch 79\n",
      "Epoch 79 :: Batch 0/1\n",
      "spin_scaling = True; input descr to exc shape: (50653, 15)\n",
      "eX.__call__, rho shape: (50653, 15)\n",
      "spin_scaling = False; input descr to exc shape: (50653, 13)\n",
      "eC.__call__, rho shape: (50653, 13)\n",
      "[8] (8,)\n",
      "(8, 8) (8, 8)\n",
      "Spin unpolarized make_rdm1()\n",
      "spin_scaling = True; input descr to exc shape: (50653, 15)\n",
      "eX.__call__, rho shape: (50653, 15)\n",
      "spin_scaling = False; input descr to exc shape: (50653, 13)\n",
      "eC.__call__, rho shape: (50653, 13)\n",
      "[8] (8,)\n",
      "(8, 8) (8, 8)\n",
      "Spin unpolarized make_rdm1()\n",
      "Batch Loss = 0.40280841738843387\n",
      "step=79, epoch_train_loss=0.40280841738843387\n"
     ]
    },
    {
     "name": "stderr",
     "output_type": "stream",
     "text": [
      "WARNING:jax._src.xla_bridge:CUDA backend failed to initialize: Found CUDA version 12010, but JAX was built against version 12030, which is newer. The copy of CUDA that is installed must be at least as new as the version against which JAX was built. (Set TF_CPP_MIN_LOG_LEVEL=0 and rerun for more info.)\n"
     ]
    },
    {
     "name": "stdout",
     "output_type": "stream",
     "text": [
      "Epoch 80\n",
      "Epoch 80 :: Batch 0/1\n",
      "spin_scaling = True; input descr to exc shape: (50653, 15)\n",
      "eX.__call__, rho shape: (50653, 15)\n",
      "spin_scaling = False; input descr to exc shape: (50653, 13)\n",
      "eC.__call__, rho shape: (50653, 13)\n",
      "[8] (8,)\n",
      "(8, 8) (8, 8)\n",
      "Spin unpolarized make_rdm1()\n",
      "spin_scaling = True; input descr to exc shape: (50653, 15)\n",
      "eX.__call__, rho shape: (50653, 15)\n",
      "spin_scaling = False; input descr to exc shape: (50653, 13)\n",
      "eC.__call__, rho shape: (50653, 13)\n",
      "[8] (8,)\n",
      "(8, 8) (8, 8)\n",
      "Spin unpolarized make_rdm1()\n",
      "Batch Loss = 0.37853138103418305\n",
      "step=80, epoch_train_loss=0.37853138103418305\n"
     ]
    },
    {
     "name": "stderr",
     "output_type": "stream",
     "text": [
      "WARNING:jax._src.xla_bridge:CUDA backend failed to initialize: Found CUDA version 12010, but JAX was built against version 12030, which is newer. The copy of CUDA that is installed must be at least as new as the version against which JAX was built. (Set TF_CPP_MIN_LOG_LEVEL=0 and rerun for more info.)\n"
     ]
    },
    {
     "name": "stdout",
     "output_type": "stream",
     "text": [
      "Epoch 81\n",
      "Epoch 81 :: Batch 0/1\n",
      "spin_scaling = True; input descr to exc shape: (50653, 15)\n",
      "eX.__call__, rho shape: (50653, 15)\n",
      "spin_scaling = False; input descr to exc shape: (50653, 13)\n",
      "eC.__call__, rho shape: (50653, 13)\n",
      "[8] (8,)\n",
      "(8, 8) (8, 8)\n",
      "Spin unpolarized make_rdm1()\n",
      "spin_scaling = True; input descr to exc shape: (50653, 15)\n",
      "eX.__call__, rho shape: (50653, 15)\n",
      "spin_scaling = False; input descr to exc shape: (50653, 13)\n",
      "eC.__call__, rho shape: (50653, 13)\n",
      "[8] (8,)\n",
      "(8, 8) (8, 8)\n",
      "Spin unpolarized make_rdm1()\n",
      "Batch Loss = 0.3841224298997583\n",
      "step=81, epoch_train_loss=0.3841224298997583\n"
     ]
    },
    {
     "name": "stderr",
     "output_type": "stream",
     "text": [
      "WARNING:jax._src.xla_bridge:CUDA backend failed to initialize: Found CUDA version 12010, but JAX was built against version 12030, which is newer. The copy of CUDA that is installed must be at least as new as the version against which JAX was built. (Set TF_CPP_MIN_LOG_LEVEL=0 and rerun for more info.)\n"
     ]
    },
    {
     "name": "stdout",
     "output_type": "stream",
     "text": [
      "Epoch 82\n",
      "Epoch 82 :: Batch 0/1\n",
      "spin_scaling = True; input descr to exc shape: (50653, 15)\n",
      "eX.__call__, rho shape: (50653, 15)\n",
      "spin_scaling = False; input descr to exc shape: (50653, 13)\n",
      "eC.__call__, rho shape: (50653, 13)\n",
      "[8] (8,)\n",
      "(8, 8) (8, 8)\n",
      "Spin unpolarized make_rdm1()\n",
      "spin_scaling = True; input descr to exc shape: (50653, 15)\n",
      "eX.__call__, rho shape: (50653, 15)\n",
      "spin_scaling = False; input descr to exc shape: (50653, 13)\n",
      "eC.__call__, rho shape: (50653, 13)\n",
      "[8] (8,)\n",
      "(8, 8) (8, 8)\n",
      "Spin unpolarized make_rdm1()\n",
      "Batch Loss = 0.38666701301511197\n",
      "step=82, epoch_train_loss=0.38666701301511197\n",
      "Epoch 83\n"
     ]
    },
    {
     "name": "stderr",
     "output_type": "stream",
     "text": [
      "WARNING:jax._src.xla_bridge:CUDA backend failed to initialize: Found CUDA version 12010, but JAX was built against version 12030, which is newer. The copy of CUDA that is installed must be at least as new as the version against which JAX was built. (Set TF_CPP_MIN_LOG_LEVEL=0 and rerun for more info.)\n"
     ]
    },
    {
     "name": "stdout",
     "output_type": "stream",
     "text": [
      "Epoch 83 :: Batch 0/1\n",
      "spin_scaling = True; input descr to exc shape: (50653, 15)\n",
      "eX.__call__, rho shape: (50653, 15)\n",
      "spin_scaling = False; input descr to exc shape: (50653, 13)\n",
      "eC.__call__, rho shape: (50653, 13)\n",
      "[8] (8,)\n",
      "(8, 8) (8, 8)\n",
      "Spin unpolarized make_rdm1()\n",
      "spin_scaling = True; input descr to exc shape: (50653, 15)\n",
      "eX.__call__, rho shape: (50653, 15)\n",
      "spin_scaling = False; input descr to exc shape: (50653, 13)\n",
      "eC.__call__, rho shape: (50653, 13)\n",
      "[8] (8,)\n",
      "(8, 8) (8, 8)\n",
      "Spin unpolarized make_rdm1()\n",
      "Batch Loss = 0.3855342524278309\n",
      "step=83, epoch_train_loss=0.3855342524278309\n"
     ]
    },
    {
     "name": "stderr",
     "output_type": "stream",
     "text": [
      "WARNING:jax._src.xla_bridge:CUDA backend failed to initialize: Found CUDA version 12010, but JAX was built against version 12030, which is newer. The copy of CUDA that is installed must be at least as new as the version against which JAX was built. (Set TF_CPP_MIN_LOG_LEVEL=0 and rerun for more info.)\n"
     ]
    },
    {
     "name": "stdout",
     "output_type": "stream",
     "text": [
      "Epoch 84\n",
      "Epoch 84 :: Batch 0/1\n",
      "spin_scaling = True; input descr to exc shape: (50653, 15)\n",
      "eX.__call__, rho shape: (50653, 15)\n",
      "spin_scaling = False; input descr to exc shape: (50653, 13)\n",
      "eC.__call__, rho shape: (50653, 13)\n",
      "[8] (8,)\n",
      "(8, 8) (8, 8)\n",
      "Spin unpolarized make_rdm1()\n",
      "spin_scaling = True; input descr to exc shape: (50653, 15)\n",
      "eX.__call__, rho shape: (50653, 15)\n",
      "spin_scaling = False; input descr to exc shape: (50653, 13)\n",
      "eC.__call__, rho shape: (50653, 13)\n",
      "[8] (8,)\n",
      "(8, 8) (8, 8)\n",
      "Spin unpolarized make_rdm1()\n",
      "Batch Loss = 0.385353309335162\n",
      "step=84, epoch_train_loss=0.385353309335162\n",
      "Epoch 85\n"
     ]
    },
    {
     "name": "stderr",
     "output_type": "stream",
     "text": [
      "WARNING:jax._src.xla_bridge:CUDA backend failed to initialize: Found CUDA version 12010, but JAX was built against version 12030, which is newer. The copy of CUDA that is installed must be at least as new as the version against which JAX was built. (Set TF_CPP_MIN_LOG_LEVEL=0 and rerun for more info.)\n"
     ]
    },
    {
     "name": "stdout",
     "output_type": "stream",
     "text": [
      "Epoch 85 :: Batch 0/1\n",
      "spin_scaling = True; input descr to exc shape: (50653, 15)\n",
      "eX.__call__, rho shape: (50653, 15)\n",
      "spin_scaling = False; input descr to exc shape: (50653, 13)\n",
      "eC.__call__, rho shape: (50653, 13)\n",
      "[8] (8,)\n",
      "(8, 8) (8, 8)\n",
      "Spin unpolarized make_rdm1()\n",
      "spin_scaling = True; input descr to exc shape: (50653, 15)\n",
      "eX.__call__, rho shape: (50653, 15)\n",
      "spin_scaling = False; input descr to exc shape: (50653, 13)\n",
      "eC.__call__, rho shape: (50653, 13)\n",
      "[8] (8,)\n",
      "(8, 8) (8, 8)\n",
      "Spin unpolarized make_rdm1()\n",
      "Batch Loss = 0.38622873921909306\n",
      "step=85, epoch_train_loss=0.38622873921909306\n"
     ]
    },
    {
     "name": "stderr",
     "output_type": "stream",
     "text": [
      "WARNING:jax._src.xla_bridge:CUDA backend failed to initialize: Found CUDA version 12010, but JAX was built against version 12030, which is newer. The copy of CUDA that is installed must be at least as new as the version against which JAX was built. (Set TF_CPP_MIN_LOG_LEVEL=0 and rerun for more info.)\n"
     ]
    },
    {
     "name": "stdout",
     "output_type": "stream",
     "text": [
      "Epoch 86\n",
      "Epoch 86 :: Batch 0/1\n",
      "spin_scaling = True; input descr to exc shape: (50653, 15)\n",
      "eX.__call__, rho shape: (50653, 15)\n",
      "spin_scaling = False; input descr to exc shape: (50653, 13)\n",
      "eC.__call__, rho shape: (50653, 13)\n",
      "[8] (8,)\n",
      "(8, 8) (8, 8)\n",
      "Spin unpolarized make_rdm1()\n",
      "spin_scaling = True; input descr to exc shape: (50653, 15)\n",
      "eX.__call__, rho shape: (50653, 15)\n",
      "spin_scaling = False; input descr to exc shape: (50653, 13)\n",
      "eC.__call__, rho shape: (50653, 13)\n",
      "[8] (8,)\n",
      "(8, 8) (8, 8)\n",
      "Spin unpolarized make_rdm1()\n",
      "Batch Loss = 0.38580736846097197\n",
      "step=86, epoch_train_loss=0.38580736846097197\n"
     ]
    },
    {
     "name": "stderr",
     "output_type": "stream",
     "text": [
      "WARNING:jax._src.xla_bridge:CUDA backend failed to initialize: Found CUDA version 12010, but JAX was built against version 12030, which is newer. The copy of CUDA that is installed must be at least as new as the version against which JAX was built. (Set TF_CPP_MIN_LOG_LEVEL=0 and rerun for more info.)\n"
     ]
    },
    {
     "name": "stdout",
     "output_type": "stream",
     "text": [
      "Epoch 87\n",
      "Epoch 87 :: Batch 0/1\n",
      "spin_scaling = True; input descr to exc shape: (50653, 15)\n",
      "eX.__call__, rho shape: (50653, 15)\n",
      "spin_scaling = False; input descr to exc shape: (50653, 13)\n",
      "eC.__call__, rho shape: (50653, 13)\n",
      "[8] (8,)\n",
      "(8, 8) (8, 8)\n",
      "Spin unpolarized make_rdm1()\n",
      "spin_scaling = True; input descr to exc shape: (50653, 15)\n",
      "eX.__call__, rho shape: (50653, 15)\n",
      "spin_scaling = False; input descr to exc shape: (50653, 13)\n",
      "eC.__call__, rho shape: (50653, 13)\n",
      "[8] (8,)\n",
      "(8, 8) (8, 8)\n",
      "Spin unpolarized make_rdm1()\n",
      "Batch Loss = 0.38554838129105384\n",
      "step=87, epoch_train_loss=0.38554838129105384\n"
     ]
    },
    {
     "name": "stderr",
     "output_type": "stream",
     "text": [
      "WARNING:jax._src.xla_bridge:CUDA backend failed to initialize: Found CUDA version 12010, but JAX was built against version 12030, which is newer. The copy of CUDA that is installed must be at least as new as the version against which JAX was built. (Set TF_CPP_MIN_LOG_LEVEL=0 and rerun for more info.)\n"
     ]
    },
    {
     "name": "stdout",
     "output_type": "stream",
     "text": [
      "Epoch 88\n",
      "Epoch 88 :: Batch 0/1\n",
      "spin_scaling = True; input descr to exc shape: (50653, 15)\n",
      "eX.__call__, rho shape: (50653, 15)\n",
      "spin_scaling = False; input descr to exc shape: (50653, 13)\n",
      "eC.__call__, rho shape: (50653, 13)\n",
      "[8] (8,)\n",
      "(8, 8) (8, 8)\n",
      "Spin unpolarized make_rdm1()\n",
      "spin_scaling = True; input descr to exc shape: (50653, 15)\n",
      "eX.__call__, rho shape: (50653, 15)\n",
      "spin_scaling = False; input descr to exc shape: (50653, 13)\n",
      "eC.__call__, rho shape: (50653, 13)\n",
      "[8] (8,)\n",
      "(8, 8) (8, 8)\n",
      "Spin unpolarized make_rdm1()\n",
      "Batch Loss = 0.3818559086771125\n",
      "step=88, epoch_train_loss=0.3818559086771125\n",
      "Epoch 89\n"
     ]
    },
    {
     "name": "stderr",
     "output_type": "stream",
     "text": [
      "WARNING:jax._src.xla_bridge:CUDA backend failed to initialize: Found CUDA version 12010, but JAX was built against version 12030, which is newer. The copy of CUDA that is installed must be at least as new as the version against which JAX was built. (Set TF_CPP_MIN_LOG_LEVEL=0 and rerun for more info.)\n"
     ]
    },
    {
     "name": "stdout",
     "output_type": "stream",
     "text": [
      "Epoch 89 :: Batch 0/1\n",
      "spin_scaling = True; input descr to exc shape: (50653, 15)\n",
      "eX.__call__, rho shape: (50653, 15)\n",
      "spin_scaling = False; input descr to exc shape: (50653, 13)\n",
      "eC.__call__, rho shape: (50653, 13)\n",
      "[8] (8,)\n",
      "(8, 8) (8, 8)\n",
      "Spin unpolarized make_rdm1()\n",
      "spin_scaling = True; input descr to exc shape: (50653, 15)\n",
      "eX.__call__, rho shape: (50653, 15)\n",
      "spin_scaling = False; input descr to exc shape: (50653, 13)\n",
      "eC.__call__, rho shape: (50653, 13)\n",
      "[8] (8,)\n",
      "(8, 8) (8, 8)\n",
      "Spin unpolarized make_rdm1()\n",
      "Batch Loss = 0.3826523751268387\n",
      "step=89, epoch_train_loss=0.3826523751268387\n",
      "Epoch 90\n"
     ]
    },
    {
     "name": "stderr",
     "output_type": "stream",
     "text": [
      "WARNING:jax._src.xla_bridge:CUDA backend failed to initialize: Found CUDA version 12010, but JAX was built against version 12030, which is newer. The copy of CUDA that is installed must be at least as new as the version against which JAX was built. (Set TF_CPP_MIN_LOG_LEVEL=0 and rerun for more info.)\n"
     ]
    },
    {
     "name": "stdout",
     "output_type": "stream",
     "text": [
      "Epoch 90 :: Batch 0/1\n",
      "spin_scaling = True; input descr to exc shape: (50653, 15)\n",
      "eX.__call__, rho shape: (50653, 15)\n",
      "spin_scaling = False; input descr to exc shape: (50653, 13)\n",
      "eC.__call__, rho shape: (50653, 13)\n",
      "[8] (8,)\n",
      "(8, 8) (8, 8)\n",
      "Spin unpolarized make_rdm1()\n",
      "spin_scaling = True; input descr to exc shape: (50653, 15)\n",
      "eX.__call__, rho shape: (50653, 15)\n",
      "spin_scaling = False; input descr to exc shape: (50653, 13)\n",
      "eC.__call__, rho shape: (50653, 13)\n",
      "[8] (8,)\n",
      "(8, 8) (8, 8)\n",
      "Spin unpolarized make_rdm1()\n",
      "Batch Loss = 0.3771854796188794\n",
      "step=90, epoch_train_loss=0.3771854796188794\n",
      "Epoch 91\n"
     ]
    },
    {
     "name": "stderr",
     "output_type": "stream",
     "text": [
      "WARNING:jax._src.xla_bridge:CUDA backend failed to initialize: Found CUDA version 12010, but JAX was built against version 12030, which is newer. The copy of CUDA that is installed must be at least as new as the version against which JAX was built. (Set TF_CPP_MIN_LOG_LEVEL=0 and rerun for more info.)\n"
     ]
    },
    {
     "name": "stdout",
     "output_type": "stream",
     "text": [
      "Epoch 91 :: Batch 0/1\n",
      "spin_scaling = True; input descr to exc shape: (50653, 15)\n",
      "eX.__call__, rho shape: (50653, 15)\n",
      "spin_scaling = False; input descr to exc shape: (50653, 13)\n",
      "eC.__call__, rho shape: (50653, 13)\n",
      "[8] (8,)\n",
      "(8, 8) (8, 8)\n",
      "Spin unpolarized make_rdm1()\n",
      "spin_scaling = True; input descr to exc shape: (50653, 15)\n",
      "eX.__call__, rho shape: (50653, 15)\n",
      "spin_scaling = False; input descr to exc shape: (50653, 13)\n",
      "eC.__call__, rho shape: (50653, 13)\n",
      "[8] (8,)\n",
      "(8, 8) (8, 8)\n",
      "Spin unpolarized make_rdm1()\n",
      "Batch Loss = 0.3885763823863504\n",
      "step=91, epoch_train_loss=0.3885763823863504\n",
      "Epoch 92\n"
     ]
    },
    {
     "name": "stderr",
     "output_type": "stream",
     "text": [
      "WARNING:jax._src.xla_bridge:CUDA backend failed to initialize: Found CUDA version 12010, but JAX was built against version 12030, which is newer. The copy of CUDA that is installed must be at least as new as the version against which JAX was built. (Set TF_CPP_MIN_LOG_LEVEL=0 and rerun for more info.)\n"
     ]
    },
    {
     "name": "stdout",
     "output_type": "stream",
     "text": [
      "Epoch 92 :: Batch 0/1\n",
      "spin_scaling = True; input descr to exc shape: (50653, 15)\n",
      "eX.__call__, rho shape: (50653, 15)\n",
      "spin_scaling = False; input descr to exc shape: (50653, 13)\n",
      "eC.__call__, rho shape: (50653, 13)\n",
      "[8] (8,)\n",
      "(8, 8) (8, 8)\n",
      "Spin unpolarized make_rdm1()\n",
      "spin_scaling = True; input descr to exc shape: (50653, 15)\n",
      "eX.__call__, rho shape: (50653, 15)\n",
      "spin_scaling = False; input descr to exc shape: (50653, 13)\n",
      "eC.__call__, rho shape: (50653, 13)\n",
      "[8] (8,)\n",
      "(8, 8) (8, 8)\n",
      "Spin unpolarized make_rdm1()\n",
      "Batch Loss = 0.4125739615115338\n",
      "step=92, epoch_train_loss=0.4125739615115338\n",
      "Epoch 93\n"
     ]
    },
    {
     "name": "stderr",
     "output_type": "stream",
     "text": [
      "WARNING:jax._src.xla_bridge:CUDA backend failed to initialize: Found CUDA version 12010, but JAX was built against version 12030, which is newer. The copy of CUDA that is installed must be at least as new as the version against which JAX was built. (Set TF_CPP_MIN_LOG_LEVEL=0 and rerun for more info.)\n"
     ]
    },
    {
     "name": "stdout",
     "output_type": "stream",
     "text": [
      "Epoch 93 :: Batch 0/1\n",
      "spin_scaling = True; input descr to exc shape: (50653, 15)\n",
      "eX.__call__, rho shape: (50653, 15)\n",
      "spin_scaling = False; input descr to exc shape: (50653, 13)\n",
      "eC.__call__, rho shape: (50653, 13)\n",
      "[8] (8,)\n",
      "(8, 8) (8, 8)\n",
      "Spin unpolarized make_rdm1()\n",
      "spin_scaling = True; input descr to exc shape: (50653, 15)\n",
      "eX.__call__, rho shape: (50653, 15)\n",
      "spin_scaling = False; input descr to exc shape: (50653, 13)\n",
      "eC.__call__, rho shape: (50653, 13)\n",
      "[8] (8,)\n",
      "(8, 8) (8, 8)\n",
      "Spin unpolarized make_rdm1()\n",
      "Batch Loss = 0.41832873049599284\n",
      "step=93, epoch_train_loss=0.41832873049599284\n",
      "Epoch 94\n"
     ]
    },
    {
     "name": "stderr",
     "output_type": "stream",
     "text": [
      "WARNING:jax._src.xla_bridge:CUDA backend failed to initialize: Found CUDA version 12010, but JAX was built against version 12030, which is newer. The copy of CUDA that is installed must be at least as new as the version against which JAX was built. (Set TF_CPP_MIN_LOG_LEVEL=0 and rerun for more info.)\n"
     ]
    },
    {
     "name": "stdout",
     "output_type": "stream",
     "text": [
      "Epoch 94 :: Batch 0/1\n",
      "spin_scaling = True; input descr to exc shape: (50653, 15)\n",
      "eX.__call__, rho shape: (50653, 15)\n",
      "spin_scaling = False; input descr to exc shape: (50653, 13)\n",
      "eC.__call__, rho shape: (50653, 13)\n",
      "[8] (8,)\n",
      "(8, 8) (8, 8)\n",
      "Spin unpolarized make_rdm1()\n",
      "spin_scaling = True; input descr to exc shape: (50653, 15)\n",
      "eX.__call__, rho shape: (50653, 15)\n",
      "spin_scaling = False; input descr to exc shape: (50653, 13)\n",
      "eC.__call__, rho shape: (50653, 13)\n",
      "[8] (8,)\n",
      "(8, 8) (8, 8)\n",
      "Spin unpolarized make_rdm1()\n",
      "Batch Loss = 0.3920365683848088\n",
      "step=94, epoch_train_loss=0.3920365683848088\n",
      "Epoch 95\n"
     ]
    },
    {
     "name": "stderr",
     "output_type": "stream",
     "text": [
      "WARNING:jax._src.xla_bridge:CUDA backend failed to initialize: Found CUDA version 12010, but JAX was built against version 12030, which is newer. The copy of CUDA that is installed must be at least as new as the version against which JAX was built. (Set TF_CPP_MIN_LOG_LEVEL=0 and rerun for more info.)\n"
     ]
    },
    {
     "name": "stdout",
     "output_type": "stream",
     "text": [
      "Epoch 95 :: Batch 0/1\n",
      "spin_scaling = True; input descr to exc shape: (50653, 15)\n",
      "eX.__call__, rho shape: (50653, 15)\n",
      "spin_scaling = False; input descr to exc shape: (50653, 13)\n",
      "eC.__call__, rho shape: (50653, 13)\n",
      "[8] (8,)\n",
      "(8, 8) (8, 8)\n",
      "Spin unpolarized make_rdm1()\n",
      "spin_scaling = True; input descr to exc shape: (50653, 15)\n",
      "eX.__call__, rho shape: (50653, 15)\n",
      "spin_scaling = False; input descr to exc shape: (50653, 13)\n",
      "eC.__call__, rho shape: (50653, 13)\n",
      "[8] (8,)\n",
      "(8, 8) (8, 8)\n",
      "Spin unpolarized make_rdm1()\n",
      "Batch Loss = 0.3982178711837696\n",
      "step=95, epoch_train_loss=0.3982178711837696\n"
     ]
    },
    {
     "name": "stderr",
     "output_type": "stream",
     "text": [
      "WARNING:jax._src.xla_bridge:CUDA backend failed to initialize: Found CUDA version 12010, but JAX was built against version 12030, which is newer. The copy of CUDA that is installed must be at least as new as the version against which JAX was built. (Set TF_CPP_MIN_LOG_LEVEL=0 and rerun for more info.)\n"
     ]
    },
    {
     "name": "stdout",
     "output_type": "stream",
     "text": [
      "Epoch 96\n",
      "Epoch 96 :: Batch 0/1\n",
      "spin_scaling = True; input descr to exc shape: (50653, 15)\n",
      "eX.__call__, rho shape: (50653, 15)\n",
      "spin_scaling = False; input descr to exc shape: (50653, 13)\n",
      "eC.__call__, rho shape: (50653, 13)\n",
      "[8] (8,)\n",
      "(8, 8) (8, 8)\n",
      "Spin unpolarized make_rdm1()\n",
      "spin_scaling = True; input descr to exc shape: (50653, 15)\n",
      "eX.__call__, rho shape: (50653, 15)\n",
      "spin_scaling = False; input descr to exc shape: (50653, 13)\n",
      "eC.__call__, rho shape: (50653, 13)\n",
      "[8] (8,)\n",
      "(8, 8) (8, 8)\n",
      "Spin unpolarized make_rdm1()\n",
      "Batch Loss = 0.41750413006409315\n",
      "step=96, epoch_train_loss=0.41750413006409315\n"
     ]
    },
    {
     "name": "stderr",
     "output_type": "stream",
     "text": [
      "WARNING:jax._src.xla_bridge:CUDA backend failed to initialize: Found CUDA version 12010, but JAX was built against version 12030, which is newer. The copy of CUDA that is installed must be at least as new as the version against which JAX was built. (Set TF_CPP_MIN_LOG_LEVEL=0 and rerun for more info.)\n"
     ]
    },
    {
     "name": "stdout",
     "output_type": "stream",
     "text": [
      "Epoch 97\n",
      "Epoch 97 :: Batch 0/1\n",
      "spin_scaling = True; input descr to exc shape: (50653, 15)\n",
      "eX.__call__, rho shape: (50653, 15)\n",
      "spin_scaling = False; input descr to exc shape: (50653, 13)\n",
      "eC.__call__, rho shape: (50653, 13)\n",
      "[8] (8,)\n",
      "(8, 8) (8, 8)\n",
      "Spin unpolarized make_rdm1()\n",
      "spin_scaling = True; input descr to exc shape: (50653, 15)\n",
      "eX.__call__, rho shape: (50653, 15)\n",
      "spin_scaling = False; input descr to exc shape: (50653, 13)\n",
      "eC.__call__, rho shape: (50653, 13)\n",
      "[8] (8,)\n",
      "(8, 8) (8, 8)\n",
      "Spin unpolarized make_rdm1()\n",
      "Batch Loss = 0.4235645793009659\n",
      "step=97, epoch_train_loss=0.4235645793009659\n",
      "Epoch 98\n"
     ]
    },
    {
     "name": "stderr",
     "output_type": "stream",
     "text": [
      "WARNING:jax._src.xla_bridge:CUDA backend failed to initialize: Found CUDA version 12010, but JAX was built against version 12030, which is newer. The copy of CUDA that is installed must be at least as new as the version against which JAX was built. (Set TF_CPP_MIN_LOG_LEVEL=0 and rerun for more info.)\n"
     ]
    },
    {
     "name": "stdout",
     "output_type": "stream",
     "text": [
      "Epoch 98 :: Batch 0/1\n",
      "spin_scaling = True; input descr to exc shape: (50653, 15)\n",
      "eX.__call__, rho shape: (50653, 15)\n",
      "spin_scaling = False; input descr to exc shape: (50653, 13)\n",
      "eC.__call__, rho shape: (50653, 13)\n",
      "[8] (8,)\n",
      "(8, 8) (8, 8)\n",
      "Spin unpolarized make_rdm1()\n",
      "spin_scaling = True; input descr to exc shape: (50653, 15)\n",
      "eX.__call__, rho shape: (50653, 15)\n",
      "spin_scaling = False; input descr to exc shape: (50653, 13)\n",
      "eC.__call__, rho shape: (50653, 13)\n",
      "[8] (8,)\n",
      "(8, 8) (8, 8)\n",
      "Spin unpolarized make_rdm1()\n",
      "Batch Loss = 0.41200606814120877\n",
      "step=98, epoch_train_loss=0.41200606814120877\n",
      "Epoch 99\n"
     ]
    },
    {
     "name": "stderr",
     "output_type": "stream",
     "text": [
      "WARNING:jax._src.xla_bridge:CUDA backend failed to initialize: Found CUDA version 12010, but JAX was built against version 12030, which is newer. The copy of CUDA that is installed must be at least as new as the version against which JAX was built. (Set TF_CPP_MIN_LOG_LEVEL=0 and rerun for more info.)\n"
     ]
    },
    {
     "name": "stdout",
     "output_type": "stream",
     "text": [
      "Epoch 99 :: Batch 0/1\n",
      "spin_scaling = True; input descr to exc shape: (50653, 15)\n",
      "eX.__call__, rho shape: (50653, 15)\n",
      "spin_scaling = False; input descr to exc shape: (50653, 13)\n",
      "eC.__call__, rho shape: (50653, 13)\n",
      "[8] (8,)\n",
      "(8, 8) (8, 8)\n",
      "Spin unpolarized make_rdm1()\n",
      "spin_scaling = True; input descr to exc shape: (50653, 15)\n",
      "eX.__call__, rho shape: (50653, 15)\n",
      "spin_scaling = False; input descr to exc shape: (50653, 13)\n",
      "eC.__call__, rho shape: (50653, 13)\n",
      "[8] (8,)\n",
      "(8, 8) (8, 8)\n",
      "Spin unpolarized make_rdm1()\n",
      "Batch Loss = 0.4068303319267468\n",
      "step=99, epoch_train_loss=0.4068303319267468\n"
     ]
    }
   ],
   "source": [
    "xct = xce.train.xcTrainer(model=nlxc, optim=optax.adamw(1e-2), steps=100, loss = Band_gap_1shot_loss(), do_jit=False)\n",
    "newm = xct(1, xct.model, ao_evals, gws, dms, eris, mo_occs, hcs, ss, ogds, [-1.17], mfs)"
   ]
  },
  {
   "cell_type": "code",
   "execution_count": 11,
   "id": "300d85a6-ba1d-4455-843b-addd058f9950",
   "metadata": {},
   "outputs": [
    {
     "name": "stdout",
     "output_type": "stream",
     "text": [
      "spin_scaling = True; input descr to exc shape: (50653, 15)\n",
      "eX.__call__, rho shape: (50653, 15)\n",
      "spin_scaling = False; input descr to exc shape: (50653, 13)\n",
      "eC.__call__, rho shape: (50653, 13)\n",
      "spin_scaling = True; input descr to exc shape: (50653, 15)\n",
      "eX.__call__, rho shape: (50653, 15)\n",
      "spin_scaling = False; input descr to exc shape: (50653, 13)\n",
      "eC.__call__, rho shape: (50653, 13)\n"
     ]
    }
   ],
   "source": [
    "e1 = nlxc(dms[0], ao_evals[0], gws[0], mfs[0])\n",
    "e2 = newm(dms[0], ao_evals[0], gws[0], mfs[0])"
   ]
  },
  {
   "cell_type": "code",
   "execution_count": 12,
   "id": "004a6b9c-a40d-4f0d-9aef-b0777f3605cc",
   "metadata": {},
   "outputs": [
    {
     "data": {
      "text/plain": [
       "(Array(-2.57218399, dtype=float64), Array(-2.80120857, dtype=float64))"
      ]
     },
     "execution_count": 12,
     "metadata": {},
     "output_type": "execute_result"
    }
   ],
   "source": [
    "e1, e2"
   ]
  },
  {
   "cell_type": "code",
   "execution_count": 13,
   "id": "185de39c-36fb-45fc-978a-07d512447734",
   "metadata": {},
   "outputs": [
    {
     "name": "stdout",
     "output_type": "stream",
     "text": [
      "spin_scaling = True; input descr to exc shape: (2, 50653, 3)\n",
      "eX.__call__, rho shape: (2, 50653, 3)\n",
      "spin_scaling = False; input descr to exc shape: (50653, 4)\n",
      "eC.__call__, rho shape: (50653, 4)\n",
      "[8] (8,)\n",
      "(8, 8) (8, 8)\n",
      "Spin unpolarized make_rdm1()\n",
      "spin_scaling = True; input descr to exc shape: (50653, 15)\n",
      "eX.__call__, rho shape: (50653, 15)\n",
      "spin_scaling = False; input descr to exc shape: (50653, 13)\n",
      "eC.__call__, rho shape: (50653, 13)\n",
      "[8] (8,)\n",
      "(8, 8) (8, 8)\n",
      "Spin unpolarized make_rdm1()\n"
     ]
    }
   ],
   "source": [
    "vgf1 = lambda x: xc(x, ao_evals[0], gws[0], mfs[0])\n",
    "vgf2 = lambda x: newm(x, ao_evals[0], gws[0], mfs[0])\n",
    "dm1, moe1, moc1 = xce.utils.get_dm_moe(dms[0], eris[0], vgf1, mo_occs[0], hcs[0], ss[0], ogds[0])\n",
    "dm2, moe2, moc2 = xce.utils.get_dm_moe(dms[0], eris[0], vgf2, mo_occs[0], hcs[0], ss[0], ogds[0])"
   ]
  },
  {
   "cell_type": "code",
   "execution_count": 14,
   "id": "35f21fe1-62b4-47e4-85dc-f8e05e4e1e04",
   "metadata": {},
   "outputs": [
    {
     "name": "stdout",
     "output_type": "stream",
     "text": [
      "[-6.57726192e-01 -7.60975504e-02 -3.70073735e-07  0.00000000e+00\n",
      "  1.02667394e-01  1.02667614e-01  3.18068487e-01  5.38626343e-01]\n",
      "[-0.7616238  -0.07574408 -0.06304773  0.          0.08494971  0.10176512\n",
      "  0.32993541  0.44945255]\n"
     ]
    }
   ],
   "source": [
    "print(moe1 - moe1[mf.mol.nelectron//2-1])\n",
    "print(moe2 - moe2[mf.mol.nelectron//2-1])"
   ]
  },
  {
   "cell_type": "code",
   "execution_count": null,
   "id": "1b1657c3-a5ca-49eb-858f-e16406ef6f68",
   "metadata": {},
   "outputs": [],
   "source": []
  },
  {
   "cell_type": "code",
   "execution_count": null,
   "id": "b64e0ab1-0990-44d5-a2ba-e3934e6f6974",
   "metadata": {},
   "outputs": [],
   "source": [
    "mf.mo_energy"
   ]
  },
  {
   "cell_type": "code",
   "execution_count": null,
   "id": "f2895974-966a-48ad-a316-aa7d8a00c067",
   "metadata": {},
   "outputs": [],
   "source": [
    "# vbmax = -99\n",
    "for en in b1[0]:\n",
    "    vb_k = en[cell.nelectron//2-1]\n",
    "    print('This vb_k', vb_k)\n",
    "    if vb_k > vbmax:\n",
    "        vbmax = vb_k\n",
    "e_kn = [en - vbmax for en in b1[0]]"
   ]
  },
  {
   "cell_type": "code",
   "execution_count": null,
   "id": "60a2bcc2-db28-48ef-84d9-cfc0350a003f",
   "metadata": {},
   "outputs": [],
   "source": [
    "e_kn"
   ]
  },
  {
   "cell_type": "code",
   "execution_count": null,
   "id": "9adec472-b1bc-4216-bbf4-de7bac8e738a",
   "metadata": {},
   "outputs": [],
   "source": [
    "mf2 = scfp.RHF(cell)\n",
    "e2 = mf2.kernel()"
   ]
  },
  {
   "cell_type": "code",
   "execution_count": null,
   "id": "75291bcf-b6a5-4a3f-8da6-f00f6f51d040",
   "metadata": {},
   "outputs": [],
   "source": []
  },
  {
   "cell_type": "code",
   "execution_count": null,
   "id": "f49f1729-208c-4e4a-ab20-0431456d85ad",
   "metadata": {},
   "outputs": [],
   "source": [
    "cell.nelectron//2-1"
   ]
  },
  {
   "cell_type": "code",
   "execution_count": null,
   "id": "0bdd8d73-5137-4baa-a176-80264f36fa20",
   "metadata": {},
   "outputs": [],
   "source": [
    "t1 = mf2.mo_energy \n",
    "t2 = mf2.mo_energy - mf2.mo_energy[cell.nelectron//2-1]"
   ]
  },
  {
   "cell_type": "code",
   "execution_count": null,
   "id": "e4101712-1117-4e90-94f5-bae263871d16",
   "metadata": {},
   "outputs": [],
   "source": [
    "t2[jnp.where(abs(t2[jnp.where( (t2 < 0) )[0]]) > 1e-4)[0]]"
   ]
  },
  {
   "cell_type": "code",
   "execution_count": null,
   "id": "f899b451-3656-4c75-a45e-0a20df32cbdf",
   "metadata": {},
   "outputs": [],
   "source": [
    "dm2 = mf2.make_rdm1()"
   ]
  },
  {
   "cell_type": "code",
   "execution_count": null,
   "id": "caa69796-1850-4df4-b3de-d1bfef5d5c43",
   "metadata": {},
   "outputs": [],
   "source": [
    "dmk = mf.make_rdm1()"
   ]
  },
  {
   "cell_type": "code",
   "execution_count": null,
   "id": "eac9677c-fe3b-425f-8eb9-2155743e80a2",
   "metadata": {},
   "outputs": [],
   "source": [
    "mpr = MPRester(api_key = '')\n",
    "mpid = 'mp-149'\n",
    "# ret = mpr.get_bandstructure_by_material_id(mpid)\n",
    "# rets = ret.structure.as_dict()\n",
    "ret = mpr.get_structure_by_material_id(mpid, conventional_unit_cell=False)\n",
    "rets = ret.as_dict()\n",
    "at_coor_xyz = [ (i['species'][0]['element'], [-j for j in i['xyz']]) for i in rets['sites']]\n",
    "at_coor_abc = [ (i['species'][0]['element'], [rets['lattice']['a']*j for j in i['abc']]) for i in rets['sites']]\n",
    "cella = -np.asarray(rets['lattice']['matrix'])"
   ]
  },
  {
   "cell_type": "code",
   "execution_count": null,
   "id": "a103cd73-3c48-4bf5-b8e7-36b0b3d6bd3c",
   "metadata": {},
   "outputs": [],
   "source": [
    "at_coor_xyz, cella"
   ]
  },
  {
   "cell_type": "code",
   "execution_count": null,
   "id": "9e8baf39-03fb-4817-a6a5-951620b7c4e5",
   "metadata": {},
   "outputs": [],
   "source": [
    "cell = gtop.Cell()\n",
    "cell.atom = at_coor_xyz\n",
    "cell.a = cella.T\n",
    "cell.basis = 'gth-szv'\n",
    "cell.pseudo = 'gth-pade'\n",
    "cell.exp_to_discard = 0.1\n",
    "cell.build()\n",
    "kpts = cell.make_kpts([2,2,2])\n",
    "mf = scfp.KRHF(cell, kpts=kpts)\n",
    "e = mf.kernel()"
   ]
  },
  {
   "cell_type": "code",
   "execution_count": null,
   "id": "78d30c1e-faf2-4dc6-bd4a-752a85c279a8",
   "metadata": {},
   "outputs": [],
   "source": [
    "cella"
   ]
  },
  {
   "cell_type": "code",
   "execution_count": null,
   "id": "0b246125-bf10-4a2f-9efa-359adf7bf76b",
   "metadata": {},
   "outputs": [],
   "source": []
  }
 ],
 "metadata": {
  "kernelspec": {
   "display_name": "Python 3 (ipykernel)",
   "language": "python",
   "name": "python3"
  },
  "language_info": {
   "codemirror_mode": {
    "name": "ipython",
    "version": 3
   },
   "file_extension": ".py",
   "mimetype": "text/x-python",
   "name": "python",
   "nbconvert_exporter": "python",
   "pygments_lexer": "ipython3",
   "version": "3.10.0"
  }
 },
 "nbformat": 4,
 "nbformat_minor": 5
}
